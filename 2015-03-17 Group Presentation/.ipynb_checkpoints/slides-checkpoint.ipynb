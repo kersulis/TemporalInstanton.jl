{
 "cells": [
  {
   "cell_type": "markdown",
   "metadata": {
    "slideshow": {
     "slide_type": "slide"
    }
   },
   "source": [
    "# Temporal Instanton Analysis\n",
    "## (Just the modeling bits)\n",
    "\n",
    "_Jonas Kersulis_\n",
    "\n",
    "_March 17, 2015_"
   ]
  },
  {
   "cell_type": "markdown",
   "metadata": {
    "slideshow": {
     "slide_type": "slide"
    }
   },
   "source": [
    "# Introduction\n",
    "\n",
    "_Picking up from last time:_\n",
    "\n",
    "> \"I don't care.\"\n",
    "\n",
    "~ Johhn Adams from ERCOT"
   ]
  },
  {
   "cell_type": "markdown",
   "metadata": {
    "slideshow": {
     "slide_type": "fragment"
    }
   },
   "source": [
    "* What is temporal instanton analysis?\n",
    "\n",
    "* Why is it better?\n",
    "\n",
    "* What makes it harder?"
   ]
  },
  {
   "cell_type": "markdown",
   "metadata": {
    "slideshow": {
     "slide_type": "subslide"
    }
   },
   "source": [
    "## What is temporal instanton analysis?"
   ]
  },
  {
   "cell_type": "markdown",
   "metadata": {
    "slideshow": {
     "slide_type": "fragment"
    }
   },
   "source": [
    "**Previous instanton analysis: instantaneous**\n",
    "\n",
    "* Minimize forecast deviations\n",
    "\n",
    "* Power balance\n",
    "\n",
    "* Single angle difference"
   ]
  },
  {
   "cell_type": "markdown",
   "metadata": {
    "slideshow": {
     "slide_type": "fragment"
    }
   },
   "source": [
    "**New framework: temporal**\n",
    "\n",
    "* Minimize forecast deviations across multiple time steps\n",
    "\n",
    "* Power balance\n",
    "\n",
    "* Line temperature constraint (heat added across multiple time steps)"
   ]
  },
  {
   "cell_type": "markdown",
   "metadata": {
    "slideshow": {
     "slide_type": "subslide"
    }
   },
   "source": [
    "## Why is it better?"
   ]
  },
  {
   "cell_type": "markdown",
   "metadata": {
    "slideshow": {
     "slide_type": "fragment"
    }
   },
   "source": [
    "_Line tripping is caused by heat-induced sag (IEEE Standard 738)._\n",
    "\n",
    "$\\to$ Inherently temporal."
   ]
  },
  {
   "cell_type": "markdown",
   "metadata": {
    "slideshow": {
     "slide_type": "fragment"
    }
   },
   "source": [
    "**Previous instanton analysis: instantaneous**\n",
    "\n",
    "* Find wind patterns that saturate a line _for an instant_"
   ]
  },
  {
   "cell_type": "markdown",
   "metadata": {
    "slideshow": {
     "slide_type": "fragment"
    }
   },
   "source": [
    "* Only problematic if pattern is _extreme_ or _persistent_\n",
    "    \n",
    "    * Not extreme: we are finding _likely_ wind patterns\n",
    "    \n",
    "    * Not necessarily persistent: the system changes"
   ]
  },
  {
   "cell_type": "markdown",
   "metadata": {
    "slideshow": {
     "slide_type": "fragment"
    }
   },
   "source": [
    "**New framework: temporal**\n",
    "\n",
    "* Find wind patterns that add heat over time to _induce sag_"
   ]
  },
  {
   "cell_type": "markdown",
   "metadata": {
    "slideshow": {
     "slide_type": "fragment"
    }
   },
   "source": [
    "* Accommodates changes in dispatch, ambient conditions, etc.\n",
    "\n",
    "    * Extreme: heat threshold known to cause excessive sag\n",
    "    \n",
    "    * Persistent: aware of system changes"
   ]
  },
  {
   "cell_type": "markdown",
   "metadata": {
    "slideshow": {
     "slide_type": "subslide"
    }
   },
   "source": [
    "## What makes it harder?"
   ]
  },
  {
   "cell_type": "markdown",
   "metadata": {
    "slideshow": {
     "slide_type": "fragment"
    }
   },
   "source": [
    "**Previous instanton analysis: instantaneous**\n",
    "\n",
    "Quadratic program with analytic solution."
   ]
  },
  {
   "cell_type": "markdown",
   "metadata": {
    "slideshow": {
     "slide_type": "fragment"
    }
   },
   "source": [
    "**New framework: temporal**\n",
    "\n",
    "Non-convex QCQP with multiple solutions."
   ]
  },
  {
   "cell_type": "markdown",
   "metadata": {
    "slideshow": {
     "slide_type": "slide"
    }
   },
   "source": [
    "# Remainder of talk\n",
    "\n",
    "* Review of instantaneous model\n",
    "\n",
    "* Thermal constraint\n",
    "\n",
    "* Temporal instanton model\n",
    "\n",
    "* Temporal optimization problem\n",
    "\n",
    "* _How we want to solve the problem_\n",
    "\n",
    "* Outstanding issues"
   ]
  },
  {
   "cell_type": "markdown",
   "metadata": {
    "slideshow": {
     "slide_type": "slide"
    }
   },
   "source": [
    "# Review of instantaneous model\n",
    "\n",
    "* Objective\n",
    "\n",
    "* System constraints\n",
    "\n",
    "* Strain constraint"
   ]
  },
  {
   "cell_type": "markdown",
   "metadata": {
    "slideshow": {
     "slide_type": "subslide"
    }
   },
   "source": [
    "**Objective:** minimize the normed distance between the vector of wind optimization variables and their forecast values.\n",
    "    \n",
    "\\begin{align}\n",
    "\\min & \\frac{1}{2} \\left( R - R^0 \\right)^\\top \\Lambda \\left( R - R^0 \\right)\n",
    "\\end{align}\n",
    "This quadratic objective ensures we find not just a dangerous pattern, but a *likely* dangerous pattern.\n",
    "\n",
    "(Note the covarianace matrix $\\Lambda$.)"
   ]
  },
  {
   "cell_type": "markdown",
   "metadata": {
    "slideshow": {
     "slide_type": "fragment"
    }
   },
   "source": [
    "**System constraints:**  power balance, angle reference, generator response parameter $\\alpha$.\n",
    "\n",
    "\\begin{align}\n",
    "\\text{subject to:}& \\\\\n",
    "\\sum_k( Y_{ik} \\theta_k) & = G_{i} + R_{i} - D_{i} && \\forall i \\in N \\\\\n",
    "G_i &= G_{i}^0 + k_i\\alpha && \\forall i \\in N_g \\\\\n",
    "\\theta_i & = 0 && \\text{ where bus $i$ is the angle reference} \\\\\n",
    "R_{i} &\\geq 0 && \\forall i \\in N_r \\\\\n",
    "R_{i} &= 0 && \\forall i \\in N\\backslash N_r\n",
    "\\end{align}"
   ]
  },
  {
   "cell_type": "markdown",
   "metadata": {
    "slideshow": {
     "slide_type": "fragment"
    }
   },
   "source": [
    "**Strain constraint:** We add one additional constraint to force a line to saturate.\n",
    "\n",
    "\\begin{align}\n",
    "\\theta_i - \\theta_k & = x_{ik} P_{ik}^{lim} && \\text{for each } (i,k) \\in G \\\\\n",
    "\\end{align}\n",
    "_RHS differs if we constrain approx. current magnitude instead._"
   ]
  },
  {
   "cell_type": "markdown",
   "metadata": {
    "slideshow": {
     "slide_type": "slide"
    }
   },
   "source": [
    "# Thermal constraint\n",
    "\n",
    "* Losses\n",
    "\n",
    "* Euler integration\n",
    "\n",
    "* Recursive relationship"
   ]
  },
  {
   "cell_type": "markdown",
   "metadata": {
    "slideshow": {
     "slide_type": "subslide"
    }
   },
   "source": [
    "## Losses\n",
    "\n",
    "Heat is a result of line losses."
   ]
  },
  {
   "cell_type": "markdown",
   "metadata": {
    "slideshow": {
     "slide_type": "fragment"
    }
   },
   "source": [
    "Starting with the AC line loss expression, Almassalkhi and Hiskens (2014) derived this relationship between line losses and voltage angle differences:\n",
    "\n",
    "\\begin{align}\n",
    "f_{ij}^{\\text{loss}} &\\approx r_{ij}\\left(\\frac{\\theta_{ij}}{x_{ij}}\\right)^2\n",
    "\\end{align}"
   ]
  },
  {
   "cell_type": "markdown",
   "metadata": {
    "slideshow": {
     "slide_type": "fragment"
    }
   },
   "source": [
    "\n",
    "This expression is predicated on three assumptions:\n",
    "\n",
    "1. Voltage magnitudes are all 1 pu\n",
    "\n",
    "2. Cosine approximately equal to its second-order Taylor expansion\n",
    "\n",
    "3. $x_{ij} \\geq 4r_{ij}$ (line reactance is at least four times as great as resistance)."
   ]
  },
  {
   "cell_type": "markdown",
   "metadata": {
    "slideshow": {
     "slide_type": "subslide"
    }
   },
   "source": [
    "## Euler integration\n",
    "\n",
    "Changes in line temperature are found by Euler integration:\n",
    "\n",
    "\\begin{align}\n",
    "\\Delta T_{ij}[t+1] &= \\tau_{ij}\\Delta T_{ij}[t] + \\rho_{ij}\\Delta f_{ij}^\\text{loss}[t] + \\delta_{ij}\\Delta d_{ij}[t]~,\n",
    "\\end{align}\n",
    "where $\\tau$, $\\bar{\\gamma}_c$, and $\\rho_{ij}$ are known (skipping definitions)."
   ]
  },
  {
   "cell_type": "markdown",
   "metadata": {
    "slideshow": {
     "slide_type": "fragment"
    }
   },
   "source": [
    "Recursive relationship between temperature at time $t+1$ and temperature at time $t$."
   ]
  },
  {
   "cell_type": "markdown",
   "metadata": {
    "slideshow": {
     "slide_type": "subslide"
    }
   },
   "source": [
    "## Recursive relationship\n",
    "\n",
    "Repeatedly substituting into this equation, we express change in line temperature at time $t^*$ as:\n",
    "\n",
    "\\begin{align}\n",
    "\\Delta T_{ik}[t^*] &= \\frac{\\rho_{ik} r_{ik}}{x_{ik}^2}\\sum_{t=1}^{t^*}\\tau_{ik}^{t-1}\\theta_{ik}^2[t^*-t]~ + \\delta_{ik} \\sum_{t=1}^{t^*}\\tau_{ik}^{t-1}\\Delta d_{ik} [t^* - t]\n",
    "\\end{align}"
   ]
  },
  {
   "cell_type": "markdown",
   "metadata": {
    "slideshow": {
     "slide_type": "fragment"
    }
   },
   "source": [
    "* The first term varies with angle differences. "
   ]
  },
  {
   "cell_type": "markdown",
   "metadata": {
    "slideshow": {
     "slide_type": "fragment"
    }
   },
   "source": [
    "* The second term, which is based on external conditions, is constant with respect to all power flow variables."
   ]
  },
  {
   "cell_type": "markdown",
   "metadata": {
    "slideshow": {
     "slide_type": "subslide"
    }
   },
   "source": [
    "Moving all constants to the left-hand side, we find:\n",
    "\n",
    "\\begin{align}\n",
    "\\Delta T_{ik}[t^*] - \\delta_{ik} \\sum_{t=1}^{t^*}\\tau_{ik}^{t-1}\\Delta d_{ik} [t^* - t]\n",
    " = \\frac{\\rho_{ik}r_{ik}}{x_{ik}^2} \\sum_{t=1}^{t^*} \\tau_{ik}^{t-1}\\theta_{ik}^2[t^* - t]\n",
    "\\end{align}\n",
    "\n",
    "The RHS is a weighted, scaled two-norm of the vector of angle difference variables $\\theta_{ik}[t],~ t\\in \\{1,\\ldots,t^*\\}$."
   ]
  },
  {
   "cell_type": "markdown",
   "metadata": {
    "slideshow": {
     "slide_type": "fragment"
    }
   },
   "source": [
    "We can write the temperature constraint as $\\lVert \\hat{\\theta}_{ik}\\rVert^2 = c^2$, where \n",
    "\n",
    "\\begin{align}\n",
    "\\hat{\\theta}_{ik,t} &= \\tau^{\\frac{t^*-t}{2}}(\\theta_{i,t} - \\theta_{k,t})\n",
    "\\end{align}\n",
    "and $c$ accounts for scaling and known parameters."
   ]
  },
  {
   "cell_type": "markdown",
   "metadata": {
    "slideshow": {
     "slide_type": "slide"
    }
   },
   "source": [
    "# Temporal instanton model\n",
    "\n",
    "* Objective\n",
    "* System constraints\n",
    "* Strain constraint"
   ]
  },
  {
   "cell_type": "markdown",
   "metadata": {
    "slideshow": {
     "slide_type": "subslide"
    }
   },
   "source": [
    "**Objective:** minimize the normed distance between the vector of wind optimization variables and their forecast values.\n",
    "\n",
    "\\begin{align}\n",
    "\\min & \\sum_{t=1}^{T} x_t^\\top Q_{obj} x_t\n",
    "\\end{align}\n",
    "(Note that $Q_{obj}$ may be identity or could encode correlation.)"
   ]
  },
  {
   "cell_type": "markdown",
   "metadata": {
    "slideshow": {
     "slide_type": "fragment"
    }
   },
   "source": [
    "**System constraints:**  power balance, angle reference, generator response parameter $\\alpha$.\n",
    "\n",
    "\n",
    "\n",
    "\\begin{align}\n",
    "\\text{subject to:} \\\\\n",
    "\\sum_k Y_{ik} \\theta_{ik,t} & = (G_{i,t} + \\rho_{i,t} + x_{i,t}) - D_{i,t} ~ \\forall i \\in \\mathcal{N},~t\\in 1... T \\\\\n",
    "G_t &= G_{0,t} + k\\alpha_t \\quad \\forall t\\in 1\\ldots T \\\\\n",
    "\\theta_{k,t} & = 0 \\quad \\forall t\\in 1\\ldots T \\\\\n",
    "\\end{align}"
   ]
  },
  {
   "cell_type": "markdown",
   "metadata": {
    "slideshow": {
     "slide_type": "fragment"
    }
   },
   "source": [
    "**Strain constraint:** We add one additional constraint to force a line to sag.\n",
    "\n",
    "\\begin{align}\n",
    "\\Delta T_{ik}[T] &= \\Delta T_{ik}^\\text{lim}\\quad \\text{for some }(i,k)\\in \\mathcal{G}\n",
    "\\end{align}"
   ]
  },
  {
   "cell_type": "markdown",
   "metadata": {
    "slideshow": {
     "slide_type": "subslide"
    }
   },
   "source": [
    "**Strain constraint:** We add one additional constraint to force a line to sag.\n",
    "\n",
    "\\begin{align}\n",
    "\\Delta T_{ik}[T] &= \\Delta T_{ik}^\\text{lim}\\quad \\text{for some }(i,k)\\in \\mathcal{G}\n",
    "\\end{align}"
   ]
  },
  {
   "cell_type": "markdown",
   "metadata": {
    "slideshow": {
     "slide_type": "fragment"
    }
   },
   "source": [
    "From what we just discussed, this is really a norm constraint on a vector of scaled angle differences:\n",
    "\n",
    "\\begin{align*}\n",
    "\\lVert \\hat{\\theta}_{ik}\\rVert^2 &= c^2~,\n",
    "\\end{align*}\n",
    "where $c$ is based on line and ambient condition parameters, and \n",
    "\n",
    "\\begin{align}\n",
    "\\hat{\\theta}_{ik,t} &= \\tau^{\\frac{t^*-t}{2}}(\\theta_{i,t} - \\theta_{k,t})~.\n",
    "\\end{align}"
   ]
  },
  {
   "cell_type": "markdown",
   "metadata": {
    "slideshow": {
     "slide_type": "slide"
    }
   },
   "source": [
    "# Temporal optimization problem\n",
    "\n",
    "General form: quadratic objective function with linear and quadratic constraints. Stacking all variables into a single vector $z$, we find:\n",
    "\n",
    "\\begin{align}\n",
    "&&  \\min z^\\top Q_{obj} z &\\\\\n",
    "& s.t. & Az &= b  \\\\\n",
    "&&  z^\\top Q_{\\theta}z &= c \n",
    "\\end{align}"
   ]
  },
  {
   "cell_type": "markdown",
   "metadata": {
    "slideshow": {
     "slide_type": "fragment"
    }
   },
   "source": [
    "Let's consider each part:\n",
    "\n",
    "* Variables: $z$\n",
    "\n",
    "* Objective: $Q_{obj}$\n",
    "\n",
    "* Linear constraints: $A$ and $b$\n",
    "\n",
    "* Quadratic constraint: $Q_\\theta$"
   ]
  },
  {
   "cell_type": "markdown",
   "metadata": {
    "slideshow": {
     "slide_type": "subslide"
    }
   },
   "source": [
    "## Variables: $z$\n",
    "\n",
    "Stack variables from all time steps. Put $\\hat{\\theta}_{ik}$ at the end.\n",
    "\\begin{align}\n",
    "z &= \\begin{bmatrix} x^{(1)\\top} & \\theta^{(1)\\top} & \\alpha^{(1)} & \\cdots & x^{(T)\\top} & \\theta^{(T)\\top} & \\alpha^{(T)} & \\hat{\\theta}_{ik}^\\top \\end{bmatrix}^\\top\n",
    "\\end{align}"
   ]
  },
  {
   "cell_type": "markdown",
   "metadata": {
    "slideshow": {
     "slide_type": "subslide"
    }
   },
   "source": [
    "## Objective: $Q_{obj}$\n",
    "\n",
    "The objective weights only deviation variables $x$. Suppose there are two time steps and correlation is represented by $Q_x$. Then\n",
    "\n",
    "$$ z = \\begin{bmatrix} x^{(1)\\top} & \\theta^{(1)\\top} & \\alpha^{(1)} & x^{(2)\\top} & \\theta^{(2)\\top} & \\alpha^{(2)} & \\hat{\\theta}_{ik}^\\top \\end{bmatrix}^\\top $$\n",
    "\n",
    "and $Q_{obj}$ is given by:\n",
    "\n",
    "\\begin{align*}\n",
    "Q_{obj} = \\begin{bmatrix} \n",
    "Q_x & 0 & 0 & 0 & 0 & 0 & 0 \\\\\n",
    "0 & 0 & 0 & 0 & 0 & 0 & 0 \\\\ \n",
    "0 & 0  & 0 & 0 & 0 & 0 & 0 \\\\ \n",
    "0 & 0 & 0 & Q_x & 0 & 0 & 0 \\\\ \n",
    "0 & 0 & 0 & 0 & 0 & 0 & 0 \\\\ \n",
    "0 & 0 & 0 & 0 & 0 & 0 & 0 \n",
    "\\end{bmatrix}\n",
    "\\end{align*}\n",
    "**Note: If $Q_x=I$, the objective is a norm of a subset of $z$.**"
   ]
  },
  {
   "cell_type": "markdown",
   "metadata": {
    "slideshow": {
     "slide_type": "subslide"
    }
   },
   "source": [
    "## Linear constraints: $A$ and $b$\n",
    "\n",
    "$A$ has a block diagonal structure where each block is $(n+1)\\times(n_r+n)$.\n",
    "\n",
    "* The first $n$ rows describe power balance and distributed slack behavior. We have the following power balance equation for each node:\n",
    "\n",
    "\\begin{align*}\n",
    "-x_{i,t} + \\sum\\limits_{j} Y_{ij}\\theta_{j,t} - k_i\\alpha_{i,t} &= G_{i,t}^0 + \\rho_{i,t} - D_{i,t}~,\n",
    "\\end{align*}\n",
    "\n",
    "* The last row in each group of $(n+1)$ fixes the angle reference to zero. "
   ]
  },
  {
   "cell_type": "markdown",
   "metadata": {
    "slideshow": {
     "slide_type": "subslide"
    }
   },
   "source": [
    "## Quadratic constraint: $Q_\\theta$\n",
    "\n",
    "Recall that the line temperature constraint in terms of $\\hat{\\theta}_{ik}$ is\n",
    "\\begin{align*}\n",
    "\\lVert \\hat{\\theta}_{ik}\\rVert^2 &= c^2~.\n",
    "\\end{align*}\n",
    "\n",
    "Because the last $T$ elements of $z$ contain $\\hat{\\theta}_{ik}$, $Q_\\theta$ is all zeros with a $T\\times T$ identity matrix in the lower-right corner."
   ]
  },
  {
   "cell_type": "markdown",
   "metadata": {
    "slideshow": {
     "slide_type": "fragment"
    }
   },
   "source": [
    "\n",
    "\\begin{align}\n",
    "Q_\\theta &= \\begin{bmatrix} 0 & 0 \\\\ 0 & I\\end{bmatrix}\n",
    "\\end{align}"
   ]
  },
  {
   "cell_type": "markdown",
   "metadata": {
    "slideshow": {
     "slide_type": "slide"
    }
   },
   "source": [
    "# How we want to solve the problem\n",
    "\n",
    "* The quadratic equality constraint makes the problem non-convex.\n",
    "\n",
    "* It does look nice though. Especially if $Q_z=I$."
   ]
  },
  {
   "cell_type": "markdown",
   "metadata": {
    "slideshow": {
     "slide_type": "fragment"
    }
   },
   "source": [
    "If our QCQP was a \"trust-region subproblem\", we would solve it like this:\n",
    "\n",
    "1. Translate by the point $z^*$ closest to the origin in the set $\\{z:Az=b\\}$.\n",
    "\n",
    "2. Rotate so the first $k$ coordinates lie in $\\mathcal{N}(A)$.\n",
    "\n",
    "3. Rotate to diagonalize the objective.\n",
    "\n",
    "4. Write the first-order conditions and solve the resulting \"secular equation\"."
   ]
  },
  {
   "cell_type": "markdown",
   "metadata": {
    "slideshow": {
     "slide_type": "subslide"
    }
   },
   "source": [
    "## Step 1: Translation\n",
    "\n",
    "* Let $z_1$ be the set of variables for which $Q_\\theta z = 0$, and $z_2$ be the remaining $T$ variables."
   ]
  },
  {
   "cell_type": "markdown",
   "metadata": {
    "slideshow": {
     "slide_type": "fragment"
    }
   },
   "source": [
    "* Let $A_1$ be the columns of $A$ corresponding to $z_1$ and $A_2$ be the columns corresponding to $z_2$."
   ]
  },
  {
   "cell_type": "markdown",
   "metadata": {
    "slideshow": {
     "slide_type": "fragment"
    }
   },
   "source": [
    "Then the point $z^*$ is the solution to the following problem:\n",
    "\n",
    "\\begin{align}\n",
    "&& \\min z_2^\\top z_2 & \\\\\n",
    "& s.t. & A_1z_1 + A_2z_2 &= b\n",
    "\\end{align}"
   ]
  },
  {
   "cell_type": "markdown",
   "metadata": {
    "slideshow": {
     "slide_type": "subslide"
    }
   },
   "source": [
    "Letting $y = z - z^*$, we find the translated problem:\n",
    "\n",
    "\\begin{align}\n",
    " && \\min y^\\top Q_{obj}y + 2y^\\top Q_{obj}z^* &\\\\\n",
    " & s.t. & Ay &= 0 \\\\\n",
    " && y^\\top Q_{\\theta}y + z^{*\\top}Q_\\theta z^* - c &= 0 \n",
    "\\end{align}"
   ]
  },
  {
   "cell_type": "markdown",
   "metadata": {
    "slideshow": {
     "slide_type": "subslide"
    }
   },
   "source": [
    "## Step 2: Kernel rotation\n",
    "\n",
    "* Suppose the nullspace of $A$ is of dimension $k$. We wish to rotate the problem so its first $k$ coordinates lie in this nullspace."
   ]
  },
  {
   "cell_type": "markdown",
   "metadata": {
    "slideshow": {
     "slide_type": "fragment"
    }
   },
   "source": [
    "* The appropriate rotation matrix $R_{kernel}$ is found by appending arbitrary columns to a $k$-column basis of $\\mathcal{N}(A)$."
   ]
  },
  {
   "cell_type": "markdown",
   "metadata": {
    "slideshow": {
     "slide_type": "fragment"
    }
   },
   "source": [
    "After changing variables from $y$ to $x= Ry$, we obtain the following problem:\n",
    "\n",
    "\\begin{align}\n",
    "&& \\min x^\\top (RQ_{obj}R^\\top) x + 2x^\\top R(Q_{obj}z^*) &\\\\\n",
    "& s.t. & x^\\top Q_{\\theta}x + z^{*\\top}Q_\\theta z^* - c &= 0\n",
    "\\end{align}\n",
    "\n",
    "Here we are relying on the fact that norms are rotation-invariant (see the problem yet?)."
   ]
  },
  {
   "cell_type": "markdown",
   "metadata": {
    "slideshow": {
     "slide_type": "subslide"
    }
   },
   "source": [
    "## Step 3: Diagonalizing rotation\n",
    "\n",
    "* Now we are minimizing a quadratic function subject to a ball constraint. We can find a solution easily if the matrix in the objective is diagonal (see why in Step 4). "
   ]
  },
  {
   "cell_type": "markdown",
   "metadata": {
    "slideshow": {
     "slide_type": "fragment"
    }
   },
   "source": [
    "* To diagonalize the objective matrix, we seek a rotation matrix $R_{eigvec}$ consisting of Eigenvectors of $RQ_{obj}R^\\top$:\n",
    "\n",
    "\\begin{align}\n",
    "R_{eigvec} &= V,\\text{ where} \\\\\n",
    "RQ_{obj}R^\\top &= VDV^\\top\n",
    "\\end{align}"
   ]
  },
  {
   "cell_type": "markdown",
   "metadata": {
    "slideshow": {
     "slide_type": "fragment"
    }
   },
   "source": [
    "* After changing variables from $x$ to $w=R_{eigvec}x$, we obtain\n",
    "\n",
    "\\begin{align}\n",
    "&& \\min w^\\top D w + 2w^\\top d &\\\\\n",
    "& s.t. & w^\\top Q_{\\theta} w - \\bar{c} &= 0~,\\\\\n",
    "& & \\text{where }  d =  V^\\top (RQ_{obj}z^*)\\quad\\text{and } \\bar{c} &= c - z^{*\\top}Q_\\theta z^*\n",
    "\\end{align}\n",
    "\n",
    "Here again we are relying on rotation-invariance of norms."
   ]
  },
  {
   "cell_type": "markdown",
   "metadata": {
    "slideshow": {
     "slide_type": "subslide"
    }
   },
   "source": [
    "## Step 4: Secular equation\n",
    "\n",
    "* Now we write the first-order necessary conditions for optimality. With Lagrange multiplier $u$, we have:\n",
    "\n",
    "\\begin{align}\n",
    "w_i D_{ii} + d_i &= uw_iQ_{\\theta,ii}~\\forall i\n",
    "\\end{align}"
   ]
  },
  {
   "cell_type": "markdown",
   "metadata": {
    "slideshow": {
     "slide_type": "fragment"
    }
   },
   "source": [
    "* Begin searching for solution candidates by ruling out $u=0$ and $u=D_{ii}$."
   ]
  },
  {
   "cell_type": "markdown",
   "metadata": {
    "slideshow": {
     "slide_type": "fragment"
    }
   },
   "source": [
    "* Having ruled out vanishing demoninators, we can write $w_i$ in terms of $u$:\n",
    "\n",
    "\\begin{align}\n",
    "w_i &= \\frac{d_i}{uQ_{\\theta,ii} - D_{ii}}\n",
    "\\end{align}"
   ]
  },
  {
   "cell_type": "markdown",
   "metadata": {
    "slideshow": {
     "slide_type": "fragment"
    }
   },
   "source": [
    "* As we vary $u$ we obtain different vectors $w$. In order for a vector to be feasible, it must satisfy $w^\\top Q_\\theta w = \\bar{c}$. This gives the \"secular equation\":\n",
    "\n",
    "\\begin{align}\n",
    "s(\\mu) = \\sum_{i:Q{_\\theta,ii}\\neq 0} \\left(\\frac{d_i}{\\mu - D_i}\\right)^2 &= \\bar{c}\n",
    "\\end{align}"
   ]
  },
  {
   "cell_type": "markdown",
   "metadata": {
    "slideshow": {
     "slide_type": "subslide"
    }
   },
   "source": [
    "\\begin{align}\n",
    "s(\\mu) = \\sum_{i:Q{_\\theta,ii}\\neq 0} \\left(\\frac{d_i}{\\mu - D_i}\\right)^2 &= \\bar{c}\n",
    "\\end{align}\n",
    "\n",
    "With $Q_x$ fixed to the identity matrix, $D$ has one unique Eigenvalue, and the secular equation has one unique pole. Solutions (found by binary search) look like this:\n",
    "\n",
    "<img src=\"../images/secular96.png\" width=600>"
   ]
  },
  {
   "cell_type": "markdown",
   "metadata": {
    "slideshow": {
     "slide_type": "fragment"
    }
   },
   "source": [
    "After minimizing over the solution candidates, we can reverse the two rotations and the translation to find an optimal solution $z$."
   ]
  },
  {
   "cell_type": "markdown",
   "metadata": {
    "slideshow": {
     "slide_type": "slide"
    }
   },
   "source": [
    "# Outstanding issues"
   ]
  },
  {
   "cell_type": "markdown",
   "metadata": {
    "slideshow": {
     "slide_type": "fragment"
    }
   },
   "source": [
    "* Our problem is not actually the trust-region subproblem."
   ]
  },
  {
   "cell_type": "markdown",
   "metadata": {
    "slideshow": {
     "slide_type": "fragment"
    }
   },
   "source": [
    "* Objective norm and constraint norm are in terms of different sets of variables."
   ]
  },
  {
   "cell_type": "markdown",
   "metadata": {
    "slideshow": {
     "slide_type": "fragment"
    }
   },
   "source": [
    "* Variables are related via $Ax=b$."
   ]
  },
  {
   "cell_type": "markdown",
   "metadata": {
    "slideshow": {
     "slide_type": "subslide"
    }
   },
   "source": [
    "**So our \"norms\" are not rotation-invariant.**"
   ]
  },
  {
   "cell_type": "markdown",
   "metadata": {
    "slideshow": {
     "slide_type": "fragment"
    }
   },
   "source": [
    "* We get lucky with the kernel rotation:\n",
    "\n",
    "<img src=\"../images/Rkernel.png\" width=600>"
   ]
  },
  {
   "cell_type": "markdown",
   "metadata": {
    "slideshow": {
     "slide_type": "subslide"
    }
   },
   "source": [
    "* Not so lucky with the diagonalizing rotation:\n",
    "\n",
    "<img src=\"../images/Reigvec.png\" width=600>"
   ]
  },
  {
   "cell_type": "markdown",
   "metadata": {
    "slideshow": {
     "slide_type": "slide"
    }
   },
   "source": [
    "## Acknowledgements & References\n",
    "\n",
    "* Ian Hiskens\n",
    "* Misha Chertkov\n",
    "* Scott Backhaus\n",
    "* Dan Bienstock"
   ]
  },
  {
   "cell_type": "markdown",
   "metadata": {
    "slideshow": {
     "slide_type": "fragment"
    }
   },
   "source": [
    "[1] H. Banakar, N. Alguacil, and F. Galiana, “Electrothermal coordination\n",
    "part I: theory and implementation schemes,” IEEE Transactions on Power\n",
    "Systems, vol. 20, no. 2, pp. 798–805, May 2005.\n",
    "\n",
    "[2] “IEEE standard for calculating the current-temperature of bare overhead\n",
    "conductors,” IEEE Std 738-2006 (Revision of IEEE Std 738-1993), pp.\n",
    "c1–59, Jan. 2007.\n",
    "\n",
    "[3] O. Mehanna, K. Huang, B. Gopalakrishnan, A. Konar, and N. Sidiropou-\n",
    "los, “Feasible point pursuit and successive approximation of non-convex\n",
    "QCQPs,” IEEE Signal Processing Letters, vol. PP, no. 99, pp. 1–1, 2014.\n",
    "\n",
    "[4] M. Almassalkhi and I. Hiskens, “Model-predictive cascade mitigation in\n",
    "electric power systems with storage and renewables – part I: Theory and\n",
    "implementation,” IEEE Transactions on Power Systems, vol. PP, no. 99,\n",
    "pp. 1–11, 2014.\n",
    "\n",
    "[5] D. Bienstock and A. Michalka, “Polynomial Solvability of Variants\n",
    "of the Trust-region Subproblem,” in Proceedings of the Twenty-Fifth\n",
    "Annual ACM-SIAM Symposium on Discrete Algorithms, ser. SODA\n",
    "’14. Portland, Oregon: SIAM, 2014, pp. 380–390. [Online]."
   ]
  }
 ],
 "metadata": {
  "celltoolbar": "Slideshow",
  "kernelspec": {
   "display_name": "Julia",
   "language": "julia",
   "name": "julia"
  },
  "language_info": {
   "name": "julia",
   "version": "0.3.6"
  }
 },
 "nbformat": 4,
 "nbformat_minor": 0
}
