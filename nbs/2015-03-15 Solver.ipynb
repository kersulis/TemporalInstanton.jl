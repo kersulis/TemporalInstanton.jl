{
 "cells": [
  {
   "cell_type": "markdown",
   "metadata": {},
   "source": [
    "Begin with previously-written solver code:"
   ]
  },
  {
   "cell_type": "code",
   "execution_count": null,
   "metadata": {
    "collapsed": true
   },
   "outputs": [],
   "source": [
    "function solver_currentFlow_droop(psDL)\n",
    "    # This function uses MOSEK to perform instanton analysis for the case with conventional generator droop resopnse.\n",
    "\n",
    "    # unpack psDL (boilerplate):\n",
    "    (Sb,f,t,r,x,b,Y,bustype,\n",
    "    Gp,Gq,Dp,Dq,Rp,Rq,\n",
    "    Pmax,Pmin,Qmax,Qmin,Plim,\n",
    "    Vg,Vceiling,Vfloor,\n",
    "        busIdx,N,Nr,Ng,k) = unpack_psDL(psDL)\n",
    "\n",
    "    score = Float64[]\n",
    "    rho = Array(Vector{Float64},0) # array of vectors with Float64 values\n",
    "    Gpost = Array(Vector{Float64},0) # array of vectors with Float64 values\n",
    "    theta = Array(Vector{Float64},0) # array of vectors with Float64 values\n",
    "    alpha = Float64[]\n",
    "\n",
    "    result = Symbol[]\n",
    "\n",
    "    # Enforce each constraint in the f --> t direction\n",
    "    for idx = 1:length(f)\n",
    "        (m, ρ, θ, α, PowerBalance, AngleRef, Congestion, Participation) = droopCurrentModel(idx, 1, Rp, Gp, Dp, f, t, x, Y, bustype, Plim,k,Vg)\n",
    "        status = solve(m);\n",
    "        push!(score, getObjectiveValue(m))\n",
    "        push!(result,status)\n",
    "        push!(theta, getValue(θ)[:])\n",
    "        push!(alpha, getValue(α))\n",
    "        push!(rho,getValue(ρ)[:])\n",
    "  \n",
    "        # Compute conventional generation post-instanton:\n",
    "        push!(Gpost, Gp + k.*getValue(α))\n",
    "    end\n",
    "\n",
    "    # Enforce each constraint in the t --> f direction\n",
    "    for idx = 1:length(f)\n",
    "        (m, ρ, θ, α, PowerBalance, AngleRef, Congestion, Participation) = droopCurrentModel(idx, -1, Rp, Gp, Dp, f, t, x, Y, bustype, Plim,k,Vg)\n",
    "        status = solve(m);\n",
    "        push!(score, getObjectiveValue(m))\n",
    "        push!(result, status)\n",
    "        push!(theta, getValue(θ)[:])\n",
    "        push!(alpha, getValue(α))\n",
    "        push!(rho, getValue(ρ)[:])\n",
    "\n",
    "        # Compute conventional generation post-instanton:\n",
    "        push!(Gpost, Gp + k.*getValue(α))\n",
    "    end\n",
    "\n",
    "    # Generate strings to tell user which constraint was violated:\n",
    "    constrIdx = String[]\n",
    "    for i = 1:2length(f)\n",
    "        if i <= length(f)\n",
    "            push!(constrIdx, \"activeFlow: $(f[i]) -> $(t[i]) @ $(Plim[i])\")\n",
    "        else\n",
    "            i2 = i - length(f)\n",
    "            push!(constrIdx, \"activeFlow: $(t[i2]) -> $(f[i2]) @ $(Plim[i2])\")\n",
    "        end\n",
    "    end\n",
    "\n",
    "    rankedList = sortrows([zero2NaN(score) [rho theta alpha constrIdx Gpost]]) # sort candidates; place NaNs at bottom\n",
    "\n",
    "    # Pack results into instance of \"instantonResults\":\n",
    "    return instantonResults(rankedList[:,1],rankedList[:,2],rankedList[:,3],rankedList[:,4],rankedList[:,5],rankedList[:,6])\n",
    "end\n",
    "\n",
    "function droopCurrentModel(idx, sense, Rp, Gp, Dp, f, t, x, Y, bustype, Plim,k, Vg)\n",
    "    # 7-29-14\n",
    "    # DROOP RESPONSE\n",
    "    # Create model saturating line 'idx' in direction 'sense' (±1)\n",
    "    # This function uses JuMP and Mosek\n",
    "    # Line current constraints\n",
    "    \n",
    "    m = Model(solver = MosekSolver()) # Use MOSEK to solve model\n",
    "    N = length(Rp)\n",
    "    @defVar(m, ρ[1:N] >= 0) # Add decision variables to model (renewable gen)\n",
    "    @defVar(m, θ[1:N]) # Add bus angles\n",
    "    @defVar(m, α) # mismatch parameter\n",
    "    setObjective(m, :Min, 0.5*sum([(ρ[i] - Rp[i])^2 for i in find(Rp)]))\n",
    "\n",
    "    # add power balance constraints:\n",
    "    @defConstrRef PowerBalance[1:N]\n",
    "    for i in setdiff(1:N,find(bustype.==3))\n",
    "        PowerBalance[i] = @addConstraint(m, sum([Y[i,j]*θ[j] for j in 1:N]) == Gp[i] + k[i]*α + ρ[i] - Dp[i])\n",
    "    end\n",
    "\n",
    "    # wind output must be 0 at non-wind buses:\n",
    "    @addConstraint(m, NonWind, sum([ρ[i] for i in setdiff(collect(1:N),find(Rp))]) == 0)\n",
    "\n",
    "    # angle reference bus must have angle 0:\n",
    "    @addConstraint(m, AngleRef, θ[find(bustype.==3)[1]] == 0)\n",
    " \n",
    "    # 'i' is f[idx]\n",
    "    # 'k' is t[idx]\n",
    "    #i = f[idx]\n",
    "    #k = t[idx]\n",
    "\n",
    "    Vi = Vg[f[idx]]\n",
    "    Vk = Vg[t[idx]]\n",
    "\n",
    "    # saturate a line (current constraint):\n",
    "    @addConstraint(m, Congestion, θ[f[idx]] - θ[t[idx]] == sense*acos((Vi^2 + Vk^2 - (Plim[idx]*x[idx])^2)/(2Vi*Vk)))\n",
    "    \n",
    "    #@addConstraint(m, Congestion, θ[f[idx]] - θ[t[idx]] == sense*x[idx]*Plim[idx]) # saturate a line\n",
    "\n",
    "    # @addConstraint(m, Congestion, (Vi^2 + Vk^2 - 2Vi*Vk*sense*cos(θ[i] - θ[k]))/(x[idx]^2) == Plim[idx]^2)\n",
    "\n",
    "    @addConstraint(m, Participation, α == (sum(Dp) - sum([ρ[i] for i in find(Rp)])) - sum(Gp))\n",
    "    return m, ρ, θ, α, PowerBalance, AngleRef, Congestion, Participation\n",
    "end"
   ]
  },
  {
   "cell_type": "code",
   "execution_count": 3,
   "metadata": {
    "collapsed": true
   },
   "outputs": [],
   "source": [
    "using JuMP\n",
    "using Mosek"
   ]
  },
  {
   "cell_type": "code",
   "execution_count": 13,
   "metadata": {
    "collapsed": false
   },
   "outputs": [
    {
     "ename": "LoadError",
     "evalue": "i not defined\nwhile loading In[13], in expression starting on line 13",
     "output_type": "error",
     "traceback": [
      "i not defined\nwhile loading In[13], in expression starting on line 13",
      ""
     ]
    }
   ],
   "source": [
    "# Assume we have A, b, Qobj, Qtheta\n",
    "\n",
    "Qobj = diagm([1,1,0,0])\n",
    "Qtheta = diagm([0,0,1,1])\n",
    "A = rand(3,4)\n",
    "b = rand(3)\n",
    "\n",
    "m = Model(solver=MosekSolver())\n",
    "numVars = size(A,2)\n",
    "numRows = size(A,1)\n",
    "\n",
    "@defVar(m, x[1:numVars])\n",
    "setObjective(m, Min, sum{ x[i]^2*Qobj[i,i], i = 1:numVars})\n",
    "for i in 1:numRows\n",
    "    @addConstraint(m, sum{ A[i,k]*x[k] } == b[i], k = 1:numVars)\n",
    "end\n",
    "@addNLConstraint(m, TempContr, sum{ x'*Qtheta*x) == c)\n"
   ]
  }
 ],
 "metadata": {
  "kernelspec": {
   "display_name": "Julia",
   "language": "julia",
   "name": "julia"
  },
  "language_info": {
   "name": "julia",
   "version": "0.3.6"
  }
 },
 "nbformat": 4,
 "nbformat_minor": 0
}
