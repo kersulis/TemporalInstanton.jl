{
 "cells": [
  {
   "cell_type": "markdown",
   "metadata": {},
   "source": [
    "A while back I wrote code to perform power flow for a particular instanton candidate. Unfortunately, I did not have the forethought to add an interface to this code, so now I need to go back and study it to know how to use it.\n",
    "\n",
    "Every function that the user interacts with should accept an instance of either `InstantonInputData` or `InstantonOutputData`."
   ]
  },
  {
   "cell_type": "code",
   "execution_count": 1,
   "metadata": {
    "collapsed": true
   },
   "outputs": [],
   "source": [
    "include(\"../src/TemporalInstanton.jl\")\n",
    "using TemporalInstanton\n",
    "d = testcase(\"timing\")\n",
    "o = solve_temporal_instanton(d)"
   ]
  },
  {
   "cell_type": "code",
   "execution_count": 15,
   "metadata": {
    "collapsed": false
   },
   "outputs": [
    {
     "data": {
      "text/plain": [
       "(-0.003270204441451697,275.9154973489844,0.15284183206941251,46.77452937287844)"
      ]
     },
     "execution_count": 15,
     "metadata": {},
     "output_type": "execute_result"
    }
   ],
   "source": [
    "import TemporalInstanton.return_conductor_params\n",
    "import TemporalInstanton.return_thermal_constants\n",
    "idx = 1\n",
    "T = round(Int64,length(d.D0)/length(d.k))\n",
    "conductor_name = d.line_conductors[idx]\n",
    "conductor_params = return_conductor_params(conductor_name)\n",
    "line = d.lines[idx]\n",
    "line_params = LineParams(line[1],line[2],d.res[idx],d.reac[idx],d.line_lengths[idx])\n",
    "\n",
    "(t_a,t_c,t_d,t_f) = return_thermal_constants(line_params,conductor_params\n",
    ",d.Tamb,d.Sb,d.int_length,T,d.T0)\n",
    "\n"
   ]
  },
  {
   "cell_type": "markdown",
   "metadata": {},
   "source": [
    "`o.x` contains an element for each instanton candidate. Within each element, there is a set of $k$ vectors, where $k$ is the number of time steps. Each of these $k$ vectors contains wind deviations for the nodes in `Ridx`, so it has as many entries as there are wind nodes.\n",
    "\n",
    "We can solve a DC power flow at each time step by doing the following:\n",
    "\n",
    "1. Add the wind deviations at the time step to the dispatch vector.\n",
    "2. Add all injections to get $P$.\n",
    "3. Use a simple function to generate $B$ (which includes admittance matrix and droop response).\n",
    "4. Factorize $B$ to obtain $\\theta=B^{-1}P$.\n",
    "\n",
    "Now that we have the set of voltage angles $\\theta$ at the given time step, we can do two things:\n",
    "\n",
    "1. Compute the power flow on each line by taking $P_{ij}=B_{ij}(\\theta_i-\\theta_j)$.\n",
    "2. Compute instantaneous losses on each line (function of angle difference). When this is done for all time steps, we can then use the heat balance IVP to obtain temperature trajectories for all lines."
   ]
  },
  {
   "cell_type": "code",
   "execution_count": 37,
   "metadata": {
    "collapsed": false
   },
   "outputs": [
    {
     "data": {
      "text/plain": [
       "18-element Array{Float64,1}:\n",
       " -0.00751789 \n",
       " -4.49168e-6 \n",
       "  0.000181627\n",
       "  0.000207159\n",
       "  0.00021905 \n",
       "  0.000103256\n",
       "  3.5107e-5  \n",
       "  0.000230093\n",
       " -2.3748e-6  \n",
       " -5.75214e-5 \n",
       " -3.78247e-5 \n",
       " -3.51509e-5 \n",
       " -3.1528e-5  \n",
       " -2.19202e-5 \n",
       " -1.6636e-5  \n",
       "  0.000113861\n",
       "  0.000116112\n",
       "  0.000115214"
      ]
     },
     "execution_count": 37,
     "metadata": {},
     "output_type": "execute_result"
    }
   ],
   "source": [
    "o.x[1][3]"
   ]
  },
  {
   "cell_type": "code",
   "execution_count": 64,
   "metadata": {
    "collapsed": false,
    "scrolled": false
   },
   "outputs": [
    {
     "data": {
      "text/plain": [
       "powerflow (generic function with 1 method)"
      ]
     },
     "execution_count": 64,
     "metadata": {},
     "output_type": "execute_result"
    }
   ],
   "source": [
    "\"\"\"\n",
    "    angles,mismatch = powerflow(d,o,eIdx)\n",
    "Solve DC power flow for temporal instanton input \n",
    "data `d` and the instanton candidate with index\n",
    "`eIdx` of output data `o`.\n",
    "\"\"\"\n",
    "function powerflow(\n",
    "    d::InstantonInputData,\n",
    "    o::InstantonOutputData,\n",
    "    eIdx::Int64\n",
    "    )\n",
    "    T = round(Int64,length(d.D0)/length(d.k))\n",
    "    Y = d.Y\n",
    "    ref = d.ref\n",
    "    k = d.k\n",
    "    n = length(k)\n",
    "    G0 = d.G0\n",
    "    D0 = d.D0\n",
    "    Ridx = d.Ridx\n",
    "    R0 = d.R0\n",
    "    x = o.x\n",
    "    \n",
    "    wind_dev = Array(Float64,0)\n",
    "    for i in 1:T\n",
    "        append!(wind_dev,x[eIdx][i])\n",
    "    end\n",
    "\n",
    "    # fixed wrt nodal injections:\n",
    "    B = fixed_wind_A(T,Y,ref,k)\n",
    "    \n",
    "    # put wind deviation elements in\n",
    "    # correct positions:\n",
    "    wind_dev = expand_renewable_vector(wind_dev,Ridx,n,T)\n",
    "\n",
    "    # net renewable:\n",
    "    Rnet = wind_dev + R0\n",
    "\n",
    "    # compute P:\n",
    "    P = fixed_wind_b(n,T,G0,Rnet,D0)\n",
    "    theta = B\\P\n",
    "    angles,alpha = return_angles(theta,n,T)\n",
    "    return angles,alpha\n",
    "end"
   ]
  },
  {
   "cell_type": "code",
   "execution_count": 71,
   "metadata": {
    "collapsed": false,
    "scrolled": false
   },
   "outputs": [
    {
     "data": {
      "text/plain": [
       "73-element Array{Float64,1}:\n",
       "  3.83668e-16\n",
       "  0.00106659 \n",
       " -0.0515348  \n",
       "  0.0114302  \n",
       "  0.0186659  \n",
       "  0.0383353  \n",
       "  0.0675333  \n",
       "  0.0673786  \n",
       " -0.0253425  \n",
       "  0.0011672  \n",
       " -0.0913642  \n",
       " -0.103502   \n",
       " -0.134472   \n",
       "  ⋮          \n",
       " -0.0491909  \n",
       " -0.159757   \n",
       " -0.156796   \n",
       " -0.197069   \n",
       " -0.208344   \n",
       " -0.159506   \n",
       " -0.183288   \n",
       " -0.21803    \n",
       " -0.275148   \n",
       " -0.204653   \n",
       " -0.09034    \n",
       " -0.21444    "
      ]
     },
     "execution_count": 71,
     "metadata": {},
     "output_type": "execute_result"
    }
   ],
   "source": [
    "angles,alpha = powerflow(d,o,1)\n",
    "\n",
    "angles[1]"
   ]
  },
  {
   "cell_type": "code",
   "execution_count": null,
   "metadata": {
    "collapsed": true
   },
   "outputs": [],
   "source": [
    " \n",
    "        \n",
    "conductor_name = d.line_conductors[idx]\n",
    "conductor_params = return_conductor_params(conductor_name)\n",
    "line = d.lines[idx]\n",
    "line_params = LineParams(line[1],line[2],d.res[idx],d.reac[idx],d.line_lengths[idx])\n",
    "\n",
    "(t_a,t_c,t_d,t_f) = return_thermal_constants(line_params,conductor_params\n",
    ",d.Tamb,d.Sb,d.int_length,T,d.T0)"
   ]
  }
 ],
 "metadata": {
  "kernelspec": {
   "display_name": "Julia 0.4.0",
   "language": "julia",
   "name": "julia-0.4"
  },
  "language_info": {
   "file_extension": ".jl",
   "mimetype": "application/julia",
   "name": "julia",
   "version": "0.4.0"
  }
 },
 "nbformat": 4,
 "nbformat_minor": 0
}
