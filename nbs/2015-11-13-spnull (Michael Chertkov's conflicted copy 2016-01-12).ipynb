{
 "cells": [
  {
   "cell_type": "code",
   "execution_count": 6,
   "metadata": {
    "collapsed": false
   },
   "outputs": [
    {
     "data": {
      "text/plain": [
       "false"
      ]
     },
     "execution_count": 6,
     "metadata": {},
     "output_type": "execute_result"
    }
   ],
   "source": [
    "!issparse(sparse([1],[1],[0]))"
   ]
  },
  {
   "cell_type": "code",
   "execution_count": 10,
   "metadata": {
    "collapsed": false
   },
   "outputs": [
    {
     "data": {
      "text/plain": [
       "true"
      ]
     },
     "execution_count": 10,
     "metadata": {},
     "output_type": "execute_result"
    }
   ],
   "source": [
    "true == true || false == true"
   ]
  },
  {
   "cell_type": "code",
   "execution_count": 12,
   "metadata": {
    "collapsed": false
   },
   "outputs": [
    {
     "name": "stdout",
     "output_type": "stream",
     "text": [
      "search: "
     ]
    },
    {
     "data": {
      "text/latex": [
       "\\begin{verbatim}\n",
       "|(x, y)\n",
       "\\end{verbatim}\n",
       "Bitwise or\n"
      ],
      "text/markdown": [
       "```\n",
       "|(x, y)\n",
       "```\n",
       "\n",
       "Bitwise or\n"
      ],
      "text/plain": [
       "```\n",
       "|(x, y)\n",
       "```\n",
       "\n",
       "Bitwise or\n"
      ]
     },
     "execution_count": 12,
     "metadata": {},
     "output_type": "execute_result"
    },
    {
     "name": "stdout",
     "output_type": "stream",
     "text": [
      "| |>\n",
      "\n"
     ]
    }
   ],
   "source": [
    "?|"
   ]
  },
  {
   "cell_type": "code",
   "execution_count": 17,
   "metadata": {
    "collapsed": false
   },
   "outputs": [
    {
     "name": "stdout",
     "output_type": "stream",
     "text": [
      "search: "
     ]
    },
    {
     "data": {
      "text/latex": [
       "\\begin{verbatim}\n",
       "lu(A) -> L, U, p\n",
       "\\end{verbatim}\n",
       "Compute the LU factorization of \\texttt{A}, such that \\texttt{A[p,:] = L*U}.\n"
      ],
      "text/markdown": [
       "```\n",
       "lu(A) -> L, U, p\n",
       "```\n",
       "\n",
       "Compute the LU factorization of `A`, such that `A[p,:] = L*U`.\n"
      ],
      "text/plain": [
       "```\n",
       "lu(A) -> L, U, p\n",
       "```\n",
       "\n",
       "Compute the LU factorization of `A`, such that `A[p,:] = L*U`.\n"
      ]
     },
     "execution_count": 17,
     "metadata": {},
     "output_type": "execute_result"
    },
    {
     "name": "stdout",
     "output_type": "stream",
     "text": [
      "lu lufact lufact! flush flush_cstdio ClusterManager values include\n",
      "\n"
     ]
    }
   ],
   "source": [
    "?lu"
   ]
  },
  {
   "cell_type": "code",
   "execution_count": 20,
   "metadata": {
    "collapsed": false
   },
   "outputs": [
    {
     "data": {
      "text/plain": [
       "3x3 sparse matrix with 3 Float64 entries:\n",
       "\t[1, 1]  =  1.0\n",
       "\t[2, 2]  =  1.0\n",
       "\t[3, 3]  =  1.0"
      ]
     },
     "execution_count": 20,
     "metadata": {},
     "output_type": "execute_result"
    }
   ],
   "source": [
    "A = speye(3)"
   ]
  },
  {
   "cell_type": "code",
   "execution_count": 22,
   "metadata": {
    "collapsed": false
   },
   "outputs": [
    {
     "ename": "LoadError",
     "evalue": "LoadError: ArgumentError: function lufact does not accept keyword arguments\nwhile loading In[22], in expression starting on line 1",
     "output_type": "error",
     "traceback": [
      "LoadError: ArgumentError: function lufact does not accept keyword arguments\nwhile loading In[22], in expression starting on line 1",
      ""
     ]
    }
   ],
   "source": [
    "lufact(A,pivot=Val{false})"
   ]
  },
  {
   "cell_type": "code",
   "execution_count": 38,
   "metadata": {
    "collapsed": false
   },
   "outputs": [
    {
     "data": {
      "text/plain": [
       "3-element Array{Int64,1}:\n",
       " 1\n",
       " 2\n",
       " 3"
      ]
     },
     "execution_count": 38,
     "metadata": {},
     "output_type": "execute_result"
    }
   ],
   "source": [
    "A = [1;2;3]"
   ]
  },
  {
   "cell_type": "code",
   "execution_count": 35,
   "metadata": {
    "collapsed": false
   },
   "outputs": [
    {
     "data": {
      "text/plain": [
       "2-element Array{Int64,1}:\n",
       " 2\n",
       " 3"
      ]
     },
     "execution_count": 35,
     "metadata": {},
     "output_type": "execute_result"
    }
   ],
   "source": [
    "splice!(A,2:3)"
   ]
  },
  {
   "cell_type": "code",
   "execution_count": 42,
   "metadata": {
    "collapsed": false
   },
   "outputs": [
    {
     "ename": "LoadError",
     "evalue": "LoadError: MethodError: `sparse` has no method matching sparse(::Int64, ::Int64)\nClosest candidates are:\n  sparse(::Any, ::Any, !Matched::Number)\n  sparse(::Any, ::Any, !Matched::AbstractArray{Bool,1}, !Matched::Any, !Matched::Any)\n  sparse(::Any, ::Any, !Matched::AbstractArray{T,1})\n  ...\nwhile loading In[42], in expression starting on line 3",
     "output_type": "error",
     "traceback": [
      "LoadError: MethodError: `sparse` has no method matching sparse(::Int64, ::Int64)\nClosest candidates are:\n  sparse(::Any, ::Any, !Matched::Number)\n  sparse(::Any, ::Any, !Matched::AbstractArray{Bool,1}, !Matched::Any, !Matched::Any)\n  sparse(::Any, ::Any, !Matched::AbstractArray{T,1})\n  ...\nwhile loading In[42], in expression starting on line 3",
      ""
     ]
    }
   ],
   "source": [
    "n = 10\n",
    "p = 3\n",
    "sparse(n-p,p)"
   ]
  },
  {
   "cell_type": "code",
   "execution_count": 77,
   "metadata": {
    "collapsed": false
   },
   "outputs": [
    {
     "name": "stdout",
     "output_type": "stream",
     "text": [
      "search: "
     ]
    },
    {
     "data": {
      "text/latex": [
       "\\begin{verbatim}\n",
       "..  lufact(A [,pivot=Val{true}]) -> F\n",
       "\n",
       "Compute the LU factorization of ``A``. The return type of ``F`` depends on the type of ``A``. In most cases, if ``A`` is a subtype ``S`` of AbstractMatrix with an element type ``T`` supporting ``+``, ``-``, ``*`` and ``/`` the return type is ``LU{T,S{T}}``. If pivoting is chosen (default) the element type should also support ``abs`` and ``<``. When ``A`` is sparse and have element of type ``Float32``, ``Float64``, ``Complex{Float32}``, or ``Complex{Float64}`` the return type is ``UmfpackLU``. Some examples are shown in the table below.\n",
       "\n",
       "======================= ========================= ========================================\n",
       "Type of input ``A``     Type of output ``F``      Relationship between ``F`` and ``A``\n",
       "======================= ========================= ========================================\n",
       ":func:`Matrix`           ``LU``                   ``F[:L]*F[:U] == A[F[:p], :]``\n",
       ":func:`Tridiagonal`      ``LU{T,Tridiagonal{T}}`` ``F[:L]*F[:U] == A[F[:p], :]``\n",
       ":func:`SparseMatrixCSC`  ``UmfpackLU``            ``F[:L]*F[:U] == (F[:Rs] .* A)[F[:p], F[:q]]``\n",
       "======================= ========================= ========================================\n",
       "\n",
       "The individual components of the factorization ``F`` can be accessed by indexing:\n",
       "\n",
       "=========== ======================================= ====== ======================== =============\n",
       "Component   Description                             ``LU`` ``LU{T,Tridiagonal{T}}`` ``UmfpackLU``\n",
       "=========== ======================================= ====== ======================== =============\n",
       "``F[:L]``   ``L`` (lower triangular) part of ``LU``    ✓            ✓                        ✓\n",
       "``F[:U]``   ``U`` (upper triangular) part of ``LU``    ✓            ✓                        ✓\n",
       "``F[:p]``   (right) permutation ``Vector``             ✓            ✓                        ✓\n",
       "``F[:P]``   (right) permutation ``Matrix``             ✓            ✓\n",
       "``F[:q]``   left permutation ``Vector``                                                      ✓\n",
       "``F[:Rs]``  ``Vector`` of scaling factors                                                    ✓\n",
       "``F[:(:)]`` ``(L,U,p,q,Rs)`` components                                                      ✓\n",
       "=========== ======================================= ====== ======================== =============\n",
       "\n",
       "================== ====== ======================== =============\n",
       "Supported function ``LU`` ``LU{T,Tridiagonal{T}}`` ``UmfpackLU``\n",
       "================== ====== ======================== =============\n",
       "     ``/``            ✓\n",
       "     ``\\``            ✓                       ✓             ✓\n",
       "     ``cond``         ✓                                     ✓\n",
       "     ``det``          ✓                       ✓             ✓\n",
       "     ``logdet``       ✓                       ✓\n",
       "     ``logabsdet``    ✓                       ✓\n",
       "     ``size``         ✓                       ✓\n",
       "================== ====== ======================== =============\n",
       "\\end{verbatim}\n"
      ],
      "text/markdown": [
       "```rst\n",
       "..  lufact(A [,pivot=Val{true}]) -> F\n",
       "\n",
       "Compute the LU factorization of ``A``. The return type of ``F`` depends on the type of ``A``. In most cases, if ``A`` is a subtype ``S`` of AbstractMatrix with an element type ``T`` supporting ``+``, ``-``, ``*`` and ``/`` the return type is ``LU{T,S{T}}``. If pivoting is chosen (default) the element type should also support ``abs`` and ``<``. When ``A`` is sparse and have element of type ``Float32``, ``Float64``, ``Complex{Float32}``, or ``Complex{Float64}`` the return type is ``UmfpackLU``. Some examples are shown in the table below.\n",
       "\n",
       "======================= ========================= ========================================\n",
       "Type of input ``A``     Type of output ``F``      Relationship between ``F`` and ``A``\n",
       "======================= ========================= ========================================\n",
       ":func:`Matrix`           ``LU``                   ``F[:L]*F[:U] == A[F[:p], :]``\n",
       ":func:`Tridiagonal`      ``LU{T,Tridiagonal{T}}`` ``F[:L]*F[:U] == A[F[:p], :]``\n",
       ":func:`SparseMatrixCSC`  ``UmfpackLU``            ``F[:L]*F[:U] == (F[:Rs] .* A)[F[:p], F[:q]]``\n",
       "======================= ========================= ========================================\n",
       "\n",
       "The individual components of the factorization ``F`` can be accessed by indexing:\n",
       "\n",
       "=========== ======================================= ====== ======================== =============\n",
       "Component   Description                             ``LU`` ``LU{T,Tridiagonal{T}}`` ``UmfpackLU``\n",
       "=========== ======================================= ====== ======================== =============\n",
       "``F[:L]``   ``L`` (lower triangular) part of ``LU``    ✓            ✓                        ✓\n",
       "``F[:U]``   ``U`` (upper triangular) part of ``LU``    ✓            ✓                        ✓\n",
       "``F[:p]``   (right) permutation ``Vector``             ✓            ✓                        ✓\n",
       "``F[:P]``   (right) permutation ``Matrix``             ✓            ✓\n",
       "``F[:q]``   left permutation ``Vector``                                                      ✓\n",
       "``F[:Rs]``  ``Vector`` of scaling factors                                                    ✓\n",
       "``F[:(:)]`` ``(L,U,p,q,Rs)`` components                                                      ✓\n",
       "=========== ======================================= ====== ======================== =============\n",
       "\n",
       "================== ====== ======================== =============\n",
       "Supported function ``LU`` ``LU{T,Tridiagonal{T}}`` ``UmfpackLU``\n",
       "================== ====== ======================== =============\n",
       "     ``/``            ✓\n",
       "     ``\\``            ✓                       ✓             ✓\n",
       "     ``cond``         ✓                                     ✓\n",
       "     ``det``          ✓                       ✓             ✓\n",
       "     ``logdet``       ✓                       ✓\n",
       "     ``logabsdet``    ✓                       ✓\n",
       "     ``size``         ✓                       ✓\n",
       "================== ====== ======================== =============\n",
       "```\n"
      ],
      "text/plain": [
       "```rst\n",
       "..  lufact(A [,pivot=Val{true}]) -> F\n",
       "\n",
       "Compute the LU factorization of ``A``. The return type of ``F`` depends on the type of ``A``. In most cases, if ``A`` is a subtype ``S`` of AbstractMatrix with an element type ``T`` supporting ``+``, ``-``, ``*`` and ``/`` the return type is ``LU{T,S{T}}``. If pivoting is chosen (default) the element type should also support ``abs`` and ``<``. When ``A`` is sparse and have element of type ``Float32``, ``Float64``, ``Complex{Float32}``, or ``Complex{Float64}`` the return type is ``UmfpackLU``. Some examples are shown in the table below.\n",
       "\n",
       "======================= ========================= ========================================\n",
       "Type of input ``A``     Type of output ``F``      Relationship between ``F`` and ``A``\n",
       "======================= ========================= ========================================\n",
       ":func:`Matrix`           ``LU``                   ``F[:L]*F[:U] == A[F[:p], :]``\n",
       ":func:`Tridiagonal`      ``LU{T,Tridiagonal{T}}`` ``F[:L]*F[:U] == A[F[:p], :]``\n",
       ":func:`SparseMatrixCSC`  ``UmfpackLU``            ``F[:L]*F[:U] == (F[:Rs] .* A)[F[:p], F[:q]]``\n",
       "======================= ========================= ========================================\n",
       "\n",
       "The individual components of the factorization ``F`` can be accessed by indexing:\n",
       "\n",
       "=========== ======================================= ====== ======================== =============\n",
       "Component   Description                             ``LU`` ``LU{T,Tridiagonal{T}}`` ``UmfpackLU``\n",
       "=========== ======================================= ====== ======================== =============\n",
       "``F[:L]``   ``L`` (lower triangular) part of ``LU``    ✓            ✓                        ✓\n",
       "``F[:U]``   ``U`` (upper triangular) part of ``LU``    ✓            ✓                        ✓\n",
       "``F[:p]``   (right) permutation ``Vector``             ✓            ✓                        ✓\n",
       "``F[:P]``   (right) permutation ``Matrix``             ✓            ✓\n",
       "``F[:q]``   left permutation ``Vector``                                                      ✓\n",
       "``F[:Rs]``  ``Vector`` of scaling factors                                                    ✓\n",
       "``F[:(:)]`` ``(L,U,p,q,Rs)`` components                                                      ✓\n",
       "=========== ======================================= ====== ======================== =============\n",
       "\n",
       "================== ====== ======================== =============\n",
       "Supported function ``LU`` ``LU{T,Tridiagonal{T}}`` ``UmfpackLU``\n",
       "================== ====== ======================== =============\n",
       "     ``/``            ✓\n",
       "     ``\\``            ✓                       ✓             ✓\n",
       "     ``cond``         ✓                                     ✓\n",
       "     ``det``          ✓                       ✓             ✓\n",
       "     ``logdet``       ✓                       ✓\n",
       "     ``logabsdet``    ✓                       ✓\n",
       "     ``size``         ✓                       ✓\n",
       "================== ====== ======================== =============\n",
       "```\n"
      ]
     },
     "execution_count": 77,
     "metadata": {},
     "output_type": "execute_result"
    },
    {
     "name": "stdout",
     "output_type": "stream",
     "text": [
      "lufact lufact!\n",
      "\n"
     ]
    }
   ],
   "source": [
    "?lufact"
   ]
  },
  {
   "cell_type": "code",
   "execution_count": 73,
   "metadata": {
    "collapsed": false
   },
   "outputs": [
    {
     "data": {
      "text/plain": [
       "luq (generic function with 1 method)"
      ]
     },
     "execution_count": 73,
     "metadata": {},
     "output_type": "execute_result"
    }
   ],
   "source": [
    "\"\"\"\n",
    "    [L,U,Q] = luq(A,tol)\n",
    "Calculate the following decomposition\n",
    "A = L |Ubar  0 | Q\n",
    "      |0     0 |\n",
    "where Ubar is a square invertible matrix\n",
    "and matrices L, Q are invertible.\n",
    "Based on lu decomposition.\n",
    "\n",
    "Inputs:\n",
    "* `A`: a sparse matrix\n",
    "* `tol`: used to separate zero and nonzero values\n",
    "\n",
    "Note: Julia's lufact always does column pivoting\n",
    "for sparse matrices.\n",
    "\n",
    "Ported from Pawel Kowal:\n",
    "Copyright  (c) Pawel Kowal (2006)\n",
    "All rights reserved\n",
    "LREM_SOLVE toolbox is available free for noncommercial academic use only.\n",
    "pkowal3@sgh.waw.pl\n",
    "\"\"\"\n",
    "function luq(A,tol)\n",
    "    A = sparse(A)\n",
    "    n,m = size(A)\n",
    "\n",
    "    ###################\n",
    "    ## Special cases ##\n",
    "    ###################\n",
    "    if n == 0 || m == 0\n",
    "        L = speye(n)\n",
    "        U = A\n",
    "        Q = speye(m)\n",
    "        return L,U,Q\n",
    "    end\n",
    "\n",
    "    ######################\n",
    "    ## LU decomposition ##\n",
    "    ######################\n",
    "    L,U,P,Q,Rs = lufact(A)[:(:)]\n",
    "    Q = Q'\n",
    "\n",
    "    p = n - size(L,2)\n",
    "    LL = [spzeros(n-p,p);speye(p)]\n",
    "    L = [P'*L P[n-p+1:n,:]']\n",
    "    U = [U;spzeros(p,m)]\n",
    "\n",
    "    ##########################\n",
    "    ## Find zero pivot rows ##\n",
    "    ##########################\n",
    "    if size(U,1) == 1 || size(U,2) == 1\n",
    "        S = U[1,1]\n",
    "    else\n",
    "        S = diag(U)\n",
    "    end\n",
    "    I = find(abs(S).>tol)\n",
    "    Jl = setdiff(1:n,I)\n",
    "    Jq = setdiff(1:m,I)\n",
    "\n",
    "    Ubar1 = U[I,I]\n",
    "    Ubar2 = U[Jl,Jq]\n",
    "    Qbar1 = Q[I,:]\n",
    "    Lbar1 = L[:,I]\n",
    "\n",
    "    ##########################################\n",
    "    ## Eliminate nonzero elements below and ##\n",
    "    ## on right of invertible block of U,   ##\n",
    "    ## and update L and Q                   ##\n",
    "    ##########################################\n",
    "    if ~isempty(I)\n",
    "        Utmp = U[I,Jq]\n",
    "        X = Ubar1'\\U[Jl,I]'\n",
    "        Ubar2 = Ubar2 - X'*Utmp\n",
    "        Lbar1 = Lbar1 + L[:,Jl]*X'\n",
    "\n",
    "        X = Ubar\\Utmp\n",
    "        Qbar1 = Qbar1 + X*Q[Jq,:]\n",
    "        Utmp = []\n",
    "        X = []\n",
    "    end\n",
    "\n",
    "    ################################################\n",
    "    ## Find rows and cols with only zero elements ##\n",
    "    ################################################\n",
    "    I2 = find(maxabs(Ubar2,2).>tol);\n",
    "    I5 = find(maxabs(Ubar2,1).>tol);\n",
    "\n",
    "    I3 = Jl[I2]\n",
    "    I4 = Jq[I5]\n",
    "    Jq[I5] = []\n",
    "    Jl[I2] = []\n",
    "    U = []\n",
    "\n",
    "    ########################################\n",
    "    ## Find part of U which is not in the ##\n",
    "    ## required form                      ##\n",
    "    ########################################\n",
    "\n",
    "    A = Ubar2[I2,I5]\n",
    "\n",
    "    ####################################\n",
    "    ## Perform luq decomposition on A ##\n",
    "    ####################################\n",
    "    L1,U1,Q1 = luq(A,pivot,tol)\n",
    "\n",
    "    ##################\n",
    "    ## Update L,U,Q ##\n",
    "    ##################\n",
    "    Lbar2 = L[:,I3]*L1\n",
    "    Qbar2 = Q1*Q[I4,:]\n",
    "    L = [Lbar1 Lbar2 L[:,Jl]]\n",
    "    Q = [Qbar1; Qbar2; Q[Jq,:]]\n",
    "\n",
    "    n1,n2,m2 = length(I), length(I3), length(I4)\n",
    "    U = [Ubar1 spzeros(n1,m-n1);spzeros(n2,n1) U1 spzeros(n2,m-n1-m2);spzers(n-n1-n2,m)]\n",
    "\n",
    "    return L,U,Q\n",
    "end\n"
   ]
  },
  {
   "cell_type": "code",
   "execution_count": 74,
   "metadata": {
    "collapsed": false
   },
   "outputs": [
    {
     "ename": "LoadError",
     "evalue": "LoadError: BoundsError: attempt to access 1x10 Array{Int64,2}:\n 3  1  6  8  10  4  9  2  5  7\n  at index [[1,2,3,4,5,6,7,8,9,10],Colon()]\nwhile loading In[74], in expression starting on line 2",
     "output_type": "error",
     "traceback": [
      "LoadError: BoundsError: attempt to access 1x10 Array{Int64,2}:\n 3  1  6  8  10  4  9  2  5  7\n  at index [[1,2,3,4,5,6,7,8,9,10],Colon()]\nwhile loading In[74], in expression starting on line 2",
      "",
      " in throw_boundserror at abstractarray.jl:156",
      " in getindex at abstractarray.jl:468",
      " in luq at In[73]:62"
     ]
    }
   ],
   "source": [
    "A = sprand(10,20,0.4)\n",
    "L,U,Q = luq(A',1e-10)"
   ]
  },
  {
   "cell_type": "code",
   "execution_count": 76,
   "metadata": {
    "collapsed": false
   },
   "outputs": [
    {
     "data": {
      "text/plain": [
       "UMFPACK LU Factorization of a 20-by-10 sparse matrix\n",
       "Ptr{Void} @0x000000000456c240\n"
      ]
     },
     "execution_count": 76,
     "metadata": {},
     "output_type": "execute_result"
    }
   ],
   "source": [
    "lufact(A')"
   ]
  },
  {
   "cell_type": "code",
   "execution_count": 66,
   "metadata": {
    "collapsed": false
   },
   "outputs": [
    {
     "data": {
      "text/plain": [
       "(\n",
       "10x10 Array{Float64,2}:\n",
       " 1.0         0.0       0.0       …   0.0         0.0       0.0      0.0\n",
       " 0.0         1.0       0.0           0.0         0.0       0.0      0.0\n",
       " 0.641221    0.0       1.0           0.0         0.0       0.0      0.0\n",
       " 0.00103891  0.0       0.0           0.0         0.0       0.0      0.0\n",
       " 0.0         0.0       0.0           0.0         0.0       0.0      0.0\n",
       " 0.227658    0.0       0.930291  …   0.0         0.0       0.0      0.0\n",
       " 0.333305    0.0       0.475885      1.0         0.0       0.0      0.0\n",
       " 0.0866356   0.0       0.943914     -0.140653    1.0       0.0      0.0\n",
       " 0.895525    0.231839  0.0          -0.918297   -0.493573  1.0      0.0\n",
       " 0.149049    0.0       0.0           0.0746773   0.531549  0.11283  1.0,\n",
       "\n",
       "10x20 Array{Float64,2}:\n",
       " 0.743768  0.0       0.0        0.681562   …   0.010239     0.372481   \n",
       " 0.0       0.849332  0.0        0.525406       0.0          0.0        \n",
       " 0.0       0.0       0.978995  -0.0416025     -0.00656549  -0.238843   \n",
       " 0.0       0.0       0.0        0.914858       0.280172    -0.000386973\n",
       " 0.0       0.0       0.0        0.0            0.0          0.0        \n",
       " 0.0       0.0       0.0        0.0        …   0.0394424    0.213835   \n",
       " 0.0       0.0       0.0        0.0           -0.172296    -0.111949   \n",
       " 0.0       0.0       0.0        0.0            0.317346     0.0760818  \n",
       " 0.0       0.0       0.0        0.0            0.538894     0.410214   \n",
       " 0.0       0.0       0.0        0.0            0.288416     0.294302   ,\n",
       "\n",
       "Int32[3,4,9,1,10,8,6,2,7,5])"
      ]
     },
     "execution_count": 66,
     "metadata": {},
     "output_type": "execute_result"
    }
   ],
   "source": [
    "L,U,p = lu(full(A))"
   ]
  },
  {
   "cell_type": "code",
   "execution_count": 68,
   "metadata": {
    "collapsed": false
   },
   "outputs": [
    {
     "data": {
      "text/plain": [
       "1.1102230246251565e-16"
      ]
     },
     "execution_count": 68,
     "metadata": {},
     "output_type": "execute_result"
    }
   ],
   "source": [
    "maxabs(L*U - full(A[p,:]))"
   ]
  }
 ],
 "metadata": {
  "kernelspec": {
   "display_name": "Julia 0.4.0",
   "language": "julia",
   "name": "julia-0.4"
  },
  "language_info": {
   "file_extension": ".jl",
   "mimetype": "application/julia",
   "name": "julia",
   "version": "0.4.0"
  }
 },
 "nbformat": 4,
 "nbformat_minor": 0
}
