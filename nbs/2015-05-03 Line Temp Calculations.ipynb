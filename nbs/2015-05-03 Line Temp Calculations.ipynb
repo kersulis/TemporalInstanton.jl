{
 "cells": [
  {
   "cell_type": "markdown",
   "metadata": {},
   "source": [
    "# Mads's linearized forward-Euler integration"
   ]
  },
  {
   "cell_type": "code",
   "execution_count": 1,
   "metadata": {
    "collapsed": false,
    "scrolled": true
   },
   "outputs": [
    {
     "data": {
      "text/html": [
       "<script charset=\"utf-8\">(function ($, undefined) {\n",
       "\n",
       "    function createElem(tag, attr, content) {\n",
       "\t// TODO: remove jQuery dependency\n",
       "\tvar el = $(\"<\" + tag + \"/>\").attr(attr);\n",
       "\tif (content) {\n",
       "\t    el.append(content);\n",
       "\t}\n",
       "\treturn el[0];\n",
       "    }\n",
       "\n",
       "    // A widget must expose an id field which identifies it to the backend,\n",
       "    // an elem attribute which is will be added to the DOM, and\n",
       "    // a getState() method which returns the value to be sent to the backend\n",
       "    // a sendUpdate() method which sends its current value to the backend\n",
       "    var Widget = {\n",
       "\tid: undefined,\n",
       "\telem: undefined,\n",
       "\tlabel: undefined,\n",
       "\tgetState: function () {\n",
       "\t    return this.elem.value;\n",
       "\t},\n",
       "\tsendUpdate: undefined\n",
       "    };\n",
       "\n",
       "    var Slider = function (typ, id, init) {\n",
       "\tvar attr = { type:  \"range\",\n",
       "\t\t     value: init.value,\n",
       "\t\t     min:   init.min,\n",
       "\t\t     max:   init.max,\n",
       "\t\t     step:  init.step },\n",
       "\t    elem = createElem(\"input\", attr),\n",
       "\t    self = this;\n",
       "\n",
       "\telem.onchange = function () {\n",
       "\t    self.sendUpdate();\n",
       "\t}\n",
       "\n",
       "\tthis.id = id;\n",
       "\tthis.elem = elem;\n",
       "\tthis.label = init.label;\n",
       "\n",
       "\tInputWidgets.commInitializer(this); // Initialize communication\n",
       "    }\n",
       "    Slider.prototype = Widget;\n",
       "\n",
       "    var Checkbox = function (typ, id, init) {\n",
       "\tvar attr = { type: \"checkbox\",\n",
       "\t\t     checked: init.value },\n",
       "\t    elem = createElem(\"input\", attr),\n",
       "\t    self = this;\n",
       "\n",
       "\tthis.getState = function () {\n",
       "\t    return elem.checked;\n",
       "\t}\n",
       "\telem.onchange = function () {\n",
       "\t    self.sendUpdate();\n",
       "\t}\n",
       "\n",
       "\tthis.id = id;\n",
       "\tthis.elem = elem;\n",
       "\tthis.label = init.label;\n",
       "\n",
       "\tInputWidgets.commInitializer(this);\n",
       "    }\n",
       "    Checkbox.prototype = Widget;\n",
       "\n",
       "    var Button = function (typ, id, init) {\n",
       "\tvar attr = { type:    \"button\",\n",
       "\t\t     value:   init.label },\n",
       "\t    elem = createElem(\"input\", attr),\n",
       "\t    self = this;\n",
       "\tthis.getState = function () {\n",
       "\t    return null;\n",
       "\t}\n",
       "\telem.onclick = function () {\n",
       "\t    self.sendUpdate();\n",
       "\t}\n",
       "\n",
       "\tthis.id = id;\n",
       "\tthis.elem = elem;\n",
       "\tthis.label = init.label;\n",
       "\n",
       "\tInputWidgets.commInitializer(this);\n",
       "    }\n",
       "    Button.prototype = Widget;\n",
       "\n",
       "    var Text = function (typ, id, init) {\n",
       "\tvar attr = { type:  \"text\",\n",
       "\t\t     placeholder: init.label,\n",
       "\t\t     value: init.value },\n",
       "\t    elem = createElem(\"input\", attr),\n",
       "\t    self = this;\n",
       "\tthis.getState = function () {\n",
       "\t    return elem.value;\n",
       "\t}\n",
       "\telem.onkeyup = function () {\n",
       "\t    self.sendUpdate();\n",
       "\t}\n",
       "\n",
       "\tthis.id = id;\n",
       "\tthis.elem = elem;\n",
       "\tthis.label = init.label;\n",
       "\n",
       "\tInputWidgets.commInitializer(this);\n",
       "    }\n",
       "    Text.prototype = Widget;\n",
       "\n",
       "    var Textarea = function (typ, id, init) {\n",
       "\tvar attr = { placeholder: init.label },\n",
       "\t    elem = createElem(\"textarea\", attr, init.value),\n",
       "\t    self = this;\n",
       "\tthis.getState = function () {\n",
       "\t    return elem.value;\n",
       "\t}\n",
       "\telem.onchange = function () {\n",
       "\t    self.sendUpdate();\n",
       "\t}\n",
       "\n",
       "\tthis.id = id;\n",
       "\tthis.elem = elem;\n",
       "\tthis.label = init.label;\n",
       "\n",
       "\tInputWidgets.commInitializer(this);\n",
       "    }\n",
       "    Textarea.prototype = Widget;\n",
       "\n",
       "    // RadioButtons\n",
       "    // Dropdown\n",
       "    // HTML\n",
       "    // Latex\n",
       "\n",
       "    var InputWidgets = {\n",
       "\tSlider: Slider,\n",
       "\tCheckbox: Checkbox,\n",
       "\tButton: Button,\n",
       "\tText: Text,\n",
       "\tTextarea: Textarea,\n",
       "\tdebug: false,\n",
       "\tlog: function () {\n",
       "\t    if (InputWidgets.debug) {\n",
       "\t\tconsole.log.apply(console, arguments);\n",
       "\t    }\n",
       "\t},\n",
       "\t// a central way to initalize communication\n",
       "\t// for widgets.\n",
       "\tcommInitializer: function (widget) {\n",
       "\t    widget.sendUpdate = function () {};\n",
       "\t}\n",
       "    };\n",
       "\n",
       "    window.InputWidgets = InputWidgets;\n",
       "\n",
       "})(jQuery, undefined);\n",
       "</script>"
      ]
     },
     "metadata": {},
     "output_type": "display_data"
    },
    {
     "data": {
      "text/html": [
       "<script charset=\"utf-8\">(function (IPython, $, _, MathJax, Widgets) {\n",
       "    $.event.special.destroyed = {\n",
       "\tremove: function(o) {\n",
       "\t    if (o.handler) {\n",
       "\t\to.handler.apply(this, arguments)\n",
       "\t    }\n",
       "\t}\n",
       "    }\n",
       "\n",
       "    var redrawValue = function (container, type, val) {\n",
       "\tvar selector = $(\"<div/>\");\n",
       "\tvar oa = new IPython.OutputArea(_.extend(selector, {\n",
       "\t    selector: selector,\n",
       "\t    prompt_area: true,\n",
       "\t    events: IPython.events,\n",
       "\t    keyboard_manager: IPython.keyboard_manager\n",
       "\t})); // Hack to work with IPython 2.1.0\n",
       "\n",
       "\tswitch (type) {\n",
       "\tcase \"image/png\":\n",
       "            var _src = 'data:' + type + ';base64,' + val;\n",
       "\t    $(container).find(\"img\").attr('src', _src);\n",
       "\t    break;\n",
       "\tdefault:\n",
       "\t    var toinsert = IPython.OutputArea.append_map[type].apply(\n",
       "\t\toa, [val, {}, selector]\n",
       "\t    );\n",
       "\t    $(container).empty().append(toinsert.contents());\n",
       "\t    selector.remove();\n",
       "\t}\n",
       "\tif (type === \"text/latex\" && MathJax) {\n",
       "\t    MathJax.Hub.Queue([\"Typeset\", MathJax.Hub, toinsert.get(0)]);\n",
       "\t}\n",
       "    }\n",
       "\n",
       "\n",
       "    $(document).ready(function() {\n",
       "\tWidgets.debug = false; // log messages etc in console.\n",
       "\tfunction initComm(evt, data) {\n",
       "\t    var comm_manager = data.kernel.comm_manager;\n",
       "        //_.extend(comm_manager.targets, require(\"widgets/js/widget\"))\n",
       "\t    comm_manager.register_target(\"Signal\", function (comm) {\n",
       "            comm.on_msg(function (msg) {\n",
       "                //Widgets.log(\"message received\", msg);\n",
       "                var val = msg.content.data.value;\n",
       "                $(\".signal-\" + comm.comm_id).each(function() {\n",
       "                var type = $(this).data(\"type\");\n",
       "                if (val[type]) {\n",
       "                    redrawValue(this, type, val[type], type);\n",
       "                }\n",
       "                });\n",
       "                delete val;\n",
       "                delete msg.content.data.value;\n",
       "            });\n",
       "\t    });\n",
       "\n",
       "\t    // coordingate with Comm and redraw Signals\n",
       "\t    // XXX: Test using Reactive here to improve performance\n",
       "\t    $([IPython.events]).on(\n",
       "\t\t'output_appended.OutputArea', function (event, type, value, md, toinsert) {\n",
       "\t\t    if (md && md.reactive) {\n",
       "                // console.log(md.comm_id);\n",
       "                toinsert.addClass(\"signal-\" + md.comm_id);\n",
       "                toinsert.data(\"type\", type);\n",
       "                // Signal back indicating the mimetype required\n",
       "                var comm_manager = IPython.notebook.kernel.comm_manager;\n",
       "                var comm = comm_manager.comms[md.comm_id];\n",
       "                comm.then(function (c) {\n",
       "                    c.send({action: \"subscribe_mime\",\n",
       "                       mime: type});\n",
       "                    toinsert.bind(\"destroyed\", function() {\n",
       "                        c.send({action: \"unsubscribe_mime\",\n",
       "                               mime: type});\n",
       "                    });\n",
       "                })\n",
       "\t\t    }\n",
       "\t    });\n",
       "\t}\n",
       "\n",
       "\ttry {\n",
       "\t    // try to initialize right away. otherwise, wait on the status_started event.\n",
       "\t    initComm(undefined, IPython.notebook);\n",
       "\t} catch (e) {\n",
       "\t    $([IPython.events]).on('status_started.Kernel', initComm);\n",
       "\t}\n",
       "    });\n",
       "})(IPython, jQuery, _, MathJax, InputWidgets);\n",
       "</script>"
      ]
     },
     "metadata": {},
     "output_type": "display_data"
    },
    {
     "name": "stderr",
     "output_type": "stream",
     "text": [
      "INFO: Loading help data...\n"
     ]
    }
   ],
   "source": [
    "using Interact\n",
    "using PyPlot"
   ]
  },
  {
   "cell_type": "code",
   "execution_count": 79,
   "metadata": {
    "collapsed": false
   },
   "outputs": [
    {
     "data": {
      "text/plain": [
       "temp_balance (generic function with 1 method)"
      ]
     },
     "execution_count": 79,
     "metadata": {},
     "output_type": "execute_result"
    }
   ],
   "source": [
    "function temp_balance(ΔT,Δf,Δd;τ=0.797,ρ=0.157,δ=0.193)\n",
    "    \"\"\" Implementation of linearized forward-Euler integration\n",
    "    of transmission line temperature. Based on IEEE Standard 738\n",
    "    and Mads's 2015 MPC paper.\n",
    "    \n",
    "    Returns change in temperature at next time step based on\n",
    "    values from current step.\n",
    "    \"\"\"\n",
    "    \n",
    "    return τ*ΔT + ρ*Δf + δ*Δd\n",
    "end"
   ]
  },
  {
   "cell_type": "code",
   "execution_count": 3,
   "metadata": {
    "collapsed": false
   },
   "outputs": [
    {
     "data": {
      "text/plain": [
       "55.0"
      ]
     },
     "execution_count": 3,
     "metadata": {},
     "output_type": "execute_result"
    }
   ],
   "source": [
    "τ = 0.797\n",
    "ρ = 0.157\n",
    "δ = 0\n",
    "Sb = 100e6 # VA\n",
    "Rij = 110e-6 # Ohms/m\n",
    "Ilim = 439 # A\n",
    "length = 88514. # m\n",
    "\n",
    "max_time = 10 # minutes\n",
    "temp_limit = 63. # Celsius\n",
    "start_temp = 55. # Celsius"
   ]
  },
  {
   "cell_type": "code",
   "execution_count": 21,
   "metadata": {
    "collapsed": false
   },
   "outputs": [
    {
     "data": {
      "text/plain": [
       "-8.0"
      ]
     },
     "execution_count": 21,
     "metadata": {},
     "output_type": "execute_result"
    }
   ],
   "source": [
    "ΔT0 = start_temp - temp_limit"
   ]
  },
  {
   "cell_type": "code",
   "execution_count": 24,
   "metadata": {
    "collapsed": false
   },
   "outputs": [
    {
     "data": {
      "text/plain": [
       "-0.8273193859729461"
      ]
     },
     "execution_count": 24,
     "metadata": {},
     "output_type": "execute_result"
    }
   ],
   "source": [
    "ΔT0*τ^max_time"
   ]
  },
  {
   "cell_type": "code",
   "execution_count": 43,
   "metadata": {
    "collapsed": false
   },
   "outputs": [
    {
     "data": {
      "text/plain": [
       "115.86655874902365"
      ]
     },
     "execution_count": 43,
     "metadata": {},
     "output_type": "execute_result"
    }
   ],
   "source": [
    "f_loss = 0.5\n",
    "delta_f = f_loss*Sb/(3*length) - Rij*Ilim^2\n",
    "ρ*delta_f*(1-(τ^max_time))/(1-τ)"
   ]
  },
  {
   "cell_type": "code",
   "execution_count": 61,
   "metadata": {
    "collapsed": false
   },
   "outputs": [
    {
     "data": {
      "text/plain": [
       "-10.213000000000001"
      ]
     },
     "execution_count": 61,
     "metadata": {},
     "output_type": "execute_result"
    }
   ],
   "source": [
    "temp_balance(-15., 11.,0)"
   ]
  },
  {
   "cell_type": "code",
   "execution_count": 80,
   "metadata": {
    "collapsed": true
   },
   "outputs": [
    {
     "data": {
      "text/html": [],
      "text/plain": [
       "Slider{Float64}([Input{Float64}] 0.25,\"f_loss\",0.25,0.0:0.01:0.5)"
      ]
     },
     "metadata": {},
     "output_type": "display_data"
    },
    {
     "data": {
      "image/png": "[encoded data removed]",
      "text/plain": [
       "Figure(PyObject <matplotlib.figure.Figure object at 0x7f3ac2c98e50>)"
      ]
     },
     "execution_count": 80,
     "metadata": {
      "comm_id": "b6b5929f-e7c1-41c6-a384-f96bc40085ac",
      "reactive": true
     },
     "output_type": "execute_result"
    }
   ],
   "source": [
    "f = figure()\n",
    "@manipulate for f_loss in 0:0.01:0.5; withfig(f) do\n",
    "        temp = Array(FloatingPoint,0)\n",
    "        push!(temp,start_temp)\n",
    "        delta_f = f_loss*Sb/(3*length) - Rij*Ilim^2\n",
    "        \n",
    "        ΔT0 = start_temp - temp_limit\n",
    "        check = start_temp + (τ^max_time)*ΔT0 + ρ*delta_f*(1-(τ^max_time))/(1-τ)\n",
    "        for t = 1:max_time\n",
    "            ΔT = temp_balance(temp[end]-temp_limit, delta_f, 0)\n",
    "            push!(temp, temp[end] + ΔT)\n",
    "        end\n",
    "        plot(temp)\n",
    "        hold = true\n",
    "        scatter([max_time],[check])\n",
    "    end\n",
    "end"
   ]
  },
  {
   "cell_type": "code",
   "execution_count": 39,
   "metadata": {
    "collapsed": false
   },
   "outputs": [],
   "source": [
    "delta_T = Array(FloatingPoint,0)\n",
    "push!(delta_T, start_temp - temp_limit)\n",
    "\n",
    "for t = 1:max_time\n",
    "    push!(delta_T, temp_balance(delta_T[end],delta_f, 0))\n",
    "end"
   ]
  },
  {
   "cell_type": "code",
   "execution_count": 40,
   "metadata": {
    "collapsed": true
   },
   "outputs": [
    {
     "data": {
      "text/plain": [
       "11-element Array{FloatingPoint,1}:\n",
       "  -8.0   \n",
       "  19.8659\n",
       "  42.0471\n",
       "  59.7034\n",
       "  73.7578\n",
       "  84.9451\n",
       "  93.8502\n",
       " 100.939 \n",
       " 106.581 \n",
       " 111.072 \n",
       " 114.648 "
      ]
     },
     "execution_count": 40,
     "metadata": {},
     "output_type": "execute_result"
    }
   ],
   "source": [
    "delta_T"
   ]
  },
  {
   "cell_type": "markdown",
   "metadata": {},
   "source": [
    "Linearize about the temperature limit, so begin with negative $\\Delta T$. We want to know how much wind deviation it would take to drive $\\Delta T$ to zero (i.e., send the line temperature to its maximum allowable value.)"
   ]
  },
  {
   "cell_type": "code",
   "execution_count": 8,
   "metadata": {
    "collapsed": true
   },
   "outputs": [
    {
     "data": {
      "text/plain": [
       "120-element Array{Float64,1}:\n",
       "   4828.02\n",
       "  88513.7 \n",
       "  35405.5 \n",
       "  53108.2 \n",
       "  80467.0 \n",
       "  49889.5 \n",
       "      0.0 \n",
       "  43452.2 \n",
       "  37014.8 \n",
       "  25749.4 \n",
       "  25749.4 \n",
       "  67592.3 \n",
       "  69201.6 \n",
       "      ⋮   \n",
       "  16093.4 \n",
       " 117482.0 \n",
       "  28968.1 \n",
       "  28968.1 \n",
       "  44256.8 \n",
       "  44256.8 \n",
       "  24140.1 \n",
       "  24140.1 \n",
       "  75639.0 \n",
       " 107826.0 \n",
       " 115872.0 \n",
       "      0.0 "
      ]
     },
     "execution_count": 8,
     "metadata": {},
     "output_type": "execute_result"
    }
   ],
   "source": [
    "line_lengths = 1609.34*[\n",
    "    3  \n",
    "    55  \n",
    "    22  \n",
    "    33  \n",
    "    50  \n",
    "    31  \n",
    "     0  \n",
    "    27  \n",
    "    23  \n",
    "    16  \n",
    "    16  \n",
    "    42  \n",
    "    43  \n",
    "    43  \n",
    "     0  \n",
    "     0  \n",
    "     0  \n",
    "     0  \n",
    "    33  \n",
    "    29  \n",
    "    33  \n",
    "    67  \n",
    "    60  \n",
    "    52  \n",
    "    27  \n",
    "    12  \n",
    "    34  \n",
    "    34  \n",
    "    36  \n",
    "    18  \n",
    "    16  \n",
    "    10  \n",
    "    73  \n",
    "    18  \n",
    "    18  \n",
    "    27.5\n",
    "    27.5\n",
    "    15  \n",
    "    15  \n",
    "    47  \n",
    "    51  \n",
    "     3  \n",
    "    55  \n",
    "    22  \n",
    "    33  \n",
    "    50  \n",
    "    31  \n",
    "     0  \n",
    "    27  \n",
    "    23  \n",
    "    16  \n",
    "    16  \n",
    "    43  \n",
    "    43  \n",
    "     0  \n",
    "     0  \n",
    "     0  \n",
    "     0  \n",
    "    33  \n",
    "    29  \n",
    "    33  \n",
    "    67  \n",
    "    60  \n",
    "    27  \n",
    "    12  \n",
    "    34  \n",
    "    34  \n",
    "    36  \n",
    "    18  \n",
    "    16  \n",
    "    10  \n",
    "    73  \n",
    "    18  \n",
    "    18  \n",
    "    27.5\n",
    "    27.5\n",
    "    15  \n",
    "    15  \n",
    "    47  \n",
    "     3  \n",
    "    55  \n",
    "    22  \n",
    "    33  \n",
    "    50  \n",
    "    31  \n",
    "     0  \n",
    "    27  \n",
    "    23  \n",
    "    16  \n",
    "    16  \n",
    "    43  \n",
    "    43  \n",
    "     0  \n",
    "     0  \n",
    "     0  \n",
    "     0  \n",
    "    33  \n",
    "    29  \n",
    "    33  \n",
    "    67  \n",
    "    60  \n",
    "    27  \n",
    "    12  \n",
    "    34  \n",
    "    34  \n",
    "    36  \n",
    "    18  \n",
    "    16  \n",
    "    10  \n",
    "    73  \n",
    "    18  \n",
    "    18  \n",
    "    27.5\n",
    "    27.5\n",
    "    15  \n",
    "    15  \n",
    "    47  \n",
    "    67  \n",
    "    72  \n",
    "    0  ]"
   ]
  },
  {
   "cell_type": "markdown",
   "metadata": {},
   "source": [
    "## Discussion on recursive behavior of Euler integration\n",
    "\n",
    "Suppose we are interested in a thirty-minute time horizon. First, we divide this into three ten-minute intervals. We assume that power balance and ambient conditions are fixed during each interval. The temperature change during an interval is found via forward Euler integration of the temperature balance equation. The sample time used for this integration must be less than the conductor's thermal time constant to ensure numerical stability. A sample time of 60s is adequate for the conductors in the RTS-96: Waxwing and Dove ACSR.\n",
    "\n",
    "To find the temperature at the end of a ten-minute interval, we must know\n",
    "\n",
    "1. the angle difference across the line during the interval, and\n",
    "2. line temperature at the beginning of the interval\n",
    "\n",
    "Unfortunately, this introduces coupling between time steps. It is impossible to calculate the change in temperature during a ten-minute interval without knowing the line temperature at the end of the previous interval.\n",
    "\n",
    "Because the discretized temperature balance equation represents a linearization of the continuous equation about the temperature limit, we wish to constrain the value of $\\Delta T$ during the last ten-minute interval to be 0. This corresponds to the line reaching its highest allowable temperature."
   ]
  },
  {
   "cell_type": "code",
   "execution_count": 76,
   "metadata": {
    "collapsed": false
   },
   "outputs": [
    {
     "data": {
      "text/plain": [
       "97.12817537550295"
      ]
     },
     "execution_count": 76,
     "metadata": {},
     "output_type": "execute_result"
    }
   ],
   "source": [
    "ΔT0 = start_temp - temp_limit\n",
    "k = (τ/(1-τ))*(1-τ^max_time)\n",
    "ΔT0*k + (ρ*delta_f/(1-τ))*(max_time - k)"
   ]
  },
  {
   "cell_type": "code",
   "execution_count": 77,
   "metadata": {
    "collapsed": false
   },
   "outputs": [],
   "source": [
    "τ = 0.797\n",
    "ρ = 0.157\n",
    "δ = 0\n",
    "Sb = 100e6 # VA\n",
    "Rij = 110e-6 # Ohms/m\n",
    "Ilim = 439 # A\n",
    "length = 88514. # m\n",
    "\n",
    "max_time = 10 # minutes\n",
    "temp_limit = 63. # Celsius\n",
    "start_temp = 55. # Celsius\n",
    "\n",
    "temp = [start_temp]\n",
    "ΔT = start_temp - temp_limit\n",
    "\n",
    "delta_f = 25.\n",
    "for t = 1:max_time\n",
    "    ΔT = temp_balance(ΔT,delta_f,0,τ=-0.797)\n",
    "    push!(temp,temp[end] + ΔT)\n",
    "end"
   ]
  },
  {
   "cell_type": "code",
   "execution_count": 78,
   "metadata": {
    "collapsed": true
   },
   "outputs": [
    {
     "data": {
      "text/plain": [
       "11-element Array{Float64,1}:\n",
       " 55.0   \n",
       " 65.301 \n",
       " 61.0161\n",
       " 68.3562\n",
       " 66.4311\n",
       " 71.8904\n",
       " 71.4644\n",
       " 75.7289\n",
       " 76.2551\n",
       " 79.7607\n",
       " 80.8917"
      ]
     },
     "execution_count": 78,
     "metadata": {},
     "output_type": "execute_result"
    }
   ],
   "source": [
    "temp"
   ]
  },
  {
   "cell_type": "markdown",
   "metadata": {},
   "source": [
    "# Solution of heat balance IVP with linearized radiative heat rate"
   ]
  },
  {
   "cell_type": "markdown",
   "metadata": {},
   "source": [
    "The change in temperature of any object may be expressed as a differential equation. This equation, called the heat balance equation, relates change in temperature to a sum of various sources of heating. For a transmission line, these sources are:\n",
    "\n",
    "* Resistive heating, also known as $I^2R$ losses. This heat source is a function of power flow on the line. In general, the line's resistance varies with temperature, making this calculation more complicated than it appears.\n",
    "\n",
    "* Convective heating, which is directly proportional to the temperature difference between the line and the surrounding air. If the line is hotter than the surrounding air, it will \"give off heat\" via convection -- particles moving away from the line will carry energy with them.\n",
    "\n",
    "* Radiative heating. This heating is related to line and ambient temperatures raised to the fourth power. Physically, thermal radiation is the process by which thermal energy is converted to electromagnetic energy. It takes place in all objects whose abosolute temperature is greater than zero.\n",
    "\n",
    "* Solar irradiation. The sun imparts energy to the transmission line according. The magnitude of this energy transfer is a function of clouds, geometry, and the line's insulation material. Reflective insulation admits very little solar energy, while black insulation results in significant solar thermal heating."
   ]
  },
  {
   "cell_type": "markdown",
   "metadata": {},
   "source": [
    "These heat sources are summed together in the heat balance equation, which tells us how quickly (and in what direction) the transmission line's temperature will change:\n",
    "\n",
    "$$\n",
    "\\begin{align}\n",
    "\\frac{dT_{avg}}{dt} &= \\frac{1}{m\\cdot C_p}\\left[I^2\\cdot R(T_{avg}) - q_c - q_r + q_s \\right]\n",
    "\\end{align}\n",
    "$$\n",
    "\n",
    "In this equation, $I^2\\cdot R(T_{avg})$ represents line losses, $q_c$ is the convective heat rate, $q_r$ is the radiative heat rate, and $q_s$ is the solar heat rate. \n",
    "\n",
    "* In our model, $I^2\\cdot R(T_{avg})$ is replaced by $f_{ij}^\\text{loss}$, the DC approximate line losses.\n",
    "\n",
    "* The convective heat rate is expressed as $\\eta_c\\cdot(T - T_\\text{amb})$, where $T$ is the line temperature and $T_\\text{amb}$ is the ambient temperature. \n",
    "\n",
    "* The radiative heat rate is given by $\\eta_r\\cdot\\left[(T + 273)^4 - (T_\\text{amb} + 273)^4\\right]$.\n",
    "\n",
    "* The solar heat rate is fixed to some conservative constant (say, full direct sun)."
   ]
  },
  {
   "cell_type": "markdown",
   "metadata": {},
   "source": [
    "When the heat balance is combined with a given initial temperature, the resulting initial value problem makes it possible to determine the temperature at some later time. Let's substitute what we know into the differential equation and attempt to solve it:\n",
    "\n",
    "$$\n",
    "\\begin{align}\n",
    "\\dot{T}(t) &= \\frac{1}{mC_p}\\left[ f_{ij}^\\text{loss} - \\eta_c\\left( T(t) - T_\\text{amb}\\right) - \\eta_r\\left((T(t) + 273)^4 - (T_\\text{amb} + 273)^4\\right) + q_s \\right]\n",
    "\\end{align}\n",
    "$$\n",
    "\n",
    "Suppose that power flow, ambient temperature, and solar heat rate are constant during the temperature change calculation. Then there are only two variable terms on the right-hand side: one first-order, one fourth-order. The fourth-order term (which corresponds to radiative heat loss) makes this equation difficult to solve. Fortunately, the radiative heat loss rate behaves approximately linearly over the temperature range we are interested in. The figure below illustrates this linear behavior. (Note that it is better to underestimate the radiative heat loss rate -- this is conservative.)\n",
    "\n",
    "<img src=\"../images/rad_approx.png\" width=500px>\n",
    "\n",
    "The green trace is the linearization of $q_r$ about the $T_\\text{mid}$, the midpoint between the ambient and limit temperatures. Let's replace $q_r$ by this linear approximation $\\tilde{q}_r$:\n",
    "\n",
    "$$\n",
    "\\begin{align}\n",
    "\\dot{T}(t) &= \\frac{1}{mC_p}\\left[ f_{ij}^\\text{loss} - \\eta_c\\left( T(t) - T_\\text{amb}\\right) - \\tilde{q}_r + q_s \\right]\n",
    "\\end{align}\n",
    "$$\n",
    "where\n",
    "\n",
    "$$\n",
    "\\begin{align}\n",
    "\\tilde{q}_r &= \\eta_r  \\left( (T_\\text{mid} + 273)^4 - (T_\\text{amb} + 273)^4\\right) + 4\\eta_r(T_\\text{mid} + 273)^3\\cdot(T(t) - T_\\text{mid})\n",
    "\\end{align}\n",
    "$$"
   ]
  },
  {
   "cell_type": "markdown",
   "metadata": {},
   "source": [
    "After simplification, the approximate heat balance equation becomes\n",
    "\n",
    "$$\n",
    "\\begin{align}\n",
    "\\dot{T}(t) &= aT(t) + b\n",
    "\\end{align}\n",
    "$$\n",
    "\n",
    "where\n",
    "\n",
    "$$\n",
    "\\begin{align}\n",
    "a &= \\frac{1}{mC_p}\\left[ -\\eta_c - 4\\eta_r(T_\\text{mid} + 273)^3 \\right] \\\\\n",
    "b &= \\frac{1}{mC_p}\\left[ f_{ij}^\\text{loss} + \\eta_cT_\\text{amb} - \\eta_r\\left((T_\\text{mid} + 273)^4 - (T_\\text{amb} + 273)^4\\right) + 4\\eta_rT_\\text{mid}(T_\\text{mid} + 273)^3 + q_s \\right]\n",
    "\\end{align}\n",
    "$$\n",
    "\n",
    "This differential equation has a straightforward solution:\n",
    "\n",
    "$$\n",
    "\\begin{align}\n",
    "T(t) &= ke^{at} - \\frac{b}{a}\n",
    "\\end{align}\n",
    "$$\n",
    "\n",
    "where $k=T(0) + b/a$. Note that $b$ is influenced by power flow (via $f_{ij}^\\text{loss}$), but $a$ is not."
   ]
  },
  {
   "cell_type": "markdown",
   "metadata": {},
   "source": [
    "# From IVP to optimization constraint\n",
    "\n",
    "The important thing to note about the temperature IVP solution is that it is influenced only by initial temperature and the angle difference during each time interval. There is therefore a recursive relationship between final temperature and initial temperature that involves only the anle differences. Suppose there are three time intervals, $t_1$, $t_2$, and $t_3$. Then the line temperature at the end of the third interval is given by\n",
    "\n",
    "\\begin{align}\n",
    "T(t_3) &= k_3 e^{(t_3-t_2)a} - \\frac{b_3}{a} \\\\\n",
    "&= \\left[k_2 e^{(t_2-t_1)a} - \\frac{b_2}{a} + \\frac{b_3}{a}\\right]e^{(t_3-t_2)a} - \\frac{b_3}{a} \\\\\n",
    "&= \\left[\\left( T(t_1) + \\frac{b_2}{a} \\right)e^{(t_2-t_1)a} - \\frac{b_2}{a} + \\frac{b_3}{a}\\right]e^{(t_3-t_2)a} - \\frac{b_3}{a} \\\\\n",
    "&= \\left\\lbrace\\left[\\left(T(t_0) + \\frac{b_1}{a}\\right) e^{(t_1-t_0)a} - \\frac{b_1}{a} + \\frac{b_2}{a}\\right]e^{(t_2-t_1)a} - \\frac{b_2}{a} + \\frac{b_3}{a}\\right\\rbrace e^{(t_3-t_2)a} - \\frac{b_3}{a}\n",
    "\\end{align}\n",
    "\n",
    "The recursive pattern is apparent. Because all time intervals are the same length, $e^{(t_3-t_2)a} = e^{(t_2-t_1)a} = e^{(t_1-t_0)a}$, and we can distribute in the last line above to obtain\n",
    "\n",
    "\\begin{align}\n",
    "T(t_3) &= (e^{(t_1-t_0)a})^3\\left(T(t_0) + \\frac{b_1}{a}\\right) + (e^{(t_1-t_0)a})^2\\left(- \\frac{b_1}{a} + \\frac{b_2}{a}\\right) + (e^{(t_1-t_0)a})\\left(- \\frac{b_2}{a} + \\frac{b_3}{a}\\right) - \\frac{b_3}{a}\n",
    "\\end{align}\n",
    "\n",
    "Because power flow data enters through the $b_i$, it makes sense to group terms accordingly:\n",
    "\n",
    "\\begin{align}\n",
    "T(t_3) &= ((e^{(t_1-t_0)a})^3T(t_0) + \\left(\\frac{(e^{(t_1-t_0)a})^3}{a} - \\frac{(e^{(t_1-t_0)a})^2}{a}\\right)b_1 + \\left( \\frac{(e^{(t_1-t_0)a})^2}{a} - \\frac{(e^{(t_1-t_0)a})^1}{a}\\right)b_2 + \\left(\\frac{e^{(t_1-t_0)a}}{a} - \\frac{1}{a}\\right) b_3\n",
    "\\end{align}"
   ]
  },
  {
   "cell_type": "markdown",
   "metadata": {},
   "source": [
    "The pattern in the above expression makes it easy to extend $T(t_3)$ to cover the general case $T(t_n)$:\n",
    "\n",
    "\\begin{align}\n",
    "T(t_n) &= (e^{(t_1 - t_0)a})^n T(t_0) + \\frac{1}{a} \\sum_{i=1}^n \\left( (e^{(t_1-t_0)a})^i - (e^{(t_1-t_0)a})^{i-1} \\right)b_{n-i+1}\n",
    "\\end{align}\n",
    "\n",
    "Ultimately the above expression will be used to constrain a line's final temperature to some limiting value. The remainder of this section will relate the expression back to power flow angles so it can be \"plugged in\" to the optimization framework."
   ]
  },
  {
   "cell_type": "markdown",
   "metadata": {},
   "source": [
    "Recall that $b_n$ depends on the angle difference at time $t_n$:\n",
    "\n",
    "\\begin{align}\n",
    "b_n &= \\frac{1}{mC_p} \\left[ \\frac{r_{ij}}{x_{ij}^2}\\cdot \\frac{S_b}{3L_{ij}} \\theta_{ij}(t_n)^2 + \\eta_cT_\\text{amb} - \\eta_r\\left((T_\\text{mid} + 273)^4 - (T_\\text{amb} + 273)^4\\right) + 4\\eta_rT_\\text{mid}(T_\\text{mid} + 273)^3 + q_s \\right] \\\\\n",
    "&= c\\theta_{ij}(t_n)^2 + d\n",
    "\\end{align}\n",
    "\n",
    "where\n",
    "\n",
    "\\begin{align}\n",
    "c &= \\frac{r_{ij}S_b}{3 mC_p x_{ij}^2L_{ij}} & d &= \\frac{1}{mC_p}\\left[ \\eta_cT_\\text{amb} - \\eta_r\\left((T_\\text{mid} + 273)^4 - (T_\\text{amb} + 273)^4\\right) + 4\\eta_rT_\\text{mid}(T_\\text{mid} + 273)^3 + q_s \\right]\n",
    "\\end{align}"
   ]
  },
  {
   "cell_type": "markdown",
   "metadata": {},
   "source": [
    "Substitute into the temperature equation:\n",
    "\n",
    "\\begin{align}\n",
    "T(t_n) &= (e^{(t_1 - t_0)a})^n T(t_0) + \\frac{1}{a} \\sum_{i=1}^n \\left( (e^{(t_1-t_0)a})^i - (e^{(t_1-t_0)a})^{i-1} \\right)(c\\theta_{ij}(t_{n-i+1})^2 + d)\n",
    "\\end{align}"
   ]
  },
  {
   "cell_type": "markdown",
   "metadata": {},
   "source": [
    "Expand the sum term:\n",
    "\n",
    "\\begin{align}\n",
    "\\frac{1}{a} \\sum_{i=1}^n \\left( (e^{(t_1-t_0)a})^i - (e^{(t_1-t_0)a})^{i-1} \\right)(c\\theta_{ij}(t_{n-i+1})^2 + d) &= \\frac{c}{a}\\left[ \\sum_{i=1}^n \\left( (e^{(t_1-t_0)a})^i - (e^{(t_1-t_0)a})^{i-1} \\right)\\theta_{ij}(t_{n-i+1})^2\\right] + \\\\ & \\qquad + \\frac{d}{a}\\left[ \\sum_{i=1}^n \\left( (e^{(t_1-t_0)a})^i - (e^{(t_1-t_0)a})^{i-1} \\right)\\right] \n",
    "\\end{align}\n",
    "\n",
    "Substitute into the line temperature equation, introducing the constant $f$ to keep things a bit neater:\n",
    "\n",
    "\\begin{align}\n",
    "T(t_n) &= f + \\frac{c}{a}\\left[ \\sum_{i=1}^n \\left( (e^{(t_1-t_0)a})^i - (e^{(t_1-t_0)a})^{i-1} \\right)\\theta_{ij}(t_{n-i+1})^2\\right]\n",
    "\\end{align}\n",
    "\n",
    "where\n",
    "\n",
    "\\begin{align}\n",
    "f &= (e^{(t_1 - t_0)a})^n T(t_0) + \\frac{d}{a}\\left[ \\sum_{i=1}^n \\left( (e^{(t_1-t_0)a})^i - (e^{(t_1-t_0)a})^{i-1} \\right)\\right]\n",
    "\\end{align}"
   ]
  },
  {
   "cell_type": "markdown",
   "metadata": {},
   "source": [
    "Solve for angle differences:\n",
    "\n",
    "\\begin{align}\n",
    "\\sum_{i=1}^n \\left( (e^{(t_1-t_0)a})^i - (e^{(t_1-t_0)a})^{i-1} \\right)\\theta_{ij}(t_{n-i+1})^2 &= \\frac{a}{c}(T(t_n) - f)\n",
    "\\end{align}"
   ]
  },
  {
   "cell_type": "markdown",
   "metadata": {},
   "source": [
    "Now define $\\hat{\\theta}_{ij}(t_{k})=  \\theta_{ij}(t_k)\\sqrt{ (e^{(t_1-t_0)a})^{n-k+1} - (e^{(t_1-t_0)a})^{n-k} } $ to obtain\n",
    "\n",
    "\\begin{align}\n",
    "\\sum_{k=1}^n \\hat{\\theta}_{ij}(t_{k})^2 &= \\frac{a}{c}\\left(T(t_n) - f\\right)\n",
    "\\end{align}\n",
    "\n",
    "This expression may be used to constrain line temperature to be equal to some limiting value by the end of the last time interval."
   ]
  },
  {
   "cell_type": "markdown",
   "metadata": {},
   "source": [
    "## Summary of line temperature constraint\n",
    "\n",
    "Suppose our time horizon consists of $n$ intervals, each on the order of ten minutes long. Power flow data is updated after each interval, but all other parameters remain constant. We choose a single transmission line in the network, the line between nodes $i$ and $j$. This line has a thermal limit of $T_\\text{lim}$ degrees Celsius. We can constrain the line's temperature to be equal to this limiting value by enforcing the second-order constraint:\n",
    "\n",
    "\\begin{align}\n",
    "\\sum_{k=1}^n \\hat{\\theta}_{ij}(t_k)^2 &= \\frac{a}{c}\\left(T(t_n) - f\\right)\n",
    "\\end{align}\n",
    "\n",
    "where\n",
    "\n",
    "* $\\hat{\\theta}_{ij}(t_{k})=  \\theta_{ij}(t_k)\\sqrt{ (e^{(t_1-t_0)a})^{n-k+1} - (e^{(t_1-t_0)a})^{n-k} } $\n",
    "    * $\\theta_{ij}(t_k)$ is the angle difference across line $ij$ at time interval $t_k$.\n",
    "    * $t_1-t_0$ is the length of each time interval (in seconds)\n",
    "* $a = \\frac{1}{mC_p}\\left[ -\\eta_c - 4\\eta_r(T_\\text{mid} + 273)^3 \\right]$ has units of $s^{-1}$\n",
    "    * $mC_p$ is the heat capacity, with units of J/m-$^\\circ$C\n",
    "    * $\\eta_c$ is the conductive heat loss rate coefficient, with units of W/m-$^\\circ$C\n",
    "    * $\\eta_r$ is the conductive heat loss rate coefficient, with units of W/m-$^\\circ$C$^4$\n",
    "    * $T_\\text{mid}$ is the average of ambient temperature $T_\\text{amb}$ and limit temperature $T_\\text{lim}$, in Celsius\n",
    "* $c = \\frac{r_{ij}S_b}{3 mC_p x_{ij}^2L_{ij}}$ is a constant with units of W/m\n",
    "    * $r_{ij}$ is resistance of line $ij$ in per unit\n",
    "    * $x_{ij}$ is reactance of line $ij$ in per unit\n",
    "    * $S_b$ is the system base (e.g. 100 MVA)\n",
    "    * $L_{ij}$ is the length of one phase of line $ij$, in m\n",
    "* $f = (e^{(t_1 - t_0)a})^n T(t_0) + \\frac{d}{a}\\left[ \\sum_{i=1}^n \\left( (e^{(t_1-t_0)a})^i - (e^{(t_1-t_0)a})^{i-1} \\right)\\right]$ is a constant with units of degrees Celsius\n",
    "    * $T(t_0)$ is the line's initial temperature (steady state temperature under base case power flow condition)\n",
    "    * $d = \\frac{1}{mC_p}\\left[ \\eta_cT_\\text{amb} - \\eta_r\\left((T_\\text{mid} + 273)^4 - (T_\\text{amb} + 273)^4\\right) + 4\\eta_rT_\\text{mid}(T_\\text{mid} + 273)^3 + q_s \\right]$ is a constant with units of W/m\n",
    "        * $q_s$ is the solar heat gain rate in W/m"
   ]
  },
  {
   "cell_type": "markdown",
   "metadata": {},
   "source": [
    "## Line temperature simulation"
   ]
  },
  {
   "cell_type": "code",
   "execution_count": 1,
   "metadata": {
    "collapsed": false
   },
   "outputs": [
    {
     "data": {
      "text/html": [
       "<script charset=\"utf-8\">(function ($, undefined) {\n",
       "\n",
       "    function createElem(tag, attr, content) {\n",
       "\t// TODO: remove jQuery dependency\n",
       "\tvar el = $(\"<\" + tag + \"/>\").attr(attr);\n",
       "\tif (content) {\n",
       "\t    el.append(content);\n",
       "\t}\n",
       "\treturn el[0];\n",
       "    }\n",
       "\n",
       "    // A widget must expose an id field which identifies it to the backend,\n",
       "    // an elem attribute which is will be added to the DOM, and\n",
       "    // a getState() method which returns the value to be sent to the backend\n",
       "    // a sendUpdate() method which sends its current value to the backend\n",
       "    var Widget = {\n",
       "\tid: undefined,\n",
       "\telem: undefined,\n",
       "\tlabel: undefined,\n",
       "\tgetState: function () {\n",
       "\t    return this.elem.value;\n",
       "\t},\n",
       "\tsendUpdate: undefined\n",
       "    };\n",
       "\n",
       "    var Slider = function (typ, id, init) {\n",
       "\tvar attr = { type:  \"range\",\n",
       "\t\t     value: init.value,\n",
       "\t\t     min:   init.min,\n",
       "\t\t     max:   init.max,\n",
       "\t\t     step:  init.step },\n",
       "\t    elem = createElem(\"input\", attr),\n",
       "\t    self = this;\n",
       "\n",
       "\telem.onchange = function () {\n",
       "\t    self.sendUpdate();\n",
       "\t}\n",
       "\n",
       "\tthis.id = id;\n",
       "\tthis.elem = elem;\n",
       "\tthis.label = init.label;\n",
       "\n",
       "\tInputWidgets.commInitializer(this); // Initialize communication\n",
       "    }\n",
       "    Slider.prototype = Widget;\n",
       "\n",
       "    var Checkbox = function (typ, id, init) {\n",
       "\tvar attr = { type: \"checkbox\",\n",
       "\t\t     checked: init.value },\n",
       "\t    elem = createElem(\"input\", attr),\n",
       "\t    self = this;\n",
       "\n",
       "\tthis.getState = function () {\n",
       "\t    return elem.checked;\n",
       "\t}\n",
       "\telem.onchange = function () {\n",
       "\t    self.sendUpdate();\n",
       "\t}\n",
       "\n",
       "\tthis.id = id;\n",
       "\tthis.elem = elem;\n",
       "\tthis.label = init.label;\n",
       "\n",
       "\tInputWidgets.commInitializer(this);\n",
       "    }\n",
       "    Checkbox.prototype = Widget;\n",
       "\n",
       "    var Button = function (typ, id, init) {\n",
       "\tvar attr = { type:    \"button\",\n",
       "\t\t     value:   init.label },\n",
       "\t    elem = createElem(\"input\", attr),\n",
       "\t    self = this;\n",
       "\tthis.getState = function () {\n",
       "\t    return null;\n",
       "\t}\n",
       "\telem.onclick = function () {\n",
       "\t    self.sendUpdate();\n",
       "\t}\n",
       "\n",
       "\tthis.id = id;\n",
       "\tthis.elem = elem;\n",
       "\tthis.label = init.label;\n",
       "\n",
       "\tInputWidgets.commInitializer(this);\n",
       "    }\n",
       "    Button.prototype = Widget;\n",
       "\n",
       "    var Text = function (typ, id, init) {\n",
       "\tvar attr = { type:  \"text\",\n",
       "\t\t     placeholder: init.label,\n",
       "\t\t     value: init.value },\n",
       "\t    elem = createElem(\"input\", attr),\n",
       "\t    self = this;\n",
       "\tthis.getState = function () {\n",
       "\t    return elem.value;\n",
       "\t}\n",
       "\telem.onkeyup = function () {\n",
       "\t    self.sendUpdate();\n",
       "\t}\n",
       "\n",
       "\tthis.id = id;\n",
       "\tthis.elem = elem;\n",
       "\tthis.label = init.label;\n",
       "\n",
       "\tInputWidgets.commInitializer(this);\n",
       "    }\n",
       "    Text.prototype = Widget;\n",
       "\n",
       "    var Textarea = function (typ, id, init) {\n",
       "\tvar attr = { placeholder: init.label },\n",
       "\t    elem = createElem(\"textarea\", attr, init.value),\n",
       "\t    self = this;\n",
       "\tthis.getState = function () {\n",
       "\t    return elem.value;\n",
       "\t}\n",
       "\telem.onchange = function () {\n",
       "\t    self.sendUpdate();\n",
       "\t}\n",
       "\n",
       "\tthis.id = id;\n",
       "\tthis.elem = elem;\n",
       "\tthis.label = init.label;\n",
       "\n",
       "\tInputWidgets.commInitializer(this);\n",
       "    }\n",
       "    Textarea.prototype = Widget;\n",
       "\n",
       "    // RadioButtons\n",
       "    // Dropdown\n",
       "    // HTML\n",
       "    // Latex\n",
       "\n",
       "    var InputWidgets = {\n",
       "\tSlider: Slider,\n",
       "\tCheckbox: Checkbox,\n",
       "\tButton: Button,\n",
       "\tText: Text,\n",
       "\tTextarea: Textarea,\n",
       "\tdebug: false,\n",
       "\tlog: function () {\n",
       "\t    if (InputWidgets.debug) {\n",
       "\t\tconsole.log.apply(console, arguments);\n",
       "\t    }\n",
       "\t},\n",
       "\t// a central way to initalize communication\n",
       "\t// for widgets.\n",
       "\tcommInitializer: function (widget) {\n",
       "\t    widget.sendUpdate = function () {};\n",
       "\t}\n",
       "    };\n",
       "\n",
       "    window.InputWidgets = InputWidgets;\n",
       "\n",
       "})(jQuery, undefined);\n",
       "</script>"
      ]
     },
     "metadata": {},
     "output_type": "display_data"
    },
    {
     "data": {
      "text/html": [
       "<script charset=\"utf-8\">(function (IPython, $, _, MathJax, Widgets) {\n",
       "    $.event.special.destroyed = {\n",
       "\tremove: function(o) {\n",
       "\t    if (o.handler) {\n",
       "\t\to.handler.apply(this, arguments)\n",
       "\t    }\n",
       "\t}\n",
       "    }\n",
       "\n",
       "    var redrawValue = function (container, type, val) {\n",
       "\tvar selector = $(\"<div/>\");\n",
       "\tvar oa = new IPython.OutputArea(_.extend(selector, {\n",
       "\t    selector: selector,\n",
       "\t    prompt_area: true,\n",
       "\t    events: IPython.events,\n",
       "\t    keyboard_manager: IPython.keyboard_manager\n",
       "\t})); // Hack to work with IPython 2.1.0\n",
       "\n",
       "\tswitch (type) {\n",
       "\tcase \"image/png\":\n",
       "            var _src = 'data:' + type + ';base64,' + val;\n",
       "\t    $(container).find(\"img\").attr('src', _src);\n",
       "\t    break;\n",
       "\tdefault:\n",
       "\t    var toinsert = IPython.OutputArea.append_map[type].apply(\n",
       "\t\toa, [val, {}, selector]\n",
       "\t    );\n",
       "\t    $(container).empty().append(toinsert.contents());\n",
       "\t    selector.remove();\n",
       "\t}\n",
       "\tif (type === \"text/latex\" && MathJax) {\n",
       "\t    MathJax.Hub.Queue([\"Typeset\", MathJax.Hub, toinsert.get(0)]);\n",
       "\t}\n",
       "    }\n",
       "\n",
       "\n",
       "    $(document).ready(function() {\n",
       "\tWidgets.debug = false; // log messages etc in console.\n",
       "\tfunction initComm(evt, data) {\n",
       "\t    var comm_manager = data.kernel.comm_manager;\n",
       "        //_.extend(comm_manager.targets, require(\"widgets/js/widget\"))\n",
       "\t    comm_manager.register_target(\"Signal\", function (comm) {\n",
       "            comm.on_msg(function (msg) {\n",
       "                //Widgets.log(\"message received\", msg);\n",
       "                var val = msg.content.data.value;\n",
       "                $(\".signal-\" + comm.comm_id).each(function() {\n",
       "                var type = $(this).data(\"type\");\n",
       "                if (val[type]) {\n",
       "                    redrawValue(this, type, val[type], type);\n",
       "                }\n",
       "                });\n",
       "                delete val;\n",
       "                delete msg.content.data.value;\n",
       "            });\n",
       "\t    });\n",
       "\n",
       "\t    // coordingate with Comm and redraw Signals\n",
       "\t    // XXX: Test using Reactive here to improve performance\n",
       "\t    $([IPython.events]).on(\n",
       "\t\t'output_appended.OutputArea', function (event, type, value, md, toinsert) {\n",
       "\t\t    if (md && md.reactive) {\n",
       "                // console.log(md.comm_id);\n",
       "                toinsert.addClass(\"signal-\" + md.comm_id);\n",
       "                toinsert.data(\"type\", type);\n",
       "                // Signal back indicating the mimetype required\n",
       "                var comm_manager = IPython.notebook.kernel.comm_manager;\n",
       "                var comm = comm_manager.comms[md.comm_id];\n",
       "                comm.then(function (c) {\n",
       "                    c.send({action: \"subscribe_mime\",\n",
       "                       mime: type});\n",
       "                    toinsert.bind(\"destroyed\", function() {\n",
       "                        c.send({action: \"unsubscribe_mime\",\n",
       "                               mime: type});\n",
       "                    });\n",
       "                })\n",
       "\t\t    }\n",
       "\t    });\n",
       "\t}\n",
       "\n",
       "\ttry {\n",
       "\t    // try to initialize right away. otherwise, wait on the status_started event.\n",
       "\t    initComm(undefined, IPython.notebook);\n",
       "\t} catch (e) {\n",
       "\t    $([IPython.events]).on('status_started.Kernel', initComm);\n",
       "\t}\n",
       "    });\n",
       "})(IPython, jQuery, _, MathJax, InputWidgets);\n",
       "</script>"
      ]
     },
     "metadata": {},
     "output_type": "display_data"
    },
    {
     "name": "stderr",
     "output_type": "stream",
     "text": [
      "INFO: Loading help data...\n"
     ]
    }
   ],
   "source": [
    "using Interact\n",
    "using PyPlot"
   ]
  },
  {
   "cell_type": "code",
   "execution_count": 2,
   "metadata": {
    "collapsed": false
   },
   "outputs": [
    {
     "data": {
      "text/plain": [
       "0.2050611532182376"
      ]
     },
     "execution_count": 2,
     "metadata": {},
     "output_type": "execute_result"
    }
   ],
   "source": [
    "# Approximate line heating model: use solution of heat balance IVP\n",
    "# where the radiative heat rate is approximated linearly.\n",
    "\n",
    "# Data comes from Waxwing conductors on RTS-96 network:\n",
    "Tamb = 35 # C\n",
    "Tlim = 65 # C\n",
    "Tmid = (Tamb + Tlim)/2 # C\n",
    "T0 = 46. #Tamb # assume line starts out at ambient temp (not quite realistic)\n",
    "ηc = 0.955 # W/m-C\n",
    "ηr = 2.207e-9 # W/m-C^4\n",
    "mCp = 383. # J/m-C\n",
    "r_ij = 0.03 # pu (typical value)\n",
    "x_ij = 0.1 # pu (typical value)\n",
    "qs = 14.4 # W/m\n",
    "L_ij = 50e3 # 50 km line\n",
    "Sb = 100e6 # 100 MVA base\n",
    "time_intervals = 3 # thirty minutes\n",
    "time_values = 0:60:600 # ten minutes in 1-min steps\n",
    "\n",
    "T(t,T0,a,b) = (T0 + b/a).*exp(a*t) - b/a # solution to approx. heat balance IVP\n",
    "\n",
    "θij = 0.1 # rad (vary this!)\n",
    "f_loss_pu = r_ij*(θij/x_ij)^2 # pu\n",
    "f_loss_si = f_loss_pu*Sb/(3*L_ij)\n",
    "\n",
    "a = mCp\\(-ηc - 4*ηr*(Tmid + 273)^3)\n",
    "b = mCp\\( f_loss_si + ηc*Tamb - ηr*((Tmid + 273)^4 - (Tamb+273)^4) + 4*ηr*Tmid*(Tmid + 273)^3 + qs )"
   ]
  },
  {
   "cell_type": "code",
   "execution_count": 3,
   "metadata": {
    "collapsed": false,
    "scrolled": false
   },
   "outputs": [
    {
     "data": {
      "text/html": [],
      "text/plain": [
       "Slider{Float64}([Input{Float64}] 0.07,\"θij1\",0.07,0.0:0.01:0.15)"
      ]
     },
     "metadata": {},
     "output_type": "display_data"
    },
    {
     "data": {
      "text/html": [],
      "text/plain": [
       "Slider{Float64}([Input{Float64}] 0.07,\"θij2\",0.07,0.0:0.01:0.15)"
      ]
     },
     "metadata": {},
     "output_type": "display_data"
    },
    {
     "data": {
      "text/html": [],
      "text/plain": [
       "Slider{Float64}([Input{Float64}] 0.07,\"θij3\",0.07,0.0:0.01:0.15)"
      ]
     },
     "metadata": {},
     "output_type": "display_data"
    },
    {
     "data": {
      "image/png": "[encoded data removed]",
      "text/plain": [
       "Figure(PyObject <matplotlib.figure.Figure object at 0x7f60a68bf310>)"
      ]
     },
     "execution_count": 3,
     "metadata": {
      "comm_id": "e2222c5a-dd34-4fe7-9e69-41f87b2c49c2",
      "reactive": true
     },
     "output_type": "execute_result"
    }
   ],
   "source": [
    "f = figure(figsize=(10,5))\n",
    "@manipulate for θij1 in 0:0.01:0.15, θij2 in 0:0.01:0.15, θij3 in 0:0.01:0.15; withfig(f) do\n",
    "        T0 = 46. # C\n",
    "        \n",
    "        # Compute final temperature as a function of T0 and angle differences:\n",
    "        angle_diffs = [θij1,θij2,θij3]\n",
    "        f_loss_pu_values = [r_ij*(θij/x_ij)^2 for θij in angle_diffs] # pu\n",
    "        f_loss_si_values = f_loss_pu_values.*Sb/(3*L_ij) # W/m\n",
    "        b_values = [mCp\\( f_loss_si + ηc*Tamb - ηr*((Tmid + 273)^4 - (Tamb+273)^4) + 4*ηr*Tmid*(Tmid + 273)^3 + qs ) for f_loss_si in f_loss_si_values]\n",
    "        Tfinal = exp(600*a)^3*(T0 + b_values[1]/a) + exp(600*a)^2*(-b_values[1]/a + b_values[2]/a) + exp(600*a)*(-b_values[2]/a + b_values[3]/a) - b_values[3]/a\n",
    "        \n",
    "        temp_values = [T0]\n",
    "        for θij in angle_diffs\n",
    "            f_loss_pu = r_ij*(θij/x_ij)^2 # pu\n",
    "            f_loss_si = f_loss_pu*Sb/(3*L_ij) # W/m\n",
    "            b = mCp\\( f_loss_si + ηc*Tamb - ηr*((Tmid + 273)^4 - (Tamb+273)^4) + 4*ηr*Tmid*(Tmid + 273)^3 + qs )\n",
    "            temp_values = [temp_values,T(time_values,T0,a,b)[2:end]]\n",
    "            T0 = temp_values[end]\n",
    "        end\n",
    "        \n",
    "        plot(temp_values)\n",
    "        xlabel(\"Time (min)\")\n",
    "        ylabel(\"Line Temp. (C)\")\n",
    "        hold=true\n",
    "        plot([0,10*time_intervals],[Tlim,Tlim],\"red\")\n",
    "        axis([0,10*time_intervals,Tamb,1.25*Tlim])\n",
    "        #xticks(0:600:(time_intervals*600),0:10:(10*time_intervals))\n",
    "        scatter([30],[Tfinal])\n",
    "    end\n",
    "end"
   ]
  },
  {
   "cell_type": "code",
   "execution_count": 10,
   "metadata": {
    "collapsed": true
   },
   "outputs": [],
   "source": [
    "# Clean up temperature calculation\n",
    "function compute_f_loss_pu(θij,r,x)\n",
    "    return r*(θij./x).^2\n",
    "end\n",
    "\n",
    "function compute_f_loss_si(f_loss_pu,Sb,L)\n",
    "    return f_loss_pu.*Sb/(3*L)\n",
    "end\n",
    "\n",
    "# function compute_qc(T,Tamb,ηc)\n",
    "#     return ηc*(T - Tamb)\n",
    "# end\n",
    "\n",
    "# function compute_qr_approx(T,Tmid,Tamb,ηr)\n",
    "#     return ηr\n",
    "\n",
    "function compute_b(θij,mCp,ηc,ηr,Tlim,Tamb,qs)\n",
    "    f_loss_pu = compute_f_loss_pu(θij,r,x)\n",
    "    f_loss_si = compute_f_loss_si(f_loss_pu,Sb,L)\n",
    "    Tmid = (Tlim + Tamb)/2\n",
    "    \n",
    "    return mCp\\( f_loss_si + ηc*Tamb - ηr*((Tmid + 273)^4 - (Tamb+273)^4) + 4*ηr*Tmid*(Tmid + 273)^3 + qs )\n",
    "end\n",
    "\n",
    "function compute_a(mCp,ηc,ηr,Tlim,Tamb)\n",
    "    Tmid = (Tlim+Tamb)/2\n",
    "    return mCp\\(-ηc - 4*ηr*(Tmid + 273)^3)\n",
    "end\n",
    "\n",
    "function compute_T(a,b_values,T0,num_secs,intervals)\n",
    "    exp_fac = e^(num_secs)\n",
    "    coeffs = flipud([exp_fac^n for n in 0:intervals])\n",
    "    temp_vals = [-b_values[n-1]/a + b_values[n]/a for n in 2:intervals]\n",
    "    sums = [(T0+b_values[1]/a),temp_vals,-b_values[3]/a]\n",
    "    return dot(coeffs,sums)\n",
    "end"
   ]
  },
  {
   "cell_type": "markdown",
   "metadata": {},
   "source": [
    "## Numerical justification for linearized radiative heat rate"
   ]
  },
  {
   "cell_type": "code",
   "execution_count": 22,
   "metadata": {
    "collapsed": false
   },
   "outputs": [
    {
     "data": {
      "text/html": [],
      "text/plain": [
       "Slider{Int64}([Input{Int64}] 75,\"Tmax\",75,1:150)"
      ]
     },
     "metadata": {},
     "output_type": "display_data"
    },
    {
     "data": {
      "image/png": "[encoded data removed]",
      "text/plain": [
       "Figure(PyObject <matplotlib.figure.Figure object at 0x7f9bb03b25d0>)"
      ]
     },
     "execution_count": 22,
     "metadata": {
      "comm_id": "32b47218-28e3-4726-889d-8a1d2c5bd783",
      "reactive": true
     },
     "output_type": "execute_result"
    }
   ],
   "source": [
    "# Approximate radiative heat loss linearly.\n",
    "# Linearize about the midpoint between ambient and limit temperatures.\n",
    "\n",
    "rad_rate(T,Tamb,ηr) = ηr*((T+273).^4 - (Tamb+273).^4)\n",
    "\n",
    "Tamb = 35. # C\n",
    "Tlim = 65. # C\n",
    "ηr = 2.207e-9 # W/m-C^4\n",
    "\n",
    "function rad_rate_approx(T,Tamb,Tlim,ηr)\n",
    "    Tmid = (Tamb + Tlim)/2\n",
    "    return ηr*((Tmid + 273).^4 - (Tamb + 273).^4) + (4*ηr*(Tmid + 273).^3)*(T - Tmid)\n",
    "end\n",
    "\n",
    "f = figure()\n",
    "@manipulate for Tmax = 1:150; withfig(f) do\n",
    "        Trange = Tamb:1:Tmax\n",
    "        plot(Trange,rad_rate(Trange,Tamb,ηr))\n",
    "        xlabel(\"Line temp., deg. C\")\n",
    "        ylabel(\"Radiated heat loss rate, W/m\")\n",
    "        hold=true\n",
    "        #plot([Trange[1],Trange[end]],[rad_rate(Trange[1],Tamb,ηr),rad_rate(Trange[end],Tamb,ηr)])\n",
    "        plot(Trange,rad_rate_approx(Trange,Tamb,Tlim,ηr))\n",
    "        legend([L\"q_r\",L\"\\tilde{q}_r\"],loc=2)\n",
    "    end\n",
    "end"
   ]
  }
 ],
 "metadata": {
  "kernelspec": {
   "display_name": "Julia",
   "language": "julia",
   "name": "julia"
  },
  "language_info": {
   "name": "julia",
   "version": "0.3.7"
  }
 },
 "nbformat": 4,
 "nbformat_minor": 0
}
