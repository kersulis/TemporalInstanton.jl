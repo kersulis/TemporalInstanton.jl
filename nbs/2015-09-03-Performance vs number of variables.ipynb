{
 "cells": [
  {
   "cell_type": "markdown",
   "metadata": {},
   "source": [
    "## Scaling a network\n",
    "\n",
    "I have a method that converts a portion of the conventional generator fleet in a Matpower network into wind generation. I need to modify this method so it will "
   ]
  }
 ],
 "metadata": {
  "kernelspec": {
   "display_name": "Julia 0.4.0-dev+6561",
   "language": "julia",
   "name": "julia-0.4"
  },
  "language_info": {
   "name": "julia",
   "version": "0.4.0"
  }
 },
 "nbformat": 4,
 "nbformat_minor": 0
}
