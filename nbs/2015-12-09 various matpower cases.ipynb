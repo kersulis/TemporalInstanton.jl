{
 "cells": [
  {
   "cell_type": "code",
   "execution_count": null,
   "metadata": {
    "collapsed": true
   },
   "outputs": [],
   "source": [
    "addprocs(2) # vary number of concurrent processes here\n",
    "@everywhere include(\"../src/TemporalInstanton.jl\")\n",
    "@everywhere include(\"../src/mat2tmpinst.jl\")\n",
    "@everywhere using TemporalInstanton"
   ]
  },
  {
   "cell_type": "code",
   "execution_count": null,
   "metadata": {
    "collapsed": true
   },
   "outputs": [],
   "source": [
    "cases = [\n",
    "    \"case9\",\n",
    "    \"case14\",\n",
    "    \"case24_ieee_rts\",\n",
    "    \"case30\",\n",
    "    \"case39\",\n",
    "    \"case57\",\n",
    "    \"case79\",\n",
    "    \"case118\",\n",
    "    \"case300\"\n",
    "#     \"case1354pegase\"\n",
    "]\n",
    "# wind_penetration = fill(\"\",length(cases));\n",
    "\n",
    "score_output = Array(Vector{Float64},0)\n",
    "sec_elapsed = []\n",
    "bytes_alloc = []\n",
    "sec_in_gc = []\n",
    "\n",
    "for i in 1:length(cases)\n",
    "    case = cases[i]\n",
    "\n",
    "    inputData = mat2tmpinst(case; fill_default=true);\n",
    "\n",
    "    #wind_penetration[i] = \"$(round(sum(Rp)/(sum(Gp)+sum(Rp))*100,1))%\"\n",
    "\n",
    "    # Thermal model parameters:\n",
    "    inputData.Tamb = 35. # C\n",
    "    inputData.T0 = 60. #46. # initial line steady-state temp\n",
    "\n",
    "    inputData.time_values = 0:30:300 # five minutes in 30-sec steps\n",
    "    inputData.int_length = 300. # seconds = 5 min\n",
    "\n",
    "    Gp,Dp,Rp = (inputData.G0, inputData.D0, inputData.R0)\n",
    "    inputData.G0 = [Gp;Gp;Gp;Gp;Gp;Gp]\n",
    "    inputData.D0 = [Dp;Dp;Dp;Dp;Dp;Dp]\n",
    "    inputData.R0 = [Rp;1.1*Rp;1.2*Rp;1.1*Rp;Rp;0.9*Rp]\n",
    "\n",
    "    n = length(inputData.k)\n",
    "    nr = length(inputData.Ridx)\n",
    "    T = convert(Int64,length(inputData.G0)/n)\n",
    "    \n",
    "    timed_results = @timed solve_temporal_instanton(inputData);\n",
    "    results = timed_results[1]\n",
    "    outputData = process_instanton_results(results,n,nr,T,return_as_type=true);\n",
    "    push!(score_output,outputData.score)\n",
    "    push!(sec_elapsed,timed_results[2])\n",
    "    push!(bytes_alloc,timed_results[3])\n",
    "    push!(sec_in_gc,timed_results[4])\n",
    "end\n",
    "\n",
    "lines_processed = []\n",
    "for score_vec in score_output\n",
    "    push!(lines_processed, sum(score_vec.!=Inf))\n",
    "end"
   ]
  }
 ],
 "metadata": {
  "kernelspec": {
   "display_name": "Julia 0.4.0",
   "language": "julia",
   "name": "julia-0.4"
  },
  "language_info": {
   "file_extension": ".jl",
   "mimetype": "application/julia",
   "name": "julia",
   "version": "0.4.1"
  }
 },
 "nbformat": 4,
 "nbformat_minor": 0
}
