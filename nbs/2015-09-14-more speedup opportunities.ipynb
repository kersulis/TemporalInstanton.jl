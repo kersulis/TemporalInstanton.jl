{
 "cells": [
  {
   "cell_type": "code",
   "execution_count": 1,
   "metadata": {
    "collapsed": false
   },
   "outputs": [
    {
     "data": {
      "text/plain": [
       "(Complex{Float64}[2.4185638948461006 + 0.0im,0.3182993521571254 + 0.0im,-0.4431823887563463 + 0.0im,-0.2874035930523595 + 0.48623271313745886im,-0.2874035930523595 - 0.48623271313745886im],\n",
       "5x5 Array{Complex{Float64},2}:\n",
       "  0.55242+0.0im  0.0740851+0.0im   0.709601+0.0im  …    -0.173063-0.0598999im\n",
       " 0.387012+0.0im  -0.239474+0.0im  -0.323109+0.0im       -0.146587+0.463534im \n",
       " 0.486102+0.0im   0.657809+0.0im  -0.466429+0.0im     -0.00519235-0.234094im \n",
       " 0.259241+0.0im  -0.678311+0.0im   0.183075+0.0im       -0.251326-0.144586im \n",
       "  0.49148+0.0im   0.210583+0.0im  -0.375493+0.0im        0.768904-0.0im      )"
      ]
     },
     "execution_count": 1,
     "metadata": {},
     "output_type": "execute_result"
    }
   ],
   "source": [
    "D,U = eig(rand(5,5))"
   ]
  },
  {
   "cell_type": "code",
   "execution_count": 3,
   "metadata": {
    "collapsed": false
   },
   "outputs": [
    {
     "data": {
      "text/plain": [
       "5x5 Array{Complex{Float64},2}:\n",
       "  0.55242+0.0im  0.0740851+0.0im   0.709601+0.0im  …    -0.173063-0.0598999im\n",
       " 0.387012+0.0im  -0.239474+0.0im  -0.323109+0.0im       -0.146587+0.463534im \n",
       " 0.486102+0.0im   0.657809+0.0im  -0.466429+0.0im     -0.00519235-0.234094im \n",
       " 0.259241+0.0im  -0.678311+0.0im   0.183075+0.0im       -0.251326-0.144586im \n",
       "  0.49148+0.0im   0.210583+0.0im  -0.375493+0.0im        0.768904-0.0im      "
      ]
     },
     "execution_count": 3,
     "metadata": {},
     "output_type": "execute_result"
    }
   ],
   "source": [
    "U"
   ]
  },
  {
   "cell_type": "markdown",
   "metadata": {},
   "source": [
    "## Stop storing intermediate quadratics\n",
    "\n",
    "The only value of an intermediate quadratic is in preparing for the next intermediate. As long as the rotation matrix is stored, all else can be thrown away. This should reduce memory allocation requirements."
   ]
  },
  {
   "cell_type": "code",
   "execution_count": 1,
   "metadata": {
    "collapsed": false
   },
   "outputs": [],
   "source": [
    "include(\"../src/TemporalInstanton.jl\")\n",
    "using TemporalInstanton"
   ]
  },
  {
   "cell_type": "code",
   "execution_count": 2,
   "metadata": {
    "collapsed": false
   },
   "outputs": [
    {
     "name": "stdout",
     "output_type": "stream",
     "text": [
      "finished 10/104\n",
      "finished 20/104\n"
     ]
    },
    {
     "name": "stderr",
     "output_type": "stream",
     "text": [
      "WARNING: expanding 1\n"
     ]
    },
    {
     "name": "stdout",
     "output_type": "stream",
     "text": [
      "finished 30/104\n"
     ]
    },
    {
     "name": "stderr",
     "output_type": "stream",
     "text": [
      "WARNING: expanding 1\n"
     ]
    },
    {
     "name": "stdout",
     "output_type": "stream",
     "text": [
      "finished 40/104\n",
      "finished 50/104\n",
      "finished 60/104\n",
      "finished 70/104\n",
      "finished 80/104\n",
      "finished 90/104\n",
      "finished 100/104\n",
      "finished 110/104\n",
      " 11.506727 seconds (9.22 M allocations: 2.044 GB, 2.51% gc time)\n"
     ]
    }
   ],
   "source": [
    "inputData = load_rts96_data(return_as_type=true)\n",
    "\n",
    "# Thermal model parameters:\n",
    "inputData.Tamb = 35.0 # C\n",
    "inputData.T0 = 60.0 #46.0 # initial line steady-state temp\n",
    "\n",
    "inputData.time_values = 0.0:30.0:300.0 # five minutes in 30-sec steps\n",
    "inputData.int_length = 300. # seconds = 5 min\n",
    "\n",
    "Gp,Dp,Rp = inputData.G0,inputData.D0,inputData.R0\n",
    "inputData.G0 = [0.7*Gp;0.7*Gp;0.7*Gp;0.7*Gp;0.7*Gp;0.7*Gp]\n",
    "inputData.D0 = [0.9*Dp;0.9*Dp;0.9*Dp;0.9*Dp;0.9*Dp;0.9*Dp]\n",
    "inputData.R0 = [Rp;1.1*Rp;1.2*Rp;1.3*Rp;1.4*Rp;1.5*Rp]\n",
    "\n",
    "@time results = solve_temporal_instanton(inputData);\n",
    "n = 73\n",
    "nr = 18\n",
    "T = 6\n",
    "score,x,θ,α,diffs,xopt = process_instanton_results(results,\n",
    "    n,\n",
    "    nr,\n",
    "    T);"
   ]
  },
  {
   "cell_type": "code",
   "execution_count": 4,
   "metadata": {
    "collapsed": true
   },
   "outputs": [
    {
     "data": {
      "text/plain": [
       "104-element Array{Float64,1}:\n",
       "    0.263788\n",
       "    0.327316\n",
       "    1.28861 \n",
       "    2.20415 \n",
       "    2.32297 \n",
       "    2.42316 \n",
       "    4.67876 \n",
       "    4.86524 \n",
       "    4.89917 \n",
       "    5.67827 \n",
       "    5.93862 \n",
       "    6.43917 \n",
       "    6.46089 \n",
       "    ⋮       \n",
       "  178.086   \n",
       "  303.003   \n",
       "  370.614   \n",
       "  370.614   \n",
       "  391.307   \n",
       "  428.944   \n",
       "  923.98    \n",
       "  979.199   \n",
       " 1319.85    \n",
       " 1390.03    \n",
       " 1967.27    \n",
       " 1967.27    "
      ]
     },
     "execution_count": 4,
     "metadata": {},
     "output_type": "execute_result"
    }
   ],
   "source": [
    "sort(score)"
   ]
  },
  {
   "cell_type": "markdown",
   "metadata": {},
   "source": [
    "The score vector is exactly the same, but total allocation seems unchanged as well. Nevertheless, each QCQP solution should require less RAM overall because every intermediate step overwrites the results of the last one."
   ]
  },
  {
   "cell_type": "markdown",
   "metadata": {},
   "source": [
    "## Stop computing a full eigendecomposition unnecessarily\n",
    "\n",
    "When we go to diagonalize the quadratic constraint (after kenel mapping), we only need to modify a small subset of the variables. I have been taking a full eigendecomposition of the $\\mathbf{N}$ matrix rather than focusing on the part that corresponds to auxiliary angle variables. Perhaps I cannot change this step, but turning a 1k-dimensional eigendecomposition into a 6-dimensional one is a huge upside.\n",
    "\n",
    "When we use the nullspace basis matrix $\\mathbf{N}$ to map the problem onto the kernel of $\\mathbf{A}$, we can view the transformation in the following way:\n",
    "\n",
    "$$\n",
    "\\begin{bmatrix} \\vec{y}_1 \\\\ \\vec{y}_2 \\\\ \\vec{y}_3 \\end{bmatrix} = \\begin{bmatrix} \\mathbf{N}_1\n",
    "  \\\\ \\mathbf{N}_2 \\\\ \\mathbf{N}_3 \\end{bmatrix} \\vec{x}\n",
    "$$"
   ]
  },
  {
   "cell_type": "code",
   "execution_count": 3,
   "metadata": {
    "collapsed": false
   },
   "outputs": [
    {
     "name": "stdout",
     "output_type": "stream",
     "text": [
      "search: "
     ]
    },
    {
     "data": {
      "text/html": [
       "<div class=\"markdown\"><pre><code class=\"language-rst\">::\n",
       "           eigs&#40;A, &#91;B,&#93;; nev&#61;6, which&#61;&quot;LM&quot;, tol&#61;0.0, maxiter&#61;300, sigma&#61;nothing, ritzvec&#61;true, v0&#61;zeros&#40;&#40;0,&#41;&#41;&#41; -&gt; &#40;d,&#91;v,&#93;,nconv,niter,nmult,resid&#41;\n",
       "\n",
       "Computes eigenvalues &#96;&#96;d&#96;&#96; of &#96;&#96;A&#96;&#96; using Lanczos or Arnoldi iterations for\n",
       "real symmetric or general nonsymmetric matrices respectively. If &#96;&#96;B&#96;&#96; is\n",
       "provided, the generalized eigenproblem is solved.\n",
       "\n",
       "The following keyword arguments are supported:\n",
       " * &#96;&#96;nev&#96;&#96;: Number of eigenvalues\n",
       " * &#96;&#96;ncv&#96;&#96;: Number of Krylov vectors used in the computation; should satisfy\n",
       "    &#96;&#96;nev&#43;1 &lt;&#61; ncv &lt;&#61; n&#96;&#96; for real symmetric problems and &#96;&#96;nev&#43;2 &lt;&#61; ncv &lt;&#61; n&#96;&#96;\n",
       "    for other problems, where &#96;&#96;n&#96;&#96; is the size of the input matrix &#96;&#96;A&#96;&#96;.\n",
       "    The default is &#96;&#96;ncv &#61; max&#40;20,2*nev&#43;1&#41;&#96;&#96;.\n",
       "    Note that these restrictions limit the input matrix &#96;&#96;A&#96;&#96; to be of\n",
       "    dimension at least 2.\n",
       " * &#96;&#96;which&#96;&#96;: type of eigenvalues to compute. See the note below.\n",
       "\n",
       "   &#61;&#61;&#61;&#61;&#61;&#61;&#61;&#61;&#61; &#61;&#61;&#61;&#61;&#61;&#61;&#61;&#61;&#61;&#61;&#61;&#61;&#61;&#61;&#61;&#61;&#61;&#61;&#61;&#61;&#61;&#61;&#61;&#61;&#61;&#61;&#61;&#61;&#61;&#61;&#61;&#61;&#61;&#61;&#61;&#61;&#61;&#61;&#61;&#61;&#61;&#61;&#61;&#61;&#61;&#61;&#61;&#61;&#61;&#61;&#61;&#61;&#61;&#61;&#61;&#61;&#61;&#61;&#61;&#61;&#61;&#61;&#61;&#61;&#61;&#61;&#61;&#61;&#61;&#61;&#61;&#61;&#61;&#61;&#61;&#61;&#61;&#61;&#61;&#61;&#61;&#61;&#61;&#61;&#61;&#61;&#61;&#61;&#61;&#61;&#61;&#61;&#61;&#61;&#61;&#61;&#61;&#61;&#61;&#61;&#61;&#61;&#61;&#61;&#61;&#61;&#61;&#61;&#61;&#61;&#61;&#61;&#61;&#61;&#61;&#61;&#61;&#61;\n",
       "   &#96;&#96;which&#96;&#96; type of eigenvalues\n",
       "   --------- ----------------------------------------------------------------------------------------------------------------------\n",
       "   &#96;&#96;:LM&#96;&#96;   eigenvalues of largest magnitude &#40;default&#41;\n",
       "   &#96;&#96;:SM&#96;&#96;   eigenvalues of smallest magnitude\n",
       "   &#96;&#96;:LR&#96;&#96;   eigenvalues of largest real part\n",
       "   &#96;&#96;:SR&#96;&#96;   eigenvalues of smallest real part\n",
       "   &#96;&#96;:LI&#96;&#96;   eigenvalues of largest imaginary part &#40;nonsymmetric or complex &#96;&#96;A&#96;&#96; only&#41;\n",
       "   &#96;&#96;:SI&#96;&#96;   eigenvalues of smallest imaginary part &#40;nonsymmetric or complex &#96;&#96;A&#96;&#96; only&#41;\n",
       "   &#96;&#96;:BE&#96;&#96;   compute half of the eigenvalues from each end of the spectrum, biased in favor of the high end. &#40;real symmetric &#96;&#96;A&#96;&#96; only&#41;\n",
       "   &#61;&#61;&#61;&#61;&#61;&#61;&#61;&#61;&#61; &#61;&#61;&#61;&#61;&#61;&#61;&#61;&#61;&#61;&#61;&#61;&#61;&#61;&#61;&#61;&#61;&#61;&#61;&#61;&#61;&#61;&#61;&#61;&#61;&#61;&#61;&#61;&#61;&#61;&#61;&#61;&#61;&#61;&#61;&#61;&#61;&#61;&#61;&#61;&#61;&#61;&#61;&#61;&#61;&#61;&#61;&#61;&#61;&#61;&#61;&#61;&#61;&#61;&#61;&#61;&#61;&#61;&#61;&#61;&#61;&#61;&#61;&#61;&#61;&#61;&#61;&#61;&#61;&#61;&#61;&#61;&#61;&#61;&#61;&#61;&#61;&#61;&#61;&#61;&#61;&#61;&#61;&#61;&#61;&#61;&#61;&#61;&#61;&#61;&#61;&#61;&#61;&#61;&#61;&#61;&#61;&#61;&#61;&#61;&#61;&#61;&#61;&#61;&#61;&#61;&#61;&#61;&#61;&#61;&#61;&#61;&#61;&#61;&#61;&#61;&#61;&#61;&#61;\n",
       "\n",
       " * &#96;&#96;tol&#96;&#96;: tolerance &#40;:math:&#96;tol \\le 0.0&#96; defaults to &#96;&#96;DLAMCH&#40;&#39;EPS&#39;&#41;&#96;&#96;&#41;\n",
       " * &#96;&#96;maxiter&#96;&#96;: Maximum number of iterations &#40;default &#61; 300&#41;\n",
       " * &#96;&#96;sigma&#96;&#96;: Specifies the level shift used in inverse iteration. If &#96;&#96;nothing&#96;&#96; &#40;default&#41;, defaults to ordinary &#40;forward&#41; iterations. Otherwise, find eigenvalues close to &#96;&#96;sigma&#96;&#96; using shift and invert iterations.\n",
       " * &#96;&#96;ritzvec&#96;&#96;: Returns the Ritz vectors &#96;&#96;v&#96;&#96; &#40;eigenvectors&#41; if &#96;&#96;true&#96;&#96;\n",
       " * &#96;&#96;v0&#96;&#96;: starting vector from which to start the iterations\n",
       "\n",
       "&#96;&#96;eigs&#96;&#96; returns the &#96;&#96;nev&#96;&#96; requested eigenvalues in &#96;&#96;d&#96;&#96;, the corresponding Ritz vectors &#96;&#96;v&#96;&#96; &#40;only if &#96;&#96;ritzvec&#61;true&#96;&#96;&#41;, the number of converged eigenvalues &#96;&#96;nconv&#96;&#96;, the number of iterations &#96;&#96;niter&#96;&#96; and the number of matrix vector multiplications &#96;&#96;nmult&#96;&#96;, as well as the final residual vector &#96;&#96;resid&#96;&#96;.\n",
       "\n",
       ".. note:: The &#96;&#96;sigma&#96;&#96; and &#96;&#96;which&#96;&#96; keywords interact: the description of eigenvalues searched for by &#96;&#96;which&#96;&#96; do _not_ necessarily refer to the eigenvalues of &#96;&#96;A&#96;&#96;, but rather the linear operator constructed by the specification of the iteration mode implied by &#96;&#96;sigma&#96;&#96;.\n",
       "\n",
       "   &#61;&#61;&#61;&#61;&#61;&#61;&#61;&#61;&#61;&#61;&#61;&#61;&#61;&#61;&#61; &#61;&#61;&#61;&#61;&#61;&#61;&#61;&#61;&#61;&#61;&#61;&#61;&#61;&#61;&#61;&#61;&#61;&#61;&#61;&#61;&#61;&#61;&#61;&#61;&#61;&#61;&#61;&#61;&#61;&#61;&#61;&#61;&#61;&#61; &#61;&#61;&#61;&#61;&#61;&#61;&#61;&#61;&#61;&#61;&#61;&#61;&#61;&#61;&#61;&#61;&#61;&#61;&#61;&#61;&#61;&#61;&#61;&#61;&#61;&#61;&#61;&#61;&#61;&#61;&#61;&#61;&#61;&#61;\n",
       "   &#96;&#96;sigma&#96;&#96;       iteration mode                     &#96;&#96;which&#96;&#96; refers to eigenvalues of\n",
       "   --------------- ---------------------------------- ----------------------------------\n",
       "   &#96;&#96;nothing&#96;&#96;     ordinary &#40;forward&#41;                 :math:&#96;A&#96;\n",
       "   real or complex inverse with level shift &#96;&#96;sigma&#96;&#96; :math:&#96;&#40;A - \\sigma I &#41;^&#123;-1&#125;&#96;\n",
       "   &#61;&#61;&#61;&#61;&#61;&#61;&#61;&#61;&#61;&#61;&#61;&#61;&#61;&#61;&#61; &#61;&#61;&#61;&#61;&#61;&#61;&#61;&#61;&#61;&#61;&#61;&#61;&#61;&#61;&#61;&#61;&#61;&#61;&#61;&#61;&#61;&#61;&#61;&#61;&#61;&#61;&#61;&#61;&#61;&#61;&#61;&#61;&#61;&#61; &#61;&#61;&#61;&#61;&#61;&#61;&#61;&#61;&#61;&#61;&#61;&#61;&#61;&#61;&#61;&#61;&#61;&#61;&#61;&#61;&#61;&#61;&#61;&#61;&#61;&#61;&#61;&#61;&#61;&#61;&#61;&#61;&#61;&#61;</code></pre>\n",
       "\n",
       "</div>"
      ],
      "text/latex": [
       "\\begin{verbatim}\n",
       "::\n",
       "           eigs(A, [B,]; nev=6, which=\"LM\", tol=0.0, maxiter=300, sigma=nothing, ritzvec=true, v0=zeros((0,))) -> (d,[v,],nconv,niter,nmult,resid)\n",
       "\n",
       "Computes eigenvalues ``d`` of ``A`` using Lanczos or Arnoldi iterations for\n",
       "real symmetric or general nonsymmetric matrices respectively. If ``B`` is\n",
       "provided, the generalized eigenproblem is solved.\n",
       "\n",
       "The following keyword arguments are supported:\n",
       " * ``nev``: Number of eigenvalues\n",
       " * ``ncv``: Number of Krylov vectors used in the computation; should satisfy\n",
       "    ``nev+1 <= ncv <= n`` for real symmetric problems and ``nev+2 <= ncv <= n``\n",
       "    for other problems, where ``n`` is the size of the input matrix ``A``.\n",
       "    The default is ``ncv = max(20,2*nev+1)``.\n",
       "    Note that these restrictions limit the input matrix ``A`` to be of\n",
       "    dimension at least 2.\n",
       " * ``which``: type of eigenvalues to compute. See the note below.\n",
       "\n",
       "   ========= ======================================================================================================================\n",
       "   ``which`` type of eigenvalues\n",
       "   --------- ----------------------------------------------------------------------------------------------------------------------\n",
       "   ``:LM``   eigenvalues of largest magnitude (default)\n",
       "   ``:SM``   eigenvalues of smallest magnitude\n",
       "   ``:LR``   eigenvalues of largest real part\n",
       "   ``:SR``   eigenvalues of smallest real part\n",
       "   ``:LI``   eigenvalues of largest imaginary part (nonsymmetric or complex ``A`` only)\n",
       "   ``:SI``   eigenvalues of smallest imaginary part (nonsymmetric or complex ``A`` only)\n",
       "   ``:BE``   compute half of the eigenvalues from each end of the spectrum, biased in favor of the high end. (real symmetric ``A`` only)\n",
       "   ========= ======================================================================================================================\n",
       "\n",
       " * ``tol``: tolerance (:math:`tol \\le 0.0` defaults to ``DLAMCH('EPS')``)\n",
       " * ``maxiter``: Maximum number of iterations (default = 300)\n",
       " * ``sigma``: Specifies the level shift used in inverse iteration. If ``nothing`` (default), defaults to ordinary (forward) iterations. Otherwise, find eigenvalues close to ``sigma`` using shift and invert iterations.\n",
       " * ``ritzvec``: Returns the Ritz vectors ``v`` (eigenvectors) if ``true``\n",
       " * ``v0``: starting vector from which to start the iterations\n",
       "\n",
       "``eigs`` returns the ``nev`` requested eigenvalues in ``d``, the corresponding Ritz vectors ``v`` (only if ``ritzvec=true``), the number of converged eigenvalues ``nconv``, the number of iterations ``niter`` and the number of matrix vector multiplications ``nmult``, as well as the final residual vector ``resid``.\n",
       "\n",
       ".. note:: The ``sigma`` and ``which`` keywords interact: the description of eigenvalues searched for by ``which`` do _not_ necessarily refer to the eigenvalues of ``A``, but rather the linear operator constructed by the specification of the iteration mode implied by ``sigma``.\n",
       "\n",
       "   =============== ================================== ==================================\n",
       "   ``sigma``       iteration mode                     ``which`` refers to eigenvalues of\n",
       "   --------------- ---------------------------------- ----------------------------------\n",
       "   ``nothing``     ordinary (forward)                 :math:`A`\n",
       "   real or complex inverse with level shift ``sigma`` :math:`(A - \\sigma I )^{-1}`\n",
       "   =============== ================================== ==================================\n",
       "\\end{verbatim}\n"
      ],
      "text/plain": [
       "```rst\n",
       "::\n",
       "           eigs(A, [B,]; nev=6, which=\"LM\", tol=0.0, maxiter=300, sigma=nothing, ritzvec=true, v0=zeros((0,))) -> (d,[v,],nconv,niter,nmult,resid)\n",
       "\n",
       "Computes eigenvalues ``d`` of ``A`` using Lanczos or Arnoldi iterations for\n",
       "real symmetric or general nonsymmetric matrices respectively. If ``B`` is\n",
       "provided, the generalized eigenproblem is solved.\n",
       "\n",
       "The following keyword arguments are supported:\n",
       " * ``nev``: Number of eigenvalues\n",
       " * ``ncv``: Number of Krylov vectors used in the computation; should satisfy\n",
       "    ``nev+1 <= ncv <= n`` for real symmetric problems and ``nev+2 <= ncv <= n``\n",
       "    for other problems, where ``n`` is the size of the input matrix ``A``.\n",
       "    The default is ``ncv = max(20,2*nev+1)``.\n",
       "    Note that these restrictions limit the input matrix ``A`` to be of\n",
       "    dimension at least 2.\n",
       " * ``which``: type of eigenvalues to compute. See the note below.\n",
       "\n",
       "   ========= ======================================================================================================================\n",
       "   ``which`` type of eigenvalues\n",
       "   --------- ----------------------------------------------------------------------------------------------------------------------\n",
       "   ``:LM``   eigenvalues of largest magnitude (default)\n",
       "   ``:SM``   eigenvalues of smallest magnitude\n",
       "   ``:LR``   eigenvalues of largest real part\n",
       "   ``:SR``   eigenvalues of smallest real part\n",
       "   ``:LI``   eigenvalues of largest imaginary part (nonsymmetric or complex ``A`` only)\n",
       "   ``:SI``   eigenvalues of smallest imaginary part (nonsymmetric or complex ``A`` only)\n",
       "   ``:BE``   compute half of the eigenvalues from each end of the spectrum, biased in favor of the high end. (real symmetric ``A`` only)\n",
       "   ========= ======================================================================================================================\n",
       "\n",
       " * ``tol``: tolerance (:math:`tol \\le 0.0` defaults to ``DLAMCH('EPS')``)\n",
       " * ``maxiter``: Maximum number of iterations (default = 300)\n",
       " * ``sigma``: Specifies the level shift used in inverse iteration. If ``nothing`` (default), defaults to ordinary (forward) iterations. Otherwise, find eigenvalues close to ``sigma`` using shift and invert iterations.\n",
       " * ``ritzvec``: Returns the Ritz vectors ``v`` (eigenvectors) if ``true``\n",
       " * ``v0``: starting vector from which to start the iterations\n",
       "\n",
       "``eigs`` returns the ``nev`` requested eigenvalues in ``d``, the corresponding Ritz vectors ``v`` (only if ``ritzvec=true``), the number of converged eigenvalues ``nconv``, the number of iterations ``niter`` and the number of matrix vector multiplications ``nmult``, as well as the final residual vector ``resid``.\n",
       "\n",
       ".. note:: The ``sigma`` and ``which`` keywords interact: the description of eigenvalues searched for by ``which`` do _not_ necessarily refer to the eigenvalues of ``A``, but rather the linear operator constructed by the specification of the iteration mode implied by ``sigma``.\n",
       "\n",
       "   =============== ================================== ==================================\n",
       "   ``sigma``       iteration mode                     ``which`` refers to eigenvalues of\n",
       "   --------------- ---------------------------------- ----------------------------------\n",
       "   ``nothing``     ordinary (forward)                 :math:`A`\n",
       "   real or complex inverse with level shift ``sigma`` :math:`(A - \\sigma I )^{-1}`\n",
       "   =============== ================================== ==================================\n",
       "```\n"
      ]
     },
     "execution_count": 3,
     "metadata": {},
     "output_type": "execute_result"
    },
    {
     "name": "stdout",
     "output_type": "stream",
     "text": [
      "eigs eigvecs eigvals eigvals! leading_ones leading_zeros\n",
      "\n"
     ]
    }
   ],
   "source": [
    "?eigs"
   ]
  }
 ],
 "metadata": {
  "kernelspec": {
   "display_name": "Julia 0.4.0-dev+6561",
   "language": "julia",
   "name": "julia-0.4"
  },
  "language_info": {
   "name": "julia",
   "version": "0.4.0"
  }
 },
 "nbformat": 4,
 "nbformat_minor": 0
}
