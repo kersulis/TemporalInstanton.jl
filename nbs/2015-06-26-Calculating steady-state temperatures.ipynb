{
 "cells": [
  {
   "cell_type": "markdown",
   "metadata": {},
   "source": [
    "Before instanton analysis, each line has some steady-state flow and corresponding temperature. Rather than assuming all lines begin at the same temperature, I ought to calculate initial temperatures and use them.\n",
    "\n",
    "Helpful functions: pass in "
   ]
  },
  {
   "cell_type": "markdown",
   "metadata": {},
   "source": [
    "I want clean data loading. I really want the base namespace to contain only one power system object."
   ]
  }
 ],
 "metadata": {
  "kernelspec": {
   "display_name": "Julia",
   "language": "julia",
   "name": "julia"
  },
  "language_info": {
   "name": "julia",
   "version": "0.3.7"
  }
 },
 "nbformat": 4,
 "nbformat_minor": 0
}
