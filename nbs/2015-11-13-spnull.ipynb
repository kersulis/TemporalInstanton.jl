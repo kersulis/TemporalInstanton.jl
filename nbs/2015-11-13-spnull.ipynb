{
 "cells": [
  {
   "cell_type": "code",
   "execution_count": 23,
   "metadata": {
    "collapsed": false,
    "scrolled": true
   },
   "outputs": [
    {
     "data": {
      "text/plain": [
       "spspaces (generic function with 2 methods)"
      ]
     },
     "execution_count": 23,
     "metadata": {},
     "output_type": "execute_result"
    }
   ],
   "source": [
    "function ej(n,i)\n",
    "    v = zeros(n)\n",
    "    v[i] = 1.0\n",
    "    return v\n",
    "end\n",
    "\n",
    "function pvec2mat(p)\n",
    "    n = length(p)\n",
    "    P = zeros(n,n)\n",
    "    for i in 1:n\n",
    "        P[i,:] = ej(n,p[i])\n",
    "    end\n",
    "    return sparse(P)\n",
    "end\n",
    "\n",
    "\"\"\"\n",
    "    [L,U,Q] = luq(A,tol)\n",
    "Calculate the following decomposition\n",
    "A = L |Ubar  0 | Q\n",
    "      |0     0 |\n",
    "where Ubar is a square invertible matrix\n",
    "and matrices L, Q are invertible.\n",
    "Based on lu decomposition.\n",
    "\n",
    "Inputs:\n",
    "* `A`: a sparse matrix\n",
    "* `tol`: used to separate zero and nonzero values\n",
    "\n",
    "Note: Julia's lufact always does column pivoting\n",
    "for sparse matrices.\n",
    "\n",
    "Ported from Pawel Kowal:\n",
    "Copyright  (c) Pawel Kowal (2006)\n",
    "All rights reserved\n",
    "LREM_SOLVE toolbox is available free for noncommercial academic use only.\n",
    "pkowal3@sgh.waw.pl\n",
    "\"\"\"\n",
    "function luq(A,tol)\n",
    "    A = sparse(A)\n",
    "    m,n = size(A)\n",
    "\n",
    "    ###################\n",
    "    ## Special cases ##\n",
    "    ###################\n",
    "    if m == 0 || n == 0\n",
    "        L = speye(m)\n",
    "        U = A\n",
    "        Q = speye(n)\n",
    "        return L,U,Q\n",
    "    end\n",
    "\n",
    "    ######################\n",
    "    ## LU decomposition ##\n",
    "    ######################\n",
    "    F = lufact(A)\n",
    "    L,U,P,Q = F[:L],F[:U],pvec2mat(F[:p]),pvec2mat(F[:q])\n",
    "\n",
    "    p = m - size(L,2)\n",
    "    L = [P'*L P[m-p+1:m,:]']\n",
    "    U = [U;spzeros(p,n)]\n",
    "\n",
    "    ##########################\n",
    "    ## Find zero pivot rows ##\n",
    "    ##########################\n",
    "    if size(U,1) == 1 || size(U,2) == 1\n",
    "        S = U[1,1]\n",
    "    else\n",
    "        S = diag(U)\n",
    "    end\n",
    "    I = find(abs(S).>tol) # indices of nonzero diagonal elements of U\n",
    "    Jl = setdiff(1:m,I) # indices of zero diagonal elements of U\n",
    "    Jq = setdiff(1:n,I) # indices of zero diagonal elements of U\n",
    "\n",
    "    Ubar1 = U[I,I] # axes of U with nonzero diagonals \"invertible block\"\n",
    "    Ubar2 = U[Jl,Jq] # axes of U with zero diagonals\n",
    "    Qbar1 = Q[I,:] # Rows of col permutation matrix corr. to nonzero diag. of U\n",
    "    Lbar1 = L[:,I] # Cols of L corr. to nonzero diag. of U\n",
    "\n",
    "    ##########################################\n",
    "    ## Eliminate nonzero elements below and ##\n",
    "    ## on right of invertible block of U,   ##\n",
    "    ## and update L and Q                   ##\n",
    "    ##########################################\n",
    "    if !isempty(I)\n",
    "        Utmp = U[I,Jq] # Nonzero rows, zero cols\n",
    "        # Ubar1 square invertible. Re-write:\n",
    "        X = (full(U[Jl,I])/Ubar1)'\n",
    "        \n",
    "        Ubar2 = Ubar2 - X'*Utmp\n",
    "        Lbar1 = Lbar1 + L[:,Jl]*X'\n",
    "\n",
    "        X = Ubar1\\full(Utmp)\n",
    "        Qbar1 = Qbar1 + X*Q[Jq,:]\n",
    "    end\n",
    "    \n",
    "#     for idx in I\n",
    "#         Utmp = U[idx,Jq] # zero cols of row idx; row vec\n",
    "#         X = Ubar1'\\(U[Jl,idx]')\n",
    "#         Ubar2 -= X'*Utmp\n",
    "#         Lbar1 += L[:,Jl]*X'\n",
    "        \n",
    "#         X = Ubar1\\Utmp\n",
    "#         Qbar1 += X*Q[Jq,:]\n",
    "#     end\n",
    "\n",
    "    ################################################\n",
    "    ## Find rows and cols with only zero elements ##\n",
    "    ################################################\n",
    "    I2 = find(maxabs(Ubar2,2).>tol);\n",
    "    I5 = find(maxabs(Ubar2,1).>tol);\n",
    "\n",
    "    I3 = Jl[I2]\n",
    "    I4 = Jq[I5]\n",
    "    Jq = setdiff(Jq,I4)\n",
    "    Jl = setdiff(Jl,I3)\n",
    "\n",
    "    ########################################\n",
    "    ## Find part of U which is not in the ##\n",
    "    ## required form                      ##\n",
    "    ########################################\n",
    "    A = Ubar2[I2,I5]\n",
    "\n",
    "    ####################################\n",
    "    ## Perform luq decomposition on A ##\n",
    "    ####################################\n",
    "    L1,U1,Q1 = luq(A,tol)\n",
    "\n",
    "    ##################\n",
    "    ## Update L,U,Q ##\n",
    "    ##################\n",
    "    Lbar2 = L[:,I3]*L1\n",
    "    Qbar2 = Q1*Q[I4,:]\n",
    "    L = [Lbar1 Lbar2 L[:,Jl]]\n",
    "    Q = [Qbar1; Qbar2; Q[Jq,:]]\n",
    "\n",
    "    m1,m2,n2 = length(I), length(I3), length(I4)\n",
    "    U = [Ubar1 spzeros(m1,n-m1);\n",
    "        spzeros(m2,m1) U1 spzeros(m2,n-m1-n2);\n",
    "        spzeros(m-m1-m2,n)]\n",
    "\n",
    "    return L,U,Q\n",
    "end\n",
    "\n",
    "function spspaces(\n",
    "    A,\n",
    "    tol=max(maximum(size(A))*norm(A,1)*eps(),100*eps())\n",
    "    )\n",
    "    L,U,Q = luq(A,tol)\n",
    "\n",
    "    if !isempty(Q)\n",
    "        QQ = inv(Q)\n",
    "    else\n",
    "        QQ = Q\n",
    "    end\n",
    "    S = maxabs(U,1)\n",
    "    I = find(S.>tol)\n",
    "    if !isempty(S)\n",
    "        J = find(S.<=tol)\n",
    "    else\n",
    "        J = (1:size(S,2))\n",
    "    end\n",
    "    return QQ[:,J]\n",
    "end"
   ]
  },
  {
   "cell_type": "code",
   "execution_count": 6,
   "metadata": {
    "collapsed": false
   },
   "outputs": [
    {
     "data": {
      "text/plain": [
       "UMFPACK LU Factorization of a 100-by-200 sparse matrix\n",
       "Ptr{Void} @0x00000000038786b0\n"
      ]
     },
     "execution_count": 6,
     "metadata": {},
     "output_type": "execute_result"
    }
   ],
   "source": [
    "F = lufact(sprandn(100,200,0.1))"
   ]
  },
  {
   "cell_type": "code",
   "execution_count": 20,
   "metadata": {
    "collapsed": false,
    "scrolled": true
   },
   "outputs": [
    {
     "data": {
      "text/plain": [
       "(-0.9147406153164831,4.527522398,777095840,0.113422534,Base.GC_Diff(777095840,2250,10,18575,3127,2179,113422534,26,3))"
      ]
     },
     "execution_count": 20,
     "metadata": {},
     "output_type": "execute_result"
    }
   ],
   "source": [
    "A = sprand(1000,2000,0.2)\n",
    "x1 = @timed spspaces(A)[1];\n",
    "x1"
   ]
  },
  {
   "cell_type": "code",
   "execution_count": 24,
   "metadata": {
    "collapsed": false
   },
   "outputs": [
    {
     "data": {
      "text/plain": [
       "7.994840900416023e-12"
      ]
     },
     "execution_count": 24,
     "metadata": {},
     "output_type": "execute_result"
    }
   ],
   "source": [
    "maxabs(A*spspaces(A))"
   ]
  },
  {
   "cell_type": "code",
   "execution_count": 162,
   "metadata": {
    "collapsed": false,
    "scrolled": false
   },
   "outputs": [
    {
     "data": {
      "text/plain": [
       "(0.013268974325458188,0.592955337,232505016,0.007243147,Base.GC_Diff(232505016,100,1,47,4,59,7243147,8,0))"
      ]
     },
     "execution_count": 162,
     "metadata": {},
     "output_type": "execute_result"
    }
   ],
   "source": [
    "x2 = @timed kernel_rotation(A)[1];\n",
    "x2"
   ]
  },
  {
   "cell_type": "code",
   "execution_count": 122,
   "metadata": {
    "collapsed": false
   },
   "outputs": [
    {
     "data": {
      "text/plain": [
       "kernel_rotation (generic function with 1 method)"
      ]
     },
     "execution_count": 122,
     "metadata": {},
     "output_type": "execute_result"
    }
   ],
   "source": [
    "function kernel_rotation(A::SparseMatrixCSC{Float64,Int64}; spqr=true)\n",
    "    m,n = size(A)\n",
    "\n",
    "    # Assume A always has full row rank of m.\n",
    "    # It may be possible for this assumption to fail\n",
    "    # due to numerics, but a rank() check is expensive.\n",
    "    dim_N = n - m # dimension of nullspace of A\n",
    "\n",
    "    if spqr\n",
    "        F = qrfact(sparse(A'))\n",
    "        # B selects last dim_N cols of Q:\n",
    "        B = [zeros(size(A,2)-dim_N,dim_N); eye(dim_N)]\n",
    "        N = sparse(SparseMatrix.SPQR.qmult(SparseMatrix.SPQR.QX, F, SparseMatrix.CHOLMOD.Dense(B)))\n",
    "        return N\n",
    "    else\n",
    "        q = qr(A'; thin=false)[1]\n",
    "        return q[:,end-dim_N+1:end]\n",
    "    end\n",
    "end"
   ]
  },
  {
   "cell_type": "markdown",
   "metadata": {},
   "source": [
    "## Wikipedia method\n",
    "\n",
    "[Wikipedia][1] has a simple algorithm for using Gaussian elimination to find a basis for the nullspace.\n",
    "\n",
    "[1]: https://en.wikipedia.org/wiki/Kernel_(linear_algebra)#Computation_by_Gaussian_elimination"
   ]
  },
  {
   "cell_type": "code",
   "execution_count": 38,
   "metadata": {
    "collapsed": false
   },
   "outputs": [
    {
     "data": {
      "text/plain": [
       "Base.LinAlg.LU{Float64,Array{Float64,2}}(6x10 Array{Float64,2}:\n",
       " -8.0    4.0       -9.0       0.0  0.0  0.0  …  0.0   0.0        1.0      \n",
       "  0.375  3.5        3.375     0.0  0.0  0.0     0.0   0.0       -0.375    \n",
       " -0.25   0.0        4.75      0.0  0.0  0.0     0.0   1.0        0.25     \n",
       " -0.0    0.0        0.210526  0.0  0.0  0.0     1.0  -0.210526  -0.0526316\n",
       " -0.125  0.142857  -0.338346  0.0  1.0  0.0     0.0   0.338346   0.263158 \n",
       " -0.0    0.285714  -0.203008  0.0  0.0  1.0  …  0.0   0.203008   0.157895 ,Int32[6,3,5,4,6,6],4)"
      ]
     },
     "execution_count": 38,
     "metadata": {},
     "output_type": "execute_result"
    }
   ],
   "source": [
    "# A = sprandn(100,200,0.1)\n",
    "A = [\n",
    "    1 0 -3 0 2 -8;\n",
    "    0 1 5 0 -1 4;\n",
    "    0 0 0 1 7 -9;\n",
    "    0 0 0 0 0 0\n",
    "]\n",
    "m,n = size(A)\n",
    "AI = [A;speye(n)]\n",
    "\n",
    "# perform column operations to place upper part\n",
    "# in column echelon form:\n",
    "for i in 1:m\n",
    "    "
   ]
  },
  {
   "cell_type": "code",
   "execution_count": 61,
   "metadata": {
    "collapsed": false
   },
   "outputs": [
    {
     "name": "stdout",
     "output_type": "stream",
     "text": [
      "search: "
     ]
    },
    {
     "data": {
      "text/latex": [
       "\\begin{verbatim}\n",
       "nnz(A)\n",
       "\\end{verbatim}\n",
       "Returns the number of stored (filled) elements in a sparse matrix.\n"
      ],
      "text/markdown": [
       "```\n",
       "nnz(A)\n",
       "```\n",
       "\n",
       "Returns the number of stored (filled) elements in a sparse matrix.\n"
      ],
      "text/plain": [
       "```\n",
       "nnz(A)\n",
       "```\n",
       "\n",
       "Returns the number of stored (filled) elements in a sparse matrix.\n"
      ]
     },
     "execution_count": 61,
     "metadata": {},
     "output_type": "execute_result"
    },
    {
     "name": "stdout",
     "output_type": "stream",
     "text": [
      "nnz nonzeros findnz countnz\n",
      "\n"
     ]
    }
   ],
   "source": [
    "?nnz"
   ]
  },
  {
   "cell_type": "code",
   "execution_count": 64,
   "metadata": {
    "collapsed": false
   },
   "outputs": [
    {
     "name": "stdout",
     "output_type": "stream",
     "text": [
      "search: "
     ]
    },
    {
     "data": {
      "text/latex": [
       "\\begin{verbatim}\n",
       "spones(S)\n",
       "\\end{verbatim}\n",
       "Create a sparse matrix with the same structure as that of \\texttt{S}, but with every nonzero element having the value \\texttt{1.0}.\n"
      ],
      "text/markdown": [
       "```\n",
       "spones(S)\n",
       "```\n",
       "\n",
       "Create a sparse matrix with the same structure as that of `S`, but with every nonzero element having the value `1.0`.\n"
      ],
      "text/plain": [
       "```\n",
       "spones(S)\n",
       "```\n",
       "\n",
       "Create a sparse matrix with the same structure as that of `S`, but with every nonzero element having the value `1.0`.\n"
      ]
     },
     "execution_count": 64,
     "metadata": {},
     "output_type": "execute_result"
    },
    {
     "name": "stdout",
     "output_type": "stream",
     "text": [
      "spones unsafe_pointer_to_objref\n",
      "\n"
     ]
    }
   ],
   "source": [
    "?spones"
   ]
  },
  {
   "cell_type": "code",
   "execution_count": 65,
   "metadata": {
    "collapsed": false
   },
   "outputs": [
    {
     "name": "stdout",
     "output_type": "stream",
     "text": [
      "search: "
     ]
    },
    {
     "ename": "LoadError",
     "evalue": "LoadError: \"valence\" is not defined in module Main\nwhile loading In[65], in expression starting on line 119",
     "output_type": "error",
     "traceback": [
      "LoadError: \"valence\" is not defined in module Main\nwhile loading In[65], in expression starting on line 119",
      "",
      " in error at ./error.jl:21",
      " in which_module at ./reflection.jl:315",
      " in call at ./docs/bindings.jl:8"
     ]
    },
    {
     "name": "stdout",
     "output_type": "stream",
     "text": [
      "InvalidStateException\n",
      "\n",
      "Couldn't find valence\n",
      "Perhaps you meant valtype or values\n"
     ]
    }
   ],
   "source": [
    "?valence"
   ]
  },
  {
   "cell_type": "code",
   "execution_count": 62,
   "metadata": {
    "collapsed": false
   },
   "outputs": [
    {
     "name": "stdout",
     "output_type": "stream",
     "text": [
      "search: "
     ]
    },
    {
     "data": {
      "text/latex": [
       "\\begin{verbatim}\n",
       "findnz(A)\n",
       "\\end{verbatim}\n",
       "Return a tuple \\texttt{(I, J, V)} where \\texttt{I} and \\texttt{J} are the row and column indexes of the non-zero values in matrix \\texttt{A}, and \\texttt{V} is a vector of the non-zero values.\n"
      ],
      "text/markdown": [
       "```\n",
       "findnz(A)\n",
       "```\n",
       "\n",
       "Return a tuple `(I, J, V)` where `I` and `J` are the row and column indexes of the non-zero values in matrix `A`, and `V` is a vector of the non-zero values.\n"
      ],
      "text/plain": [
       "```\n",
       "findnz(A)\n",
       "```\n",
       "\n",
       "Return a tuple `(I, J, V)` where `I` and `J` are the row and column indexes of the non-zero values in matrix `A`, and `V` is a vector of the non-zero values.\n"
      ]
     },
     "execution_count": 62,
     "metadata": {},
     "output_type": "execute_result"
    },
    {
     "name": "stdout",
     "output_type": "stream",
     "text": [
      "findnz findn findnext findin findmin\n",
      "\n"
     ]
    }
   ],
   "source": [
    "?findnz"
   ]
  },
  {
   "cell_type": "code",
   "execution_count": 42,
   "metadata": {
    "collapsed": false
   },
   "outputs": [
    {
     "data": {
      "text/plain": [
       "6x10 Array{Float64,2}:\n",
       " -8.0  4.0  -9.0    0.0  0.0  0.0   0.0       0.0   0.0        1.0      \n",
       "  0.0  3.5   3.375  0.0  0.0  0.0   1.0       0.0   0.0       -0.375    \n",
       "  0.0  0.0   4.75   0.0  0.0  0.0   0.0       0.0   1.0        0.25     \n",
       "  0.0  0.0   0.0    0.0  0.0  0.0   0.0       1.0  -0.210526  -0.0526316\n",
       "  0.0  0.0   0.0    0.0  1.0  0.0  -0.142857  0.0   0.338346   0.263158 \n",
       "  0.0  0.0   0.0    0.0  0.0  1.0  -0.285714  0.0   0.203008   0.157895 "
      ]
     },
     "execution_count": 42,
     "metadata": {},
     "output_type": "execute_result"
    }
   ],
   "source": [
    "F[:U]"
   ]
  },
  {
   "cell_type": "code",
   "execution_count": 59,
   "metadata": {
    "collapsed": false
   },
   "outputs": [
    {
     "data": {
      "text/plain": [
       "(\n",
       "6x4 Array{Float64,2}:\n",
       "  1.0    0.0        0.0       0.0\n",
       "  0.375  1.0        0.0       0.0\n",
       " -0.25   0.0        1.0       0.0\n",
       " -0.0    0.0        0.210526  1.0\n",
       " -0.0    0.285714  -0.203008  0.0\n",
       " -0.125  0.142857  -0.338346  0.0,\n",
       "\n",
       "4x4 Array{Float64,2}:\n",
       " -8.0  4.0  -9.0    0.0\n",
       "  0.0  3.5   3.375  0.0\n",
       "  0.0  0.0   4.75   0.0\n",
       "  0.0  0.0   0.0    0.0,\n",
       "\n",
       "Int32[6,3,5,4,2,1])"
      ]
     },
     "execution_count": 59,
     "metadata": {},
     "output_type": "execute_result"
    }
   ],
   "source": [
    "L,U,p = lu(A')"
   ]
  },
  {
   "cell_type": "code",
   "execution_count": 51,
   "metadata": {
    "collapsed": false
   },
   "outputs": [
    {
     "data": {
      "text/plain": [
       "6x6 Array{Float64,2}:\n",
       " 1.0  0.0  0.0  0.0  0.0  0.0\n",
       " 0.0  1.0  0.0  0.0  0.0  0.0\n",
       " 0.0  0.0  1.0  0.0  0.0  0.0\n",
       " 0.0  0.0  0.0  1.0  0.0  0.0\n",
       " 0.0  0.0  0.0  0.0  1.0  0.0\n",
       " 0.0  0.0  0.0  0.0  0.0  1.0"
      ]
     },
     "execution_count": 51,
     "metadata": {},
     "output_type": "execute_result"
    }
   ],
   "source": [
    "eye(n)"
   ]
  },
  {
   "cell_type": "code",
   "execution_count": 54,
   "metadata": {
    "collapsed": false
   },
   "outputs": [
    {
     "data": {
      "text/plain": [
       "4x6 Array{Float64,2}:\n",
       " 1.0  0.375  -0.25  0.0        0.0       -0.125   \n",
       " 0.0  1.0     0.0   0.0        0.285714   0.142857\n",
       " 0.0  0.0     1.0   0.210526  -0.203008  -0.338346\n",
       " 0.0  0.0     0.0   1.0        0.0        0.0     "
      ]
     },
     "execution_count": 54,
     "metadata": {},
     "output_type": "execute_result"
    }
   ],
   "source": [
    "L'*eye(n)"
   ]
  }
 ],
 "metadata": {
  "kernelspec": {
   "display_name": "Julia 0.4.0",
   "language": "julia",
   "name": "julia-0.4"
  },
  "language_info": {
   "file_extension": ".jl",
   "mimetype": "application/julia",
   "name": "julia",
   "version": "0.4.1"
  }
 },
 "nbformat": 4,
 "nbformat_minor": 0
}
