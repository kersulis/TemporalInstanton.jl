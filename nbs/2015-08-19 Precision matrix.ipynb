{
 "cells": [
  {
   "cell_type": "markdown",
   "metadata": {},
   "source": [
    "## Introduction\n",
    "\n",
    "\"The precision matrix of a random vector is the inverse of its covariance matrix.\" The covariance matrix is dense, perhaps without a single zero. The precision matrix is sparse and may be generated without much trouble.\n",
    "\n",
    "Wind farms are correlated both spatially and temporally. We must arrange the farms in a tiled pattern so each site's neighbors may be classified as North, South, West, or East. Then we can assign coefficients to weight spatial and temporal correlation. Using these coefficients and assuming our model is first-order in time (tri-diagonal precision matrix blocks), we can construct a precision matrix."
   ]
  },
  {
   "cell_type": "markdown",
   "metadata": {},
   "source": [
    "## Precision matrix for RTS-96\n",
    "\n",
    "The wind sites in the ARPA-E RTS-96 are distributed within three areas. We will assume those areas are distant enough to be uncorrelated. Within each area, the spatial arrangement is arbitrary.\n",
    "\n",
    "There are nine wind sites in Area 1, six in Area 2, and three in Area 3. I tiled the sites in each area as shown below.\n",
    "\n",
    "![](../images/rts96adjacency.svg)\n",
    "\n",
    "To encode these spatial relationships, I will use the custom type `WindAdj`. This type has five fields, each containing a bus index (integer).\n",
    "\n",
    "![](../images/windadj.svg)"
   ]
  },
  {
   "cell_type": "code",
   "execution_count": 25,
   "metadata": {
    "collapsed": false
   },
   "outputs": [],
   "source": [
    "type WindAdj\n",
    "    A::Int64\n",
    "    N::Int64\n",
    "    E::Int64\n",
    "    S::Int64\n",
    "    W::Int64\n",
    "end"
   ]
  },
  {
   "cell_type": "code",
   "execution_count": 27,
   "metadata": {
    "collapsed": false
   },
   "outputs": [],
   "source": [
    "windsites = Vector{WindAdj}()\n",
    "push!(windsites,WindAdj( 2, 0,14, 0, 0))\n",
    "push!(windsites,WindAdj(14, 0,16,17, 2))\n",
    "push!(windsites,WindAdj(16, 0, 0,18,14))\n",
    "push!(windsites,WindAdj(17,14,18,20, 0))\n",
    "push!(windsites,WindAdj(18,16,19, 0,17))\n",
    "push!(windsites,WindAdj(19, 0, 0,21,18))\n",
    "push!(windsites,WindAdj(20,17, 0, 0, 0))\n",
    "push!(windsites,WindAdj(21,19,23, 0, 0))\n",
    "push!(windsites,WindAdj(23, 0, 0, 0,21))\n",
    "push!(windsites,WindAdj(26, 0, 0,36, 0))\n",
    "push!(windsites,WindAdj(36,26,37,43, 0))\n",
    "push!(windsites,WindAdj(37, 0, 0,44,36))\n",
    "push!(windsites,WindAdj(43,36,44,47, 0))\n",
    "push!(windsites,WindAdj(44,37, 0, 0,43))\n",
    "push!(windsites,WindAdj(47,43, 0, 0, 0))\n",
    "push!(windsites,WindAdj(49, 0,54, 0, 0))\n",
    "push!(windsites,WindAdj(54, 0, 0,57,49))\n",
    "push!(windsites,WindAdj(57,54, 0, 0, 0));"
   ]
  },
  {
   "cell_type": "markdown",
   "metadata": {},
   "source": [
    "## Precision matrix generation\n",
    "\n",
    "Take a set of coefficients and the spatial information just described, and generate a precision matrix.\n",
    "\n"
   ]
  }
 ],
 "metadata": {
  "kernelspec": {
   "display_name": "Julia 0.4.0-dev+6561",
   "language": "julia",
   "name": "julia-0.4"
  },
  "language_info": {
   "name": "julia",
   "version": "0.4.0"
  }
 },
 "nbformat": 4,
 "nbformat_minor": 0
}
