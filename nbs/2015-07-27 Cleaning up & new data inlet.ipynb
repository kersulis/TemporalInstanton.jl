{
 "cells": [
  {
   "cell_type": "markdown",
   "metadata": {},
   "source": [
    "## Cleaning up\n",
    "\n",
    "Every time I run the analysis I must paste a hundred lines of code to import files, load network data, etc. Then I can run the analysis and look at results. I need to fold this repetitive process into the body of code itself."
   ]
  },
  {
   "cell_type": "markdown",
   "metadata": {},
   "source": [
    "## New data inlet"
   ]
  },
  {
   "cell_type": "code",
   "execution_count": null,
   "metadata": {
    "collapsed": true
   },
   "outputs": [],
   "source": [
    "# Analysis:\n",
    "addprocs(4)\n",
    "@everywhere include(\"../src/TemporalInstanton.jl\")\n",
    "@everywhere using TemporalInstanton"
   ]
  },
  {
   "cell_type": "code",
   "execution_count": 1,
   "metadata": {
    "collapsed": true
   },
   "outputs": [],
   "source": [
    "# Analysis:\n",
    "include(\"../src/TemporalInstanton.jl\")\n",
    "using TemporalInstanton"
   ]
  },
  {
   "cell_type": "code",
   "execution_count": 3,
   "metadata": {
    "collapsed": true
   },
   "outputs": [],
   "source": [
    "# Far fewer lines of code than previous data loading routine:\n",
    "Ridx,Y,\n",
    "Gp,Dp,Rp,\n",
    "Sb,ref,lines,\n",
    "res,reac,k,\n",
    "line_lengths,line_conductors = load_rts96_data();"
   ]
  },
  {
   "cell_type": "code",
   "execution_count": null,
   "metadata": {
    "collapsed": true
   },
   "outputs": [],
   "source": [
    "# time_intervals = 3 # thirty minutes\n",
    "# time_values = 0:60:600 # ten minutes in 1-min steps\n",
    "# int_length = 600. # seconds\n",
    "# G0 = [0.7*Gp;0.7*Gp;0.7*Gp]\n",
    "# D0 = [0.9*Dp;0.9*Dp;0.9*Dp]\n",
    "# P0 = [Rp;1.5*Rp;1.5*Rp]\n",
    "\n",
    "time_intervals = 6 # thirty minutes total\n",
    "time_values = 0:30:300 # five minutes in 30-sec steps\n",
    "int_length = 300. # seconds = 5 min\n",
    "G0 = [0.7*Gp;0.7*Gp;0.7*Gp;0.7*Gp;0.7*Gp;0.7*Gp]\n",
    "D0 = [0.9*Dp;0.9*Dp;0.9*Dp;0.9*Dp;0.9*Dp;0.9*Dp]\n",
    "P0 = [Rp;1.1*Rp;1.2*Rp;1.3*Rp;1.4*Rp;1.5*Rp]\n",
    "\n",
    "# Thermal model parameters:\n",
    "Tamb = 35. # C\n",
    "T0 = 60. #46. # initial line steady-state temp"
   ]
  },
  {
   "cell_type": "code",
   "execution_count": null,
   "metadata": {
    "collapsed": true
   },
   "outputs": [],
   "source": [
    "@time score,x,θ,α,diffs,xopt = solve_temporal_instanton(\n",
    "    Ridx,Y,G0,P0,D0,Sb,ref,lines,\n",
    "    res,reac,k,line_lengths,line_conductors,Tamb,\n",
    "    T0,int_length);"
   ]
  },
  {
   "cell_type": "markdown",
   "metadata": {},
   "source": [
    "## Temporal instanton analysis ingredients\n",
    "\n",
    "Temporal instanton analysis requires the following ingredients, regardless of data source:\n",
    "\n",
    "| Var name        | Description                                  |\n",
    "|:---------------:|:---------------------------------------------|\n",
    "| `Ridx`            | Vector: indices of wind nodes                |\n",
    "| `Y`               | admittance matrix                            |\n",
    "| `G0`              | Conventional generation                      |\n",
    "| `P0`              | Renewable forecast                           |\n",
    "| `D0`              | Demand                                       |\n",
    "| `Sb`              | System base MVA                              |\n",
    "| `ref`             | index of angle reference bus                 |\n",
    "| `lines`           | vector of tuples: (from,to)                  |\n",
    "| `res`             | pu line resistances                          |\n",
    "| `reac`            | pu line reactances                           |\n",
    "| `k`               | generator participation factors              |\n",
    "| `line_lengths`    | line lengths in meters                       |\n",
    "| `line_conductors` | vector of strings containing conductor names |\n",
    "| `Tamb`            | system ambient temperature                   |\n",
    "| `T0`              | Line initial temperature                     |\n",
    "| `int_length`      | length of each time interval in seconds      |\n",
    "\n",
    "I should get rid of `T0` and use forecast information to estimate the line's initial steady-state temperature. Not all lines in the network start out at the same temp. Everything else, however, is pretty much required (though I could alter how the data is packaged)."
   ]
  }
 ],
 "metadata": {
  "kernelspec": {
   "display_name": "Julia",
   "language": "julia",
   "name": "julia"
  },
  "language_info": {
   "name": "julia",
   "version": "0.3.10"
  }
 },
 "nbformat": 4,
 "nbformat_minor": 0
}
