{
 "cells": [
  {
   "cell_type": "markdown",
   "metadata": {},
   "source": [
    "# Polish grid overnight performance\n",
    "Last night I ran my overnight script for evaluating temporal instanton algorithm performance on the 2383-bus Polish network. The results show a decrease in solution time, but a marked increase in memory allocation. The left subfigures below show previous performance, while the right subfigures show last night's results. There is nothing about the changes I made yesterday that would require additional memory allocation, so I probably made a mistake that converted a matrix to dense form.\n",
    "\n",
    "![](../images/2016-01-20-polish-reuse-null.png)\n",
    "\n",
    "I'm not sure where the memory is going."
   ]
  }
 ],
 "metadata": {
  "kernelspec": {
   "display_name": "Julia 0.4.0",
   "language": "julia",
   "name": "julia-0.4"
  },
  "language_info": {
   "file_extension": ".jl",
   "mimetype": "application/julia",
   "name": "julia",
   "version": "0.4.2"
  }
 },
 "nbformat": 4,
 "nbformat_minor": 0
}
