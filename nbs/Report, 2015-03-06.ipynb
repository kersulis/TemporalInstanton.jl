{
 "cells": [
  {
   "cell_type": "markdown",
   "metadata": {},
   "source": [
    "## Temporal Instanton Problem Instance\n",
    "\n",
    "Let's make up some simple numbers and make an instance of the temporal instanton problem."
   ]
  },
  {
   "cell_type": "code",
   "execution_count": 1,
   "metadata": {
    "collapsed": true
   },
   "outputs": [],
   "source": [
    "include(\"../src/TemporalInstanton.jl\")\n",
    "include(\"../src/TrustRegionSubproblem.jl\")\n",
    "\n",
    "using TemporalInstanton, TrustRegionSubproblem"
   ]
  },
  {
   "cell_type": "code",
   "execution_count": 2,
   "metadata": {
    "collapsed": false
   },
   "outputs": [
    {
     "data": {
      "text/plain": [
       "(\n",
       "18x18 sparse matrix with 3 Float64 entries:\n",
       "\t[16, 16]  =  1.0\n",
       "\t[17, 17]  =  1.0\n",
       "\t[18, 18]  =  1.0,\n",
       "\n",
       "0,10)"
      ]
     },
     "execution_count": 2,
     "metadata": {},
     "output_type": "execute_result"
    }
   ],
   "source": [
    "Ridx = [1,2]\n",
    "Y = [1 -2 -3;\n",
    "    -2 2 -4;\n",
    "    -3 -4 3]\n",
    "slack = 3\n",
    "k = [0.25,0.25,0.50]\n",
    "tau = 2\n",
    "line = (1,2)\n",
    "G0 = [0.8,0.9,0.8, 0,0.5,0.5, 0.2,0.3,0.4]\n",
    "D = flipud(G0)\n",
    "\n",
    "kQobj = 0\n",
    "kQtheta = 10\n",
    "\n",
    "# Create instance of instanton problem:\n",
    "Qobj,A,b,Qtheta = temporalInstanton(Ridx,Y,slack,k,tau,line,G0,D)\n",
    "\n",
    "G_of_x = (Qobj,0,kQobj)\n",
    "Q_of_x = (Qtheta,0,kQtheta)"
   ]
  },
  {
   "cell_type": "markdown",
   "metadata": {},
   "source": [
    "## Solving the trust region subproblem"
   ]
  },
  {
   "cell_type": "code",
   "execution_count": 3,
   "metadata": {
    "collapsed": false
   },
   "outputs": [
    {
     "data": {
      "text/plain": [
       "tr_translate (generic function with 1 method)"
      ]
     },
     "execution_count": 3,
     "metadata": {},
     "output_type": "execute_result"
    }
   ],
   "source": [
    "# Step 1: translate problem by point closest to origin in\n",
    "# {x:Ax=b}.\n",
    "\n",
    "function tr_translate(G_of_x,Q_of_x,A,b)\n",
    "    \"\"\" Starting with min G(x) s.t. ||x||=c, Ax=b,\n",
    "    translate problem by x_star, the point in \n",
    "    {x:Ax=b} closest to the origin. The problem\n",
    "    becomes min H(x) s.t. ||x||=c', Ax=0.\n",
    "    (Note: Q(x) == ||x||.)\n",
    "    \n",
    "    Returns H_of_x (translated G) and R_of_x\n",
    "    (translated Q).\n",
    "    \n",
    "    Arguments:\n",
    "    G_of_x has form (G,g,kg), with G matrix, g vector,\n",
    "    kg constant.\n",
    "    Q_of_x is entered similarly.\n",
    "    A and b define the Ax=b relationship.\n",
    "    \"\"\"\n",
    "    x_star = min_norm(A,b)\n",
    "    \n",
    "    H_of_x = translate_quadratic(G_of_x,x_star)\n",
    "    R_of_x = translate_quadratic(Q_of_x,x_star)\n",
    "    \n",
    "    return H_of_x,R_of_x\n",
    "end"
   ]
  },
  {
   "cell_type": "code",
   "execution_count": 4,
   "metadata": {
    "collapsed": true
   },
   "outputs": [
    {
     "data": {
      "text/plain": [
       "((\n",
       "18x18 Array{Float64,2}:\n",
       " 1.0  0.0  0.0  0.0  0.0  0.0  0.0  0.0  …  0.0  0.0  0.0  0.0  0.0  0.0  0.0\n",
       " 0.0  1.0  0.0  0.0  0.0  0.0  0.0  0.0     0.0  0.0  0.0  0.0  0.0  0.0  0.0\n",
       " 0.0  0.0  0.0  0.0  0.0  0.0  0.0  0.0     0.0  0.0  0.0  0.0  0.0  0.0  0.0\n",
       " 0.0  0.0  0.0  0.0  0.0  0.0  0.0  0.0     0.0  0.0  0.0  0.0  0.0  0.0  0.0\n",
       " 0.0  0.0  0.0  0.0  0.0  0.0  0.0  0.0     0.0  0.0  0.0  0.0  0.0  0.0  0.0\n",
       " 0.0  0.0  0.0  0.0  0.0  1.0  0.0  0.0  …  0.0  0.0  0.0  0.0  0.0  0.0  0.0\n",
       " 0.0  0.0  0.0  0.0  0.0  0.0  1.0  0.0     0.0  0.0  0.0  0.0  0.0  0.0  0.0\n",
       " 0.0  0.0  0.0  0.0  0.0  0.0  0.0  0.0     0.0  0.0  0.0  0.0  0.0  0.0  0.0\n",
       " 0.0  0.0  0.0  0.0  0.0  0.0  0.0  0.0     0.0  0.0  0.0  0.0  0.0  0.0  0.0\n",
       " 0.0  0.0  0.0  0.0  0.0  0.0  0.0  0.0     0.0  0.0  0.0  0.0  0.0  0.0  0.0\n",
       " 0.0  0.0  0.0  0.0  0.0  0.0  0.0  0.0  …  0.0  0.0  0.0  0.0  0.0  0.0  0.0\n",
       " 0.0  0.0  0.0  0.0  0.0  0.0  0.0  0.0     1.0  0.0  0.0  0.0  0.0  0.0  0.0\n",
       " 0.0  0.0  0.0  0.0  0.0  0.0  0.0  0.0     0.0  0.0  0.0  0.0  0.0  0.0  0.0\n",
       " 0.0  0.0  0.0  0.0  0.0  0.0  0.0  0.0     0.0  0.0  0.0  0.0  0.0  0.0  0.0\n",
       " 0.0  0.0  0.0  0.0  0.0  0.0  0.0  0.0     0.0  0.0  0.0  0.0  0.0  0.0  0.0\n",
       " 0.0  0.0  0.0  0.0  0.0  0.0  0.0  0.0  …  0.0  0.0  0.0  0.0  0.0  0.0  0.0\n",
       " 0.0  0.0  0.0  0.0  0.0  0.0  0.0  0.0     0.0  0.0  0.0  0.0  0.0  0.0  0.0\n",
       " 0.0  0.0  0.0  0.0  0.0  0.0  0.0  0.0     0.0  0.0  0.0  0.0  0.0  0.0  0.0,\n",
       "\n",
       "18x1 Array{FloatingPoint,2}:\n",
       "  0.323077\n",
       "  0.476923\n",
       "  0.0     \n",
       "  0.0     \n",
       "  0.0     \n",
       " -1.13636 \n",
       " -0.863636\n",
       "  0.0     \n",
       "  0.0     \n",
       "  0.0     \n",
       " -0.8     \n",
       " -0.8     \n",
       "  0.0     \n",
       "  0.0     \n",
       "  0.0     \n",
       "  0.0     \n",
       "  0.0     \n",
       "  0.0     ,\n",
       "\n",
       "-0.9122561005428138),(\n",
       "18x18 sparse matrix with 3 Float64 entries:\n",
       "\t[16, 16]  =  1.0\n",
       "\t[17, 17]  =  1.0\n",
       "\t[18, 18]  =  1.0,\n",
       "\n",
       "18x1 Array{FloatingPoint,2}:\n",
       "  0.0        \n",
       "  0.0        \n",
       "  0.0        \n",
       "  0.0        \n",
       "  0.0        \n",
       "  0.0        \n",
       "  0.0        \n",
       "  0.0        \n",
       "  0.0        \n",
       "  0.0        \n",
       "  0.0        \n",
       "  0.0        \n",
       "  0.0        \n",
       "  0.0        \n",
       "  0.0        \n",
       " -0.123077   \n",
       " -0.25713    \n",
       " -6.66134e-16,\n",
       "\n",
       "9.979684092131645))"
      ]
     },
     "execution_count": 4,
     "metadata": {},
     "output_type": "execute_result"
    }
   ],
   "source": [
    "H_of_x,R_of_x = tr_translate(G_of_x,Q_of_x,A,b)"
   ]
  },
  {
   "cell_type": "code",
   "execution_count": 5,
   "metadata": {
    "collapsed": false
   },
   "outputs": [
    {
     "data": {
      "text/plain": [
       "tr_kernel_rotate (generic function with 1 method)"
      ]
     },
     "execution_count": 5,
     "metadata": {},
     "output_type": "execute_result"
    }
   ],
   "source": [
    "# Step 2: rotate problem to eliminate all but first k\n",
    "# variables, where k=nullity(A).\n",
    "\n",
    "function tr_kernel_rotate(G_of_x,A)\n",
    "    \"\"\" Rotate quadratic G_of_x to eliminate all\n",
    "    but first k variables. Returns quadratic H_of_z\n",
    "    \"\"\"\n",
    "    G,g,kg = G_of_x\n",
    "    rotation = kernel_rotation(A)\n",
    "    return (rotation*G,rotation*g,kg)\n",
    "end"
   ]
  },
  {
   "cell_type": "code",
   "execution_count": 32,
   "metadata": {
    "collapsed": true
   },
   "outputs": [
    {
     "data": {
      "text/plain": [
       "(\n",
       "18x18 Array{Float64,2}:\n",
       " -0.518625      0.195443     0.0  0.0  0.0  …  0.0  0.0  0.0  0.0  0.0  0.0\n",
       "  0.518625     -0.195443     0.0  0.0  0.0     0.0  0.0  0.0  0.0  0.0  0.0\n",
       " -5.55112e-17   2.77556e-17  0.0  0.0  0.0     0.0  0.0  0.0  0.0  0.0  0.0\n",
       "  0.259312     -0.0977215    0.0  0.0  0.0     0.0  0.0  0.0  0.0  0.0  0.0\n",
       " -1.11022e-16   1.11022e-16  0.0  0.0  0.0     0.0  0.0  0.0  0.0  0.0  0.0\n",
       " -0.199593     -0.497278     0.0  0.0  0.0  …  0.0  0.0  0.0  0.0  0.0  0.0\n",
       "  0.199593      0.497278     0.0  0.0  0.0     0.0  0.0  0.0  0.0  0.0  0.0\n",
       "  6.10623e-16   3.1225e-17   0.0  0.0  0.0     0.0  0.0  0.0  0.0  0.0  0.0\n",
       "  0.0997966     0.248639     0.0  0.0  0.0     0.0  0.0  0.0  0.0  0.0  0.0\n",
       "  0.0           0.0          0.0  0.0  0.0     0.0  0.0  0.0  0.0  0.0  0.0\n",
       " -0.0807202    -0.279872     0.0  0.0  0.0  …  0.0  0.0  0.0  0.0  0.0  0.0\n",
       "  0.0807202     0.279872     0.0  0.0  0.0     0.0  0.0  0.0  0.0  0.0  0.0\n",
       "  1.11022e-16  -5.55112e-16  0.0  0.0  0.0     0.0  0.0  0.0  0.0  0.0  0.0\n",
       "  0.0403601     0.139936     0.0  0.0  0.0     0.0  0.0  0.0  0.0  0.0  0.0\n",
       " -6.93889e-18   5.55112e-17  0.0  0.0  0.0     0.0  0.0  0.0  0.0  0.0  0.0\n",
       "  0.518625     -0.195443     0.0  0.0  0.0  …  0.0  0.0  0.0  0.0  0.0  0.0\n",
       "  0.141134      0.351629     0.0  0.0  0.0     0.0  0.0  0.0  0.0  0.0  0.0\n",
       "  0.0403601     0.139936     0.0  0.0  0.0     0.0  0.0  0.0  0.0  0.0  0.0,\n",
       "\n",
       "18x1 Array{FloatingPoint,2}:\n",
       " -0.0515364  \n",
       " -0.151682   \n",
       "  0.746505   \n",
       "  0.534842   \n",
       " -1.08657    \n",
       " -0.490209   \n",
       " -0.0754761  \n",
       "  0.565685   \n",
       "  0.527947   \n",
       " -2.37185e-17\n",
       " -0.484467   \n",
       "  0.159556   \n",
       "  0.324911   \n",
       " -0.570043   \n",
       " -0.0812277  \n",
       "  0.0743444  \n",
       "  0.213297   \n",
       "  0.0797781  ,\n",
       "\n",
       "-0.9122561005428138)"
      ]
     },
     "execution_count": 32,
     "metadata": {},
     "output_type": "execute_result"
    }
   ],
   "source": [
    "J_of_z = tr_kernel_rotate(H_of_x,A)"
   ]
  },
  {
   "cell_type": "code",
   "execution_count": 36,
   "metadata": {
    "collapsed": false
   },
   "outputs": [
    {
     "data": {
      "text/plain": [
       "tr_diag_rotate (generic function with 1 method)"
      ]
     },
     "execution_count": 36,
     "metadata": {},
     "output_type": "execute_result"
    }
   ],
   "source": [
    "# Step 3: rotate again to obtain diagonal quadratic.\n",
    "\n",
    "function tr_diag_rotate(G_of_x)\n",
    "    \"\"\" Change variables to obtain quadratic polynomial\n",
    "    whose quadratic part is diagonal.\n",
    "    \"\"\"\n",
    "    G,g,kg = G_of_x\n",
    "    D,V = eig(G)\n",
    "    return (diagm(D),V'*g,kg)\n",
    "end"
   ]
  },
  {
   "cell_type": "code",
   "execution_count": 37,
   "metadata": {
    "collapsed": true
   },
   "outputs": [
    {
     "data": {
      "text/plain": [
       "(\n",
       "18x18 Array{Complex{Float64},2}:\n",
       " 0.0+0.0im  0.0+0.0im  0.0+0.0im  0.0+0.0im  0.0+0.0im  …        0.0+0.0im\n",
       " 0.0+0.0im  0.0+0.0im  0.0+0.0im  0.0+0.0im  0.0+0.0im           0.0+0.0im\n",
       " 0.0+0.0im  0.0+0.0im  0.0+0.0im  0.0+0.0im  0.0+0.0im           0.0+0.0im\n",
       " 0.0+0.0im  0.0+0.0im  0.0+0.0im  0.0+0.0im  0.0+0.0im           0.0+0.0im\n",
       " 0.0+0.0im  0.0+0.0im  0.0+0.0im  0.0+0.0im  0.0+0.0im           0.0+0.0im\n",
       " 0.0+0.0im  0.0+0.0im  0.0+0.0im  0.0+0.0im  0.0+0.0im  …        0.0+0.0im\n",
       " 0.0+0.0im  0.0+0.0im  0.0+0.0im  0.0+0.0im  0.0+0.0im           0.0+0.0im\n",
       " 0.0+0.0im  0.0+0.0im  0.0+0.0im  0.0+0.0im  0.0+0.0im           0.0+0.0im\n",
       " 0.0+0.0im  0.0+0.0im  0.0+0.0im  0.0+0.0im  0.0+0.0im           0.0+0.0im\n",
       " 0.0+0.0im  0.0+0.0im  0.0+0.0im  0.0+0.0im  0.0+0.0im           0.0+0.0im\n",
       " 0.0+0.0im  0.0+0.0im  0.0+0.0im  0.0+0.0im  0.0+0.0im  …        0.0+0.0im\n",
       " 0.0+0.0im  0.0+0.0im  0.0+0.0im  0.0+0.0im  0.0+0.0im           0.0+0.0im\n",
       " 0.0+0.0im  0.0+0.0im  0.0+0.0im  0.0+0.0im  0.0+0.0im           0.0+0.0im\n",
       " 0.0+0.0im  0.0+0.0im  0.0+0.0im  0.0+0.0im  0.0+0.0im           0.0+0.0im\n",
       " 0.0+0.0im  0.0+0.0im  0.0+0.0im  0.0+0.0im  0.0+0.0im           0.0+0.0im\n",
       " 0.0+0.0im  0.0+0.0im  0.0+0.0im  0.0+0.0im  0.0+0.0im  …        0.0+0.0im\n",
       " 0.0+0.0im  0.0+0.0im  0.0+0.0im  0.0+0.0im  0.0+0.0im           0.0+0.0im\n",
       " 0.0+0.0im  0.0+0.0im  0.0+0.0im  0.0+0.0im  0.0+0.0im     0.0152389+0.0im,\n",
       "\n",
       "18x1 Array{Complex{FloatingPoint},2}:\n",
       "     0.746505+0.0im      \n",
       "     0.534842+0.0im      \n",
       "     -1.08657+0.0im      \n",
       "     0.565685+0.0im      \n",
       "     0.527947+0.0im      \n",
       " -2.37185e-17+0.0im      \n",
       "     0.324911+0.0im      \n",
       "    -0.570043+0.0im      \n",
       "   -0.0812277+0.0im      \n",
       "    0.0743444+0.0im      \n",
       "     0.213297+0.0im      \n",
       "    0.0797781+0.0im      \n",
       "    -0.363812+0.0909402im\n",
       "    -0.363812-0.0909402im\n",
       "     0.459187+0.0im      \n",
       "     -1.19026+0.327185im \n",
       "     -1.19026-0.327185im \n",
       "     -1.43819+0.0im      ,\n",
       "\n",
       "-0.9122561005428138)"
      ]
     },
     "execution_count": 37,
     "metadata": {},
     "output_type": "execute_result"
    }
   ],
   "source": [
    "K_of_z = tr_diag_rotate(J_of_z)"
   ]
  },
  {
   "cell_type": "markdown",
   "metadata": {},
   "source": [
    "## Compressed form"
   ]
  },
  {
   "cell_type": "code",
   "execution_count": 1,
   "metadata": {
    "collapsed": true
   },
   "outputs": [],
   "source": [
    "include(\"../src/TemporalInstanton.jl\")\n",
    "include(\"../src/TrustRegionSubproblem.jl\")\n",
    "\n",
    "using TemporalInstanton, TrustRegionSubproblem"
   ]
  },
  {
   "cell_type": "code",
   "execution_count": 6,
   "metadata": {
    "collapsed": true
   },
   "outputs": [
    {
     "data": {
      "text/plain": [
       "(\n",
       "12x12 Array{Complex{Float64},2}:\n",
       " 0.0+0.0im  0.0+0.0im  0.0+0.0im  0.0+0.0im  …       0.0+0.0im     \n",
       " 0.0+0.0im  0.0+0.0im  0.0+0.0im  0.0+0.0im          0.0+0.0im     \n",
       " 0.0+0.0im  0.0+0.0im  0.0+0.0im  0.0+0.0im          0.0+0.0im     \n",
       " 0.0+0.0im  0.0+0.0im  0.0+0.0im  0.0+0.0im          0.0+0.0im     \n",
       " 0.0+0.0im  0.0+0.0im  0.0+0.0im  0.0+0.0im          0.0+0.0im     \n",
       " 0.0+0.0im  0.0+0.0im  0.0+0.0im  0.0+0.0im  …       0.0+0.0im     \n",
       " 0.0+0.0im  0.0+0.0im  0.0+0.0im  0.0+0.0im          0.0+0.0im     \n",
       " 0.0+0.0im  0.0+0.0im  0.0+0.0im  0.0+0.0im          0.0+0.0im     \n",
       " 0.0+0.0im  0.0+0.0im  0.0+0.0im  0.0+0.0im          0.0+0.0im     \n",
       " 0.0+0.0im  0.0+0.0im  0.0+0.0im  0.0+0.0im          0.0+0.0im     \n",
       " 0.0+0.0im  0.0+0.0im  0.0+0.0im  0.0+0.0im  …       0.0+0.0im     \n",
       " 0.0+0.0im  0.0+0.0im  0.0+0.0im  0.0+0.0im     0.386074-0.321784im,\n",
       "\n",
       "12x1 Array{Complex{FloatingPoint},2}:\n",
       "     0.675271+0.0im     \n",
       "     0.596595+0.0im     \n",
       " -6.90288e-17+0.0im     \n",
       "     0.472987+0.0im     \n",
       "    -0.438095+0.0im     \n",
       "    -0.109524+0.0im     \n",
       " -6.05786e-17+0.0im     \n",
       "  5.18104e-17+0.0im     \n",
       "     0.505321+0.0im     \n",
       "     0.547751+0.0im     \n",
       "    -0.272814-0.589404im\n",
       "    -0.272814+0.589404im,\n",
       "\n",
       "-0.41944444444444495)"
      ]
     },
     "execution_count": 6,
     "metadata": {},
     "output_type": "execute_result"
    }
   ],
   "source": [
    "Ridx = [1,2]\n",
    "Y = [1   -1    -1.2;\n",
    "    -1    2    -2.1;\n",
    "    -1.2 -2.1   1.3]\n",
    "slack = 3\n",
    "k = [0.25,0.25,0.50]\n",
    "tau = 2\n",
    "line = (1,2)\n",
    "G0 = [0.8,0.9,0.8, 0,0.5,0.5]\n",
    "D = flipud(G0)\n",
    "\n",
    "kQobj = 0\n",
    "kQtheta = 10\n",
    "\n",
    "# Create instance of instanton problem:\n",
    "Qobj,A,b,Qtheta = temporalInstanton(Ridx,Y,slack,k,tau,line,G0,D)\n",
    "\n",
    "G_of_x = (Qobj,0,kQobj)\n",
    "Q_of_x = (Qtheta,0,kQtheta)\n",
    "\n",
    "H_of_x,R_of_x = tr_translate(G_of_x,Q_of_x,A,b)\n",
    "J_of_z = tr_kernel_rotate(H_of_x,A)\n",
    "K_of_z = tr_diag_rotate(J_of_z)"
   ]
  }
 ],
 "metadata": {
  "kernelspec": {
   "display_name": "Julia",
   "language": "julia",
   "name": "julia"
  },
  "language_info": {
   "name": "julia",
   "version": "0.3.6"
  }
 },
 "nbformat": 4,
 "nbformat_minor": 0
}
