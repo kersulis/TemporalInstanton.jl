{
 "cells": [
  {
   "cell_type": "markdown",
   "metadata": {},
   "source": [
    "## Temporal Instanton Problem Instance\n",
    "\n",
    "Let's make up some simple numbers and make an instance of the temporal instanton problem."
   ]
  },
  {
   "cell_type": "code",
   "execution_count": 1,
   "metadata": {
    "collapsed": true
   },
   "outputs": [],
   "source": [
    "include(\"../src/TemporalInstanton.jl\")\n",
    "include(\"../src/TrustRegionSubproblem.jl\")\n",
    "\n",
    "using TemporalInstanton, TrustRegionSubproblem"
   ]
  },
  {
   "cell_type": "code",
   "execution_count": 2,
   "metadata": {
    "collapsed": false
   },
   "outputs": [
    {
     "data": {
      "text/plain": [
       "(\n",
       "18x18 Array{Float64,2}:\n",
       " 1.0  0.0  0.0  0.0  0.0  0.0  0.0  0.0  …  0.0  0.0  0.0  0.0  0.0  0.0  0.0\n",
       " 0.0  1.0  0.0  0.0  0.0  0.0  0.0  0.0     0.0  0.0  0.0  0.0  0.0  0.0  0.0\n",
       " 0.0  0.0  0.0  0.0  0.0  0.0  0.0  0.0     0.0  0.0  0.0  0.0  0.0  0.0  0.0\n",
       " 0.0  0.0  0.0  0.0  0.0  0.0  0.0  0.0     0.0  0.0  0.0  0.0  0.0  0.0  0.0\n",
       " 0.0  0.0  0.0  0.0  0.0  0.0  0.0  0.0     0.0  0.0  0.0  0.0  0.0  0.0  0.0\n",
       " 0.0  0.0  0.0  0.0  0.0  1.0  0.0  0.0  …  0.0  0.0  0.0  0.0  0.0  0.0  0.0\n",
       " 0.0  0.0  0.0  0.0  0.0  0.0  1.0  0.0     0.0  0.0  0.0  0.0  0.0  0.0  0.0\n",
       " 0.0  0.0  0.0  0.0  0.0  0.0  0.0  0.0     0.0  0.0  0.0  0.0  0.0  0.0  0.0\n",
       " 0.0  0.0  0.0  0.0  0.0  0.0  0.0  0.0     0.0  0.0  0.0  0.0  0.0  0.0  0.0\n",
       " 0.0  0.0  0.0  0.0  0.0  0.0  0.0  0.0     0.0  0.0  0.0  0.0  0.0  0.0  0.0\n",
       " 0.0  0.0  0.0  0.0  0.0  0.0  0.0  0.0  …  0.0  0.0  0.0  0.0  0.0  0.0  0.0\n",
       " 0.0  0.0  0.0  0.0  0.0  0.0  0.0  0.0     1.0  0.0  0.0  0.0  0.0  0.0  0.0\n",
       " 0.0  0.0  0.0  0.0  0.0  0.0  0.0  0.0     0.0  0.0  0.0  0.0  0.0  0.0  0.0\n",
       " 0.0  0.0  0.0  0.0  0.0  0.0  0.0  0.0     0.0  0.0  0.0  0.0  0.0  0.0  0.0\n",
       " 0.0  0.0  0.0  0.0  0.0  0.0  0.0  0.0     0.0  0.0  0.0  0.0  0.0  0.0  0.0\n",
       " 0.0  0.0  0.0  0.0  0.0  0.0  0.0  0.0  …  0.0  0.0  0.0  0.0  0.0  0.0  0.0\n",
       " 0.0  0.0  0.0  0.0  0.0  0.0  0.0  0.0     0.0  0.0  0.0  0.0  0.0  0.0  0.0\n",
       " 0.0  0.0  0.0  0.0  0.0  0.0  0.0  0.0     0.0  0.0  0.0  0.0  0.0  0.0  0.0,\n",
       "\n",
       "15x18 Array{Float64,2}:\n",
       " -1.0   0.0   1.0  -2.0  -0.25   0.0  …   0.0   0.0   0.0   0.0  0.0  0.0\n",
       "  0.0  -1.0  -2.0   2.0  -0.25   0.0      0.0   0.0   0.0   0.0  0.0  0.0\n",
       "  0.0   0.0   0.0   0.0  -0.5    0.0      0.0   0.0   0.0   0.0  0.0  0.0\n",
       "  1.0   1.0   0.0   0.0   1.0    0.0      0.0   0.0   0.0   0.0  0.0  0.0\n",
       "  0.0   0.0   0.0   0.0   0.0   -1.0      0.0   0.0   0.0   0.0  0.0  0.0\n",
       "  0.0   0.0   0.0   0.0   0.0    0.0  …   0.0   0.0   0.0   0.0  0.0  0.0\n",
       "  0.0   0.0   0.0   0.0   0.0    0.0      0.0   0.0   0.0   0.0  0.0  0.0\n",
       "  0.0   0.0   0.0   0.0   0.0    1.0      0.0   0.0   0.0   0.0  0.0  0.0\n",
       "  0.0   0.0   0.0   0.0   0.0    0.0      1.0  -2.0  -0.25  0.0  0.0  0.0\n",
       "  0.0   0.0   0.0   0.0   0.0    0.0     -2.0   2.0  -0.25  0.0  0.0  0.0\n",
       "  0.0   0.0   0.0   0.0   0.0    0.0  …   0.0   0.0  -0.5   0.0  0.0  0.0\n",
       "  0.0   0.0   0.0   0.0   0.0    0.0      0.0   0.0   1.0   0.0  0.0  0.0\n",
       "  0.0   0.0   0.0  -2.0   0.0    0.0      0.0   0.0   0.0   1.0  0.0  0.0\n",
       "  0.0   0.0   0.0   0.0   0.0    0.0      0.0   0.0   0.0   0.0  1.0  0.0\n",
       "  0.0   0.0   0.0   0.0   0.0    0.0      0.0  -1.0   0.0   0.0  0.0  1.0,\n",
       "\n",
       "FloatingPoint[0.4,0.6000000000000001,0.6000000000000001,-1.6,-0.5,0.0,0.5,-0.0,-0.6000000000000001,-0.6000000000000001,-0.4,1.6,0.0,0.0,0.0],\n",
       "18x18 sparse matrix with 3 Float64 entries:\n",
       "\t[16, 16]  =  1.0\n",
       "\t[17, 17]  =  1.0\n",
       "\t[18, 18]  =  1.0)"
      ]
     },
     "execution_count": 2,
     "metadata": {},
     "output_type": "execute_result"
    }
   ],
   "source": [
    "Ridx = [1,2]\n",
    "Y = [1 -2 -3;\n",
    "    -2 2 -4;\n",
    "    -3 -4 3]\n",
    "slack = 3\n",
    "k = [0.25,0.25,0.50]\n",
    "tau = 2\n",
    "line = (1,2)\n",
    "G0 = [0.8,0.9,0.8, 0,0.5,0.5, 0.2,0.3,0.4]\n",
    "D = flipud(G0)\n",
    "\n",
    "kQobj = 0\n",
    "kQtheta = 10\n",
    "\n",
    "# Create instance of instanton problem:\n",
    "Qobj,A,B,Qtheta = temporalInstanton(Ridx,Y,slack,k,tau,line,G0,D)"
   ]
  },
  {
   "cell_type": "markdown",
   "metadata": {},
   "source": [
    "## Solving the trust region subproblem"
   ]
  },
  {
   "cell_type": "code",
   "execution_count": 6,
   "metadata": {
    "collapsed": false,
    "scrolled": true
   },
   "outputs": [
    {
     "data": {
      "text/plain": [
       "18-element Array{FloatingPoint,1}:\n",
       " -0.161538   \n",
       " -0.238462   \n",
       "  7.31897e-17\n",
       "  0.0307692  \n",
       " -1.2        \n",
       "  0.568182   \n",
       "  0.431818   \n",
       "  1.34407e-16\n",
       "  0.0909091  \n",
       " -1.0        \n",
       "  0.4        \n",
       "  0.4        \n",
       "  2.47228e-17\n",
       "  1.07369e-16\n",
       "  0.8        \n",
       "  0.0615385  \n",
       "  0.128565   \n",
       "  3.33067e-16"
      ]
     },
     "execution_count": 6,
     "metadata": {},
     "output_type": "execute_result"
    }
   ],
   "source": [
    "# Step 1: find point in set Ax = b closest to origin.\n",
    "x_star = min_norm(A,b)"
   ]
  },
  {
   "cell_type": "code",
   "execution_count": 7,
   "metadata": {
    "collapsed": false,
    "scrolled": false
   },
   "outputs": [
    {
     "data": {
      "text/plain": [
       "(\n",
       "18x18 sparse matrix with 3 Float64 entries:\n",
       "\t[16, 16]  =  1.0\n",
       "\t[17, 17]  =  1.0\n",
       "\t[18, 18]  =  1.0,\n",
       "\n",
       "18x1 Array{FloatingPoint,2}:\n",
       "  0.0        \n",
       "  0.0        \n",
       "  0.0        \n",
       "  0.0        \n",
       "  0.0        \n",
       "  0.0        \n",
       "  0.0        \n",
       "  0.0        \n",
       "  0.0        \n",
       "  0.0        \n",
       "  0.0        \n",
       "  0.0        \n",
       "  0.0        \n",
       "  0.0        \n",
       "  0.0        \n",
       " -0.123077   \n",
       " -0.25713    \n",
       " -6.66134e-16,\n",
       "\n",
       "9.979684092131645)"
      ]
     },
     "execution_count": 7,
     "metadata": {},
     "output_type": "execute_result"
    }
   ],
   "source": [
    "# Step 2: Translate quadratics by x_star found in Step 1.\n",
    "Qobj_trans,Qobj_q_trans,kQobj_trans = translate_quadratic(Qobj,0,kQobj,x_star)\n",
    "Qtheta_trans,Qtheta_q_trans,kQtheta_trans = translate_quadratic(Qtheta,0,kQtheta,x_star)"
   ]
  },
  {
   "cell_type": "code",
   "execution_count": 11,
   "metadata": {
    "collapsed": false
   },
   "outputs": [
    {
     "data": {
      "text/plain": [
       "18x18 Array{Float64,2}:\n",
       " -0.518625      0.195443     -0.0228639    …   3.88578e-16  -2.56739e-16\n",
       "  0.518625     -0.195443      0.0228639       -4.996e-16     2.60209e-16\n",
       " -5.55112e-17   2.77556e-17   1.38778e-17     -9.48438e-17  -1.29654e-17\n",
       "  0.259312     -0.0977215     0.0114319       -2.22616e-16   1.28555e-16\n",
       " -1.11022e-16   1.11022e-16  -1.38778e-17      1.98966e-17   1.07341e-17\n",
       " -0.199593     -0.497278      0.27661      …   0.284268      4.67942e-17\n",
       "  0.199593      0.497278     -0.27661         -0.284268     -3.99154e-17\n",
       "  6.10623e-16   3.1225e-17   -1.249e-16       -5.55112e-17  -4.58992e-17\n",
       "  0.0997966     0.248639     -0.138305        -0.142134     -5.71159e-17\n",
       "  0.0           0.0          -5.55112e-17      0.0          -1.17511e-16\n",
       " -0.0807202    -0.279872     -0.561388     …   5.55112e-17  -0.210819   \n",
       "  0.0807202     0.279872      0.561388        -1.66533e-16   0.210819   \n",
       "  1.11022e-16  -5.55112e-16   1.38778e-16      3.88578e-16  -8.32667e-17\n",
       "  0.0403601     0.139936      0.280694         0.0           0.105409   \n",
       " -6.93889e-18   5.55112e-17  -1.11022e-16     -7.00639e-17   0.0        \n",
       "  0.518625     -0.195443      0.0228639    …  -1.8909e-16    1.8593e-16 \n",
       "  0.141134      0.351629     -0.195593         0.904534     -5.03504e-17\n",
       "  0.0403601     0.139936      0.280694         0.0          -0.948683   "
      ]
     },
     "execution_count": 11,
     "metadata": {},
     "output_type": "execute_result"
    }
   ],
   "source": [
    "# Step 3: Find rotation matrix to eliminate all but first k\n",
    "# variables, where k = dim(nullspace(A)).\n",
    "rotation = kernel_rotation(A)"
   ]
  },
  {
   "cell_type": "code",
   "execution_count": null,
   "metadata": {
    "collapsed": true
   },
   "outputs": [],
   "source": [
    "# Step 4: Rotate problem using matrix found in Step 3.\n",
    "J = rotation*H\n",
    "j = rotation*h\n",
    "kj = kh"
   ]
  }
 ],
 "metadata": {
  "kernelspec": {
   "display_name": "Julia",
   "language": "julia",
   "name": "julia"
  },
  "language_info": {
   "name": "julia",
   "version": "0.3.6"
  }
 },
 "nbformat": 4,
 "nbformat_minor": 0
}
