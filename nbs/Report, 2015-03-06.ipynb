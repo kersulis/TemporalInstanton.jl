{
 "cells": [
  {
   "cell_type": "markdown",
   "metadata": {},
   "source": [
    "## Temporal Instanton Problem Instance\n",
    "\n",
    "Let's make up some simple numbers and make an instance of the temporal instanton problem."
   ]
  },
  {
   "cell_type": "code",
   "execution_count": 1,
   "metadata": {
    "collapsed": true
   },
   "outputs": [],
   "source": [
    "include(\"../src/TemporalInstanton.jl\")\n",
    "include(\"../src/TrustRegionSubproblem.jl\")\n",
    "\n",
    "using TemporalInstanton, TrustRegionSubproblem"
   ]
  },
  {
   "cell_type": "code",
   "execution_count": 2,
   "metadata": {
    "collapsed": false
   },
   "outputs": [
    {
     "data": {
      "text/plain": [
       "(\n",
       "18x18 sparse matrix with 3 Float64 entries:\n",
       "\t[16, 16]  =  1.0\n",
       "\t[17, 17]  =  1.0\n",
       "\t[18, 18]  =  1.0,\n",
       "\n",
       "0,10)"
      ]
     },
     "execution_count": 2,
     "metadata": {},
     "output_type": "execute_result"
    }
   ],
   "source": [
    "Ridx = [1,2]\n",
    "Y = [1 -2 -3;\n",
    "    -2 2 -4;\n",
    "    -3 -4 3]\n",
    "slack = 3\n",
    "k = [0.25,0.25,0.50]\n",
    "tau = 2\n",
    "line = (1,2)\n",
    "G0 = [0.8,0.9,0.8, 0,0.5,0.5, 0.2,0.3,0.4]\n",
    "D = flipud(G0)\n",
    "\n",
    "kQobj = 0\n",
    "kQtheta = 10\n",
    "\n",
    "# Create instance of instanton problem:\n",
    "Qobj,A,b,Qtheta = temporalInstanton(Ridx,Y,slack,k,tau,line,G0,D)\n",
    "\n",
    "G_of_x = (Qobj,0,kQobj)\n",
    "Q_of_x = (Qtheta,0,kQtheta)"
   ]
  },
  {
   "cell_type": "markdown",
   "metadata": {},
   "source": [
    "## Solving the trust region subproblem"
   ]
  },
  {
   "cell_type": "code",
   "execution_count": 3,
   "metadata": {
    "collapsed": false
   },
   "outputs": [
    {
     "data": {
      "text/plain": [
       "tr_translate (generic function with 1 method)"
      ]
     },
     "execution_count": 3,
     "metadata": {},
     "output_type": "execute_result"
    }
   ],
   "source": [
    "# Step 1: translate problem by point closest to origin in\n",
    "# {x:Ax=b}.\n",
    "\n",
    "function tr_translate(G_of_x,Q_of_x,A,b)\n",
    "    \"\"\" Starting with min G(x) s.t. ||x||=c, Ax=b,\n",
    "    translate problem by x_star, the point in \n",
    "    {x:Ax=b} closest to the origin. The problem\n",
    "    becomes min H(x) s.t. ||x||=c', Ax=0.\n",
    "    (Note: Q(x) == ||x||.)\n",
    "    \n",
    "    Returns H_of_x (translated G) and R_of_x\n",
    "    (translated Q).\n",
    "    \n",
    "    Arguments:\n",
    "    G_of_x has form (G,g,kg), with G matrix, g vector,\n",
    "    kg constant.\n",
    "    Q_of_x is entered similarly.\n",
    "    A and b define the Ax=b relationship.\n",
    "    \"\"\"\n",
    "    x_star = min_norm(A,b)\n",
    "    \n",
    "    H_of_x = translate_quadratic(G_of_x,x_star)\n",
    "    R_of_x = translate_quadratic(Q_of_x,x_star)\n",
    "    \n",
    "    return H_of_x,R_of_x\n",
    "end"
   ]
  },
  {
   "cell_type": "code",
   "execution_count": 4,
   "metadata": {
    "collapsed": true
   },
   "outputs": [
    {
     "data": {
      "text/plain": [
       "((\n",
       "18x18 Array{Float64,2}:\n",
       " 1.0  0.0  0.0  0.0  0.0  0.0  0.0  0.0  …  0.0  0.0  0.0  0.0  0.0  0.0  0.0\n",
       " 0.0  1.0  0.0  0.0  0.0  0.0  0.0  0.0     0.0  0.0  0.0  0.0  0.0  0.0  0.0\n",
       " 0.0  0.0  0.0  0.0  0.0  0.0  0.0  0.0     0.0  0.0  0.0  0.0  0.0  0.0  0.0\n",
       " 0.0  0.0  0.0  0.0  0.0  0.0  0.0  0.0     0.0  0.0  0.0  0.0  0.0  0.0  0.0\n",
       " 0.0  0.0  0.0  0.0  0.0  0.0  0.0  0.0     0.0  0.0  0.0  0.0  0.0  0.0  0.0\n",
       " 0.0  0.0  0.0  0.0  0.0  1.0  0.0  0.0  …  0.0  0.0  0.0  0.0  0.0  0.0  0.0\n",
       " 0.0  0.0  0.0  0.0  0.0  0.0  1.0  0.0     0.0  0.0  0.0  0.0  0.0  0.0  0.0\n",
       " 0.0  0.0  0.0  0.0  0.0  0.0  0.0  0.0     0.0  0.0  0.0  0.0  0.0  0.0  0.0\n",
       " 0.0  0.0  0.0  0.0  0.0  0.0  0.0  0.0     0.0  0.0  0.0  0.0  0.0  0.0  0.0\n",
       " 0.0  0.0  0.0  0.0  0.0  0.0  0.0  0.0     0.0  0.0  0.0  0.0  0.0  0.0  0.0\n",
       " 0.0  0.0  0.0  0.0  0.0  0.0  0.0  0.0  …  0.0  0.0  0.0  0.0  0.0  0.0  0.0\n",
       " 0.0  0.0  0.0  0.0  0.0  0.0  0.0  0.0     1.0  0.0  0.0  0.0  0.0  0.0  0.0\n",
       " 0.0  0.0  0.0  0.0  0.0  0.0  0.0  0.0     0.0  0.0  0.0  0.0  0.0  0.0  0.0\n",
       " 0.0  0.0  0.0  0.0  0.0  0.0  0.0  0.0     0.0  0.0  0.0  0.0  0.0  0.0  0.0\n",
       " 0.0  0.0  0.0  0.0  0.0  0.0  0.0  0.0     0.0  0.0  0.0  0.0  0.0  0.0  0.0\n",
       " 0.0  0.0  0.0  0.0  0.0  0.0  0.0  0.0  …  0.0  0.0  0.0  0.0  0.0  0.0  0.0\n",
       " 0.0  0.0  0.0  0.0  0.0  0.0  0.0  0.0     0.0  0.0  0.0  0.0  0.0  0.0  0.0\n",
       " 0.0  0.0  0.0  0.0  0.0  0.0  0.0  0.0     0.0  0.0  0.0  0.0  0.0  0.0  0.0,\n",
       "\n",
       "18x1 Array{FloatingPoint,2}:\n",
       "  0.323077\n",
       "  0.476923\n",
       "  0.0     \n",
       "  0.0     \n",
       "  0.0     \n",
       " -1.13636 \n",
       " -0.863636\n",
       "  0.0     \n",
       "  0.0     \n",
       "  0.0     \n",
       " -0.8     \n",
       " -0.8     \n",
       "  0.0     \n",
       "  0.0     \n",
       "  0.0     \n",
       "  0.0     \n",
       "  0.0     \n",
       "  0.0     ,\n",
       "\n",
       "-0.9122561005428138),(\n",
       "18x18 sparse matrix with 3 Float64 entries:\n",
       "\t[16, 16]  =  1.0\n",
       "\t[17, 17]  =  1.0\n",
       "\t[18, 18]  =  1.0,\n",
       "\n",
       "18x1 Array{FloatingPoint,2}:\n",
       "  0.0        \n",
       "  0.0        \n",
       "  0.0        \n",
       "  0.0        \n",
       "  0.0        \n",
       "  0.0        \n",
       "  0.0        \n",
       "  0.0        \n",
       "  0.0        \n",
       "  0.0        \n",
       "  0.0        \n",
       "  0.0        \n",
       "  0.0        \n",
       "  0.0        \n",
       "  0.0        \n",
       " -0.123077   \n",
       " -0.25713    \n",
       " -6.66134e-16,\n",
       "\n",
       "9.979684092131645))"
      ]
     },
     "execution_count": 4,
     "metadata": {},
     "output_type": "execute_result"
    }
   ],
   "source": [
    "H_of_x,R_of_x = tr_translate(G_of_x,Q_of_x,A,b)"
   ]
  },
  {
   "cell_type": "code",
   "execution_count": 5,
   "metadata": {
    "collapsed": false
   },
   "outputs": [
    {
     "data": {
      "text/plain": [
       "tr_kernel_rotate (generic function with 1 method)"
      ]
     },
     "execution_count": 5,
     "metadata": {},
     "output_type": "execute_result"
    }
   ],
   "source": [
    "# Step 2: rotate problem to eliminate all but first k\n",
    "# variables, where k=nullity(A).\n",
    "\n",
    "function tr_kernel_rotate(G_of_x,A)\n",
    "    \"\"\" Rotate quadratic G_of_x to eliminate all\n",
    "    but first k variables. Returns quadratic H_of_z\n",
    "    \"\"\"\n",
    "    G,g,kg = G_of_x\n",
    "    rotation = kernel_rotation(A)\n",
    "    return (rotation*G,rotation*g,kg)\n",
    "end"
   ]
  },
  {
   "cell_type": "code",
   "execution_count": 32,
   "metadata": {
    "collapsed": true
   },
   "outputs": [
    {
     "data": {
      "text/plain": [
       "(\n",
       "18x18 Array{Float64,2}:\n",
       " -0.518625      0.195443     0.0  0.0  0.0  …  0.0  0.0  0.0  0.0  0.0  0.0\n",
       "  0.518625     -0.195443     0.0  0.0  0.0     0.0  0.0  0.0  0.0  0.0  0.0\n",
       " -5.55112e-17   2.77556e-17  0.0  0.0  0.0     0.0  0.0  0.0  0.0  0.0  0.0\n",
       "  0.259312     -0.0977215    0.0  0.0  0.0     0.0  0.0  0.0  0.0  0.0  0.0\n",
       " -1.11022e-16   1.11022e-16  0.0  0.0  0.0     0.0  0.0  0.0  0.0  0.0  0.0\n",
       " -0.199593     -0.497278     0.0  0.0  0.0  …  0.0  0.0  0.0  0.0  0.0  0.0\n",
       "  0.199593      0.497278     0.0  0.0  0.0     0.0  0.0  0.0  0.0  0.0  0.0\n",
       "  6.10623e-16   3.1225e-17   0.0  0.0  0.0     0.0  0.0  0.0  0.0  0.0  0.0\n",
       "  0.0997966     0.248639     0.0  0.0  0.0     0.0  0.0  0.0  0.0  0.0  0.0\n",
       "  0.0           0.0          0.0  0.0  0.0     0.0  0.0  0.0  0.0  0.0  0.0\n",
       " -0.0807202    -0.279872     0.0  0.0  0.0  …  0.0  0.0  0.0  0.0  0.0  0.0\n",
       "  0.0807202     0.279872     0.0  0.0  0.0     0.0  0.0  0.0  0.0  0.0  0.0\n",
       "  1.11022e-16  -5.55112e-16  0.0  0.0  0.0     0.0  0.0  0.0  0.0  0.0  0.0\n",
       "  0.0403601     0.139936     0.0  0.0  0.0     0.0  0.0  0.0  0.0  0.0  0.0\n",
       " -6.93889e-18   5.55112e-17  0.0  0.0  0.0     0.0  0.0  0.0  0.0  0.0  0.0\n",
       "  0.518625     -0.195443     0.0  0.0  0.0  …  0.0  0.0  0.0  0.0  0.0  0.0\n",
       "  0.141134      0.351629     0.0  0.0  0.0     0.0  0.0  0.0  0.0  0.0  0.0\n",
       "  0.0403601     0.139936     0.0  0.0  0.0     0.0  0.0  0.0  0.0  0.0  0.0,\n",
       "\n",
       "18x1 Array{FloatingPoint,2}:\n",
       " -0.0515364  \n",
       " -0.151682   \n",
       "  0.746505   \n",
       "  0.534842   \n",
       " -1.08657    \n",
       " -0.490209   \n",
       " -0.0754761  \n",
       "  0.565685   \n",
       "  0.527947   \n",
       " -2.37185e-17\n",
       " -0.484467   \n",
       "  0.159556   \n",
       "  0.324911   \n",
       " -0.570043   \n",
       " -0.0812277  \n",
       "  0.0743444  \n",
       "  0.213297   \n",
       "  0.0797781  ,\n",
       "\n",
       "-0.9122561005428138)"
      ]
     },
     "execution_count": 32,
     "metadata": {},
     "output_type": "execute_result"
    }
   ],
   "source": [
    "J_of_z = tr_kernel_rotate(H_of_x,A)"
   ]
  },
  {
   "cell_type": "code",
   "execution_count": 36,
   "metadata": {
    "collapsed": false
   },
   "outputs": [
    {
     "data": {
      "text/plain": [
       "tr_diag_rotate (generic function with 1 method)"
      ]
     },
     "execution_count": 36,
     "metadata": {},
     "output_type": "execute_result"
    }
   ],
   "source": [
    "# Step 3: rotate again to obtain diagonal quadratic.\n",
    "\n",
    "function tr_diag_rotate(G_of_x)\n",
    "    \"\"\" Change variables to obtain quadratic polynomial\n",
    "    whose quadratic part is diagonal.\n",
    "    \"\"\"\n",
    "    G,g,kg = G_of_x\n",
    "    D,V = eig(G)\n",
    "    return (diagm(D),V'*g,kg)\n",
    "end"
   ]
  },
  {
   "cell_type": "code",
   "execution_count": 37,
   "metadata": {
    "collapsed": true
   },
   "outputs": [
    {
     "data": {
      "text/plain": [
       "(\n",
       "18x18 Array{Complex{Float64},2}:\n",
       " 0.0+0.0im  0.0+0.0im  0.0+0.0im  0.0+0.0im  0.0+0.0im  …        0.0+0.0im\n",
       " 0.0+0.0im  0.0+0.0im  0.0+0.0im  0.0+0.0im  0.0+0.0im           0.0+0.0im\n",
       " 0.0+0.0im  0.0+0.0im  0.0+0.0im  0.0+0.0im  0.0+0.0im           0.0+0.0im\n",
       " 0.0+0.0im  0.0+0.0im  0.0+0.0im  0.0+0.0im  0.0+0.0im           0.0+0.0im\n",
       " 0.0+0.0im  0.0+0.0im  0.0+0.0im  0.0+0.0im  0.0+0.0im           0.0+0.0im\n",
       " 0.0+0.0im  0.0+0.0im  0.0+0.0im  0.0+0.0im  0.0+0.0im  …        0.0+0.0im\n",
       " 0.0+0.0im  0.0+0.0im  0.0+0.0im  0.0+0.0im  0.0+0.0im           0.0+0.0im\n",
       " 0.0+0.0im  0.0+0.0im  0.0+0.0im  0.0+0.0im  0.0+0.0im           0.0+0.0im\n",
       " 0.0+0.0im  0.0+0.0im  0.0+0.0im  0.0+0.0im  0.0+0.0im           0.0+0.0im\n",
       " 0.0+0.0im  0.0+0.0im  0.0+0.0im  0.0+0.0im  0.0+0.0im           0.0+0.0im\n",
       " 0.0+0.0im  0.0+0.0im  0.0+0.0im  0.0+0.0im  0.0+0.0im  …        0.0+0.0im\n",
       " 0.0+0.0im  0.0+0.0im  0.0+0.0im  0.0+0.0im  0.0+0.0im           0.0+0.0im\n",
       " 0.0+0.0im  0.0+0.0im  0.0+0.0im  0.0+0.0im  0.0+0.0im           0.0+0.0im\n",
       " 0.0+0.0im  0.0+0.0im  0.0+0.0im  0.0+0.0im  0.0+0.0im           0.0+0.0im\n",
       " 0.0+0.0im  0.0+0.0im  0.0+0.0im  0.0+0.0im  0.0+0.0im           0.0+0.0im\n",
       " 0.0+0.0im  0.0+0.0im  0.0+0.0im  0.0+0.0im  0.0+0.0im  …        0.0+0.0im\n",
       " 0.0+0.0im  0.0+0.0im  0.0+0.0im  0.0+0.0im  0.0+0.0im           0.0+0.0im\n",
       " 0.0+0.0im  0.0+0.0im  0.0+0.0im  0.0+0.0im  0.0+0.0im     0.0152389+0.0im,\n",
       "\n",
       "18x1 Array{Complex{FloatingPoint},2}:\n",
       "     0.746505+0.0im      \n",
       "     0.534842+0.0im      \n",
       "     -1.08657+0.0im      \n",
       "     0.565685+0.0im      \n",
       "     0.527947+0.0im      \n",
       " -2.37185e-17+0.0im      \n",
       "     0.324911+0.0im      \n",
       "    -0.570043+0.0im      \n",
       "   -0.0812277+0.0im      \n",
       "    0.0743444+0.0im      \n",
       "     0.213297+0.0im      \n",
       "    0.0797781+0.0im      \n",
       "    -0.363812+0.0909402im\n",
       "    -0.363812-0.0909402im\n",
       "     0.459187+0.0im      \n",
       "     -1.19026+0.327185im \n",
       "     -1.19026-0.327185im \n",
       "     -1.43819+0.0im      ,\n",
       "\n",
       "-0.9122561005428138)"
      ]
     },
     "execution_count": 37,
     "metadata": {},
     "output_type": "execute_result"
    }
   ],
   "source": [
    "K_of_z = tr_diag_rotate(J_of_z)"
   ]
  },
  {
   "cell_type": "markdown",
   "metadata": {},
   "source": [
    "## Compressed form"
   ]
  },
  {
   "cell_type": "code",
   "execution_count": 1,
   "metadata": {
    "collapsed": true
   },
   "outputs": [],
   "source": [
    "include(\"../src/TemporalInstanton.jl\")\n",
    "include(\"../src/TrustRegionSubproblem.jl\")\n",
    "\n",
    "using TemporalInstanton, TrustRegionSubproblem"
   ]
  },
  {
   "cell_type": "code",
   "execution_count": 2,
   "metadata": {
    "collapsed": false
   },
   "outputs": [
    {
     "data": {
      "text/plain": [
       "10"
      ]
     },
     "execution_count": 2,
     "metadata": {},
     "output_type": "execute_result"
    }
   ],
   "source": [
    "# Enter data:\n",
    "Ridx = [1,2]\n",
    "Y = [1   -1    -1.2;\n",
    "    -1    2    -2.1;\n",
    "    -1.2 -2.1   1.3]\n",
    "slack = 3\n",
    "k = [0.25,0.25,0.50]\n",
    "tau = 2\n",
    "line = (1,2)\n",
    "G0 = [0.8,0.9,0.8, 0,0.5,0.5]\n",
    "D = flipud(G0)\n",
    "\n",
    "kQobj = 0\n",
    "kQtheta = 10"
   ]
  },
  {
   "cell_type": "code",
   "execution_count": 3,
   "metadata": {
    "collapsed": false
   },
   "outputs": [
    {
     "data": {
      "text/plain": [
       "(\n",
       "12x12 Array{Float64,2}:\n",
       " -2.22045e-16   0.0          0.0          …  0.0          0.0  0.0  0.0  0.0\n",
       "  0.0          -3.27429e-17  0.0             0.0          0.0  0.0  0.0  0.0\n",
       "  0.0           0.0          4.93503e-18     0.0          0.0  0.0  0.0  0.0\n",
       "  0.0           0.0          0.0             0.0          0.0  0.0  0.0  0.0\n",
       "  0.0           0.0          0.0             0.0          0.0  0.0  0.0  0.0\n",
       "  0.0           0.0          0.0          …  0.0          0.0  0.0  0.0  0.0\n",
       "  0.0           0.0          0.0             0.0          0.0  0.0  0.0  0.0\n",
       "  0.0           0.0          0.0             6.66134e-16  0.0  0.0  0.0  0.0\n",
       "  0.0           0.0          0.0             0.0          1.0  0.0  0.0  0.0\n",
       "  0.0           0.0          0.0             0.0          0.0  1.0  0.0  0.0\n",
       "  0.0           0.0          0.0          …  0.0          0.0  0.0  1.0  0.0\n",
       "  0.0           0.0          0.0             0.0          0.0  0.0  0.0  1.0,\n",
       "\n",
       "12x1 Array{FloatingPoint,2}:\n",
       "  4.93038e-32\n",
       " -1.14216e-16\n",
       " -1.16849e-16\n",
       " -6.41839e-17\n",
       "  3.77186e-17\n",
       "  8.76752e-17\n",
       "  7.43184e-17\n",
       "  7.83381e-17\n",
       "  1.06878    \n",
       "  0.7153     \n",
       " -0.118524   \n",
       "  0.0988968  ,\n",
       "\n",
       "-0.41944444444444495)"
      ]
     },
     "execution_count": 3,
     "metadata": {},
     "output_type": "execute_result"
    }
   ],
   "source": [
    "# Create instance of instanton problem:\n",
    "Qobj,A,b,Qtheta = temporalInstanton(Ridx,Y,slack,k,tau,line,G0,D)\n",
    "\n",
    "G_of_x = (Qobj,0,kQobj)\n",
    "Q_of_x = (Qtheta,0,kQtheta)\n",
    "\n",
    "H_of_x,R_of_x = tr_translate(G_of_x,Q_of_x,A,b)\n",
    "J_of_z,Rkernel = tr_kernel_rotate(H_of_x,A)\n",
    "K_of_w,Reigvec = tr_diag_rotate(J_of_z)"
   ]
  },
  {
   "cell_type": "markdown",
   "metadata": {},
   "source": [
    "The problem now has the form $$\\min w^\\top K w + k^\\top w + k_k$$ subject to $$\\lVert w \\rVert = k_r~.$$\n",
    "\n",
    "The first-order optimality conditions for this constrained optimization problem are\n",
    "\n",
    "\\begin{align}\n",
    "2w^\\top K + k &= \\frac{\\mu}{k_r}w & \\\\\n",
    "\\iff 2w_iK_i + k_i &= \\frac{\\mu}{k_r}w_i & \\text{for }i=1,\\ldots,k\n",
    "\\end{align}\n",
    "where $K_i$ is the $i$th diagonal element of $K$, and $\\mu$ is the Lagrange multiplier (a scalar) associated with the norm equality constraint. We search for a solution to this system of equations via enumeration:\n",
    "\n",
    "1. Check the cases $\\mu=0$ and $\\mu=K_i,~i=1\\ldots k$. Each value of $\\mu$ yields $\\bar{w}$ that satisfies the necessary optimality condition. These values of $\\bar{w}$ must be checked for feasibility (to ensure that $\\lVert \\bar{w} \\rVert = k_r$).\n",
    "\n",
    "2. If all previous potential solutions were infeasible, we know that $\\mu\\neq0$ and $\\mu\\neq K_i$ for $i=1,\\ldots,k$. We can express each element of $w$ as $$ w_i = \\frac{k_ik_r}{\\mu - 2k_rK_i} $$ Furthermore, a potential solution $\\bar{w}$ is feasible if and only if $$ \\lVert \\bar{w} \\rVert = k_r \\iff \\sum_{i=1}^k \\left( \\frac{k_ik_r}{\\mu - 2k_rK_i} \\right)^2 = k_r^2 $$ The above condition is called the _secular equation_. It has at most $k$ solutions $\\bar{\\mu}$, which may be found by starting with $\\mu$ between two poles and adjusting until the secular equation is satisfied (to within some accuracy)."
   ]
  },
  {
   "cell_type": "code",
   "execution_count": 2,
   "metadata": {
    "collapsed": false
   },
   "outputs": [
    {
     "data": {
      "text/plain": [
       "tr_secular (generic function with 1 method)"
      ]
     },
     "execution_count": 2,
     "metadata": {},
     "output_type": "execute_result"
    }
   ],
   "source": [
    "function tr_secular(mu,c,g,G)\n",
    "    d = diag(G)\n",
    "    return sum([(c*g[i]/(mu - 2*c*d[i]))^2 for i in 1:length(d)])\n",
    "end"
   ]
  },
  {
   "cell_type": "code",
   "execution_count": 1,
   "metadata": {
    "collapsed": false,
    "scrolled": true
   },
   "outputs": [
    {
     "data": {
      "text/html": [
       "<script charset=\"utf-8\">(function ($, undefined) {\n",
       "\n",
       "    function createElem(tag, attr, content) {\n",
       "\t// TODO: remove jQuery dependency\n",
       "\tvar el = $(\"<\" + tag + \"/>\").attr(attr);\n",
       "\tif (content) {\n",
       "\t    el.append(content);\n",
       "\t}\n",
       "\treturn el[0];\n",
       "    }\n",
       "\n",
       "    // A widget must expose an id field which identifies it to the backend,\n",
       "    // an elem attribute which is will be added to the DOM, and\n",
       "    // a getState() method which returns the value to be sent to the backend\n",
       "    // a sendUpdate() method which sends its current value to the backend\n",
       "    var Widget = {\n",
       "\tid: undefined,\n",
       "\telem: undefined,\n",
       "\tlabel: undefined,\n",
       "\tgetState: function () {\n",
       "\t    return this.elem.value;\n",
       "\t},\n",
       "\tsendUpdate: undefined\n",
       "    };\n",
       "\n",
       "    var Slider = function (typ, id, init) {\n",
       "\tvar attr = { type:  \"range\",\n",
       "\t\t     value: init.value,\n",
       "\t\t     min:   init.min,\n",
       "\t\t     max:   init.max,\n",
       "\t\t     step:  init.step },\n",
       "\t    elem = createElem(\"input\", attr),\n",
       "\t    self = this;\n",
       "\n",
       "\telem.onchange = function () {\n",
       "\t    self.sendUpdate();\n",
       "\t}\n",
       "\n",
       "\tthis.id = id;\n",
       "\tthis.elem = elem;\n",
       "\tthis.label = init.label;\n",
       "\n",
       "\tInputWidgets.commInitializer(this); // Initialize communication\n",
       "    }\n",
       "    Slider.prototype = Widget;\n",
       "\n",
       "    var Checkbox = function (typ, id, init) {\n",
       "\tvar attr = { type: \"checkbox\",\n",
       "\t\t     checked: init.value },\n",
       "\t    elem = createElem(\"input\", attr),\n",
       "\t    self = this;\n",
       "\n",
       "\tthis.getState = function () {\n",
       "\t    return elem.checked;\n",
       "\t}\n",
       "\telem.onchange = function () {\n",
       "\t    self.sendUpdate();\n",
       "\t}\n",
       "\n",
       "\tthis.id = id;\n",
       "\tthis.elem = elem;\n",
       "\tthis.label = init.label;\n",
       "\n",
       "\tInputWidgets.commInitializer(this);\n",
       "    }\n",
       "    Checkbox.prototype = Widget;\n",
       "\n",
       "    var Button = function (typ, id, init) {\n",
       "\tvar attr = { type:    \"button\",\n",
       "\t\t     value:   init.label },\n",
       "\t    elem = createElem(\"input\", attr),\n",
       "\t    self = this;\n",
       "\tthis.getState = function () {\n",
       "\t    return null;\n",
       "\t}\n",
       "\telem.onclick = function () {\n",
       "\t    self.sendUpdate();\n",
       "\t}\n",
       "\n",
       "\tthis.id = id;\n",
       "\tthis.elem = elem;\n",
       "\tthis.label = init.label;\n",
       "\n",
       "\tInputWidgets.commInitializer(this);\n",
       "    }\n",
       "    Button.prototype = Widget;\n",
       "\n",
       "    var Text = function (typ, id, init) {\n",
       "\tvar attr = { type:  \"text\",\n",
       "\t\t     placeholder: init.label,\n",
       "\t\t     value: init.value },\n",
       "\t    elem = createElem(\"input\", attr),\n",
       "\t    self = this;\n",
       "\tthis.getState = function () {\n",
       "\t    return elem.value;\n",
       "\t}\n",
       "\telem.onkeyup = function () {\n",
       "\t    self.sendUpdate();\n",
       "\t}\n",
       "\n",
       "\tthis.id = id;\n",
       "\tthis.elem = elem;\n",
       "\tthis.label = init.label;\n",
       "\n",
       "\tInputWidgets.commInitializer(this);\n",
       "    }\n",
       "    Text.prototype = Widget;\n",
       "\n",
       "    var Textarea = function (typ, id, init) {\n",
       "\tvar attr = { placeholder: init.label },\n",
       "\t    elem = createElem(\"textarea\", attr, init.value),\n",
       "\t    self = this;\n",
       "\tthis.getState = function () {\n",
       "\t    return elem.value;\n",
       "\t}\n",
       "\telem.onchange = function () {\n",
       "\t    self.sendUpdate();\n",
       "\t}\n",
       "\n",
       "\tthis.id = id;\n",
       "\tthis.elem = elem;\n",
       "\tthis.label = init.label;\n",
       "\n",
       "\tInputWidgets.commInitializer(this);\n",
       "    }\n",
       "    Textarea.prototype = Widget;\n",
       "\n",
       "    // RadioButtons\n",
       "    // Dropdown\n",
       "    // HTML\n",
       "    // Latex\n",
       "\n",
       "    var InputWidgets = {\n",
       "\tSlider: Slider,\n",
       "\tCheckbox: Checkbox,\n",
       "\tButton: Button,\n",
       "\tText: Text,\n",
       "\tTextarea: Textarea,\n",
       "\tdebug: false,\n",
       "\tlog: function () {\n",
       "\t    if (InputWidgets.debug) {\n",
       "\t\tconsole.log.apply(console, arguments);\n",
       "\t    }\n",
       "\t},\n",
       "\t// a central way to initalize communication\n",
       "\t// for widgets.\n",
       "\tcommInitializer: function (widget) {\n",
       "\t    widget.sendUpdate = function () {};\n",
       "\t}\n",
       "    };\n",
       "\n",
       "    window.InputWidgets = InputWidgets;\n",
       "\n",
       "})(jQuery, undefined);\n",
       "</script>"
      ]
     },
     "metadata": {},
     "output_type": "display_data"
    },
    {
     "data": {
      "text/html": [
       "<script charset=\"utf-8\">(function (IPython, $, _, MathJax, Widgets) {\n",
       "    $.event.special.destroyed = {\n",
       "\tremove: function(o) {\n",
       "\t    if (o.handler) {\n",
       "\t\to.handler.apply(this, arguments)\n",
       "\t    }\n",
       "\t}\n",
       "    }\n",
       "\n",
       "    var redrawValue = function (container, type, val) {\n",
       "\tvar selector = $(\"<div/>\");\n",
       "\tvar oa = new IPython.OutputArea(_.extend(selector, {\n",
       "\t    selector: selector,\n",
       "\t    prompt_area: true,\n",
       "\t    events: IPython.events,\n",
       "\t    keyboard_manager: IPython.keyboard_manager\n",
       "\t})); // Hack to work with IPython 2.1.0\n",
       "\n",
       "\tswitch (type) {\n",
       "\tcase \"image/png\":\n",
       "            var _src = 'data:' + type + ';base64,' + val;\n",
       "\t    $(container).find(\"img\").attr('src', _src);\n",
       "\t    break;\n",
       "\tdefault:\n",
       "\t    var toinsert = IPython.OutputArea.append_map[type].apply(\n",
       "\t\toa, [val, {}, selector]\n",
       "\t    );\n",
       "\t    $(container).empty().append(toinsert.contents());\n",
       "\t    selector.remove();\n",
       "\t}\n",
       "\tif (type === \"text/latex\" && MathJax) {\n",
       "\t    MathJax.Hub.Queue([\"Typeset\", MathJax.Hub, toinsert.get(0)]);\n",
       "\t}\n",
       "    }\n",
       "\n",
       "\n",
       "    $(document).ready(function() {\n",
       "\tWidgets.debug = false; // log messages etc in console.\n",
       "\tfunction initComm(evt, data) {\n",
       "\t    var comm_manager = data.kernel.comm_manager;\n",
       "        //_.extend(comm_manager.targets, require(\"widgets/js/widget\"))\n",
       "\t    comm_manager.register_target(\"Signal\", function (comm) {\n",
       "            comm.on_msg(function (msg) {\n",
       "                //Widgets.log(\"message received\", msg);\n",
       "                var val = msg.content.data.value;\n",
       "                $(\".signal-\" + comm.comm_id).each(function() {\n",
       "                var type = $(this).data(\"type\");\n",
       "                if (val[type]) {\n",
       "                    redrawValue(this, type, val[type], type);\n",
       "                }\n",
       "                });\n",
       "                delete val;\n",
       "                delete msg.content.data.value;\n",
       "            });\n",
       "\t    });\n",
       "\n",
       "\t    // coordingate with Comm and redraw Signals\n",
       "\t    // XXX: Test using Reactive here to improve performance\n",
       "\t    $([IPython.events]).on(\n",
       "\t\t'output_appended.OutputArea', function (event, type, value, md, toinsert) {\n",
       "\t\t    if (md && md.reactive) {\n",
       "                // console.log(md.comm_id);\n",
       "                toinsert.addClass(\"signal-\" + md.comm_id);\n",
       "                toinsert.data(\"type\", type);\n",
       "                // Signal back indicating the mimetype required\n",
       "                var comm_manager = IPython.notebook.kernel.comm_manager;\n",
       "                var comm = comm_manager.comms[md.comm_id];\n",
       "                comm.then(function (c) {\n",
       "                    c.send({action: \"subscribe_mime\",\n",
       "                       mime: type});\n",
       "                    toinsert.bind(\"destroyed\", function() {\n",
       "                        c.send({action: \"unsubscribe_mime\",\n",
       "                               mime: type});\n",
       "                    });\n",
       "                })\n",
       "\t\t    }\n",
       "\t    });\n",
       "\t}\n",
       "\n",
       "\ttry {\n",
       "\t    // try to initialize right away. otherwise, wait on the status_started event.\n",
       "\t    initComm(undefined, IPython.notebook);\n",
       "\t} catch (e) {\n",
       "\t    $([IPython.events]).on('status_started.Kernel', initComm);\n",
       "\t}\n",
       "    });\n",
       "})(IPython, jQuery, _, MathJax, InputWidgets);\n",
       "</script>"
      ]
     },
     "metadata": {},
     "output_type": "display_data"
    },
    {
     "name": "stderr",
     "output_type": "stream",
     "text": [
      "INFO: Loading help data...\n"
     ]
    }
   ],
   "source": [
    "using Interact\n",
    "using PyPlot"
   ]
  },
  {
   "cell_type": "code",
   "execution_count": 14,
   "metadata": {
    "collapsed": false
   },
   "outputs": [
    {
     "data": {
      "text/html": [],
      "text/plain": [
       "Slider{Float64}([Input{Float64}] 2.0,\"k\",2.0,1.0:0.1:3.0)"
      ]
     },
     "metadata": {},
     "output_type": "display_data"
    },
    {
     "data": {
      "image/png": "[encoded data removed]",
      "text/plain": [
       "Figure(PyObject <matplotlib.figure.Figure object at 0x7f2036536550>)"
      ]
     },
     "execution_count": 14,
     "metadata": {
      "comm_id": "93a26c02-bc0c-4eaa-8be2-99997c7afc1d",
      "reactive": true
     },
     "output_type": "execute_result"
    }
   ],
   "source": [
    "c = 0.5\n",
    "g = [1,2,3]\n",
    "G = diagm([2,3,5])\n",
    "\n",
    "f = figure()\n",
    "mu = linspace(0,6,1000)\n",
    "@manipulate for k=1:0.1:3; withfig(f) do\n",
    "        PyPlot.plot(mu, [tr_secular(mu[i],c,g,k*G) for i in 1:length(mu)])\n",
    "        ylim([0,100])\n",
    "    end\n",
    "end"
   ]
  },
  {
   "cell_type": "code",
   "execution_count": 21,
   "metadata": {
    "collapsed": false
   },
   "outputs": [
    {
     "data": {
      "image/png": "[encoded data removed]",
      "text/plain": [
       "Figure(PyObject <matplotlib.figure.Figure object at 0x7f203672d250>)"
      ]
     },
     "metadata": {},
     "output_type": "display_data"
    }
   ],
   "source": [
    "PyPlot.plot(mu, [tr_secular(mu[i],c,g,G) for i in 1:length(mu)])\n",
    "ylim([0,100])\n",
    "title(\"Secular Equation with poles at 2, 3, and 5\")\n",
    "xlabel(L\"\\mu\")\n",
    "ylabel(L\"s(\\mu)\")\n",
    "savefig(\"../images/secular.pdf\")"
   ]
  }
 ],
 "metadata": {
  "kernelspec": {
   "display_name": "Julia",
   "language": "julia",
   "name": "julia"
  },
  "language_info": {
   "name": "julia",
   "version": "0.3.6"
  }
 },
 "nbformat": 4,
 "nbformat_minor": 0
}
