{
 "cells": [
  {
   "cell_type": "markdown",
   "metadata": {},
   "source": [
    "## Creating compelling temporal instanton illustrations\n",
    "\n",
    "### Problem\n",
    "**The figures I have been generating do not emphasize the need for temporal instanton analysis.** I have been plotting instanton temperature trajectories along with trajectories corresponding to other scenarios. In the figure below, you can see clearly that the line does not get anywhere near its temperature limit when there is no wind generation (green trace), but the other two scenarios are barely distinguishable. This means that even if the wind forecast is entirely accurate, the line will end up very close to its temperature limit after thirty minutes. Why perform instanton analysis when power flow analysis could just as easily indicate that a line will overheat?\n",
    "\n",
    "<img src=../images/no_difference.png width=600>\n",
    "\n",
    "### Solution\n",
    "**Scale back generation.** Even without wind generation, some lines in the network will end up very close to their thermal limits. This is because my generation dispatch data comes from a particularly strained hour (hour 7) of Jenny's 36-hour dataset. I scaled back generation to 70% and re-ran the analysis and plotting. Here's the result:\n",
    "\n",
    "<img src=../images/some_difference.png width=600>\n",
    "\n",
    "Now it is easier to justify instanton analysis: if the forecast is accurate, the line barely gets within 5 degrees of its limit. The instanton wind pattern causes the line to reach its limit of 65 C, which is significantly greater.\n",
    "\n",
    "I tweaked generation and demand scaling to obtain a better-looking figure.\n",
    "\n",
    "### One more thing\n",
    "I choose the initial temperature to feed into the differential equation. I have been choosing 46 C, which represents the steady-state temperature of the line when there is no power flow across it. This doesn't make much sense -- in reality, wouldn't the operator use dispatch and wind forecast to calculate an expected steady-state temperature rather than no-flow conditions? I fixed this by adjusting `T0` to be the steady-state temperature of the line assuming the wind forecast is accurate.\n",
    "\n",
    "To do this, I fed a vector of zeros into my power flow code (representing zero deviation from the forecast) and simulated the line temperature until it settled. I then used this steady-state value as the initial temperature in my instanton temperature simulation."
   ]
  },
  {
   "cell_type": "markdown",
   "metadata": {},
   "source": [
    "## Final versions (600 dpi, ready for poster)\n",
    "\n",
    "Temperature trajectory:\n",
    "\n",
    "<img src=../images/2015-06-24-trajectory_compare2.png width=600>\n",
    "\n",
    "Radiative heat loss rate linearization:\n",
    "\n",
    "<img src=../images/2015-06-24-rad_linear_approx.png width=500>"
   ]
  }
 ],
 "metadata": {
  "kernelspec": {
   "display_name": "Julia",
   "language": "julia",
   "name": "julia"
  },
  "language_info": {
   "name": "julia",
   "version": "0.3.7"
  }
 },
 "nbformat": 4,
 "nbformat_minor": 0
}
