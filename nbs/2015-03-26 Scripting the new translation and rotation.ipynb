{
 "cells": [
  {
   "cell_type": "markdown",
   "metadata": {},
   "source": [
    "# Scripting the new translation and rotation\n",
    "\n",
    "We have finished working through the math of the temporal instanton problem. Here we develop a script to perform the various solution steps."
   ]
  },
  {
   "cell_type": "markdown",
   "metadata": {},
   "source": [
    "## Data import\n",
    "\n",
    "First thing's first. Load the data:"
   ]
  },
  {
   "cell_type": "code",
   "execution_count": 41,
   "metadata": {
    "collapsed": true
   },
   "outputs": [
    {
     "name": "stderr",
     "output_type": "stream",
     "text": [
      "Warning: replacing module TemporalInstanton\n",
      "Warning: replacing module TrustRegionSubproblem\n",
      "Warning: using TemporalInstanton.temporalInstanton in module Main conflicts with an existing identifier.\n"
     ]
    },
    {
     "data": {
      "text/plain": [
       "(\n",
       "279x279 Array{Float64,2}:\n",
       " 1.0  0.0  0.0  0.0  0.0  0.0  0.0  0.0  …  0.0  0.0  0.0  0.0  0.0  0.0  0.0\n",
       " 0.0  1.0  0.0  0.0  0.0  0.0  0.0  0.0     0.0  0.0  0.0  0.0  0.0  0.0  0.0\n",
       " 0.0  0.0  1.0  0.0  0.0  0.0  0.0  0.0     0.0  0.0  0.0  0.0  0.0  0.0  0.0\n",
       " 0.0  0.0  0.0  1.0  0.0  0.0  0.0  0.0     0.0  0.0  0.0  0.0  0.0  0.0  0.0\n",
       " 0.0  0.0  0.0  0.0  1.0  0.0  0.0  0.0     0.0  0.0  0.0  0.0  0.0  0.0  0.0\n",
       " 0.0  0.0  0.0  0.0  0.0  1.0  0.0  0.0  …  0.0  0.0  0.0  0.0  0.0  0.0  0.0\n",
       " 0.0  0.0  0.0  0.0  0.0  0.0  1.0  0.0     0.0  0.0  0.0  0.0  0.0  0.0  0.0\n",
       " 0.0  0.0  0.0  0.0  0.0  0.0  0.0  1.0     0.0  0.0  0.0  0.0  0.0  0.0  0.0\n",
       " 0.0  0.0  0.0  0.0  0.0  0.0  0.0  0.0     0.0  0.0  0.0  0.0  0.0  0.0  0.0\n",
       " 0.0  0.0  0.0  0.0  0.0  0.0  0.0  0.0     0.0  0.0  0.0  0.0  0.0  0.0  0.0\n",
       " 0.0  0.0  0.0  0.0  0.0  0.0  0.0  0.0  …  0.0  0.0  0.0  0.0  0.0  0.0  0.0\n",
       " 0.0  0.0  0.0  0.0  0.0  0.0  0.0  0.0     0.0  0.0  0.0  0.0  0.0  0.0  0.0\n",
       " 0.0  0.0  0.0  0.0  0.0  0.0  0.0  0.0     0.0  0.0  0.0  0.0  0.0  0.0  0.0\n",
       " ⋮                        ⋮              ⋱                 ⋮                 \n",
       " 0.0  0.0  0.0  0.0  0.0  0.0  0.0  0.0     0.0  0.0  0.0  0.0  0.0  0.0  0.0\n",
       " 0.0  0.0  0.0  0.0  0.0  0.0  0.0  0.0     0.0  0.0  0.0  0.0  0.0  0.0  0.0\n",
       " 0.0  0.0  0.0  0.0  0.0  0.0  0.0  0.0     0.0  0.0  0.0  0.0  0.0  0.0  0.0\n",
       " 0.0  0.0  0.0  0.0  0.0  0.0  0.0  0.0  …  0.0  0.0  0.0  0.0  0.0  0.0  0.0\n",
       " 0.0  0.0  0.0  0.0  0.0  0.0  0.0  0.0     0.0  0.0  0.0  0.0  0.0  0.0  0.0\n",
       " 0.0  0.0  0.0  0.0  0.0  0.0  0.0  0.0     0.0  0.0  0.0  0.0  0.0  0.0  0.0\n",
       " 0.0  0.0  0.0  0.0  0.0  0.0  0.0  0.0     0.0  0.0  0.0  0.0  0.0  0.0  0.0\n",
       " 0.0  0.0  0.0  0.0  0.0  0.0  0.0  0.0     0.0  0.0  0.0  0.0  0.0  0.0  0.0\n",
       " 0.0  0.0  0.0  0.0  0.0  0.0  0.0  0.0  …  0.0  0.0  0.0  0.0  0.0  0.0  0.0\n",
       " 0.0  0.0  0.0  0.0  0.0  0.0  0.0  0.0     0.0  0.0  0.0  0.0  0.0  0.0  0.0\n",
       " 0.0  0.0  0.0  0.0  0.0  0.0  0.0  0.0     0.0  0.0  0.0  0.0  0.0  0.0  0.0\n",
       " 0.0  0.0  0.0  0.0  0.0  0.0  0.0  0.0     0.0  0.0  0.0  0.0  0.0  0.0  0.0,\n",
       "\n",
       "225x279 Array{Float64,2}:\n",
       "  0.0  0.0  0.0  0.0  0.0  0.0  0.0  …     0.0     0.0       0.0  0.0  0.0\n",
       " -1.0  0.0  0.0  0.0  0.0  0.0  0.0        0.0     0.0       0.0  0.0  0.0\n",
       "  0.0  0.0  0.0  0.0  0.0  0.0  0.0        0.0     0.0       0.0  0.0  0.0\n",
       "  0.0  0.0  0.0  0.0  0.0  0.0  0.0        0.0     0.0       0.0  0.0  0.0\n",
       "  0.0  0.0  0.0  0.0  0.0  0.0  0.0        0.0     0.0       0.0  0.0  0.0\n",
       "  0.0  0.0  0.0  0.0  0.0  0.0  0.0  …     0.0     0.0       0.0  0.0  0.0\n",
       "  0.0  0.0  0.0  0.0  0.0  0.0  0.0        0.0     0.0       0.0  0.0  0.0\n",
       "  0.0  0.0  0.0  0.0  0.0  0.0  0.0        0.0     0.0       0.0  0.0  0.0\n",
       "  0.0  0.0  0.0  0.0  0.0  0.0  0.0        0.0     0.0       0.0  0.0  0.0\n",
       "  0.0  0.0  0.0  0.0  0.0  0.0  0.0        0.0     0.0       0.0  0.0  0.0\n",
       "  0.0  0.0  0.0  0.0  0.0  0.0  0.0  …     0.0     0.0       0.0  0.0  0.0\n",
       "  0.0  0.0  0.0  0.0  0.0  0.0  0.0        0.0     0.0       0.0  0.0  0.0\n",
       "  0.0  0.0  0.0  0.0  0.0  0.0  0.0        0.0     0.0       0.0  0.0  0.0\n",
       "  ⋮                        ⋮         ⋱             ⋮                      \n",
       "  0.0  0.0  0.0  0.0  0.0  0.0  0.0        0.0    -0.030303  0.0  0.0  0.0\n",
       "  0.0  0.0  0.0  0.0  0.0  0.0  0.0        0.0     0.0       0.0  0.0  0.0\n",
       "  0.0  0.0  0.0  0.0  0.0  0.0  0.0  …     0.0     0.0       0.0  0.0  0.0\n",
       "  0.0  0.0  0.0  0.0  0.0  0.0  0.0        0.0    -0.030303  0.0  0.0  0.0\n",
       "  0.0  0.0  0.0  0.0  0.0  0.0  0.0        0.0    -0.030303  0.0  0.0  0.0\n",
       "  0.0  0.0  0.0  0.0  0.0  0.0  0.0     -111.111  -0.030303  0.0  0.0  0.0\n",
       "  0.0  0.0  0.0  0.0  0.0  0.0  0.0        0.0     0.0       0.0  0.0  0.0\n",
       "  0.0  0.0  0.0  0.0  0.0  0.0  0.0  …   121.42    0.0       0.0  0.0  0.0\n",
       "  0.0  0.0  0.0  0.0  0.0  0.0  0.0        0.0     0.0       0.0  0.0  0.0\n",
       "  0.0  0.0  0.0  0.0  0.0  0.0  0.0        0.0     0.0       1.0  0.0  0.0\n",
       "  0.0  0.0  0.0  0.0  0.0  0.0  0.0        0.0     0.0       0.0  1.0  0.0\n",
       "  0.0  0.0  0.0  0.0  0.0  0.0  0.0        0.0     0.0       0.0  0.0  1.0,\n",
       "\n",
       "FloatingPoint[1.01328700708,1.128710701044985,-1.17165575142,-0.4835404688399999,-0.4649427585,-0.89269009632,0.7817007450400002,-0.3158626203999999,-1.1344603307399999,-1.26464430312  …  -0.8368969652999999,4.0,3.0,6.6,0.0,0.0,0.0,0.0,0.0,0.0],\n",
       "279x279 Array{Float64,2}:\n",
       " 0.0  0.0  0.0  0.0  0.0  0.0  0.0  0.0  …  0.0  0.0  0.0  0.0  0.0  0.0  0.0\n",
       " 0.0  0.0  0.0  0.0  0.0  0.0  0.0  0.0     0.0  0.0  0.0  0.0  0.0  0.0  0.0\n",
       " 0.0  0.0  0.0  0.0  0.0  0.0  0.0  0.0     0.0  0.0  0.0  0.0  0.0  0.0  0.0\n",
       " 0.0  0.0  0.0  0.0  0.0  0.0  0.0  0.0     0.0  0.0  0.0  0.0  0.0  0.0  0.0\n",
       " 0.0  0.0  0.0  0.0  0.0  0.0  0.0  0.0     0.0  0.0  0.0  0.0  0.0  0.0  0.0\n",
       " 0.0  0.0  0.0  0.0  0.0  0.0  0.0  0.0  …  0.0  0.0  0.0  0.0  0.0  0.0  0.0\n",
       " 0.0  0.0  0.0  0.0  0.0  0.0  0.0  0.0     0.0  0.0  0.0  0.0  0.0  0.0  0.0\n",
       " 0.0  0.0  0.0  0.0  0.0  0.0  0.0  0.0     0.0  0.0  0.0  0.0  0.0  0.0  0.0\n",
       " 0.0  0.0  0.0  0.0  0.0  0.0  0.0  0.0     0.0  0.0  0.0  0.0  0.0  0.0  0.0\n",
       " 0.0  0.0  0.0  0.0  0.0  0.0  0.0  0.0     0.0  0.0  0.0  0.0  0.0  0.0  0.0\n",
       " 0.0  0.0  0.0  0.0  0.0  0.0  0.0  0.0  …  0.0  0.0  0.0  0.0  0.0  0.0  0.0\n",
       " 0.0  0.0  0.0  0.0  0.0  0.0  0.0  0.0     0.0  0.0  0.0  0.0  0.0  0.0  0.0\n",
       " 0.0  0.0  0.0  0.0  0.0  0.0  0.0  0.0     0.0  0.0  0.0  0.0  0.0  0.0  0.0\n",
       " ⋮                        ⋮              ⋱                 ⋮                 \n",
       " 0.0  0.0  0.0  0.0  0.0  0.0  0.0  0.0     0.0  0.0  0.0  0.0  0.0  0.0  0.0\n",
       " 0.0  0.0  0.0  0.0  0.0  0.0  0.0  0.0     0.0  0.0  0.0  0.0  0.0  0.0  0.0\n",
       " 0.0  0.0  0.0  0.0  0.0  0.0  0.0  0.0     0.0  0.0  0.0  0.0  0.0  0.0  0.0\n",
       " 0.0  0.0  0.0  0.0  0.0  0.0  0.0  0.0  …  0.0  0.0  0.0  0.0  0.0  0.0  0.0\n",
       " 0.0  0.0  0.0  0.0  0.0  0.0  0.0  0.0     0.0  0.0  0.0  0.0  0.0  0.0  0.0\n",
       " 0.0  0.0  0.0  0.0  0.0  0.0  0.0  0.0     0.0  0.0  0.0  0.0  0.0  0.0  0.0\n",
       " 0.0  0.0  0.0  0.0  0.0  0.0  0.0  0.0     0.0  0.0  0.0  0.0  0.0  0.0  0.0\n",
       " 0.0  0.0  0.0  0.0  0.0  0.0  0.0  0.0     0.0  0.0  0.0  0.0  0.0  0.0  0.0\n",
       " 0.0  0.0  0.0  0.0  0.0  0.0  0.0  0.0  …  0.0  0.0  0.0  0.0  0.0  0.0  0.0\n",
       " 0.0  0.0  0.0  0.0  0.0  0.0  0.0  0.0     0.0  0.0  0.0  0.0  1.0  0.0  0.0\n",
       " 0.0  0.0  0.0  0.0  0.0  0.0  0.0  0.0     0.0  0.0  0.0  0.0  0.0  1.0  0.0\n",
       " 0.0  0.0  0.0  0.0  0.0  0.0  0.0  0.0     0.0  0.0  0.0  0.0  0.0  0.0  1.0)"
      ]
     },
     "execution_count": 41,
     "metadata": {},
     "output_type": "execute_result"
    }
   ],
   "source": [
    "####### IMPORTS: DATA ACQUISITION ########\n",
    "include(\"../src/tmp_inst_rts96.jl\")\n",
    "\n",
    "psData = psDataLoad()\n",
    "\n",
    "# unpack psDL (boilerplate):\n",
    "(Sb,f,t,r,x,b,Y,bustype,\n",
    "Gp,Gq,Dp,Dq,Rp,Rq,\n",
    "Pmax,Pmin,Qmax,Qmin,Plim,\n",
    "Vg,Vceiling,Vfloor,\n",
    "busIdx,N,Nr,Ng,k) = unpack_psDL(psData)\n",
    "\n",
    "####### IMPORTS: INSTANTON CODE ########\n",
    "# Get instanton code into workspace:\n",
    "include(\"../src/TemporalInstanton.jl\")\n",
    "include(\"../src/TrustRegionSubproblem.jl\")\n",
    "\n",
    "using TemporalInstanton\n",
    "\n",
    "####### DATA LINKING ########\n",
    "# Static\n",
    "Ridx = find(Rp) # Vector of renewable nodes\n",
    "Y = full(Y) # Full admittance matrix (ref not removed)\n",
    "ref = 1 # Index of ref node\n",
    "k = k # Conventional generator participation factors\n",
    "tau = 1. # Heating constant\n",
    "G0 = [Gp,Gp,Gp]\n",
    "D0 = [Dp,Dp,Dp]\n",
    "P0 = [0.5.*Rp,Rp,1.5.*Rp]\n",
    "kQobj = 0 # Should always be zero; objective has no constant term\n",
    "c = 0.1 # RHS of line temperature constraint\n",
    "kQtheta = -c # Move to LHS so we have Q(z) = 0\n",
    "\n",
    "T = int(length(G0)/size(Y,1))\n",
    "\n",
    "# Changing:\n",
    "lines = [(f[i],t[i]) for i in 1:length(f)];\n",
    "\n",
    "# For a single line:\n",
    "line = lines[91]\n",
    "\n",
    "# Create instance of instanton problem\n",
    "Qobj,A,b,Qtheta = temporalInstanton(Ridx,Y,ref,k,tau,line,G0,P0,D0)"
   ]
  },
  {
   "cell_type": "code",
   "execution_count": 42,
   "metadata": {
    "collapsed": true
   },
   "outputs": [
    {
     "data": {
      "text/plain": [
       "(\n",
       "279x279 Array{Float64,2}:\n",
       " 0.0  0.0  0.0  0.0  0.0  0.0  0.0  0.0  …  0.0  0.0  0.0  0.0  0.0  0.0  0.0\n",
       " 0.0  0.0  0.0  0.0  0.0  0.0  0.0  0.0     0.0  0.0  0.0  0.0  0.0  0.0  0.0\n",
       " 0.0  0.0  0.0  0.0  0.0  0.0  0.0  0.0     0.0  0.0  0.0  0.0  0.0  0.0  0.0\n",
       " 0.0  0.0  0.0  0.0  0.0  0.0  0.0  0.0     0.0  0.0  0.0  0.0  0.0  0.0  0.0\n",
       " 0.0  0.0  0.0  0.0  0.0  0.0  0.0  0.0     0.0  0.0  0.0  0.0  0.0  0.0  0.0\n",
       " 0.0  0.0  0.0  0.0  0.0  0.0  0.0  0.0  …  0.0  0.0  0.0  0.0  0.0  0.0  0.0\n",
       " 0.0  0.0  0.0  0.0  0.0  0.0  0.0  0.0     0.0  0.0  0.0  0.0  0.0  0.0  0.0\n",
       " 0.0  0.0  0.0  0.0  0.0  0.0  0.0  0.0     0.0  0.0  0.0  0.0  0.0  0.0  0.0\n",
       " 0.0  0.0  0.0  0.0  0.0  0.0  0.0  0.0     0.0  0.0  0.0  0.0  0.0  0.0  0.0\n",
       " 0.0  0.0  0.0  0.0  0.0  0.0  0.0  0.0     0.0  0.0  0.0  0.0  0.0  0.0  0.0\n",
       " 0.0  0.0  0.0  0.0  0.0  0.0  0.0  0.0  …  0.0  0.0  0.0  0.0  0.0  0.0  0.0\n",
       " 0.0  0.0  0.0  0.0  0.0  0.0  0.0  0.0     0.0  0.0  0.0  0.0  0.0  0.0  0.0\n",
       " 0.0  0.0  0.0  0.0  0.0  0.0  0.0  0.0     0.0  0.0  0.0  0.0  0.0  0.0  0.0\n",
       " ⋮                        ⋮              ⋱                 ⋮                 \n",
       " 0.0  0.0  0.0  0.0  0.0  0.0  0.0  0.0     0.0  0.0  0.0  0.0  0.0  0.0  0.0\n",
       " 0.0  0.0  0.0  0.0  0.0  0.0  0.0  0.0     0.0  0.0  0.0  0.0  0.0  0.0  0.0\n",
       " 0.0  0.0  0.0  0.0  0.0  0.0  0.0  0.0     0.0  0.0  0.0  0.0  0.0  0.0  0.0\n",
       " 0.0  0.0  0.0  0.0  0.0  0.0  0.0  0.0  …  0.0  0.0  0.0  0.0  0.0  0.0  0.0\n",
       " 0.0  0.0  0.0  0.0  0.0  0.0  0.0  0.0     0.0  0.0  0.0  0.0  0.0  0.0  0.0\n",
       " 0.0  0.0  0.0  0.0  0.0  0.0  0.0  0.0     0.0  0.0  0.0  0.0  0.0  0.0  0.0\n",
       " 0.0  0.0  0.0  0.0  0.0  0.0  0.0  0.0     0.0  0.0  0.0  0.0  0.0  0.0  0.0\n",
       " 0.0  0.0  0.0  0.0  0.0  0.0  0.0  0.0     0.0  0.0  0.0  0.0  0.0  0.0  0.0\n",
       " 0.0  0.0  0.0  0.0  0.0  0.0  0.0  0.0  …  0.0  0.0  0.0  0.0  0.0  0.0  0.0\n",
       " 0.0  0.0  0.0  0.0  0.0  0.0  0.0  0.0     0.0  0.0  0.0  0.0  1.0  0.0  0.0\n",
       " 0.0  0.0  0.0  0.0  0.0  0.0  0.0  0.0     0.0  0.0  0.0  0.0  0.0  1.0  0.0\n",
       " 0.0  0.0  0.0  0.0  0.0  0.0  0.0  0.0     0.0  0.0  0.0  0.0  0.0  0.0  1.0,\n",
       "\n",
       "0,-0.1)"
      ]
     },
     "execution_count": 42,
     "metadata": {},
     "output_type": "execute_result"
    }
   ],
   "source": [
    "# Build obj and constraint quadratics:\n",
    "G_of_x = (Qobj,0,kQobj)\n",
    "Q_of_x = (Qtheta,0,kQtheta)"
   ]
  },
  {
   "cell_type": "markdown",
   "metadata": {},
   "source": [
    "## Translation\n",
    "\n",
    "The following two methods partition the $A$ matrix, find the appropriate translation point $x^*$, and translate a general quadratic:"
   ]
  },
  {
   "cell_type": "code",
   "execution_count": 25,
   "metadata": {
    "collapsed": false
   },
   "outputs": [
    {
     "data": {
      "text/plain": [
       "translate_quadratic (generic function with 1 method)"
      ]
     },
     "execution_count": 25,
     "metadata": {},
     "output_type": "execute_result"
    }
   ],
   "source": [
    "function partition_A(A,Qobj,T)\n",
    "    \"\"\" Return A1, A2, A3 where\n",
    "    A1 corresponds to wind\n",
    "    A2 corresponds to angles + mismatch\n",
    "    A3 corresponds to angle difference vars\n",
    "    \"\"\"\n",
    "    m,n = size(A)\n",
    "    idx1 = find(diag(Qobj))\n",
    "    idx2 = setdiff(1:n-T,idx1)\n",
    "    idx3 = n-T+1:n\n",
    "    idx = [idx1,idx2,idx3]\n",
    "    \n",
    "    A1 = A[:,idx1]\n",
    "    A2 = A[:,idx2]\n",
    "    A3 = A[:,idx3]\n",
    "    return A1,A2,A3,idx1,idx2,idx3\n",
    "end\n",
    "\n",
    "function find_x_star(Qobj,A,b,T)\n",
    "    A1,A2,A3,idx1,idx2,idx3 = partition_A(A,Qobj,T)\n",
    "    x_star = zeros(size(A,2))\n",
    "    x_star[[idx1,idx2]] = [A1 A2]\\b\n",
    "    return x_star\n",
    "end\n",
    "\n",
    "function translate_quadratic(G_of_x,x_star)\n",
    "    \"\"\" This function performs the change of variables from x to z,\n",
    "    where z = x - x_star. (For translating a quadratic problem.)\n",
    "    Returns triple H_of_x consisting of matrix H, vector h, constant kh.\n",
    "\n",
    "    Arguments\n",
    "    G_of_x consists of matrix G, vector g, constant kg.\n",
    "    x_star is translation.\n",
    "\n",
    "    Assume x_star is min-norm solution of Ax=b.\n",
    "    \"\"\"\n",
    "    G,g,kg = G_of_x\n",
    "    if g == 0\n",
    "        g = zeros(size(G,1),1)\n",
    "    end\n",
    "    H = G\n",
    "    h = g + 2*G*x_star\n",
    "    kh = kg + x_star'*G*x_star + g'*x_star\n",
    "    return (H,h,kh[1])\n",
    "end"
   ]
  },
  {
   "cell_type": "markdown",
   "metadata": {},
   "source": [
    "Use the above methods to translate the problem:"
   ]
  },
  {
   "cell_type": "code",
   "execution_count": 43,
   "metadata": {
    "collapsed": true
   },
   "outputs": [
    {
     "data": {
      "text/plain": [
       "(\n",
       "279x279 Array{Float64,2}:\n",
       " 0.0  0.0  0.0  0.0  0.0  0.0  0.0  0.0  …  0.0  0.0  0.0  0.0  0.0  0.0  0.0\n",
       " 0.0  0.0  0.0  0.0  0.0  0.0  0.0  0.0     0.0  0.0  0.0  0.0  0.0  0.0  0.0\n",
       " 0.0  0.0  0.0  0.0  0.0  0.0  0.0  0.0     0.0  0.0  0.0  0.0  0.0  0.0  0.0\n",
       " 0.0  0.0  0.0  0.0  0.0  0.0  0.0  0.0     0.0  0.0  0.0  0.0  0.0  0.0  0.0\n",
       " 0.0  0.0  0.0  0.0  0.0  0.0  0.0  0.0     0.0  0.0  0.0  0.0  0.0  0.0  0.0\n",
       " 0.0  0.0  0.0  0.0  0.0  0.0  0.0  0.0  …  0.0  0.0  0.0  0.0  0.0  0.0  0.0\n",
       " 0.0  0.0  0.0  0.0  0.0  0.0  0.0  0.0     0.0  0.0  0.0  0.0  0.0  0.0  0.0\n",
       " 0.0  0.0  0.0  0.0  0.0  0.0  0.0  0.0     0.0  0.0  0.0  0.0  0.0  0.0  0.0\n",
       " 0.0  0.0  0.0  0.0  0.0  0.0  0.0  0.0     0.0  0.0  0.0  0.0  0.0  0.0  0.0\n",
       " 0.0  0.0  0.0  0.0  0.0  0.0  0.0  0.0     0.0  0.0  0.0  0.0  0.0  0.0  0.0\n",
       " 0.0  0.0  0.0  0.0  0.0  0.0  0.0  0.0  …  0.0  0.0  0.0  0.0  0.0  0.0  0.0\n",
       " 0.0  0.0  0.0  0.0  0.0  0.0  0.0  0.0     0.0  0.0  0.0  0.0  0.0  0.0  0.0\n",
       " 0.0  0.0  0.0  0.0  0.0  0.0  0.0  0.0     0.0  0.0  0.0  0.0  0.0  0.0  0.0\n",
       " ⋮                        ⋮              ⋱                 ⋮                 \n",
       " 0.0  0.0  0.0  0.0  0.0  0.0  0.0  0.0     0.0  0.0  0.0  0.0  0.0  0.0  0.0\n",
       " 0.0  0.0  0.0  0.0  0.0  0.0  0.0  0.0     0.0  0.0  0.0  0.0  0.0  0.0  0.0\n",
       " 0.0  0.0  0.0  0.0  0.0  0.0  0.0  0.0     0.0  0.0  0.0  0.0  0.0  0.0  0.0\n",
       " 0.0  0.0  0.0  0.0  0.0  0.0  0.0  0.0  …  0.0  0.0  0.0  0.0  0.0  0.0  0.0\n",
       " 0.0  0.0  0.0  0.0  0.0  0.0  0.0  0.0     0.0  0.0  0.0  0.0  0.0  0.0  0.0\n",
       " 0.0  0.0  0.0  0.0  0.0  0.0  0.0  0.0     0.0  0.0  0.0  0.0  0.0  0.0  0.0\n",
       " 0.0  0.0  0.0  0.0  0.0  0.0  0.0  0.0     0.0  0.0  0.0  0.0  0.0  0.0  0.0\n",
       " 0.0  0.0  0.0  0.0  0.0  0.0  0.0  0.0     0.0  0.0  0.0  0.0  0.0  0.0  0.0\n",
       " 0.0  0.0  0.0  0.0  0.0  0.0  0.0  0.0  …  0.0  0.0  0.0  0.0  0.0  0.0  0.0\n",
       " 0.0  0.0  0.0  0.0  0.0  0.0  0.0  0.0     0.0  0.0  0.0  0.0  1.0  0.0  0.0\n",
       " 0.0  0.0  0.0  0.0  0.0  0.0  0.0  0.0     0.0  0.0  0.0  0.0  0.0  1.0  0.0\n",
       " 0.0  0.0  0.0  0.0  0.0  0.0  0.0  0.0     0.0  0.0  0.0  0.0  0.0  0.0  1.0,\n",
       "\n",
       "279x1 Array{Float64,2}:\n",
       " 0.0\n",
       " 0.0\n",
       " 0.0\n",
       " 0.0\n",
       " 0.0\n",
       " 0.0\n",
       " 0.0\n",
       " 0.0\n",
       " 0.0\n",
       " 0.0\n",
       " 0.0\n",
       " 0.0\n",
       " 0.0\n",
       " ⋮  \n",
       " 0.0\n",
       " 0.0\n",
       " 0.0\n",
       " 0.0\n",
       " 0.0\n",
       " 0.0\n",
       " 0.0\n",
       " 0.0\n",
       " 0.0\n",
       " 0.0\n",
       " 0.0\n",
       " 0.0,\n",
       "\n",
       "-0.1)"
      ]
     },
     "execution_count": 43,
     "metadata": {},
     "output_type": "execute_result"
    }
   ],
   "source": [
    "# Partition A:\n",
    "A1,A2,A3,idx1,idx2,idx3 = partition_A(A,Qobj,T)\n",
    "\n",
    "# Find translation point:\n",
    "x_star = find_x_star(Qobj,A,b,T)\n",
    "\n",
    "# Translate quadratics:\n",
    "G_of_y = translate_quadratic(G_of_x,x_star)\n",
    "Q_of_y = translate_quadratic(Q_of_x,x_star)"
   ]
  },
  {
   "cell_type": "markdown",
   "metadata": {},
   "source": [
    "Quick inspection shows that $G(y)$ has a linear term, but $Q(y)$ does not, as expected."
   ]
  },
  {
   "cell_type": "markdown",
   "metadata": {},
   "source": [
    "## Kernel mapping\n",
    "\n",
    "Here we \"rotate\" by $N^\\top$, where $N$ consists of $k$ columns spanning $\\mathcal{N}(A)$."
   ]
  },
  {
   "cell_type": "markdown",
   "metadata": {},
   "source": [
    "The following method rotates a quadratic:"
   ]
  },
  {
   "cell_type": "code",
   "execution_count": 1,
   "metadata": {
    "collapsed": false
   },
   "outputs": [
    {
     "data": {
      "text/plain": [
       "rotate_quadratic (generic function with 1 method)"
      ]
     },
     "execution_count": 1,
     "metadata": {},
     "output_type": "execute_result"
    }
   ],
   "source": [
    "function rotate_quadratic(G_of_x,R)\n",
    "    \"\"\" Rotate quadratic G_of_x by\n",
    "    rotation matrix R.\n",
    "    \"\"\"\n",
    "    G,g,kg = G_of_x\n",
    "    return (R*G*R',R*g,kg)\n",
    "end"
   ]
  },
  {
   "cell_type": "markdown",
   "metadata": {},
   "source": [
    "This method finds $N$:"
   ]
  },
  {
   "cell_type": "code",
   "execution_count": 28,
   "metadata": {
    "collapsed": false
   },
   "outputs": [
    {
     "data": {
      "text/plain": [
       "kernel_rotation (generic function with 1 method)"
      ]
     },
     "execution_count": 28,
     "metadata": {},
     "output_type": "execute_result"
    }
   ],
   "source": [
    "function kernel_rotation(A)\n",
    "    \"\"\" Find an orthonormal basis for the \n",
    "    nullspace of A. This matrix may be used\n",
    "    to rotate a temporal instanton problem\n",
    "    instance.\n",
    "    \"\"\"\n",
    "    m,n = size(A)\n",
    "    dim_N = n - rank(A)\n",
    "    # if A has full row rank:\n",
    "    # dim_N = n - m\n",
    "    q = qr(A'; thin=false)[1]\n",
    "    R = circshift(q,(0,dim_N))\n",
    "    return R\n",
    "end"
   ]
  },
  {
   "cell_type": "markdown",
   "metadata": {},
   "source": [
    "Here we find and partition $N$, then rotate our objective and constraint quadratics by it:"
   ]
  },
  {
   "cell_type": "code",
   "execution_count": 44,
   "metadata": {
    "collapsed": true
   },
   "outputs": [
    {
     "data": {
      "text/plain": [
       "(\n",
       "54x54 Array{Float64,2}:\n",
       "  9.4503e-6   -8.05738e-6   3.04128e-6  …   7.58024e-6   7.68066e-6\n",
       " -8.05738e-6   7.27236e-6  -1.17451e-6     -6.49857e-6  -2.62787e-6\n",
       "  3.04128e-6  -1.17451e-6   6.0058e-6       2.32144e-6   1.6478e-5 \n",
       "  6.1788e-6   -3.90417e-6   6.82496e-6      4.84339e-6   1.85082e-5\n",
       " -5.127e-6     3.30969e-6  -5.43717e-6     -4.03052e-6  -1.48136e-5\n",
       " -7.16462e-7   7.22838e-7   1.53114e-7  …  -5.87381e-7   4.36568e-7\n",
       " -3.27492e-6   3.35291e-6   9.25115e-7     -2.67558e-6   2.82166e-6\n",
       " -7.28815e-6   8.72548e-6   6.57531e-6     -6.04977e-6   1.90076e-5\n",
       " -3.08852e-6   2.21551e-6  -2.48873e-6     -2.44624e-6  -6.72902e-6\n",
       "  5.68137e-6  -7.61042e-6  -8.02096e-6      4.77567e-6  -2.29969e-5\n",
       " -9.53142e-7   8.46407e-7  -2.01348e-7  …  -7.70992e-7  -5.35237e-7\n",
       "  1.75111e-5  -1.94782e-5  -1.05405e-5      1.44095e-5  -3.10559e-5\n",
       " -1.31504e-5   1.43719e-5   6.97572e-6     -1.08086e-5   2.05748e-5\n",
       "  ⋮                                     ⋱                          \n",
       " -1.27011e-5   1.13425e-5  -2.15141e-6     -1.02006e-5  -4.48459e-6\n",
       " -5.35491e-6   5.16671e-6   4.5249e-7      -4.33356e-6   1.88372e-6\n",
       " -3.50965e-6   2.62693e-6  -2.40847e-6     -2.78063e-6  -6.35483e-6\n",
       "  1.61816e-6  -1.66724e-6  -4.73928e-7  …   1.32818e-6  -1.36278e-6\n",
       " -4.93444e-7  -1.80966e-6  -8.06775e-6     -2.11442e-7  -2.24546e-5\n",
       "  1.0959e-5   -9.03858e-6   4.63812e-6      8.7727e-6    1.21172e-5\n",
       "  3.73034e-6  -1.67463e-6   6.6634e-6       2.89929e-6   1.87333e-5\n",
       " -3.80659e-6   3.24447e-6  -1.15975e-6     -3.03552e-6  -2.64899e-6\n",
       "  3.29433e-6  -3.43911e-6  -3.55726e-7  …   2.90494e-6   1.84992e-6\n",
       " -7.06619e-6   6.75189e-6   3.00959e-7     -5.72897e-6   1.42295e-6\n",
       "  7.58024e-6  -6.49857e-6   2.32144e-6      6.0853e-6    5.86323e-6\n",
       "  7.68066e-6  -2.62787e-6   1.6478e-5       5.86323e-6   4.56912e-5,\n",
       "\n",
       "54x1 Array{Float64,2}:\n",
       " 0.0\n",
       " 0.0\n",
       " 0.0\n",
       " 0.0\n",
       " 0.0\n",
       " 0.0\n",
       " 0.0\n",
       " 0.0\n",
       " 0.0\n",
       " 0.0\n",
       " 0.0\n",
       " 0.0\n",
       " 0.0\n",
       " ⋮  \n",
       " 0.0\n",
       " 0.0\n",
       " 0.0\n",
       " 0.0\n",
       " 0.0\n",
       " 0.0\n",
       " 0.0\n",
       " 0.0\n",
       " 0.0\n",
       " 0.0\n",
       " 0.0\n",
       " 0.0,\n",
       "\n",
       "-0.1)"
      ]
     },
     "execution_count": 44,
     "metadata": {},
     "output_type": "execute_result"
    }
   ],
   "source": [
    "N = kernel_rotation(A)[:,1:size(A,2) - rank(A)] # take only first k cols\n",
    "\n",
    "N1,N2,N3 = N[idx1,:],N[idx2,:],N[idx3,:] # partition N\n",
    "\n",
    "G_of_z = rotate_quadratic(G_of_y,N')\n",
    "Q_of_z = rotate_quadratic(Q_of_y,N')"
   ]
  },
  {
   "cell_type": "markdown",
   "metadata": {},
   "source": [
    "Now things are a bit messy. Neither the objective nor the constraint quadratics are diagonal."
   ]
  },
  {
   "cell_type": "markdown",
   "metadata": {},
   "source": [
    "## Constraint Eigendecomposition and rotation\n",
    "\n",
    "Here we change variables from $z$ to $w$ to render the constraint a norm constraint. This is done by letting $w=KU^\\top z$ where `D,U = eig(Q_of_z[1])`. Thus, we can use the previously defined rotation method with $R=(UK^{-1})^\\top$."
   ]
  },
  {
   "cell_type": "markdown",
   "metadata": {},
   "source": [
    "The following method computes $K$:"
   ]
  },
  {
   "cell_type": "code",
   "execution_count": 30,
   "metadata": {
    "collapsed": false
   },
   "outputs": [
    {
     "data": {
      "text/plain": [
       "return_K (generic function with 1 method)"
      ]
     },
     "execution_count": 30,
     "metadata": {},
     "output_type": "execute_result"
    }
   ],
   "source": [
    "function return_K(D)\n",
    "    K = ones(length(D))\n",
    "    K[find(D)] = sqrt(D[find(D)])\n",
    "    K = diagm(K)\n",
    "    return K\n",
    "end"
   ]
  },
  {
   "cell_type": "markdown",
   "metadata": {},
   "source": [
    "This script finds $U$, stores $K$, and uses them rotate the problem:"
   ]
  },
  {
   "cell_type": "code",
   "execution_count": 45,
   "metadata": {
    "collapsed": true
   },
   "outputs": [
    {
     "data": {
      "text/plain": [
       "(\n",
       "54x54 Array{Float64,2}:\n",
       "  1.26138e-20  -1.83897e-21   2.04343e-21  …   1.26922e-19  -6.17293e-18\n",
       " -1.29275e-21   9.37966e-22  -1.46006e-21     -1.63592e-19   4.19851e-19\n",
       " -1.40066e-21   5.08943e-22  -1.52483e-21      9.92088e-19   1.05405e-18\n",
       "  1.57985e-21  -1.2485e-21    1.37268e-22      2.93455e-18  -1.86723e-18\n",
       " -1.43033e-21  -6.923e-22    -1.21576e-21      1.966e-18     5.26543e-19\n",
       "  1.63207e-22  -4.10289e-22  -1.83936e-21  …  -3.45792e-18   2.09203e-18\n",
       " -4.92787e-22   1.05962e-22  -1.46819e-22     -3.20049e-18   1.41018e-18\n",
       "  5.20619e-23   3.00072e-22   1.33884e-21     -7.16633e-19  -2.79242e-18\n",
       "  3.79967e-21  -7.57718e-22  -1.58163e-22      6.97483e-20  -6.69533e-19\n",
       " -2.51897e-21  -2.90384e-23  -9.09393e-22      2.36193e-18  -1.32143e-18\n",
       " -2.11555e-21   2.11994e-21  -3.42429e-21  …   1.63037e-18  -6.59196e-19\n",
       "  5.42277e-23   1.69595e-22   2.14434e-21      5.4907e-19    4.19458e-18\n",
       " -4.3172e-21   -1.52319e-22   4.03709e-22     -2.15679e-19  -1.32872e-20\n",
       "  ⋮                                        ⋱                            \n",
       " -1.85499e-21   1.09293e-21  -3.016e-22        1.32184e-18   7.56535e-19\n",
       " -1.28651e-21   1.06285e-21  -5.39657e-22     -9.55617e-19   2.74633e-19\n",
       "  2.71369e-21   8.80398e-22  -7.16223e-22     -1.69805e-18   1.50753e-18\n",
       " -3.13363e-22   1.68001e-23  -4.33022e-22  …  -2.698e-19     2.72682e-19\n",
       " -2.3315e-22    1.11579e-21   1.27301e-21     -9.86352e-19   2.2877e-19 \n",
       "  1.22123e-22  -1.24965e-21  -2.27904e-22      5.48812e-19  -1.56873e-18\n",
       " -3.25124e-21   8.7071e-22    1.35352e-22     -2.7461e-18    1.20789e-18\n",
       " -5.39338e-22   1.28281e-24  -6.60857e-22      4.1587e-19    1.64685e-18\n",
       "  3.05335e-21  -3.05179e-21   7.23855e-23  …   2.06841e-19  -1.9621e-18 \n",
       " -3.49807e-18  -6.2394e-19    1.62926e-19      1.7279e-16   -2.3049e-17 \n",
       " -5.14231e-20   2.53786e-20   6.57756e-19      1.0           5.90678e-17\n",
       " -5.69875e-18   3.102e-19     9.85269e-19      2.87763e-17   1.0        ,\n",
       "\n",
       "54x1 Array{Float64,2}:\n",
       " 0.0\n",
       " 0.0\n",
       " 0.0\n",
       " 0.0\n",
       " 0.0\n",
       " 0.0\n",
       " 0.0\n",
       " 0.0\n",
       " 0.0\n",
       " 0.0\n",
       " 0.0\n",
       " 0.0\n",
       " 0.0\n",
       " ⋮  \n",
       " 0.0\n",
       " 0.0\n",
       " 0.0\n",
       " 0.0\n",
       " 0.0\n",
       " 0.0\n",
       " 0.0\n",
       " 0.0\n",
       " 0.0\n",
       " 0.0\n",
       " 0.0\n",
       " 0.0,\n",
       "\n",
       "-0.1)"
      ]
     },
     "execution_count": 45,
     "metadata": {},
     "output_type": "execute_result"
    }
   ],
   "source": [
    "D,U = eig(Q_of_z[1])\n",
    "D = round(D,10)\n",
    "\n",
    "K = return_K(D)\n",
    "\n",
    "G_of_w = rotate_quadratic(G_of_z,(U/K)')\n",
    "Q_of_w = rotate_quadratic(Q_of_z,(U/K)')"
   ]
  },
  {
   "cell_type": "markdown",
   "metadata": {},
   "source": [
    "The objective is still a mess, but now `Q_of_w[1]` is all zeros with $T$ ones at the end of its diagonal, as desired."
   ]
  },
  {
   "cell_type": "markdown",
   "metadata": {},
   "source": [
    "## Eliminating $w_1$\n",
    "\n",
    "We are only interested in $w_2$ -- $w_1$ doesn't enter into the constraint, so we will eliminate it using the KKT conditions."
   ]
  },
  {
   "cell_type": "markdown",
   "metadata": {},
   "source": [
    "This means we want to \n",
    "\n",
    "* partition $B=$ `G_of_w[1]` into $B_{11}$, $B_{12}$, and $B_{22}$\n",
    "\n",
    "* partition $b$ into $b_1$ and $b_2$\n",
    "\n",
    "* solve for $\\hat{B}$ and $\\hat{b}$."
   ]
  },
  {
   "cell_type": "markdown",
   "metadata": {},
   "source": [
    "The following methods find and partition $B$ and $b$, and solve for $\\hat{B}$ and $\\hat{b}$:"
   ]
  },
  {
   "cell_type": "code",
   "execution_count": 32,
   "metadata": {
    "collapsed": false
   },
   "outputs": [
    {
     "data": {
      "text/plain": [
       "return_Bhat (generic function with 1 method)"
      ]
     },
     "execution_count": 32,
     "metadata": {},
     "output_type": "execute_result"
    }
   ],
   "source": [
    "function partition_B(G_of_w,Q_of_w)\n",
    "    B,b = G_of_w[1],G_of_w[2]\n",
    "    Q = round(Q_of_w[1])\n",
    "    i2 = find(diag(Q))\n",
    "    i1 = setdiff(1:size(Q,1),i2)\n",
    "    B11,B12,B21,B22 = B[i1,i1],B[i1,i2],B[i2,i1],B[i2,i2]\n",
    "    b1 = b[i1]\n",
    "    b2 = b[i2]\n",
    "    return B11,B12,B21,B22,b1,b2\n",
    "end\n",
    "\n",
    "function return_Bhat(B11,B12,B22,b2)\n",
    "    Bhat = B22 - (B12'/B11)*B12\n",
    "    bhat = b2 - (B12'/B11)*b1\n",
    "    return round(Bhat,10),bhat\n",
    "end"
   ]
  },
  {
   "cell_type": "markdown",
   "metadata": {},
   "source": [
    "This script uses the above methods to return $\\hat{B}$ and $\\hat{b}$ for the RTS-96:"
   ]
  },
  {
   "cell_type": "code",
   "execution_count": 46,
   "metadata": {
    "collapsed": true
   },
   "outputs": [
    {
     "data": {
      "text/plain": [
       "(\n",
       "3x3 Array{Float64,2}:\n",
       " 1346.62    -0.0      0.0 \n",
       "   -0.0   1346.62    -0.0 \n",
       "    0.0     -0.0   1346.62,\n",
       "\n",
       "[687.449,-267.505,243.392])"
      ]
     },
     "execution_count": 46,
     "metadata": {},
     "output_type": "execute_result"
    }
   ],
   "source": [
    "B11,B12,B21,B22,b1,b2 = partition_B(G_of_w,Q_of_w)\n",
    "\n",
    "Bhat,bhat = return_Bhat(B11,B12,B22,b2)"
   ]
  },
  {
   "cell_type": "markdown",
   "metadata": {},
   "source": [
    "Note that $\\hat{B}$ is diagonal."
   ]
  },
  {
   "cell_type": "markdown",
   "metadata": {},
   "source": [
    "___\n",
    "Skipping objective diagonalization because $\\hat{B}$ is already diagonal...\n",
    "___"
   ]
  },
  {
   "cell_type": "markdown",
   "metadata": {},
   "source": [
    "## Solution via first-order optimality conditions\n",
    "\n",
    "We now have\n",
    "\n",
    "\\begin{align*}\n",
    "&& \\min~ w_2^\\top \\hat{B}w_2 + w_2^\\top \\hat{b} \\\\\n",
    "s.t. && w_2^\\top w_2 &= c\n",
    "\\end{align*}\n",
    "\n",
    "Where $\\hat{B}$ is diagonal. When we write the first-order optimality conditions, we obtain a relationship for $\\hat{w}_2$ in terms of $v$:\n",
    "\n",
    "\\begin{align}\n",
    "\\hat{w}_{2,i} &= \\frac{1}{2}\\left(\\frac{\\hat{b}_i}{v - \\hat{B}_{i,i}}\\right)\n",
    "\\end{align}"
   ]
  },
  {
   "cell_type": "markdown",
   "metadata": {},
   "source": [
    "This method takes $v$ as an argument and returns $\\hat{w}_2$ according to the relationship above:"
   ]
  },
  {
   "cell_type": "code",
   "execution_count": 34,
   "metadata": {
    "collapsed": false
   },
   "outputs": [
    {
     "data": {
      "text/plain": [
       "find_w (generic function with 1 method)"
      ]
     },
     "execution_count": 34,
     "metadata": {},
     "output_type": "execute_result"
    }
   ],
   "source": [
    "function find_w(v,D,d)\n",
    "    if v == 0\n",
    "        w = float([-d[i]/(D[i,i]) for i in 1:length(d)])\n",
    "    else\n",
    "        w = float([d[i]/(v - D[i,i]) for i in 1:length(d)])\n",
    "    end\n",
    "    return w\n",
    "end"
   ]
  },
  {
   "cell_type": "markdown",
   "metadata": {},
   "source": [
    "Note that `D` should be $\\hat{B}$ and `d` should be $\\hat{b}/2$."
   ]
  },
  {
   "cell_type": "markdown",
   "metadata": {},
   "source": [
    "Before we can solve the secular equation, we need to rule out the case $v=0$. The following script does this:"
   ]
  },
  {
   "cell_type": "code",
   "execution_count": 35,
   "metadata": {
    "collapsed": false
   },
   "outputs": [],
   "source": [
    "eps = 1e-8\n",
    "w0 = find_w(0,Bhat,bhat/2)\n",
    "\n",
    "c = - Q_of_w[3]\n",
    "\n",
    "if abs((w0'*w0) - c)[1] < eps\n",
    "    println(\"v=0 works!\")\n",
    "end"
   ]
  },
  {
   "cell_type": "markdown",
   "metadata": {},
   "source": [
    "Now we can formulate and solve the secular equation. The general form is:\n",
    "\n",
    "\\begin{align}\n",
    "s(v) &= \\sum_i \\left(\\frac{d_i}{v - D_{i,i}}\\right)^2 = c\n",
    "\\end{align}\n",
    "\n",
    "The following method solves this equation using binary search:"
   ]
  },
  {
   "cell_type": "code",
   "execution_count": 36,
   "metadata": {
    "collapsed": false
   },
   "outputs": [
    {
     "data": {
      "text/plain": [
       "solve_secular (generic function with 1 method)"
      ]
     },
     "execution_count": 36,
     "metadata": {},
     "output_type": "execute_result"
    }
   ],
   "source": [
    "function solve_secular(D,d,c)\n",
    "    \"\"\" Solve the secular equation via binary search.\n",
    "    \"\"\"\n",
    "    eps = 1e-8\n",
    "    solutions = Float64[]\n",
    "    vectors = Array(Vector{Float64},0)\n",
    "    poles = sort(unique(round(diag(D),10)))\n",
    "    \n",
    "    # Each diagonal element is a pole.\n",
    "    for i in 1:length(poles)\n",
    "        \n",
    "        # Head left first:\n",
    "        high = poles[i]\n",
    "        if length(poles) == 1\n",
    "            low = high - high\n",
    "        elseif i == 1\n",
    "            low = high - abs(poles[i] - poles[i+1])\n",
    "        else\n",
    "            low = high - abs(poles[i] - poles[i-1])/2\n",
    "        end\n",
    "        \n",
    "        # Initialize v:\n",
    "        v = (high + low)/2\n",
    "        w = find_w(v,D,d)\n",
    "        diff = (w'*w)[1] - c\n",
    "        diff_old = 0\n",
    "        stall = false\n",
    "        while abs(diff) > eps\n",
    "            if diff == diff_old\n",
    "                stall = true\n",
    "                break\n",
    "            end\n",
    "            if diff > 0\n",
    "                high = v\n",
    "            else\n",
    "                low = v\n",
    "            end\n",
    "            v = (high + low)/2\n",
    "            w = find_w(v,D,d)\n",
    "            diff_old = diff\n",
    "            diff = (w'*w)[1] - c\n",
    "        end\n",
    "        if !stall\n",
    "            push!(solutions,v)\n",
    "            push!(vectors,w)\n",
    "        end\n",
    "        \n",
    "        # Now head right:\n",
    "        high = poles[i]\n",
    "        if length(poles) == 1\n",
    "            low = high + high\n",
    "        elseif i == length(poles)\n",
    "            low = high + abs(poles[i] - poles[i-1])\n",
    "        else\n",
    "            low = high + abs(poles[i] - poles[i+1])/2\n",
    "        end\n",
    "        \n",
    "        v = (high + low)/2\n",
    "        w = find_w(v,D,d)\n",
    "        diff = (w'*w)[1] - c\n",
    "        diff_old = 0\n",
    "        stall = false\n",
    "        while abs(diff) > eps\n",
    "            if diff == diff_old\n",
    "                stall = true\n",
    "                break\n",
    "            end\n",
    "            if diff > 0\n",
    "                high = v\n",
    "            else\n",
    "                low = v\n",
    "            end\n",
    "            v = (high + low)/2\n",
    "            w = find_w(v,D,d)\n",
    "            diff_old = diff\n",
    "            diff = (w'*w)[1] - c\n",
    "        end\n",
    "        if !stall\n",
    "            push!(solutions,v)\n",
    "            push!(vectors,w)\n",
    "        end\n",
    "    end\n",
    "    return solutions,vectors\n",
    "end"
   ]
  },
  {
   "cell_type": "markdown",
   "metadata": {},
   "source": [
    "This line solves the secular equation for our particular problem:"
   ]
  },
  {
   "cell_type": "code",
   "execution_count": 47,
   "metadata": {
    "collapsed": false
   },
   "outputs": [
    {
     "data": {
      "text/plain": [
       "([118.424,2574.81],[[-0.279862,0.108902,-0.0990853],[0.279862,-0.108902,0.0990853]])"
      ]
     },
     "execution_count": 47,
     "metadata": {},
     "output_type": "execute_result"
    }
   ],
   "source": [
    "solutions, vectors = solve_secular(Bhat,bhat/2,-Q_of_w[3])"
   ]
  },
  {
   "cell_type": "markdown",
   "metadata": {},
   "source": [
    "Let's visualize the secular equation:"
   ]
  },
  {
   "cell_type": "code",
   "execution_count": 38,
   "metadata": {
    "collapsed": false
   },
   "outputs": [
    {
     "data": {
      "text/html": [
       "<script charset=\"utf-8\">(function ($, undefined) {\n",
       "\n",
       "    function createElem(tag, attr, content) {\n",
       "\t// TODO: remove jQuery dependency\n",
       "\tvar el = $(\"<\" + tag + \"/>\").attr(attr);\n",
       "\tif (content) {\n",
       "\t    el.append(content);\n",
       "\t}\n",
       "\treturn el[0];\n",
       "    }\n",
       "\n",
       "    // A widget must expose an id field which identifies it to the backend,\n",
       "    // an elem attribute which is will be added to the DOM, and\n",
       "    // a getState() method which returns the value to be sent to the backend\n",
       "    // a sendUpdate() method which sends its current value to the backend\n",
       "    var Widget = {\n",
       "\tid: undefined,\n",
       "\telem: undefined,\n",
       "\tlabel: undefined,\n",
       "\tgetState: function () {\n",
       "\t    return this.elem.value;\n",
       "\t},\n",
       "\tsendUpdate: undefined\n",
       "    };\n",
       "\n",
       "    var Slider = function (typ, id, init) {\n",
       "\tvar attr = { type:  \"range\",\n",
       "\t\t     value: init.value,\n",
       "\t\t     min:   init.min,\n",
       "\t\t     max:   init.max,\n",
       "\t\t     step:  init.step },\n",
       "\t    elem = createElem(\"input\", attr),\n",
       "\t    self = this;\n",
       "\n",
       "\telem.onchange = function () {\n",
       "\t    self.sendUpdate();\n",
       "\t}\n",
       "\n",
       "\tthis.id = id;\n",
       "\tthis.elem = elem;\n",
       "\tthis.label = init.label;\n",
       "\n",
       "\tInputWidgets.commInitializer(this); // Initialize communication\n",
       "    }\n",
       "    Slider.prototype = Widget;\n",
       "\n",
       "    var Checkbox = function (typ, id, init) {\n",
       "\tvar attr = { type: \"checkbox\",\n",
       "\t\t     checked: init.value },\n",
       "\t    elem = createElem(\"input\", attr),\n",
       "\t    self = this;\n",
       "\n",
       "\tthis.getState = function () {\n",
       "\t    return elem.checked;\n",
       "\t}\n",
       "\telem.onchange = function () {\n",
       "\t    self.sendUpdate();\n",
       "\t}\n",
       "\n",
       "\tthis.id = id;\n",
       "\tthis.elem = elem;\n",
       "\tthis.label = init.label;\n",
       "\n",
       "\tInputWidgets.commInitializer(this);\n",
       "    }\n",
       "    Checkbox.prototype = Widget;\n",
       "\n",
       "    var Button = function (typ, id, init) {\n",
       "\tvar attr = { type:    \"button\",\n",
       "\t\t     value:   init.label },\n",
       "\t    elem = createElem(\"input\", attr),\n",
       "\t    self = this;\n",
       "\tthis.getState = function () {\n",
       "\t    return null;\n",
       "\t}\n",
       "\telem.onclick = function () {\n",
       "\t    self.sendUpdate();\n",
       "\t}\n",
       "\n",
       "\tthis.id = id;\n",
       "\tthis.elem = elem;\n",
       "\tthis.label = init.label;\n",
       "\n",
       "\tInputWidgets.commInitializer(this);\n",
       "    }\n",
       "    Button.prototype = Widget;\n",
       "\n",
       "    var Text = function (typ, id, init) {\n",
       "\tvar attr = { type:  \"text\",\n",
       "\t\t     placeholder: init.label,\n",
       "\t\t     value: init.value },\n",
       "\t    elem = createElem(\"input\", attr),\n",
       "\t    self = this;\n",
       "\tthis.getState = function () {\n",
       "\t    return elem.value;\n",
       "\t}\n",
       "\telem.onkeyup = function () {\n",
       "\t    self.sendUpdate();\n",
       "\t}\n",
       "\n",
       "\tthis.id = id;\n",
       "\tthis.elem = elem;\n",
       "\tthis.label = init.label;\n",
       "\n",
       "\tInputWidgets.commInitializer(this);\n",
       "    }\n",
       "    Text.prototype = Widget;\n",
       "\n",
       "    var Textarea = function (typ, id, init) {\n",
       "\tvar attr = { placeholder: init.label },\n",
       "\t    elem = createElem(\"textarea\", attr, init.value),\n",
       "\t    self = this;\n",
       "\tthis.getState = function () {\n",
       "\t    return elem.value;\n",
       "\t}\n",
       "\telem.onchange = function () {\n",
       "\t    self.sendUpdate();\n",
       "\t}\n",
       "\n",
       "\tthis.id = id;\n",
       "\tthis.elem = elem;\n",
       "\tthis.label = init.label;\n",
       "\n",
       "\tInputWidgets.commInitializer(this);\n",
       "    }\n",
       "    Textarea.prototype = Widget;\n",
       "\n",
       "    // RadioButtons\n",
       "    // Dropdown\n",
       "    // HTML\n",
       "    // Latex\n",
       "\n",
       "    var InputWidgets = {\n",
       "\tSlider: Slider,\n",
       "\tCheckbox: Checkbox,\n",
       "\tButton: Button,\n",
       "\tText: Text,\n",
       "\tTextarea: Textarea,\n",
       "\tdebug: false,\n",
       "\tlog: function () {\n",
       "\t    if (InputWidgets.debug) {\n",
       "\t\tconsole.log.apply(console, arguments);\n",
       "\t    }\n",
       "\t},\n",
       "\t// a central way to initalize communication\n",
       "\t// for widgets.\n",
       "\tcommInitializer: function (widget) {\n",
       "\t    widget.sendUpdate = function () {};\n",
       "\t}\n",
       "    };\n",
       "\n",
       "    window.InputWidgets = InputWidgets;\n",
       "\n",
       "})(jQuery, undefined);\n",
       "</script>"
      ]
     },
     "metadata": {},
     "output_type": "display_data"
    },
    {
     "data": {
      "text/html": [
       "<script charset=\"utf-8\">(function (IPython, $, _, MathJax, Widgets) {\n",
       "    $.event.special.destroyed = {\n",
       "\tremove: function(o) {\n",
       "\t    if (o.handler) {\n",
       "\t\to.handler.apply(this, arguments)\n",
       "\t    }\n",
       "\t}\n",
       "    }\n",
       "\n",
       "    var redrawValue = function (container, type, val) {\n",
       "\tvar selector = $(\"<div/>\");\n",
       "\tvar oa = new IPython.OutputArea(_.extend(selector, {\n",
       "\t    selector: selector,\n",
       "\t    prompt_area: true,\n",
       "\t    events: IPython.events,\n",
       "\t    keyboard_manager: IPython.keyboard_manager\n",
       "\t})); // Hack to work with IPython 2.1.0\n",
       "\n",
       "\tswitch (type) {\n",
       "\tcase \"image/png\":\n",
       "            var _src = 'data:' + type + ';base64,' + val;\n",
       "\t    $(container).find(\"img\").attr('src', _src);\n",
       "\t    break;\n",
       "\tdefault:\n",
       "\t    var toinsert = IPython.OutputArea.append_map[type].apply(\n",
       "\t\toa, [val, {}, selector]\n",
       "\t    );\n",
       "\t    $(container).empty().append(toinsert.contents());\n",
       "\t    selector.remove();\n",
       "\t}\n",
       "\tif (type === \"text/latex\" && MathJax) {\n",
       "\t    MathJax.Hub.Queue([\"Typeset\", MathJax.Hub, toinsert.get(0)]);\n",
       "\t}\n",
       "    }\n",
       "\n",
       "\n",
       "    $(document).ready(function() {\n",
       "\tWidgets.debug = false; // log messages etc in console.\n",
       "\tfunction initComm(evt, data) {\n",
       "\t    var comm_manager = data.kernel.comm_manager;\n",
       "        //_.extend(comm_manager.targets, require(\"widgets/js/widget\"))\n",
       "\t    comm_manager.register_target(\"Signal\", function (comm) {\n",
       "            comm.on_msg(function (msg) {\n",
       "                //Widgets.log(\"message received\", msg);\n",
       "                var val = msg.content.data.value;\n",
       "                $(\".signal-\" + comm.comm_id).each(function() {\n",
       "                var type = $(this).data(\"type\");\n",
       "                if (val[type]) {\n",
       "                    redrawValue(this, type, val[type], type);\n",
       "                }\n",
       "                });\n",
       "                delete val;\n",
       "                delete msg.content.data.value;\n",
       "            });\n",
       "\t    });\n",
       "\n",
       "\t    // coordingate with Comm and redraw Signals\n",
       "\t    // XXX: Test using Reactive here to improve performance\n",
       "\t    $([IPython.events]).on(\n",
       "\t\t'output_appended.OutputArea', function (event, type, value, md, toinsert) {\n",
       "\t\t    if (md && md.reactive) {\n",
       "                // console.log(md.comm_id);\n",
       "                toinsert.addClass(\"signal-\" + md.comm_id);\n",
       "                toinsert.data(\"type\", type);\n",
       "                // Signal back indicating the mimetype required\n",
       "                var comm_manager = IPython.notebook.kernel.comm_manager;\n",
       "                var comm = comm_manager.comms[md.comm_id];\n",
       "                comm.then(function (c) {\n",
       "                    c.send({action: \"subscribe_mime\",\n",
       "                       mime: type});\n",
       "                    toinsert.bind(\"destroyed\", function() {\n",
       "                        c.send({action: \"unsubscribe_mime\",\n",
       "                               mime: type});\n",
       "                    });\n",
       "                })\n",
       "\t\t    }\n",
       "\t    });\n",
       "\t}\n",
       "\n",
       "\ttry {\n",
       "\t    // try to initialize right away. otherwise, wait on the status_started event.\n",
       "\t    initComm(undefined, IPython.notebook);\n",
       "\t} catch (e) {\n",
       "\t    $([IPython.events]).on('status_started.Kernel', initComm);\n",
       "\t}\n",
       "    });\n",
       "})(IPython, jQuery, _, MathJax, InputWidgets);\n",
       "</script>"
      ]
     },
     "metadata": {},
     "output_type": "display_data"
    },
    {
     "name": "stderr",
     "output_type": "stream",
     "text": [
      "INFO: Loading help data...\n"
     ]
    }
   ],
   "source": [
    "using Interact\n",
    "using PyPlot"
   ]
  },
  {
   "cell_type": "code",
   "execution_count": 66,
   "metadata": {
    "collapsed": false
   },
   "outputs": [
    {
     "data": {
      "text/html": [],
      "text/plain": [
       "Slider{Float64}([Input{Float64}] 0.25,\"c\",0.25,0.05:0.05:0.5)"
      ]
     },
     "metadata": {},
     "output_type": "display_data"
    },
    {
     "data": {
      "image/png": "[encoded data removed]",
      "text/plain": [
       "Figure(PyObject <matplotlib.figure.Figure object at 0x7f06c5e7bfd0>)"
      ]
     },
     "execution_count": 66,
     "metadata": {
      "comm_id": "a136e73b-9349-4258-97be-81ad4349e66a",
      "reactive": true
     },
     "output_type": "execute_result"
    }
   ],
   "source": [
    "f = figure()\n",
    "poles = sort(unique(round(diag(Bhat),10)))\n",
    "\n",
    "@manipulate for c = 0.05:0.05:0.5; withfig(f) do\n",
    "        solutions,vectors = solve_secular(Bhat,bhat/2,c)\n",
    "\n",
    "        v_vals = linspace(minimum(poles)-4*minimum(poles),maximum(poles) + 4*maximum(poles),10000)\n",
    "        s_vals = [(find_w(i,Bhat,bhat/2)'*find_w(i,Bhat,bhat/2))[1] for i in v_vals]\n",
    "        plot(v_vals,s_vals)\n",
    "        hold = true\n",
    "        plot([v_vals[1],v_vals[end]],[c,c])\n",
    "        ylim([0,0.2])\n",
    "        scatter(solutions,c*ones(length(solutions)))\n",
    "        legend([\"Secular Equation\",L\"s(v) = c\",\"Found by algorithm\"],fontsize=8)\n",
    "        xlabel(L\"v\")\n",
    "        ylabel(L\"s(v)\")\n",
    "        axis([-2000,5000,0,0.2])\n",
    "    end\n",
    "end"
   ]
  },
  {
   "cell_type": "code",
   "execution_count": 70,
   "metadata": {
    "collapsed": false
   },
   "outputs": [
    {
     "data": {
      "image/png": "[encoded data removed]",
      "text/plain": [
       "Figure(PyObject <matplotlib.figure.Figure object at 0x7f06c66cdc50>)"
      ]
     },
     "metadata": {},
     "output_type": "display_data"
    }
   ],
   "source": [
    "f = figure()\n",
    "c = 0.1\n",
    "poles = sort(unique(round(diag(Bhat),10)))\n",
    "\n",
    "        solutions,vectors = solve_secular(Bhat,bhat/2,c)\n",
    "\n",
    "        v_vals = linspace(minimum(poles)-4*minimum(poles),maximum(poles) + 4*maximum(poles),10000)\n",
    "        s_vals = [(find_w(i,Bhat,bhat/2)'*find_w(i,Bhat,bhat/2))[1] for i in v_vals]\n",
    "        plot(v_vals,s_vals)\n",
    "        hold = true\n",
    "        plot([v_vals[1],v_vals[end]],[c,c])\n",
    "        ylim([0,0.2])\n",
    "        scatter(solutions,c*ones(length(solutions)))\n",
    "        legend([\"Secular Equation\",L\"s(v) = c\",\"Found by algorithm\"],fontsize=12)\n",
    "        xlabel(L\"v\")\n",
    "        ylabel(L\"s(v)\")\n",
    "        axis([-2000,5000,0,0.2])\n",
    "\n",
    "savefig(\"../images/secular2.pdf\")"
   ]
  },
  {
   "cell_type": "markdown",
   "metadata": {},
   "source": [
    "## Mapping back\n",
    "\n",
    "Having found solutions $\\hat{w}_2^*$, we need to map back to the original problem space."
   ]
  },
  {
   "cell_type": "code",
   "execution_count": 18,
   "metadata": {
    "collapsed": false
   },
   "outputs": [
    {
     "data": {
      "text/plain": [
       "return_xopt (generic function with 1 method)"
      ]
     },
     "execution_count": 18,
     "metadata": {},
     "output_type": "execute_result"
    }
   ],
   "source": [
    "function return_xopt(w2opt,B11,B12,b1,N,U,K,x_star)\n",
    "    w1opt = -B11\\(B12*w2opt + b1/2)\n",
    "    wopt = [w1opt,w2opt]\n",
    "    xopt = (N*U/K)*wopt + x_star\n",
    "    return xopt\n",
    "end"
   ]
  },
  {
   "cell_type": "code",
   "execution_count": 19,
   "metadata": {
    "collapsed": true
   },
   "outputs": [
    {
     "data": {
      "text/plain": [
       "279-element Array{Float64,1}:\n",
       "   0.763317  \n",
       "   3.03236   \n",
       "   3.39841   \n",
       "   3.22306   \n",
       "   3.14139   \n",
       "   4.038     \n",
       "   4.59416   \n",
       "   3.06555   \n",
       "   4.90005   \n",
       " -17.9025    \n",
       "  -7.37709   \n",
       "  -5.21467   \n",
       "   4.49813   \n",
       "   ⋮         \n",
       "  -0.0990153 \n",
       "   0.0721015 \n",
       "   0.176531  \n",
       "  -0.0575429 \n",
       "  -0.00701291\n",
       "   0.242252  \n",
       "  -0.0594341 \n",
       "   0.288992  \n",
       " -45.6281    \n",
       "  -0.606609  \n",
       "  -0.576838  \n",
       "  -0.547068  "
      ]
     },
     "execution_count": 19,
     "metadata": {},
     "output_type": "execute_result"
    }
   ],
   "source": [
    "xopt = return_xopt(vectors[1],B11,B12,b1,N,U,K,x_star)"
   ]
  },
  {
   "cell_type": "markdown",
   "metadata": {},
   "source": [
    "Sanity checks:"
   ]
  },
  {
   "cell_type": "code",
   "execution_count": 20,
   "metadata": {
    "collapsed": false
   },
   "outputs": [
    {
     "data": {
      "text/plain": [
       "2.6403323971635473e-12"
      ]
     },
     "execution_count": 20,
     "metadata": {},
     "output_type": "execute_result"
    }
   ],
   "source": [
    "maximum(abs(A*xopt - b))"
   ]
  },
  {
   "cell_type": "code",
   "execution_count": 21,
   "metadata": {
    "collapsed": false
   },
   "outputs": [
    {
     "data": {
      "text/plain": [
       "1-element Array{Float64,1}:\n",
       " 1.0"
      ]
     },
     "execution_count": 21,
     "metadata": {},
     "output_type": "execute_result"
    }
   ],
   "source": [
    "xopt'*Qtheta*xopt"
   ]
  },
  {
   "cell_type": "markdown",
   "metadata": {},
   "source": [
    "Everything looks good. Time to write a module and condense."
   ]
  }
 ],
 "metadata": {
  "kernelspec": {
   "display_name": "Julia",
   "language": "julia",
   "name": "julia"
  },
  "language_info": {
   "name": "julia",
   "version": "0.3.7"
  }
 },
 "nbformat": 4,
 "nbformat_minor": 0
}
