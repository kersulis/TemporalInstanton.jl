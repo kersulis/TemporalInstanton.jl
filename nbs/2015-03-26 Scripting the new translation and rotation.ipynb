{
 "cells": [
  {
   "cell_type": "markdown",
   "metadata": {},
   "source": [
    "# Scripting the new translation and rotation\n",
    "\n",
    "We have finished working through the math of the temporal instanton problem. Here we develop a script to perform the various solution steps."
   ]
  },
  {
   "cell_type": "markdown",
   "metadata": {},
   "source": [
    "## Data import\n",
    "\n",
    "First thing's first. Load the data:"
   ]
  },
  {
   "cell_type": "code",
   "execution_count": 1,
   "metadata": {
    "collapsed": true
   },
   "outputs": [
    {
     "data": {
      "text/plain": [
       "(\n",
       "279x279 Array{Float64,2}:\n",
       " 1.0  0.0  0.0  0.0  0.0  0.0  0.0  0.0  …  0.0  0.0  0.0  0.0  0.0  0.0  0.0\n",
       " 0.0  1.0  0.0  0.0  0.0  0.0  0.0  0.0     0.0  0.0  0.0  0.0  0.0  0.0  0.0\n",
       " 0.0  0.0  1.0  0.0  0.0  0.0  0.0  0.0     0.0  0.0  0.0  0.0  0.0  0.0  0.0\n",
       " 0.0  0.0  0.0  1.0  0.0  0.0  0.0  0.0     0.0  0.0  0.0  0.0  0.0  0.0  0.0\n",
       " 0.0  0.0  0.0  0.0  1.0  0.0  0.0  0.0     0.0  0.0  0.0  0.0  0.0  0.0  0.0\n",
       " 0.0  0.0  0.0  0.0  0.0  1.0  0.0  0.0  …  0.0  0.0  0.0  0.0  0.0  0.0  0.0\n",
       " 0.0  0.0  0.0  0.0  0.0  0.0  1.0  0.0     0.0  0.0  0.0  0.0  0.0  0.0  0.0\n",
       " 0.0  0.0  0.0  0.0  0.0  0.0  0.0  1.0     0.0  0.0  0.0  0.0  0.0  0.0  0.0\n",
       " 0.0  0.0  0.0  0.0  0.0  0.0  0.0  0.0     0.0  0.0  0.0  0.0  0.0  0.0  0.0\n",
       " 0.0  0.0  0.0  0.0  0.0  0.0  0.0  0.0     0.0  0.0  0.0  0.0  0.0  0.0  0.0\n",
       " 0.0  0.0  0.0  0.0  0.0  0.0  0.0  0.0  …  0.0  0.0  0.0  0.0  0.0  0.0  0.0\n",
       " 0.0  0.0  0.0  0.0  0.0  0.0  0.0  0.0     0.0  0.0  0.0  0.0  0.0  0.0  0.0\n",
       " 0.0  0.0  0.0  0.0  0.0  0.0  0.0  0.0     0.0  0.0  0.0  0.0  0.0  0.0  0.0\n",
       " ⋮                        ⋮              ⋱                 ⋮                 \n",
       " 0.0  0.0  0.0  0.0  0.0  0.0  0.0  0.0     0.0  0.0  0.0  0.0  0.0  0.0  0.0\n",
       " 0.0  0.0  0.0  0.0  0.0  0.0  0.0  0.0     0.0  0.0  0.0  0.0  0.0  0.0  0.0\n",
       " 0.0  0.0  0.0  0.0  0.0  0.0  0.0  0.0     0.0  0.0  0.0  0.0  0.0  0.0  0.0\n",
       " 0.0  0.0  0.0  0.0  0.0  0.0  0.0  0.0  …  0.0  0.0  0.0  0.0  0.0  0.0  0.0\n",
       " 0.0  0.0  0.0  0.0  0.0  0.0  0.0  0.0     0.0  0.0  0.0  0.0  0.0  0.0  0.0\n",
       " 0.0  0.0  0.0  0.0  0.0  0.0  0.0  0.0     0.0  0.0  0.0  0.0  0.0  0.0  0.0\n",
       " 0.0  0.0  0.0  0.0  0.0  0.0  0.0  0.0     0.0  0.0  0.0  0.0  0.0  0.0  0.0\n",
       " 0.0  0.0  0.0  0.0  0.0  0.0  0.0  0.0     0.0  0.0  0.0  0.0  0.0  0.0  0.0\n",
       " 0.0  0.0  0.0  0.0  0.0  0.0  0.0  0.0  …  0.0  0.0  0.0  0.0  0.0  0.0  0.0\n",
       " 0.0  0.0  0.0  0.0  0.0  0.0  0.0  0.0     0.0  0.0  0.0  0.0  0.0  0.0  0.0\n",
       " 0.0  0.0  0.0  0.0  0.0  0.0  0.0  0.0     0.0  0.0  0.0  0.0  0.0  0.0  0.0\n",
       " 0.0  0.0  0.0  0.0  0.0  0.0  0.0  0.0     0.0  0.0  0.0  0.0  0.0  0.0  0.0,\n",
       "\n",
       "225x279 Array{Float64,2}:\n",
       "  0.0  0.0  0.0  0.0  0.0  0.0  0.0  …     0.0     0.0       0.0  0.0  0.0\n",
       " -1.0  0.0  0.0  0.0  0.0  0.0  0.0        0.0     0.0       0.0  0.0  0.0\n",
       "  0.0  0.0  0.0  0.0  0.0  0.0  0.0        0.0     0.0       0.0  0.0  0.0\n",
       "  0.0  0.0  0.0  0.0  0.0  0.0  0.0        0.0     0.0       0.0  0.0  0.0\n",
       "  0.0  0.0  0.0  0.0  0.0  0.0  0.0        0.0     0.0       0.0  0.0  0.0\n",
       "  0.0  0.0  0.0  0.0  0.0  0.0  0.0  …     0.0     0.0       0.0  0.0  0.0\n",
       "  0.0  0.0  0.0  0.0  0.0  0.0  0.0        0.0     0.0       0.0  0.0  0.0\n",
       "  0.0  0.0  0.0  0.0  0.0  0.0  0.0        0.0     0.0       0.0  0.0  0.0\n",
       "  0.0  0.0  0.0  0.0  0.0  0.0  0.0        0.0     0.0       0.0  0.0  0.0\n",
       "  0.0  0.0  0.0  0.0  0.0  0.0  0.0        0.0     0.0       0.0  0.0  0.0\n",
       "  0.0  0.0  0.0  0.0  0.0  0.0  0.0  …     0.0     0.0       0.0  0.0  0.0\n",
       "  0.0  0.0  0.0  0.0  0.0  0.0  0.0        0.0     0.0       0.0  0.0  0.0\n",
       "  0.0  0.0  0.0  0.0  0.0  0.0  0.0        0.0     0.0       0.0  0.0  0.0\n",
       "  ⋮                        ⋮         ⋱             ⋮                      \n",
       "  0.0  0.0  0.0  0.0  0.0  0.0  0.0        0.0    -0.030303  0.0  0.0  0.0\n",
       "  0.0  0.0  0.0  0.0  0.0  0.0  0.0        0.0     0.0       0.0  0.0  0.0\n",
       "  0.0  0.0  0.0  0.0  0.0  0.0  0.0  …     0.0     0.0       0.0  0.0  0.0\n",
       "  0.0  0.0  0.0  0.0  0.0  0.0  0.0        0.0    -0.030303  0.0  0.0  0.0\n",
       "  0.0  0.0  0.0  0.0  0.0  0.0  0.0        0.0    -0.030303  0.0  0.0  0.0\n",
       "  0.0  0.0  0.0  0.0  0.0  0.0  0.0     -111.111  -0.030303  0.0  0.0  0.0\n",
       "  0.0  0.0  0.0  0.0  0.0  0.0  0.0        0.0     0.0       0.0  0.0  0.0\n",
       "  0.0  0.0  0.0  0.0  0.0  0.0  0.0  …   121.42    0.0       0.0  0.0  0.0\n",
       "  0.0  0.0  0.0  0.0  0.0  0.0  0.0        0.0     0.0       0.0  0.0  0.0\n",
       "  0.0  0.0  0.0  0.0  0.0  0.0  0.0        0.0     0.0       1.0  0.0  0.0\n",
       "  0.0  0.0  0.0  0.0  0.0  0.0  0.0        0.0     0.0       0.0  1.0  0.0\n",
       "  0.0  0.0  0.0  0.0  0.0  0.0  0.0        0.0     0.0       0.0  0.0  1.0,\n",
       "\n",
       "FloatingPoint[1.01328700708,1.1697435536499703,-1.17165575142,-0.4835404688399999,-0.4649427585,-0.89269009632,0.7817007450400002,-0.3158626203999999,-1.1344603307399999,-1.26464430312  …  -0.7532072687699999,3.6,2.7,5.9399999999999995,0.0,0.0,0.0,0.0,0.0,0.0],\n",
       "279x279 Array{Float64,2}:\n",
       " 0.0  0.0  0.0  0.0  0.0  0.0  0.0  0.0  …  0.0  0.0  0.0  0.0  0.0  0.0  0.0\n",
       " 0.0  0.0  0.0  0.0  0.0  0.0  0.0  0.0     0.0  0.0  0.0  0.0  0.0  0.0  0.0\n",
       " 0.0  0.0  0.0  0.0  0.0  0.0  0.0  0.0     0.0  0.0  0.0  0.0  0.0  0.0  0.0\n",
       " 0.0  0.0  0.0  0.0  0.0  0.0  0.0  0.0     0.0  0.0  0.0  0.0  0.0  0.0  0.0\n",
       " 0.0  0.0  0.0  0.0  0.0  0.0  0.0  0.0     0.0  0.0  0.0  0.0  0.0  0.0  0.0\n",
       " 0.0  0.0  0.0  0.0  0.0  0.0  0.0  0.0  …  0.0  0.0  0.0  0.0  0.0  0.0  0.0\n",
       " 0.0  0.0  0.0  0.0  0.0  0.0  0.0  0.0     0.0  0.0  0.0  0.0  0.0  0.0  0.0\n",
       " 0.0  0.0  0.0  0.0  0.0  0.0  0.0  0.0     0.0  0.0  0.0  0.0  0.0  0.0  0.0\n",
       " 0.0  0.0  0.0  0.0  0.0  0.0  0.0  0.0     0.0  0.0  0.0  0.0  0.0  0.0  0.0\n",
       " 0.0  0.0  0.0  0.0  0.0  0.0  0.0  0.0     0.0  0.0  0.0  0.0  0.0  0.0  0.0\n",
       " 0.0  0.0  0.0  0.0  0.0  0.0  0.0  0.0  …  0.0  0.0  0.0  0.0  0.0  0.0  0.0\n",
       " 0.0  0.0  0.0  0.0  0.0  0.0  0.0  0.0     0.0  0.0  0.0  0.0  0.0  0.0  0.0\n",
       " 0.0  0.0  0.0  0.0  0.0  0.0  0.0  0.0     0.0  0.0  0.0  0.0  0.0  0.0  0.0\n",
       " ⋮                        ⋮              ⋱                 ⋮                 \n",
       " 0.0  0.0  0.0  0.0  0.0  0.0  0.0  0.0     0.0  0.0  0.0  0.0  0.0  0.0  0.0\n",
       " 0.0  0.0  0.0  0.0  0.0  0.0  0.0  0.0     0.0  0.0  0.0  0.0  0.0  0.0  0.0\n",
       " 0.0  0.0  0.0  0.0  0.0  0.0  0.0  0.0     0.0  0.0  0.0  0.0  0.0  0.0  0.0\n",
       " 0.0  0.0  0.0  0.0  0.0  0.0  0.0  0.0  …  0.0  0.0  0.0  0.0  0.0  0.0  0.0\n",
       " 0.0  0.0  0.0  0.0  0.0  0.0  0.0  0.0     0.0  0.0  0.0  0.0  0.0  0.0  0.0\n",
       " 0.0  0.0  0.0  0.0  0.0  0.0  0.0  0.0     0.0  0.0  0.0  0.0  0.0  0.0  0.0\n",
       " 0.0  0.0  0.0  0.0  0.0  0.0  0.0  0.0     0.0  0.0  0.0  0.0  0.0  0.0  0.0\n",
       " 0.0  0.0  0.0  0.0  0.0  0.0  0.0  0.0     0.0  0.0  0.0  0.0  0.0  0.0  0.0\n",
       " 0.0  0.0  0.0  0.0  0.0  0.0  0.0  0.0  …  0.0  0.0  0.0  0.0  0.0  0.0  0.0\n",
       " 0.0  0.0  0.0  0.0  0.0  0.0  0.0  0.0     0.0  0.0  0.0  0.0  1.0  0.0  0.0\n",
       " 0.0  0.0  0.0  0.0  0.0  0.0  0.0  0.0     0.0  0.0  0.0  0.0  0.0  1.0  0.0\n",
       " 0.0  0.0  0.0  0.0  0.0  0.0  0.0  0.0     0.0  0.0  0.0  0.0  0.0  0.0  1.0)"
      ]
     },
     "execution_count": 1,
     "metadata": {},
     "output_type": "execute_result"
    }
   ],
   "source": [
    "####### IMPORTS: DATA ACQUISITION ########\n",
    "include(\"../src/tmp_inst_rts96.jl\")\n",
    "\n",
    "psData = psDataLoad()\n",
    "\n",
    "# unpack psDL (boilerplate):\n",
    "(Sb,f,t,r,x,b,Y,bustype,\n",
    "Gp,Gq,Dp,Dq,Rp,Rq,\n",
    "Pmax,Pmin,Qmax,Qmin,Plim,\n",
    "Vg,Vceiling,Vfloor,\n",
    "busIdx,N,Nr,Ng,k) = unpack_psDL(psData)\n",
    "\n",
    "####### IMPORTS: INSTANTON CODE ########\n",
    "# Get instanton code into workspace:\n",
    "include(\"../src/TemporalInstanton.jl\")\n",
    "include(\"../src/TrustRegionSubproblem.jl\")\n",
    "\n",
    "using TemporalInstanton\n",
    "\n",
    "####### DATA LINKING ########\n",
    "# Static\n",
    "Ridx = find(Rp) # Vector of renewable nodes\n",
    "Y = full(Y) # Full admittance matrix (ref not removed)\n",
    "ref = 1 # Index of ref node\n",
    "k = k # Conventional generator participation factors\n",
    "tau = 1. # Heating constant\n",
    "G0 = [Gp,Gp.*0.95,Gp.*0.9]\n",
    "D0 = [Dp,Dp.*0.95,Dp.*0.9]\n",
    "P0 = [Rp,Rp,Rp]\n",
    "kQobj = 0 # Should always be zero; objective has no constant term\n",
    "c = 1. # RHS of line temperature constraint\n",
    "kQtheta = -c # Move to LHS so we have Q(z) = 0\n",
    "\n",
    "T = int(length(G0)/size(Y,1))\n",
    "\n",
    "# Changing:\n",
    "lines = [(f[i],t[i]) for i in 1:length(f)];\n",
    "\n",
    "# For a single line:\n",
    "line = lines[48]\n",
    "\n",
    "# Create instance of instanton problem\n",
    "Qobj,A,b,Qtheta = temporalInstanton(Ridx,Y,ref,k,tau,line,G0,P0,D0)"
   ]
  },
  {
   "cell_type": "code",
   "execution_count": 2,
   "metadata": {
    "collapsed": true
   },
   "outputs": [
    {
     "data": {
      "text/plain": [
       "(\n",
       "279x279 Array{Float64,2}:\n",
       " 0.0  0.0  0.0  0.0  0.0  0.0  0.0  0.0  …  0.0  0.0  0.0  0.0  0.0  0.0  0.0\n",
       " 0.0  0.0  0.0  0.0  0.0  0.0  0.0  0.0     0.0  0.0  0.0  0.0  0.0  0.0  0.0\n",
       " 0.0  0.0  0.0  0.0  0.0  0.0  0.0  0.0     0.0  0.0  0.0  0.0  0.0  0.0  0.0\n",
       " 0.0  0.0  0.0  0.0  0.0  0.0  0.0  0.0     0.0  0.0  0.0  0.0  0.0  0.0  0.0\n",
       " 0.0  0.0  0.0  0.0  0.0  0.0  0.0  0.0     0.0  0.0  0.0  0.0  0.0  0.0  0.0\n",
       " 0.0  0.0  0.0  0.0  0.0  0.0  0.0  0.0  …  0.0  0.0  0.0  0.0  0.0  0.0  0.0\n",
       " 0.0  0.0  0.0  0.0  0.0  0.0  0.0  0.0     0.0  0.0  0.0  0.0  0.0  0.0  0.0\n",
       " 0.0  0.0  0.0  0.0  0.0  0.0  0.0  0.0     0.0  0.0  0.0  0.0  0.0  0.0  0.0\n",
       " 0.0  0.0  0.0  0.0  0.0  0.0  0.0  0.0     0.0  0.0  0.0  0.0  0.0  0.0  0.0\n",
       " 0.0  0.0  0.0  0.0  0.0  0.0  0.0  0.0     0.0  0.0  0.0  0.0  0.0  0.0  0.0\n",
       " 0.0  0.0  0.0  0.0  0.0  0.0  0.0  0.0  …  0.0  0.0  0.0  0.0  0.0  0.0  0.0\n",
       " 0.0  0.0  0.0  0.0  0.0  0.0  0.0  0.0     0.0  0.0  0.0  0.0  0.0  0.0  0.0\n",
       " 0.0  0.0  0.0  0.0  0.0  0.0  0.0  0.0     0.0  0.0  0.0  0.0  0.0  0.0  0.0\n",
       " ⋮                        ⋮              ⋱                 ⋮                 \n",
       " 0.0  0.0  0.0  0.0  0.0  0.0  0.0  0.0     0.0  0.0  0.0  0.0  0.0  0.0  0.0\n",
       " 0.0  0.0  0.0  0.0  0.0  0.0  0.0  0.0     0.0  0.0  0.0  0.0  0.0  0.0  0.0\n",
       " 0.0  0.0  0.0  0.0  0.0  0.0  0.0  0.0     0.0  0.0  0.0  0.0  0.0  0.0  0.0\n",
       " 0.0  0.0  0.0  0.0  0.0  0.0  0.0  0.0  …  0.0  0.0  0.0  0.0  0.0  0.0  0.0\n",
       " 0.0  0.0  0.0  0.0  0.0  0.0  0.0  0.0     0.0  0.0  0.0  0.0  0.0  0.0  0.0\n",
       " 0.0  0.0  0.0  0.0  0.0  0.0  0.0  0.0     0.0  0.0  0.0  0.0  0.0  0.0  0.0\n",
       " 0.0  0.0  0.0  0.0  0.0  0.0  0.0  0.0     0.0  0.0  0.0  0.0  0.0  0.0  0.0\n",
       " 0.0  0.0  0.0  0.0  0.0  0.0  0.0  0.0     0.0  0.0  0.0  0.0  0.0  0.0  0.0\n",
       " 0.0  0.0  0.0  0.0  0.0  0.0  0.0  0.0  …  0.0  0.0  0.0  0.0  0.0  0.0  0.0\n",
       " 0.0  0.0  0.0  0.0  0.0  0.0  0.0  0.0     0.0  0.0  0.0  0.0  1.0  0.0  0.0\n",
       " 0.0  0.0  0.0  0.0  0.0  0.0  0.0  0.0     0.0  0.0  0.0  0.0  0.0  1.0  0.0\n",
       " 0.0  0.0  0.0  0.0  0.0  0.0  0.0  0.0     0.0  0.0  0.0  0.0  0.0  0.0  1.0,\n",
       "\n",
       "0,-1.0)"
      ]
     },
     "execution_count": 2,
     "metadata": {},
     "output_type": "execute_result"
    }
   ],
   "source": [
    "# Build obj and constraint quadratics:\n",
    "G_of_x = (Qobj,0,kQobj)\n",
    "Q_of_x = (Qtheta,0,kQtheta)"
   ]
  },
  {
   "cell_type": "markdown",
   "metadata": {},
   "source": [
    "## Translation\n",
    "\n",
    "The following two methods partition the $A$ matrix, find the appropriate translation point $x^*$, and translate a general quadratic:"
   ]
  },
  {
   "cell_type": "code",
   "execution_count": 5,
   "metadata": {
    "collapsed": false
   },
   "outputs": [
    {
     "data": {
      "text/plain": [
       "translate_quadratic (generic function with 1 method)"
      ]
     },
     "execution_count": 5,
     "metadata": {},
     "output_type": "execute_result"
    }
   ],
   "source": [
    "function partition_A(A,Qobj,T)\n",
    "    \"\"\" Return A1, A2, A3 where\n",
    "    A1 corresponds to wind\n",
    "    A2 corresponds to angles + mismatch\n",
    "    A3 corresponds to angle difference vars\n",
    "    \"\"\"\n",
    "    m,n = size(A)\n",
    "    idx1 = find(diag(Qobj))\n",
    "    idx2 = setdiff(1:n-T,idx1)\n",
    "    idx3 = n-T+1:n\n",
    "    idx = [idx1,idx2,idx3]\n",
    "    \n",
    "    A1 = A[:,idx1]\n",
    "    A2 = A[:,idx2]\n",
    "    A3 = A[:,idx3]\n",
    "    return A1,A2,A3,idx1,idx2,idx3\n",
    "end\n",
    "\n",
    "function find_x_star(Qobj,A,b,T)\n",
    "    A1,A2,A3,idx1,idx2,idx3 = partition_A(A,Qobj,T)\n",
    "    x_star = zeros(size(A,2))\n",
    "    x_star[[idx1,idx2]] = [A1 A2]\\b\n",
    "    return x_star\n",
    "end\n",
    "\n",
    "function translate_quadratic(G_of_x,x_star)\n",
    "    \"\"\" This function performs the change of variables from x to z,\n",
    "    where z = x - x_star. (For translating a quadratic problem.)\n",
    "    Returns triple H_of_x consisting of matrix H, vector h, constant kh.\n",
    "\n",
    "    Arguments\n",
    "    G_of_x consists of matrix G, vector g, constant kg.\n",
    "    x_star is translation.\n",
    "\n",
    "    Assume x_star is min-norm solution of Ax=b.\n",
    "    \"\"\"\n",
    "    G,g,kg = G_of_x\n",
    "    if g == 0\n",
    "        g = zeros(size(G,1),1)\n",
    "    end\n",
    "    H = G\n",
    "    h = g + 2*G*x_star\n",
    "    kh = kg + x_star'*G*x_star + g'*x_star\n",
    "    return (H,h,kh[1])\n",
    "end"
   ]
  },
  {
   "cell_type": "markdown",
   "metadata": {},
   "source": [
    "Use the above methods to translate the problem:"
   ]
  },
  {
   "cell_type": "code",
   "execution_count": 6,
   "metadata": {
    "collapsed": true
   },
   "outputs": [
    {
     "data": {
      "text/plain": [
       "(\n",
       "279x279 Array{Float64,2}:\n",
       " 0.0  0.0  0.0  0.0  0.0  0.0  0.0  0.0  …  0.0  0.0  0.0  0.0  0.0  0.0  0.0\n",
       " 0.0  0.0  0.0  0.0  0.0  0.0  0.0  0.0     0.0  0.0  0.0  0.0  0.0  0.0  0.0\n",
       " 0.0  0.0  0.0  0.0  0.0  0.0  0.0  0.0     0.0  0.0  0.0  0.0  0.0  0.0  0.0\n",
       " 0.0  0.0  0.0  0.0  0.0  0.0  0.0  0.0     0.0  0.0  0.0  0.0  0.0  0.0  0.0\n",
       " 0.0  0.0  0.0  0.0  0.0  0.0  0.0  0.0     0.0  0.0  0.0  0.0  0.0  0.0  0.0\n",
       " 0.0  0.0  0.0  0.0  0.0  0.0  0.0  0.0  …  0.0  0.0  0.0  0.0  0.0  0.0  0.0\n",
       " 0.0  0.0  0.0  0.0  0.0  0.0  0.0  0.0     0.0  0.0  0.0  0.0  0.0  0.0  0.0\n",
       " 0.0  0.0  0.0  0.0  0.0  0.0  0.0  0.0     0.0  0.0  0.0  0.0  0.0  0.0  0.0\n",
       " 0.0  0.0  0.0  0.0  0.0  0.0  0.0  0.0     0.0  0.0  0.0  0.0  0.0  0.0  0.0\n",
       " 0.0  0.0  0.0  0.0  0.0  0.0  0.0  0.0     0.0  0.0  0.0  0.0  0.0  0.0  0.0\n",
       " 0.0  0.0  0.0  0.0  0.0  0.0  0.0  0.0  …  0.0  0.0  0.0  0.0  0.0  0.0  0.0\n",
       " 0.0  0.0  0.0  0.0  0.0  0.0  0.0  0.0     0.0  0.0  0.0  0.0  0.0  0.0  0.0\n",
       " 0.0  0.0  0.0  0.0  0.0  0.0  0.0  0.0     0.0  0.0  0.0  0.0  0.0  0.0  0.0\n",
       " ⋮                        ⋮              ⋱                 ⋮                 \n",
       " 0.0  0.0  0.0  0.0  0.0  0.0  0.0  0.0     0.0  0.0  0.0  0.0  0.0  0.0  0.0\n",
       " 0.0  0.0  0.0  0.0  0.0  0.0  0.0  0.0     0.0  0.0  0.0  0.0  0.0  0.0  0.0\n",
       " 0.0  0.0  0.0  0.0  0.0  0.0  0.0  0.0     0.0  0.0  0.0  0.0  0.0  0.0  0.0\n",
       " 0.0  0.0  0.0  0.0  0.0  0.0  0.0  0.0  …  0.0  0.0  0.0  0.0  0.0  0.0  0.0\n",
       " 0.0  0.0  0.0  0.0  0.0  0.0  0.0  0.0     0.0  0.0  0.0  0.0  0.0  0.0  0.0\n",
       " 0.0  0.0  0.0  0.0  0.0  0.0  0.0  0.0     0.0  0.0  0.0  0.0  0.0  0.0  0.0\n",
       " 0.0  0.0  0.0  0.0  0.0  0.0  0.0  0.0     0.0  0.0  0.0  0.0  0.0  0.0  0.0\n",
       " 0.0  0.0  0.0  0.0  0.0  0.0  0.0  0.0     0.0  0.0  0.0  0.0  0.0  0.0  0.0\n",
       " 0.0  0.0  0.0  0.0  0.0  0.0  0.0  0.0  …  0.0  0.0  0.0  0.0  0.0  0.0  0.0\n",
       " 0.0  0.0  0.0  0.0  0.0  0.0  0.0  0.0     0.0  0.0  0.0  0.0  1.0  0.0  0.0\n",
       " 0.0  0.0  0.0  0.0  0.0  0.0  0.0  0.0     0.0  0.0  0.0  0.0  0.0  1.0  0.0\n",
       " 0.0  0.0  0.0  0.0  0.0  0.0  0.0  0.0     0.0  0.0  0.0  0.0  0.0  0.0  1.0,\n",
       "\n",
       "279x1 Array{Float64,2}:\n",
       " 0.0\n",
       " 0.0\n",
       " 0.0\n",
       " 0.0\n",
       " 0.0\n",
       " 0.0\n",
       " 0.0\n",
       " 0.0\n",
       " 0.0\n",
       " 0.0\n",
       " 0.0\n",
       " 0.0\n",
       " 0.0\n",
       " ⋮  \n",
       " 0.0\n",
       " 0.0\n",
       " 0.0\n",
       " 0.0\n",
       " 0.0\n",
       " 0.0\n",
       " 0.0\n",
       " 0.0\n",
       " 0.0\n",
       " 0.0\n",
       " 0.0\n",
       " 0.0,\n",
       "\n",
       "-1.0)"
      ]
     },
     "execution_count": 6,
     "metadata": {},
     "output_type": "execute_result"
    }
   ],
   "source": [
    "# Partition A:\n",
    "A1,A2,A3,idx1,idx2,idx3 = partition_A(A,Qobj,T)\n",
    "\n",
    "# Find translation point:\n",
    "x_star = find_x_star(Qobj,A,b,T)\n",
    "\n",
    "# Translate quadratics:\n",
    "G_of_y = translate_quadratic(G_of_x,x_star)\n",
    "Q_of_y = translate_quadratic(Q_of_x,x_star)"
   ]
  },
  {
   "cell_type": "markdown",
   "metadata": {},
   "source": [
    "Quick inspection shows that $G(y)$ has a linear term, but $Q(y)$ does not, as expected."
   ]
  },
  {
   "cell_type": "markdown",
   "metadata": {},
   "source": [
    "## Kernel mapping\n",
    "\n",
    "Here we \"rotate\" by $N^\\top$, where $N$ consists of $k$ columns spanning $\\mathcal{N}(A)$."
   ]
  },
  {
   "cell_type": "markdown",
   "metadata": {},
   "source": [
    "The following method rotates a quadratic:"
   ]
  },
  {
   "cell_type": "code",
   "execution_count": 7,
   "metadata": {
    "collapsed": false
   },
   "outputs": [
    {
     "data": {
      "text/plain": [
       "rotate_quadratic (generic function with 1 method)"
      ]
     },
     "execution_count": 7,
     "metadata": {},
     "output_type": "execute_result"
    }
   ],
   "source": [
    "function rotate_quadratic(G_of_x,R)\n",
    "    \"\"\" Rotate quadratic G_of_x by\n",
    "    rotation matrix R.\n",
    "    \"\"\"\n",
    "    G,g,kg = G_of_x\n",
    "    return (R*G*R',R*g,kg)\n",
    "end"
   ]
  },
  {
   "cell_type": "markdown",
   "metadata": {},
   "source": [
    "This method finds $N$:"
   ]
  },
  {
   "cell_type": "code",
   "execution_count": 8,
   "metadata": {
    "collapsed": false
   },
   "outputs": [
    {
     "data": {
      "text/plain": [
       "kernel_rotation (generic function with 1 method)"
      ]
     },
     "execution_count": 8,
     "metadata": {},
     "output_type": "execute_result"
    }
   ],
   "source": [
    "function kernel_rotation(A)\n",
    "    \"\"\" Find an orthonormal basis for the \n",
    "    nullspace of A. This matrix may be used\n",
    "    to rotate a temporal instanton problem\n",
    "    instance.\n",
    "    \"\"\"\n",
    "    m,n = size(A)\n",
    "    dim_N = n - rank(A)\n",
    "    # if A has full row rank:\n",
    "    # dim_N = n - m\n",
    "    q = qr(A'; thin=false)[1]\n",
    "    R = circshift(q,(0,dim_N))\n",
    "    return R\n",
    "end"
   ]
  },
  {
   "cell_type": "markdown",
   "metadata": {},
   "source": [
    "Here we find and partition $N$, then rotate our objective and constraint quadratics by it:"
   ]
  },
  {
   "cell_type": "code",
   "execution_count": 9,
   "metadata": {
    "collapsed": true
   },
   "outputs": [
    {
     "data": {
      "text/plain": [
       "(\n",
       "54x54 Array{Float64,2}:\n",
       "  8.57715e-6  -7.83568e-6   8.32729e-6  …  -4.07499e-6  -9.85393e-6\n",
       " -7.83568e-6   1.91934e-5   5.16678e-6      3.09765e-6   1.42626e-5\n",
       "  8.32729e-6   5.16678e-6   3.24455e-5     -2.57993e-6  -2.01826e-6\n",
       " -1.53017e-6   1.33535e-5   8.37457e-6     -4.28291e-7   6.46892e-6\n",
       "  3.71994e-7   1.28016e-5   2.91055e-7     -3.50642e-6   2.76647e-6\n",
       " -2.11083e-7   1.47391e-5  -1.14544e-5  …  -5.69497e-6   1.74543e-6\n",
       " -2.1289e-6    1.01688e-5   2.87208e-5      4.74971e-6   1.00533e-5\n",
       "  3.44011e-6   8.8652e-6    3.51056e-6     -4.63256e-6  -9.91135e-7\n",
       " -3.34661e-6   1.28924e-5   7.6256e-6       1.16143e-6   8.22289e-6\n",
       " -4.765e-6     1.32255e-5   1.22824e-5      3.21765e-6   1.07152e-5\n",
       " -1.75752e-6   9.48476e-6   2.5917e-5   …   4.06274e-6   8.96682e-6\n",
       " -2.55424e-6   1.02789e-5   1.16742e-5      1.88109e-6   7.44803e-6\n",
       " -7.16027e-6   1.42599e-5   9.35653e-6      4.53344e-6   1.30762e-5\n",
       "  ⋮                                     ⋱                          \n",
       " -1.52987e-6  -1.7632e-5   -1.55579e-5      2.87189e-6  -5.44579e-6\n",
       "  2.08819e-5  -1.44977e-5   3.01283e-5     -9.21564e-6  -2.10803e-5\n",
       "  3.72591e-6  -3.21e-6     -3.50666e-6     -3.16434e-6  -5.52922e-6\n",
       "  1.90208e-7  -1.16095e-7   4.96261e-6  …   7.97311e-7   6.64734e-7\n",
       "  1.64916e-5  -1.47711e-5   2.45572e-5     -6.29574e-6  -1.73199e-5\n",
       " -6.10378e-6  -8.40885e-7  -3.49122e-6      4.97909e-6   5.8895e-6 \n",
       " -1.45211e-5   1.09559e-5  -1.82598e-5      6.69606e-6   1.5362e-5 \n",
       "  9.39113e-6   4.15839e-6   8.73712e-6     -7.74811e-6  -7.75019e-6\n",
       " -2.51648e-6   4.17472e-6  -7.49204e-7  …   1.04207e-6   3.65694e-6\n",
       "  7.29028e-6  -5.59053e-6   9.28643e-6     -3.31647e-6  -7.71275e-6\n",
       " -4.07499e-6   3.09765e-6  -2.57993e-6      2.35367e-6   4.77944e-6\n",
       " -9.85393e-6   1.42626e-5  -2.01826e-6      4.77944e-6   1.39776e-5,\n",
       "\n",
       "54x1 Array{Float64,2}:\n",
       " 0.0\n",
       " 0.0\n",
       " 0.0\n",
       " 0.0\n",
       " 0.0\n",
       " 0.0\n",
       " 0.0\n",
       " 0.0\n",
       " 0.0\n",
       " 0.0\n",
       " 0.0\n",
       " 0.0\n",
       " 0.0\n",
       " ⋮  \n",
       " 0.0\n",
       " 0.0\n",
       " 0.0\n",
       " 0.0\n",
       " 0.0\n",
       " 0.0\n",
       " 0.0\n",
       " 0.0\n",
       " 0.0\n",
       " 0.0\n",
       " 0.0\n",
       " 0.0,\n",
       "\n",
       "-1.0)"
      ]
     },
     "execution_count": 9,
     "metadata": {},
     "output_type": "execute_result"
    }
   ],
   "source": [
    "N = kernel_rotation(A)[:,1:size(A,2) - rank(A)] # take only first k cols\n",
    "\n",
    "N1,N2,N3 = N[idx1,:],N[idx2,:],N[idx3,:] # partition N\n",
    "\n",
    "G_of_z = rotate_quadratic(G_of_y,N')\n",
    "Q_of_z = rotate_quadratic(Q_of_y,N')"
   ]
  },
  {
   "cell_type": "markdown",
   "metadata": {},
   "source": [
    "Now things are a bit messy. Neither the objective nor the constraint quadratics are diagonal."
   ]
  },
  {
   "cell_type": "markdown",
   "metadata": {},
   "source": [
    "## Constraint Eigendecomposition and rotation\n",
    "\n",
    "Here we change variables from $z$ to $w$ to render the constraint a norm constraint. This is done by letting $w=KU^\\top z$ where `D,U = eig(Q_of_z[1])`. Thus, we can use the previously defined rotation method with $R=(UK^{-1})^\\top$."
   ]
  },
  {
   "cell_type": "markdown",
   "metadata": {},
   "source": [
    "The following method computes $K$:"
   ]
  },
  {
   "cell_type": "code",
   "execution_count": 10,
   "metadata": {
    "collapsed": false
   },
   "outputs": [
    {
     "data": {
      "text/plain": [
       "return_K (generic function with 1 method)"
      ]
     },
     "execution_count": 10,
     "metadata": {},
     "output_type": "execute_result"
    }
   ],
   "source": [
    "function return_K(D)\n",
    "    K = ones(length(D))\n",
    "    K[find(D)] = sqrt(D[find(D)])\n",
    "    K = diagm(K)\n",
    "    return K\n",
    "end"
   ]
  },
  {
   "cell_type": "markdown",
   "metadata": {},
   "source": [
    "This script finds $U$, stores $K$, and uses them rotate the problem:"
   ]
  },
  {
   "cell_type": "code",
   "execution_count": 11,
   "metadata": {
    "collapsed": true
   },
   "outputs": [
    {
     "data": {
      "text/plain": [
       "(\n",
       "54x54 Array{Float64,2}:\n",
       " -3.1655e-22    6.42902e-22  -2.95008e-22  …   3.08591e-18   3.51695e-19\n",
       " -6.32953e-22  -1.18732e-21  -9.85102e-22      1.96146e-18   1.27949e-19\n",
       "  8.97254e-23   4.61686e-21  -1.9837e-21       1.92169e-19  -3.06666e-19\n",
       " -1.46922e-21  -1.16393e-21   1.34214e-21     -9.44767e-19  -5.31573e-19\n",
       "  2.81569e-21   1.09645e-21   1.3895e-22       1.90773e-18   1.08272e-18\n",
       "  9.03974e-22  -1.98887e-21   1.61209e-21  …  -1.12167e-18   1.14232e-18\n",
       " -4.93817e-22   2.01697e-21  -4.6876e-22       1.65762e-18  -3.13352e-19\n",
       "  5.6677e-22    1.52363e-21   2.13615e-21      4.23676e-19   1.25812e-18\n",
       "  2.25058e-21   4.45724e-22  -1.21819e-21      1.97259e-18  -1.4752e-18 \n",
       " -8.67591e-22  -9.32033e-22  -2.60927e-21     -6.91245e-19  -3.91314e-19\n",
       " -2.2538e-22   -4.77284e-22  -2.554e-21    …   7.75556e-19  -2.19673e-19\n",
       "  8.48507e-22   3.28066e-22  -3.42608e-24     -7.2416e-20    2.34875e-19\n",
       "  4.5347e-22    1.17648e-21   6.82619e-22     -6.39781e-19  -3.71642e-19\n",
       "  ⋮                                        ⋱                            \n",
       " -3.76819e-22  -1.43759e-21   7.07375e-22      1.9941e-19    6.61546e-19\n",
       "  1.64772e-21   2.22897e-21  -1.48873e-21     -2.62063e-19   5.15152e-19\n",
       " -3.27942e-23   2.03225e-21  -1.60434e-21      1.33792e-18   4.48448e-20\n",
       "  9.43579e-23  -1.99089e-21  -1.40805e-21  …  -2.13459e-18   9.33647e-19\n",
       "  3.37386e-23  -1.99803e-21  -2.18607e-21     -2.02213e-18   1.02097e-18\n",
       "  1.14151e-21  -3.64966e-22  -5.03047e-21     -1.77964e-18   2.66748e-18\n",
       "  2.26326e-22   1.53751e-21  -9.52478e-22      1.86691e-18   1.16858e-20\n",
       " -5.00612e-23  -2.61989e-21   3.89909e-22      1.08981e-18  -4.53361e-20\n",
       "  1.94357e-21   4.98812e-22  -1.67027e-23  …   1.08118e-18  -8.71014e-19\n",
       " -4.02083e-18   5.57666e-19  -6.81124e-19     -1.19838e-17  -8.43831e-17\n",
       "  2.8637e-18    1.58288e-18  -8.10858e-19      1.0          -7.90366e-17\n",
       "  4.94039e-20  -2.27291e-19  -3.41383e-19     -1.3526e-16    1.0        ,\n",
       "\n",
       "54x1 Array{Float64,2}:\n",
       " 0.0\n",
       " 0.0\n",
       " 0.0\n",
       " 0.0\n",
       " 0.0\n",
       " 0.0\n",
       " 0.0\n",
       " 0.0\n",
       " 0.0\n",
       " 0.0\n",
       " 0.0\n",
       " 0.0\n",
       " 0.0\n",
       " ⋮  \n",
       " 0.0\n",
       " 0.0\n",
       " 0.0\n",
       " 0.0\n",
       " 0.0\n",
       " 0.0\n",
       " 0.0\n",
       " 0.0\n",
       " 0.0\n",
       " 0.0\n",
       " 0.0\n",
       " 0.0,\n",
       "\n",
       "-1.0)"
      ]
     },
     "execution_count": 11,
     "metadata": {},
     "output_type": "execute_result"
    }
   ],
   "source": [
    "D,U = eig(Q_of_z[1])\n",
    "D = round(D,10)\n",
    "\n",
    "K = return_K(D)\n",
    "\n",
    "G_of_w = rotate_quadratic(G_of_z,(U/K)')\n",
    "Q_of_w = rotate_quadratic(Q_of_z,(U/K)')"
   ]
  },
  {
   "cell_type": "markdown",
   "metadata": {},
   "source": [
    "The objective is still a mess, but now `Q_of_w[1]` is all zeros with $T$ ones at the end of its diagonal, as desired."
   ]
  },
  {
   "cell_type": "markdown",
   "metadata": {},
   "source": [
    "## Eliminating $w_1$\n",
    "\n",
    "We are only interested in $w_2$ -- $w_1$ doesn't enter into the constraint, so we will eliminate it using the KKT conditions."
   ]
  },
  {
   "cell_type": "markdown",
   "metadata": {},
   "source": [
    "This means we want to \n",
    "\n",
    "* partition $B=$ `G_of_w[1]` into $B_{11}$, $B_{12}$, and $B_{22}$\n",
    "\n",
    "* partition $b$ into $b_1$ and $b_2$\n",
    "\n",
    "* solve for $\\hat{B}$ and $\\hat{b}$."
   ]
  },
  {
   "cell_type": "markdown",
   "metadata": {},
   "source": [
    "The following methods find and partition $B$ and $b$, and solve for $\\hat{B}$ and $\\hat{b}$:"
   ]
  },
  {
   "cell_type": "code",
   "execution_count": 12,
   "metadata": {
    "collapsed": false
   },
   "outputs": [
    {
     "data": {
      "text/plain": [
       "return_Bhat (generic function with 1 method)"
      ]
     },
     "execution_count": 12,
     "metadata": {},
     "output_type": "execute_result"
    }
   ],
   "source": [
    "function partition_B(G_of_w,Q_of_w)\n",
    "    B,b = G_of_w[1],G_of_w[2]\n",
    "    Q = round(Q_of_w[1])\n",
    "    i2 = find(diag(Q))\n",
    "    i1 = setdiff(1:size(Q,1),i2)\n",
    "    B11,B12,B21,B22 = B[i1,i1],B[i1,i2],B[i2,i1],B[i2,i2]\n",
    "    b1 = b[i1]\n",
    "    b2 = b[i2]\n",
    "    return B11,B12,B21,B22,b1,b2\n",
    "end\n",
    "\n",
    "function return_Bhat(B11,B12,B22,b2)\n",
    "    Bhat = B22 - (B12'/B11)*B12\n",
    "    bhat = b2 - (B12'/B11)*b1\n",
    "    return round(Bhat,10),bhat\n",
    "end"
   ]
  },
  {
   "cell_type": "markdown",
   "metadata": {},
   "source": [
    "This script uses the above methods to return $\\hat{B}$ and $\\hat{b}$ for the RTS-96:"
   ]
  },
  {
   "cell_type": "code",
   "execution_count": 13,
   "metadata": {
    "collapsed": false
   },
   "outputs": [
    {
     "data": {
      "text/plain": [
       "(\n",
       "3x3 Array{Float64,2}:\n",
       " 2796.47     0.0     -0.0 \n",
       "    0.0   2796.47    -0.0 \n",
       "   -0.0     -0.0   2796.47,\n",
       "\n",
       "[-667.413,-1184.36,-661.118])"
      ]
     },
     "execution_count": 13,
     "metadata": {},
     "output_type": "execute_result"
    }
   ],
   "source": [
    "B11,B12,B21,B22,b1,b2 = partition_B(G_of_w,Q_of_w)\n",
    "\n",
    "Bhat,bhat = return_Bhat(B11,B12,B22,b2)"
   ]
  },
  {
   "cell_type": "markdown",
   "metadata": {},
   "source": [
    "Note that $\\hat{B}$ is diagonal."
   ]
  },
  {
   "cell_type": "markdown",
   "metadata": {},
   "source": [
    "___\n",
    "Skipping objective diagonalization because $\\hat{B}$ is already diagonal...\n",
    "___"
   ]
  },
  {
   "cell_type": "markdown",
   "metadata": {},
   "source": [
    "## Solution via first-order optimality conditions\n",
    "\n",
    "We now have\n",
    "\n",
    "\\begin{align*}\n",
    "&& \\min~ w_2^\\top \\hat{B}w_2 + w_2^\\top \\hat{b} \\\\\n",
    "s.t. && w_2^\\top w_2 &= c\n",
    "\\end{align*}\n",
    "\n",
    "Where $\\hat{B}$ is diagonal. When we write the first-order optimality conditions, we obtain a relationship for $\\hat{w}_2$ in terms of $v$:\n",
    "\n",
    "\\begin{align}\n",
    "\\hat{w}_{2,i} &= \\frac{1}{2}\\left(\\frac{\\hat{b}_i}{v - \\hat{B}_{i,i}}\\right)\n",
    "\\end{align}"
   ]
  },
  {
   "cell_type": "markdown",
   "metadata": {},
   "source": [
    "This method takes $v$ as an argument and returns $\\hat{w}_2$ according to the relationship above:"
   ]
  },
  {
   "cell_type": "code",
   "execution_count": 14,
   "metadata": {
    "collapsed": false
   },
   "outputs": [
    {
     "data": {
      "text/plain": [
       "find_w (generic function with 1 method)"
      ]
     },
     "execution_count": 14,
     "metadata": {},
     "output_type": "execute_result"
    }
   ],
   "source": [
    "function find_w(v,D,d)\n",
    "    if v == 0\n",
    "        w = float([-d[i]/(D[i,i]) for i in 1:length(d)])\n",
    "    else\n",
    "        w = float([d[i]/(v - D[i,i]) for i in 1:length(d)])\n",
    "    end\n",
    "    return w\n",
    "end"
   ]
  },
  {
   "cell_type": "markdown",
   "metadata": {},
   "source": [
    "Note that `D` should be $\\hat{B}$ and `d` should be $\\hat{b}/2$."
   ]
  },
  {
   "cell_type": "markdown",
   "metadata": {},
   "source": [
    "Before we can solve the secular equation, we need to rule out the case $v=0$. The following script does this:"
   ]
  },
  {
   "cell_type": "code",
   "execution_count": 15,
   "metadata": {
    "collapsed": false
   },
   "outputs": [],
   "source": [
    "eps = 1e-8\n",
    "w0 = find_w(0,Bhat,bhat/2)\n",
    "\n",
    "c = - Q_of_w[3]\n",
    "\n",
    "if abs((w0'*w0) - c)[1] < eps\n",
    "    println(\"v=0 works!\")\n",
    "end"
   ]
  },
  {
   "cell_type": "markdown",
   "metadata": {},
   "source": [
    "Now we can formulate and solve the secular equation. The general form is:\n",
    "\n",
    "\\begin{align}\n",
    "s(v) &= \\sum_i \\left(\\frac{d_i}{v - D_{i,i}}\\right)^2 = c\n",
    "\\end{align}\n",
    "\n",
    "The following method solves this equation using binary search:"
   ]
  },
  {
   "cell_type": "code",
   "execution_count": 16,
   "metadata": {
    "collapsed": false
   },
   "outputs": [
    {
     "data": {
      "text/plain": [
       "solve_secular (generic function with 1 method)"
      ]
     },
     "execution_count": 16,
     "metadata": {},
     "output_type": "execute_result"
    }
   ],
   "source": [
    "function solve_secular(D,d,c)\n",
    "    \"\"\" Solve the secular equation via binary search.\n",
    "    \"\"\"\n",
    "    eps = 1e-8\n",
    "    solutions = Float64[]\n",
    "    vectors = Array(Vector{Float64},0)\n",
    "    poles = sort(unique(round(diag(D),10)))\n",
    "    \n",
    "    # Each diagonal element is a pole.\n",
    "    for i in 1:length(poles)\n",
    "        \n",
    "        # Head left first:\n",
    "        high = poles[i]\n",
    "        if length(poles) == 1\n",
    "            low = high - high\n",
    "        elseif i == 1\n",
    "            low = high - abs(poles[i] - poles[i+1])\n",
    "        else\n",
    "            low = high - abs(poles[i] - poles[i-1])/2\n",
    "        end\n",
    "        \n",
    "        # Initialize v:\n",
    "        v = (high + low)/2\n",
    "        w = find_w(v,D,d)\n",
    "        diff = (w'*w)[1] - c\n",
    "        diff_old = 0\n",
    "        stall = false\n",
    "        while abs(diff) > eps\n",
    "            if diff == diff_old\n",
    "                stall = true\n",
    "                break\n",
    "            end\n",
    "            if diff > 0\n",
    "                high = v\n",
    "            else\n",
    "                low = v\n",
    "            end\n",
    "            v = (high + low)/2\n",
    "            w = find_w(v,D,d)\n",
    "            diff_old = diff\n",
    "            diff = (w'*w)[1] - c\n",
    "        end\n",
    "        if !stall\n",
    "            push!(solutions,v)\n",
    "            push!(vectors,w)\n",
    "        end\n",
    "        \n",
    "        # Now head right:\n",
    "        high = poles[i]\n",
    "        if length(poles) == 1\n",
    "            low = high + high\n",
    "        elseif i == length(poles)\n",
    "            low = high + abs(poles[i] - poles[i-1])\n",
    "        else\n",
    "            low = high + abs(poles[i] - poles[i+1])/2\n",
    "        end\n",
    "        \n",
    "        v = (high + low)/2\n",
    "        w = find_w(v,D,d)\n",
    "        diff = (w'*w)[1] - c\n",
    "        diff_old = 0\n",
    "        stall = false\n",
    "        while abs(diff) > eps\n",
    "            if diff == diff_old\n",
    "                stall = true\n",
    "                break\n",
    "            end\n",
    "            if diff > 0\n",
    "                high = v\n",
    "            else\n",
    "                low = v\n",
    "            end\n",
    "            v = (high + low)/2\n",
    "            w = find_w(v,D,d)\n",
    "            diff_old = diff\n",
    "            diff = (w'*w)[1] - c\n",
    "        end\n",
    "        if !stall\n",
    "            push!(solutions,v)\n",
    "            push!(vectors,w)\n",
    "        end\n",
    "    end\n",
    "    return solutions,vectors\n",
    "end"
   ]
  },
  {
   "cell_type": "markdown",
   "metadata": {},
   "source": [
    "This line solves the secular equation for our particular problem:"
   ]
  },
  {
   "cell_type": "code",
   "execution_count": 17,
   "metadata": {
    "collapsed": false
   },
   "outputs": [
    {
     "data": {
      "text/plain": [
       "([2040.62,3552.32],[[0.441499,0.783465,0.437335],[-0.441499,-0.783465,-0.437335]])"
      ]
     },
     "execution_count": 17,
     "metadata": {},
     "output_type": "execute_result"
    }
   ],
   "source": [
    "solutions, vectors = solve_secular(Bhat,bhat/2,-Q_of_w[3])"
   ]
  },
  {
   "cell_type": "markdown",
   "metadata": {},
   "source": [
    "Let's visualize the secular equation:"
   ]
  },
  {
   "cell_type": "code",
   "execution_count": 104,
   "metadata": {
    "collapsed": true
   },
   "outputs": [
    {
     "data": {
      "text/html": [
       "<script charset=\"utf-8\">(function ($, undefined) {\n",
       "\n",
       "    function createElem(tag, attr, content) {\n",
       "\t// TODO: remove jQuery dependency\n",
       "\tvar el = $(\"<\" + tag + \"/>\").attr(attr);\n",
       "\tif (content) {\n",
       "\t    el.append(content);\n",
       "\t}\n",
       "\treturn el[0];\n",
       "    }\n",
       "\n",
       "    // A widget must expose an id field which identifies it to the backend,\n",
       "    // an elem attribute which is will be added to the DOM, and\n",
       "    // a getState() method which returns the value to be sent to the backend\n",
       "    // a sendUpdate() method which sends its current value to the backend\n",
       "    var Widget = {\n",
       "\tid: undefined,\n",
       "\telem: undefined,\n",
       "\tlabel: undefined,\n",
       "\tgetState: function () {\n",
       "\t    return this.elem.value;\n",
       "\t},\n",
       "\tsendUpdate: undefined\n",
       "    };\n",
       "\n",
       "    var Slider = function (typ, id, init) {\n",
       "\tvar attr = { type:  \"range\",\n",
       "\t\t     value: init.value,\n",
       "\t\t     min:   init.min,\n",
       "\t\t     max:   init.max,\n",
       "\t\t     step:  init.step },\n",
       "\t    elem = createElem(\"input\", attr),\n",
       "\t    self = this;\n",
       "\n",
       "\telem.onchange = function () {\n",
       "\t    self.sendUpdate();\n",
       "\t}\n",
       "\n",
       "\tthis.id = id;\n",
       "\tthis.elem = elem;\n",
       "\tthis.label = init.label;\n",
       "\n",
       "\tInputWidgets.commInitializer(this); // Initialize communication\n",
       "    }\n",
       "    Slider.prototype = Widget;\n",
       "\n",
       "    var Checkbox = function (typ, id, init) {\n",
       "\tvar attr = { type: \"checkbox\",\n",
       "\t\t     checked: init.value },\n",
       "\t    elem = createElem(\"input\", attr),\n",
       "\t    self = this;\n",
       "\n",
       "\tthis.getState = function () {\n",
       "\t    return elem.checked;\n",
       "\t}\n",
       "\telem.onchange = function () {\n",
       "\t    self.sendUpdate();\n",
       "\t}\n",
       "\n",
       "\tthis.id = id;\n",
       "\tthis.elem = elem;\n",
       "\tthis.label = init.label;\n",
       "\n",
       "\tInputWidgets.commInitializer(this);\n",
       "    }\n",
       "    Checkbox.prototype = Widget;\n",
       "\n",
       "    var Button = function (typ, id, init) {\n",
       "\tvar attr = { type:    \"button\",\n",
       "\t\t     value:   init.label },\n",
       "\t    elem = createElem(\"input\", attr),\n",
       "\t    self = this;\n",
       "\tthis.getState = function () {\n",
       "\t    return null;\n",
       "\t}\n",
       "\telem.onclick = function () {\n",
       "\t    self.sendUpdate();\n",
       "\t}\n",
       "\n",
       "\tthis.id = id;\n",
       "\tthis.elem = elem;\n",
       "\tthis.label = init.label;\n",
       "\n",
       "\tInputWidgets.commInitializer(this);\n",
       "    }\n",
       "    Button.prototype = Widget;\n",
       "\n",
       "    var Text = function (typ, id, init) {\n",
       "\tvar attr = { type:  \"text\",\n",
       "\t\t     placeholder: init.label,\n",
       "\t\t     value: init.value },\n",
       "\t    elem = createElem(\"input\", attr),\n",
       "\t    self = this;\n",
       "\tthis.getState = function () {\n",
       "\t    return elem.value;\n",
       "\t}\n",
       "\telem.onkeyup = function () {\n",
       "\t    self.sendUpdate();\n",
       "\t}\n",
       "\n",
       "\tthis.id = id;\n",
       "\tthis.elem = elem;\n",
       "\tthis.label = init.label;\n",
       "\n",
       "\tInputWidgets.commInitializer(this);\n",
       "    }\n",
       "    Text.prototype = Widget;\n",
       "\n",
       "    var Textarea = function (typ, id, init) {\n",
       "\tvar attr = { placeholder: init.label },\n",
       "\t    elem = createElem(\"textarea\", attr, init.value),\n",
       "\t    self = this;\n",
       "\tthis.getState = function () {\n",
       "\t    return elem.value;\n",
       "\t}\n",
       "\telem.onchange = function () {\n",
       "\t    self.sendUpdate();\n",
       "\t}\n",
       "\n",
       "\tthis.id = id;\n",
       "\tthis.elem = elem;\n",
       "\tthis.label = init.label;\n",
       "\n",
       "\tInputWidgets.commInitializer(this);\n",
       "    }\n",
       "    Textarea.prototype = Widget;\n",
       "\n",
       "    // RadioButtons\n",
       "    // Dropdown\n",
       "    // HTML\n",
       "    // Latex\n",
       "\n",
       "    var InputWidgets = {\n",
       "\tSlider: Slider,\n",
       "\tCheckbox: Checkbox,\n",
       "\tButton: Button,\n",
       "\tText: Text,\n",
       "\tTextarea: Textarea,\n",
       "\tdebug: false,\n",
       "\tlog: function () {\n",
       "\t    if (InputWidgets.debug) {\n",
       "\t\tconsole.log.apply(console, arguments);\n",
       "\t    }\n",
       "\t},\n",
       "\t// a central way to initalize communication\n",
       "\t// for widgets.\n",
       "\tcommInitializer: function (widget) {\n",
       "\t    widget.sendUpdate = function () {};\n",
       "\t}\n",
       "    };\n",
       "\n",
       "    window.InputWidgets = InputWidgets;\n",
       "\n",
       "})(jQuery, undefined);\n",
       "</script>"
      ]
     },
     "metadata": {},
     "output_type": "display_data"
    },
    {
     "data": {
      "text/html": [
       "<script charset=\"utf-8\">(function (IPython, $, _, MathJax, Widgets) {\n",
       "    $.event.special.destroyed = {\n",
       "\tremove: function(o) {\n",
       "\t    if (o.handler) {\n",
       "\t\to.handler.apply(this, arguments)\n",
       "\t    }\n",
       "\t}\n",
       "    }\n",
       "\n",
       "    var redrawValue = function (container, type, val) {\n",
       "\tvar selector = $(\"<div/>\");\n",
       "\tvar oa = new IPython.OutputArea(_.extend(selector, {\n",
       "\t    selector: selector,\n",
       "\t    prompt_area: true,\n",
       "\t    events: IPython.events,\n",
       "\t    keyboard_manager: IPython.keyboard_manager\n",
       "\t})); // Hack to work with IPython 2.1.0\n",
       "\n",
       "\tswitch (type) {\n",
       "\tcase \"image/png\":\n",
       "            var _src = 'data:' + type + ';base64,' + val;\n",
       "\t    $(container).find(\"img\").attr('src', _src);\n",
       "\t    break;\n",
       "\tdefault:\n",
       "\t    var toinsert = IPython.OutputArea.append_map[type].apply(\n",
       "\t\toa, [val, {}, selector]\n",
       "\t    );\n",
       "\t    $(container).empty().append(toinsert.contents());\n",
       "\t    selector.remove();\n",
       "\t}\n",
       "\tif (type === \"text/latex\" && MathJax) {\n",
       "\t    MathJax.Hub.Queue([\"Typeset\", MathJax.Hub, toinsert.get(0)]);\n",
       "\t}\n",
       "    }\n",
       "\n",
       "\n",
       "    $(document).ready(function() {\n",
       "\tWidgets.debug = false; // log messages etc in console.\n",
       "\tfunction initComm(evt, data) {\n",
       "\t    var comm_manager = data.kernel.comm_manager;\n",
       "        //_.extend(comm_manager.targets, require(\"widgets/js/widget\"))\n",
       "\t    comm_manager.register_target(\"Signal\", function (comm) {\n",
       "            comm.on_msg(function (msg) {\n",
       "                //Widgets.log(\"message received\", msg);\n",
       "                var val = msg.content.data.value;\n",
       "                $(\".signal-\" + comm.comm_id).each(function() {\n",
       "                var type = $(this).data(\"type\");\n",
       "                if (val[type]) {\n",
       "                    redrawValue(this, type, val[type], type);\n",
       "                }\n",
       "                });\n",
       "                delete val;\n",
       "                delete msg.content.data.value;\n",
       "            });\n",
       "\t    });\n",
       "\n",
       "\t    // coordingate with Comm and redraw Signals\n",
       "\t    // XXX: Test using Reactive here to improve performance\n",
       "\t    $([IPython.events]).on(\n",
       "\t\t'output_appended.OutputArea', function (event, type, value, md, toinsert) {\n",
       "\t\t    if (md && md.reactive) {\n",
       "                // console.log(md.comm_id);\n",
       "                toinsert.addClass(\"signal-\" + md.comm_id);\n",
       "                toinsert.data(\"type\", type);\n",
       "                // Signal back indicating the mimetype required\n",
       "                var comm_manager = IPython.notebook.kernel.comm_manager;\n",
       "                var comm = comm_manager.comms[md.comm_id];\n",
       "                comm.then(function (c) {\n",
       "                    c.send({action: \"subscribe_mime\",\n",
       "                       mime: type});\n",
       "                    toinsert.bind(\"destroyed\", function() {\n",
       "                        c.send({action: \"unsubscribe_mime\",\n",
       "                               mime: type});\n",
       "                    });\n",
       "                })\n",
       "\t\t    }\n",
       "\t    });\n",
       "\t}\n",
       "\n",
       "\ttry {\n",
       "\t    // try to initialize right away. otherwise, wait on the status_started event.\n",
       "\t    initComm(undefined, IPython.notebook);\n",
       "\t} catch (e) {\n",
       "\t    $([IPython.events]).on('status_started.Kernel', initComm);\n",
       "\t}\n",
       "    });\n",
       "})(IPython, jQuery, _, MathJax, InputWidgets);\n",
       "</script>"
      ]
     },
     "metadata": {},
     "output_type": "display_data"
    },
    {
     "name": "stderr",
     "output_type": "stream",
     "text": [
      "INFO: Loading help data...\n"
     ]
    }
   ],
   "source": [
    "using Interact\n",
    "using PyPlot"
   ]
  },
  {
   "cell_type": "code",
   "execution_count": 119,
   "metadata": {
    "collapsed": false,
    "scrolled": false
   },
   "outputs": [
    {
     "data": {
      "text/html": [],
      "text/plain": [
       "Slider{Float64}([Input{Float64}] 1.25,\"c\",1.25,0.5:0.05:2.0)"
      ]
     },
     "metadata": {},
     "output_type": "display_data"
    },
    {
     "data": {
      "image/png": "[encoded data removed]",
      "text/plain": [
       "Figure(PyObject <matplotlib.figure.Figure object at 0x7fdb41ea1410>)"
      ]
     },
     "execution_count": 119,
     "metadata": {
      "comm_id": "07851a2e-95d1-47a0-ba9d-69d135646527",
      "reactive": true
     },
     "output_type": "execute_result"
    }
   ],
   "source": [
    "f = figure()\n",
    "poles = sort(unique(round(diag(Bhat),10)))\n",
    "\n",
    "@manipulate for c = 0.5:0.05:2; withfig(f) do\n",
    "        solutions,vectors = solve_secular(Bhat,bhat/2,c)\n",
    "\n",
    "        v_vals = linspace(0.5*minimum(poles),1.5*maximum(poles),10000)\n",
    "        s_vals = [(find_w(i,Bhat,bhat/2)'*find_w(i,Bhat,bhat/2))[1] for i in v_vals]\n",
    "        plot(v_vals,s_vals)\n",
    "        hold = true\n",
    "        plot([v_vals[1],v_vals[end]],[c,c])\n",
    "        ylim([0,3])\n",
    "        scatter(solutions,c*ones(length(solutions)))\n",
    "        legend([\"Secular Equation\",L\"s(v) = c\",\"Found by algorithm\"],fontsize=8)\n",
    "        xlabel(L\"v\")\n",
    "        ylabel(L\"s(v)\")        \n",
    "    end\n",
    "end"
   ]
  },
  {
   "cell_type": "markdown",
   "metadata": {},
   "source": [
    "## Mapping back\n",
    "\n",
    "Having found solutions $\\hat{w}_2^*$, we need to map back to the original problem space."
   ]
  },
  {
   "cell_type": "code",
   "execution_count": 18,
   "metadata": {
    "collapsed": false
   },
   "outputs": [
    {
     "data": {
      "text/plain": [
       "return_xopt (generic function with 1 method)"
      ]
     },
     "execution_count": 18,
     "metadata": {},
     "output_type": "execute_result"
    }
   ],
   "source": [
    "function return_xopt(w2opt,B11,B12,b1,N,U,K,x_star)\n",
    "    w1opt = -B11\\(B12*w2opt + b1/2)\n",
    "    wopt = [w1opt,w2opt]\n",
    "    xopt = (N*U/K)*wopt + x_star\n",
    "    return xopt\n",
    "end"
   ]
  },
  {
   "cell_type": "code",
   "execution_count": 19,
   "metadata": {
    "collapsed": true
   },
   "outputs": [
    {
     "data": {
      "text/plain": [
       "279-element Array{Float64,1}:\n",
       "   0.763317  \n",
       "   3.03236   \n",
       "   3.39841   \n",
       "   3.22306   \n",
       "   3.14139   \n",
       "   4.038     \n",
       "   4.59416   \n",
       "   3.06555   \n",
       "   4.90005   \n",
       " -17.9025    \n",
       "  -7.37709   \n",
       "  -5.21467   \n",
       "   4.49813   \n",
       "   ⋮         \n",
       "  -0.0990153 \n",
       "   0.0721015 \n",
       "   0.176531  \n",
       "  -0.0575429 \n",
       "  -0.00701291\n",
       "   0.242252  \n",
       "  -0.0594341 \n",
       "   0.288992  \n",
       " -45.6281    \n",
       "  -0.606609  \n",
       "  -0.576838  \n",
       "  -0.547068  "
      ]
     },
     "execution_count": 19,
     "metadata": {},
     "output_type": "execute_result"
    }
   ],
   "source": [
    "xopt = return_xopt(vectors[1],B11,B12,b1,N,U,K,x_star)"
   ]
  },
  {
   "cell_type": "markdown",
   "metadata": {},
   "source": [
    "Sanity checks:"
   ]
  },
  {
   "cell_type": "code",
   "execution_count": 20,
   "metadata": {
    "collapsed": false
   },
   "outputs": [
    {
     "data": {
      "text/plain": [
       "2.6403323971635473e-12"
      ]
     },
     "execution_count": 20,
     "metadata": {},
     "output_type": "execute_result"
    }
   ],
   "source": [
    "maximum(abs(A*xopt - b))"
   ]
  },
  {
   "cell_type": "code",
   "execution_count": 21,
   "metadata": {
    "collapsed": false
   },
   "outputs": [
    {
     "data": {
      "text/plain": [
       "1-element Array{Float64,1}:\n",
       " 1.0"
      ]
     },
     "execution_count": 21,
     "metadata": {},
     "output_type": "execute_result"
    }
   ],
   "source": [
    "xopt'*Qtheta*xopt"
   ]
  },
  {
   "cell_type": "markdown",
   "metadata": {},
   "source": [
    "Everything looks good. Time to write a module and condense."
   ]
  }
 ],
 "metadata": {
  "kernelspec": {
   "display_name": "Julia",
   "language": "julia",
   "name": "julia"
  },
  "language_info": {
   "name": "julia",
   "version": "0.3.6"
  }
 },
 "nbformat": 4,
 "nbformat_minor": 0
}
