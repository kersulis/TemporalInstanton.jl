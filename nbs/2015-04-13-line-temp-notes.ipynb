{
 "cells": [
  {
   "cell_type": "markdown",
   "metadata": {},
   "source": [
    "There are four temperature calculations described in the 2012 IEEE standard 738. The first is steady state temperature limit. Next we have temperature change during current step. Third is steady state temperature. Last and most important is dynamic temperature calculation under varying weather and power flow conditions.\n",
    "\n",
    "Line temperature calculations are complex in general. The thermal model must be detailed enough to yield reasonable accuracy. On the other hand, there are many parameters for which we may have only approximate values, or even no values at all. Our line loss calculations, for instance, are approximate. We can demand no greater temperature accuracy than our least tight approximation will afford.\n",
    "\n",
    "Let's step through an example line temperature calculation.\n",
    "\n",
    "There are two loops. The first loop addresses changing weather and power flow conditions. This outer loop addresses time slices on the order of ten minutes long. Within each ten-minute slice, ambient conditions and line current are assumed to be constant. An inner calculation loop with time steps on the order of ten seconds is used to \"integrate\" the line temperature. The smaller the time step, the more accurate this calculation will be. The output of the inner loop is a $\\Delta T$ which is used to adjust the line temperature before the next outer loop iteration.\n",
    "\n",
    "The following example is included in the 2012 IEEE Standard 738."
   ]
  }
 ],
 "metadata": {
  "kernelspec": {
   "display_name": "Julia",
   "language": "julia",
   "name": "julia"
  },
  "language_info": {
   "name": "julia",
   "version": "0.3.7"
  }
 },
 "nbformat": 4,
 "nbformat_minor": 0
}
