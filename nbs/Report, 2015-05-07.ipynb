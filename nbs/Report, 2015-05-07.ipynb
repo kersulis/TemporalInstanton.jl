{
 "cells": [
  {
   "cell_type": "markdown",
   "metadata": {},
   "source": [
    "# From IVP to optimization constraint\n",
    "\n",
    "The important thing to note about the temperature IVP solution is that it is influenced only by initial temperature and the angle difference during each time interval. There is therefore a recursive relationship between final temperature and initial temperature that involves only the anle differences. Suppose there are three time intervals, $t_1$, $t_2$, and $t_3$. Then the line temperature at the end of the third interval is given by\n",
    "\n",
    "\\begin{align}\n",
    "T(t_3) &= k_3 e^{(t_3-t_2)a} - \\frac{b_3}{a} \\\\\n",
    "&= \\left[k_2 e^{(t_2-t_1)a} - \\frac{b_2}{a} + \\frac{b_3}{a}\\right]e^{(t_3-t_2)a} - \\frac{b_3}{a} \\\\\n",
    "&= \\left[\\left( T(t_1) + \\frac{b_2}{a} \\right)e^{(t_2-t_1)a} - \\frac{b_2}{a} + \\frac{b_3}{a}\\right]e^{(t_3-t_2)a} - \\frac{b_3}{a} \\\\\n",
    "&= \\left\\lbrace\\left[\\left(T(t_0) + \\frac{b_1}{a}\\right) e^{(t_1-t_0)a} - \\frac{b_1}{a} + \\frac{b_2}{a}\\right]e^{(t_2-t_1)a} - \\frac{b_2}{a} + \\frac{b_3}{a}\\right\\rbrace e^{(t_3-t_2)a} - \\frac{b_3}{a}\n",
    "\\end{align}\n",
    "\n",
    "The recursive pattern is apparent. Because all time intervals are the same length, $e^{(t_3-t_2)a} = e^{(t_2-t_1)a} = e^{(t_1-t_0)a}$, and we can distribute in the last line above to obtain\n",
    "\n",
    "\\begin{align}\n",
    "T(t_3) &= (e^{(t_1-t_0)a})^3\\left(T(t_0) + \\frac{b_1}{a}\\right) + (e^{(t_1-t_0)a})^2\\left(- \\frac{b_1}{a} + \\frac{b_2}{a}\\right) + (e^{(t_1-t_0)a})\\left(- \\frac{b_2}{a} + \\frac{b_3}{a}\\right) - \\frac{b_3}{a}\n",
    "\\end{align}\n",
    "\n",
    "Because power flow data enters through the $b_i$, it makes sense to group terms accordingly:\n",
    "\n",
    "\\begin{align}\n",
    "T(t_3) &= ((e^{(t_1-t_0)a})^3T(t_0) + \\left(\\frac{(e^{(t_1-t_0)a})^3}{a} - \\frac{(e^{(t_1-t_0)a})^2}{a}\\right)b_1 + \\left( \\frac{(e^{(t_1-t_0)a})^2}{a} - \\frac{(e^{(t_1-t_0)a})^1}{a}\\right)b_2 + \\left(\\frac{e^{(t_1-t_0)a}}{a} - \\frac{1}{a}\\right) b_3\n",
    "\\end{align}"
   ]
  },
  {
   "cell_type": "markdown",
   "metadata": {},
   "source": [
    "The pattern in the above expression makes it easy to extend $T(t_3)$ to cover the general case $T(t_n)$:\n",
    "\n",
    "\\begin{align}\n",
    "T(t_n) &= (e^{(t_1 - t_0)a})^n T(t_0) + \\frac{1}{a} \\sum_{i=1}^n \\left( (e^{(t_1-t_0)a})^i - (e^{(t_1-t_0)a})^{i-1} \\right)b_{n-i+1}\n",
    "\\end{align}\n",
    "\n",
    "Ultimately the above expression will be used to constrain a line's final temperature to some limiting value. The remainder of this section will relate the expression back to power flow angles so it can be \"plugged in\" to the optimization framework."
   ]
  },
  {
   "cell_type": "markdown",
   "metadata": {},
   "source": [
    "Recall that $b_n$ depends on the angle difference at time $t_n$:\n",
    "\n",
    "\\begin{align}\n",
    "b_n &= \\frac{1}{mC_p} \\left[ \\frac{r_{ij}}{x_{ij}^2}\\cdot \\frac{S_b}{3L_{ij}} \\theta_{ij}(t_n)^2 + \\eta_cT_\\text{amb} - \\eta_r\\left((T_\\text{mid} + 273)^4 - (T_\\text{amb} + 273)^4\\right) + 4\\eta_rT_\\text{mid}(T_\\text{mid} + 273)^3 + q_s \\right] \\\\\n",
    "&= c\\theta_{ij}(t_n)^2 + d\n",
    "\\end{align}\n",
    "\n",
    "where\n",
    "\n",
    "\\begin{align}\n",
    "c &= \\frac{r_{ij}S_b}{3 mC_p x_{ij}^2L_{ij}} & d &= \\frac{1}{mC_p}\\left[ \\eta_cT_\\text{amb} - \\eta_r\\left((T_\\text{mid} + 273)^4 - (T_\\text{amb} + 273)^4\\right) + 4\\eta_rT_\\text{mid}(T_\\text{mid} + 273)^3 + q_s \\right]\n",
    "\\end{align}"
   ]
  },
  {
   "cell_type": "markdown",
   "metadata": {},
   "source": [
    "Substitute into the temperature equation:\n",
    "\n",
    "\\begin{align}\n",
    "T(t_n) &= (e^{(t_1 - t_0)a})^n T(t_0) + \\frac{1}{a} \\sum_{i=1}^n \\left( (e^{(t_1-t_0)a})^i - (e^{(t_1-t_0)a})^{i-1} \\right)(c\\theta_{ij}(t_{n-i+1})^2 + d)\n",
    "\\end{align}"
   ]
  },
  {
   "cell_type": "markdown",
   "metadata": {},
   "source": [
    "Expand the sum term:\n",
    "\n",
    "\\begin{align}\n",
    "\\frac{1}{a} \\sum_{i=1}^n \\left( (e^{(t_1-t_0)a})^i - (e^{(t_1-t_0)a})^{i-1} \\right)(c\\theta_{ij}(t_{n-i+1})^2 + d) &= \\frac{c}{a}\\left[ \\sum_{i=1}^n \\left( (e^{(t_1-t_0)a})^i - (e^{(t_1-t_0)a})^{i-1} \\right)\\theta_{ij}(t_{n-i+1})^2\\right] + \\\\ & \\qquad + \\frac{d}{a}\\left[ \\sum_{i=1}^n \\left( (e^{(t_1-t_0)a})^i - (e^{(t_1-t_0)a})^{i-1} \\right)\\right] \n",
    "\\end{align}\n",
    "\n",
    "Substitute into the line temperature equation, introducing the constant $f$ to keep things a bit neater:\n",
    "\n",
    "\\begin{align}\n",
    "T(t_n) &= f + \\frac{c}{a}\\left[ \\sum_{i=1}^n \\left( (e^{(t_1-t_0)a})^i - (e^{(t_1-t_0)a})^{i-1} \\right)\\theta_{ij}(t_{n-i+1})^2\\right]\n",
    "\\end{align}\n",
    "\n",
    "where\n",
    "\n",
    "\\begin{align}\n",
    "f &= (e^{(t_1 - t_0)a})^n T(t_0) + \\frac{d}{a}\\left[ \\sum_{i=1}^n \\left( (e^{(t_1-t_0)a})^i - (e^{(t_1-t_0)a})^{i-1} \\right)\\right]\n",
    "\\end{align}"
   ]
  },
  {
   "cell_type": "markdown",
   "metadata": {},
   "source": [
    "Solve for angle differences:\n",
    "\n",
    "\\begin{align}\n",
    "\\sum_{i=1}^n \\left( (e^{(t_1-t_0)a})^i - (e^{(t_1-t_0)a})^{i-1} \\right)\\theta_{ij}(t_{n-i+1})^2 &= \\frac{a}{c}(T(t_n) - f)\n",
    "\\end{align}"
   ]
  },
  {
   "cell_type": "markdown",
   "metadata": {},
   "source": [
    "Now define $\\hat{\\theta}_{ij}(t_{k})=  \\theta_{ij}(t_k)\\sqrt{ (e^{(t_1-t_0)a})^{n-k+1} - (e^{(t_1-t_0)a})^{n-k} } $ to obtain\n",
    "\n",
    "\\begin{align}\n",
    "\\sum_{k=1}^n \\hat{\\theta}_{ij}(t_{k})^2 &= \\frac{a}{c}\\left(T(t_n) - f\\right)\n",
    "\\end{align}\n",
    "\n",
    "This expression may be used to constrain line temperature to be equal to some limiting value by the end of the last time interval."
   ]
  },
  {
   "cell_type": "markdown",
   "metadata": {},
   "source": [
    "## Summary of line temperature constraint\n",
    "\n",
    "Suppose our time horizon consists of $n$ intervals, each on the order of ten minutes long. Power flow data is updated after each interval, but all other parameters remain constant. We choose a single transmission line in the network, the line between nodes $i$ and $j$. This line has a thermal limit of $T_\\text{lim}$ degrees Celsius. We can constrain the line's temperature to be equal to this limiting value by enforcing the second-order constraint:\n",
    "\n",
    "\\begin{align}\n",
    "\\sum_{k=1}^n \\hat{\\theta}_{ij}(t_k)^2 &= \\frac{a}{c}\\left(T_\\text{lim} - f\\right)\n",
    "\\end{align}\n",
    "\n",
    "where\n",
    "\n",
    "* $\\hat{\\theta}_{ij}(t_{k})=  \\theta_{ij}(t_k)\\sqrt{ (e^{(t_1-t_0)a})^{n-k+1} - (e^{(t_1-t_0)a})^{n-k} } $\n",
    "    * $\\theta_{ij}(t_k)$ is the angle difference across line $ij$ at time interval $t_k$.\n",
    "    * $t_1-t_0$ is the length of each time interval (in seconds)\n",
    "* $a = \\frac{1}{mC_p}\\left[ -\\eta_c - 4\\eta_r(T_\\text{mid} + 273)^3 \\right]$ has units of $s^{-1}$\n",
    "    * $mC_p$ is the heat capacity, with units of J/m-$^\\circ$C\n",
    "    * $\\eta_c$ is the conductive heat loss rate coefficient, with units of W/m-$^\\circ$C\n",
    "    * $\\eta_r$ is the conductive heat loss rate coefficient, with units of W/m-$^\\circ$C$^4$\n",
    "    * $T_\\text{mid}$ is the average of ambient temperature $T_\\text{amb}$ and limit temperature $T_\\text{lim}$, in Celsius\n",
    "* $c = \\frac{r_{ij}S_b}{3 mC_p x_{ij}^2L_{ij}}$ is a constant with units of W/m\n",
    "    * $r_{ij}$ is resistance of line $ij$ in per unit\n",
    "    * $x_{ij}$ is reactance of line $ij$ in per unit\n",
    "    * $S_b$ is the system base (e.g. 100 MVA)\n",
    "    * $L_{ij}$ is the length of one phase of line $ij$, in m\n",
    "* $f = (e^{(t_1 - t_0)a})^n T(t_0) + \\frac{d}{a}\\left[ \\sum_{i=1}^n \\left( (e^{(t_1-t_0)a})^i - (e^{(t_1-t_0)a})^{i-1} \\right)\\right]$ is a constant with units of degrees Celsius\n",
    "    * $T(t_0)$ is the line's initial temperature (steady state temperature under base case power flow condition)\n",
    "    * $d = \\frac{1}{mC_p}\\left[ \\eta_cT_\\text{amb} - \\eta_r\\left((T_\\text{mid} + 273)^4 - (T_\\text{amb} + 273)^4\\right) + 4\\eta_rT_\\text{mid}(T_\\text{mid} + 273)^3 + q_s \\right]$ is a constant with units of W/m\n",
    "        * $q_s$ is the solar heat gain rate in W/m"
   ]
  }
 ],
 "metadata": {
  "kernelspec": {
   "display_name": "Julia",
   "language": "julia",
   "name": "julia"
  },
  "language_info": {
   "name": "julia",
   "version": "0.3.7"
  }
 },
 "nbformat": 4,
 "nbformat_minor": 0
}
