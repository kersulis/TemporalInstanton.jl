{
 "cells": [
  {
   "cell_type": "markdown",
   "metadata": {},
   "source": [
    "Let's start by importing RTS-96 data:"
   ]
  },
  {
   "cell_type": "code",
   "execution_count": 1,
   "metadata": {
    "collapsed": true
   },
   "outputs": [
    {
     "data": {
      "text/plain": [
       "(\n",
       "279x279 Array{Float64,2}:\n",
       " 1.0  0.0  0.0  0.0  0.0  0.0  0.0  0.0  …  0.0  0.0  0.0  0.0  0.0  0.0  0.0\n",
       " 0.0  1.0  0.0  0.0  0.0  0.0  0.0  0.0     0.0  0.0  0.0  0.0  0.0  0.0  0.0\n",
       " 0.0  0.0  1.0  0.0  0.0  0.0  0.0  0.0     0.0  0.0  0.0  0.0  0.0  0.0  0.0\n",
       " 0.0  0.0  0.0  1.0  0.0  0.0  0.0  0.0     0.0  0.0  0.0  0.0  0.0  0.0  0.0\n",
       " 0.0  0.0  0.0  0.0  1.0  0.0  0.0  0.0     0.0  0.0  0.0  0.0  0.0  0.0  0.0\n",
       " 0.0  0.0  0.0  0.0  0.0  1.0  0.0  0.0  …  0.0  0.0  0.0  0.0  0.0  0.0  0.0\n",
       " 0.0  0.0  0.0  0.0  0.0  0.0  1.0  0.0     0.0  0.0  0.0  0.0  0.0  0.0  0.0\n",
       " 0.0  0.0  0.0  0.0  0.0  0.0  0.0  1.0     0.0  0.0  0.0  0.0  0.0  0.0  0.0\n",
       " 0.0  0.0  0.0  0.0  0.0  0.0  0.0  0.0     0.0  0.0  0.0  0.0  0.0  0.0  0.0\n",
       " 0.0  0.0  0.0  0.0  0.0  0.0  0.0  0.0     0.0  0.0  0.0  0.0  0.0  0.0  0.0\n",
       " 0.0  0.0  0.0  0.0  0.0  0.0  0.0  0.0  …  0.0  0.0  0.0  0.0  0.0  0.0  0.0\n",
       " 0.0  0.0  0.0  0.0  0.0  0.0  0.0  0.0     0.0  0.0  0.0  0.0  0.0  0.0  0.0\n",
       " 0.0  0.0  0.0  0.0  0.0  0.0  0.0  0.0     0.0  0.0  0.0  0.0  0.0  0.0  0.0\n",
       " ⋮                        ⋮              ⋱                 ⋮                 \n",
       " 0.0  0.0  0.0  0.0  0.0  0.0  0.0  0.0     0.0  0.0  0.0  0.0  0.0  0.0  0.0\n",
       " 0.0  0.0  0.0  0.0  0.0  0.0  0.0  0.0     0.0  0.0  0.0  0.0  0.0  0.0  0.0\n",
       " 0.0  0.0  0.0  0.0  0.0  0.0  0.0  0.0     0.0  0.0  0.0  0.0  0.0  0.0  0.0\n",
       " 0.0  0.0  0.0  0.0  0.0  0.0  0.0  0.0  …  0.0  0.0  0.0  0.0  0.0  0.0  0.0\n",
       " 0.0  0.0  0.0  0.0  0.0  0.0  0.0  0.0     0.0  0.0  0.0  0.0  0.0  0.0  0.0\n",
       " 0.0  0.0  0.0  0.0  0.0  0.0  0.0  0.0     0.0  0.0  0.0  0.0  0.0  0.0  0.0\n",
       " 0.0  0.0  0.0  0.0  0.0  0.0  0.0  0.0     0.0  0.0  0.0  0.0  0.0  0.0  0.0\n",
       " 0.0  0.0  0.0  0.0  0.0  0.0  0.0  0.0     0.0  0.0  0.0  0.0  0.0  0.0  0.0\n",
       " 0.0  0.0  0.0  0.0  0.0  0.0  0.0  0.0  …  0.0  0.0  0.0  0.0  0.0  0.0  0.0\n",
       " 0.0  0.0  0.0  0.0  0.0  0.0  0.0  0.0     0.0  0.0  0.0  0.0  0.0  0.0  0.0\n",
       " 0.0  0.0  0.0  0.0  0.0  0.0  0.0  0.0     0.0  0.0  0.0  0.0  0.0  0.0  0.0\n",
       " 0.0  0.0  0.0  0.0  0.0  0.0  0.0  0.0     0.0  0.0  0.0  0.0  0.0  0.0  0.0,\n",
       "\n",
       "225x279 Array{Float64,2}:\n",
       "  0.0  0.0  0.0  0.0  0.0  0.0  0.0  …     0.0     0.0       0.0  0.0  0.0\n",
       " -1.0  0.0  0.0  0.0  0.0  0.0  0.0        0.0     0.0       0.0  0.0  0.0\n",
       "  0.0  0.0  0.0  0.0  0.0  0.0  0.0        0.0     0.0       0.0  0.0  0.0\n",
       "  0.0  0.0  0.0  0.0  0.0  0.0  0.0        0.0     0.0       0.0  0.0  0.0\n",
       "  0.0  0.0  0.0  0.0  0.0  0.0  0.0        0.0     0.0       0.0  0.0  0.0\n",
       "  0.0  0.0  0.0  0.0  0.0  0.0  0.0  …     0.0     0.0       0.0  0.0  0.0\n",
       "  0.0  0.0  0.0  0.0  0.0  0.0  0.0        0.0     0.0       0.0  0.0  0.0\n",
       "  0.0  0.0  0.0  0.0  0.0  0.0  0.0        0.0     0.0       0.0  0.0  0.0\n",
       "  0.0  0.0  0.0  0.0  0.0  0.0  0.0        0.0     0.0       0.0  0.0  0.0\n",
       "  0.0  0.0  0.0  0.0  0.0  0.0  0.0        0.0     0.0       0.0  0.0  0.0\n",
       "  0.0  0.0  0.0  0.0  0.0  0.0  0.0  …     0.0     0.0       0.0  0.0  0.0\n",
       "  0.0  0.0  0.0  0.0  0.0  0.0  0.0        0.0     0.0       0.0  0.0  0.0\n",
       "  0.0  0.0  0.0  0.0  0.0  0.0  0.0        0.0     0.0       0.0  0.0  0.0\n",
       "  ⋮                        ⋮         ⋱             ⋮                      \n",
       "  0.0  0.0  0.0  0.0  0.0  0.0  0.0        0.0    -0.030303  0.0  0.0  0.0\n",
       "  0.0  0.0  0.0  0.0  0.0  0.0  0.0        0.0     0.0       0.0  0.0  0.0\n",
       "  0.0  0.0  0.0  0.0  0.0  0.0  0.0  …     0.0     0.0       0.0  0.0  0.0\n",
       "  0.0  0.0  0.0  0.0  0.0  0.0  0.0        0.0    -0.030303  0.0  0.0  0.0\n",
       "  0.0  0.0  0.0  0.0  0.0  0.0  0.0        0.0    -0.030303  0.0  0.0  0.0\n",
       "  0.0  0.0  0.0  0.0  0.0  0.0  0.0     -111.111  -0.030303  0.0  0.0  0.0\n",
       "  0.0  0.0  0.0  0.0  0.0  0.0  0.0        0.0     0.0       0.0  0.0  0.0\n",
       "  0.0  0.0  0.0  0.0  0.0  0.0  0.0  …   121.42    0.0       0.0  0.0  0.0\n",
       "  0.0  0.0  0.0  0.0  0.0  0.0  0.0        0.0     0.0       0.0  0.0  0.0\n",
       "  0.0  0.0  0.0  0.0  0.0  0.0  0.0        0.0     0.0       1.0  0.0  0.0\n",
       "  0.0  0.0  0.0  0.0  0.0  0.0  0.0        0.0     0.0       0.0  1.0  0.0\n",
       "  0.0  0.0  0.0  0.0  0.0  0.0  0.0        0.0     0.0       0.0  0.0  1.0,\n",
       "\n",
       "FloatingPoint[1.01328700708,1.1697435536499703,-1.17165575142,-0.4835404688399999,-0.4649427585,-0.89269009632,0.7817007450400002,-0.3158626203999999,-1.1344603307399999,-1.26464430312  …  -0.7532072687699999,3.6,2.7,5.9399999999999995,0.0,0.0,0.0,0.0,0.0,0.0],\n",
       "279x279 Array{Float64,2}:\n",
       " 0.0  0.0  0.0  0.0  0.0  0.0  0.0  0.0  …  0.0  0.0  0.0  0.0  0.0  0.0  0.0\n",
       " 0.0  0.0  0.0  0.0  0.0  0.0  0.0  0.0     0.0  0.0  0.0  0.0  0.0  0.0  0.0\n",
       " 0.0  0.0  0.0  0.0  0.0  0.0  0.0  0.0     0.0  0.0  0.0  0.0  0.0  0.0  0.0\n",
       " 0.0  0.0  0.0  0.0  0.0  0.0  0.0  0.0     0.0  0.0  0.0  0.0  0.0  0.0  0.0\n",
       " 0.0  0.0  0.0  0.0  0.0  0.0  0.0  0.0     0.0  0.0  0.0  0.0  0.0  0.0  0.0\n",
       " 0.0  0.0  0.0  0.0  0.0  0.0  0.0  0.0  …  0.0  0.0  0.0  0.0  0.0  0.0  0.0\n",
       " 0.0  0.0  0.0  0.0  0.0  0.0  0.0  0.0     0.0  0.0  0.0  0.0  0.0  0.0  0.0\n",
       " 0.0  0.0  0.0  0.0  0.0  0.0  0.0  0.0     0.0  0.0  0.0  0.0  0.0  0.0  0.0\n",
       " 0.0  0.0  0.0  0.0  0.0  0.0  0.0  0.0     0.0  0.0  0.0  0.0  0.0  0.0  0.0\n",
       " 0.0  0.0  0.0  0.0  0.0  0.0  0.0  0.0     0.0  0.0  0.0  0.0  0.0  0.0  0.0\n",
       " 0.0  0.0  0.0  0.0  0.0  0.0  0.0  0.0  …  0.0  0.0  0.0  0.0  0.0  0.0  0.0\n",
       " 0.0  0.0  0.0  0.0  0.0  0.0  0.0  0.0     0.0  0.0  0.0  0.0  0.0  0.0  0.0\n",
       " 0.0  0.0  0.0  0.0  0.0  0.0  0.0  0.0     0.0  0.0  0.0  0.0  0.0  0.0  0.0\n",
       " ⋮                        ⋮              ⋱                 ⋮                 \n",
       " 0.0  0.0  0.0  0.0  0.0  0.0  0.0  0.0     0.0  0.0  0.0  0.0  0.0  0.0  0.0\n",
       " 0.0  0.0  0.0  0.0  0.0  0.0  0.0  0.0     0.0  0.0  0.0  0.0  0.0  0.0  0.0\n",
       " 0.0  0.0  0.0  0.0  0.0  0.0  0.0  0.0     0.0  0.0  0.0  0.0  0.0  0.0  0.0\n",
       " 0.0  0.0  0.0  0.0  0.0  0.0  0.0  0.0  …  0.0  0.0  0.0  0.0  0.0  0.0  0.0\n",
       " 0.0  0.0  0.0  0.0  0.0  0.0  0.0  0.0     0.0  0.0  0.0  0.0  0.0  0.0  0.0\n",
       " 0.0  0.0  0.0  0.0  0.0  0.0  0.0  0.0     0.0  0.0  0.0  0.0  0.0  0.0  0.0\n",
       " 0.0  0.0  0.0  0.0  0.0  0.0  0.0  0.0     0.0  0.0  0.0  0.0  0.0  0.0  0.0\n",
       " 0.0  0.0  0.0  0.0  0.0  0.0  0.0  0.0     0.0  0.0  0.0  0.0  0.0  0.0  0.0\n",
       " 0.0  0.0  0.0  0.0  0.0  0.0  0.0  0.0  …  0.0  0.0  0.0  0.0  0.0  0.0  0.0\n",
       " 0.0  0.0  0.0  0.0  0.0  0.0  0.0  0.0     0.0  0.0  0.0  0.0  1.0  0.0  0.0\n",
       " 0.0  0.0  0.0  0.0  0.0  0.0  0.0  0.0     0.0  0.0  0.0  0.0  0.0  1.0  0.0\n",
       " 0.0  0.0  0.0  0.0  0.0  0.0  0.0  0.0     0.0  0.0  0.0  0.0  0.0  0.0  1.0)"
      ]
     },
     "execution_count": 1,
     "metadata": {},
     "output_type": "execute_result"
    }
   ],
   "source": [
    "####### IMPORTS: DATA ACQUISITION ########\n",
    "include(\"../src/tmp_inst_rts96.jl\")\n",
    "\n",
    "psData = psDataLoad()\n",
    "\n",
    "# unpack psDL (boilerplate):\n",
    "(Sb,f,t,r,x,b,Y,bustype,\n",
    "Gp,Gq,Dp,Dq,Rp,Rq,\n",
    "Pmax,Pmin,Qmax,Qmin,Plim,\n",
    "Vg,Vceiling,Vfloor,\n",
    "busIdx,N,Nr,Ng,k) = unpack_psDL(psData)\n",
    "\n",
    "####### IMPORTS: INSTANTON CODE ########\n",
    "# Get instanton code into workspace:\n",
    "include(\"../src/TemporalInstanton.jl\")\n",
    "include(\"../src/TrustRegionSubproblem.jl\")\n",
    "\n",
    "using TemporalInstanton, TrustRegionSubproblem\n",
    "\n",
    "####### DATA LINKING ########\n",
    "# Static\n",
    "Ridx = find(Rp) # Vector of renewable nodes\n",
    "Y = full(Y) # Full admittance matrix (ref not removed)\n",
    "ref = 1 # Index of ref node\n",
    "k = k # Conventional generator participation factors\n",
    "tau = 1. # Heating constant\n",
    "G0 = [Gp,Gp.*0.95,Gp.*0.9]\n",
    "D0 = [Dp,Dp.*0.95,Dp.*0.9]\n",
    "P0 = [Rp,Rp,Rp]\n",
    "kQobj = 0 # Should always be zero; objective has no constant term\n",
    "c = 10. # RHS of line temperature constraint\n",
    "kQtheta = -c # Move to LHS so we have Q(z) = 0\n",
    "\n",
    "T = int(length(G0)/size(Y,1))\n",
    "\n",
    "# Changing:\n",
    "lines = [(f[i],t[i]) for i in 1:length(f)];\n",
    "\n",
    "# For a single line:\n",
    "line = lines[48]\n",
    "\n",
    "# Create instance of instanton problem\n",
    "Qobj,A,b,Qtheta = temporalInstanton(Ridx,Y,ref,k,tau,line,G0,P0,D0)"
   ]
  },
  {
   "cell_type": "code",
   "execution_count": 2,
   "metadata": {
    "collapsed": true
   },
   "outputs": [
    {
     "data": {
      "text/plain": [
       "(\n",
       "279x279 Array{Float64,2}:\n",
       " 0.0  0.0  0.0  0.0  0.0  0.0  0.0  0.0  …  0.0  0.0  0.0  0.0  0.0  0.0  0.0\n",
       " 0.0  0.0  0.0  0.0  0.0  0.0  0.0  0.0     0.0  0.0  0.0  0.0  0.0  0.0  0.0\n",
       " 0.0  0.0  0.0  0.0  0.0  0.0  0.0  0.0     0.0  0.0  0.0  0.0  0.0  0.0  0.0\n",
       " 0.0  0.0  0.0  0.0  0.0  0.0  0.0  0.0     0.0  0.0  0.0  0.0  0.0  0.0  0.0\n",
       " 0.0  0.0  0.0  0.0  0.0  0.0  0.0  0.0     0.0  0.0  0.0  0.0  0.0  0.0  0.0\n",
       " 0.0  0.0  0.0  0.0  0.0  0.0  0.0  0.0  …  0.0  0.0  0.0  0.0  0.0  0.0  0.0\n",
       " 0.0  0.0  0.0  0.0  0.0  0.0  0.0  0.0     0.0  0.0  0.0  0.0  0.0  0.0  0.0\n",
       " 0.0  0.0  0.0  0.0  0.0  0.0  0.0  0.0     0.0  0.0  0.0  0.0  0.0  0.0  0.0\n",
       " 0.0  0.0  0.0  0.0  0.0  0.0  0.0  0.0     0.0  0.0  0.0  0.0  0.0  0.0  0.0\n",
       " 0.0  0.0  0.0  0.0  0.0  0.0  0.0  0.0     0.0  0.0  0.0  0.0  0.0  0.0  0.0\n",
       " 0.0  0.0  0.0  0.0  0.0  0.0  0.0  0.0  …  0.0  0.0  0.0  0.0  0.0  0.0  0.0\n",
       " 0.0  0.0  0.0  0.0  0.0  0.0  0.0  0.0     0.0  0.0  0.0  0.0  0.0  0.0  0.0\n",
       " 0.0  0.0  0.0  0.0  0.0  0.0  0.0  0.0     0.0  0.0  0.0  0.0  0.0  0.0  0.0\n",
       " ⋮                        ⋮              ⋱                 ⋮                 \n",
       " 0.0  0.0  0.0  0.0  0.0  0.0  0.0  0.0     0.0  0.0  0.0  0.0  0.0  0.0  0.0\n",
       " 0.0  0.0  0.0  0.0  0.0  0.0  0.0  0.0     0.0  0.0  0.0  0.0  0.0  0.0  0.0\n",
       " 0.0  0.0  0.0  0.0  0.0  0.0  0.0  0.0     0.0  0.0  0.0  0.0  0.0  0.0  0.0\n",
       " 0.0  0.0  0.0  0.0  0.0  0.0  0.0  0.0  …  0.0  0.0  0.0  0.0  0.0  0.0  0.0\n",
       " 0.0  0.0  0.0  0.0  0.0  0.0  0.0  0.0     0.0  0.0  0.0  0.0  0.0  0.0  0.0\n",
       " 0.0  0.0  0.0  0.0  0.0  0.0  0.0  0.0     0.0  0.0  0.0  0.0  0.0  0.0  0.0\n",
       " 0.0  0.0  0.0  0.0  0.0  0.0  0.0  0.0     0.0  0.0  0.0  0.0  0.0  0.0  0.0\n",
       " 0.0  0.0  0.0  0.0  0.0  0.0  0.0  0.0     0.0  0.0  0.0  0.0  0.0  0.0  0.0\n",
       " 0.0  0.0  0.0  0.0  0.0  0.0  0.0  0.0  …  0.0  0.0  0.0  0.0  0.0  0.0  0.0\n",
       " 0.0  0.0  0.0  0.0  0.0  0.0  0.0  0.0     0.0  0.0  0.0  0.0  1.0  0.0  0.0\n",
       " 0.0  0.0  0.0  0.0  0.0  0.0  0.0  0.0     0.0  0.0  0.0  0.0  0.0  1.0  0.0\n",
       " 0.0  0.0  0.0  0.0  0.0  0.0  0.0  0.0     0.0  0.0  0.0  0.0  0.0  0.0  1.0,\n",
       "\n",
       "0,-10.0)"
      ]
     },
     "execution_count": 2,
     "metadata": {},
     "output_type": "execute_result"
    }
   ],
   "source": [
    "# Build obj and constraint quadratics:\n",
    "G_of_x = (Qobj,0,kQobj)\n",
    "Q_of_x = (Qtheta,0,kQtheta)"
   ]
  },
  {
   "cell_type": "markdown",
   "metadata": {},
   "source": [
    "Ian's most recent set of notes partitions the vector of variables $x$ into three parts:\n",
    "\n",
    "* $x_1\\in\\mathbb{R}^{N_rT}$ contains wind deviations\n",
    "\n",
    "* $x_2\\in\\mathbb{R}^{(N+1)T}$ contains angle and mismatch variables\n",
    "\n",
    "* $x_3\\in\\mathbb{R}^T$ contains angle difference variables involved in line temperature calculation\n",
    "\n",
    "With this notation, the problem becomes\n",
    "\n",
    "\\begin{align}\n",
    "&& \\min~ & x_1^\\top Q_x x_1 \\\\\n",
    "s.t. && Ax &= b \\\\\n",
    "&& x_3^\\top x_3 &= c\n",
    "\\end{align}\n",
    "\n",
    "where $x=[x_1~x_2~x_3]^\\top$.\n",
    "\n",
    "## Translation\n",
    "\n",
    "As always, the first step in solving our problem is translation. We need to go from $Ax=b$ to $Ay=0$, where $y=x-x^*$ and $x^*$ is the translation. It is easy to find and translate by a point in the set $\\{x:Ax=b\\}$, but we have an additional requirement: We don't want to introduce any linear term to the norm constraint.\n",
    "\n",
    "\\begin{align}\n",
    "&& \\min~ & x_3^\\top x_3 \\\\\n",
    "s.t. && A_1x_1 + A_2x_2 + A_3x_3 &= b\n",
    "\\end{align}"
   ]
  },
  {
   "cell_type": "markdown",
   "metadata": {},
   "source": [
    "How do we partition $A$?\n",
    "\n",
    "* $A_1$ contains columns of $A$ corresponding to wind deviations. The indices of these columns are indices for which $Q_{obj}$ is nonero.\n",
    "\n",
    "* $A_2$ contains columns corresponding to angles and mismatches. These are all the columns remaining after $A_1$ and $A_3$ are removed.\n",
    "\n",
    "* $A_3$ contains columns corresponding to angle difference variables. This is just the last $T$ columns of $A$.\n",
    "\n",
    "This function partitions $A$:"
   ]
  },
  {
   "cell_type": "code",
   "execution_count": 3,
   "metadata": {
    "collapsed": false
   },
   "outputs": [
    {
     "data": {
      "text/plain": [
       "partition_A (generic function with 1 method)"
      ]
     },
     "execution_count": 3,
     "metadata": {},
     "output_type": "execute_result"
    }
   ],
   "source": [
    "function partition_A(A,Qobj,T)\n",
    "    \"\"\" Return A1, A2, A3 where\n",
    "    A1 corresponds to wind\n",
    "    A2 corresponds to angles + mismatch\n",
    "    A3 corresponds to angle difference vars\n",
    "    \"\"\"\n",
    "    m,n = size(A)\n",
    "    idx1 = find(diag(Qobj))\n",
    "    idx2 = setdiff(1:n-T,idx1)\n",
    "    idx3 = n-T+1:n\n",
    "    idx = [idx1,idx2,idx3]\n",
    "    \n",
    "    A1 = A[:,idx1]\n",
    "    A2 = A[:,idx2]\n",
    "    A3 = A[:,idx3]\n",
    "    return A1,A2,A3,idx1,idx2,idx3\n",
    "end"
   ]
  },
  {
   "cell_type": "markdown",
   "metadata": {},
   "source": [
    "Now that $A$ is partitioned, we can find $x_1^*$, $x_2^*$, and $x_3^*$. To avoid messing up the norm, we need $x_3^*=0$. With that constraint satisfied, we just need $A_1x_2 + A_2x_2 = b$, so let's use `[A1 A2]\\b` to obtain min-norm $x_1^*$ and $x_2^*$."
   ]
  },
  {
   "cell_type": "code",
   "execution_count": 4,
   "metadata": {
    "collapsed": false
   },
   "outputs": [
    {
     "data": {
      "text/plain": [
       "find_x_star (generic function with 1 method)"
      ]
     },
     "execution_count": 4,
     "metadata": {},
     "output_type": "execute_result"
    }
   ],
   "source": [
    "function find_x_star(Qobj,A,b,T)\n",
    "    A1,A2,A3,idx1,idx2,idx3 = partition_A(A,Qobj,T)\n",
    "    x_star = zeros(size(A,2))\n",
    "    x_star[[idx1,idx2]] = [A1 A2]\\b\n",
    "    return x_star\n",
    "end"
   ]
  },
  {
   "cell_type": "markdown",
   "metadata": {},
   "source": [
    "The translation itself is a change of variables from $x$ to $y = x - x^*$. The translated problem is\n",
    "\n",
    "\\begin{align}\n",
    "&& \\min~ & y_1^\\top Q_x y_1 + 2 y_1^\\top x_1^* \\\\\n",
    "s.t. && Ay &= 0 \\\\\n",
    "&& y_3^\\top y_3 &= c\n",
    "\\end{align}"
   ]
  },
  {
   "cell_type": "code",
   "execution_count": 5,
   "metadata": {
    "collapsed": true
   },
   "outputs": [
    {
     "data": {
      "text/plain": [
       "(\n",
       "279x279 Array{Float64,2}:\n",
       " 0.0  0.0  0.0  0.0  0.0  0.0  0.0  0.0  …  0.0  0.0  0.0  0.0  0.0  0.0  0.0\n",
       " 0.0  0.0  0.0  0.0  0.0  0.0  0.0  0.0     0.0  0.0  0.0  0.0  0.0  0.0  0.0\n",
       " 0.0  0.0  0.0  0.0  0.0  0.0  0.0  0.0     0.0  0.0  0.0  0.0  0.0  0.0  0.0\n",
       " 0.0  0.0  0.0  0.0  0.0  0.0  0.0  0.0     0.0  0.0  0.0  0.0  0.0  0.0  0.0\n",
       " 0.0  0.0  0.0  0.0  0.0  0.0  0.0  0.0     0.0  0.0  0.0  0.0  0.0  0.0  0.0\n",
       " 0.0  0.0  0.0  0.0  0.0  0.0  0.0  0.0  …  0.0  0.0  0.0  0.0  0.0  0.0  0.0\n",
       " 0.0  0.0  0.0  0.0  0.0  0.0  0.0  0.0     0.0  0.0  0.0  0.0  0.0  0.0  0.0\n",
       " 0.0  0.0  0.0  0.0  0.0  0.0  0.0  0.0     0.0  0.0  0.0  0.0  0.0  0.0  0.0\n",
       " 0.0  0.0  0.0  0.0  0.0  0.0  0.0  0.0     0.0  0.0  0.0  0.0  0.0  0.0  0.0\n",
       " 0.0  0.0  0.0  0.0  0.0  0.0  0.0  0.0     0.0  0.0  0.0  0.0  0.0  0.0  0.0\n",
       " 0.0  0.0  0.0  0.0  0.0  0.0  0.0  0.0  …  0.0  0.0  0.0  0.0  0.0  0.0  0.0\n",
       " 0.0  0.0  0.0  0.0  0.0  0.0  0.0  0.0     0.0  0.0  0.0  0.0  0.0  0.0  0.0\n",
       " 0.0  0.0  0.0  0.0  0.0  0.0  0.0  0.0     0.0  0.0  0.0  0.0  0.0  0.0  0.0\n",
       " ⋮                        ⋮              ⋱                 ⋮                 \n",
       " 0.0  0.0  0.0  0.0  0.0  0.0  0.0  0.0     0.0  0.0  0.0  0.0  0.0  0.0  0.0\n",
       " 0.0  0.0  0.0  0.0  0.0  0.0  0.0  0.0     0.0  0.0  0.0  0.0  0.0  0.0  0.0\n",
       " 0.0  0.0  0.0  0.0  0.0  0.0  0.0  0.0     0.0  0.0  0.0  0.0  0.0  0.0  0.0\n",
       " 0.0  0.0  0.0  0.0  0.0  0.0  0.0  0.0  …  0.0  0.0  0.0  0.0  0.0  0.0  0.0\n",
       " 0.0  0.0  0.0  0.0  0.0  0.0  0.0  0.0     0.0  0.0  0.0  0.0  0.0  0.0  0.0\n",
       " 0.0  0.0  0.0  0.0  0.0  0.0  0.0  0.0     0.0  0.0  0.0  0.0  0.0  0.0  0.0\n",
       " 0.0  0.0  0.0  0.0  0.0  0.0  0.0  0.0     0.0  0.0  0.0  0.0  0.0  0.0  0.0\n",
       " 0.0  0.0  0.0  0.0  0.0  0.0  0.0  0.0     0.0  0.0  0.0  0.0  0.0  0.0  0.0\n",
       " 0.0  0.0  0.0  0.0  0.0  0.0  0.0  0.0  …  0.0  0.0  0.0  0.0  0.0  0.0  0.0\n",
       " 0.0  0.0  0.0  0.0  0.0  0.0  0.0  0.0     0.0  0.0  0.0  0.0  1.0  0.0  0.0\n",
       " 0.0  0.0  0.0  0.0  0.0  0.0  0.0  0.0     0.0  0.0  0.0  0.0  0.0  1.0  0.0\n",
       " 0.0  0.0  0.0  0.0  0.0  0.0  0.0  0.0     0.0  0.0  0.0  0.0  0.0  0.0  1.0,\n",
       "\n",
       "279x1 Array{Float64,2}:\n",
       " 0.0\n",
       " 0.0\n",
       " 0.0\n",
       " 0.0\n",
       " 0.0\n",
       " 0.0\n",
       " 0.0\n",
       " 0.0\n",
       " 0.0\n",
       " 0.0\n",
       " 0.0\n",
       " 0.0\n",
       " 0.0\n",
       " ⋮  \n",
       " 0.0\n",
       " 0.0\n",
       " 0.0\n",
       " 0.0\n",
       " 0.0\n",
       " 0.0\n",
       " 0.0\n",
       " 0.0\n",
       " 0.0\n",
       " 0.0\n",
       " 0.0\n",
       " 0.0,\n",
       "\n",
       "-10.0)"
      ]
     },
     "execution_count": 5,
     "metadata": {},
     "output_type": "execute_result"
    }
   ],
   "source": [
    "# Partition A;\n",
    "A1,A2,A3,idx1,idx2,idx3 = partition_A(A,Qobj,T)\n",
    "\n",
    "# Find translation point:\n",
    "x_star = find_x_star(Qobj,A,b,T)\n",
    "\n",
    "# Translate quadratics:\n",
    "G_of_y = translate_quadratic(G_of_x,x_star)\n",
    "Q_of_y = translate_quadratic(Q_of_x,x_star)"
   ]
  },
  {
   "cell_type": "markdown",
   "metadata": {},
   "source": [
    "## Kernel \"rotation\"\n",
    "\n",
    "Now that the problem has been translated, we replace $y$ by $Nz$, where $N=[v_1~v_2~\\ldots~v_k]\\in\\mathbb{R}^{n\\times k}$, which will reduce the problem dimension from $n$ variables to $k$ variables.\n",
    "\n",
    "From Ian's notes:\n",
    "\n",
    "\\begin{align}\n",
    "\\begin{bmatrix} y_1 \\\\ y_2 \\\\ y_3 \\end{bmatrix}\n",
    "&= \\begin{bmatrix} N_1 \\\\ N_2 \\\\ N_3 \\end{bmatrix} z\n",
    "\\end{align}\n",
    "\n",
    "* The objective becomes $\\min z^\\top \\hat{Q}_{obj} z + 2z^\\top N_1x_1^*$, where $\\hat{Q}_{obj} = N_1^\\top Q N_1$\n",
    "\n",
    "* The temperature constraint becomes $z^\\top N_3^\\top N_3 z = c$."
   ]
  },
  {
   "cell_type": "markdown",
   "metadata": {},
   "source": [
    "The following method rotates a quadratic:"
   ]
  },
  {
   "cell_type": "code",
   "execution_count": 56,
   "metadata": {
    "collapsed": false
   },
   "outputs": [
    {
     "data": {
      "text/plain": [
       "rotate_quadratic (generic function with 1 method)"
      ]
     },
     "execution_count": 56,
     "metadata": {},
     "output_type": "execute_result"
    }
   ],
   "source": [
    "function rotate_quadratic(G_of_x,R)\n",
    "    \"\"\" Rotate quadratic G_of_x by\n",
    "    rotation matrix R.\n",
    "    \"\"\"\n",
    "    G,g,kg = G_of_x\n",
    "    return (R*G*R',R*g,kg)\n",
    "end"
   ]
  },
  {
   "cell_type": "markdown",
   "metadata": {},
   "source": [
    "Here we find and partition $N$, then rotate our objective and constraint quadratics by it:"
   ]
  },
  {
   "cell_type": "code",
   "execution_count": 7,
   "metadata": {
    "collapsed": true
   },
   "outputs": [
    {
     "data": {
      "text/plain": [
       "(\n",
       "54x54 Array{Float64,2}:\n",
       "  8.57715e-6  -7.83568e-6   8.32729e-6  …  -4.07499e-6  -9.85393e-6\n",
       " -7.83568e-6   1.91934e-5   5.16678e-6      3.09765e-6   1.42626e-5\n",
       "  8.32729e-6   5.16678e-6   3.24455e-5     -2.57993e-6  -2.01826e-6\n",
       " -1.53017e-6   1.33535e-5   8.37457e-6     -4.28291e-7   6.46892e-6\n",
       "  3.71994e-7   1.28016e-5   2.91055e-7     -3.50642e-6   2.76647e-6\n",
       " -2.11083e-7   1.47391e-5  -1.14544e-5  …  -5.69497e-6   1.74543e-6\n",
       " -2.1289e-6    1.01688e-5   2.87208e-5      4.74971e-6   1.00533e-5\n",
       "  3.44011e-6   8.8652e-6    3.51056e-6     -4.63256e-6  -9.91135e-7\n",
       " -3.34661e-6   1.28924e-5   7.6256e-6       1.16143e-6   8.22289e-6\n",
       " -4.765e-6     1.32255e-5   1.22824e-5      3.21765e-6   1.07152e-5\n",
       " -1.75752e-6   9.48476e-6   2.5917e-5   …   4.06274e-6   8.96682e-6\n",
       " -2.55424e-6   1.02789e-5   1.16742e-5      1.88109e-6   7.44803e-6\n",
       " -7.16027e-6   1.42599e-5   9.35653e-6      4.53344e-6   1.30762e-5\n",
       "  ⋮                                     ⋱                          \n",
       " -1.52987e-6  -1.7632e-5   -1.55579e-5      2.87189e-6  -5.44579e-6\n",
       "  2.08819e-5  -1.44977e-5   3.01283e-5     -9.21564e-6  -2.10803e-5\n",
       "  3.72591e-6  -3.21e-6     -3.50666e-6     -3.16434e-6  -5.52922e-6\n",
       "  1.90208e-7  -1.16095e-7   4.96261e-6  …   7.97311e-7   6.64734e-7\n",
       "  1.64916e-5  -1.47711e-5   2.45572e-5     -6.29574e-6  -1.73199e-5\n",
       " -6.10378e-6  -8.40885e-7  -3.49122e-6      4.97909e-6   5.8895e-6 \n",
       " -1.45211e-5   1.09559e-5  -1.82598e-5      6.69606e-6   1.5362e-5 \n",
       "  9.39113e-6   4.15839e-6   8.73712e-6     -7.74811e-6  -7.75019e-6\n",
       " -2.51648e-6   4.17472e-6  -7.49204e-7  …   1.04207e-6   3.65694e-6\n",
       "  7.29028e-6  -5.59053e-6   9.28643e-6     -3.31647e-6  -7.71275e-6\n",
       " -4.07499e-6   3.09765e-6  -2.57993e-6      2.35367e-6   4.77944e-6\n",
       " -9.85393e-6   1.42626e-5  -2.01826e-6      4.77944e-6   1.39776e-5,\n",
       "\n",
       "54x1 Array{Float64,2}:\n",
       " 0.0\n",
       " 0.0\n",
       " 0.0\n",
       " 0.0\n",
       " 0.0\n",
       " 0.0\n",
       " 0.0\n",
       " 0.0\n",
       " 0.0\n",
       " 0.0\n",
       " 0.0\n",
       " 0.0\n",
       " 0.0\n",
       " ⋮  \n",
       " 0.0\n",
       " 0.0\n",
       " 0.0\n",
       " 0.0\n",
       " 0.0\n",
       " 0.0\n",
       " 0.0\n",
       " 0.0\n",
       " 0.0\n",
       " 0.0\n",
       " 0.0\n",
       " 0.0,\n",
       "\n",
       "-10.0)"
      ]
     },
     "execution_count": 7,
     "metadata": {},
     "output_type": "execute_result"
    }
   ],
   "source": [
    "N = kernel_rotation(A)[:,1:size(A,2) - rank(A)] # take only first k cols\n",
    "\n",
    "N1,N2,N3 = N[idx1,:],N[idx2,:],N[idx3,:] # partition N\n",
    "\n",
    "G_of_z = rotate_quadratic(G_of_y,N')\n",
    "Q_of_z = rotate_quadratic(Q_of_y,N')"
   ]
  },
  {
   "cell_type": "markdown",
   "metadata": {},
   "source": [
    "## Constraint Eigendecomposition\n",
    "\n",
    "Perform an Eigendecomposition: $$N_3^\\top N_3 = UDU^\\top$$"
   ]
  },
  {
   "cell_type": "code",
   "execution_count": 52,
   "metadata": {
    "collapsed": true
   },
   "outputs": [
    {
     "data": {
      "text/plain": [
       "54-element Array{Float64,1}:\n",
       " -0.0        \n",
       " -0.0        \n",
       " -0.0        \n",
       " -0.0        \n",
       " -0.0        \n",
       " -0.0        \n",
       " -0.0        \n",
       " -0.0        \n",
       " -0.0        \n",
       " -0.0        \n",
       " -0.0        \n",
       " -0.0        \n",
       " -0.0        \n",
       "  ⋮          \n",
       "  0.0        \n",
       "  0.0        \n",
       "  0.0        \n",
       "  0.0        \n",
       "  0.0        \n",
       "  0.0        \n",
       "  0.0        \n",
       "  0.0        \n",
       "  0.0        \n",
       "  0.000320023\n",
       "  0.000320023\n",
       "  0.000320023"
      ]
     },
     "execution_count": 52,
     "metadata": {},
     "output_type": "execute_result"
    }
   ],
   "source": [
    "D,U = eig(Q_of_z[1])\n",
    "D = round(D,10)"
   ]
  },
  {
   "cell_type": "markdown",
   "metadata": {},
   "source": [
    "Now let $\\hat{z} = U^\\top z$ so that\n",
    "\n",
    "\\begin{align}\n",
    "z^\\top N_3^\\top N_3 z &= \\hat{z}^\\top D\\hat{z}\n",
    "\\end{align}\n",
    "\n",
    "$D$ has at most $T$ nonzero elements, because rank$(N\n",
    "_3) \\leq T$ by virtue of its dimension. It will look like this:\n",
    "\n",
    "\\begin{align}\n",
    "D &= \\begin{bmatrix} 0 & 0 \\\\ 0 & \\hat{D} \\end{bmatrix}\n",
    "\\end{align}\n",
    "\n",
    "Now let $w = [w_1~w_2]^\\top$ and $\\hat{z}=[\\hat{z}_1~\\hat{z}_2]^\\top$, and relate them as follows:\n",
    "\n",
    "\\begin{align}\n",
    "\\begin{bmatrix} w_1 \\\\ w_2 \\end{bmatrix} &=\n",
    "\\begin{bmatrix} I & 0 \\\\ 0 & \\hat{D}^{1/2} \\end{bmatrix}\n",
    "\\begin{bmatrix} \\hat{z}_1 \\\\ \\hat{z}_2 \\end{bmatrix} \\\\\n",
    "\\implies w &= K\\hat{z} = KU^\\top z\n",
    "\\end{align}"
   ]
  },
  {
   "cell_type": "code",
   "execution_count": 53,
   "metadata": {
    "collapsed": false
   },
   "outputs": [
    {
     "data": {
      "text/plain": [
       "return_K (generic function with 1 method)"
      ]
     },
     "execution_count": 53,
     "metadata": {},
     "output_type": "execute_result"
    }
   ],
   "source": [
    "function return_K(D)\n",
    "    K = ones(length(D))\n",
    "    K[find(D)] = sqrt(D[find(D)])\n",
    "    K = diagm(K)\n",
    "    return K\n",
    "end"
   ]
  },
  {
   "cell_type": "markdown",
   "metadata": {},
   "source": [
    "Then\n",
    "\n",
    "\\begin{align}\n",
    "\\hat{z}^\\top D\\hat{z} &= \\hat{z}_1\\hat{D}^{1/2}\\hat{D}^{1/2}\\hat{z} \\\\\n",
    "&= w_1^\\top w_1\n",
    "\\end{align}\n",
    "\n",
    "Note that $z = UK^{-1}w$ because $UU^\\top = I$. Changing from $z$ to $w$ is equivalent to rotating by $(UK^{-1})^\\top$.\n",
    "\n",
    "Substituting into the cost function:\n",
    "\n",
    "$$ z^\\top \\hat{Q}_{obj}z = w^\\top K^{-1}U^\\top \\hat{Q}_{obj}UK^{-1}w + 2z^\\top K^{-1}U^\\top N_1x_1^* = w^\\top Bw + w^\\top b$$\n",
    "\n",
    "With $w$, $B$, and $b$ defined, the optimization problem becomes\n",
    "\n",
    "\\begin{align}\n",
    "&& \\min~ w^\\top Bw + w^\\top b \\\\\n",
    "s.t. && w_2^\\top w_2 &= c\n",
    "\\end{align}"
   ]
  },
  {
   "cell_type": "code",
   "execution_count": 68,
   "metadata": {
    "collapsed": true
   },
   "outputs": [
    {
     "data": {
      "text/plain": [
       "(\n",
       "54x54 Array{Float64,2}:\n",
       " -3.1655e-22    6.42902e-22  -2.95008e-22  …   3.08591e-18   3.51695e-19\n",
       " -6.32953e-22  -1.18732e-21  -9.85102e-22      1.96146e-18   1.27949e-19\n",
       "  8.97254e-23   4.61686e-21  -1.9837e-21       1.92169e-19  -3.06666e-19\n",
       " -1.46922e-21  -1.16393e-21   1.34214e-21     -9.44767e-19  -5.31573e-19\n",
       "  2.81569e-21   1.09645e-21   1.3895e-22       1.90773e-18   1.08272e-18\n",
       "  9.03974e-22  -1.98887e-21   1.61209e-21  …  -1.12167e-18   1.14232e-18\n",
       " -4.93817e-22   2.01697e-21  -4.6876e-22       1.65762e-18  -3.13352e-19\n",
       "  5.6677e-22    1.52363e-21   2.13615e-21      4.23676e-19   1.25812e-18\n",
       "  2.25058e-21   4.45724e-22  -1.21819e-21      1.97259e-18  -1.4752e-18 \n",
       " -8.67591e-22  -9.32033e-22  -2.60927e-21     -6.91245e-19  -3.91314e-19\n",
       " -2.2538e-22   -4.77284e-22  -2.554e-21    …   7.75556e-19  -2.19673e-19\n",
       "  8.48507e-22   3.28066e-22  -3.42608e-24     -7.2416e-20    2.34875e-19\n",
       "  4.5347e-22    1.17648e-21   6.82619e-22     -6.39781e-19  -3.71642e-19\n",
       "  ⋮                                        ⋱                            \n",
       " -3.76819e-22  -1.43759e-21   7.07375e-22      1.9941e-19    6.61546e-19\n",
       "  1.64772e-21   2.22897e-21  -1.48873e-21     -2.62063e-19   5.15152e-19\n",
       " -3.27942e-23   2.03225e-21  -1.60434e-21      1.33792e-18   4.48448e-20\n",
       "  9.43579e-23  -1.99089e-21  -1.40805e-21  …  -2.13459e-18   9.33647e-19\n",
       "  3.37386e-23  -1.99803e-21  -2.18607e-21     -2.02213e-18   1.02097e-18\n",
       "  1.14151e-21  -3.64966e-22  -5.03047e-21     -1.77964e-18   2.66748e-18\n",
       "  2.26326e-22   1.53751e-21  -9.52478e-22      1.86691e-18   1.16858e-20\n",
       " -5.00612e-23  -2.61989e-21   3.89909e-22      1.08981e-18  -4.53361e-20\n",
       "  1.94357e-21   4.98812e-22  -1.67027e-23  …   1.08118e-18  -8.71014e-19\n",
       " -4.02083e-18   5.57666e-19  -6.81124e-19     -1.19838e-17  -8.43831e-17\n",
       "  2.8637e-18    1.58288e-18  -8.10858e-19      1.0          -7.90366e-17\n",
       "  4.94039e-20  -2.27291e-19  -3.41383e-19     -1.3526e-16    1.0        ,\n",
       "\n",
       "54x1 Array{Float64,2}:\n",
       " 0.0\n",
       " 0.0\n",
       " 0.0\n",
       " 0.0\n",
       " 0.0\n",
       " 0.0\n",
       " 0.0\n",
       " 0.0\n",
       " 0.0\n",
       " 0.0\n",
       " 0.0\n",
       " 0.0\n",
       " 0.0\n",
       " ⋮  \n",
       " 0.0\n",
       " 0.0\n",
       " 0.0\n",
       " 0.0\n",
       " 0.0\n",
       " 0.0\n",
       " 0.0\n",
       " 0.0\n",
       " 0.0\n",
       " 0.0\n",
       " 0.0\n",
       " 0.0,\n",
       "\n",
       "-10.0)"
      ]
     },
     "execution_count": 68,
     "metadata": {},
     "output_type": "execute_result"
    }
   ],
   "source": [
    "K = return_K(D)\n",
    "\n",
    "G_of_w = rotate_quadratic(G_of_z,(U/K)')\n",
    "Q_of_w = rotate_quadratic(Q_of_z,(U/K)')"
   ]
  },
  {
   "cell_type": "code",
   "execution_count": 86,
   "metadata": {
    "collapsed": false
   },
   "outputs": [
    {
     "data": {
      "text/plain": [
       "(Complex{Float64}[2864.67+0.0im,2864.67+0.0im,2864.67+0.0im,0.0525676+0.0im,0.0525676+0.0im,0.0525676+0.0im,0.504273+0.0im,0.504273+0.0im,0.504273+0.0im,0.83567+0.0im  …  0.999945+0.0im,0.999977+1.52428e-15im,0.999977-1.52428e-15im,0.999977+0.0im,0.999979+2.72344e-15im,0.999979-2.72344e-15im,0.999979+0.0im,0.99998+0.0im,0.99998+0.0im,0.99998+0.0im],\n",
       "54x54 Array{Complex{Float64},2}:\n",
       "    4.6132e-5+0.0im  -0.000396597+0.0im  …     0.184571+0.0im\n",
       " -0.000265281+0.0im  -0.000247767+0.0im      -0.0574623+0.0im\n",
       "  0.000132332+0.0im  -0.000515375+0.0im      -0.0394737+0.0im\n",
       "   3.75249e-6+0.0im  -0.000122041+0.0im      -0.0772261+0.0im\n",
       "   7.26835e-7+0.0im   -3.12092e-5+0.0im       -0.156061+0.0im\n",
       "    4.4186e-5+0.0im   0.000726628+0.0im  …   -0.0942749+0.0im\n",
       "  0.000287455+0.0im   0.000281328+0.0im      -0.0343245+0.0im\n",
       " -0.000227179+0.0im    1.41191e-5+0.0im        0.230919+0.0im\n",
       "  0.000321349+0.0im   -9.24697e-5+0.0im        0.173779+0.0im\n",
       "  -0.00017924+0.0im   -7.46083e-5+0.0im       0.0785277+0.0im\n",
       "  0.000244513+0.0im   0.000100232+0.0im  …   -0.0733065+0.0im\n",
       "  0.000104116+0.0im   -3.32143e-5+0.0im       -0.205238+0.0im\n",
       "   2.43226e-5+0.0im  -0.000184768+0.0im        0.131909+0.0im\n",
       "             ⋮                           ⋱                   \n",
       "  -5.19954e-5+0.0im   0.000126376+0.0im        -0.20884+0.0im\n",
       "  0.000117605+0.0im  -0.000196961+0.0im      -0.0802302+0.0im\n",
       "  0.000285751+0.0im    2.50784e-5+0.0im       0.0846936+0.0im\n",
       " -0.000168483+0.0im   0.000492703+0.0im  …    0.0655027+0.0im\n",
       " -0.000112487+0.0im   0.000297687+0.0im        0.020823+0.0im\n",
       "   0.00035389+0.0im   0.000202251+0.0im        0.107506+0.0im\n",
       "  -1.86644e-5+0.0im   -6.36947e-5+0.0im      -0.0288987+0.0im\n",
       " -0.000565377+0.0im    0.00015251+0.0im        0.163011+0.0im\n",
       "  -8.28394e-5+0.0im  -0.000260922+0.0im  …   -0.0143327+0.0im\n",
       "    -0.760194+0.0im      0.190604+0.0im     -1.29432e-8+0.0im\n",
       "    -0.452956+0.0im      -0.86612+0.0im     -3.11656e-8+0.0im\n",
       "      0.46576+0.0im     -0.462064+0.0im      2.49896e-7+0.0im)"
      ]
     },
     "execution_count": 86,
     "metadata": {},
     "output_type": "execute_result"
    }
   ],
   "source": [
    "Db,Vb = eig(G_of_w[1])"
   ]
  },
  {
   "cell_type": "code",
   "execution_count": 151,
   "metadata": {
    "collapsed": false
   },
   "outputs": [
    {
     "data": {
      "text/plain": [
       "return_B (generic function with 1 method)"
      ]
     },
     "execution_count": 151,
     "metadata": {},
     "output_type": "execute_result"
    }
   ],
   "source": [
    "function return_B(Q̂obj,K,U)\n",
    "    return K\\(U'*Q̂obj*U)/K\n",
    "end"
   ]
  },
  {
   "cell_type": "code",
   "execution_count": 158,
   "metadata": {
    "collapsed": true
   },
   "outputs": [],
   "source": [
    "using PyPlot"
   ]
  },
  {
   "cell_type": "code",
   "execution_count": 162,
   "metadata": {
    "collapsed": true
   },
   "outputs": [
    {
     "data": {
      "text/plain": [
       "54x54 Array{Float64,2}:\n",
       "  0.915449     -0.0233053   -0.0159132    …     0.998021      0.361789 \n",
       " -0.0233053     0.570312     0.050948           0.578915      0.964483 \n",
       " -0.0159132     0.050948     0.910002           1.03128       1.0733   \n",
       "  0.00178841    0.0213245   -0.0447988          0.241112      0.320055 \n",
       " -0.0134943    -0.138397     0.0484468          0.0532128     0.106174 \n",
       "  0.0116372     0.138438    -0.0124056    …    -1.86381      -0.830732 \n",
       " -0.0508072    -0.0471212    0.0114364         -0.856048     -0.502389 \n",
       " -0.00857514   -0.00219041   0.000919932        0.47634      -0.996263 \n",
       "  0.000722838   0.0840308   -0.00730951        -0.0679        0.29139  \n",
       "  0.0124101    -0.0515584    0.0482382          0.570232     -0.626403 \n",
       " -0.0159943    -0.00751549  -0.0473313    …    -0.777405      0.865928 \n",
       " -0.0433367    -0.0936823    0.0362432          0.124139     -0.293271 \n",
       "  0.0132218     0.00593932  -0.0031133          0.458284      0.181731 \n",
       "  ⋮                                       ⋱                            \n",
       "  0.00709968    0.0189082   -0.00726644        -0.0670835    -0.749645 \n",
       " -0.022452      0.052597    -0.0130645          0.0649307     1.20496  \n",
       " -0.0267615    -0.00584947   0.0106869         -0.515572      0.660299 \n",
       "  0.0366419    -0.00243405   0.0240736    …    -1.21762      -0.281513 \n",
       " -0.0244593     0.050238    -0.000620459       -0.672819     -0.326331 \n",
       "  0.0415742    -0.162597     0.0279181         -1.13992       0.820735 \n",
       "  0.00808021   -0.0868513    0.00995871         0.173504      0.0751501\n",
       " -0.000616899  -0.125408     0.00779622         0.131718     -0.463148 \n",
       "  0.0266586     0.0222434   -0.00351354   …     0.653419      0.482111 \n",
       " -0.546897      1.24537     -0.455422           0.0          -0.0      \n",
       "  0.998021      0.578915     1.03128         2864.66         -0.0      \n",
       "  0.361789      0.964483     1.0733            -0.0        2864.66     "
      ]
     },
     "execution_count": 162,
     "metadata": {},
     "output_type": "execute_result"
    }
   ],
   "source": [
    "B = return_B(Q̂obj,K,U)"
   ]
  },
  {
   "cell_type": "markdown",
   "metadata": {},
   "source": [
    "Now find the Schur complement of "
   ]
  },
  {
   "cell_type": "code",
   "execution_count": 174,
   "metadata": {
    "collapsed": false
   },
   "outputs": [
    {
     "data": {
      "text/plain": [
       "3-element Array{Int64,1}:\n",
       " 52\n",
       " 53\n",
       " 54"
      ]
     },
     "execution_count": 174,
     "metadata": {},
     "output_type": "execute_result"
    }
   ],
   "source": [
    "find(D)"
   ]
  },
  {
   "cell_type": "code",
   "execution_count": 178,
   "metadata": {
    "collapsed": false
   },
   "outputs": [
    {
     "data": {
      "text/plain": [
       "3x3 Array{Float64,2}:\n",
       " 2864.66            3.95666e-12    -3.51906e-12\n",
       "    3.79398e-12  2864.66           -5.14535e-12\n",
       "   -3.29849e-12    -4.76563e-12  2864.66       "
      ]
     },
     "execution_count": 178,
     "metadata": {},
     "output_type": "execute_result"
    }
   ],
   "source": [
    "function partition_B(B,D)\n",
    "    D_zeros = setdiff(1:size(D,1),find(D))\n",
    "    D_ones = find(D)\n",
    "    B11 = B[D_zeros,D_zeros]\n",
    "    B12 = B[D_zeros,D_ones]\n",
    "    B21 = B[D_ones,D_zeros]\n",
    "    B22 = B[D_ones,D_ones]\n",
    "    return B11,B12,B21,B22\n",
    "end"
   ]
  },
  {
   "cell_type": "code",
   "execution_count": 185,
   "metadata": {
    "collapsed": false
   },
   "outputs": [
    {
     "data": {
      "text/plain": [
       "3x3 Array{Float64,2}:\n",
       " 2796.47            1.32522e-11    -7.65484e-12\n",
       "    1.30861e-11  2796.47           -1.12583e-11\n",
       "   -7.41611e-12    -1.08545e-11  2796.47       "
      ]
     },
     "execution_count": 185,
     "metadata": {},
     "output_type": "execute_result"
    }
   ],
   "source": [
    "B_hat = B22 - B12'*(B11\\B12)"
   ]
  },
  {
   "cell_type": "code",
   "execution_count": 186,
   "metadata": {
    "collapsed": false
   },
   "outputs": [
    {
     "data": {
      "text/plain": [
       "([2796.47,2796.47,2796.47],\n",
       "3x3 Array{Float64,2}:\n",
       "  0.476873  0.762512  -0.465289\n",
       "  0.397031  0.290901   0.872576\n",
       " -0.784193  0.577886   0.14872 )"
      ]
     },
     "execution_count": 186,
     "metadata": {},
     "output_type": "execute_result"
    }
   ],
   "source": [
    "D,U = eig(B_hat)"
   ]
  },
  {
   "cell_type": "code",
   "execution_count": 94,
   "metadata": {
    "collapsed": true
   },
   "outputs": [
    {
     "data": {
      "text/plain": [
       "(\n",
       "54x54 Array{Float64,2}:\n",
       "  8.57715e-6  -7.83568e-6   8.32729e-6  …  -4.07499e-6  -9.85393e-6\n",
       " -7.83568e-6   1.91934e-5   5.16678e-6      3.09765e-6   1.42626e-5\n",
       "  8.32729e-6   5.16678e-6   3.24455e-5     -2.57993e-6  -2.01826e-6\n",
       " -1.53017e-6   1.33535e-5   8.37457e-6     -4.28291e-7   6.46892e-6\n",
       "  3.71994e-7   1.28016e-5   2.91055e-7     -3.50642e-6   2.76647e-6\n",
       " -2.11083e-7   1.47391e-5  -1.14544e-5  …  -5.69497e-6   1.74543e-6\n",
       " -2.1289e-6    1.01688e-5   2.87208e-5      4.74971e-6   1.00533e-5\n",
       "  3.44011e-6   8.8652e-6    3.51056e-6     -4.63256e-6  -9.91135e-7\n",
       " -3.34661e-6   1.28924e-5   7.6256e-6       1.16143e-6   8.22289e-6\n",
       " -4.765e-6     1.32255e-5   1.22824e-5      3.21765e-6   1.07152e-5\n",
       " -1.75752e-6   9.48476e-6   2.5917e-5   …   4.06274e-6   8.96682e-6\n",
       " -2.55424e-6   1.02789e-5   1.16742e-5      1.88109e-6   7.44803e-6\n",
       " -7.16027e-6   1.42599e-5   9.35653e-6      4.53344e-6   1.30762e-5\n",
       "  ⋮                                     ⋱                          \n",
       " -1.52987e-6  -1.7632e-5   -1.55579e-5      2.87189e-6  -5.44579e-6\n",
       "  2.08819e-5  -1.44977e-5   3.01283e-5     -9.21564e-6  -2.10803e-5\n",
       "  3.72591e-6  -3.21e-6     -3.50666e-6     -3.16434e-6  -5.52922e-6\n",
       "  1.90208e-7  -1.16095e-7   4.96261e-6  …   7.97311e-7   6.64734e-7\n",
       "  1.64916e-5  -1.47711e-5   2.45572e-5     -6.29574e-6  -1.73199e-5\n",
       " -6.10378e-6  -8.40885e-7  -3.49122e-6      4.97909e-6   5.8895e-6 \n",
       " -1.45211e-5   1.09559e-5  -1.82598e-5      6.69606e-6   1.5362e-5 \n",
       "  9.39113e-6   4.15839e-6   8.73712e-6     -7.74811e-6  -7.75019e-6\n",
       " -2.51648e-6   4.17472e-6  -7.49204e-7  …   1.04207e-6   3.65694e-6\n",
       "  7.29028e-6  -5.59053e-6   9.28643e-6     -3.31647e-6  -7.71275e-6\n",
       " -4.07499e-6   3.09765e-6  -2.57993e-6      2.35367e-6   4.77944e-6\n",
       " -9.85393e-6   1.42626e-5  -2.01826e-6      4.77944e-6   1.39776e-5,\n",
       "\n",
       "54x1 Array{Float64,2}:\n",
       " 0.0\n",
       " 0.0\n",
       " 0.0\n",
       " 0.0\n",
       " 0.0\n",
       " 0.0\n",
       " 0.0\n",
       " 0.0\n",
       " 0.0\n",
       " 0.0\n",
       " 0.0\n",
       " 0.0\n",
       " 0.0\n",
       " ⋮  \n",
       " 0.0\n",
       " 0.0\n",
       " 0.0\n",
       " 0.0\n",
       " 0.0\n",
       " 0.0\n",
       " 0.0\n",
       " 0.0\n",
       " 0.0\n",
       " 0.0\n",
       " 0.0\n",
       " 0.0,\n",
       "\n",
       "-10.0)"
      ]
     },
     "execution_count": 94,
     "metadata": {},
     "output_type": "execute_result"
    }
   ],
   "source": [
    "# Kernel rotation matrix:\n",
    "Rkernel = kernel_rotation(A)\n",
    "\n",
    "Rkernel = Rkernel[:,1:size(A,2) - rank(A)]'\n",
    "\n",
    "# Rotate by Rkernel:\n",
    "I_of_x = rotate(H_of_x,Rkernel)\n",
    "S_of_x = rotate(R_of_x,Rkernel)"
   ]
  },
  {
   "cell_type": "code",
   "execution_count": null,
   "metadata": {
    "collapsed": true
   },
   "outputs": [],
   "source": [
    "# R_of_x is rotation invariant.\n",
    "J_of_z,Rkernel = tr_kernel_rotate(H_of_x,A)\n",
    "K_of_w,Reigvec = tr_diag_rotate(J_of_z)\n",
    "\n",
    "#H_of_x,J_of_z,K_of_w,R_of_x,x_star,Rkernel,Reigvec,A1,A2 = tr_trans_rotate(G_of_x,Q_of_x,A,b,Qtheta)\n",
    "\n",
    "# Prepare to solve the secular equation:\n",
    "#Qtheta = full(R_of_x[1])\n",
    "# Qtheta = Reigvec*Rkernel*full(R_of_x[1])*Rkernel'*Reigvec'\n",
    "D = K_of_w[1]\n",
    "d = K_of_w[2]./2\n",
    "d2 = 0#Reigvec*Rkernel*R_of_x[2]\n",
    "c = -R_of_x[3]"
   ]
  }
 ],
 "metadata": {
  "kernelspec": {
   "display_name": "Julia",
   "language": "julia",
   "name": "julia"
  },
  "language_info": {
   "name": "julia",
   "version": "0.3.6"
  }
 },
 "nbformat": 4,
 "nbformat_minor": 0
}
