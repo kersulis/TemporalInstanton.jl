{
 "cells": [
  {
   "cell_type": "markdown",
   "metadata": {},
   "source": [
    "Let's start by importing RTS-96 data:"
   ]
  },
  {
   "cell_type": "code",
   "execution_count": null,
   "metadata": {
    "collapsed": false
   },
   "outputs": [],
   "source": [
    "####### IMPORTS: DATA ACQUISITION ########\n",
    "include(\"../src/tmp_inst_rts96.jl\")\n",
    "\n",
    "psData = psDataLoad()\n",
    "\n",
    "# unpack psDL (boilerplate):\n",
    "(Sb,f,t,r,x,b,Y,bustype,\n",
    "Gp,Gq,Dp,Dq,Rp,Rq,\n",
    "Pmax,Pmin,Qmax,Qmin,Plim,\n",
    "Vg,Vceiling,Vfloor,\n",
    "busIdx,N,Nr,Ng,k) = unpack_psDL(psData)\n",
    "\n",
    "####### IMPORTS: INSTANTON CODE ########\n",
    "# Get instanton code into workspace:\n",
    "include(\"../src/TemporalInstanton.jl\")\n",
    "include(\"../src/TrustRegionSubproblem.jl\")\n",
    "\n",
    "using TemporalInstanton, TrustRegionSubproblem\n",
    "\n",
    "####### DATA LINKING ########\n",
    "# Static\n",
    "Ridx = find(Rp) # Vector of renewable nodes\n",
    "Y = full(Y) # Full admittance matrix (ref not removed)\n",
    "ref = 1 # Index of ref node\n",
    "k = k # Conventional generator participation factors\n",
    "tau = 1. # Heating constant\n",
    "G0 = [Gp,Gp.*0.95,Gp.*0.9]\n",
    "D0 = [Dp,Dp.*0.95,Dp.*0.9]\n",
    "P0 = [Rp,Rp,Rp]\n",
    "kQobj = 0 # Should always be zero; objective has no constant term\n",
    "c = 10. # RHS of line temperature constraint\n",
    "kQtheta = -c # Move to LHS so we have Q(z) = 0\n",
    "\n",
    "T = int(length(G0)/size(Y,1))\n",
    "\n",
    "# Changing:\n",
    "lines = [(f[i],t[i]) for i in 1:length(f)];\n",
    "\n",
    "# For a single line:\n",
    "line = lines[48]\n",
    "\n",
    "# Create instance of instanton problem\n",
    "Qobj,A,b,Qtheta = temporalInstanton(Ridx,Y,ref,k,tau,line,G0,P0,D0)"
   ]
  },
  {
   "cell_type": "code",
   "execution_count": null,
   "metadata": {
    "collapsed": false
   },
   "outputs": [],
   "source": [
    "# Build obj and constraint quadratics:\n",
    "G_of_x = (Qobj,0,kQobj)\n",
    "Q_of_x = (Qtheta,0,kQtheta)"
   ]
  },
  {
   "cell_type": "markdown",
   "metadata": {},
   "source": [
    "Ian's most recent set of notes partitions the vector of variables $x$ into three parts:\n",
    "\n",
    "* $x_1\\in\\mathbb{R}^{N_rT}$ contains wind deviations\n",
    "\n",
    "* $x_2\\in\\mathbb{R}^{(N+1)T}$ contains angle and mismatch variables\n",
    "\n",
    "* $x_3\\in\\mathbb{R}^T$ contains angle difference variables involved in line temperature calculation\n",
    "\n",
    "With this notation, the problem becomes\n",
    "\n",
    "\\begin{align}\n",
    "&& \\min~ & x_1^\\top Q_x x_1 \\\\\n",
    "s.t. && Ax &= b \\\\\n",
    "&& x_3^\\top x_3 &= c\n",
    "\\end{align}\n",
    "\n",
    "where $x=[x_1~x_2~x_3]^\\top$.\n",
    "\n",
    "## Translation\n",
    "\n",
    "As always, the first step in solving our problem is translation. We need to go from $Ax=b$ to $Ay=0$, where $y=x-x^*$ and $x^*$ is the translation. It is easy to find and translate by a point in the set $\\{x:Ax=b\\}$, but we have an additional requirement: We don't want to introduce any linear term to the norm constraint.\n",
    "\n",
    "\\begin{align}\n",
    "&& \\min~ & x_3^\\top x_3 \\\\\n",
    "s.t. && A_1x_1 + A_2x_2 + A_3x_3 &= b\n",
    "\\end{align}"
   ]
  },
  {
   "cell_type": "markdown",
   "metadata": {},
   "source": [
    "How do we partition $A$?\n",
    "\n",
    "* $A_1$ contains columns of $A$ corresponding to wind deviations. The indices of these columns are indices for which $Q_{obj}$ is nonero.\n",
    "\n",
    "* $A_2$ contains columns corresponding to angles and mismatches. These are all the columns remaining after $A_1$ and $A_3$ are removed.\n",
    "\n",
    "* $A_3$ contains columns corresponding to angle difference variables. This is just the last $T$ columns of $A$.\n",
    "\n",
    "This function partitions $A$:"
   ]
  },
  {
   "cell_type": "code",
   "execution_count": null,
   "metadata": {
    "collapsed": false
   },
   "outputs": [],
   "source": [
    "function partition_A(A,Qobj,T)\n",
    "    \"\"\" Return A1, A2, A3 where\n",
    "    A1 corresponds to wind\n",
    "    A2 corresponds to angles + mismatch\n",
    "    A3 corresponds to angle difference vars\n",
    "    \"\"\"\n",
    "    m,n = size(A)\n",
    "    idx1 = find(diag(Qobj))\n",
    "    idx2 = setdiff(1:n-T,idx1)\n",
    "    idx3 = n-T+1:n\n",
    "    idx = [idx1,idx2,idx3]\n",
    "    \n",
    "    A1 = A[:,idx1]\n",
    "    A2 = A[:,idx2]\n",
    "    A3 = A[:,idx3]\n",
    "    return A1,A2,A3,idx1,idx2,idx3\n",
    "end"
   ]
  },
  {
   "cell_type": "markdown",
   "metadata": {},
   "source": [
    "Now that $A$ is partitioned, we can find $x_1^*$, $x_2^*$, and $x_3^*$. To avoid messing up the norm, we need $x_3^*=0$. With that constraint satisfied, we just need $A_1x_2 + A_2x_2 = b$, so let's use `[A1 A2]\\b` to obtain min-norm $x_1^*$ and $x_2^*$."
   ]
  },
  {
   "cell_type": "code",
   "execution_count": null,
   "metadata": {
    "collapsed": false
   },
   "outputs": [],
   "source": [
    "function find_x_star(Qobj,A,b,T)\n",
    "    A1,A2,A3,idx1,idx2,idx3 = partition_A(A,Qobj,T)\n",
    "    x_star = zeros(size(A,2))\n",
    "    x_star[[idx1,idx2]] = [A1 A2]\\b\n",
    "    return x_star\n",
    "end"
   ]
  },
  {
   "cell_type": "markdown",
   "metadata": {},
   "source": [
    "The translation itself is a change of variables from $x$ to $y = x - x^*$. The translated problem is\n",
    "\n",
    "\\begin{align}\n",
    "&& \\min~ & y_1^\\top Q_x y_1 + 2 y_1^\\top x_1^* \\\\\n",
    "s.t. && Ay &= 0 \\\\\n",
    "&& y_3^\\top y_3 &= c\n",
    "\\end{align}"
   ]
  },
  {
   "cell_type": "code",
   "execution_count": null,
   "metadata": {
    "collapsed": false
   },
   "outputs": [],
   "source": [
    "# Partition A;\n",
    "A1,A2,A3,idx1,idx2,idx3 = partition_A(A,Qobj,T)\n",
    "\n",
    "# Find translation point:\n",
    "x_star = find_x_star(Qobj,A,b,T)\n",
    "\n",
    "# Translate quadratics:\n",
    "G_of_y = translate_quadratic(G_of_x,x_star)\n",
    "Q_of_y = translate_quadratic(Q_of_x,x_star)"
   ]
  },
  {
   "cell_type": "markdown",
   "metadata": {},
   "source": [
    "## Kernel \"rotation\"\n",
    "\n",
    "Now that the problem has been translated, we replace $y$ by $Nz$, where $N=[v_1~v_2~\\ldots~v_k]\\in\\mathbb{R}^{n\\times k}$, which will reduce the problem dimension from $n$ variables to $k$ variables.\n",
    "\n",
    "From Ian's notes:\n",
    "\n",
    "\\begin{align}\n",
    "\\begin{bmatrix} y_1 \\\\ y_2 \\\\ y_3 \\end{bmatrix}\n",
    "&= \\begin{bmatrix} N_1 \\\\ N_2 \\\\ N_3 \\end{bmatrix} z\n",
    "\\end{align}\n",
    "\n",
    "* The objective becomes $\\min z^\\top \\hat{Q}_{obj} z + 2z^\\top N_1x_1^*$, where $\\hat{Q}_{obj} = N_1^\\top Q N_1$\n",
    "\n",
    "* The temperature constraint becomes $z^\\top N_3^\\top N_3 z = c$."
   ]
  },
  {
   "cell_type": "markdown",
   "metadata": {},
   "source": [
    "The following method rotates a quadratic:"
   ]
  },
  {
   "cell_type": "code",
   "execution_count": null,
   "metadata": {
    "collapsed": false
   },
   "outputs": [],
   "source": [
    "function rotate_quadratic(G_of_x,R)\n",
    "    \"\"\" Rotate quadratic G_of_x by\n",
    "    rotation matrix R.\n",
    "    \"\"\"\n",
    "    G,g,kg = G_of_x\n",
    "    return (R*G*R',R*g,kg)\n",
    "end"
   ]
  },
  {
   "cell_type": "markdown",
   "metadata": {},
   "source": [
    "Here we find and partition $N$, then rotate our objective and constraint quadratics by it:"
   ]
  },
  {
   "cell_type": "code",
   "execution_count": null,
   "metadata": {
    "collapsed": false
   },
   "outputs": [],
   "source": [
    "N = kernel_rotation(A)[:,1:size(A,2) - rank(A)] # take only first k cols\n",
    "\n",
    "N1,N2,N3 = N[idx1,:],N[idx2,:],N[idx3,:] # partition N\n",
    "\n",
    "G_of_z = rotate_quadratic(G_of_y,N')\n",
    "Q_of_z = rotate_quadratic(Q_of_y,N')"
   ]
  },
  {
   "cell_type": "markdown",
   "metadata": {},
   "source": [
    "## Constraint Eigendecomposition\n",
    "\n",
    "Perform an Eigendecomposition: $$N_3^\\top N_3 = UDU^\\top$$"
   ]
  },
  {
   "cell_type": "code",
   "execution_count": null,
   "metadata": {
    "collapsed": false
   },
   "outputs": [],
   "source": [
    "D,U = eig(Q_of_z[1])\n",
    "D = round(D,10)"
   ]
  },
  {
   "cell_type": "markdown",
   "metadata": {},
   "source": [
    "Now let $\\hat{z} = U^\\top z$ so that\n",
    "\n",
    "\\begin{align}\n",
    "z^\\top N_3^\\top N_3 z &= \\hat{z}^\\top D\\hat{z}\n",
    "\\end{align}\n",
    "\n",
    "$D$ has at most $T$ nonzero elements, because rank$(N\n",
    "_3) \\leq T$ by virtue of its dimension. It will look like this:\n",
    "\n",
    "\\begin{align}\n",
    "D &= \\begin{bmatrix} 0 & 0 \\\\ 0 & \\hat{D} \\end{bmatrix}\n",
    "\\end{align}\n",
    "\n",
    "Now let $w = [w_1~w_2]^\\top$ and $\\hat{z}=[\\hat{z}_1~\\hat{z}_2]^\\top$, and relate them as follows:\n",
    "\n",
    "\\begin{align}\n",
    "\\begin{bmatrix} w_1 \\\\ w_2 \\end{bmatrix} &=\n",
    "\\begin{bmatrix} I & 0 \\\\ 0 & \\hat{D}^{1/2} \\end{bmatrix}\n",
    "\\begin{bmatrix} \\hat{z}_1 \\\\ \\hat{z}_2 \\end{bmatrix} \\\\\n",
    "\\implies w &= K\\hat{z} = KU^\\top z\n",
    "\\end{align}"
   ]
  },
  {
   "cell_type": "code",
   "execution_count": null,
   "metadata": {
    "collapsed": false
   },
   "outputs": [],
   "source": [
    "function return_K(D)\n",
    "    K = ones(length(D))\n",
    "    K[find(D)] = sqrt(D[find(D)])\n",
    "    K = diagm(K)\n",
    "    return K\n",
    "end"
   ]
  },
  {
   "cell_type": "markdown",
   "metadata": {},
   "source": [
    "Then\n",
    "\n",
    "\\begin{align}\n",
    "\\hat{z}^\\top D\\hat{z} &= \\hat{z}_1\\hat{D}^{1/2}\\hat{D}^{1/2}\\hat{z} \\\\\n",
    "&= w_1^\\top w_1\n",
    "\\end{align}\n",
    "\n",
    "Note that $z = UK^{-1}w$ because $UU^\\top = I$. Changing from $z$ to $w$ is equivalent to rotating by $(UK^{-1})^\\top$.\n",
    "\n",
    "Substituting into the cost function:\n",
    "\n",
    "$$ z^\\top \\hat{Q}_{obj}z = w^\\top K^{-1}U^\\top \\hat{Q}_{obj}UK^{-1}w + 2z^\\top K^{-1}U^\\top N_1x_1^* = w^\\top Bw + w^\\top b$$\n",
    "\n",
    "With $w$, $B$, and $b$ defined, the optimization problem becomes\n",
    "\n",
    "\\begin{align}\n",
    "&& \\min~ w^\\top Bw + w^\\top b \\\\\n",
    "s.t. && w_2^\\top w_2 &= c\n",
    "\\end{align}"
   ]
  },
  {
   "cell_type": "code",
   "execution_count": null,
   "metadata": {
    "collapsed": false
   },
   "outputs": [],
   "source": [
    "K = return_K(D)\n",
    "\n",
    "G_of_w = rotate_quadratic(G_of_z,(U/K)')\n",
    "Q_of_w = rotate_quadratic(Q_of_z,(U/K)')"
   ]
  }
 ],
 "metadata": {
  "kernelspec": {
   "display_name": "Julia",
   "language": "julia",
   "name": "julia"
  },
  "language_info": {
   "name": "julia",
   "version": "0.3.6"
  }
 },
 "nbformat": 4,
 "nbformat_minor": 0
}
