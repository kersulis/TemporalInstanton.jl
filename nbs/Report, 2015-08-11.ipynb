{
 "cells": [
  {
   "cell_type": "markdown",
   "metadata": {},
   "source": [
    "## Performance improvements\n",
    "\n",
    "* Invoked sparsity throughout analysis: significant speedup\n",
    "* Re-wrote QCQP matrix generation methods, 90% reduction in memory allocation\n",
    "* Wrapped core computation in parallelizable for loop\n",
    "* Plotted computation time vs memory allocation for various numbers of worker processes *(plot below)*\n",
    "\n",
    "![Parallel performance](../images/2015-07-29-parallelization-performance.svg)\n",
    "\n",
    "* Re-wrote `find_x_star` to handle cases where $A$ doesn't have full row rank\n",
    "* Added zero-resistance check: if a line has zero resistance, no amount of power flow can influence its temperature, so skip it.\n",
    "* Created type containers for input data and output data; makes it easier to load data for any network or plot any analysis output regardless of conductor parameters.\n",
    "* ** 6-time-step RTS-96 analysis time: **\n",
    "\n",
    "| Time (s) | Note                        |\n",
    "|:--------:|:----------------------------|\n",
    "| 420      | Original                    |\n",
    "| 20       | No more `backslash`         |\n",
    "| 13       | Invoked sparsity            |\n",
    "| 8        | Fine-tuning                 |\n",
    "| 4        | Parallelize to 2 processors |"
   ]
  },
  {
   "cell_type": "markdown",
   "metadata": {},
   "source": [
    "## Testing on multiple networks\n",
    "\n",
    "* Wrote code to supplement data for any Matpower network with RTS-96 thermal data\n",
    "* Performed instanton analysis on nine Matpower networks (with RTS-96-esque thermal data) to characterize performance *(plot below)* \n",
    "\n",
    "![Performance by network](../images/2015-08-11-performance-by-network.svg)"
   ]
  },
  {
   "cell_type": "markdown",
   "metadata": {},
   "source": [
    "## Covariance matrices\n",
    "\n",
    "* Pass [randomly-generated][1] unit-norm covariance matrix to instanton analysis code.\n",
    "* Observed no discernible performance implications.\n",
    "* Observed downward shift in instanton candidate scores for 6-time-step RTS-96 analysis *(plot below)*\n",
    "\n",
    "![Score by covariance](../images/2015-08-11-score-by-covariance.svg)\n",
    "\n",
    "[1]: http://dx.doi.org/10.1016/j.jmva.2009.04.008"
   ]
  },
  {
   "cell_type": "markdown",
   "metadata": {},
   "source": [
    "## Roadmap\n",
    "\n",
    "* Continue writing about findings, refining existing draft\n",
    "* Better visualization of covariance effects\n",
    "* Finer control of covariance matrix generation\n",
    "* Study temporal covariance\n",
    "* Attempt to use `eigs` rather than `eig` to speed up computation on larger networks"
   ]
  }
 ],
 "metadata": {
  "kernelspec": {
   "display_name": "Julia 0.4.0",
   "language": "julia",
   "name": "julia-0.4"
  },
  "language_info": {
   "file_extension": ".jl",
   "mimetype": "application/julia",
   "name": "julia",
   "version": "0.4.2"
  }
 },
 "nbformat": 4,
 "nbformat_minor": 0
}
