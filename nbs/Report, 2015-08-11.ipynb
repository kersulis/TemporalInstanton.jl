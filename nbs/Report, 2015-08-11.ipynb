{
 "cells": [
  {
   "cell_type": "markdown",
   "metadata": {},
   "source": [
    "## Performance improvements\n",
    "\n",
    "* Invoked sparsity throughout analysis: significant speedup\n",
    "* Re-wrote QCQP matrix generation methods, 90% reduction in memory allocation\n",
    "* Wrapped core computation in parallelizable for loop\n",
    "* Plotted computation time vs memory allocation for various numbers of worker processes *(plot below)*\n",
    "\n",
    "![Parallel performance](../images/2015-07-29-parallelization-performance.svg)\n",
    "\n",
    "* Re-wrote `find_x_star` to handle cases where $A$ doesn't have full row rank\n",
    "* Added zero-resistance check: if a line has zero resistance, no amount of power flow can influence its temperature, so skip it.\n",
    "* Created type containers for input data and output data; makes it easier to load data for any network or plot any analysis output regardless of conductor parameters.\n",
    "* ** 6-time-step RTS-96 analysis time: **\n",
    "\n",
    "| Time (s) | Note                        |\n",
    "|:--------:|:----------------------------|\n",
    "| 420      | Original                    |\n",
    "| 20       | No more `backslash`         |\n",
    "| 13       | Invoked sparsity            |\n",
    "| 8        | Fine-tuning                 |\n",
    "| 4        | Parallelize to 2 processors |"
   ]
  },
  {
   "cell_type": "markdown",
   "metadata": {},
   "source": [
    "## Testing on multiple networks\n",
    "\n",
    "* Wrote code to supplement data for any Matpower network with RTS-96 thermal data\n",
    "* Performed instanton analysis on nine Matpower networks (with RTS-96-esque thermal data) to characterize performance *(plot below)* \n",
    "\n",
    "![Performance by network](../images/2015-08-11-performance-by-network.svg)"
   ]
  },
  {
   "cell_type": "markdown",
   "metadata": {},
   "source": [
    "## Covariance matrices\n",
    "\n",
    "* Pass [randomly-generated][1] unit-norm covariance matrix to instanton analysis code.\n",
    "* Observed no discernible performance implications.\n",
    "* Observed downward shift in instanton candidate scores for 6-time-step RTS-96 analysis *(plot below)*\n",
    "\n",
    "![Score by covariance](../images/2015-08-11-score-by-covariance.svg)\n",
    "\n",
    "[1]: http://dx.doi.org/10.1016/j.jmva.2009.04.008"
   ]
  },
  {
   "cell_type": "markdown",
   "metadata": {},
   "source": [
    "## Roadmap\n",
    "\n",
    "* Continue writing about findings, refining existing draft\n",
    "* Better visualization of covariance effects\n",
    "* Finer control of covariance matrix generation\n",
    "* Study temporal covariance\n",
    "* Attempt to use `eigs` rather than `eig` to speed up computation on larger networks"
   ]
  },
  {
   "cell_type": "code",
   "execution_count": 1,
   "metadata": {
    "collapsed": false
   },
   "outputs": [
    {
     "name": "stdout",
     "output_type": "stream",
     "text": [
      "search: "
     ]
    },
    {
     "data": {
      "text/html": [
       "<div class=\"markdown\"><pre><code class=\"language-rst\">::\n",
       "           eigs&#40;A, &#91;B,&#93;; nev&#61;6, which&#61;&quot;LM&quot;, tol&#61;0.0, maxiter&#61;300, sigma&#61;nothing, ritzvec&#61;true, v0&#61;zeros&#40;&#40;0,&#41;&#41;&#41; -&gt; &#40;d,&#91;v,&#93;,nconv,niter,nmult,resid&#41;\n",
       "\n",
       "Computes eigenvalues &#96;&#96;d&#96;&#96; of &#96;&#96;A&#96;&#96; using Lanczos or Arnoldi iterations for\n",
       "real symmetric or general nonsymmetric matrices respectively. If &#96;&#96;B&#96;&#96; is\n",
       "provided, the generalized eigenproblem is solved.\n",
       "\n",
       "The following keyword arguments are supported:\n",
       " * &#96;&#96;nev&#96;&#96;: Number of eigenvalues\n",
       " * &#96;&#96;ncv&#96;&#96;: Number of Krylov vectors used in the computation; should satisfy\n",
       "    &#96;&#96;nev&#43;1 &lt;&#61; ncv &lt;&#61; n&#96;&#96; for real symmetric problems and &#96;&#96;nev&#43;2 &lt;&#61; ncv &lt;&#61; n&#96;&#96;\n",
       "    for other problems, where &#96;&#96;n&#96;&#96; is the size of the input matrix &#96;&#96;A&#96;&#96;.\n",
       "    The default is &#96;&#96;ncv &#61; max&#40;20,2*nev&#43;1&#41;&#96;&#96;.\n",
       "    Note that these restrictions limit the input matrix &#96;&#96;A&#96;&#96; to be of\n",
       "    dimension at least 2.\n",
       " * &#96;&#96;which&#96;&#96;: type of eigenvalues to compute. See the note below.\n",
       "\n",
       "   &#61;&#61;&#61;&#61;&#61;&#61;&#61;&#61;&#61; &#61;&#61;&#61;&#61;&#61;&#61;&#61;&#61;&#61;&#61;&#61;&#61;&#61;&#61;&#61;&#61;&#61;&#61;&#61;&#61;&#61;&#61;&#61;&#61;&#61;&#61;&#61;&#61;&#61;&#61;&#61;&#61;&#61;&#61;&#61;&#61;&#61;&#61;&#61;&#61;&#61;&#61;&#61;&#61;&#61;&#61;&#61;&#61;&#61;&#61;&#61;&#61;&#61;&#61;&#61;&#61;&#61;&#61;&#61;&#61;&#61;&#61;&#61;&#61;&#61;&#61;&#61;&#61;&#61;&#61;&#61;&#61;&#61;&#61;&#61;&#61;&#61;&#61;&#61;&#61;&#61;&#61;&#61;&#61;&#61;&#61;&#61;&#61;&#61;&#61;&#61;&#61;&#61;&#61;&#61;&#61;&#61;&#61;&#61;&#61;&#61;&#61;&#61;&#61;&#61;&#61;&#61;&#61;&#61;&#61;&#61;&#61;&#61;&#61;&#61;&#61;&#61;&#61;\n",
       "   &#96;&#96;which&#96;&#96; type of eigenvalues\n",
       "   --------- ----------------------------------------------------------------------------------------------------------------------\n",
       "   &#96;&#96;:LM&#96;&#96;   eigenvalues of largest magnitude &#40;default&#41;\n",
       "   &#96;&#96;:SM&#96;&#96;   eigenvalues of smallest magnitude\n",
       "   &#96;&#96;:LR&#96;&#96;   eigenvalues of largest real part\n",
       "   &#96;&#96;:SR&#96;&#96;   eigenvalues of smallest real part\n",
       "   &#96;&#96;:LI&#96;&#96;   eigenvalues of largest imaginary part &#40;nonsymmetric or complex &#96;&#96;A&#96;&#96; only&#41;\n",
       "   &#96;&#96;:SI&#96;&#96;   eigenvalues of smallest imaginary part &#40;nonsymmetric or complex &#96;&#96;A&#96;&#96; only&#41;\n",
       "   &#96;&#96;:BE&#96;&#96;   compute half of the eigenvalues from each end of the spectrum, biased in favor of the high end. &#40;real symmetric &#96;&#96;A&#96;&#96; only&#41;\n",
       "   &#61;&#61;&#61;&#61;&#61;&#61;&#61;&#61;&#61; &#61;&#61;&#61;&#61;&#61;&#61;&#61;&#61;&#61;&#61;&#61;&#61;&#61;&#61;&#61;&#61;&#61;&#61;&#61;&#61;&#61;&#61;&#61;&#61;&#61;&#61;&#61;&#61;&#61;&#61;&#61;&#61;&#61;&#61;&#61;&#61;&#61;&#61;&#61;&#61;&#61;&#61;&#61;&#61;&#61;&#61;&#61;&#61;&#61;&#61;&#61;&#61;&#61;&#61;&#61;&#61;&#61;&#61;&#61;&#61;&#61;&#61;&#61;&#61;&#61;&#61;&#61;&#61;&#61;&#61;&#61;&#61;&#61;&#61;&#61;&#61;&#61;&#61;&#61;&#61;&#61;&#61;&#61;&#61;&#61;&#61;&#61;&#61;&#61;&#61;&#61;&#61;&#61;&#61;&#61;&#61;&#61;&#61;&#61;&#61;&#61;&#61;&#61;&#61;&#61;&#61;&#61;&#61;&#61;&#61;&#61;&#61;&#61;&#61;&#61;&#61;&#61;&#61;\n",
       "\n",
       " * &#96;&#96;tol&#96;&#96;: tolerance &#40;:math:&#96;tol \\le 0.0&#96; defaults to &#96;&#96;DLAMCH&#40;&#39;EPS&#39;&#41;&#96;&#96;&#41;\n",
       " * &#96;&#96;maxiter&#96;&#96;: Maximum number of iterations &#40;default &#61; 300&#41;\n",
       " * &#96;&#96;sigma&#96;&#96;: Specifies the level shift used in inverse iteration. If &#96;&#96;nothing&#96;&#96; &#40;default&#41;, defaults to ordinary &#40;forward&#41; iterations. Otherwise, find eigenvalues close to &#96;&#96;sigma&#96;&#96; using shift and invert iterations.\n",
       " * &#96;&#96;ritzvec&#96;&#96;: Returns the Ritz vectors &#96;&#96;v&#96;&#96; &#40;eigenvectors&#41; if &#96;&#96;true&#96;&#96;\n",
       " * &#96;&#96;v0&#96;&#96;: starting vector from which to start the iterations\n",
       "\n",
       "&#96;&#96;eigs&#96;&#96; returns the &#96;&#96;nev&#96;&#96; requested eigenvalues in &#96;&#96;d&#96;&#96;, the corresponding Ritz vectors &#96;&#96;v&#96;&#96; &#40;only if &#96;&#96;ritzvec&#61;true&#96;&#96;&#41;, the number of converged eigenvalues &#96;&#96;nconv&#96;&#96;, the number of iterations &#96;&#96;niter&#96;&#96; and the number of matrix vector multiplications &#96;&#96;nmult&#96;&#96;, as well as the final residual vector &#96;&#96;resid&#96;&#96;.\n",
       "\n",
       ".. note:: The &#96;&#96;sigma&#96;&#96; and &#96;&#96;which&#96;&#96; keywords interact: the description of eigenvalues searched for by &#96;&#96;which&#96;&#96; do _not_ necessarily refer to the eigenvalues of &#96;&#96;A&#96;&#96;, but rather the linear operator constructed by the specification of the iteration mode implied by &#96;&#96;sigma&#96;&#96;.\n",
       "\n",
       "   &#61;&#61;&#61;&#61;&#61;&#61;&#61;&#61;&#61;&#61;&#61;&#61;&#61;&#61;&#61; &#61;&#61;&#61;&#61;&#61;&#61;&#61;&#61;&#61;&#61;&#61;&#61;&#61;&#61;&#61;&#61;&#61;&#61;&#61;&#61;&#61;&#61;&#61;&#61;&#61;&#61;&#61;&#61;&#61;&#61;&#61;&#61;&#61;&#61; &#61;&#61;&#61;&#61;&#61;&#61;&#61;&#61;&#61;&#61;&#61;&#61;&#61;&#61;&#61;&#61;&#61;&#61;&#61;&#61;&#61;&#61;&#61;&#61;&#61;&#61;&#61;&#61;&#61;&#61;&#61;&#61;&#61;&#61;\n",
       "   &#96;&#96;sigma&#96;&#96;       iteration mode                     &#96;&#96;which&#96;&#96; refers to eigenvalues of\n",
       "   --------------- ---------------------------------- ----------------------------------\n",
       "   &#96;&#96;nothing&#96;&#96;     ordinary &#40;forward&#41;                 :math:&#96;A&#96;\n",
       "   real or complex inverse with level shift &#96;&#96;sigma&#96;&#96; :math:&#96;&#40;A - \\sigma I &#41;^&#123;-1&#125;&#96;\n",
       "   &#61;&#61;&#61;&#61;&#61;&#61;&#61;&#61;&#61;&#61;&#61;&#61;&#61;&#61;&#61; &#61;&#61;&#61;&#61;&#61;&#61;&#61;&#61;&#61;&#61;&#61;&#61;&#61;&#61;&#61;&#61;&#61;&#61;&#61;&#61;&#61;&#61;&#61;&#61;&#61;&#61;&#61;&#61;&#61;&#61;&#61;&#61;&#61;&#61; &#61;&#61;&#61;&#61;&#61;&#61;&#61;&#61;&#61;&#61;&#61;&#61;&#61;&#61;&#61;&#61;&#61;&#61;&#61;&#61;&#61;&#61;&#61;&#61;&#61;&#61;&#61;&#61;&#61;&#61;&#61;&#61;&#61;&#61;</code></pre>\n",
       "\n",
       "</div>"
      ],
      "text/latex": [
       "\\begin{verbatim}\n",
       "::\n",
       "           eigs(A, [B,]; nev=6, which=\"LM\", tol=0.0, maxiter=300, sigma=nothing, ritzvec=true, v0=zeros((0,))) -> (d,[v,],nconv,niter,nmult,resid)\n",
       "\n",
       "Computes eigenvalues ``d`` of ``A`` using Lanczos or Arnoldi iterations for\n",
       "real symmetric or general nonsymmetric matrices respectively. If ``B`` is\n",
       "provided, the generalized eigenproblem is solved.\n",
       "\n",
       "The following keyword arguments are supported:\n",
       " * ``nev``: Number of eigenvalues\n",
       " * ``ncv``: Number of Krylov vectors used in the computation; should satisfy\n",
       "    ``nev+1 <= ncv <= n`` for real symmetric problems and ``nev+2 <= ncv <= n``\n",
       "    for other problems, where ``n`` is the size of the input matrix ``A``.\n",
       "    The default is ``ncv = max(20,2*nev+1)``.\n",
       "    Note that these restrictions limit the input matrix ``A`` to be of\n",
       "    dimension at least 2.\n",
       " * ``which``: type of eigenvalues to compute. See the note below.\n",
       "\n",
       "   ========= ======================================================================================================================\n",
       "   ``which`` type of eigenvalues\n",
       "   --------- ----------------------------------------------------------------------------------------------------------------------\n",
       "   ``:LM``   eigenvalues of largest magnitude (default)\n",
       "   ``:SM``   eigenvalues of smallest magnitude\n",
       "   ``:LR``   eigenvalues of largest real part\n",
       "   ``:SR``   eigenvalues of smallest real part\n",
       "   ``:LI``   eigenvalues of largest imaginary part (nonsymmetric or complex ``A`` only)\n",
       "   ``:SI``   eigenvalues of smallest imaginary part (nonsymmetric or complex ``A`` only)\n",
       "   ``:BE``   compute half of the eigenvalues from each end of the spectrum, biased in favor of the high end. (real symmetric ``A`` only)\n",
       "   ========= ======================================================================================================================\n",
       "\n",
       " * ``tol``: tolerance (:math:`tol \\le 0.0` defaults to ``DLAMCH('EPS')``)\n",
       " * ``maxiter``: Maximum number of iterations (default = 300)\n",
       " * ``sigma``: Specifies the level shift used in inverse iteration. If ``nothing`` (default), defaults to ordinary (forward) iterations. Otherwise, find eigenvalues close to ``sigma`` using shift and invert iterations.\n",
       " * ``ritzvec``: Returns the Ritz vectors ``v`` (eigenvectors) if ``true``\n",
       " * ``v0``: starting vector from which to start the iterations\n",
       "\n",
       "``eigs`` returns the ``nev`` requested eigenvalues in ``d``, the corresponding Ritz vectors ``v`` (only if ``ritzvec=true``), the number of converged eigenvalues ``nconv``, the number of iterations ``niter`` and the number of matrix vector multiplications ``nmult``, as well as the final residual vector ``resid``.\n",
       "\n",
       ".. note:: The ``sigma`` and ``which`` keywords interact: the description of eigenvalues searched for by ``which`` do _not_ necessarily refer to the eigenvalues of ``A``, but rather the linear operator constructed by the specification of the iteration mode implied by ``sigma``.\n",
       "\n",
       "   =============== ================================== ==================================\n",
       "   ``sigma``       iteration mode                     ``which`` refers to eigenvalues of\n",
       "   --------------- ---------------------------------- ----------------------------------\n",
       "   ``nothing``     ordinary (forward)                 :math:`A`\n",
       "   real or complex inverse with level shift ``sigma`` :math:`(A - \\sigma I )^{-1}`\n",
       "   =============== ================================== ==================================\n",
       "\\end{verbatim}\n"
      ],
      "text/plain": [
       "```rst\n",
       "::\n",
       "           eigs(A, [B,]; nev=6, which=\"LM\", tol=0.0, maxiter=300, sigma=nothing, ritzvec=true, v0=zeros((0,))) -> (d,[v,],nconv,niter,nmult,resid)\n",
       "\n",
       "Computes eigenvalues ``d`` of ``A`` using Lanczos or Arnoldi iterations for\n",
       "real symmetric or general nonsymmetric matrices respectively. If ``B`` is\n",
       "provided, the generalized eigenproblem is solved.\n",
       "\n",
       "The following keyword arguments are supported:\n",
       " * ``nev``: Number of eigenvalues\n",
       " * ``ncv``: Number of Krylov vectors used in the computation; should satisfy\n",
       "    ``nev+1 <= ncv <= n`` for real symmetric problems and ``nev+2 <= ncv <= n``\n",
       "    for other problems, where ``n`` is the size of the input matrix ``A``.\n",
       "    The default is ``ncv = max(20,2*nev+1)``.\n",
       "    Note that these restrictions limit the input matrix ``A`` to be of\n",
       "    dimension at least 2.\n",
       " * ``which``: type of eigenvalues to compute. See the note below.\n",
       "\n",
       "   ========= ======================================================================================================================\n",
       "   ``which`` type of eigenvalues\n",
       "   --------- ----------------------------------------------------------------------------------------------------------------------\n",
       "   ``:LM``   eigenvalues of largest magnitude (default)\n",
       "   ``:SM``   eigenvalues of smallest magnitude\n",
       "   ``:LR``   eigenvalues of largest real part\n",
       "   ``:SR``   eigenvalues of smallest real part\n",
       "   ``:LI``   eigenvalues of largest imaginary part (nonsymmetric or complex ``A`` only)\n",
       "   ``:SI``   eigenvalues of smallest imaginary part (nonsymmetric or complex ``A`` only)\n",
       "   ``:BE``   compute half of the eigenvalues from each end of the spectrum, biased in favor of the high end. (real symmetric ``A`` only)\n",
       "   ========= ======================================================================================================================\n",
       "\n",
       " * ``tol``: tolerance (:math:`tol \\le 0.0` defaults to ``DLAMCH('EPS')``)\n",
       " * ``maxiter``: Maximum number of iterations (default = 300)\n",
       " * ``sigma``: Specifies the level shift used in inverse iteration. If ``nothing`` (default), defaults to ordinary (forward) iterations. Otherwise, find eigenvalues close to ``sigma`` using shift and invert iterations.\n",
       " * ``ritzvec``: Returns the Ritz vectors ``v`` (eigenvectors) if ``true``\n",
       " * ``v0``: starting vector from which to start the iterations\n",
       "\n",
       "``eigs`` returns the ``nev`` requested eigenvalues in ``d``, the corresponding Ritz vectors ``v`` (only if ``ritzvec=true``), the number of converged eigenvalues ``nconv``, the number of iterations ``niter`` and the number of matrix vector multiplications ``nmult``, as well as the final residual vector ``resid``.\n",
       "\n",
       ".. note:: The ``sigma`` and ``which`` keywords interact: the description of eigenvalues searched for by ``which`` do _not_ necessarily refer to the eigenvalues of ``A``, but rather the linear operator constructed by the specification of the iteration mode implied by ``sigma``.\n",
       "\n",
       "   =============== ================================== ==================================\n",
       "   ``sigma``       iteration mode                     ``which`` refers to eigenvalues of\n",
       "   --------------- ---------------------------------- ----------------------------------\n",
       "   ``nothing``     ordinary (forward)                 :math:`A`\n",
       "   real or complex inverse with level shift ``sigma`` :math:`(A - \\sigma I )^{-1}`\n",
       "   =============== ================================== ==================================\n",
       "```\n"
      ]
     },
     "execution_count": 1,
     "metadata": {},
     "output_type": "execute_result"
    },
    {
     "name": "stdout",
     "output_type": "stream",
     "text": [
      "eigs eigvecs eigvals eigvals! leading_ones leading_zeros\n",
      "\n"
     ]
    }
   ],
   "source": [
    "?eigs"
   ]
  }
 ],
 "metadata": {
  "kernelspec": {
   "display_name": "Julia 0.4.0-dev+6561",
   "language": "julia",
   "name": "julia"
  },
  "language_info": {
   "name": "julia",
   "version": "0.4.0"
  }
 },
 "nbformat": 4,
 "nbformat_minor": 0
}
