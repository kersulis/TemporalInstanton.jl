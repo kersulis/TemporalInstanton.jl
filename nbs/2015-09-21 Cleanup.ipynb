{
 "cells": [
  {
   "cell_type": "code",
   "execution_count": 1,
   "metadata": {
    "collapsed": false,
    "scrolled": false
   },
   "outputs": [
    {
     "ename": "LoadError",
     "evalue": "LoadError: LoadError: LoadError: syntax: invalid interpolation syntax: \"$$\"\nwhile loading /home/jkersulis/Documents/Dropbox/InstantonAnew/Jonas Edits/Time-Coupled Instanton/temporal-instanton/src/solvetmpinst.jl, in expression starting on line 4\nwhile loading /home/jkersulis/Documents/Dropbox/InstantonAnew/Jonas Edits/Time-Coupled Instanton/temporal-instanton/src/TemporalInstanton.jl, in expression starting on line 27\nwhile loading In[1], in expression starting on line 1",
     "output_type": "error",
     "traceback": [
      "LoadError: LoadError: LoadError: syntax: invalid interpolation syntax: \"$$\"\nwhile loading /home/jkersulis/Documents/Dropbox/InstantonAnew/Jonas Edits/Time-Coupled Instanton/temporal-instanton/src/solvetmpinst.jl, in expression starting on line 4\nwhile loading /home/jkersulis/Documents/Dropbox/InstantonAnew/Jonas Edits/Time-Coupled Instanton/temporal-instanton/src/TemporalInstanton.jl, in expression starting on line 27\nwhile loading In[1], in expression starting on line 1",
      "",
      " in include at ./boot.jl:254",
      " in include_from_node1 at ./loading.jl:263",
      " in include at ./boot.jl:254",
      " in include_from_node1 at ./loading.jl:263"
     ]
    }
   ],
   "source": [
    "include(\"../src/TemporalInstanton.jl\")\n",
    "using TemporalInstanton"
   ]
  },
  {
   "cell_type": "markdown",
   "metadata": {},
   "source": [
    "*hello\\*"
   ]
  },
  {
   "cell_type": "code",
   "execution_count": 2,
   "metadata": {
    "collapsed": false
   },
   "outputs": [
    {
     "data": {
      "text/plain": [
       "expand_renewable_vector (generic function with 1 method)"
      ]
     },
     "execution_count": 2,
     "metadata": {},
     "output_type": "execute_result"
    }
   ],
   "source": [
    "\"\"\"\n",
    "    expand_renewable_vector(x,Ridx,N,T) -> P\n",
    "Starting with `x`, a `length(Ridx)*T` vector containing generation forecast for all nodes and time steps, insert zeros to produce an `N*T`-long vector.\n",
    "\"\"\"\n",
    "function expand_renewable_vector(x,Ridx,N,T)\n",
    "    idx = Array(Integer,0)\n",
    "    for i = 0:T-1\n",
    "        append!(idx,Ridx + i*N)\n",
    "    end\n",
    "    P = zeros(N*T)\n",
    "    P[idx] = x\n",
    "    return P\n",
    "end"
   ]
  },
  {
   "cell_type": "code",
   "execution_count": 6,
   "metadata": {
    "collapsed": false
   },
   "outputs": [
    {
     "data": {
      "text/plain": [
       "fixed_wind_A (generic function with 1 method)"
      ]
     },
     "execution_count": 6,
     "metadata": {},
     "output_type": "execute_result"
    }
   ],
   "source": [
    "\"\"\"\n",
    "    fixed_wind_A(T,Y,ref,k) -> A\n",
    "Generate the power balance constraint A matrix from problem dimensions, admittance matrix, and generator participation factors. Use this function when variable (renewable) injections are known, to run power flow and determine angle differences throughout the network.\n",
    "\n",
    "Assumes the admittance matrix is n-by-n.\n",
    "\n",
    "Returns A, which is (n+1)T-by-(nr+n+1)T\n",
    "\n",
    "* `nr` is the number of wind farms in the network\n",
    "* `n` is the number of nodes in the network\n",
    "* `Ridx` is a vector indicating wind farm locations\n",
    "* `T` is the number of time steps\n",
    "* `Y` is the admittance matrix (n-by-n)\n",
    "* `ref` is the index of the angle reference bus\n",
    "* `k` is the vector of generator participation factors\n",
    "\"\"\"\n",
    "function fixed_wind_A(T,Y,ref,k)\n",
    "    function ei(n,i)\n",
    "        v = zeros(n)\n",
    "        v[i] = 1.0\n",
    "        return v\n",
    "    end\n",
    "\n",
    "    n = size(Y,1)\n",
    "\n",
    "    # A has a block diagonal pattern where each\n",
    "    # block is Atemp:\n",
    "    Atemp = sparse([[  Y       -k];\n",
    "                    ei(n,ref)'   0])\n",
    "\n",
    "    # Now we can tile the Atemp matrix to generate A:\n",
    "    A = Atemp\n",
    "    for t = 2:T\n",
    "        A = blkdiag(A, Atemp)\n",
    "    end\n",
    "\n",
    "    return full(A)\n",
    "end"
   ]
  },
  {
   "cell_type": "code",
   "execution_count": 7,
   "metadata": {
    "collapsed": false
   },
   "outputs": [
    {
     "name": "stdout",
     "output_type": "stream",
     "text": [
      "search: "
     ]
    },
    {
     "data": {
      "text/html": [
       "<div class=\"markdown\"><pre><code>fixed_wind_A&#40;T,Y,ref,k&#41; -&gt; A</code></pre>\n",
       "<p>Generate the power balance constraint A matrix from problem dimensions, admittance matrix, and generator participation factors. Use this function when variable &#40;renewable&#41; injections are known, to run power flow and determine angle differences throughout the network.</p>\n",
       "<p>Assumes the admittance matrix is n-by-n.</p>\n",
       "<p>Returns A, which is &#40;n&#43;1&#41;T-by-&#40;nr&#43;n&#43;1&#41;T</p>\n",
       "<ul>\n",
       "<li><code>nr</code> is the number of wind farms in the network</li>\n",
       "<li><code>n</code> is the number of nodes in the network</li>\n",
       "<li><code>Ridx</code> is a vector indicating wind farm locations</li>\n",
       "<li><code>T</code> is the number of time steps</li>\n",
       "<li><code>Y</code> is the admittance matrix &#40;n-by-n&#41;</li>\n",
       "<li><code>ref</code> is the index of the angle reference bus</li>\n",
       "<li><code>k</code> is the vector of generator participation factors</li>\n",
       "</ul>\n",
       "\n",
       "</div>"
      ],
      "text/latex": [
       "\\begin{verbatim}\n",
       "fixed_wind_A(T,Y,ref,k) -> A\n",
       "\\end{verbatim}\n",
       "Generate the power balance constraint A matrix from problem dimensions, admittance matrix, and generator participation factors. Use this function when variable (renewable) injections are known, to run power flow and determine angle differences throughout the network.\n",
       "Assumes the admittance matrix is n-by-n.\n",
       "Returns A, which is (n+1)T-by-(nr+n+1)T\n",
       "\\begin{itemize}\n",
       "\\item \\texttt{nr} is the number of wind farms in the network\n",
       "\\item \\texttt{n} is the number of nodes in the network\n",
       "\\item \\texttt{Ridx} is a vector indicating wind farm locations\n",
       "\\item \\texttt{T} is the number of time steps\n",
       "\\item \\texttt{Y} is the admittance matrix (n-by-n)\n",
       "\\item \\texttt{ref} is the index of the angle reference bus\n",
       "\\item \\texttt{k} is the vector of generator participation factors\n",
       "\\end{itemize}\n"
      ],
      "text/plain": [
       "```\n",
       "fixed_wind_A(T,Y,ref,k) -> A\n",
       "```\n",
       "\n",
       "Generate the power balance constraint A matrix from problem dimensions, admittance matrix, and generator participation factors. Use this function when variable (renewable) injections are known, to run power flow and determine angle differences throughout the network.\n",
       "\n",
       "Assumes the admittance matrix is n-by-n.\n",
       "\n",
       "Returns A, which is (n+1)T-by-(nr+n+1)T\n",
       "\n",
       "  * `nr` is the number of wind farms in the network\n",
       "  * `n` is the number of nodes in the network\n",
       "  * `Ridx` is a vector indicating wind farm locations\n",
       "  * `T` is the number of time steps\n",
       "  * `Y` is the admittance matrix (n-by-n)\n",
       "  * `ref` is the index of the angle reference bus\n",
       "  * `k` is the vector of generator participation factors\n"
      ]
     },
     "execution_count": 7,
     "metadata": {},
     "output_type": "execute_result"
    },
    {
     "name": "stdout",
     "output_type": "stream",
     "text": [
      "fixed_wind_A\n",
      "\n"
     ]
    }
   ],
   "source": [
    "?fixed_wind_A"
   ]
  },
  {
   "cell_type": "code",
   "execution_count": 14,
   "metadata": {
    "collapsed": false
   },
   "outputs": [
    {
     "data": {
      "text/plain": [
       "solvesecular (generic function with 1 method)"
      ]
     },
     "execution_count": 14,
     "metadata": {},
     "output_type": "execute_result"
    }
   ],
   "source": [
    "\"\"\"\n",
    "Solve the secular equation by returning `v` satisfying\n",
    "s(v) = w'\\*w = c,\n",
    "\n",
    "where `w = num./(v - poles)`\n",
    "\n",
    "Inputs:\n",
    "\n",
    "* `num` is a diagonal matrix with numerator\n",
    "* `poles` is a vector of poles (no need to sort them)\n",
    "* `c` is the target constant; we return solutions s(v) = c.\n",
    "\n",
    "Output:\n",
    "\n",
    "* `vals` is a vector of solutions `v` satisfying s(v) = c\n",
    "* `vecs` is a vector of vectors `w` corresponding to `vals`\n",
    "\"\"\"\n",
    "function solvesecular(\n",
    "    num::Vector{Float64},\n",
    "    poles::Vector{Float64},\n",
    "    c::Float64\n",
    "    )\n",
    "    s(vv::Vector{Float64}) = [sumabs2(num./(v - poles)) for v in vv]\n",
    "    s(v::Float64) = sumabs2(num./(v - poles))\n",
    "    w(vv::Vector{Float64}) = [float(num./(v - poles)) for v in vv]\n",
    "    w(v::Float64) = float(num./(v - poles))\n",
    "    tiny = c/1e8\n",
    "\n",
    "    vals = Vector{Float64}()\n",
    "    sortedpoles = sort(poles)\n",
    "\n",
    "    for i in 1:length(sortedpoles)\n",
    "        upper = sortedpoles[i]\n",
    "\n",
    "        # head left\n",
    "        dist = finddist(i,sortedpoles,true)\n",
    "        lower = upper - dist/2\n",
    "        intersect = secularintersect(c,upper,lower,s,tiny)\n",
    "\n",
    "        isinf(intersect) && continue\n",
    "\n",
    "        # there must be at least one solution for leftmost pole\n",
    "        if i == 1\n",
    "            ex = 0\n",
    "            while isnan(intersect)\n",
    "                ex += 1\n",
    "                if ex == 10\n",
    "                    intersect = NaN\n",
    "                    break\n",
    "                end\n",
    "                warn(\"expanding $ex\")\n",
    "                lower -= 100*dist\n",
    "                intersect = secularintersect(c,upper,lower,s,tiny)\n",
    "            end\n",
    "        end\n",
    "        push!(vals,intersect)\n",
    "\n",
    "        # head right\n",
    "        dist = finddist(i,sortedpoles,false)\n",
    "        lower = upper + dist/2\n",
    "        intersect = secularintersect(c,upper,lower,s,tiny)\n",
    "        # there must be at least one solution for rightmost pole\n",
    "        if i == length(sortedpoles)\n",
    "            ex = 0\n",
    "            while isnan(intersect)\n",
    "                ex += 1\n",
    "                if ex == 10\n",
    "                    intersect = NaN\n",
    "                    break\n",
    "                end\n",
    "                warn(\"expanding $ex\")\n",
    "                lower += 100*dist\n",
    "                intersect = secularintersect(c,upper,lower,s,tiny)\n",
    "            end\n",
    "        end\n",
    "        push!(vals,intersect)\n",
    "    end\n",
    "    filter!(x -> !isnan(x),vals)\n",
    "    return vals, w(vals)\n",
    "end"
   ]
  },
  {
   "cell_type": "code",
   "execution_count": 15,
   "metadata": {
    "collapsed": false
   },
   "outputs": [
    {
     "name": "stdout",
     "output_type": "stream",
     "text": [
      "search: "
     ]
    },
    {
     "data": {
      "text/html": [
       "<div class=\"markdown\"><p>Solve the secular equation by returning <code>v</code> satisfying s&#40;v&#41; &#61; w&#39;*w &#61; c,</p>\n",
       "<p>where <code>w &#61; num./&#40;v - poles&#41;</code></p>\n",
       "<p>Inputs:</p>\n",
       "<ul>\n",
       "<li><code>num</code> is a diagonal matrix with numerator</li>\n",
       "<li><code>poles</code> is a vector of poles &#40;no need to sort them&#41;</li>\n",
       "<li><code>c</code> is the target constant; we return solutions s&#40;v&#41; &#61; c.</li>\n",
       "</ul>\n",
       "<p>Output:</p>\n",
       "<ul>\n",
       "<li><code>vals</code> is a vector of solutions <code>v</code> satisfying s&#40;v&#41; &#61; c</li>\n",
       "<li><code>vecs</code> is a vector of vectors <code>w</code> corresponding to <code>vals</code></li>\n",
       "</ul>\n",
       "\n",
       "</div>"
      ],
      "text/latex": [
       "Solve the secular equation by returning \\texttt{v} satisfying s(v) = w'*w = c,\n",
       "where \\texttt{w = num./(v - poles)}\n",
       "Inputs:\n",
       "\\begin{itemize}\n",
       "\\item \\texttt{num} is a diagonal matrix with numerator\n",
       "\\item \\texttt{poles} is a vector of poles (no need to sort them)\n",
       "\\item \\texttt{c} is the target constant; we return solutions s(v) = c.\n",
       "\\end{itemize}\n",
       "Output:\n",
       "\\begin{itemize}\n",
       "\\item \\texttt{vals} is a vector of solutions \\texttt{v} satisfying s(v) = c\n",
       "\\item \\texttt{vecs} is a vector of vectors \\texttt{w} corresponding to \\texttt{vals}\n",
       "\\end{itemize}\n"
      ],
      "text/plain": [
       "Solve the secular equation by returning `v` satisfying s(v) = w'*w = c,\n",
       "\n",
       "where `w = num./(v - poles)`\n",
       "\n",
       "Inputs:\n",
       "\n",
       "  * `num` is a diagonal matrix with numerator\n",
       "  * `poles` is a vector of poles (no need to sort them)\n",
       "  * `c` is the target constant; we return solutions s(v) = c.\n",
       "\n",
       "Output:\n",
       "\n",
       "  * `vals` is a vector of solutions `v` satisfying s(v) = c\n",
       "  * `vecs` is a vector of vectors `w` corresponding to `vals`\n"
      ]
     },
     "execution_count": 15,
     "metadata": {},
     "output_type": "execute_result"
    },
    {
     "name": "stdout",
     "output_type": "stream",
     "text": [
      "solvesecular\n",
      "\n"
     ]
    }
   ],
   "source": [
    "?solvesecular"
   ]
  },
  {
   "cell_type": "code",
   "execution_count": 3,
   "metadata": {
    "collapsed": false
   },
   "outputs": [
    {
     "name": "stdout",
     "output_type": "stream",
     "text": [
      "search: "
     ]
    },
    {
     "data": {
      "text/html": [
       "<div class=\"markdown\"><pre><code>createY&#40;f,t,r,x,b&#41; -&gt; Y</code></pre>\n",
       "<p>Create an admittance matrix for AC power flow.</p>\n",
       "\n",
       "<pre><code>createY&#40;f,t,x&#41; -&gt; Y</code></pre>\n",
       "<p>Create an admittance matrix for DC power flow.</p>\n",
       "\n",
       "</div>"
      ],
      "text/latex": [
       "\\begin{verbatim}\n",
       "createY(f,t,r,x,b) -> Y\n",
       "\\end{verbatim}\n",
       "Create an admittance matrix for AC power flow.\n",
       "\\begin{verbatim}\n",
       "createY(f,t,x) -> Y\n",
       "\\end{verbatim}\n",
       "Create an admittance matrix for DC power flow.\n"
      ],
      "text/plain": [
       "```\n",
       "createY(f,t,r,x,b) -> Y\n",
       "```\n",
       "\n",
       "Create an admittance matrix for AC power flow.\n",
       "\n",
       "```\n",
       "createY(f,t,x) -> Y\n",
       "```\n",
       "\n",
       "Create an admittance matrix for DC power flow.\n"
      ]
     },
     "execution_count": 3,
     "metadata": {},
     "output_type": "execute_result"
    },
    {
     "name": "stdout",
     "output_type": "stream",
     "text": [
      "createY searchsortedlast AbstractSparseMatrix\n",
      "\n"
     ]
    }
   ],
   "source": [
    "?createY"
   ]
  },
  {
   "cell_type": "code",
   "execution_count": 4,
   "metadata": {
    "collapsed": false
   },
   "outputs": [
    {
     "name": "stdout",
     "output_type": "stream",
     "text": [
      "search: "
     ]
    },
    {
     "data": {
      "text/html": [
       "<div class=\"markdown\"><pre><code>mat2tmpinst&#40;name&#41; -&gt; d</code></pre>\n",
       "<p>Loads &#40;and generates&#41; everything needed to perform temporal instanton analysis for any network supported by <a href=\"https://github.com/kersulis/MatpowerCases.jl\">MatpowerCases.jl</a>. <code>d</code> is an instance of <code>InstantonOutputData</code>.</p>\n",
       "\n",
       "</div>"
      ],
      "text/latex": [
       "\\begin{verbatim}\n",
       "mat2tmpinst(name) -> d\n",
       "\\end{verbatim}\n",
       "Loads (and generates) everything needed to perform temporal instanton analysis for any network supported by \\href{https://github.com/kersulis/MatpowerCases.jl}{MatpowerCases.jl}. \\texttt{d} is an instance of \\texttt{InstantonOutputData}.\n"
      ],
      "text/plain": [
       "```\n",
       "mat2tmpinst(name) -> d\n",
       "```\n",
       "\n",
       "Loads (and generates) everything needed to perform temporal instanton analysis for any network supported by [MatpowerCases.jl](https://github.com/kersulis/MatpowerCases.jl). `d` is an instance of `InstantonOutputData`.\n"
      ]
     },
     "execution_count": 4,
     "metadata": {},
     "output_type": "execute_result"
    },
    {
     "name": "stdout",
     "output_type": "stream",
     "text": [
      "mat2tmpinst\n",
      "\n"
     ]
    }
   ],
   "source": [
    "?mat2tmpinst"
   ]
  },
  {
   "cell_type": "markdown",
   "metadata": {},
   "source": [
    "[hello][1]\n",
    "\n",
    "[1]: https://github.com/kersulis/MatpowerCases.jl"
   ]
  }
 ],
 "metadata": {
  "kernelspec": {
   "display_name": "Julia 0.4.0-dev",
   "language": "julia",
   "name": "julia-0.4"
  },
  "language_info": {
   "file_extension": ".jl",
   "mimetype": "application/julia",
   "name": "julia",
   "version": "0.4.0"
  }
 },
 "nbformat": 4,
 "nbformat_minor": 0
}
