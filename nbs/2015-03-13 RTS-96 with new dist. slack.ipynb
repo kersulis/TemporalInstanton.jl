{
 "cells": [
  {
   "cell_type": "markdown",
   "metadata": {},
   "source": [
    "# RTS-96 results with new distributed slack\n",
    "\n",
    "Start-to-finish RTS-96 results."
   ]
  },
  {
   "cell_type": "code",
   "execution_count": 1,
   "metadata": {
    "collapsed": false
   },
   "outputs": [],
   "source": [
    "####### IMPORTS: DATA ACQUISITION ########\n",
    "include(\"../src/tmp_inst_rts96.jl\")\n",
    "\n",
    "psData = psDataLoad()\n",
    "\n",
    "# unpack psDL (boilerplate):\n",
    "(Sb,f,t,r,x,b,Y,bustype,\n",
    "Gp,Gq,Dp,Dq,Rp,Rq,\n",
    "Pmax,Pmin,Qmax,Qmin,Plim,\n",
    "Vg,Vceiling,Vfloor,\n",
    "busIdx,N,Nr,Ng,k) = unpack_psDL(psData)\n",
    "\n",
    "####### IMPORTS: INSTANTON CODE ########\n",
    "# Get instanton code into workspace:\n",
    "include(\"../src/TemporalInstanton.jl\")\n",
    "include(\"../src/TrustRegionSubproblem.jl\")\n",
    "\n",
    "using TemporalInstanton, TrustRegionSubproblem\n",
    "\n",
    "####### DATA LINKING ########\n",
    "# Static\n",
    "Ridx = find(Rp) # Vector of renewable nodes\n",
    "Y = full(Y) # Full admittance matrix (ref not removed)\n",
    "ref = 1 # Index of ref node\n",
    "k = k # Conventional generator participation factors\n",
    "tau = 1. # Heating constant\n",
    "G0 = [Gp,Gp.*0.95,Gp.*0.9]\n",
    "D = [Dp,Dp.*0.95,Dp.*0.9]\n",
    "P0 = [Rp,Rp,Rp]\n",
    "kQobj = 0 # Should always be zero; objective has no constant term\n",
    "c = 5. # RHS of line temperature constraint\n",
    "kQtheta = -c # Move to LHS so we have Q(z) = 0\n",
    "\n",
    "# Changing:\n",
    "lines = [(f[i],t[i]) for i in 1:length(f)];"
   ]
  },
  {
   "cell_type": "code",
   "execution_count": 2,
   "metadata": {
    "collapsed": false
   },
   "outputs": [
    {
     "data": {
      "text/plain": [
       "4.943387160148831"
      ]
     },
     "execution_count": 2,
     "metadata": {},
     "output_type": "execute_result"
    }
   ],
   "source": [
    "# For a single line:\n",
    "line = lines[48]\n",
    "\n",
    "# Create instance of instanton problem\n",
    "Qobj,A,b,Qtheta = temporalInstanton(Ridx,Y,ref,k,tau,line,G0,P0,D)\n",
    "\n",
    "G_of_x = (Qobj,0,kQobj)\n",
    "Q_of_x = (Qtheta,0,kQtheta)\n",
    "\n",
    "# Translate and rotate twice\n",
    "J_of_z,K_of_w,R_of_x,x_star,Rkernel,Reigvec = tr_trans_rotate(G_of_x,Q_of_x,A,b)\n",
    "\n",
    "# Prepare to solve the secular equation:\n",
    "Qtheta = full(R_of_x[1])\n",
    "D = K_of_w[1]\n",
    "d = K_of_w[2]./2\n",
    "d2 = Reigvec*Rkernel*R_of_x[2]\n",
    "c = -R_of_x[3]"
   ]
  },
  {
   "cell_type": "code",
   "execution_count": 3,
   "metadata": {
    "collapsed": false,
    "scrolled": true
   },
   "outputs": [
    {
     "data": {
      "text/plain": [
       "225-element Array{FloatingPoint,1}:\n",
       "  1.15463e-14\n",
       " -1.85692    \n",
       " -4.4631e-14 \n",
       "  4.76841e-14\n",
       "  1.44329e-14\n",
       "  1.02141e-14\n",
       " -8.88178e-16\n",
       " -1.18239e-14\n",
       " -1.9762e-14 \n",
       " -3.9968e-14 \n",
       "  1.64938e-13\n",
       "  1.53211e-14\n",
       " -1.2057e-13 \n",
       "  ⋮          \n",
       "  1.65867e-13\n",
       " -2.37588e-14\n",
       " -4.78506e-14\n",
       " -2.10054e-13\n",
       "  2.93099e-14\n",
       "  1.66978e-13\n",
       " -1.42109e-14\n",
       " -7.81597e-14\n",
       " -5.47622e-16\n",
       "  1.94289e-16\n",
       " -2.52576e-15\n",
       " -2.35922e-15"
      ]
     },
     "execution_count": 3,
     "metadata": {},
     "output_type": "execute_result"
    }
   ],
   "source": [
    "# Check 0 and diagonals of D before doing binary search\n",
    "mu_vals,w_vals,check = tr_check_diag(D,d,d2,Qtheta,c)\n",
    "# If all values of \"check\" are false, continue:\n",
    "if all(!check)\n",
    "# continue\n",
    "else\n",
    "display(mu_vals[find(check)])\n",
    "end\n",
    "\n",
    "# Solve secular equation:\n",
    "solutions,vectors = tr_solve_secular(D,d,d2,Qtheta,c)\n",
    "\n",
    "# Translate back to original variables:\n",
    "xvec = tr_map_back(vectors[1],Rkernel,Reigvec,x_star)\n",
    "\n",
    "T = int(length(G0)/size(Y,1))\n",
    "deviations = Array(Vector{Float64},0)\n",
    "angles = Array(Vector{Float64},0)\n",
    "alpha = Float64[]\n",
    "anglediffs = xvec[end-T+1:end]\n",
    "n = size(Y,1)\n",
    "nr = length(Ridx)\n",
    "\n",
    "# Variable breakdown:\n",
    "# (nr+n+1) per time step\n",
    "#   First nr are deviations\n",
    "#   Next n are angles\n",
    "#   Last is mismatch\n",
    "# T variables at the end: anglediffs\n",
    "for t = 1:T\n",
    "push!(deviations,xvec[(nr+n+1)*(t-1)+1:(nr+n+1)*(t-1)+nr])\n",
    "push!(angles,xvec[(nr+n+1)*(t-1)+nr+1:(nr+n+1)*(t-1)+nr+n])\n",
    "push!(alpha,xvec[(nr+n+1)*(t)])\n",
    "end\n",
    "[A*xvec-b]"
   ]
  },
  {
   "cell_type": "code",
   "execution_count": 5,
   "metadata": {
    "collapsed": false
   },
   "outputs": [
    {
     "data": {
      "text/plain": [
       "18-element Array{Float64,1}:\n",
       "  0.620169 \n",
       " -0.136963 \n",
       " -0.252248 \n",
       " -0.275207 \n",
       "  0.281728 \n",
       "  0.0484629\n",
       "  0.403906 \n",
       " -0.0161078\n",
       " -0.417756 \n",
       "  0.255967 \n",
       " -0.449592 \n",
       "  0.261259 \n",
       " -0.204286 \n",
       "  0.152381 \n",
       " -0.0510083\n",
       " -0.166319 \n",
       " -0.114272 \n",
       " -0.43611  "
      ]
     },
     "execution_count": 5,
     "metadata": {},
     "output_type": "execute_result"
    }
   ],
   "source": [
    "deviations[1]"
   ]
  },
  {
   "cell_type": "code",
   "execution_count": 6,
   "metadata": {
    "collapsed": false
   },
   "outputs": [
    {
     "data": {
      "text/plain": [
       "73-element Array{Float64,1}:\n",
       " -2.72413e-15\n",
       " -0.00833818 \n",
       "  0.00287657 \n",
       " -0.0328862  \n",
       " -0.0313467  \n",
       " -0.0607024  \n",
       "  0.0241897  \n",
       " -0.00480185 \n",
       " -0.00270028 \n",
       " -0.0228849  \n",
       "  0.0344431  \n",
       "  0.0769653  \n",
       "  0.126547   \n",
       "  ⋮          \n",
       "  0.22313    \n",
       "  0.421103   \n",
       "  0.404059   \n",
       "  0.464688   \n",
       "  0.477921   \n",
       "  0.378658   \n",
       "  0.380374   \n",
       "  0.504838   \n",
       "  0.61029    \n",
       "  0.390525   \n",
       "  0.294316   \n",
       "  0.378482   "
      ]
     },
     "execution_count": 6,
     "metadata": {},
     "output_type": "execute_result"
    }
   ],
   "source": [
    "angles[1]"
   ]
  },
  {
   "cell_type": "code",
   "execution_count": 7,
   "metadata": {
    "collapsed": false
   },
   "outputs": [
    {
     "data": {
      "text/plain": [
       "3-element Array{Float64,1}:\n",
       " -2.06417\n",
       " -1.97214\n",
       " -1.88012"
      ]
     },
     "execution_count": 7,
     "metadata": {},
     "output_type": "execute_result"
    }
   ],
   "source": [
    "alpha"
   ]
  },
  {
   "cell_type": "code",
   "execution_count": 14,
   "metadata": {
    "collapsed": false
   },
   "outputs": [
    {
     "ename": "LoadError",
     "evalue": "PyPlotj not found\nwhile loading In[14], in expression starting on line 1",
     "output_type": "error",
     "traceback": [
      "PyPlotj not found\nwhile loading In[14], in expression starting on line 1",
      "",
      " in require at loading.jl:47"
     ]
    }
   ],
   "source": [
    "using PyPlot"
   ]
  },
  {
   "cell_type": "code",
   "execution_count": 15,
   "metadata": {
    "collapsed": false
   },
   "outputs": [
    {
     "data": {
      "image/png": "[encoded data removed]",
      "text/plain": [
       "Figure(PyObject <matplotlib.figure.Figure object at 0x7f2024bd4e50>)"
      ]
     },
     "metadata": {},
     "output_type": "display_data"
    },
    {
     "data": {
      "text/plain": [
       "1-element Array{Any,1}:\n",
       " PyObject <matplotlib.lines.Line2D object at 0x7f2045391590>"
      ]
     },
     "execution_count": 15,
     "metadata": {},
     "output_type": "execute_result"
    }
   ],
   "source": [
    "plot(A*xvec-b)"
   ]
  },
  {
   "cell_type": "code",
   "execution_count": 22,
   "metadata": {
    "collapsed": false
   },
   "outputs": [
    {
     "data": {
      "text/plain": [
       "3-element Array{FloatingPoint,1}:\n",
       " -0.144441\n",
       " -0.137246\n",
       " -0.130051"
      ]
     },
     "execution_count": 22,
     "metadata": {},
     "output_type": "execute_result"
    }
   ],
   "source": [
    "anglediffs"
   ]
  },
  {
   "cell_type": "code",
   "execution_count": 18,
   "metadata": {
    "collapsed": false
   },
   "outputs": [
    {
     "data": {
      "text/plain": [
       "-37.9609694287125"
      ]
     },
     "execution_count": 18,
     "metadata": {},
     "output_type": "execute_result"
    }
   ],
   "source": [
    "sum(Dp) - sum(Gp) - sum(Rp) - sum(deviations[1])"
   ]
  },
  {
   "cell_type": "markdown",
   "metadata": {},
   "source": [
    "Not getting any solutions. Let's plot the secular equation:"
   ]
  },
  {
   "cell_type": "code",
   "execution_count": 3,
   "metadata": {
    "collapsed": false
   },
   "outputs": [
    {
     "data": {
      "text/html": [
       "<script charset=\"utf-8\">(function ($, undefined) {\n",
       "\n",
       "    function createElem(tag, attr, content) {\n",
       "\t// TODO: remove jQuery dependency\n",
       "\tvar el = $(\"<\" + tag + \"/>\").attr(attr);\n",
       "\tif (content) {\n",
       "\t    el.append(content);\n",
       "\t}\n",
       "\treturn el[0];\n",
       "    }\n",
       "\n",
       "    // A widget must expose an id field which identifies it to the backend,\n",
       "    // an elem attribute which is will be added to the DOM, and\n",
       "    // a getState() method which returns the value to be sent to the backend\n",
       "    // a sendUpdate() method which sends its current value to the backend\n",
       "    var Widget = {\n",
       "\tid: undefined,\n",
       "\telem: undefined,\n",
       "\tlabel: undefined,\n",
       "\tgetState: function () {\n",
       "\t    return this.elem.value;\n",
       "\t},\n",
       "\tsendUpdate: undefined\n",
       "    };\n",
       "\n",
       "    var Slider = function (typ, id, init) {\n",
       "\tvar attr = { type:  \"range\",\n",
       "\t\t     value: init.value,\n",
       "\t\t     min:   init.min,\n",
       "\t\t     max:   init.max,\n",
       "\t\t     step:  init.step },\n",
       "\t    elem = createElem(\"input\", attr),\n",
       "\t    self = this;\n",
       "\n",
       "\telem.onchange = function () {\n",
       "\t    self.sendUpdate();\n",
       "\t}\n",
       "\n",
       "\tthis.id = id;\n",
       "\tthis.elem = elem;\n",
       "\tthis.label = init.label;\n",
       "\n",
       "\tInputWidgets.commInitializer(this); // Initialize communication\n",
       "    }\n",
       "    Slider.prototype = Widget;\n",
       "\n",
       "    var Checkbox = function (typ, id, init) {\n",
       "\tvar attr = { type: \"checkbox\",\n",
       "\t\t     checked: init.value },\n",
       "\t    elem = createElem(\"input\", attr),\n",
       "\t    self = this;\n",
       "\n",
       "\tthis.getState = function () {\n",
       "\t    return elem.checked;\n",
       "\t}\n",
       "\telem.onchange = function () {\n",
       "\t    self.sendUpdate();\n",
       "\t}\n",
       "\n",
       "\tthis.id = id;\n",
       "\tthis.elem = elem;\n",
       "\tthis.label = init.label;\n",
       "\n",
       "\tInputWidgets.commInitializer(this);\n",
       "    }\n",
       "    Checkbox.prototype = Widget;\n",
       "\n",
       "    var Button = function (typ, id, init) {\n",
       "\tvar attr = { type:    \"button\",\n",
       "\t\t     value:   init.label },\n",
       "\t    elem = createElem(\"input\", attr),\n",
       "\t    self = this;\n",
       "\tthis.getState = function () {\n",
       "\t    return null;\n",
       "\t}\n",
       "\telem.onclick = function () {\n",
       "\t    self.sendUpdate();\n",
       "\t}\n",
       "\n",
       "\tthis.id = id;\n",
       "\tthis.elem = elem;\n",
       "\tthis.label = init.label;\n",
       "\n",
       "\tInputWidgets.commInitializer(this);\n",
       "    }\n",
       "    Button.prototype = Widget;\n",
       "\n",
       "    var Text = function (typ, id, init) {\n",
       "\tvar attr = { type:  \"text\",\n",
       "\t\t     placeholder: init.label,\n",
       "\t\t     value: init.value },\n",
       "\t    elem = createElem(\"input\", attr),\n",
       "\t    self = this;\n",
       "\tthis.getState = function () {\n",
       "\t    return elem.value;\n",
       "\t}\n",
       "\telem.onkeyup = function () {\n",
       "\t    self.sendUpdate();\n",
       "\t}\n",
       "\n",
       "\tthis.id = id;\n",
       "\tthis.elem = elem;\n",
       "\tthis.label = init.label;\n",
       "\n",
       "\tInputWidgets.commInitializer(this);\n",
       "    }\n",
       "    Text.prototype = Widget;\n",
       "\n",
       "    var Textarea = function (typ, id, init) {\n",
       "\tvar attr = { placeholder: init.label },\n",
       "\t    elem = createElem(\"textarea\", attr, init.value),\n",
       "\t    self = this;\n",
       "\tthis.getState = function () {\n",
       "\t    return elem.value;\n",
       "\t}\n",
       "\telem.onchange = function () {\n",
       "\t    self.sendUpdate();\n",
       "\t}\n",
       "\n",
       "\tthis.id = id;\n",
       "\tthis.elem = elem;\n",
       "\tthis.label = init.label;\n",
       "\n",
       "\tInputWidgets.commInitializer(this);\n",
       "    }\n",
       "    Textarea.prototype = Widget;\n",
       "\n",
       "    // RadioButtons\n",
       "    // Dropdown\n",
       "    // HTML\n",
       "    // Latex\n",
       "\n",
       "    var InputWidgets = {\n",
       "\tSlider: Slider,\n",
       "\tCheckbox: Checkbox,\n",
       "\tButton: Button,\n",
       "\tText: Text,\n",
       "\tTextarea: Textarea,\n",
       "\tdebug: false,\n",
       "\tlog: function () {\n",
       "\t    if (InputWidgets.debug) {\n",
       "\t\tconsole.log.apply(console, arguments);\n",
       "\t    }\n",
       "\t},\n",
       "\t// a central way to initalize communication\n",
       "\t// for widgets.\n",
       "\tcommInitializer: function (widget) {\n",
       "\t    widget.sendUpdate = function () {};\n",
       "\t}\n",
       "    };\n",
       "\n",
       "    window.InputWidgets = InputWidgets;\n",
       "\n",
       "})(jQuery, undefined);\n",
       "</script>"
      ]
     },
     "metadata": {},
     "output_type": "display_data"
    },
    {
     "data": {
      "text/html": [
       "<script charset=\"utf-8\">(function (IPython, $, _, MathJax, Widgets) {\n",
       "    $.event.special.destroyed = {\n",
       "\tremove: function(o) {\n",
       "\t    if (o.handler) {\n",
       "\t\to.handler.apply(this, arguments)\n",
       "\t    }\n",
       "\t}\n",
       "    }\n",
       "\n",
       "    var redrawValue = function (container, type, val) {\n",
       "\tvar selector = $(\"<div/>\");\n",
       "\tvar oa = new IPython.OutputArea(_.extend(selector, {\n",
       "\t    selector: selector,\n",
       "\t    prompt_area: true,\n",
       "\t    events: IPython.events,\n",
       "\t    keyboard_manager: IPython.keyboard_manager\n",
       "\t})); // Hack to work with IPython 2.1.0\n",
       "\n",
       "\tswitch (type) {\n",
       "\tcase \"image/png\":\n",
       "            var _src = 'data:' + type + ';base64,' + val;\n",
       "\t    $(container).find(\"img\").attr('src', _src);\n",
       "\t    break;\n",
       "\tdefault:\n",
       "\t    var toinsert = IPython.OutputArea.append_map[type].apply(\n",
       "\t\toa, [val, {}, selector]\n",
       "\t    );\n",
       "\t    $(container).empty().append(toinsert.contents());\n",
       "\t    selector.remove();\n",
       "\t}\n",
       "\tif (type === \"text/latex\" && MathJax) {\n",
       "\t    MathJax.Hub.Queue([\"Typeset\", MathJax.Hub, toinsert.get(0)]);\n",
       "\t}\n",
       "    }\n",
       "\n",
       "\n",
       "    $(document).ready(function() {\n",
       "\tWidgets.debug = false; // log messages etc in console.\n",
       "\tfunction initComm(evt, data) {\n",
       "\t    var comm_manager = data.kernel.comm_manager;\n",
       "        //_.extend(comm_manager.targets, require(\"widgets/js/widget\"))\n",
       "\t    comm_manager.register_target(\"Signal\", function (comm) {\n",
       "            comm.on_msg(function (msg) {\n",
       "                //Widgets.log(\"message received\", msg);\n",
       "                var val = msg.content.data.value;\n",
       "                $(\".signal-\" + comm.comm_id).each(function() {\n",
       "                var type = $(this).data(\"type\");\n",
       "                if (val[type]) {\n",
       "                    redrawValue(this, type, val[type], type);\n",
       "                }\n",
       "                });\n",
       "                delete val;\n",
       "                delete msg.content.data.value;\n",
       "            });\n",
       "\t    });\n",
       "\n",
       "\t    // coordingate with Comm and redraw Signals\n",
       "\t    // XXX: Test using Reactive here to improve performance\n",
       "\t    $([IPython.events]).on(\n",
       "\t\t'output_appended.OutputArea', function (event, type, value, md, toinsert) {\n",
       "\t\t    if (md && md.reactive) {\n",
       "                // console.log(md.comm_id);\n",
       "                toinsert.addClass(\"signal-\" + md.comm_id);\n",
       "                toinsert.data(\"type\", type);\n",
       "                // Signal back indicating the mimetype required\n",
       "                var comm_manager = IPython.notebook.kernel.comm_manager;\n",
       "                var comm = comm_manager.comms[md.comm_id];\n",
       "                comm.then(function (c) {\n",
       "                    c.send({action: \"subscribe_mime\",\n",
       "                       mime: type});\n",
       "                    toinsert.bind(\"destroyed\", function() {\n",
       "                        c.send({action: \"unsubscribe_mime\",\n",
       "                               mime: type});\n",
       "                    });\n",
       "                })\n",
       "\t\t    }\n",
       "\t    });\n",
       "\t}\n",
       "\n",
       "\ttry {\n",
       "\t    // try to initialize right away. otherwise, wait on the status_started event.\n",
       "\t    initComm(undefined, IPython.notebook);\n",
       "\t} catch (e) {\n",
       "\t    $([IPython.events]).on('status_started.Kernel', initComm);\n",
       "\t}\n",
       "    });\n",
       "})(IPython, jQuery, _, MathJax, InputWidgets);\n",
       "</script>"
      ]
     },
     "metadata": {},
     "output_type": "display_data"
    },
    {
     "name": "stderr",
     "output_type": "stream",
     "text": [
      "INFO: Loading help data...\n"
     ]
    }
   ],
   "source": [
    "using Interact\n",
    "using PyPlot"
   ]
  },
  {
   "cell_type": "code",
   "execution_count": 4,
   "metadata": {
    "collapsed": false
   },
   "outputs": [
    {
     "data": {
      "text/html": [],
      "text/plain": [
       "Slider{Float64}([Input{Float64}] 25.0,\"cval\",25.0,20.0:0.5:30.0)"
      ]
     },
     "metadata": {},
     "output_type": "display_data"
    },
    {
     "name": "stdout",
     "output_type": "stream",
     "text": [
      "[0.8816833053861046,1.1183166946138954]"
     ]
    },
    {
     "data": {
      "image/png": "[encoded data removed]",
      "text/plain": [
       "Figure(PyObject <matplotlib.figure.Figure object at 0x7f70d3baf290>)"
      ]
     },
     "execution_count": 4,
     "metadata": {
      "comm_id": "6da97a4a-7cb4-4e12-8a8f-8fe12e5675f8",
      "reactive": true
     },
     "output_type": "execute_result"
    }
   ],
   "source": [
    "poles = [D[i,i]*Qtheta[i,i] for i in setdiff(1:size(D,1),find(diag(Qtheta).==0))]\n",
    "mu_vals = linspace(0.5*minimum(poles),1.5*maximum(poles),1000)\n",
    "\n",
    "fig = figure()\n",
    "@manipulate for cval = 20:0.5:30; withfig(fig) do\n",
    "        solutions,vectors = tr_solve_secular(D,d,d2,Qtheta,cval)\n",
    "        print(solutions)\n",
    "        s_vals = [sumabs2(find_w(mu,D,d,d2,Qtheta)) for mu in mu_vals]\n",
    "        plot(mu_vals,s_vals)\n",
    "        hold = true\n",
    "        plot([mu_vals[1],mu_vals[end]],[cval^2,cval^2])\n",
    "        ylim([0,1000]) #ylim([0,2*c^2])\n",
    "        xlim = [mu_vals[1],mu_vals[end]]\n",
    "        scatter(solutions,cval^2*ones(length(solutions)))\n",
    "        legend([\"Secular Equation\",L\"y = c^2\",\"Found by algorithm\"],fontsize=10)\n",
    "    end\n",
    "end"
   ]
  },
  {
   "cell_type": "code",
   "execution_count": 13,
   "metadata": {
    "collapsed": false
   },
   "outputs": [
    {
     "data": {
      "text/plain": [
       "([0.0140275,1.98597],[[0.0,0.0,0.0,0.0,0.0,0.0,0.0,0.0,0.0,0.0  …  -2.88108,-1.09484,1.31121,0.561054,-3.51584,0.540241,-1.9572,2.47885,0.638731,-1.5644],[0.0,0.0,0.0,0.0,0.0,0.0,0.0,0.0,0.0,0.0  …  -2.88108,-1.09484,1.31121,0.561054,-3.51584,0.540241,-1.9572,-2.47885,-0.638731,1.5644]])"
      ]
     },
     "execution_count": 13,
     "metadata": {},
     "output_type": "execute_result"
    }
   ],
   "source": [
    "solutions,vectors = tr_solve_secular(D,d,d2,Qtheta,3)"
   ]
  },
  {
   "cell_type": "code",
   "execution_count": 11,
   "metadata": {
    "collapsed": false
   },
   "outputs": [
    {
     "data": {
      "text/plain": [
       "2-element Array{Float64,1}:\n",
       " 0.0140275\n",
       " 1.98597  "
      ]
     },
     "execution_count": 11,
     "metadata": {},
     "output_type": "execute_result"
    }
   ],
   "source": [
    "solutions"
   ]
  },
  {
   "cell_type": "code",
   "execution_count": 21,
   "metadata": {
    "collapsed": false
   },
   "outputs": [
    {
     "data": {
      "image/png": "[encoded data removed]",
      "text/plain": [
       "Figure(PyObject <matplotlib.figure.Figure object at 0x7ff0a8685ed0>)"
      ]
     },
     "metadata": {},
     "output_type": "display_data"
    },
    {
     "data": {
      "text/plain": [
       "PyObject <matplotlib.legend.Legend object at 0x7ff0a84b0c10>"
      ]
     },
     "execution_count": 21,
     "metadata": {},
     "output_type": "execute_result"
    }
   ],
   "source": [
    "        solutions,vectors = tr_solve_secular(D,d,d2,Qtheta,c)\n",
    "\n",
    "        s_vals = [sumabs2(find_w(mu,D,d,d2,Qtheta)) for mu in mu_vals]\n",
    "        plot(mu_vals,s_vals)\n",
    "        hold = true\n",
    "        plot([mu_vals[1],mu_vals[end]],[c^2,c^2])\n",
    "        ylim([0,200]) #ylim([0,2*c^2])\n",
    "        xlim = [mu_vals[1],mu_vals[end]]\n",
    "        scatter(solutions,c^2*ones(length(solutions)))\n",
    "        legend([\"Secular Equation\",L\"y = c^2\",\"Found by algorithm\"],fontsize=10)"
   ]
  },
  {
   "cell_type": "code",
   "execution_count": 22,
   "metadata": {
    "collapsed": false
   },
   "outputs": [
    {
     "data": {
      "text/plain": [
       "1000-element Array{Any,1}:\n",
       " 230.873\n",
       " 231.014\n",
       " 231.155\n",
       " 231.298\n",
       " 231.441\n",
       " 231.585\n",
       " 231.73 \n",
       " 231.875\n",
       " 232.022\n",
       " 232.169\n",
       " 232.318\n",
       " 232.467\n",
       " 232.618\n",
       "   ⋮    \n",
       " 232.467\n",
       " 232.318\n",
       " 232.169\n",
       " 232.022\n",
       " 231.875\n",
       " 231.73 \n",
       " 231.585\n",
       " 231.441\n",
       " 231.298\n",
       " 231.155\n",
       " 231.014\n",
       " 230.873"
      ]
     },
     "execution_count": 22,
     "metadata": {},
     "output_type": "execute_result"
    }
   ],
   "source": []
  }
 ],
 "metadata": {
  "kernelspec": {
   "display_name": "Julia",
   "language": "julia",
   "name": "julia"
  },
  "language_info": {
   "name": "julia",
   "version": "0.3.6"
  }
 },
 "nbformat": 4,
 "nbformat_minor": 0
}
