{
 "cells": [
  {
   "cell_type": "markdown",
   "metadata": {},
   "source": [
    "Consider each forecast deviation to be a normally distributed random variable with zero mean. Then the vector of forecast deviations is a Gaussian random vector $x$ with the density function\n",
    "\n",
    "\\begin{align}\n",
    "f(x) &= \\frac{ e^{-\\frac{1}{2} x^\\top C^{-1} x} }{ (2\\pi)^{n/2}\\sqrt{\\det C} },\n",
    "\\end{align}\n",
    "where $C$ is the positive-definite correlation matrix. We can maximize it by maximizing the argument of the increasing exponential function:\n",
    "\n",
    "\\begin{align}\n",
    "\\max f(x) &\\iff \\max -\\frac{1}{2}x^\\top C^{-1}x \\\\\n",
    "& \\iff \\min \\frac{1}{2} x^\\top C^{-1} x \\\\\n",
    "& \\iff \\min x^\\top C^{-1}x\n",
    "\\end{align}\n",
    "This matches the form of the temporal instanton objective function. Comparing the two, we see that $Q_{dev}$ is just the inverse of the correlation matrix $C$."
   ]
  }
 ],
 "metadata": {
  "kernelspec": {
   "display_name": "Julia",
   "language": "julia",
   "name": "julia"
  },
  "language_info": {
   "name": "julia",
   "version": "0.3.7"
  }
 },
 "nbformat": 4,
 "nbformat_minor": 0
}
