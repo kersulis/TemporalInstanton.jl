{
 "cells": [
  {
   "cell_type": "markdown",
   "metadata": {},
   "source": [
    "Here I modify my code to make the slack bus selectable.\n",
    "\n",
    "Recall that there are four components of an instance of the temporal instanton problem:\n",
    "\n",
    "* $n$, $n_r$, and $T$\n",
    "\n",
    "* $Q_x$, which depends on desired correlation\n",
    "\n",
    "* $A$, which depends on admittance matrix $Y$\n",
    "\n",
    "* $b$, which depends on $G^0$ and $D$\n",
    "\n",
    "* $Q_\\theta$, which depends on $\\tau$ and the line we wish to overload\n",
    "\n",
    "$Q_x$ does not depend on the choice of slack node, nor does $b$. $A$ does depend on which bus is chosen to be slack. Here is a modified method that accepts the index of the slack node as an argument and generates an A matrix:"
   ]
  },
  {
   "cell_type": "code",
   "execution_count": 46,
   "metadata": {
    "collapsed": false
   },
   "outputs": [
    {
     "data": {
      "text/plain": [
       "tmp_inst_A (generic function with 1 method)"
      ]
     },
     "execution_count": 46,
     "metadata": {},
     "output_type": "execute_result"
    }
   ],
   "source": [
    "function tmp_inst_A(n,Ridx,T,Y,slack,k)\n",
    "    \"\"\" Generate the power balance constraint A matrix\n",
    "    from problem dimensions, admittance matrix,\n",
    "    and generator participation factors.\n",
    "    Assumes the admittance matrix is n-by-n.\n",
    "    \n",
    "    Returns A, which is (n+1)*T-by-(n+nr)*T\n",
    "    \n",
    "    * n is the number of nodes in the network\n",
    "    * Ridx is a vector indicating wind nodes\n",
    "    * T is the number of time steps\n",
    "    * Y is the admittance matrix (n-by-n)\n",
    "    * slack is the index of the slack bus\n",
    "    * k is the vector of generator participation factors\n",
    "    \"\"\"\n",
    "    \n",
    "    # zero out slack row of Y:\n",
    "    adm = deepcopy(Y)\n",
    "    adm[slack,:] = zeros(n)\n",
    "    \n",
    "    # remove slack column of Y:\n",
    "    adm = adm[:,setdiff(1:n,slack)]\n",
    "    \n",
    "    # A has a block diagonal pattern where each\n",
    "    # block is Atemp:\n",
    "    Atemp = zeros(n+1,2*n)\n",
    "    Atemp = [[-eye(n) adm -k]; ones(1,n) zeros(1,n-1) 1]\n",
    "    \n",
    "    # Remove columns corresponding to non-wind nodes\n",
    "    # and slack node:\n",
    "    Atemp = sparse(Atemp[:,[Ridx,n+1:2*n]])\n",
    "    \n",
    "    # Now we can tile the Atemp matrix to generate A:\n",
    "    A = Atemp\n",
    "    for t = 2:T\n",
    "        A = blkdiag(A, Atemp)\n",
    "    end\n",
    "    \n",
    "    return A\n",
    "end"
   ]
  },
  {
   "cell_type": "code",
   "execution_count": 50,
   "metadata": {
    "collapsed": false
   },
   "outputs": [
    {
     "data": {
      "text/plain": [
       "8x12 Array{Float64,2}:\n",
       " -1.0   0.0   0.0  2.0  3.0  -0.25   0.0   0.0   0.0  0.0  0.0   0.0 \n",
       "  0.0  -1.0   0.0  3.0  4.0  -0.25   0.0   0.0   0.0  0.0  0.0   0.0 \n",
       "  0.0   0.0  -1.0  0.0  0.0  -0.5    0.0   0.0   0.0  0.0  0.0   0.0 \n",
       "  1.0   1.0   1.0  0.0  0.0   1.0    0.0   0.0   0.0  0.0  0.0   0.0 \n",
       "  0.0   0.0   0.0  0.0  0.0   0.0   -1.0   0.0   0.0  2.0  3.0  -0.25\n",
       "  0.0   0.0   0.0  0.0  0.0   0.0    0.0  -1.0   0.0  3.0  4.0  -0.25\n",
       "  0.0   0.0   0.0  0.0  0.0   0.0    0.0   0.0  -1.0  0.0  0.0  -0.5 \n",
       "  0.0   0.0   0.0  0.0  0.0   0.0    1.0   1.0   1.0  0.0  0.0   1.0 "
      ]
     },
     "execution_count": 50,
     "metadata": {},
     "output_type": "execute_result"
    }
   ],
   "source": [
    "# Test generateA and generateb:\n",
    "n = 3\n",
    "Ridx = [1,2,3]\n",
    "T = 2\n",
    "Y = [2 3 4;\n",
    "    3 4 3;\n",
    "    2 3 4]\n",
    "slack = 3\n",
    "k = [0.25,0.25,0.5]\n",
    "\n",
    "A = tmp_inst_A(n,Ridx,T,Y,slack,k)\n",
    "full(A)"
   ]
  },
  {
   "cell_type": "markdown",
   "metadata": {},
   "source": [
    "## Modified $Q_\\theta$\n",
    "\n",
    "If we stop assuming the "
   ]
  },
  {
   "cell_type": "code",
   "execution_count": 55,
   "metadata": {
    "collapsed": false
   },
   "outputs": [
    {
     "data": {
      "text/plain": [
       "tmp_inst_Qtheta (generic function with 1 method)"
      ]
     },
     "execution_count": 55,
     "metadata": {},
     "output_type": "execute_result"
    }
   ],
   "source": [
    "function tmp_inst_Qtheta(n,nr,T,tau,line,slack)\n",
    "    \"\"\" Generate Q_theta in the temperature constraint\n",
    "    of a temporal instanton problem instance.\n",
    "    \"line\" has the form (i,k), where i and k refer to\n",
    "    the endpoints of the chosen line.\n",
    "    \"\"\"\n",
    "    Qtheta = zeros((n+nr)*T,(n+nr)*T)\n",
    "    i,k = line\n",
    "    ei = zeros(n,1)\n",
    "    ei[i] = 1\n",
    "    ek = zeros(n,1)\n",
    "    ek[k] = 1\n",
    "    \n",
    "    Q0 = (ei - ek)*(ei - ek)'\n",
    "    \n",
    "    Q0 = Q0[:,setdiff(1:n,slack)]\n",
    "    Q0 = Q0[setdiff(1:n,slack),:]\n",
    "    \n",
    "    for t = 1:T\n",
    "        start = nr + 1 + (nr+n)*(t-1)\n",
    "        stop = start + n - 2\n",
    "        Qtheta[start:stop,start:stop] = tau^(T-t)*Q0\n",
    "    end\n",
    "    return sparse(Qtheta)\n",
    "end"
   ]
  },
  {
   "cell_type": "code",
   "execution_count": 86,
   "metadata": {
    "collapsed": false
   },
   "outputs": [
    {
     "data": {
      "text/plain": [
       "5x5 Array{Float64,2}:\n",
       " 0.0  0.0  0.0  0.0  0.0\n",
       " 0.0  0.0  0.0  0.0  0.0\n",
       " 0.0  0.0  1.0  0.0  0.0\n",
       " 0.0  0.0  0.0  0.0  0.0\n",
       " 0.0  0.0  0.0  0.0  0.0"
      ]
     },
     "execution_count": 86,
     "metadata": {},
     "output_type": "execute_result"
    }
   ],
   "source": [
    "n = 4\n",
    "nr = 1\n",
    "T = 1\n",
    "tau = 2\n",
    "line = (1,3)\n",
    "k = [0.25,0.25,0.5]\n",
    "slack = 1\n",
    "\n",
    "Qtheta = tmp_inst_Qtheta(n,nr,T,tau,line,slack)\n",
    "full(Qtheta)"
   ]
  }
 ],
 "metadata": {
  "kernelspec": {
   "display_name": "Julia",
   "language": "julia",
   "name": "julia"
  },
  "language_info": {
   "name": "julia",
   "version": "0.3.6"
  }
 },
 "nbformat": 4,
 "nbformat_minor": 0
}
