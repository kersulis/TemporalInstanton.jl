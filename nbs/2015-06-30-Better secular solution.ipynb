{
 "cells": [
  {
   "cell_type": "code",
   "execution_count": null,
   "metadata": {
    "collapsed": true
   },
   "outputs": [],
   "source": [
    "function solve_secular2(numVec,poles,c,ϵ)\n",
    "    \"\"\" Solve the secular equation: return v solving\n",
    "    sum(numVec[i]/(poles[i]-v)) = c\n",
    "    \"\"\"\n",
    "    function find_secular_vector(v,numVec,poles)\n",
    "        if v == 0\n",
    "            w = float([-numVec[i]/(poles[i]) for i in 1:length(numVec)])\n",
    "        else\n",
    "            w = float([numVec[i]/(v - poles[i]) for i in 1:length(numVec)])\n",
    "        end\n",
    "        return w\n",
    "    end\n",
    "    \n",
    "    function find_secular_derivative(v,numVec,poles)\n",
    "        w = float([-numVec[i]/(v - poles[i])^2 for i in 1:length(numVec)])\n",
    "        return sum(w)\n",
    "    end\n",
    "    \n",
    "    solutions = Float64[]\n",
    "    vectors = Array(Vector{Float64},0)\n",
    "    \n",
    "    for i in 1:length(poles)\n",
    "        l = poles[i] # solution cannot be lower than this\n",
    "        h = poles[i+1] # cannot be higher than this\n",
    "        d = (l+h)/2\n",
    "        v = poles[i] + d\n",
    "        while \n",
    "        "
   ]
  },
  {
   "cell_type": "code",
   "execution_count": 5,
   "metadata": {
    "collapsed": false
   },
   "outputs": [
    {
     "data": {
      "text/plain": [
       "find_secular_vector (generic function with 1 method)"
      ]
     },
     "execution_count": 5,
     "metadata": {},
     "output_type": "execute_result"
    }
   ],
   "source": [
    "using Interact, PyPlot\n",
    "function find_secular_derivative(v,numVec,poles)\n",
    "    w = float([-numVec[i]^2/(v - poles[i])^3 for i in 1:length(numVec)])\n",
    "    return sum(w)\n",
    "end\n",
    "function find_secular_vector(v,numVec,poles)\n",
    "    if v == 0\n",
    "        w = float([-numVec[i]/(poles[i]) for i in 1:length(numVec)])\n",
    "    else\n",
    "        w = float([numVec[i]/(v - poles[i]) for i in 1:length(numVec)])\n",
    "    end\n",
    "    return w\n",
    "end"
   ]
  },
  {
   "cell_type": "code",
   "execution_count": 34,
   "metadata": {
    "collapsed": false
   },
   "outputs": [
    {
     "data": {
      "text/html": [],
      "text/plain": [
       "Slider{Float64}([Input{Float64}] 1.5,\"sldval\",1.5,0.0:0.1:3.0)"
      ]
     },
     "metadata": {},
     "output_type": "display_data"
    },
    {
     "data": {
      "image/png": "[encoded data removed]",
      "text/plain": [
       "Figure(PyObject <matplotlib.figure.Figure object at 0x7f2366213650>)"
      ]
     },
     "execution_count": 34,
     "metadata": {
      "comm_id": "f2f3a6a1-e8af-4f1d-9956-6f67b8877475",
      "reactive": true
     },
     "output_type": "execute_result"
    }
   ],
   "source": [
    "vv = [0:0.1:3]\n",
    "poles = [0,3]\n",
    "numVec = [0.5,0.5]\n",
    "fig = figure()\n",
    "ss = [norm(find_secular_vector(vv[i],numVec,poles)) for i in 1:length(vv)]\n",
    "@manipulate for sldval in 0:0.1:3; withfig(fig) do\n",
    "        plot(vv,ss)\n",
    "        hold=true\n",
    "        scatter(sldval,norm(find_secular_vector(sldval,numVec,poles)))\n",
    "        title(\"$(round(find_secular_derivative(sldval,numVec,poles),4))\")\n",
    "        axis(\"equal\")\n",
    "    end\n",
    "end"
   ]
  },
  {
   "cell_type": "code",
   "execution_count": 19,
   "metadata": {
    "collapsed": false
   },
   "outputs": [
    {
     "data": {
      "text/plain": [
       "find_interpole_min (generic function with 1 method)"
      ]
     },
     "execution_count": 19,
     "metadata": {},
     "output_type": "execute_result"
    }
   ],
   "source": [
    "function find_interpole_min(p1,p2,numVec,poles,ϵ)\n",
    "    \"\"\" Find the minimizing value of v between\n",
    "    two poles.\n",
    "    \"\"\"\n",
    "    d = p1+p2\n",
    "    v = p1 + d/2.\n",
    "    der = find_secular_derivative(v,numVec,poles)\n",
    "    while abs(der) > ϵ\n",
    "        d = d/2\n",
    "        v = v - d*sign(der)/2.\n",
    "        der = find_secular_derivative(v,numVec,poles)\n",
    "    end\n",
    "    return v,der\n",
    "end"
   ]
  },
  {
   "cell_type": "code",
   "execution_count": 27,
   "metadata": {
    "collapsed": false
   },
   "outputs": [
    {
     "name": "stdout",
     "output_type": "stream",
     "text": [
      "elapsed time: 1.6319e-5 seconds (208 bytes allocated)\n"
     ]
    },
    {
     "data": {
      "text/plain": [
       "(1.5,0.0)"
      ]
     },
     "execution_count": 27,
     "metadata": {},
     "output_type": "execute_result"
    }
   ],
   "source": [
    "find_interpole_min(0,3,numVec,poles,1e-6)"
   ]
  },
  {
   "cell_type": "code",
   "execution_count": null,
   "metadata": {
    "collapsed": true
   },
   "outputs": [],
   "source": [
    "# once we have the interpole min, we can perform binary search\n",
    "# c > interpole min implies two solutions\n",
    "# c == interpole min implies one solution\n",
    "# c < interpole min implies no solutions\n",
    "\n",
    "function search_min(p1,p2,numVec,poles,ϵ)\n",
    "    \"\"\" Assume there are two solutions (c > interpole min)\n",
    "    \"\"\"\n",
    "    "
   ]
  },
  {
   "cell_type": "code",
   "execution_count": 35,
   "metadata": {
    "collapsed": false
   },
   "outputs": [
    {
     "data": {
      "text/plain": [
       "gss (generic function with 1 method)"
      ]
     },
     "execution_count": 35,
     "metadata": {},
     "output_type": "execute_result"
    }
   ],
   "source": [
    "function gss(a,b,c,τ,f)\n",
    "    φ = (1+sqrt(5))/2\n",
    "    resphi = 2 - φ\n",
    "    \n",
    "    x = (c-b > b-a) ? b + resphi*(c-b) : b - resphi*(b-a)\n",
    "    if abs(c-a) < τ*(abs(b) + abs(x))\n",
    "        return (c+a)/2\n",
    "    end\n",
    "    assert(f(x) != f(b))\n",
    "    if f(x) < f(b)\n",
    "        if (c-b > b-a)\n",
    "            gss(b,x,c,τ,f)\n",
    "        else\n",
    "            gss(a,x,b,τ,f)\n",
    "        end\n",
    "    else\n",
    "        if (c-b > b-a)\n",
    "            gss(a,b,x,τ,f)\n",
    "        else\n",
    "            gss(x,b,c,τ,f)\n",
    "        end\n",
    "    end\n",
    "end"
   ]
  },
  {
   "cell_type": "code",
   "execution_count": 49,
   "metadata": {
    "collapsed": false
   },
   "outputs": [
    {
     "name": "stdout",
     "output_type": "stream",
     "text": [
      "elapsed time: 0.004831519 seconds (44112 bytes allocated)\n"
     ]
    },
    {
     "data": {
      "text/plain": [
       "1.500000652258423"
      ]
     },
     "execution_count": 49,
     "metadata": {},
     "output_type": "execute_result"
    }
   ],
   "source": [
    "f(x) = norm(find_secular_vector(x,numVec,poles))\n",
    "τ = 1e-6\n",
    "\n",
    "@time gss(poles[1],(poles[1] + poles[2])/2,poles[2],τ,f)"
   ]
  },
  {
   "cell_type": "code",
   "execution_count": 50,
   "metadata": {
    "collapsed": false
   },
   "outputs": [
    {
     "data": {
      "text/plain": [
       "gss2 (generic function with 1 method)"
      ]
     },
     "execution_count": 50,
     "metadata": {},
     "output_type": "execute_result"
    }
   ],
   "source": [
    "function gss(a,b,τ,f)\n",
    "    φ = (sqrt(5) - 1)/2\n",
    "    c = b - φ*(b-a)\n",
    "    d = a + φ*(b-a)\n",
    "    while abs(c-d) > τ\n",
    "        if f(c) < f(d)\n",
    "            b = d\n",
    "            d = c\n",
    "            c = b-φ*(b-a)\n",
    "        else\n",
    "            a = c\n",
    "            c = d\n",
    "            d = a+φ*(b-a)\n",
    "        end\n",
    "    end\n",
    "    return (b+a)/2\n",
    "end"
   ]
  },
  {
   "cell_type": "code",
   "execution_count": 97,
   "metadata": {
    "collapsed": false
   },
   "outputs": [],
   "source": [
    "function gss(a,b,τ,f)\n",
    "    φ = (sqrt(5) - 1)/2\n",
    "    c = b - φ*(b-a)\n",
    "    d = a + φ*(b-a)\n",
    "    while abs(c-d) > τ\n",
    "        if f(c) < f(d)\n",
    "            b = d\n",
    "            d = c\n",
    "            c = b-φ*(b-a)\n",
    "        else\n",
    "            a = c\n",
    "            c = d\n",
    "            d = a+φ*(b-a)\n",
    "        end\n",
    "    end\n",
    "    return (b+a)/2\n",
    "end\n",
    "\n",
    "function find_secular_vector(v,numVec,poles)\n",
    "    if v == 0\n",
    "        w = float([-numVec[i]/(poles[i]) for i in 1:length(numVec)])\n",
    "    else\n",
    "        w = float([numVec[i]/(v - poles[i]) for i in 1:length(numVec)])\n",
    "    end\n",
    "    return w\n",
    "end\n",
    "\n",
    "numVec = [0.5,0.5,0.5,0.5]\n",
    "poles = [0,3,4,6]\n",
    "\n",
    "# secular equation\n",
    "s(v) = norm(find_secular_vector(v,numVec,poles))\n",
    "c = 3.\n",
    "ϵ = 1e-5\n",
    "sols = Float64[]\n",
    "\n",
    "for i in 1:length(poles) - 1\n",
    "    min_v = gss(poles[i],poles[i+1],1e-5,s)\n",
    "    if abs(min_v - c) < ϵ\n",
    "        # one solution\n",
    "        push!(sols,min_v)\n",
    "        elseif min_v > c\n",
    "        # two solutions\n",
    "    else\n",
    "        # zero solutions\n",
    "        continue\n",
    "    end\n",
    "end"
   ]
  }
 ],
 "metadata": {
  "kernelspec": {
   "display_name": "Julia",
   "language": "julia",
   "name": "julia"
  },
  "language_info": {
   "name": "julia",
   "version": "0.3.7"
  }
 },
 "nbformat": 4,
 "nbformat_minor": 0
}
