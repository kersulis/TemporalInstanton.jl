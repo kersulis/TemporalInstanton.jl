{
 "cells": [
  {
   "cell_type": "code",
   "execution_count": 1,
   "metadata": {
    "collapsed": false
   },
   "outputs": [],
   "source": [
    "include(\"../src/TemporalInstanton.jl\")\n",
    "using TemporalInstanton"
   ]
  },
  {
   "cell_type": "code",
   "execution_count": 2,
   "metadata": {
    "collapsed": false
   },
   "outputs": [
    {
     "name": "stdout",
     "output_type": "stream",
     "text": [
      " 11.648885 seconds (9.26 M allocations: 2.577 GB, 2.39% gc time)\n"
     ]
    }
   ],
   "source": [
    "inputData = load_rts96_data(return_as_type=true)\n",
    "\n",
    "# Thermal model parameters:\n",
    "inputData.Tamb = 35.0 # C\n",
    "inputData.T0 = 60.0 #46.0 # initial line steady-state temp\n",
    "\n",
    "inputData.time_values = 0.0:30.0:300.0 # five minutes in 30-sec steps\n",
    "inputData.int_length = 300. # seconds = 5 min\n",
    "\n",
    "Gp,Dp,Rp = inputData.G0,inputData.D0,inputData.R0\n",
    "inputData.G0 = [0.7*Gp;0.7*Gp;0.7*Gp;0.7*Gp;0.7*Gp;0.7*Gp]\n",
    "inputData.D0 = [0.9*Dp;0.9*Dp;0.9*Dp;0.9*Dp;0.9*Dp;0.9*Dp]\n",
    "inputData.R0 = [Rp;1.1*Rp;1.2*Rp;1.3*Rp;1.4*Rp;1.5*Rp]\n",
    "\n",
    "@time results = solve_temporal_instanton(inputData);\n",
    "n = 73\n",
    "nr = 18\n",
    "T = 6\n",
    "score,x,θ,α,diffs,xopt = process_instanton_results(results,\n",
    "    n,\n",
    "    nr,\n",
    "    T);"
   ]
  }
 ],
 "metadata": {
  "kernelspec": {
   "display_name": "Julia 0.4.0-dev+6561",
   "language": "julia",
   "name": "julia-0.4"
  },
  "language_info": {
   "name": "julia",
   "version": "0.4.0"
  }
 },
 "nbformat": 4,
 "nbformat_minor": 0
}
