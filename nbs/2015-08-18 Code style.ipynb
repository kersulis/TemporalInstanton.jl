{
 "cells": [
  {
   "cell_type": "code",
   "execution_count": 56,
   "metadata": {
    "collapsed": false
   },
   "outputs": [
    {
     "name": "stderr",
     "output_type": "stream",
     "text": [
      "WARNING: replacing module TemporalInstanton\n"
     ]
    },
    {
     "ename": "LoadError",
     "evalue": "LoadError: LoadError: LoadError: could not open file /home/jkersulis/Documents/Dropbox/InstantonAnew/Jonas Edits/Time-Coupled Instanton/temporal-instanton/src/readPolishData.jl\nwhile loading /home/jkersulis/Documents/Dropbox/InstantonAnew/Jonas Edits/Time-Coupled Instanton/temporal-instanton/src/DataLoad.jl, in expression starting on line 4\nwhile loading /home/jkersulis/Documents/Dropbox/InstantonAnew/Jonas Edits/Time-Coupled Instanton/temporal-instanton/src/TemporalInstanton.jl, in expression starting on line 53\nwhile loading In[56], in expression starting on line 1",
     "output_type": "error",
     "traceback": [
      "LoadError: LoadError: LoadError: could not open file /home/jkersulis/Documents/Dropbox/InstantonAnew/Jonas Edits/Time-Coupled Instanton/temporal-instanton/src/readPolishData.jl\nwhile loading /home/jkersulis/Documents/Dropbox/InstantonAnew/Jonas Edits/Time-Coupled Instanton/temporal-instanton/src/DataLoad.jl, in expression starting on line 4\nwhile loading /home/jkersulis/Documents/Dropbox/InstantonAnew/Jonas Edits/Time-Coupled Instanton/temporal-instanton/src/TemporalInstanton.jl, in expression starting on line 53\nwhile loading In[56], in expression starting on line 1",
      "",
      " in include at ./boot.jl:254",
      " in include_from_node1 at ./loading.jl:263",
      " in include at ./boot.jl:254",
      " in include_from_node1 at ./loading.jl:263",
      " in include at ./boot.jl:254",
      " in include_from_node1 at ./loading.jl:263"
     ]
    }
   ],
   "source": [
    "include(\"../src/TemporalInstanton.jl\")\n",
    "using TemporalInstanton\n",
    "inputData = load_rts96_data(return_as_type=true);\n",
    "\n",
    "# Thermal model parameters:\n",
    "inputData.Tamb = 35. # C\n",
    "inputData.T0 = 60. #46. # initial line steady-state temp\n",
    "\n",
    "inputData.time_values = 0:30:300 # five minutes in 30-sec steps\n",
    "inputData.int_length = 300. # seconds = 5 min\n",
    "Gp,Dp,Rp = inputData.G0,inputData.D0,inputData.R0\n",
    "inputData.G0 = [0.7*Gp;0.7*Gp;0.7*Gp;0.7*Gp;0.7*Gp;0.7*Gp]\n",
    "inputData.D0 = [0.9*Dp;0.9*Dp;0.9*Dp;0.9*Dp;0.9*Dp;0.9*Dp]\n",
    "inputData.R0 = [Rp;1.1*Rp;1.2*Rp;1.3*Rp;1.4*Rp;1.5*Rp]\n",
    "\n",
    "@time results = solve_temporal_instanton(inputData);"
   ]
  }
 ],
 "metadata": {
  "kernelspec": {
   "display_name": "Julia 0.4.0-dev+6561",
   "language": "julia",
   "name": "julia-0.4"
  },
  "language_info": {
   "name": "julia",
   "version": "0.4.0"
  }
 },
 "nbformat": 4,
 "nbformat_minor": 0
}
