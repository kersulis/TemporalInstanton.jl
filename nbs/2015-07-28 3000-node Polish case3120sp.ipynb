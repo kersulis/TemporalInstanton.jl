{
 "cells": [
  {
   "cell_type": "markdown",
   "metadata": {},
   "source": [
    "This is everything I need to perform temporal instanton anlaysis on a network:\n",
    "\n",
    "\n",
    "| Var name        | Description                                  |\n",
    "|:---------------:|:---------------------------------------------|\n",
    "| `Ridx`            | Vector: indices of wind nodes                |\n",
    "| `Y`               | admittance matrix                            |\n",
    "| `G0`              | Conventional generation                      |\n",
    "| `P0`              | Renewable forecast                           |\n",
    "| `D0`              | Demand                                       |\n",
    "| `Sb`              | System base MVA                              |\n",
    "| `ref`             | index of angle reference bus                 |\n",
    "| `lines`           | vector of tuples: (from,to)                  |\n",
    "| `res`             | pu line resistances                          |\n",
    "| `reac`            | pu line reactances                           |\n",
    "| `k`               | generator participation factors              |\n",
    "| `line_lengths`    | line lengths in meters                       |\n",
    "| `line_conductors` | vector of strings containing conductor names |\n",
    "| `Tamb`            | system ambient temperature                   |\n",
    "| `T0`              | Line initial temperature                     |\n",
    "| `int_length`      | length of each time interval in seconds      |\n",
    "\n",
    "I need to obtain all ingredients in the table above for the 3000-node Polish network. Here is the particular Polish network scenario I am using: summer morning peak data for the 2008 Polish system."
   ]
  },
  {
   "cell_type": "code",
   "execution_count": 2,
   "metadata": {
    "collapsed": false
   },
   "outputs": [
    {
     "name": "stdout",
     "output_type": "stream",
     "text": [
      " CASE3120SP  Power flow data for Polish system - summer 2008 morning peak.\n",
      "    Please see CASEFORMAT for details on the case file format.\n",
      " \n",
      "    This case represents the Polish 400, 220 and 110 kV networks during\n",
      "    summer 2008 morning peak conditions.\n",
      " \n",
      "    This data was graciously provided by, and is distributed with the\n",
      "    permission of, Roman Korab <roman.korab@polsl.pl>.\n"
     ]
    }
   ],
   "source": [
    "using MatpowerCases\n",
    "mpc = loadcase(\"case3120sp\",describe=false)\n",
    "print(mpc[\"docstring\"])"
   ]
  },
  {
   "cell_type": "markdown",
   "metadata": {},
   "source": [
    "## Ridx\n",
    "\n",
    "I need a vector of wind nodes for `case3120sp`. I think the most sensible thing to do is convert small conventional generators into wind farms. That way I am not fundamentally disturbing the generator topology.\n",
    "\n",
    "How many wind nodes should there be? Let's look at the RTS-96 network I've been using."
   ]
  },
  {
   "cell_type": "code",
   "execution_count": 3,
   "metadata": {
    "collapsed": false
   },
   "outputs": [
    {
     "name": "stdout",
     "output_type": "stream",
     "text": [
      "  Please email questions, comments, and significant results to: Robert.C.Green@gmail.com.  Thanks!\n"
     ]
    }
   ],
   "source": [
    "include(\"../src/TemporalInstanton.jl\")\n",
    "using TemporalInstanton\n",
    "\n",
    "Ridx,Y,\n",
    "Gp,Dp,Rp,\n",
    "Sb,ref,lines,\n",
    "res,reac,k,\n",
    "line_lengths,line_conductors = load_rts96_data();"
   ]
  },
  {
   "cell_type": "code",
   "execution_count": 9,
   "metadata": {
    "collapsed": false
   },
   "outputs": [
    {
     "data": {
      "text/plain": [
       "89.979"
      ]
     },
     "execution_count": 9,
     "metadata": {},
     "output_type": "execute_result"
    }
   ],
   "source": [
    "Gp # length = no. of nodes\n",
    "Gp[find(Gp)] # length = no. of generators\n",
    "sum(Gp)"
   ]
  },
  {
   "cell_type": "code",
   "execution_count": 26,
   "metadata": {
    "collapsed": false
   },
   "outputs": [
    {
     "data": {
      "text/plain": [
       "4x2 Array{Any,2}:\n",
       " \"mean:\"  0.0585\n",
       " \"min:\"   0.0146\n",
       " \"max:\"   0.8194\n",
       " \"sum:\"   4.2711"
      ]
     },
     "execution_count": 26,
     "metadata": {},
     "output_type": "execute_result"
    }
   ],
   "source": [
    "Rp # length = no. of nodes\n",
    "Rp[find(Rp)] # length = no. of wind farms\n",
    "hcat([\"mean:\";\"min:\";\"max:\";\"sum:\"],\n",
    "    round([mean(Rp);minimum(Rp[find(Rp)]);maximum(Rp);sum(Rp)],4))"
   ]
  },
  {
   "cell_type": "markdown",
   "metadata": {},
   "source": [
    "The RTS-96 I use has\n",
    "\n",
    "* 33 generators with a total of 90.0 pu generation.\n",
    "* 18 wind farms with a total of 4.3 pu generation\n",
    "    * Smallest: 1.46 MW\n",
    "    * Largest: 81.9 MW\n",
    "\n",
    "So the network has approximately 4.5% wind penetration.\n",
    "\n",
    "What if I converted all Polish generators smaller than 82 MW into wind farms?\n",
    "\n",
    "The Polish grid has 505 generators spread across 349 nodes. The first step in processing the generation data is to merge generators that share nodes."
   ]
  },
  {
   "cell_type": "code",
   "execution_count": 154,
   "metadata": {
    "collapsed": true
   },
   "outputs": [],
   "source": [
    "Sb = mpc[\"baseMVA\"] # \"100.0\"\n",
    "bus_i = mpc[\"bus\"][:,1]\n",
    "genBus = mpc[\"gen\"][:,1]\n",
    "Gp_long = mpc[\"gen\"][:,2] # in MW\n",
    "Gp = zeros(length(bus_i))\n",
    "for i in bus_i\n",
    "    Gp[i] = sum(Gp_long[find(genBus.==i)])/Sb # in pu\n",
    "end"
   ]
  },
  {
   "cell_type": "markdown",
   "metadata": {},
   "source": [
    "Now consider nodes whose generation is less than some cutoff:"
   ]
  },
  {
   "cell_type": "code",
   "execution_count": 156,
   "metadata": {
    "collapsed": false
   },
   "outputs": [
    {
     "name": "stdout",
     "output_type": "stream",
     "text": [
      "wind farms/conv. gen sites: 0.7012\n",
      "wind penetration: 10.2%\n"
     ]
    }
   ],
   "source": [
    "cutoff = 0.82 # 82 MW\n",
    "# cutoff = 0.41 # 41 MW\n",
    "ratio1 = round(sum(Gp[find(Gp)].<cutoff)/length(find(Gp)),4)\n",
    "println(\"wind farms/conv. gen sites: $ratio1\")\n",
    "\n",
    "f(x) = x < cutoff\n",
    "#g(x) = x >= cutoff\n",
    "ratio2 = round(sum(filter(f,Gp[find(Gp)]))/sum(Gp),3)\n",
    "println(\"wind penetration: $(ratio2*100)%\")"
   ]
  },
  {
   "cell_type": "markdown",
   "metadata": {},
   "source": [
    "There are 241 nodes with generation, so an 82 MW cutoff would convert 71% of generators into wind farms.\n",
    "\n",
    "In terms of total generation, the 82 MW cutoff would yield a wind fleet of 21.6 pu and leave 190.8 pu of conventional generation. This means wind penetration would be 10%. I think this is a reasonably interesting scenario, so I will move forward with an 82 MW cutoff.\n",
    "\n",
    "This block of code converts generators smaller than 82 MW into wind nodes:"
   ]
  },
  {
   "cell_type": "code",
   "execution_count": 157,
   "metadata": {
    "collapsed": false
   },
   "outputs": [],
   "source": [
    "Rp = zeros(length(Gp))\n",
    "for i in 1:length(Gp)\n",
    "    if Gp[i] < 0.82\n",
    "        Rp[i] = Gp[i]\n",
    "        Gp[i] = 0\n",
    "    end\n",
    "end"
   ]
  },
  {
   "cell_type": "markdown",
   "metadata": {},
   "source": [
    "## Line lengths\n",
    "\n",
    "I can't find data on Polish grid line lengths anywhere online, and the guy who added Polish grid data to Matpower suggests length data [may not be public](https://www.mail-archive.com/matpower-l@cornell.edu/msg00785.html).\n",
    "\n",
    "So for the purposes of showing that the temporal instanton analysis algorithm scales to 3000-node networks, I will sample RTS-96 line lengths to generate a vector of line lenghts for the polish grid. This vector will be saved (not randomly generated with each run)."
   ]
  },
  {
   "cell_type": "code",
   "execution_count": 166,
   "metadata": {
    "collapsed": false
   },
   "outputs": [
    {
     "name": "stdout",
     "output_type": "stream",
     "text": [
      "[51559.67147847275,27550.81173951869]"
     ]
    }
   ],
   "source": [
    "using HDF5, JLD\n",
    "# use RTS-96 line lengths to generate similar line lengths\n",
    "rts_lengths = load(\"../data/RTS-96\\ Data/line_lengths.jld\", \"line_lengths\")\n",
    "nz_rts_lengths = rts_lengths[find(rts_lengths)]\n",
    "\n",
    "# sample nz_rts_lengths to generate polish line lengths:\n",
    "line_lengths = zeros(length(lines))\n",
    "for i in 1:length(lines)\n",
    "    idx = rand(1:length(nz_rts_lengths))\n",
    "    line_lengths[i] = nz_rts_lengths[idx]\n",
    "end\n",
    "show([mean(line_lengths),std(line_lengths)])\n",
    "\n",
    "# do NOT uncomment unless you wish to permanently alter polish grid line lengths!\n",
    "#save(\"../data/polish_line_lengths.jld\",\"line_lengths\",line_lengths)"
   ]
  },
  {
   "cell_type": "markdown",
   "metadata": {},
   "source": [
    "## Testing"
   ]
  },
  {
   "cell_type": "code",
   "execution_count": 1,
   "metadata": {
    "collapsed": false
   },
   "outputs": [],
   "source": [
    "# Analysis:\n",
    "include(\"../src/TemporalInstanton.jl\")\n",
    "using TemporalInstanton"
   ]
  },
  {
   "cell_type": "code",
   "execution_count": 1,
   "metadata": {
    "collapsed": true
   },
   "outputs": [],
   "source": [
    "# Analysis:\n",
    "addprocs(4)\n",
    "@everywhere include(\"../src/TemporalInstanton.jl\")\n",
    "@everywhere using TemporalInstanton"
   ]
  },
  {
   "cell_type": "code",
   "execution_count": 2,
   "metadata": {
    "collapsed": false
   },
   "outputs": [],
   "source": [
    "Ridx, Y,\n",
    "Gp, Dp, Rp,\n",
    "Sb, ref, lines,\n",
    "res, reac, k,\n",
    "line_lengths, line_conductors = load_polish_data();"
   ]
  },
  {
   "cell_type": "code",
   "execution_count": 3,
   "metadata": {
    "collapsed": false
   },
   "outputs": [
    {
     "data": {
      "text/plain": [
       "60.0"
      ]
     },
     "execution_count": 3,
     "metadata": {},
     "output_type": "execute_result"
    }
   ],
   "source": [
    "time_intervals = 3 # thirty minutes\n",
    "time_values = 0:60:600 # ten minutes in 1-min steps\n",
    "int_length = 600. # seconds\n",
    "G0 = [0.7*Gp;0.7*Gp;0.7*Gp]\n",
    "D0 = [0.9*Dp;0.9*Dp;0.9*Dp]\n",
    "P0 = [Rp;1.1*Rp;1.2*Rp]\n",
    "\n",
    "# time_intervals = 6 # thirty minutes total\n",
    "# time_values = 0:30:300 # five minutes in 30-sec steps\n",
    "# int_length = 300. # seconds = 5 min\n",
    "# G0 = [0.7*Gp;0.7*Gp;0.7*Gp;0.7*Gp;0.7*Gp;0.7*Gp]\n",
    "# D0 = [0.9*Dp;0.9*Dp;0.9*Dp;0.9*Dp;0.9*Dp;0.9*Dp]\n",
    "# P0 = [Rp;1.1*Rp;1.2*Rp;1.3*Rp;1.4*Rp;1.5*Rp]\n",
    "\n",
    "# Thermal model parameters:\n",
    "Tamb = 35. # C\n",
    "T0 = 60. #46. # initial line steady-state temp"
   ]
  },
  {
   "cell_type": "code",
   "execution_count": null,
   "metadata": {
    "collapsed": true
   },
   "outputs": [],
   "source": [
    "@time score,x,θ,α,diffs,xopt = solve_temporal_instanton(\n",
    "    Ridx,Y,G0,P0,D0,Sb,ref,lines,\n",
    "    res,reac,k,line_lengths,line_conductors,Tamb,\n",
    "    T0,int_length);"
   ]
  }
 ],
 "metadata": {
  "kernelspec": {
   "display_name": "Julia",
   "language": "julia",
   "name": "julia"
  },
  "language_info": {
   "name": "julia",
   "version": "0.3.10"
  }
 },
 "nbformat": 4,
 "nbformat_minor": 0
}
