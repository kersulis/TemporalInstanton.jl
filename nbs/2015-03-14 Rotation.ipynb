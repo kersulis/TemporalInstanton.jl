{
 "cells": [
  {
   "cell_type": "markdown",
   "metadata": {},
   "source": [
    "# The problem with rotation\n",
    "\n",
    "Dan's trust region subproblem solution method relies on one translation and two rotations. We have worked through the translation, and everything looks okay there. Rotation is another matter.\n",
    "\n",
    "Norms are rotation invariant, but norms over a subset of the variables are not rotation invariant. In our problem we wish to constrain the norm of just a few variables -- hence the matrix $Q_\\theta$.\n",
    "\n",
    "## Nullspace rotation: OK\n",
    "\n",
    "The nullspace rotation doesn't cause any problems because the rotation matrix is nearly diagonal where it counts (the last $T$ rows and columns):\n",
    "\n",
    "<img src=\"../images/Rkernel.png\" width=600>\n",
    "_This figure depicts a 279-by-279 matrix_\n",
    "\n",
    "The variables involved in the norm constraint are largely unaffected during the nullspace rotation. Here are the last $T$ rows and columns of $R_{kernel}$:\n",
    "\n",
    "     0.99984  -3.33903e-19   2.98295e-19\n",
    "     0.0       0.99984      -1.29067e-18\n",
    "     0.0       0.0          -0.99984 \n",
    "\n",
    "The norm of the last three variables before rotation will be equivalent to the norm of the last three variables after rotation (with a slight numerical error)."
   ]
  },
  {
   "cell_type": "markdown",
   "metadata": {},
   "source": [
    "## Diagonalizing rotation: problem\n",
    "\n",
    "Things get all messed up when we perform the diagonalizing rotation. The purpose of this rotation is to diagonalize the objective matrix, turning the first-order optimality conditions into a secular equation (which is easy to solve). The appropriate diagonalizing rotation matrix is $R_{eigvec}$, whose columns are Eigenvectors of the objective matrix. Here is what $R_{eigvec}$ looks like:\n",
    "\n",
    "<img src=\"../images/Reigvec.png\" width=600>\n",
    "_Another 279-by-279 matrix_\n",
    "\n",
    "This matrix is nowhere near as structured as $R_{kernel}$. Critically, its last $T$ rows and columns are nothing like an identity matrix:\n",
    "\n",
    "      0.00166923   5.45485e-5   0.0        \n",
    "     -0.00228768  -0.00427142   0.0        \n",
    "     -6.38426e-5  -0.00132294  -1.33881e-51"
   ]
  },
  {
   "cell_type": "markdown",
   "metadata": {},
   "source": [
    "When we solve the secular equation, we look for vectors in the transformed coordinate system whose last $T$ components have a norm of $\\bar{c}$. But this condition is insufficient to ensure that the last $T$ components have a norm of $c$ in the original coordinate system (when we transform back). This explains why the solutions I obtain do not satisfy $x^\\top Q_\\theta x = c$ even though they solve the secular equation.\n",
    "\n",
    "We could get pretty close if the only rotation matrix was $R_{kernel}$. If we were somehow able to diagonalize $D$ with a matrix whose last $T$ rows and columns resembled an identity matrix, things would  work out alright."
   ]
  }
 ],
 "metadata": {
  "kernelspec": {
   "display_name": "Julia",
   "language": "julia",
   "name": "julia"
  },
  "language_info": {
   "name": "julia",
   "version": "0.3.6"
  }
 },
 "nbformat": 4,
 "nbformat_minor": 0
}
