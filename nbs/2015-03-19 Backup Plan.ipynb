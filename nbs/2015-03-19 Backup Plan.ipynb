{
 "cells": [
  {
   "cell_type": "markdown",
   "metadata": {},
   "source": [
    "# Solving a different problem: uncertainty-constrained temperature maximization\n",
    "\n",
    "## Temperature as the objective\n",
    "\n",
    "It would be nice to avoid solving a nonconvex QCQP with a shell constraint. What if, instead of minimizing wind deviations, we fixed a wind forecast inaccuracy limit (placing bounds on deviation variables) and maximized heat input to each line? This would give us a set of wind patterns, each one based on $x\\%$ maximum forecast inaccuracy, that would maximally heat one line in the network. We could then filter that list based on which line temperatures are greatest, and sort remaining patterns according to distance from the forecast. In the end, we would have the most likely wind pattern (assuming inaccuracy of $x\\%$) guaranteed to saturate a line."
   ]
  },
  {
   "cell_type": "markdown",
   "metadata": {},
   "source": [
    "We get a quadratic program like this:\n",
    "\n",
    "\\begin{align}\n",
    "&& z_{ik}^* = \\max~ & z^\\top Q_{\\theta} z \\\\\n",
    "s.t. && Az &= b \\\\\n",
    "&& x &\\leq c\\cdot P0  \\\\\n",
    "&& x &\\geq -c\\cdot P0\n",
    "\\end{align}\n",
    "\n",
    "where $z$ is the vector of all variables, $x$ contains only wind deviation variables, and $P0$ is the vector of wind forecast values. We define $A$ to ensure the right line $(i,k)$ is chosen, and we repeat the optimization to find $z_{ik}^*$ for every line in the network. This gives us a set of system states (including wind deviations), each of which reflects maximal heating of one line in the network subject to the given forecast inaccuracy.\n",
    "\n",
    "One nice side-effect of this formulation is that we don't have to worry about wind farm output going negative. Deviations are bounded, so they cannot exceed forecast values as long as $c\\leq 1$."
   ]
  },
  {
   "cell_type": "markdown",
   "metadata": {},
   "source": [
    "## Understanding the output\n",
    "\n",
    "Now suppose $z_{ik}^*$ results in a temperature of $T_{ik}^*$ for line $(i,k)$, and the line's maximum allowable temperature is $T_{ik}^{max}$. If $T_{ik}^* \\geq T_{ik}^{max}$, we have a problem. Otherwise, there is no wind pattern within the forecast inaccuracy limits that will excessively heat line $(i,k)$. We remove $z_{ik}^*$ from our list and move on.\n",
    "\n",
    "In the end we have a set of problematic system states. If this set is empty, we need to increase the inaccuracy limit and re-do the optimization. Otherwise, we rank members of the set according to $\\lVert x_{ik}^*\\rVert$, the normed distance between the forecast and the actual wind pattern. This gives us a set of \"extreme events\" sorted roughly by likelihood (since patterns closer to the forecast are more likely to occur)."
   ]
  },
  {
   "cell_type": "markdown",
   "metadata": {},
   "source": [
    "## Reusing existing code\n",
    "\n",
    "There isn't time to solve this new problem from scratch, but I can reuse many elements of code I have already written.\n",
    "\n",
    "* $Q_\\theta$ selects only the $\\hat{\\theta}_{ik}$ variables from $z$. This is the same function it has in the original problem, so the code doesn't need alteration.\n",
    "\n",
    "* $Ax=b$ ensures power balance and implements distributed slack. It also defines $\\hat{\\theta}_{ik}$ appropriately. I do not need to change this at all.\n",
    "\n",
    "* All I need to do is add constraints to limit wind deviations (otherwise, the objective could increase without bound)."
   ]
  },
  {
   "cell_type": "markdown",
   "metadata": {},
   "source": [
    "## Building and solving a model"
   ]
  },
  {
   "cell_type": "code",
   "execution_count": 1,
   "metadata": {
    "collapsed": false,
    "scrolled": false
   },
   "outputs": [],
   "source": [
    "####### IMPORTS: INSTANTON CODE ########\n",
    "# Get instanton code into workspace:\n",
    "include(\"../src/maxTemp.jl\")\n",
    "using maxTemp"
   ]
  },
  {
   "cell_type": "code",
   "execution_count": 2,
   "metadata": {
    "collapsed": false
   },
   "outputs": [],
   "source": [
    "####### IMPORTS: DATA ACQUISITION ########\n",
    "include(\"../src/tmp_inst_rts96.jl\")\n",
    "\n",
    "psData = psDataLoad()\n",
    "\n",
    "# unpack psDL (boilerplate):\n",
    "(Sb,f,t,r,x,b,Y,bustype,\n",
    "Gp,Gq,Dp,Dq,Rp,Rq,\n",
    "Pmax,Pmin,Qmax,Qmin,Plim,\n",
    "Vg,Vceiling,Vfloor,\n",
    "busIdx,N,Nr,Ng,k) = unpack_psDL(psData)\n",
    "\n",
    "ref = 1 # Index of ref node\n",
    "tau = 1.5 # Heating constant\n",
    "c = 0.2 # Forecast inaccuracy limit\n",
    "\n",
    "Ridx = find(Rp) # Vector of renewable nodes\n",
    "G0 = [Gp,Gp.*0.95,Gp.*0.9]\n",
    "D0 = [Dp,Dp.*0.95,Dp.*0.9]\n",
    "P0 = [Rp,Rp.*1.1,Rp]\n",
    "Y = full(Y) # Full admittance matrix (ref not removed)\n",
    "\n",
    "lines = [(f[i],t[i]) for i in 1:length(f)];"
   ]
  },
  {
   "cell_type": "code",
   "execution_count": 3,
   "metadata": {
    "collapsed": true
   },
   "outputs": [
    {
     "data": {
      "text/plain": [
       "([2.2932e-5,0.0453835],[:Optimal,:Optimal],Array[[[-0.0410327,-0.0224674,0.242398,0.409692,0.076281,0.160209,0.105814,0.268494,-0.0399621,-0.179177,-0.0211847,-0.0352812,-0.00937566,-0.0837322,-0.139395,0.152004,0.141108,0.00729019],[-0.0451359,-0.0245884,0.266635,0.450659,0.0839071,0.176226,0.116384,0.295341,-0.043373,-0.197087,-0.023292,-0.0387971,-0.0103058,-0.0920856,-0.153308,0.1672,0.155215,0.00801549],[-0.0410325,-0.0208662,0.24239,0.409685,0.0762742,0.160195,0.105772,0.268487,-0.036475,-0.179151,-0.0211485,-0.0352407,-0.00935098,-0.0836665,-0.139308,0.151991,0.141095,0.00727812]],[[-0.0410329,0.022521,0.242403,0.409697,0.0762857,0.160219,0.105844,0.268498,0.0402597,0.179194,0.0212114,0.0353101,0.00940641,0.0837786,0.139456,0.152013,0.141117,0.00729893],[-0.0451361,0.0247731,0.266644,0.450667,0.0839143,0.176241,0.116428,0.295348,0.0442857,0.197113,0.0233324,0.038841,0.010347,0.0921565,0.153402,0.167214,0.155229,0.00802882],[-0.0410329,0.0225209,0.242403,0.409697,0.0762857,0.160219,0.105844,0.268498,0.0402597,0.179194,0.0212111,0.0353099,0.00940633,0.0837785,0.139456,0.152013,0.141117,0.0072989]]],Array[[[3.86722e-29,-0.00224881,0.0979839,0.00205198,-0.0103379,-0.0267846,-0.11153,-0.101023,0.0558621,0.0198742  …  0.227414,0.274862,0.288454,0.23946,0.27374,0.299908,0.364542,0.3018,0.144115,0.314327],[-4.29699e-30,-0.00220254,0.0978414,0.00297689,-0.0093002,-0.0246569,-0.111193,-0.0991895,0.0549921,0.0199406  …  0.210815,0.254912,0.267463,0.223984,0.258049,0.278286,0.338865,0.285531,0.132034,0.298562],[1.74555e-29,-0.00206801,0.0913653,0.00254161,-0.00894838,-0.0235673,-0.103902,-0.093082,0.0515758,0.0186109  …  0.201049,0.243102,0.255096,0.213048,0.244906,0.265361,0.322978,0.270714,0.126308,0.282751]],[[-2.12537e-35,-0.00221629,0.0991146,0.00435506,-0.00825596,-0.023561,-0.102142,-0.0949686,0.0600245,0.0241117  …  0.219395,0.269553,0.284796,0.230527,0.264012,0.294418,0.357795,0.291635,0.134372,0.304728],[1.01815e-33,-0.00216677,0.0990839,0.00550869,-0.0070114,-0.021113,-0.100863,-0.0925282,0.0595679,0.024599  …  0.202015,0.249092,0.263458,0.214177,0.247367,0.272268,0.331465,0.274367,0.121339,0.28802],[3.98374e-34,-0.00203553,0.0924865,0.00483381,-0.00687586,-0.0203583,-0.0944796,-0.0870104,0.0557185,0.0228291  …  0.193182,0.237942,0.251585,0.204258,0.235315,0.260023,0.316388,0.260681,0.116725,0.273274]]],[[-39.4486,-38.2664,-36.0353],[-40.5104,-39.4336,-37.0919]],Array[[0.00337321,0.00269755,0.00206801],[-0.148672,-0.121352,-0.0924865]])"
      ]
     },
     "execution_count": 3,
     "metadata": {},
     "output_type": "execute_result"
    }
   ],
   "source": [
    "score,result,x,θ,α,diffs = maxTempInstanton(Ridx,Y,ref,G0,P0,D0,k,tau,lines[1:2],0.5)"
   ]
  },
  {
   "cell_type": "code",
   "execution_count": 4,
   "metadata": {
    "collapsed": false
   },
   "outputs": [
    {
     "data": {
      "text/html": [
       "<script charset=\"utf-8\">(function ($, undefined) {\n",
       "\n",
       "    function createElem(tag, attr, content) {\n",
       "\t// TODO: remove jQuery dependency\n",
       "\tvar el = $(\"<\" + tag + \"/>\").attr(attr);\n",
       "\tif (content) {\n",
       "\t    el.append(content);\n",
       "\t}\n",
       "\treturn el[0];\n",
       "    }\n",
       "\n",
       "    // A widget must expose an id field which identifies it to the backend,\n",
       "    // an elem attribute which is will be added to the DOM, and\n",
       "    // a getState() method which returns the value to be sent to the backend\n",
       "    // a sendUpdate() method which sends its current value to the backend\n",
       "    var Widget = {\n",
       "\tid: undefined,\n",
       "\telem: undefined,\n",
       "\tlabel: undefined,\n",
       "\tgetState: function () {\n",
       "\t    return this.elem.value;\n",
       "\t},\n",
       "\tsendUpdate: undefined\n",
       "    };\n",
       "\n",
       "    var Slider = function (typ, id, init) {\n",
       "\tvar attr = { type:  \"range\",\n",
       "\t\t     value: init.value,\n",
       "\t\t     min:   init.min,\n",
       "\t\t     max:   init.max,\n",
       "\t\t     step:  init.step },\n",
       "\t    elem = createElem(\"input\", attr),\n",
       "\t    self = this;\n",
       "\n",
       "\telem.onchange = function () {\n",
       "\t    self.sendUpdate();\n",
       "\t}\n",
       "\n",
       "\tthis.id = id;\n",
       "\tthis.elem = elem;\n",
       "\tthis.label = init.label;\n",
       "\n",
       "\tInputWidgets.commInitializer(this); // Initialize communication\n",
       "    }\n",
       "    Slider.prototype = Widget;\n",
       "\n",
       "    var Checkbox = function (typ, id, init) {\n",
       "\tvar attr = { type: \"checkbox\",\n",
       "\t\t     checked: init.value },\n",
       "\t    elem = createElem(\"input\", attr),\n",
       "\t    self = this;\n",
       "\n",
       "\tthis.getState = function () {\n",
       "\t    return elem.checked;\n",
       "\t}\n",
       "\telem.onchange = function () {\n",
       "\t    self.sendUpdate();\n",
       "\t}\n",
       "\n",
       "\tthis.id = id;\n",
       "\tthis.elem = elem;\n",
       "\tthis.label = init.label;\n",
       "\n",
       "\tInputWidgets.commInitializer(this);\n",
       "    }\n",
       "    Checkbox.prototype = Widget;\n",
       "\n",
       "    var Button = function (typ, id, init) {\n",
       "\tvar attr = { type:    \"button\",\n",
       "\t\t     value:   init.label },\n",
       "\t    elem = createElem(\"input\", attr),\n",
       "\t    self = this;\n",
       "\tthis.getState = function () {\n",
       "\t    return null;\n",
       "\t}\n",
       "\telem.onclick = function () {\n",
       "\t    self.sendUpdate();\n",
       "\t}\n",
       "\n",
       "\tthis.id = id;\n",
       "\tthis.elem = elem;\n",
       "\tthis.label = init.label;\n",
       "\n",
       "\tInputWidgets.commInitializer(this);\n",
       "    }\n",
       "    Button.prototype = Widget;\n",
       "\n",
       "    var Text = function (typ, id, init) {\n",
       "\tvar attr = { type:  \"text\",\n",
       "\t\t     placeholder: init.label,\n",
       "\t\t     value: init.value },\n",
       "\t    elem = createElem(\"input\", attr),\n",
       "\t    self = this;\n",
       "\tthis.getState = function () {\n",
       "\t    return elem.value;\n",
       "\t}\n",
       "\telem.onkeyup = function () {\n",
       "\t    self.sendUpdate();\n",
       "\t}\n",
       "\n",
       "\tthis.id = id;\n",
       "\tthis.elem = elem;\n",
       "\tthis.label = init.label;\n",
       "\n",
       "\tInputWidgets.commInitializer(this);\n",
       "    }\n",
       "    Text.prototype = Widget;\n",
       "\n",
       "    var Textarea = function (typ, id, init) {\n",
       "\tvar attr = { placeholder: init.label },\n",
       "\t    elem = createElem(\"textarea\", attr, init.value),\n",
       "\t    self = this;\n",
       "\tthis.getState = function () {\n",
       "\t    return elem.value;\n",
       "\t}\n",
       "\telem.onchange = function () {\n",
       "\t    self.sendUpdate();\n",
       "\t}\n",
       "\n",
       "\tthis.id = id;\n",
       "\tthis.elem = elem;\n",
       "\tthis.label = init.label;\n",
       "\n",
       "\tInputWidgets.commInitializer(this);\n",
       "    }\n",
       "    Textarea.prototype = Widget;\n",
       "\n",
       "    // RadioButtons\n",
       "    // Dropdown\n",
       "    // HTML\n",
       "    // Latex\n",
       "\n",
       "    var InputWidgets = {\n",
       "\tSlider: Slider,\n",
       "\tCheckbox: Checkbox,\n",
       "\tButton: Button,\n",
       "\tText: Text,\n",
       "\tTextarea: Textarea,\n",
       "\tdebug: false,\n",
       "\tlog: function () {\n",
       "\t    if (InputWidgets.debug) {\n",
       "\t\tconsole.log.apply(console, arguments);\n",
       "\t    }\n",
       "\t},\n",
       "\t// a central way to initalize communication\n",
       "\t// for widgets.\n",
       "\tcommInitializer: function (widget) {\n",
       "\t    widget.sendUpdate = function () {};\n",
       "\t}\n",
       "    };\n",
       "\n",
       "    window.InputWidgets = InputWidgets;\n",
       "\n",
       "})(jQuery, undefined);\n",
       "</script>"
      ]
     },
     "metadata": {},
     "output_type": "display_data"
    },
    {
     "data": {
      "text/html": [
       "<script charset=\"utf-8\">(function (IPython, $, _, MathJax, Widgets) {\n",
       "    $.event.special.destroyed = {\n",
       "\tremove: function(o) {\n",
       "\t    if (o.handler) {\n",
       "\t\to.handler.apply(this, arguments)\n",
       "\t    }\n",
       "\t}\n",
       "    }\n",
       "\n",
       "    var redrawValue = function (container, type, val) {\n",
       "\tvar selector = $(\"<div/>\");\n",
       "\tvar oa = new IPython.OutputArea(_.extend(selector, {\n",
       "\t    selector: selector,\n",
       "\t    prompt_area: true,\n",
       "\t    events: IPython.events,\n",
       "\t    keyboard_manager: IPython.keyboard_manager\n",
       "\t})); // Hack to work with IPython 2.1.0\n",
       "\n",
       "\tswitch (type) {\n",
       "\tcase \"image/png\":\n",
       "            var _src = 'data:' + type + ';base64,' + val;\n",
       "\t    $(container).find(\"img\").attr('src', _src);\n",
       "\t    break;\n",
       "\tdefault:\n",
       "\t    var toinsert = IPython.OutputArea.append_map[type].apply(\n",
       "\t\toa, [val, {}, selector]\n",
       "\t    );\n",
       "\t    $(container).empty().append(toinsert.contents());\n",
       "\t    selector.remove();\n",
       "\t}\n",
       "\tif (type === \"text/latex\" && MathJax) {\n",
       "\t    MathJax.Hub.Queue([\"Typeset\", MathJax.Hub, toinsert.get(0)]);\n",
       "\t}\n",
       "    }\n",
       "\n",
       "\n",
       "    $(document).ready(function() {\n",
       "\tWidgets.debug = false; // log messages etc in console.\n",
       "\tfunction initComm(evt, data) {\n",
       "\t    var comm_manager = data.kernel.comm_manager;\n",
       "        //_.extend(comm_manager.targets, require(\"widgets/js/widget\"))\n",
       "\t    comm_manager.register_target(\"Signal\", function (comm) {\n",
       "            comm.on_msg(function (msg) {\n",
       "                //Widgets.log(\"message received\", msg);\n",
       "                var val = msg.content.data.value;\n",
       "                $(\".signal-\" + comm.comm_id).each(function() {\n",
       "                var type = $(this).data(\"type\");\n",
       "                if (val[type]) {\n",
       "                    redrawValue(this, type, val[type], type);\n",
       "                }\n",
       "                });\n",
       "                delete val;\n",
       "                delete msg.content.data.value;\n",
       "            });\n",
       "\t    });\n",
       "\n",
       "\t    // coordingate with Comm and redraw Signals\n",
       "\t    // XXX: Test using Reactive here to improve performance\n",
       "\t    $([IPython.events]).on(\n",
       "\t\t'output_appended.OutputArea', function (event, type, value, md, toinsert) {\n",
       "\t\t    if (md && md.reactive) {\n",
       "                // console.log(md.comm_id);\n",
       "                toinsert.addClass(\"signal-\" + md.comm_id);\n",
       "                toinsert.data(\"type\", type);\n",
       "                // Signal back indicating the mimetype required\n",
       "                var comm_manager = IPython.notebook.kernel.comm_manager;\n",
       "                var comm = comm_manager.comms[md.comm_id];\n",
       "                comm.then(function (c) {\n",
       "                    c.send({action: \"subscribe_mime\",\n",
       "                       mime: type});\n",
       "                    toinsert.bind(\"destroyed\", function() {\n",
       "                        c.send({action: \"unsubscribe_mime\",\n",
       "                               mime: type});\n",
       "                    });\n",
       "                })\n",
       "\t\t    }\n",
       "\t    });\n",
       "\t}\n",
       "\n",
       "\ttry {\n",
       "\t    // try to initialize right away. otherwise, wait on the status_started event.\n",
       "\t    initComm(undefined, IPython.notebook);\n",
       "\t} catch (e) {\n",
       "\t    $([IPython.events]).on('status_started.Kernel', initComm);\n",
       "\t}\n",
       "    });\n",
       "})(IPython, jQuery, _, MathJax, InputWidgets);\n",
       "</script>"
      ]
     },
     "metadata": {},
     "output_type": "display_data"
    },
    {
     "name": "stderr",
     "output_type": "stream",
     "text": [
      "INFO: Loading help data...\n"
     ]
    }
   ],
   "source": [
    "using Reactive, Interact\n",
    "using PyPlot"
   ]
  },
  {
   "cell_type": "code",
   "execution_count": 26,
   "metadata": {
    "collapsed": false
   },
   "outputs": [
    {
     "data": {
      "text/html": [],
      "text/plain": [
       "Slider{Float64}([Input{Float64}] 0.27,\"c\",0.27,0.05:0.01:0.5)"
      ]
     },
     "execution_count": 26,
     "metadata": {},
     "output_type": "execute_result"
    }
   ],
   "source": [
    "c = slider(0.05:0.01:0.5, label=\"c\")"
   ]
  },
  {
   "cell_type": "code",
   "execution_count": 52,
   "metadata": {
    "collapsed": false
   },
   "outputs": [
    {
     "data": {
      "text/plain": [
       "3-element Array{Float64,1}:\n",
       " 0.00201207\n",
       " 0.00192165\n",
       " 0.00183123"
      ]
     },
     "execution_count": 52,
     "metadata": {
      "comm_id": "0b87197d-2dff-4ebc-ab89-86620db59ea3",
      "reactive": true
     },
     "output_type": "execute_result"
    }
   ],
   "source": [
    "stuff = lift(c -> maxTempInstanton(Ridx,Y,ref,G0,P0,D0,k,tau,[lines[1:5]],c)[end][1],signal(c))"
   ]
  },
  {
   "cell_type": "code",
   "execution_count": 35,
   "metadata": {
    "collapsed": false
   },
   "outputs": [
    {
     "data": {
      "text/html": [],
      "text/plain": [
       "Slider{Float64}([Input{Float64}] 1.4,\"τ\",1.4,0.8:0.1:2.0)"
      ]
     },
     "metadata": {},
     "output_type": "display_data"
    },
    {
     "data": {
      "text/html": [],
      "text/plain": [
       "Slider{Float64}([Input{Float64}] 1.0,\"Rscale\",1.0,0.7:0.1:1.3)"
      ]
     },
     "metadata": {},
     "output_type": "display_data"
    },
    {
     "data": {
      "text/html": [],
      "text/plain": [
       "Slider{Int64}([Input{Int64}] 60,\"Lidx\",60,1:120)"
      ]
     },
     "metadata": {},
     "output_type": "display_data"
    },
    {
     "data": {
      "image/png": "[encoded data removed]",
      "text/plain": [
       "Figure(PyObject <matplotlib.figure.Figure object at 0x7fb0ebafd1d0>)"
      ]
     },
     "execution_count": 35,
     "metadata": {
      "comm_id": "4b6482b9-f233-42dc-b75c-9202c2818f66",
      "reactive": true
     },
     "output_type": "execute_result"
    }
   ],
   "source": [
    "cvals = 0.05:0.1:0.5\n",
    "f = figure();\n",
    "@manipulate for τ = 0.8:0.1:2, Rscale = 0.7:0.1:1.3, Lidx = 1:120; withfig(f) do\n",
    "        subplot(121)\n",
    "        plot(cvals,[maxTempInstanton(Ridx,Y,ref,Rscale.*G0,P0,D0,k,τ,lines[Lidx:Lidx],i)[1] for i in cvals])\n",
    "        xlabel(L\"c\")\n",
    "        ylabel(\"Objective value\")\n",
    "        subplot(122)\n",
    "        plot(cvals,[maxTempInstanton(Ridx,Y,ref,Rscale.*G0,P0,D0,k,τ,lines[Lidx:Lidx],i)[5][1] for i in cvals])\n",
    "        xlabel(L\"c\")\n",
    "        # ylabel(\"Angle differences\")\n",
    "end\n",
    "end"
   ]
  },
  {
   "cell_type": "code",
   "execution_count": 30,
   "metadata": {
    "collapsed": false
   },
   "outputs": [
    {
     "data": {
      "text/plain": [
       "(25,26)"
      ]
     },
     "execution_count": 30,
     "metadata": {},
     "output_type": "execute_result"
    }
   ],
   "source": [
    "lines[42]"
   ]
  },
  {
   "cell_type": "markdown",
   "metadata": {},
   "source": [
    "## Next step: getting fully convinced\n",
    "\n",
    "The output looks clean -- perhaps too clean. As $c$ is increased, angle differences increase linearly and objective values increase quadratically. Optimization takes 5.6 seconds for all lines even though this is a nonconvex problem. \n",
    "\n",
    "So far I have checked several things:\n",
    "\n",
    "* $Ax=b$ is satisfied by the solutions I've checked.\n",
    "\n",
    "* Mismatch values pass a sanity check.\n",
    "\n",
    "* Results make sense qualitatively.\n",
    "\n",
    "I need to visualize the output to be fully confident in these numbers. Fortunately I have more code that may be reused for this purpose."
   ]
  }
 ],
 "metadata": {
  "kernelspec": {
   "display_name": "Julia",
   "language": "julia",
   "name": "julia"
  },
  "language_info": {
   "name": "julia",
   "version": "0.3.6"
  }
 },
 "nbformat": 4,
 "nbformat_minor": 0
}
