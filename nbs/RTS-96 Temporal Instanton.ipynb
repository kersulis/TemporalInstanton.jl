{
 "cells": [
  {
   "cell_type": "markdown",
   "metadata": {},
   "source": [
    "# Temporal Instanton for RTS-96 Network\n",
    "\n",
    "As mentioned previously, an instance of the temporal instanton problem contains the following data:\n",
    "\n",
    "* $n$ and $T$\n",
    "\n",
    "* $Q_x$, which depends on desired correlation\n",
    "\n",
    "* $A$, which depends on admittance matrix $Y$\n",
    "\n",
    "* $b$, which depends on $G^0$ and $D$\n",
    "\n",
    "* $Q_\\theta$, which depends on $\\tau$ and the line we wish to overload\n",
    "\n",
    "Much of this data was prepared as part of my previous instanton work. Because previous work considered only one time step, however, additional generation and demand data must be generated."
   ]
  },
  {
   "cell_type": "code",
   "execution_count": 1,
   "metadata": {
    "collapsed": false
   },
   "outputs": [
    {
     "data": {
      "text/plain": [
       "readRTS96Data (generic function with 1 method)"
      ]
     },
     "execution_count": 1,
     "metadata": {},
     "output_type": "execute_result"
    }
   ],
   "source": [
    "include(\"../src/tmp_inst_rts96.jl\")"
   ]
  },
  {
   "cell_type": "code",
   "execution_count": 2,
   "metadata": {
    "collapsed": true
   },
   "outputs": [
    {
     "data": {
      "text/plain": [
       "powerSystemData(100.0,[1,1,1,2,2,3,3,4,5,6  …  66,66,67,67,68,68,69,73,66,71],[2,3,5,4,6,9,24,9,10,10  …  69,69,68,68,71,71,70,21,47,73],[0.003,0.055,0.022,0.033,0.05,0.031,0.002,0.027,0.023,0.014  …  0.003,0.003,0.005,0.005,0.003,0.003,0.009,0.012,0.013,0.0],[0.014,0.211,0.085,0.127,0.192,0.119,0.084,0.104,0.088,0.061  …  0.026,0.026,0.04,0.04,0.022,0.022,0.068,0.097,0.104,0.009],[0.461,0.057,0.023,0.034,0.052,0.032,0.0,0.028,0.024,2.459  …  0.055,0.055,0.083,0.083,0.046,0.046,0.142,0.203,0.218,0.0],73x73 sparse matrix with 289 Float64 entries:\n",
       "\t[1 ,  1]  =  87.9326\n",
       "\t[2 ,  1]  =  -71.4286\n",
       "\t[3 ,  1]  =  -4.73934\n",
       "\t[5 ,  1]  =  -11.7647\n",
       "\t[1 ,  2]  =  -71.4286\n",
       "\t[2 ,  2]  =  84.5109\n",
       "\t[4 ,  2]  =  -7.87402\n",
       "\t[6 ,  2]  =  -5.20833\n",
       "\t[1 ,  3]  =  -4.73934\n",
       "\t[3 ,  3]  =  25.0475\n",
       "\t⋮\n",
       "\t[60, 71]  =  -10.3093\n",
       "\t[61, 71]  =  -11.4943\n",
       "\t[68, 71]  =  -90.9091\n",
       "\t[71, 71]  =  223.824\n",
       "\t[73, 71]  =  -111.111\n",
       "\t[51, 72]  =  -11.9048\n",
       "\t[63, 72]  =  -19.2308\n",
       "\t[72, 72]  =  31.1355\n",
       "\t[21, 73]  =  -10.3093\n",
       "\t[71, 73]  =  -111.111\n",
       "\t[73, 73]  =  121.42,[2.0,2.0,1.0,1.0,1.0,1.0,2.0,1.0,1.0,1.0  …  2.0,1.0,2.0,1.0,1.0,2.0,2.0,2.0,1.0,1.0],[1.72,1.72,0.0,0.0,0.0,0.0,1.6,0.8,0.0,0.0  …  1.55,0.0,4.0,0.0,0.0,4.0,3.0,6.6,0.0,0.0],[0.282,0.14,0.0,0.0,0.0,0.0,0.344,0.172,0.0,0.0  …  0.2522,0.0,1.374,0.0,0.0,1.082,-0.2976,1.3536,0.0,0.0],[0.706713,0.632322,1.17166,0.48354,0.464943,0.89269,0.818299,1.11586,1.13446,1.26464  …  0.65092,0.0,2.17593,1.19025,0.836897,0.0,0.0,0.0,0.0,0.0],[0.22,0.2,0.37,0.15,0.14,0.28,0.25,0.35,0.36,0.4  …  0.2,0.0,0.68,0.37,0.26,0.0,0.0,0.0,0.0,0.0],[0.0,0.0820657,0.0,0.0,0.0,0.0,0.0,0.0,0.0,0.0  …  0.0,0.0,0.0,0.0,0.0,0.0,0.0,0.0,0.0,0.0],[0.0,0.0397198,0.0,0.0,0.0,0.0,0.0,0.0,0.0,0.0  …  0.0,0.0,0.0,0.0,0.0,0.0,0.0,0.0,0.0,0.0],[0.2,0.2,0.76,0.76,0.2,0.2,0.76,0.76,1.0,1.0  …  4.0,0.5,0.5,0.5,0.5,0.5,0.5,1.55,1.55,3.5],[0.08,0.08,0.4,0.4,0.08,0.08,0.4,0.4,0.4,0.4  …  1.0,0.26,0.26,0.26,0.26,0.26,0.26,0.5424,0.5424,1.4],[0.1,0.1,0.3,0.3,0.1,0.1,0.3,0.3,0.6,0.6  …  2.0,0.16,0.16,0.16,0.16,0.16,0.16,0.8,0.8,1.5],[0.0,0.0,-0.25,-0.25,0.0,0.0,-0.25,-0.25,0.0,0.0  …  -0.5,-0.1,-0.1,-0.1,-0.1,-0.1,-0.1,-0.5,-0.5,-0.25],[1.12,1.12,1.12,1.12,1.12,1.12,2.56,1.12,1.12,1.12  …  3.2,3.2,3.2,3.2,3.2,3.2,3.2,3.2,3.2,4.6208],[1.035,1.035,1.035,1.035,1.035,1.035,1.035,1.035,1.025,1.025  …  1.05,1.05,1.05,1.05,1.05,1.05,1.05,1.05,1.05,1.05],[1.0,1.0,1.1,1.1,1.1,1.1,1.0,1.1,1.1,1.1  …  1.0,1.1,1.0,1.1,1.1,1.0,1.0,1.0,1.1,1.1],[1.0,1.0,0.9,0.9,0.9,0.9,1.0,0.9,0.9,0.9  …  1.0,0.9,1.0,0.9,0.9,1.0,1.0,1.0,0.9,0.9],[101.0,102.0,103.0,104.0,105.0,106.0,107.0,108.0,109.0,110.0  …  316.0,317.0,318.0,319.0,320.0,321.0,322.0,323.0,324.0,325.0],73,18,33,[0.030303,0.030303,0.0,0.0,0.0,0.0,0.030303,0.030303,0.0,0.0  …  0.030303,0.0,0.030303,0.0,0.0,0.030303,0.030303,0.030303,0.0,0.0])"
      ]
     },
     "execution_count": 2,
     "metadata": {},
     "output_type": "execute_result"
    }
   ],
   "source": [
    "psData = psDataLoad()\n",
    "\n",
    "# unpack psDL (boilerplate):\n",
    "(Sb,f,t,r,x,b,Y,bustype,\n",
    "Gp,Gq,Dp,Dq,Rp,Rq,\n",
    "Pmax,Pmin,Qmax,Qmin,Plim,\n",
    "Vg,Vceiling,Vfloor,\n",
    "busIdx,N,Nr,Ng,k) = unpack_psDL(psData)"
   ]
  },
  {
   "cell_type": "code",
   "execution_count": 5,
   "metadata": {
    "collapsed": false
   },
   "outputs": [
    {
     "name": "stdout",
     "output_type": "stream",
     "text": [
      "Base                          Module\n",
      "Blosc                         Module\n",
      "Compat                        Module\n",
      "Core                          Module\n",
      "DataStructures                Module\n",
      "Dp                            73-element Array{Float64,1}\n",
      "Dq                            73-element Array{Float64,1}\n",
      "Gp                            73-element Array{Float64,1}\n",
      "Gq                            73-element Array{Float64,1}\n",
      "HDF5                          Module\n",
      "IJulia                        Module\n",
      "IPythonDisplay                Module\n",
      "JLD                           Module\n",
      "JSON                          Module\n",
      "MAT                           Module\n",
      "MAT_HDF5                      Module\n",
      "MAT_v5                        Module\n",
      "Main                          Module\n",
      "N                             Int64\n",
      "Nettle                        Module\n",
      "Ng                            Int64\n",
      "Nr                            Int64\n",
      "Plim                          120-element Array{Float64,1}\n",
      "Pmax                          99-element Array{Float64,1}\n",
      "Pmin                          99-element Array{Float64,1}\n",
      "Qmax                          99-element Array{Float64,1}\n",
      "Qmin                          99-element Array{Float64,1}\n",
      "Rp                            73-element Array{Float64,1}\n",
      "Rq                            73-element Array{Float64,1}\n",
      "Sb                            Float64\n",
      "Vceiling                      73-element Array{Float64,1}\n",
      "Vfloor                        73-element Array{Float64,1}\n",
      "Vg                            99-element Array{Float64,1}\n",
      "Y                             73x73 SparseMatrixCSC{Float64,Int64}\n",
      "ZMQ                           Module\n",
      "Zlib                          Module\n",
      "b                             120-element Array{Float64,1}\n",
      "busIdx                        73-element Array{Float64,1}\n",
      "bustype                       73-element Array{Float64,1}\n",
      "createY                       Function\n",
      "f                             120-element Array{Int64,1}\n",
      "k                             73-element Array{Float64,1}\n",
      "powerSystemData               DataType\n",
      "psData                        powerSystemData\n",
      "psDataLoad                    Function\n",
      "r                             120-element Array{Float64,1}\n",
      "readRTS96Data                 Function\n",
      "t                             120-element Array{Int64,1}\n",
      "unpack_psDL                   Function\n",
      "x                             120-element Array{Float64,1}\n"
     ]
    }
   ],
   "source": [
    "whos()"
   ]
  }
 ],
 "metadata": {
  "kernelspec": {
   "display_name": "Julia",
   "language": "julia",
   "name": "julia"
  },
  "language_info": {
   "name": "julia",
   "version": "0.3.6"
  }
 },
 "nbformat": 4,
 "nbformat_minor": 0
}
