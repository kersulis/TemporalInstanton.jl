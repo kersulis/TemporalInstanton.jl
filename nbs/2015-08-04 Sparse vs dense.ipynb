{
 "cells": [
  {
   "cell_type": "code",
   "execution_count": 1,
   "metadata": {
    "collapsed": true
   },
   "outputs": [],
   "source": [
    "# First run: compile stuff\n",
    "addprocs(2) # vary number of concurrent processes here\n",
    "@everywhere include(\"../src/TemporalInstanton.jl\")\n",
    "@everywhere using TemporalInstanton\n",
    "\n",
    "Ridx,Y,\n",
    "Gp,Dp,Rp,\n",
    "Sb,ref,lines,\n",
    "res,reac,k,\n",
    "line_lengths,line_conductors = load_rts96_data();\n"
   ]
  },
  {
   "cell_type": "code",
   "execution_count": 3,
   "metadata": {
    "collapsed": false
   },
   "outputs": [
    {
     "data": {
      "text/plain": [
       "558x558 sparse matrix with 6 Float64 entries:\n",
       "\t[553, 553]  =  1.0\n",
       "\t[554, 554]  =  1.0\n",
       "\t[555, 555]  =  1.0\n",
       "\t[556, 556]  =  1.0\n",
       "\t[557, 557]  =  1.0\n",
       "\t[558, 558]  =  1.0"
      ]
     },
     "execution_count": 3,
     "metadata": {},
     "output_type": "execute_result"
    }
   ],
   "source": [
    "n = 73\n",
    "nr = 18\n",
    "T = 6\n",
    "Qθ = tmp_inst_Qtheta(n,nr,T)"
   ]
  },
  {
   "cell_type": "code",
   "execution_count": 4,
   "metadata": {
    "collapsed": false
   },
   "outputs": [
    {
     "data": {
      "text/plain": [
       "40"
      ]
     },
     "execution_count": 4,
     "metadata": {},
     "output_type": "execute_result"
    }
   ],
   "source": [
    "sizeof(Qθ)"
   ]
  },
  {
   "cell_type": "code",
   "execution_count": 5,
   "metadata": {
    "collapsed": false
   },
   "outputs": [
    {
     "data": {
      "text/plain": [
       "2490912"
      ]
     },
     "execution_count": 5,
     "metadata": {},
     "output_type": "execute_result"
    }
   ],
   "source": [
    "sizeof(full(Qθ))"
   ]
  },
  {
   "cell_type": "code",
   "execution_count": 1,
   "metadata": {
    "collapsed": false
   },
   "outputs": [
    {
     "name": "stdout",
     "output_type": "stream",
     "text": [
      "search:\n",
      "\n",
      "Couldn't find printover\n",
      "Perhaps you meant pointer or println\n"
     ]
    }
   ],
   "source": [
    "?printover"
   ]
  }
 ],
 "metadata": {
  "kernelspec": {
   "display_name": "Julia 0.4.0-dev",
   "language": "julia",
   "name": "julia-0.4"
  },
  "language_info": {
   "name": "julia",
   "version": "0.4.0"
  }
 },
 "nbformat": 4,
 "nbformat_minor": 0
}
