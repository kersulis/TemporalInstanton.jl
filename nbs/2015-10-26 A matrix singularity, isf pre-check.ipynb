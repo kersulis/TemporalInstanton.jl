{
 "cells": [
  {
   "cell_type": "markdown",
   "metadata": {},
   "source": [
    "## Overview\n",
    "\n",
    "For some networks, certain lines can cause the $A$ matrix to be rank-deficient. Ian notes that this problem either has a physical interpretation, or is a manifestation of a bad model.\n",
    "\n",
    "I believe all rank deficiencies may be interpreted using injection shift factors. The ISF matrix may be used to filter lines before performing temporal instanton analysis.\n",
    "\n",
    "The upshot is that I can be confident that there is good separation between \"zero\" and nonzero singular values. I should therefore be able to replace QR decomposition with the faster LU. Thus, in addition to reducing the number of lines that must be analyzed, an ISF pre-check should make it possible to speed up the analysis of remaining lines."
   ]
  },
  {
   "cell_type": "markdown",
   "metadata": {},
   "source": [
    "## The problem\n",
    "\n",
    "I first noticed the problem when running through various Matpower networks. The first step in temporal instanton analysis is to translate the problem by a vector $x^*$, where $A_1x_1^* + A_2x_2^* = 0$. To find $x^*$, I needed to compute the pseudo-inverse of $Z = [A_1~~A_2]^\\top$. The line in question is\n",
    "\n",
    "```julia\n",
    "x_star[[idx1;idx2]] = (Z/(Z'*Z))*b\n",
    "```\n",
    "When analyzing the `case9` network, I noticed that $Z^\\top Z$ did not have an inverse for some lines. The error came back:\n",
    "\n",
    "```\n",
    "ERROR: ArgumentError: matrix has one or more zero pivots\n",
    " in ldltfact at sparse/cholmod.jl:1201\n",
    " in ldltfact at sparse/cholmod.jl:1208\n",
    " in factorize at sparse/linalg.jl:651\n",
    " in \\ at linalg/generic.jl:314\n",
    " in / at linalg/generic.jl:322\n",
    " ```\n",
    " \n",
    " For $Z^\\top Z$ to be invertible (i.e. have no zero pivots), it must have full rank $(n+2)T$. **What are the conditions that cause $Z^\\top Z$ to be rank-deficient?**"
   ]
  },
  {
   "cell_type": "markdown",
   "metadata": {},
   "source": [
    "## Physical intuition\n",
    "The `case9` network has a central ring (4 -> 5 -> 6 -> 7 -> 8 -> 9 -> 4) and three dangling nodes (1,2,3). Each dangling node has a generator, but in the Matpower data one of the generators (at node 1) is dispatched to zero. I converted the generator at node 3 into a wind farm, so **the only conventional generation node was node 2**. This effectively renders node 2 the slack bus. The only generation sources are at node 2 and any nodes where I place wind generation. If I introduce just one wind farm and place it at node 2, it doesn't matter what line we consider; there is no way for renewable generation changes to influence line flows.\n",
    "\n",
    "This motivates a more thorough study.\n",
    "\n",
    "<img src=\"../images/case9graph.svg\">\n",
    "*Simple sketch of `case9` network (ignore edge directions)*"
   ]
  },
  {
   "cell_type": "markdown",
   "metadata": {},
   "source": [
    "## Systematic approach\n",
    "Suppose a network has $N$ nodes and $L$ lines. Let $D_{nz}$ be a $L\\times N$ matrix. Now consider each pairing of a line $l$ with a node $n$. Place a single wind farm at $n$ and form the $Z$ matrix. If $Z^\\top Z$ is singular, let $D_{nz}[l,n] = 0$. Otherwise, let $D_{nz}[l,n] = 1$.\n",
    "\n",
    "Now let's see if we can replicate $D_{nz}$ using injection shift factors. The ISF matrix has the same dimensions as $D_{nz}$. It contains positive and negative elements, and some elements may be fairly small. Take the absolute value of the ISF matrix. Now replace every element greater than some epsilon by 1, and replace every other element with zero. Call this modified ISF matrix $I_{nz}$. Like $D_{nz}$, it is a $L\\times N$ matrix of zeros and ones.\n",
    "\n",
    "I computed $D_{nz}$ and $I_{nz}$ for `case9` and `case118`. They were identical in both cases. For `case9` it is easy to add and move generators and change their participation factors, so I made a variety of changes. No matter how I moved generators around, $I_{nz}$ exactly matched $D_{nz}$. This suggests that I can use the ISF matrix to predict whether $Z$ will be rank-deficient."
   ]
  },
  {
   "cell_type": "markdown",
   "metadata": {},
   "source": [
    "## Injection shift factors\n",
    "An injection shift factor for node $i$ and line $j$ is defined as the change in flow on $j$ induced by an injection of 1 pu at node $i$. In the absence of droop response, we have:\n",
    "\n",
    "\\begin{align*}\n",
    "P_{ij} &= B_{ij}(\\theta_i-\\theta_j) \\\\\n",
    "\\theta &= B^{-1} P\n",
    "\\end{align*}\n",
    "\n",
    "\\begin{align*}\n",
    "ISF &= B_{flow}B^{-1} \\\\\n",
    "B_{flow}[l,:] &= \\begin{bmatrix}\n",
    "0 & 0 & B_{ij} & 0 & -B_{ij} \\end{bmatrix}\n",
    "\\end{align*}\n",
    "\n",
    "$B_{flow}$ has one row for each line $l$ in the network. It has $B_{ij}$ in the $i$th column and $-B_{ij}$ in the $j$th column.\n",
    "\n",
    "When we do have droop response, the column of $B$ corresponding to the angle reference node is replaced by the vector of participation factors. The column of $B_{flow}$ corresponding to the reference node is replaced by a column of zeros. I wrote a function called `isf()` to return the ISF matrix for a choice of network, reference node, and participation vector."
   ]
  },
  {
   "cell_type": "markdown",
   "metadata": {},
   "source": [
    "## Numerical study\n",
    "The following cell uses functions I wrote (which may be found at the end of the notebook) to compute and compare $D_{nz}$ and $I_{nz}$ for any Matpower network."
   ]
  },
  {
   "cell_type": "code",
   "execution_count": null,
   "metadata": {
    "collapsed": true
   },
   "outputs": [],
   "source": [
    "cname = \"case118\"\n",
    "Dnz = find_rank_deficiencies(cname)\n",
    "println(\"No. of rank-deficient cases: $(length(find(Dnz.==0)))\")"
   ]
  },
  {
   "cell_type": "code",
   "execution_count": 5,
   "metadata": {
    "collapsed": false
   },
   "outputs": [
    {
     "name": "stdout",
     "output_type": "stream",
     "text": [
      "Dnz == Inz: true\n"
     ]
    }
   ],
   "source": [
    "i = mat2tmpinst(cname)\n",
    "ISF = isf(i.Y,i.lines,i.ref,i.k)\n",
    "small = 1e-8\n",
    "Inz = convert(Array{Int,2},abs(ISF) .> small)\n",
    "\n",
    "# Boolean comparison\n",
    "println(\"Dnz == Inz: $(Dnz == Inz)\")"
   ]
  },
  {
   "cell_type": "code",
   "execution_count": 17,
   "metadata": {
    "collapsed": false
   },
   "outputs": [
    {
     "data": {
      "text/plain": [
       "4-element Array{Int64,1}:\n",
       " 113\n",
       " 177\n",
       " 183\n",
       " 184"
      ]
     },
     "execution_count": 17,
     "metadata": {},
     "output_type": "execute_result"
    }
   ],
   "source": [
    "ISFt = ISF[:,i.Ridx]\n",
    "\n",
    "sing_line_idx = find(1 - [maxabs(ISFt[i,:])>1e-8 for i in 1:size(ISFt,1)])"
   ]
  },
  {
   "cell_type": "code",
   "execution_count": 12,
   "metadata": {
    "collapsed": false
   },
   "outputs": [
    {
     "data": {
      "text/plain": [
       "186-element Array{Tuple{Int64,Int64},1}:\n",
       " (1,2)    \n",
       " (1,3)    \n",
       " (4,5)    \n",
       " (3,5)    \n",
       " (5,6)    \n",
       " (6,7)    \n",
       " (8,9)    \n",
       " (8,5)    \n",
       " (9,10)   \n",
       " (4,11)   \n",
       " (5,11)   \n",
       " (11,12)  \n",
       " (2,12)   \n",
       " ⋮        \n",
       " (109,110)\n",
       " (110,111)\n",
       " (110,112)\n",
       " (17,113) \n",
       " (32,113) \n",
       " (32,114) \n",
       " (27,115) \n",
       " (114,115)\n",
       " (68,116) \n",
       " (12,117) \n",
       " (75,118) \n",
       " (76,118) "
      ]
     },
     "execution_count": 12,
     "metadata": {},
     "output_type": "execute_result"
    }
   ],
   "source": [
    "i.lines"
   ]
  },
  {
   "cell_type": "markdown",
   "metadata": {},
   "source": [
    "## Conclusion\n",
    "Every rank deficiency for `case9` is explained by injection shift factors. This motivates a pre-check: before performing temporal instanton analysis, I will build the ISF matrix and look at columns corresponding to renewable nodes. A row of zeros in this matrix indicates that the corresponding line is completely insensitive to changes in renewable generation. Such a line should be neglected in temporal instanton analysis; there is no change in wind that could cause it to reach its temperature limit. Having filtered out these lines, I can perform temporal instanton analysis on the remaining ones."
   ]
  },
  {
   "cell_type": "markdown",
   "metadata": {},
   "source": [
    "## Appendix: code\n",
    "The following cell contains two functions. The first builds $D_{nz}$. The second returns the ISF matrix (from which $I_{nz}$ is derived)."
   ]
  },
  {
   "cell_type": "code",
   "execution_count": 1,
   "metadata": {
    "collapsed": false
   },
   "outputs": [
    {
     "data": {
      "text/plain": [
       "isf (generic function with 2 methods)"
      ]
     },
     "execution_count": 1,
     "metadata": {},
     "output_type": "execute_result"
    }
   ],
   "source": [
    "include(\"../src/TemporalInstanton.jl\")\n",
    "using TemporalInstanton\n",
    "import TemporalInstanton.partition_A\n",
    "import TemporalInstanton.createY\n",
    "\n",
    "\"\"\"\n",
    "For a matrix with N nodes and L lines, return a L-by-N\n",
    "matrix Dnz. Dnz[l,n] = 0 when Z(l,n) is rank-deficient\n",
    "(i.e. there are zero pivots while factorizing Z'*Z).\n",
    "All other elements of Dnz are equal to 1.\n",
    "\"\"\"\n",
    "function find_rank_deficiencies(cname)\n",
    "    i = mat2tmpinst(cname)\n",
    "\n",
    "    conductor_params = return_conductor_params(\"waxwing\")\n",
    "    # Thermal model parameters:\n",
    "    i.Tamb = 35. # C\n",
    "    i.T0 = 60. #46. # initial line steady-state temp\n",
    "\n",
    "    i.time_values = 0:30:300 # five minutes in 30-sec steps\n",
    "    i.int_length = 300. # seconds = 5 min\n",
    "\n",
    "    Gp,Dp,Rp = (i.G0, i.D0, i.R0)\n",
    "\n",
    "    # one time step to keep things simple\n",
    "    i.G0 = collect(Gp)\n",
    "    i.D0 = collect(Dp)\n",
    "    i.R0 = collect(Rp)\n",
    "\n",
    "    n = length(i.k)\n",
    "    nr = length(i.Ridx)\n",
    "    T = convert(Int64,length(i.G0)/n)\n",
    "    Qobj = tmp_inst_Qobj(n,nr,T,i.corr)\n",
    "\n",
    "    # figure out where rank deficiencies are occurring\n",
    "    defic = zeros(length(i.lines),size(i.Y,1))\n",
    "    for idx in 1:length(i.lines)\n",
    "        for nodeLoc in 1:size(i.Y,1)\n",
    "            # modify the wind node location\n",
    "            i.Ridx = collect(nodeLoc)\n",
    "\n",
    "            line = i.lines[idx]\n",
    "            line_params = LineParams(line[1],line[2],i.res[idx],i.reac[idx],i.line_lengths[idx])\n",
    "            therm_a, therm_c, therm_d, therm_f = return_thermal_constants(line_params,\n",
    "            conductor_params, i.Tamb, i.Sb, i.int_length, T, i.T0)\n",
    "\n",
    "            A1 = tmp_inst_A1(i.Ridx,T,i.Y,i.ref,i.k)\n",
    "            A2 = tmp_inst_A2(n,i.Ridx,T,line,therm_a,i.int_length)\n",
    "            # Stack A1 and A2:\n",
    "            A = [A1; A2]::SparseMatrixCSC{Float64,Int64}\n",
    "\n",
    "            # so the problem crops up when we partition A\n",
    "            A_1,A_2,idx1,idx2,idx3 = partition_A(A, Qobj, T)\n",
    "\n",
    "            Z = [A_1 A_2]'\n",
    "\n",
    "            if rank(full(Z)) == (n+2)*T\n",
    "                defic[idx,nodeLoc] = 1\n",
    "            end\n",
    "        end\n",
    "    end\n",
    "    return convert(Array{Int64,2},defic)\n",
    "end\n",
    "\n",
    "\"\"\"\n",
    "Calculate injection shift factor matrix.\n",
    "Each row corresponds to a line in the network.\n",
    "Each column corresponds to a node.\n",
    "Credit to Jonathon Martin for derivation.\n",
    "\n",
    "Inputs:\n",
    "* `Y`: full admittance matrix\n",
    "* `lines`: vector of tuples; each tuple encodes a line as (i,j)\n",
    "* `ref`: index of angle reference bus\n",
    "* `k`: vector of generator participation factors\n",
    "\"\"\"\n",
    "function isf(\n",
    "    Y::AbstractArray,\n",
    "    lines::Vector{Tuple{Int64,Int64}},\n",
    "    ref::Int64,\n",
    "    k=[NaN]::Vector{Float64}\n",
    "    )\n",
    "    \n",
    "    Y = full(Y)\n",
    "    n,l = (size(Y,1),length(lines))\n",
    "    \n",
    "    nonref = setdiff(1:n,ref)\n",
    "    \n",
    "    # build B\n",
    "    if length(k) != 1\n",
    "        Y[:,ref] = k\n",
    "        B = Y\n",
    "    else\n",
    "        B = Y[nonref,nonref]\n",
    "    end\n",
    "    \n",
    "    # build Bflow\n",
    "    Bflow = zeros(l,n)\n",
    "    for idx in 1:l\n",
    "        i,j = lines[idx]\n",
    "        Bflow[idx,i] =  Y[i,j]\n",
    "        Bflow[idx,j] = -Y[i,j]\n",
    "    end\n",
    "    \n",
    "    # remove ref col from Bflow\n",
    "    if length(k) != 1\n",
    "        Bflow[:,ref] = zeros(l)\n",
    "    else\n",
    "        Bflow = Bflow[:,nonref]\n",
    "    end\n",
    "    \n",
    "    return Bflow/B\n",
    "end"
   ]
  },
  {
   "cell_type": "code",
   "execution_count": 586,
   "metadata": {
    "collapsed": true
   },
   "outputs": [
    {
     "data": {
      "text/plain": [
       "187x119 Array{Any,2}:\n",
       " \"\"       \"n1\"   \"n2\"   \"n3\"   \"n4\"  …   \"n115\"   \"n116\"   \"n117\"   \"n118\"\n",
       " \"l1\"    1      1      1      1         1        1        1        1      \n",
       " \"l2\"    1      1      1      1         1        1        1        1      \n",
       " \"l3\"    1      1      1      1         1        1        1        1      \n",
       " \"l4\"    1      1      1      1         1        1        1        1      \n",
       " \"l5\"    1      1      1      1      …  1        1        1        1      \n",
       " \"l6\"    1      1      1      1         1        1        1        1      \n",
       " \"l7\"    1      1      1      1         1        1        1        1      \n",
       " \"l8\"    1      1      1      1         1        1        1        1      \n",
       " \"l9\"    1      1      1      1         1        1        1        1      \n",
       " \"l10\"   1      1      1      1      …  1        1        1        1      \n",
       " \"l11\"   1      1      1      1         1        1        1        1      \n",
       " \"l12\"   1      1      1      1         1        1        1        1      \n",
       " ⋮                                   ⋱  ⋮                                 \n",
       " \"l175\"  0      0      0      0      …  0        0        0        0      \n",
       " \"l176\"  0      0      0      0         0        0        0        0      \n",
       " \"l177\"  0      0      0      0         0        0        0        0      \n",
       " \"l178\"  1      1      1      1         1        1        1        1      \n",
       " \"l179\"  1      1      1      1         1        1        1        1      \n",
       " \"l180\"  1      1      1      1      …  1        1        1        1      \n",
       " \"l181\"  1      1      1      1         1        1        1        1      \n",
       " \"l182\"  1      1      1      1         1        1        1        1      \n",
       " \"l183\"  0      0      0      0         0        1        0        0      \n",
       " \"l184\"  0      0      0      0         0        0        1        0      \n",
       " \"l185\"  1      1      1      1      …  1        1        1        1      \n",
       " \"l186\"  1      1      1      1         1        1        1        1      "
      ]
     },
     "metadata": {},
     "output_type": "display_data"
    },
    {
     "data": {
      "text/plain": [
       "187x119 Array{Any,2}:\n",
       " \"\"       \"n1\"   \"n2\"   \"n3\"   \"n4\"  …   \"n115\"   \"n116\"   \"n117\"   \"n118\"\n",
       " \"l1\"    1      1      1      1         1        1        1        1      \n",
       " \"l2\"    1      1      1      1         1        1        1        1      \n",
       " \"l3\"    1      1      1      1         1        1        1        1      \n",
       " \"l4\"    1      1      1      1         1        1        1        1      \n",
       " \"l5\"    1      1      1      1      …  1        1        1        1      \n",
       " \"l6\"    1      1      1      1         1        1        1        1      \n",
       " \"l7\"    1      1      1      1         1        1        1        1      \n",
       " \"l8\"    1      1      1      1         1        1        1        1      \n",
       " \"l9\"    1      1      1      1         1        1        1        1      \n",
       " \"l10\"   1      1      1      1      …  1        1        1        1      \n",
       " \"l11\"   1      1      1      1         1        1        1        1      \n",
       " \"l12\"   1      1      1      1         1        1        1        1      \n",
       " ⋮                                   ⋱  ⋮                                 \n",
       " \"l175\"  0      0      0      0      …  0        0        0        0      \n",
       " \"l176\"  0      0      0      0         0        0        0        0      \n",
       " \"l177\"  0      0      0      0         0        0        0        0      \n",
       " \"l178\"  1      1      1      1         1        1        1        1      \n",
       " \"l179\"  1      1      1      1         1        1        1        1      \n",
       " \"l180\"  1      1      1      1      …  1        1        1        1      \n",
       " \"l181\"  1      1      1      1         1        1        1        1      \n",
       " \"l182\"  1      1      1      1         1        1        1        1      \n",
       " \"l183\"  0      0      0      0         0        1        0        0      \n",
       " \"l184\"  0      0      0      0         0        0        1        0      \n",
       " \"l185\"  1      1      1      1      …  1        1        1        1      \n",
       " \"l186\"  1      1      1      1         1        1        1        1      "
      ]
     },
     "execution_count": 586,
     "metadata": {},
     "output_type": "execute_result"
    }
   ],
   "source": [
    "# display comparison\n",
    "line_names = [\"l$i\" for i in 1:length(i.lines)]\n",
    "\n",
    "node_names = [\"n$i\" for i in 1:size(i.Y,1)]\n",
    "\n",
    "display_Dnz = [[\"\";node_names]'; [line_names Dnz]]\n",
    "\n",
    "display(display_Dnz)\n",
    "\n",
    "display_Inz = [\"n$name\" for name in 1:size(i.Y,1)]\n",
    "[[\"\";node_names]'; [line_names Inz]]"
   ]
  },
  {
   "cell_type": "code",
   "execution_count": 4,
   "metadata": {
    "collapsed": false
   },
   "outputs": [
    {
     "name": "stderr",
     "output_type": "stream",
     "text": [
      "WARNING: Base.String is deprecated, use AbstractString instead.\n",
      "  likely near In[4]:13\n",
      "WARNING: Base.String is deprecated, use AbstractString instead.\n",
      "  likely near In[4]:13\n",
      "WARNING: Base.String is deprecated, use AbstractString instead.\n",
      "  likely near In[4]:13\n"
     ]
    }
   ],
   "source": [
    "# plot the network graph\n",
    "using TikzGraphs\n",
    "using TikzPictures\n",
    "using Graphs\n",
    "\n",
    "i = mat2tmpinst(\"case9\")\n",
    "n = size(i.Y,1)\n",
    "g = simple_graph(n)\n",
    "for line in i.lines\n",
    "    add_edge!(g,line...)\n",
    "end\n",
    "p = TikzGraphs.plot(g)\n",
    "# save(PDF(\"../images/case9graph\"), p)"
   ]
  }
 ],
 "metadata": {
  "kernelspec": {
   "display_name": "Julia 0.4.0",
   "language": "julia",
   "name": "julia-0.4"
  },
  "language_info": {
   "file_extension": ".jl",
   "mimetype": "application/julia",
   "name": "julia",
   "version": "0.4.0"
  }
 },
 "nbformat": 4,
 "nbformat_minor": 0
}
