{
 "cells": [
  {
   "cell_type": "markdown",
   "metadata": {},
   "source": [
    "## Overview\n",
    "\n",
    "For some networks, certain lines can cause the $A$ matrix to be rank-deficient. Ian notes that this problem either has a physical interpretation, or is a manifestation of a bad model.\n",
    "\n",
    "I believe all rank deficiencies may be interpreted using injection shift factors. The ISF matrix may be used to filter lines before performing temporal instanton analysis.\n",
    "\n",
    "The upshot is that I can be confident that there is good separation between \"zero\" and nonzero singular values. I should therefore be able to replace QR decomposition with the faster LU. Thus, in addition to reducing the number of lines that must be analyzed, an ISF pre-check should make it possible to speed up the analysis of remaining lines."
   ]
  },
  {
   "cell_type": "markdown",
   "metadata": {},
   "source": [
    "## The problem\n",
    "\n",
    "I first noticed the problem when running through various Matpower networks. The first step in temporal instanton analysis is to translate the problem by a vector $x^*$, where $A_1x_1^* + A_2x_2^* = 0$. To find $x^*$, I needed to compute the pseudo-inverse of $Z = [A_1~~A_2]^\\top$. The line in question is\n",
    "\n",
    "```julia\n",
    "x_star[[idx1;idx2]] = (Z/(Z'*Z))*b\n",
    "```\n",
    "When analyzing the `case9` network, I noticed that $Z^\\top Z$ did not have an inverse for some lines. The error came back:\n",
    "\n",
    "```\n",
    "ERROR: ArgumentError: matrix has one or more zero pivots\n",
    " in ldltfact at sparse/cholmod.jl:1201\n",
    " in ldltfact at sparse/cholmod.jl:1208\n",
    " in factorize at sparse/linalg.jl:651\n",
    " in \\ at linalg/generic.jl:314\n",
    " in / at linalg/generic.jl:322\n",
    " ```\n",
    " \n",
    " For $Z^\\top Z$ to be invertible (i.e. have no zero pivots), it must have full rank $(n+2)T$. **What are the conditions that cause $Z^\\top Z$ to be rank-deficient?**"
   ]
  },
  {
   "cell_type": "markdown",
   "metadata": {},
   "source": [
    "## Physical intuition\n",
    "The `case9` network has a central ring (4 -> 5 -> 6 -> 7 -> 8 -> 9 -> 4) and three dangling nodes (1,2,3). Each dangling node has a generator, but in the Matpower data one of the generators (at node 1) is dispatched to zero. I converted the generator at node 3 into a wind farm, so **the only conventional generation node was node 2**. This effectively renders node 2 the slack bus. The only generation sources are at node 2 and any nodes where I place wind generation. If I introduce just one wind farm and place it at node 2, it doesn't matter what line we consider; there is no way for renewable generation changes to influence line flows.\n",
    "\n",
    "This motivates a more thorough study.\n",
    "\n",
    "<img src=\"../images/case9graph.svg\">\n",
    "*Simple sketch of `case9` network (ignore edge directions)*"
   ]
  },
  {
   "cell_type": "markdown",
   "metadata": {},
   "source": [
    "## Systematic approach\n",
    "Suppose a network has $N$ nodes and $L$ lines. Let $D_{nz}$ be a $L\\times N$ matrix. Now consider each pairing of a line $l$ with a node $n$. Place a single wind farm at $n$ and form the $Z$ matrix. If $Z^\\top Z$ is singular, let $D_{nz}[l,n] = 0$. Otherwise, let $D_{nz}[l,n] = 1$.\n",
    "\n",
    "Now let's see if we can replicate $D_{nz}$ using injection shift factors. The ISF matrix has the same dimensions as $D_{nz}$. It contains positive and negative elements, and some elements may be fairly small. Take the absolute value of the ISF matrix. Now replace every element greater than some epsilon by 1, and replace every other element with zero. Call this modified ISF matrix $I_{nz}$. Like $D_{nz}$, it is a $L\\times N$ matrix of zeros and ones.\n",
    "\n",
    "I computed $D_{nz}$ and $I_{nz}$ for `case9` and `case118`. They were identical in both cases. For `case9` it is easy to add and move generators and change their participation factors, so I made a variety of changes. No matter how I moved generators around, $I_{nz}$ exactly matched $D_{nz}$. This suggests that I can use the ISF matrix to predict whether $Z$ will be rank-deficient."
   ]
  },
  {
   "cell_type": "markdown",
   "metadata": {},
   "source": [
    "## Injection shift factors\n",
    "An injection shift factor for node $i$ and line $j$ is defined as the change in flow on $j$ induced by an injection of 1 pu at node $i$. In the absence of droop response, we have:\n",
    "\n",
    "\\begin{align*}\n",
    "P_{ij} &= B_{ij}(\\theta_i-\\theta_j) \\\\\n",
    "\\theta &= B^{-1} P\n",
    "\\end{align*}\n",
    "\n",
    "\\begin{align*}\n",
    "ISF &= B_{flow}B^{-1} \\\\\n",
    "B_{flow}[l,:] &= \\begin{bmatrix}\n",
    "0 & 0 & B_{ij} & 0 & -B_{ij} \\end{bmatrix}\n",
    "\\end{align*}\n",
    "\n",
    "$B_{flow}$ has one row for each line $l$ in the network. It has $B_{ij}$ in the $i$th column and $-B_{ij}$ in the $j$th column.\n",
    "\n",
    "When we do have droop response, the column of $B$ corresponding to the angle reference node is replaced by the vector of participation factors. The column of $B_{flow}$ corresponding to the reference node is replaced by a column of zeros. I wrote a function called `isf()` to return the ISF matrix for a choice of network, reference node, and participation vector."
   ]
  },
  {
   "cell_type": "markdown",
   "metadata": {},
   "source": [
    "## Numerical study\n",
    "The following cell uses functions I wrote (which may be found at the end of the notebook) to compute and compare $D_{nz}$ and $I_{nz}$ for any Matpower network."
   ]
  },
  {
   "cell_type": "code",
   "execution_count": 2,
   "metadata": {
    "collapsed": false
   },
   "outputs": [
    {
     "name": "stdout",
     "output_type": "stream",
     "text": [
      "No. of rank-deficient cases: 29\n"
     ]
    }
   ],
   "source": [
    "cname = \"case9\"\n",
    "Dnz = find_rank_deficiencies(cname)\n",
    "println(\"No. of rank-deficient cases: $(length(find(Dnz.==0)))\")"
   ]
  },
  {
   "cell_type": "code",
   "execution_count": 3,
   "metadata": {
    "collapsed": false
   },
   "outputs": [
    {
     "name": "stdout",
     "output_type": "stream",
     "text": [
      "Dnz == Inz: true\n"
     ]
    }
   ],
   "source": [
    "i = mat2tmpinst(cname)\n",
    "ISF = isf(i.Y,i.lines,i.ref,i.k)\n",
    "small = 1e-8\n",
    "Inz = convert(Array{Int,2},abs(ISF) .> small)\n",
    "\n",
    "# Boolean comparison\n",
    "println(\"Dnz == Inz: $(Dnz == Inz)\")"
   ]
  },
  {
   "cell_type": "code",
   "execution_count": 17,
   "metadata": {
    "collapsed": false
   },
   "outputs": [
    {
     "data": {
      "text/plain": [
       "4-element Array{Int64,1}:\n",
       " 113\n",
       " 177\n",
       " 183\n",
       " 184"
      ]
     },
     "execution_count": 17,
     "metadata": {},
     "output_type": "execute_result"
    }
   ],
   "source": [
    "ISFt = ISF[:,i.Ridx]\n",
    "\n",
    "sing_line_idx = find(1 - [maxabs(ISFt[i,:])>1e-8 for i in 1:size(ISFt,1)])"
   ]
  },
  {
   "cell_type": "code",
   "execution_count": 12,
   "metadata": {
    "collapsed": false
   },
   "outputs": [
    {
     "data": {
      "text/plain": [
       "186-element Array{Tuple{Int64,Int64},1}:\n",
       " (1,2)    \n",
       " (1,3)    \n",
       " (4,5)    \n",
       " (3,5)    \n",
       " (5,6)    \n",
       " (6,7)    \n",
       " (8,9)    \n",
       " (8,5)    \n",
       " (9,10)   \n",
       " (4,11)   \n",
       " (5,11)   \n",
       " (11,12)  \n",
       " (2,12)   \n",
       " ⋮        \n",
       " (109,110)\n",
       " (110,111)\n",
       " (110,112)\n",
       " (17,113) \n",
       " (32,113) \n",
       " (32,114) \n",
       " (27,115) \n",
       " (114,115)\n",
       " (68,116) \n",
       " (12,117) \n",
       " (75,118) \n",
       " (76,118) "
      ]
     },
     "execution_count": 12,
     "metadata": {},
     "output_type": "execute_result"
    }
   ],
   "source": [
    "i.lines"
   ]
  },
  {
   "cell_type": "markdown",
   "metadata": {},
   "source": [
    "## Conclusion\n",
    "Every rank deficiency for `case9` is explained by injection shift factors. This motivates a pre-check: before performing temporal instanton analysis, I will build the ISF matrix and look at columns corresponding to renewable nodes. A row of zeros in this matrix indicates that the corresponding line is completely insensitive to changes in renewable generation. Such a line should be neglected in temporal instanton analysis; there is no change in wind that could cause it to reach its temperature limit. Having filtered out these lines, I can perform temporal instanton analysis on the remaining ones."
   ]
  },
  {
   "cell_type": "markdown",
   "metadata": {},
   "source": [
    "## Appendix: code\n",
    "The following cell contains two functions. The first builds $D_{nz}$. The second returns the ISF matrix (from which $I_{nz}$ is derived)."
   ]
  },
  {
   "cell_type": "code",
   "execution_count": 1,
   "metadata": {
    "collapsed": false
   },
   "outputs": [
    {
     "data": {
      "text/plain": [
       "isf (generic function with 2 methods)"
      ]
     },
     "execution_count": 1,
     "metadata": {},
     "output_type": "execute_result"
    }
   ],
   "source": [
    "include(\"../src/TemporalInstanton.jl\")\n",
    "using TemporalInstanton\n",
    "import TemporalInstanton.partition_A\n",
    "import TemporalInstanton.createY\n",
    "\n",
    "\"\"\"\n",
    "For a matrix with N nodes and L lines, return a L-by-N\n",
    "matrix Dnz. Dnz[l,n] = 0 when Z(l,n) is rank-deficient\n",
    "(i.e. there are zero pivots while factorizing Z'*Z).\n",
    "All other elements of Dnz are equal to 1.\n",
    "\"\"\"\n",
    "function find_rank_deficiencies(cname)\n",
    "    i = mat2tmpinst(cname)\n",
    "\n",
    "    conductor_params = return_conductor_params(\"waxwing\")\n",
    "    # Thermal model parameters:\n",
    "    i.Tamb = 35. # C\n",
    "    i.T0 = 60. #46. # initial line steady-state temp\n",
    "\n",
    "    i.time_values = 0:30:300 # five minutes in 30-sec steps\n",
    "    i.int_length = 300. # seconds = 5 min\n",
    "\n",
    "    Gp,Dp,Rp = (i.G0, i.D0, i.R0)\n",
    "\n",
    "    # one time step to keep things simple\n",
    "    i.G0 = collect(Gp)\n",
    "    i.D0 = collect(Dp)\n",
    "    i.R0 = collect(Rp)\n",
    "\n",
    "    n = length(i.k)\n",
    "    nr = length(i.Ridx)\n",
    "    T = convert(Int64,length(i.G0)/n)\n",
    "    Qobj = tmp_inst_Qobj(n,nr,T,i.corr)\n",
    "\n",
    "    # figure out where rank deficiencies are occurring\n",
    "    defic = zeros(length(i.lines),size(i.Y,1))\n",
    "    for idx in 1:length(i.lines)\n",
    "        for nodeLoc in 1:size(i.Y,1)\n",
    "            # modify the wind node location\n",
    "            i.Ridx = collect(nodeLoc)\n",
    "\n",
    "            line = i.lines[idx]\n",
    "            line_params = LineParams(line[1],line[2],i.res[idx],i.reac[idx],i.line_lengths[idx])\n",
    "            therm_a, therm_c, therm_d, therm_f = return_thermal_constants(line_params,\n",
    "            conductor_params, i.Tamb, i.Sb, i.int_length, T, i.T0)\n",
    "\n",
    "            A1 = tmp_inst_A1(i.Ridx,T,i.Y,i.ref,i.k)\n",
    "            A2 = tmp_inst_A2(n,i.Ridx,T,line,therm_a,i.int_length)\n",
    "            # Stack A1 and A2:\n",
    "            A = [A1; A2]::SparseMatrixCSC{Float64,Int64}\n",
    "\n",
    "            # so the problem crops up when we partition A\n",
    "            A_1,A_2,idx1,idx2,idx3 = partition_A(A, Qobj, T)\n",
    "\n",
    "            Z = [A_1 A_2]'\n",
    "\n",
    "            if rank(full(Z)) == (n+2)*T\n",
    "                defic[idx,nodeLoc] = 1\n",
    "            end\n",
    "        end\n",
    "    end\n",
    "    return convert(Array{Int64,2},defic)\n",
    "end\n",
    "\n",
    "\"\"\"\n",
    "Calculate injection shift factor matrix.\n",
    "Each row corresponds to a line in the network.\n",
    "Each column corresponds to a node.\n",
    "Credit to Jonathon Martin for derivation.\n",
    "\n",
    "Inputs:\n",
    "* `Y`: full admittance matrix\n",
    "* `lines`: vector of tuples; each tuple encodes a line as (i,j)\n",
    "* `ref`: index of angle reference bus\n",
    "* `k`: vector of generator participation factors\n",
    "\"\"\"\n",
    "function isf(\n",
    "    Y::AbstractArray,\n",
    "    lines::Vector{Tuple{Int64,Int64}},\n",
    "    ref::Int64,\n",
    "    k=[NaN]::Vector{Float64}\n",
    "    )\n",
    "    \n",
    "    Y = full(Y)\n",
    "    n,l = (size(Y,1),length(lines))\n",
    "    \n",
    "    nonref = setdiff(1:n,ref)\n",
    "    \n",
    "    # build B\n",
    "    if length(k) != 1\n",
    "        Y[:,ref] = k\n",
    "        B = Y\n",
    "    else\n",
    "        B = Y[nonref,nonref]\n",
    "    end\n",
    "    \n",
    "    # build Bflow\n",
    "    Bflow = zeros(l,n)\n",
    "    for idx in 1:l\n",
    "        i,j = lines[idx]\n",
    "        Bflow[idx,i] =  Y[i,j]\n",
    "        Bflow[idx,j] = -Y[i,j]\n",
    "    end\n",
    "    \n",
    "    # remove ref col from Bflow\n",
    "    if length(k) != 1\n",
    "        Bflow[:,ref] = zeros(l)\n",
    "    else\n",
    "        Bflow = Bflow[:,nonref]\n",
    "    end\n",
    "    \n",
    "    return Bflow/B\n",
    "end"
   ]
  },
  {
   "cell_type": "code",
   "execution_count": 4,
   "metadata": {
    "collapsed": false
   },
   "outputs": [
    {
     "data": {
      "text/plain": [
       "10x10 Array{Any,2}:\n",
       " \"\"     \"n1\"   \"n2\"   \"n3\"   \"n4\"   \"n5\"   \"n6\"   \"n7\"   \"n8\"   \"n9\"\n",
       " \"l1\"  1      0      0      0      0      0      0      0      0    \n",
       " \"l2\"  1      0      1      1      1      1      1      0      1    \n",
       " \"l3\"  1      0      1      1      1      1      1      0      1    \n",
       " \"l4\"  0      0      1      0      0      0      0      0      0    \n",
       " \"l5\"  1      0      1      1      1      1      1      0      1    \n",
       " \"l6\"  1      0      1      1      1      1      1      0      1    \n",
       " \"l7\"  1      0      1      1      1      1      1      1      1    \n",
       " \"l8\"  1      0      1      1      1      1      1      0      1    \n",
       " \"l9\"  1      0      1      1      1      1      1      0      1    "
      ]
     },
     "metadata": {},
     "output_type": "display_data"
    },
    {
     "data": {
      "text/plain": [
       "10x10 Array{Any,2}:\n",
       " \"\"     \"n1\"   \"n2\"   \"n3\"   \"n4\"   \"n5\"   \"n6\"   \"n7\"   \"n8\"   \"n9\"\n",
       " \"l1\"  1      0      0      0      0      0      0      0      0    \n",
       " \"l2\"  1      0      1      1      1      1      1      0      1    \n",
       " \"l3\"  1      0      1      1      1      1      1      0      1    \n",
       " \"l4\"  0      0      1      0      0      0      0      0      0    \n",
       " \"l5\"  1      0      1      1      1      1      1      0      1    \n",
       " \"l6\"  1      0      1      1      1      1      1      0      1    \n",
       " \"l7\"  1      0      1      1      1      1      1      1      1    \n",
       " \"l8\"  1      0      1      1      1      1      1      0      1    \n",
       " \"l9\"  1      0      1      1      1      1      1      0      1    "
      ]
     },
     "execution_count": 4,
     "metadata": {},
     "output_type": "execute_result"
    }
   ],
   "source": [
    "# display comparison\n",
    "line_names = [\"l$i\" for i in 1:length(i.lines)]\n",
    "\n",
    "node_names = [\"n$i\" for i in 1:size(i.Y,1)]\n",
    "\n",
    "display_Dnz = [[\"\";node_names]'; [line_names Dnz]]\n",
    "\n",
    "display(display_Dnz)\n",
    "\n",
    "display_Inz = [\"n$name\" for name in 1:size(i.Y,1)]\n",
    "[[\"\";node_names]'; [line_names Inz]]"
   ]
  },
  {
   "cell_type": "code",
   "execution_count": 15,
   "metadata": {
    "collapsed": false
   },
   "outputs": [
    {
     "data": {
      "image/svg+xml": [
       "<?xml version=\"1.0\" encoding=\"UTF-8\"?>\n",
       "<svg xmlns=\"http://www.w3.org/2000/svg\" xmlns:xlink=\"http://www.w3.org/1999/xlink\" width=\"68.315pt\" height=\"183.464pt\" viewBox=\"0 0 68.315 183.464\" version=\"1.1\">\n",
       "<defs>\n",
       "<g>\n",
       "<symbol overflow=\"visible\" id=\"glyph-1446064031622016-0-0\">\n",
       "<path style=\"stroke:none;\" d=\"\"/>\n",
       "</symbol>\n",
       "<symbol overflow=\"visible\" id=\"glyph-1446064031622016-0-1\">\n",
       "<path style=\"stroke:none;\" d=\"M 4.171875 0 L 4.171875 -0.3125 L 3.859375 -0.3125 C 2.953125 -0.3125 2.9375 -0.421875 2.9375 -0.78125 L 2.9375 -6.375 C 2.9375 -6.625 2.9375 -6.640625 2.703125 -6.640625 C 2.078125 -6 1.203125 -6 0.890625 -6 L 0.890625 -5.6875 C 1.09375 -5.6875 1.671875 -5.6875 2.1875 -5.953125 L 2.1875 -0.78125 C 2.1875 -0.421875 2.15625 -0.3125 1.265625 -0.3125 L 0.953125 -0.3125 L 0.953125 0 C 1.296875 -0.03125 2.15625 -0.03125 2.5625 -0.03125 C 2.953125 -0.03125 3.828125 -0.03125 4.171875 0 Z M 4.171875 0 \"/>\n",
       "</symbol>\n",
       "<symbol overflow=\"visible\" id=\"glyph-1446064031622016-0-2\">\n",
       "<path style=\"stroke:none;\" d=\"M 4.6875 -1.640625 L 4.6875 -1.953125 L 3.703125 -1.953125 L 3.703125 -6.484375 C 3.703125 -6.6875 3.703125 -6.75 3.53125 -6.75 C 3.453125 -6.75 3.421875 -6.75 3.34375 -6.625 L 0.28125 -1.953125 L 0.28125 -1.640625 L 2.9375 -1.640625 L 2.9375 -0.78125 C 2.9375 -0.421875 2.90625 -0.3125 2.171875 -0.3125 L 1.96875 -0.3125 L 1.96875 0 C 2.375 -0.03125 2.890625 -0.03125 3.3125 -0.03125 C 3.734375 -0.03125 4.25 -0.03125 4.671875 0 L 4.671875 -0.3125 L 4.453125 -0.3125 C 3.71875 -0.3125 3.703125 -0.421875 3.703125 -0.78125 L 3.703125 -1.640625 Z M 2.984375 -1.953125 L 0.5625 -1.953125 L 2.984375 -5.671875 Z M 2.984375 -1.953125 \"/>\n",
       "</symbol>\n",
       "<symbol overflow=\"visible\" id=\"glyph-1446064031622016-0-3\">\n",
       "<path style=\"stroke:none;\" d=\"M 4.46875 -2 C 4.46875 -3.1875 3.65625 -4.1875 2.578125 -4.1875 C 2.109375 -4.1875 1.671875 -4.03125 1.3125 -3.671875 L 1.3125 -5.625 C 1.515625 -5.5625 1.84375 -5.5 2.15625 -5.5 C 3.390625 -5.5 4.09375 -6.40625 4.09375 -6.53125 C 4.09375 -6.59375 4.0625 -6.640625 3.984375 -6.640625 C 3.984375 -6.640625 3.953125 -6.640625 3.90625 -6.609375 C 3.703125 -6.515625 3.21875 -6.3125 2.546875 -6.3125 C 2.15625 -6.3125 1.6875 -6.390625 1.21875 -6.59375 C 1.140625 -6.625 1.109375 -6.625 1.109375 -6.625 C 1 -6.625 1 -6.546875 1 -6.390625 L 1 -3.4375 C 1 -3.265625 1 -3.1875 1.140625 -3.1875 C 1.21875 -3.1875 1.234375 -3.203125 1.28125 -3.265625 C 1.390625 -3.421875 1.75 -3.96875 2.5625 -3.96875 C 3.078125 -3.96875 3.328125 -3.515625 3.40625 -3.328125 C 3.5625 -2.953125 3.59375 -2.578125 3.59375 -2.078125 C 3.59375 -1.71875 3.59375 -1.125 3.34375 -0.703125 C 3.109375 -0.3125 2.734375 -0.0625 2.28125 -0.0625 C 1.5625 -0.0625 0.984375 -0.59375 0.8125 -1.171875 C 0.84375 -1.171875 0.875 -1.15625 0.984375 -1.15625 C 1.3125 -1.15625 1.484375 -1.40625 1.484375 -1.640625 C 1.484375 -1.890625 1.3125 -2.140625 0.984375 -2.140625 C 0.84375 -2.140625 0.5 -2.0625 0.5 -1.609375 C 0.5 -0.75 1.1875 0.21875 2.296875 0.21875 C 3.453125 0.21875 4.46875 -0.734375 4.46875 -2 Z M 4.46875 -2 \"/>\n",
       "</symbol>\n",
       "<symbol overflow=\"visible\" id=\"glyph-1446064031622016-0-4\">\n",
       "<path style=\"stroke:none;\" d=\"M 4.5625 -2.03125 C 4.5625 -3.296875 3.671875 -4.25 2.5625 -4.25 C 1.890625 -4.25 1.515625 -3.75 1.3125 -3.265625 L 1.3125 -3.515625 C 1.3125 -6.03125 2.546875 -6.390625 3.0625 -6.390625 C 3.296875 -6.390625 3.71875 -6.328125 3.9375 -5.984375 C 3.78125 -5.984375 3.390625 -5.984375 3.390625 -5.546875 C 3.390625 -5.234375 3.625 -5.078125 3.84375 -5.078125 C 4 -5.078125 4.3125 -5.171875 4.3125 -5.5625 C 4.3125 -6.15625 3.875 -6.640625 3.046875 -6.640625 C 1.765625 -6.640625 0.421875 -5.359375 0.421875 -3.15625 C 0.421875 -0.484375 1.578125 0.21875 2.5 0.21875 C 3.609375 0.21875 4.5625 -0.71875 4.5625 -2.03125 Z M 3.65625 -2.046875 C 3.65625 -1.5625 3.65625 -1.0625 3.484375 -0.703125 C 3.1875 -0.109375 2.734375 -0.0625 2.5 -0.0625 C 1.875 -0.0625 1.578125 -0.65625 1.515625 -0.8125 C 1.328125 -1.28125 1.328125 -2.078125 1.328125 -2.25 C 1.328125 -3.03125 1.65625 -4.03125 2.546875 -4.03125 C 2.71875 -4.03125 3.171875 -4.03125 3.484375 -3.40625 C 3.65625 -3.046875 3.65625 -2.53125 3.65625 -2.046875 Z M 3.65625 -2.046875 \"/>\n",
       "</symbol>\n",
       "<symbol overflow=\"visible\" id=\"glyph-1446064031622016-0-5\">\n",
       "<path style=\"stroke:none;\" d=\"M 4.5625 -1.703125 C 4.5625 -2.515625 3.921875 -3.296875 2.890625 -3.515625 C 3.703125 -3.78125 4.28125 -4.46875 4.28125 -5.265625 C 4.28125 -6.078125 3.40625 -6.640625 2.453125 -6.640625 C 1.453125 -6.640625 0.6875 -6.046875 0.6875 -5.28125 C 0.6875 -4.953125 0.90625 -4.765625 1.203125 -4.765625 C 1.5 -4.765625 1.703125 -4.984375 1.703125 -5.28125 C 1.703125 -5.765625 1.234375 -5.765625 1.09375 -5.765625 C 1.390625 -6.265625 2.046875 -6.390625 2.40625 -6.390625 C 2.828125 -6.390625 3.375 -6.171875 3.375 -5.28125 C 3.375 -5.15625 3.34375 -4.578125 3.09375 -4.140625 C 2.796875 -3.65625 2.453125 -3.625 2.203125 -3.625 C 2.125 -3.609375 1.890625 -3.59375 1.8125 -3.59375 C 1.734375 -3.578125 1.671875 -3.5625 1.671875 -3.46875 C 1.671875 -3.359375 1.734375 -3.359375 1.90625 -3.359375 L 2.34375 -3.359375 C 3.15625 -3.359375 3.53125 -2.6875 3.53125 -1.703125 C 3.53125 -0.34375 2.84375 -0.0625 2.40625 -0.0625 C 1.96875 -0.0625 1.21875 -0.234375 0.875 -0.8125 C 1.21875 -0.765625 1.53125 -0.984375 1.53125 -1.359375 C 1.53125 -1.71875 1.265625 -1.921875 0.984375 -1.921875 C 0.734375 -1.921875 0.421875 -1.78125 0.421875 -1.34375 C 0.421875 -0.4375 1.34375 0.21875 2.4375 0.21875 C 3.65625 0.21875 4.5625 -0.6875 4.5625 -1.703125 Z M 4.5625 -1.703125 \"/>\n",
       "</symbol>\n",
       "<symbol overflow=\"visible\" id=\"glyph-1446064031622016-0-6\">\n",
       "<path style=\"stroke:none;\" d=\"M 4.828125 -6.421875 L 2.40625 -6.421875 C 1.203125 -6.421875 1.171875 -6.546875 1.140625 -6.734375 L 0.890625 -6.734375 L 0.5625 -4.6875 L 0.8125 -4.6875 C 0.84375 -4.84375 0.921875 -5.46875 1.0625 -5.59375 C 1.125 -5.65625 1.90625 -5.65625 2.03125 -5.65625 L 4.09375 -5.65625 L 2.984375 -4.078125 C 2.078125 -2.734375 1.75 -1.34375 1.75 -0.328125 C 1.75 -0.234375 1.75 0.21875 2.21875 0.21875 C 2.671875 0.21875 2.671875 -0.234375 2.671875 -0.328125 L 2.671875 -0.84375 C 2.671875 -1.390625 2.703125 -1.9375 2.78125 -2.46875 C 2.828125 -2.703125 2.953125 -3.5625 3.40625 -4.171875 L 4.75 -6.078125 C 4.828125 -6.1875 4.828125 -6.203125 4.828125 -6.421875 Z M 4.828125 -6.421875 \"/>\n",
       "</symbol>\n",
       "<symbol overflow=\"visible\" id=\"glyph-1446064031622016-0-7\">\n",
       "<path style=\"stroke:none;\" d=\"M 4.5625 -1.671875 C 4.5625 -2.03125 4.453125 -2.484375 4.0625 -2.90625 C 3.875 -3.109375 3.71875 -3.203125 3.078125 -3.609375 C 3.796875 -3.984375 4.28125 -4.5 4.28125 -5.15625 C 4.28125 -6.078125 3.40625 -6.640625 2.5 -6.640625 C 1.5 -6.640625 0.6875 -5.90625 0.6875 -4.96875 C 0.6875 -4.796875 0.703125 -4.34375 1.125 -3.875 C 1.234375 -3.765625 1.609375 -3.515625 1.859375 -3.34375 C 1.28125 -3.046875 0.421875 -2.5 0.421875 -1.5 C 0.421875 -0.453125 1.4375 0.21875 2.484375 0.21875 C 3.609375 0.21875 4.5625 -0.609375 4.5625 -1.671875 Z M 3.84375 -5.15625 C 3.84375 -4.578125 3.453125 -4.109375 2.859375 -3.765625 L 1.625 -4.5625 C 1.171875 -4.859375 1.125 -5.1875 1.125 -5.359375 C 1.125 -5.96875 1.78125 -6.390625 2.484375 -6.390625 C 3.203125 -6.390625 3.84375 -5.875 3.84375 -5.15625 Z M 4.0625 -1.3125 C 4.0625 -0.578125 3.3125 -0.0625 2.5 -0.0625 C 1.640625 -0.0625 0.921875 -0.671875 0.921875 -1.5 C 0.921875 -2.078125 1.234375 -2.71875 2.078125 -3.1875 L 3.3125 -2.40625 C 3.59375 -2.21875 4.0625 -1.921875 4.0625 -1.3125 Z M 4.0625 -1.3125 \"/>\n",
       "</symbol>\n",
       "<symbol overflow=\"visible\" id=\"glyph-1446064031622016-0-8\">\n",
       "<path style=\"stroke:none;\" d=\"M 4.46875 -1.734375 L 4.234375 -1.734375 C 4.171875 -1.4375 4.109375 -1 4 -0.84375 C 3.9375 -0.765625 3.28125 -0.765625 3.0625 -0.765625 L 1.265625 -0.765625 L 2.328125 -1.796875 C 3.875 -3.171875 4.46875 -3.703125 4.46875 -4.703125 C 4.46875 -5.84375 3.578125 -6.640625 2.359375 -6.640625 C 1.234375 -6.640625 0.5 -5.71875 0.5 -4.828125 C 0.5 -4.28125 1 -4.28125 1.03125 -4.28125 C 1.203125 -4.28125 1.546875 -4.390625 1.546875 -4.8125 C 1.546875 -5.0625 1.359375 -5.328125 1.015625 -5.328125 C 0.9375 -5.328125 0.921875 -5.328125 0.890625 -5.3125 C 1.109375 -5.96875 1.65625 -6.328125 2.234375 -6.328125 C 3.140625 -6.328125 3.5625 -5.515625 3.5625 -4.703125 C 3.5625 -3.90625 3.078125 -3.125 2.515625 -2.5 L 0.609375 -0.375 C 0.5 -0.265625 0.5 -0.234375 0.5 0 L 4.203125 0 Z M 4.46875 -1.734375 \"/>\n",
       "</symbol>\n",
       "<symbol overflow=\"visible\" id=\"glyph-1446064031622016-0-9\">\n",
       "<path style=\"stroke:none;\" d=\"M 4.5625 -3.28125 C 4.5625 -5.96875 3.40625 -6.640625 2.515625 -6.640625 C 1.96875 -6.640625 1.484375 -6.453125 1.0625 -6.015625 C 0.640625 -5.5625 0.421875 -5.140625 0.421875 -4.390625 C 0.421875 -3.15625 1.296875 -2.171875 2.40625 -2.171875 C 3.015625 -2.171875 3.421875 -2.59375 3.65625 -3.171875 L 3.65625 -2.84375 C 3.65625 -0.515625 2.625 -0.0625 2.046875 -0.0625 C 1.875 -0.0625 1.328125 -0.078125 1.0625 -0.421875 C 1.5 -0.421875 1.578125 -0.703125 1.578125 -0.875 C 1.578125 -1.1875 1.34375 -1.328125 1.125 -1.328125 C 0.96875 -1.328125 0.671875 -1.25 0.671875 -0.859375 C 0.671875 -0.1875 1.203125 0.21875 2.046875 0.21875 C 3.34375 0.21875 4.5625 -1.140625 4.5625 -3.28125 Z M 3.640625 -4.203125 C 3.640625 -3.375 3.296875 -2.40625 2.421875 -2.40625 C 2.265625 -2.40625 1.796875 -2.40625 1.5 -3.03125 C 1.3125 -3.40625 1.3125 -3.890625 1.3125 -4.390625 C 1.3125 -4.921875 1.3125 -5.390625 1.53125 -5.765625 C 1.796875 -6.265625 2.171875 -6.390625 2.515625 -6.390625 C 2.984375 -6.390625 3.3125 -6.046875 3.484375 -5.609375 C 3.59375 -5.28125 3.640625 -4.65625 3.640625 -4.203125 Z M 3.640625 -4.203125 \"/>\n",
       "</symbol>\n",
       "</g>\n",
       "</defs>\n",
       "<g id=\"surface1\">\n",
       "<path style=\"fill:none;stroke-width:0.3985;stroke-linecap:butt;stroke-linejoin:miter;stroke:rgb(0%,0%,0%);stroke-opacity:1;stroke-miterlimit:10;\" d=\"M -0.00009375 -6.838563 L -0.00009375 -20.994813 \" transform=\"matrix(1,0,0,-1,62.504,6.638)\"/>\n",
       "<path style=\"fill:none;stroke-width:0.31879;stroke-linecap:round;stroke-linejoin:round;stroke:rgb(0%,0%,0%);stroke-opacity:1;stroke-miterlimit:10;\" d=\"M -1.1968 1.593656 C -1.095237 0.996 -0.0014875 0.101469 0.299294 -0.00009375 C -0.0014875 -0.09775 -1.095237 -0.996187 -1.1968 -1.593844 \" transform=\"matrix(0,1,1,0,62.504,27.6343)\"/>\n",
       "<path style=\"fill:none;stroke-width:0.3985;stroke-linecap:butt;stroke-linejoin:miter;stroke:rgb(0%,0%,0%);stroke-opacity:1;stroke-miterlimit:10;\" d=\"M -6.011812 -31.350281 L -50.273531 -53.483094 \" transform=\"matrix(1,0,0,-1,62.504,6.638)\"/>\n",
       "<path style=\"fill:none;stroke-width:0.31879;stroke-linecap:round;stroke-linejoin:round;stroke:rgb(0%,0%,0%);stroke-opacity:1;stroke-miterlimit:10;\" d=\"M -1.194782 1.592781 C -1.095201 0.997072 0.00189197 0.0991496 0.297127 -0.000423878 C -0.00160015 -0.100003 -1.095183 -0.994451 -1.194754 -1.595403 \" transform=\"matrix(-0.89442,0.4472,0.4472,0.89442,12.23079,60.12141)\"/>\n",
       "<path style=\"fill:none;stroke-width:0.3985;stroke-linecap:butt;stroke-linejoin:miter;stroke:rgb(0%,0%,0%);stroke-opacity:1;stroke-miterlimit:10;\" d=\"M -50.683687 -62.70575 L -34.679781 -78.70575 \" transform=\"matrix(1,0,0,-1,62.504,6.638)\"/>\n",
       "<path style=\"fill:none;stroke-width:0.31879;stroke-linecap:round;stroke-linejoin:round;stroke:rgb(0%,0%,0%);stroke-opacity:1;stroke-miterlimit:10;\" d=\"M -1.19499 1.594972 C -1.095548 0.998341 0.00104494 0.10064 0.299361 0.00120333 C 0.00104635 -0.0982373 -1.095534 -0.995954 -1.194968 -1.592586 \" transform=\"matrix(0.70709,0.7071,0.7071,-0.70709,27.82263,85.34386)\"/>\n",
       "<path style=\"fill:none;stroke-width:0.3985;stroke-linecap:butt;stroke-linejoin:miter;stroke:rgb(0%,0%,0%);stroke-opacity:1;stroke-miterlimit:10;\" d=\"M -28.34775 -63.639344 L -28.34775 -77.635438 \" transform=\"matrix(1,0,0,-1,62.504,6.638)\"/>\n",
       "<path style=\"fill:none;stroke-width:0.31879;stroke-linecap:round;stroke-linejoin:round;stroke:rgb(0%,0%,0%);stroke-opacity:1;stroke-miterlimit:10;\" d=\"M -1.194995 1.5928 C -1.097339 0.995144 0.0003175 0.100613 0.297193 -0.00095 C 0.0003175 -0.0986062 -1.097339 -0.997044 -1.194995 -1.5947 \" transform=\"matrix(0,1,1,0,34.1572,84.27312)\"/>\n",
       "<path style=\"fill:none;stroke-width:0.3985;stroke-linecap:butt;stroke-linejoin:miter;stroke:rgb(0%,0%,0%);stroke-opacity:1;stroke-miterlimit:10;\" d=\"M -28.34775 -91.987 L -28.34775 -105.932313 \" transform=\"matrix(1,0,0,-1,62.504,6.638)\"/>\n",
       "<path style=\"fill:none;stroke-width:0.31879;stroke-linecap:round;stroke-linejoin:round;stroke:rgb(0%,0%,0%);stroke-opacity:1;stroke-miterlimit:10;\" d=\"M -1.19511 1.5928 C -1.097454 0.995144 0.0002025 0.100613 0.297078 -0.00095 C 0.0002025 -0.0986062 -1.097454 -0.997044 -1.19511 -1.5947 \" transform=\"matrix(0,1,1,0,34.1572,112.57011)\"/>\n",
       "<path style=\"fill:none;stroke-width:0.3985;stroke-linecap:butt;stroke-linejoin:miter;stroke:rgb(0%,0%,0%);stroke-opacity:1;stroke-miterlimit:10;\" d=\"M -28.34775 -120.385438 L -28.34775 -134.326844 \" transform=\"matrix(1,0,0,-1,62.504,6.638)\"/>\n",
       "<path style=\"fill:none;stroke-width:0.31879;stroke-linecap:round;stroke-linejoin:round;stroke:rgb(0%,0%,0%);stroke-opacity:1;stroke-miterlimit:10;\" d=\"M -1.197209 1.5928 C -1.095646 0.995144 -0.00189625 0.100613 0.298885 -0.00095 C -0.00189625 -0.0986062 -1.095646 -0.997044 -1.197209 -1.5947 \" transform=\"matrix(0,1,1,0,34.1572,140.96674)\"/>\n",
       "<path style=\"fill:none;stroke-width:0.3985;stroke-linecap:butt;stroke-linejoin:miter;stroke:rgb(0%,0%,0%);stroke-opacity:1;stroke-miterlimit:10;\" d=\"M -28.34775 -148.682313 L -28.34775 -162.783875 \" transform=\"matrix(1,0,0,-1,62.504,6.638)\"/>\n",
       "<path style=\"fill:none;stroke-width:0.31879;stroke-linecap:round;stroke-linejoin:round;stroke:rgb(0%,0%,0%);stroke-opacity:1;stroke-miterlimit:10;\" d=\"M -1.196547 1.5928 C -1.094985 0.995144 -0.001235 0.100613 0.299546 -0.00095 C -0.001235 -0.0986062 -1.094985 -0.997044 -1.196547 -1.5947 \" transform=\"matrix(0,1,1,0,34.1572,169.42311)\"/>\n",
       "<path style=\"fill:none;stroke-width:0.3985;stroke-linecap:butt;stroke-linejoin:miter;stroke:rgb(0%,0%,0%);stroke-opacity:1;stroke-miterlimit:10;\" d=\"M -22.336031 -147.744813 L -6.336031 -163.744813 \" transform=\"matrix(1,0,0,-1,62.504,6.638)\"/>\n",
       "<path style=\"fill:none;stroke-width:0.31879;stroke-linecap:round;stroke-linejoin:round;stroke:rgb(0%,0%,0%);stroke-opacity:1;stroke-miterlimit:10;\" d=\"M -1.195322 1.596526 C -1.095888 0.994369 -0.00207027 0.0994147 0.296245 -0.0000259601 C -0.00207168 -0.0994624 -1.095902 -0.994402 -1.195345 -1.596557 \" transform=\"matrix(0.7071,0.70709,0.70709,-0.7071,56.16945,170.38426)\"/>\n",
       "<path style=\"fill:none;stroke-width:0.3985;stroke-linecap:butt;stroke-linejoin:miter;stroke:rgb(0%,0%,0%);stroke-opacity:1;stroke-miterlimit:10;\" d=\"M -0.00009375 -163.135438 L -0.00009375 -35.697938 \" transform=\"matrix(1,0,0,-1,62.504,6.638)\"/>\n",
       "<path style=\"fill:none;stroke-width:0.31879;stroke-linecap:round;stroke-linejoin:round;stroke:rgb(0%,0%,0%);stroke-opacity:1;stroke-miterlimit:10;\" d=\"M -1.19595 1.593844 C -1.094388 0.996187 -0.0006375 0.09775 0.300144 0.00009375 C -0.0006375 -0.101469 -1.094388 -0.996 -1.19595 -1.593656 \" transform=\"matrix(0,-1,-1,0,62.504,42.3353)\"/>\n",
       "<g style=\"fill:rgb(0%,0%,0%);fill-opacity:1;\">\n",
       "  <use xlink:href=\"#glyph-1446064031622016-0-1\" x=\"60.013\" y=\"9.955\"/>\n",
       "</g>\n",
       "<g style=\"fill:rgb(0%,0%,0%);fill-opacity:1;\">\n",
       "  <use xlink:href=\"#glyph-1446064031622016-0-2\" x=\"60.013\" y=\"38.356\"/>\n",
       "</g>\n",
       "<g style=\"fill:rgb(0%,0%,0%);fill-opacity:1;\">\n",
       "  <use xlink:href=\"#glyph-1446064031622016-0-3\" x=\"3.321\" y=\"66.539\"/>\n",
       "</g>\n",
       "<g style=\"fill:rgb(0%,0%,0%);fill-opacity:1;\">\n",
       "  <use xlink:href=\"#glyph-1446064031622016-0-4\" x=\"31.667\" y=\"94.885\"/>\n",
       "</g>\n",
       "<g style=\"fill:rgb(0%,0%,0%);fill-opacity:1;\">\n",
       "  <use xlink:href=\"#glyph-1446064031622016-0-5\" x=\"31.667\" y=\"66.539\"/>\n",
       "</g>\n",
       "<g style=\"fill:rgb(0%,0%,0%);fill-opacity:1;\">\n",
       "  <use xlink:href=\"#glyph-1446064031622016-0-6\" x=\"31.667\" y=\"123.281\"/>\n",
       "</g>\n",
       "<g style=\"fill:rgb(0%,0%,0%);fill-opacity:1;\">\n",
       "  <use xlink:href=\"#glyph-1446064031622016-0-7\" x=\"31.667\" y=\"151.578\"/>\n",
       "</g>\n",
       "<g style=\"fill:rgb(0%,0%,0%);fill-opacity:1;\">\n",
       "  <use xlink:href=\"#glyph-1446064031622016-0-8\" x=\"31.667\" y=\"180.034\"/>\n",
       "</g>\n",
       "<g style=\"fill:rgb(0%,0%,0%);fill-opacity:1;\">\n",
       "  <use xlink:href=\"#glyph-1446064031622016-0-9\" x=\"60.013\" y=\"179.924\"/>\n",
       "</g>\n",
       "</g>\n",
       "</svg>\n",
       "\n"
      ],
      "text/plain": [
       "TikzPictures.TikzPicture(\"\\\\graph [layered layout, ] {\\n1 -> 4;\\n4 -> 5;\\n5 -> 6;\\n3 -> 6;\\n6 -> 7;\\n7 -> 8;\\n8 -> 2;\\n8 -> 9;\\n9 -> 4;\\n};\\n\",\"\",\"\\\\usepackage{fontspec}\\n\\\\usetikzlibrary{graphs}\\n\\\\usetikzlibrary{graphdrawing}\\n\\n\\\\usegdlibrary{layered}\",true,true)"
      ]
     },
     "execution_count": 15,
     "metadata": {},
     "output_type": "execute_result"
    }
   ],
   "source": [
    "# plot the network graph\n",
    "using TikzGraphs\n",
    "using TikzPictures\n",
    "using Graphs\n",
    "\n",
    "i = mat2tmpinst(\"case9\")\n",
    "n = size(i.Y,1)\n",
    "g = simple_graph(n,is_directed=false)\n",
    "for line in i.lines\n",
    "    add_edge!(g,line...)\n",
    "end\n",
    "p = TikzGraphs.plot(g)\n",
    "# save(PDF(\"../images/case9graph\"), p)"
   ]
  },
  {
   "cell_type": "code",
   "execution_count": 17,
   "metadata": {
    "collapsed": false
   },
   "outputs": [
    {
     "data": {
      "text/plain": [
       "edge [1]: 1 -- 2"
      ]
     },
     "execution_count": 17,
     "metadata": {},
     "output_type": "execute_result"
    }
   ],
   "source": [
    "g = simple_graph(3,is_directed=false)\n",
    "add_edge!(g,1,2)"
   ]
  },
  {
   "cell_type": "code",
   "execution_count": 20,
   "metadata": {
    "collapsed": false
   },
   "outputs": [
    {
     "name": "stderr",
     "output_type": "stream",
     "text": [
      "Format: \"x11\" not recognized. Use one of: canon cmap cmapx cmapx_np dot eps fig gv imap imap_np ismap pic plain plain-ext pov ps ps2 svg tk vml xdot xdot1.2 xdot1.4\n"
     ]
    },
    {
     "ename": "LoadError",
     "evalue": "LoadError: write: broken pipe (EPIPE)\nwhile loading In[20], in expression starting on line 1",
     "output_type": "error",
     "traceback": [
      "LoadError: write: broken pipe (EPIPE)\nwhile loading In[20], in expression starting on line 1",
      ""
     ]
    }
   ],
   "source": [
    "Graphs.plot(g,)"
   ]
  },
  {
   "cell_type": "code",
   "execution_count": 21,
   "metadata": {
    "collapsed": false
   },
   "outputs": [
    {
     "data": {
      "text/html": [
       "1 method for generic function <b>plot</b>:<ul><li> plot(g::<b>Graphs.AbstractGraph{V,E}</b>) at <a href=\"https://github.com/JuliaLang/Graphs.jl/tree/04b198d197f4389f7a6e356a78846159dfda14f9/src/dot.jl#L91\" target=\"_blank\">/home/jkersulis/.julia/v0.4/Graphs/src/dot.jl:91</a></ul>"
      ],
      "text/plain": [
       "# 1 method for generic function \"plot\":\n",
       "plot(g::Graphs.AbstractGraph{V,E}) at /home/jkersulis/.julia/v0.4/Graphs/src/dot.jl:91"
      ]
     },
     "execution_count": 21,
     "metadata": {},
     "output_type": "execute_result"
    }
   ],
   "source": [
    "methods(Graphs.plot)"
   ]
  },
  {
   "cell_type": "markdown",
   "metadata": {},
   "source": [
    "## Checking optimization solutions\n",
    "The ultimate test of whether the ISF matrix can indeed predict singularities is to look at the objective values and power flows for flagged lines.\n",
    "\n"
   ]
  },
  {
   "cell_type": "code",
   "execution_count": 1,
   "metadata": {
    "collapsed": false,
    "scrolled": false
   },
   "outputs": [
    {
     "name": "stderr",
     "output_type": "stream",
     "text": [
      "WARNING: Base.String is deprecated, use AbstractString instead.\n",
      "  likely near /home/jkersulis/.julia/v0.4/GraphLayout/src/draw.jl:3\n",
      "WARNING: Union(args...) is deprecated, use Union{args...} instead.\n",
      " in depwarn at deprecated.jl:73\n",
      " in call at deprecated.jl:50\n",
      " in include at ./boot.jl:261\n",
      " in include_from_node1 at ./loading.jl:304\n",
      " in include at ./boot.jl:261\n",
      " in include_from_node1 at ./loading.jl:304\n",
      " in require at ./loading.jl:243\n",
      " in include at ./boot.jl:261\n",
      " in include_from_node1 at ./loading.jl:304\n",
      " in include at ./boot.jl:261\n",
      " in include_from_node1 at ./loading.jl:304\n",
      " in include_string at loading.jl:266\n",
      " in execute_request_0x535c5df2 at /home/jkersulis/.julia/v0.4/IJulia/src/execute_request.jl:177\n",
      " in eventloop at /home/jkersulis/.julia/v0.4/IJulia/src/IJulia.jl:141\n",
      " in anonymous at task.jl:447\n",
      "while loading /home/jkersulis/.julia/v0.4/GraphLayout/src/draw.jl, in expression starting on line 3\n",
      "WARNING: Base.String is deprecated, use AbstractString instead.\n",
      "  likely near /home/jkersulis/.julia/v0.4/GraphLayout/src/draw.jl:23\n",
      "WARNING: Base.String is deprecated, use AbstractString instead.\n",
      "  likely near /home/jkersulis/.julia/v0.4/GraphLayout/src/draw.jl:135\n"
     ]
    }
   ],
   "source": [
    "include(\"../src/TemporalInstanton.jl\")\n",
    "using TemporalInstanton\n",
    "using MatpowerCases"
   ]
  },
  {
   "cell_type": "code",
   "execution_count": 2,
   "metadata": {
    "collapsed": false,
    "scrolled": true
   },
   "outputs": [
    {
     "name": "stdout",
     "output_type": "stream",
     "text": [
      "starting case118\n",
      "r=0 check:\t\tremoving 9 lines\n",
      "ISF pre-check:\t\tflagging [113,177,183,184]\n"
     ]
    }
   ],
   "source": [
    "case = \"case118\"\n",
    "maxlines = 1000\n",
    "println(\"starting $case\")\n",
    "num_farms = length(unique(loadcase(case,describe=false)[\"gen\"][:,1]))\n",
    "\n",
    "penetration = 0.5 # penetration of 50 %\n",
    "d = mat2tmpinst(case)\n",
    "\n",
    "# Thermal model parameters:\n",
    "d.Tamb = 35. # C\n",
    "d.T0 = 60. #46. # initial line steady-state temp\n",
    "\n",
    "d.time_values = 0:30:300 # five minutes in 30-sec steps\n",
    "d.int_length = 300. # seconds = 5 min\n",
    "\n",
    "Gp,Dp,Rp = (d.G0, d.D0, d.R0)\n",
    "d.G0 = [Gp;Gp;Gp;Gp;Gp;Gp]\n",
    "d.D0 = [Dp;Dp;Dp;Dp;Dp;Dp]\n",
    "d.R0 = [Rp;1.1*Rp;1.2*Rp;1.1*Rp;Rp;0.9*Rp]\n",
    "\n",
    "n = length(d.k)\n",
    "nr = length(d.Ridx)\n",
    "T = convert(Int64,length(d.G0)/n)\n",
    "\n",
    "timed_results = @timed solve_temporal_instanton(d,maxlines);\n",
    "results = timed_results[1]\n",
    "o = process_instanton_results(results,n,nr,T,return_as_type=true);"
   ]
  },
  {
   "cell_type": "code",
   "execution_count": 3,
   "metadata": {
    "collapsed": false
   },
   "outputs": [
    {
     "data": {
      "text/plain": [
       "173-element Array{Tuple{Float64,Int64},1}:\n",
       " (0.007213131203667574,42) \n",
       " (0.023149943400986493,116)\n",
       " (0.025413622744148844,136)\n",
       " (0.03712244171991897,38)  \n",
       " (0.04244822809598099,174) \n",
       " (0.055408524738751186,41) \n",
       " (0.07268761708158206,142) \n",
       " (0.12613401609957586,163) \n",
       " (0.1273759785709693,123)  \n",
       " (0.14652444837581863,119) \n",
       " (0.21267580322094895,68)  \n",
       " (0.2603936637155699,164)  \n",
       " (0.39229640276943595,76)  \n",
       " ⋮                         \n",
       " (754.4350882066941,139)   \n",
       " (1227.6688968249541,3)    \n",
       " (1252.336720126979,13)    \n",
       " (1780.0714744697257,2)    \n",
       " (2151.1362169135996,50)   \n",
       " (2444.9513523652845,122)  \n",
       " (2577.7569062400476,121)  \n",
       " (4122.282622104177,180)   \n",
       " (18130.629908356164,47)   \n",
       " (26004.538845982057,49)   \n",
       " (26523.508071373144,182)  \n",
       " (279614.4507134098,46)    "
      ]
     },
     "execution_count": 3,
     "metadata": {},
     "output_type": "execute_result"
    }
   ],
   "source": [
    "ord = sortperm([s[1] for s in o.score])\n",
    "o.score[ord]"
   ]
  },
  {
   "cell_type": "markdown",
   "metadata": {},
   "source": [
    "Sure enough, there are no secular equation solutions for the lines flagged by the ISF pre-check. In fact, the set of lines for which there are solutions is the set of all lines minus lines that have zero resistance and lines flagged by the pre-check.\n",
    "\n",
    "Using the non-zero resistance check and ISF pre-check should be sufficient to ensure a reasonable secular equation solution exists for all lines that enter into the analysis itself."
   ]
  },
  {
   "cell_type": "code",
   "execution_count": 4,
   "metadata": {
    "collapsed": false
   },
   "outputs": [
    {
     "data": {
      "text/plain": [
       "true"
      ]
     },
     "execution_count": 4,
     "metadata": {},
     "output_type": "execute_result"
    }
   ],
   "source": [
    "sort(union(find(d.res.== 0),[s[2] for s in o.score],[113,177,183,184])) ==  collect(1:186)"
   ]
  }
 ],
 "metadata": {
  "kernelspec": {
   "display_name": "Julia 0.4.0",
   "language": "julia",
   "name": "julia-0.4"
  },
  "language_info": {
   "file_extension": ".jl",
   "mimetype": "application/julia",
   "name": "julia",
   "version": "0.4.0"
  }
 },
 "nbformat": 4,
 "nbformat_minor": 0
}
