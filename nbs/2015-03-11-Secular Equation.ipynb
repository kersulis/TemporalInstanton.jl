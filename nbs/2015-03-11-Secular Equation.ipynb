{
 "cells": [
  {
   "cell_type": "markdown",
   "metadata": {},
   "source": [
    "# Solving the Secular Equation\n",
    "\n",
    "The first-order optimality conditions include a single Lagrange multiplier $\\mu$:\n",
    "\n",
    "\\begin{align}\n",
    "2w^\\top D + 2(V^\\top R Q_{obj}z^*) &= 2\\mu w^\\top Q_\\theta \\\\\n",
    "\\iff w^\\top D + d &= \\mu w^\\top Q_\\theta~,\n",
    "\\end{align}\n",
    "where $d = V^\\top R Q_{obj}z^*$. We would like to solve the above equation subject to $w^\\top Q_\\theta w = \\bar{c}$, where $\\bar{c} = c -  z^{*\\top}Q_\\theta z^*$. We will solve this system via enumeration, beginning with $\\mu=0$ and checking $\\mu=D_i$ for each diagonal element of $D$. Once these possibilities are exhausted, we write the ``secular equation'' , setting it equal to $\\bar{c}^2$:\n",
    "\n",
    "\\begin{align}\n",
    "s(\\mu) = \\sum_{i:Q{_\\theta,i}\\neq 0} \\left(\\frac{d_i}{\\mu - D_i}\\right)^2 &= \\bar{c}^2\n",
    "\\end{align}\n",
    "This equation has a number of solutions, each corresponding to some value of $w$, which must be checked for feasibility."
   ]
  },
  {
   "cell_type": "code",
   "execution_count": 5,
   "metadata": {
    "collapsed": false
   },
   "outputs": [
    {
     "data": {
      "text/plain": [
       "10-element Array{Any,1}:\n",
       "   1.41421\n",
       "   1.70842\n",
       "   2.21203\n",
       "   3.3541 \n",
       "   9.17824\n",
       "   9.27699\n",
       "   4.24264\n",
       "   4.84665\n",
       "   9.09137\n",
       " NaN      "
      ]
     },
     "execution_count": 5,
     "metadata": {},
     "output_type": "execute_result"
    }
   ],
   "source": [
    "D = diagm([1,2,3])\n",
    "d = [0,1,2]\n",
    "Qtheta = diagm([0,1,1])\n",
    "c = 5\n",
    "\n",
    "mu = linspace(1,3,10)\n",
    "[norm(find_w(mu_i,D,d,Qtheta)) for mu_i in mu]"
   ]
  },
  {
   "cell_type": "code",
   "execution_count": 83,
   "metadata": {
    "collapsed": false
   },
   "outputs": [],
   "source": [
    "# Check 0 and diagonals of D before moving on to\n",
    "# binary search:\n",
    "\n",
    "mu_vals,w_vals,check = tr_check_diag(D,d,Qtheta,c)\n",
    "# If all values of \"check\" are false, continue:\n",
    "if all(!check)\n",
    "    # continue\n",
    "else\n",
    "    display(mu_vals[find(check)])\n",
    "end"
   ]
  },
  {
   "cell_type": "code",
   "execution_count": 133,
   "metadata": {
    "collapsed": false,
    "scrolled": true
   },
   "outputs": [
    {
     "data": {
      "text/plain": [
       "tr_solve_secular (generic function with 1 method)"
      ]
     },
     "execution_count": 133,
     "metadata": {},
     "output_type": "execute_result"
    }
   ],
   "source": [
    "function tr_solve_secular(D,d,Qtheta,c)\n",
    "    \"\"\" Solve the secular equation via binary search.\n",
    "    \"\"\"\n",
    "    eps = 1e-8\n",
    "    solutions = Float64[]\n",
    "    poles = sort(diag(D*Qtheta))\n",
    "    # Each diagonal element is a pole.\n",
    "    for i in 1:length(poles)\n",
    "        \n",
    "        # Head left first:\n",
    "        high = poles[i]\n",
    "        if i == 1\n",
    "            low = high - abs(poles[i] - poles[i+1])\n",
    "        else\n",
    "            low = high - abs(poles[i] - poles[i-1])/2\n",
    "        end\n",
    "        \n",
    "        # Initialize mu:\n",
    "        mu = (high + low)/2\n",
    "        w = find_w(mu,D,d,Qtheta)\n",
    "        diff = (w'*w)[1] - c^2\n",
    "        diff_old = 0\n",
    "        stall = false\n",
    "        while abs(diff) > eps\n",
    "            if diff == diff_old\n",
    "                stall = true\n",
    "                break\n",
    "            end\n",
    "            if diff > 0\n",
    "                high = mu\n",
    "            else\n",
    "                low = mu\n",
    "            end\n",
    "            mu = (high + low)/2\n",
    "            w = find_w(mu,D,d,Qtheta)\n",
    "            diff_old = diff\n",
    "            diff = (w'*w)[1] - c^2\n",
    "        end\n",
    "        if !stall\n",
    "            push!(solutions,mu)\n",
    "        end\n",
    "        \n",
    "        # Now head right:\n",
    "        high = poles[i]\n",
    "        if i == length(poles)\n",
    "            low = high + abs(poles[i] - poles[i-1])\n",
    "        else\n",
    "            low = high + abs(poles[i] - poles[i+1])/2\n",
    "        end\n",
    "        \n",
    "        mu = (high + low)/2\n",
    "        w = find_w(mu,D,d,Qtheta)\n",
    "        diff = (w'*w)[1] - c^2\n",
    "        diff_old = 0\n",
    "        stall = false\n",
    "        while abs((w'*w)[1] - c^2) > eps\n",
    "            if diff == diff_old\n",
    "                stall = true\n",
    "                break\n",
    "            end\n",
    "            if diff > 0\n",
    "                high = mu\n",
    "            else\n",
    "                low = mu\n",
    "            end\n",
    "            mu = (high + low)/2\n",
    "            w = find_w(mu,D,d,Qtheta)\n",
    "            diff_old = diff\n",
    "            diff = (w'*w)[1] - c^2\n",
    "        end\n",
    "        if !stall\n",
    "            push!(solutions,mu)\n",
    "        end\n",
    "    end\n",
    "    return solutions\n",
    "end"
   ]
  },
  {
   "cell_type": "code",
   "execution_count": 101,
   "metadata": {
    "collapsed": false
   },
   "outputs": [
    {
     "data": {
      "text/html": [
       "<script charset=\"utf-8\">(function ($, undefined) {\n",
       "\n",
       "    function createElem(tag, attr, content) {\n",
       "\t// TODO: remove jQuery dependency\n",
       "\tvar el = $(\"<\" + tag + \"/>\").attr(attr);\n",
       "\tif (content) {\n",
       "\t    el.append(content);\n",
       "\t}\n",
       "\treturn el[0];\n",
       "    }\n",
       "\n",
       "    // A widget must expose an id field which identifies it to the backend,\n",
       "    // an elem attribute which is will be added to the DOM, and\n",
       "    // a getState() method which returns the value to be sent to the backend\n",
       "    // a sendUpdate() method which sends its current value to the backend\n",
       "    var Widget = {\n",
       "\tid: undefined,\n",
       "\telem: undefined,\n",
       "\tlabel: undefined,\n",
       "\tgetState: function () {\n",
       "\t    return this.elem.value;\n",
       "\t},\n",
       "\tsendUpdate: undefined\n",
       "    };\n",
       "\n",
       "    var Slider = function (typ, id, init) {\n",
       "\tvar attr = { type:  \"range\",\n",
       "\t\t     value: init.value,\n",
       "\t\t     min:   init.min,\n",
       "\t\t     max:   init.max,\n",
       "\t\t     step:  init.step },\n",
       "\t    elem = createElem(\"input\", attr),\n",
       "\t    self = this;\n",
       "\n",
       "\telem.onchange = function () {\n",
       "\t    self.sendUpdate();\n",
       "\t}\n",
       "\n",
       "\tthis.id = id;\n",
       "\tthis.elem = elem;\n",
       "\tthis.label = init.label;\n",
       "\n",
       "\tInputWidgets.commInitializer(this); // Initialize communication\n",
       "    }\n",
       "    Slider.prototype = Widget;\n",
       "\n",
       "    var Checkbox = function (typ, id, init) {\n",
       "\tvar attr = { type: \"checkbox\",\n",
       "\t\t     checked: init.value },\n",
       "\t    elem = createElem(\"input\", attr),\n",
       "\t    self = this;\n",
       "\n",
       "\tthis.getState = function () {\n",
       "\t    return elem.checked;\n",
       "\t}\n",
       "\telem.onchange = function () {\n",
       "\t    self.sendUpdate();\n",
       "\t}\n",
       "\n",
       "\tthis.id = id;\n",
       "\tthis.elem = elem;\n",
       "\tthis.label = init.label;\n",
       "\n",
       "\tInputWidgets.commInitializer(this);\n",
       "    }\n",
       "    Checkbox.prototype = Widget;\n",
       "\n",
       "    var Button = function (typ, id, init) {\n",
       "\tvar attr = { type:    \"button\",\n",
       "\t\t     value:   init.label },\n",
       "\t    elem = createElem(\"input\", attr),\n",
       "\t    self = this;\n",
       "\tthis.getState = function () {\n",
       "\t    return null;\n",
       "\t}\n",
       "\telem.onclick = function () {\n",
       "\t    self.sendUpdate();\n",
       "\t}\n",
       "\n",
       "\tthis.id = id;\n",
       "\tthis.elem = elem;\n",
       "\tthis.label = init.label;\n",
       "\n",
       "\tInputWidgets.commInitializer(this);\n",
       "    }\n",
       "    Button.prototype = Widget;\n",
       "\n",
       "    var Text = function (typ, id, init) {\n",
       "\tvar attr = { type:  \"text\",\n",
       "\t\t     placeholder: init.label,\n",
       "\t\t     value: init.value },\n",
       "\t    elem = createElem(\"input\", attr),\n",
       "\t    self = this;\n",
       "\tthis.getState = function () {\n",
       "\t    return elem.value;\n",
       "\t}\n",
       "\telem.onkeyup = function () {\n",
       "\t    self.sendUpdate();\n",
       "\t}\n",
       "\n",
       "\tthis.id = id;\n",
       "\tthis.elem = elem;\n",
       "\tthis.label = init.label;\n",
       "\n",
       "\tInputWidgets.commInitializer(this);\n",
       "    }\n",
       "    Text.prototype = Widget;\n",
       "\n",
       "    var Textarea = function (typ, id, init) {\n",
       "\tvar attr = { placeholder: init.label },\n",
       "\t    elem = createElem(\"textarea\", attr, init.value),\n",
       "\t    self = this;\n",
       "\tthis.getState = function () {\n",
       "\t    return elem.value;\n",
       "\t}\n",
       "\telem.onchange = function () {\n",
       "\t    self.sendUpdate();\n",
       "\t}\n",
       "\n",
       "\tthis.id = id;\n",
       "\tthis.elem = elem;\n",
       "\tthis.label = init.label;\n",
       "\n",
       "\tInputWidgets.commInitializer(this);\n",
       "    }\n",
       "    Textarea.prototype = Widget;\n",
       "\n",
       "    // RadioButtons\n",
       "    // Dropdown\n",
       "    // HTML\n",
       "    // Latex\n",
       "\n",
       "    var InputWidgets = {\n",
       "\tSlider: Slider,\n",
       "\tCheckbox: Checkbox,\n",
       "\tButton: Button,\n",
       "\tText: Text,\n",
       "\tTextarea: Textarea,\n",
       "\tdebug: false,\n",
       "\tlog: function () {\n",
       "\t    if (InputWidgets.debug) {\n",
       "\t\tconsole.log.apply(console, arguments);\n",
       "\t    }\n",
       "\t},\n",
       "\t// a central way to initalize communication\n",
       "\t// for widgets.\n",
       "\tcommInitializer: function (widget) {\n",
       "\t    widget.sendUpdate = function () {};\n",
       "\t}\n",
       "    };\n",
       "\n",
       "    window.InputWidgets = InputWidgets;\n",
       "\n",
       "})(jQuery, undefined);\n",
       "</script>"
      ]
     },
     "metadata": {},
     "output_type": "display_data"
    },
    {
     "data": {
      "text/html": [
       "<script charset=\"utf-8\">(function (IPython, $, _, MathJax, Widgets) {\n",
       "    $.event.special.destroyed = {\n",
       "\tremove: function(o) {\n",
       "\t    if (o.handler) {\n",
       "\t\to.handler.apply(this, arguments)\n",
       "\t    }\n",
       "\t}\n",
       "    }\n",
       "\n",
       "    var redrawValue = function (container, type, val) {\n",
       "\tvar selector = $(\"<div/>\");\n",
       "\tvar oa = new IPython.OutputArea(_.extend(selector, {\n",
       "\t    selector: selector,\n",
       "\t    prompt_area: true,\n",
       "\t    events: IPython.events,\n",
       "\t    keyboard_manager: IPython.keyboard_manager\n",
       "\t})); // Hack to work with IPython 2.1.0\n",
       "\n",
       "\tswitch (type) {\n",
       "\tcase \"image/png\":\n",
       "            var _src = 'data:' + type + ';base64,' + val;\n",
       "\t    $(container).find(\"img\").attr('src', _src);\n",
       "\t    break;\n",
       "\tdefault:\n",
       "\t    var toinsert = IPython.OutputArea.append_map[type].apply(\n",
       "\t\toa, [val, {}, selector]\n",
       "\t    );\n",
       "\t    $(container).empty().append(toinsert.contents());\n",
       "\t    selector.remove();\n",
       "\t}\n",
       "\tif (type === \"text/latex\" && MathJax) {\n",
       "\t    MathJax.Hub.Queue([\"Typeset\", MathJax.Hub, toinsert.get(0)]);\n",
       "\t}\n",
       "    }\n",
       "\n",
       "\n",
       "    $(document).ready(function() {\n",
       "\tWidgets.debug = false; // log messages etc in console.\n",
       "\tfunction initComm(evt, data) {\n",
       "\t    var comm_manager = data.kernel.comm_manager;\n",
       "        //_.extend(comm_manager.targets, require(\"widgets/js/widget\"))\n",
       "\t    comm_manager.register_target(\"Signal\", function (comm) {\n",
       "            comm.on_msg(function (msg) {\n",
       "                //Widgets.log(\"message received\", msg);\n",
       "                var val = msg.content.data.value;\n",
       "                $(\".signal-\" + comm.comm_id).each(function() {\n",
       "                var type = $(this).data(\"type\");\n",
       "                if (val[type]) {\n",
       "                    redrawValue(this, type, val[type], type);\n",
       "                }\n",
       "                });\n",
       "                delete val;\n",
       "                delete msg.content.data.value;\n",
       "            });\n",
       "\t    });\n",
       "\n",
       "\t    // coordingate with Comm and redraw Signals\n",
       "\t    // XXX: Test using Reactive here to improve performance\n",
       "\t    $([IPython.events]).on(\n",
       "\t\t'output_appended.OutputArea', function (event, type, value, md, toinsert) {\n",
       "\t\t    if (md && md.reactive) {\n",
       "                // console.log(md.comm_id);\n",
       "                toinsert.addClass(\"signal-\" + md.comm_id);\n",
       "                toinsert.data(\"type\", type);\n",
       "                // Signal back indicating the mimetype required\n",
       "                var comm_manager = IPython.notebook.kernel.comm_manager;\n",
       "                var comm = comm_manager.comms[md.comm_id];\n",
       "                comm.then(function (c) {\n",
       "                    c.send({action: \"subscribe_mime\",\n",
       "                       mime: type});\n",
       "                    toinsert.bind(\"destroyed\", function() {\n",
       "                        c.send({action: \"unsubscribe_mime\",\n",
       "                               mime: type});\n",
       "                    });\n",
       "                })\n",
       "\t\t    }\n",
       "\t    });\n",
       "\t}\n",
       "\n",
       "\ttry {\n",
       "\t    // try to initialize right away. otherwise, wait on the status_started event.\n",
       "\t    initComm(undefined, IPython.notebook);\n",
       "\t} catch (e) {\n",
       "\t    $([IPython.events]).on('status_started.Kernel', initComm);\n",
       "\t}\n",
       "    });\n",
       "})(IPython, jQuery, _, MathJax, InputWidgets);\n",
       "</script>"
      ]
     },
     "metadata": {},
     "output_type": "display_data"
    },
    {
     "name": "stderr",
     "output_type": "stream",
     "text": [
      "Warning: using Interact.select in module Main conflicts with an existing identifier.\n"
     ]
    }
   ],
   "source": [
    "using Interact\n",
    "using PyPlot"
   ]
  },
  {
   "cell_type": "code",
   "execution_count": 135,
   "metadata": {
    "collapsed": false
   },
   "outputs": [
    {
     "data": {
      "text/html": [],
      "text/plain": [
       "Slider{Float64}([Input{Float64}] 7.5,\"c\",7.5,5.0:0.1:10.0)"
      ]
     },
     "metadata": {},
     "output_type": "display_data"
    },
    {
     "data": {
      "image/png": "[encoded data removed]",
      "text/plain": [
       "Figure(PyObject <matplotlib.figure.Figure object at 0x7f37526d3510>)"
      ]
     },
     "execution_count": 135,
     "metadata": {
      "comm_id": "a6c3863a-307e-48a6-b257-0a98a7da6211",
      "reactive": true
     },
     "output_type": "execute_result"
    }
   ],
   "source": [
    "D = diagm([1.,2,3])\n",
    "poles = diag(D)\n",
    "d = [1.,2,3]\n",
    "Qtheta = diagm([1.,1,1])\n",
    "\n",
    "f = figure()\n",
    "@manipulate for c = 5:0.1:10; withfig(f) do\n",
    "    solutions = tr_solve_secular(D,d,Qtheta,c)\n",
    "    # mu = solutions[1]\n",
    "    # display(length(solutions))\n",
    "    # w = find_w(mu,D,d,Qtheta)\n",
    "    # (w'*w)[1]\n",
    "\n",
    "    mu_vals = linspace(0.5*minimum(poles),1.5*maximum(poles),10000)\n",
    "    s_vals = [(find_w(i,D,d,Qtheta)'*find_w(i,D,d,Qtheta))[1] for i in mu_vals]\n",
    "    plot(mu_vals,s_vals)\n",
    "    hold = true\n",
    "    plot([mu_vals[1],mu_vals[end]],[c^2,c^2])\n",
    "    ylim([0,200]) #ylim([0,2*c^2])\n",
    "    scatter(solutions,c^2*ones(length(solutions)))\n",
    "        legend([\"Secular Equation\",\"y = c^2\",\"Found by algorithm\"],fontsize=8)\n",
    "    end\n",
    "end"
   ]
  },
  {
   "cell_type": "code",
   "execution_count": 100,
   "metadata": {
    "collapsed": false
   },
   "outputs": [
    {
     "data": {
      "text/plain": [
       "1x4 Array{Float64,2}:\n",
       " 1.0  -0.0  -8.0  0.4444"
      ]
     },
     "execution_count": 100,
     "metadata": {},
     "output_type": "execute_result"
    }
   ],
   "source": [
    "w = [-1,-0,8,-0.4444]\n",
    "\n",
    "w'*w[1]"
   ]
  }
 ],
 "metadata": {
  "kernelspec": {
   "display_name": "Julia",
   "language": "julia",
   "name": "julia"
  },
  "language_info": {
   "name": "julia",
   "version": "0.3.6"
  }
 },
 "nbformat": 4,
 "nbformat_minor": 0
}
