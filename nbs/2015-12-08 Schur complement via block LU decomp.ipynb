{
 "cells": [
  {
   "cell_type": "markdown",
   "metadata": {},
   "source": [
    "## Schur complement via block LU decomposition"
   ]
  },
  {
   "cell_type": "code",
   "execution_count": null,
   "metadata": {
    "collapsed": true
   },
   "outputs": [],
   "source": [
    "\"\"\"\n",
    "Naive LU decomposition (no pivoting) from\n",
    "[Bindel's CS6210 class notes](http://www.cs.cornell.edu/~bindel/class/cs6210-f12/notes/lec09.pdf).\n",
    "\n",
    "Beware A[1,1] = 0...\n",
    "\"\"\"\n",
    "function mylu(A)\n",
    "    m,n = size(A)\n",
    "    for j = 1:n-1\n",
    "        A[j+1:n,j] = A[j+1:n,j]/A[j,j]\n",
    "        A[j+1:n,j+1:n] = A[j+1:n,j+1:n] - A[j+1:n,j]*A[j,j+1:n]\n",
    "    end\n",
    "    return A\n",
    "end\n",
    "\n",
    "\"\"\"\n",
    "Return A[i2,i2] - A[i2,i1]*inv(A[i1,i1])*A[i1,i2].\n",
    "\n",
    "Uses block LU decomposition.\n",
    "\"\"\"\n",
    "function schurcomp(A,i1,i2)\n",
    "    A11 = lufact(A[i1,i1])\n",
    "    if issparse(A)\n",
    "        L11,U11,p,q,Rs = A11[:(:)]\n",
    "        P = pvec2mat(p)\n",
    "        Q = pvec2mat(q)\n",
    "        Rs = diagm(Rs)\n",
    "        \n",
    "        L21 = (A[i2,i1]*Q)/UpperTriangular(U11)\n",
    "        U12 = LowerTriangular(L11)\\(P*Rs*A[i1,i2])\n",
    "        \n",
    "        S = A[i2,i2] - L21*U12\n",
    "        return S,(P,Q,Rs)\n",
    "    else\n",
    "        P = pvec2mat(A11[:p])\n",
    "        println(A11[:p])\n",
    "        L11 = A11[:L]\n",
    "        U11 = A11[:U]\n",
    "\n",
    "        L21 = A[i2,i1]/UpperTriangular(U11)\n",
    "        U12 = LowerTriangular(L11)\\(P*A[i1,i2])\n",
    "\n",
    "        S = A[i2,i2] - L21*U12\n",
    "        return S\n",
    "    end\n",
    "end\n",
    "\n",
    "function pvec2mat(p)\n",
    "    n = length(p)\n",
    "    P = zeros(n,n)\n",
    "    for i in 1:n\n",
    "        P[i,:] = ej(n,p[i])\n",
    "    end\n",
    "    return sparse(P)\n",
    "end\n",
    "\n",
    "function ej(n,i)\n",
    "    v = zeros(n)\n",
    "    v[i] = 1.0\n",
    "    return v\n",
    "end"
   ]
  },
  {
   "cell_type": "code",
   "execution_count": null,
   "metadata": {
    "collapsed": true
   },
   "outputs": [],
   "source": [
    "A = rand(5,5)\n",
    "i1 = [1;2;3]\n",
    "i2 = [4;5]\n",
    "schurcomp(A,i1,i2)"
   ]
  },
  {
   "cell_type": "code",
   "execution_count": null,
   "metadata": {
    "collapsed": true
   },
   "outputs": [],
   "source": [
    "A = sprandn(5,5,0.8)\n",
    "i1 = [1;2;3]\n",
    "i2 = [4;5]\n",
    "S,rest = schurcomp(A,i1,i2)\n",
    "\n",
    "A = full(A)\n",
    "S - (A[i2,i2] - (A[i2,i1]/A[i1,i1])*A[i1,i2])\n",
    "\n",
    "[full(rest[1]) full(rest[2])]"
   ]
  },
  {
   "cell_type": "code",
   "execution_count": null,
   "metadata": {
    "collapsed": true
   },
   "outputs": [],
   "source": [
    "S - (A[i2,i2] - (A[i2,i1]/A[i1,i1])*A[i1,i2])"
   ]
  },
  {
   "cell_type": "code",
   "execution_count": null,
   "metadata": {
    "collapsed": true
   },
   "outputs": [],
   "source": [
    "(A[i2,i2] - (A[i2,i1]/A[i1,i1])*A[i1,i2])"
   ]
  },
  {
   "cell_type": "code",
   "execution_count": null,
   "metadata": {
    "collapsed": true
   },
   "outputs": [],
   "source": [
    "A = full(A)\n",
    "A[i2,i2] - (A[i2,i1]/A[i1,i1])*A[i1,i2]"
   ]
  },
  {
   "cell_type": "code",
   "execution_count": null,
   "metadata": {
    "collapsed": true
   },
   "outputs": [],
   "source": [
    "L11,U11,p,q,Rs = lufact(A[i1,i1])[:(:)]\n",
    "\n",
    "P = pvec2mat(p)\n",
    "Q = pvec2mat(q)\n",
    "\n",
    "L21 = full(A[i2,i1]*Q)/UpperTriangular(U11)"
   ]
  },
  {
   "cell_type": "code",
   "execution_count": null,
   "metadata": {
    "collapsed": true
   },
   "outputs": [],
   "source": [
    "U12 = full(L11)\\(P*(Rs.*A[i1,i2]))\n",
    "\n",
    "S = A[i2,i2] - L21*U12"
   ]
  },
  {
   "cell_type": "code",
   "execution_count": null,
   "metadata": {
    "collapsed": true
   },
   "outputs": [],
   "source": [
    "Rs = [2;3;4;5;6]\n",
    "\n",
    "(1./Rs).*Rs.*A == A"
   ]
  }
 ],
 "metadata": {
  "kernelspec": {
   "display_name": "Julia 0.4.0",
   "language": "julia",
   "name": "julia-0.4"
  },
  "language_info": {
   "file_extension": ".jl",
   "mimetype": "application/julia",
   "name": "julia",
   "version": "0.4.1"
  }
 },
 "nbformat": 4,
 "nbformat_minor": 0
}
