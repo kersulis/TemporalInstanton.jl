{
 "cells": [
  {
   "cell_type": "markdown",
   "metadata": {},
   "source": [
    "# Report on transmission line heating"
   ]
  },
  {
   "cell_type": "markdown",
   "metadata": {},
   "source": [
    "The change in temperature of any object may be expressed as a differential equation. This equation, called the heat balance equation, relates change in temperature to a sum of various sources of heating. For a transmission line, these sources are:\n",
    "\n",
    "* Resistive heating, also known as $I^2R$ losses. This heat source is a function of power flow on the line. In general, the line's resistance varies with temperature, making this calculation more complicated than it appears.\n",
    "\n",
    "* Convective heating, which is directly proportional to the temperature difference between the line and the surrounding air. If the line is hotter than the surrounding air, it will \"give off heat\" via convection -- particles moving away from the line will carry energy with them.\n",
    "\n",
    "* Radiative heating. This heating is related to line and ambient temperatures raised to the fourth power. Physically, thermal radiation is the process by which thermal energy is converted to electromagnetic energy. It takes place in all objects whose abosolute temperature is greater than zero.\n",
    "\n",
    "* Solar irradiation. The sun imparts energy to the transmission line according. The magnitude of this energy transfer is a function of clouds, geometry, and the line's insulation material. Reflective insulation admits very little solar energy, while black insulation results in significant solar thermal heating."
   ]
  },
  {
   "cell_type": "markdown",
   "metadata": {},
   "source": [
    "These heat sources are summed together in the heat balance equation, which tells us how quickly (and in what direction) the transmission line's temperature will change:\n",
    "\n",
    "\n",
    "\\begin{align}\n",
    "\\frac{dT_{avg}}{dt} &= \\frac{1}{m\\cdot C_p}\\left[I^2\\cdot R(T_{avg}) - q_c - q_r + q_s \\right]\n",
    "\\end{align}\n",
    "\n",
    "In this equation, $I^2\\cdot R(T_{avg})$ represents line losses, $q_c$ is the convective heat rate, $q_r$ is the radiative heat rate, and $q_s$ is the solar heat rate. \n",
    "\n",
    "* In our model, $I^2\\cdot R(T_{avg})$ is replaced by $f_{ij}^\\text{loss}$, the DC approximate line losses.\n",
    "\n",
    "* The convective heat rate is expressed as $\\eta_c\\cdot(T - T_\\text{amb})$, where $T$ is the line temperature and $T_\\text{amb}$ is the ambient temperature. \n",
    "\n",
    "* The radiative heat rate is given by $\\eta_r\\cdot\\left[(T + 273)^4 - (T_\\text{amb} + 273)^4\\right]$.\n",
    "\n",
    "* The solar heat rate is fixed to some conservative constant (say, full direct sun)."
   ]
  },
  {
   "cell_type": "markdown",
   "metadata": {},
   "source": [
    "When the heat balance is combined with a given initial temperature, the resulting initial value problem makes it possible to determine the temperature at some later time. Let's substitute what we know into the differential equation and attempt to solve it:\n",
    "\n",
    "\\begin{align}\n",
    "\\dot{T}(t) &= \\frac{1}{mC_p}\\left[ f_{ij}^\\text{loss} - \\eta_c\\left( T(t) - T_\\text{amb}\\right) - \\eta_r\\left((T(t) + 273)^4 - (T_\\text{amb} + 273)^4\\right) + q_s \\right]\n",
    "\\end{align}\n",
    "\n",
    "Suppose that power flow, ambient temperature, and solar heat rate are constant during the temperature change calculation. Then there are only two variable terms on the right-hand side: one first-order, one fourth-order. The fourth-order term (which corresponds to radiative heat loss) makes this equation difficult to solve. Fortunately, the radiative heat loss rate behaves approximately linearly over the temperature range we are interested in. The figure below illustrates this linear behavior. (Note that it is better to underestimate the radiative heat loss rate -- this is conservative.)\n",
    "\n",
    "<img src=\"../images/rad_approx.png\" width=500px>\n",
    "\n",
    "The green trace is the linearization of $q_r$ about the $T_\\text{mid}$, the midpoint between the ambient and limit temperatures. Let's replace $q_r$ by this linear approximation $\\tilde{q}_r$:\n",
    "\n",
    "\\begin{align}\n",
    "\\dot{T}(t) &= \\frac{1}{mC_p}\\left[ f_{ij}^\\text{loss} - \\eta_c\\left( T(t) - T_\\text{amb}\\right) - \\tilde{q}_r + q_s \\right]\n",
    "\\end{align}\n",
    "\n",
    "where\n",
    "\n",
    "\\begin{align}\n",
    "\\tilde{q}_r &= \\eta_r  \\left( (T_\\text{mid} + 273)^4 - (T_\\text{amb} + 273)^4\\right) + 4\\eta_r(T_\\text{mid} + 273)^3\\cdot(T(t) - T_\\text{mid})\n",
    "\\end{align}"
   ]
  },
  {
   "cell_type": "markdown",
   "metadata": {},
   "source": [
    "After simplification, the approximate heat balance equation becomes\n",
    "\n",
    "\\begin{align}\n",
    "\\dot{T}(t) &= aT(t) + b\n",
    "\\end{align}\n",
    "\n",
    "where\n",
    "\n",
    "\\begin{align}\n",
    "a &= \\frac{1}{mC_p} \\left[ -\\eta_c - 4\\eta_r(T_\\text{mid} + 273)^3 \\right] \\\\\n",
    "b &= \\frac{1}{mC_p} \\left[ f_{ij}^\\text{loss} + \\eta_cT_\\text{amb} - \\eta_r \\left( (T_\\text{mid} + 273)^4 - (T_\\text{amb} + 273)^4 \\right) + 4\\eta_rT_\\text{mid}(T_\\text{mid} + 273)^3 + q_s \\right]\n",
    "\\end{align}\n",
    "\n",
    "This differential equation has a straightforward solution:\n",
    "\n",
    "\\begin{align}\n",
    "T(t) &= ke^{at} - \\frac{b}{a}\n",
    "\\end{align}\n",
    "\n",
    "where $k=T(0) + b/a$. Note that $b$ is influenced by power flow (via $f_{ij}^\\text{loss}$), but $a$ is not."
   ]
  },
  {
   "cell_type": "markdown",
   "metadata": {},
   "source": [
    "# Line temperature simulation\n",
    "\n",
    "Suppose we want to track line temperature over the course of 30 minutes, and we are able to update power flow information every 10 minutes. Each time the angle difference across the line changes, so do the DC-approximate losses. When losses change, the constants $b$ and $k$ change in the temperature equation. Also, the temperature at the end of each 10-minute interval must be used as the initial temperature of the next interval.\n",
    "\n",
    "The following figure is a plot of temperature versus time for a single transmission line. The line's parameters were chosen according to typical RTS-96 values. The three sliders represent angle difference (in radians) across the line during each 10-minute interval. The angle difference is large enough during the first interval to cause the line to heat up, but small enough in the second interval to allow it to cool down. The angle difference in the third interval is large enough to drive the line to its temperature limit (horizontal red line) by the last time step.\n",
    "\n",
    "<img src=\"../images/multi-step-heating.png\" width=900>"
   ]
  }
 ],
 "metadata": {
  "kernelspec": {
   "display_name": "Julia",
   "language": "julia",
   "name": "julia"
  },
  "language_info": {
   "name": "julia",
   "version": "0.3.7"
  }
 },
 "nbformat": 4,
 "nbformat_minor": 0
}
