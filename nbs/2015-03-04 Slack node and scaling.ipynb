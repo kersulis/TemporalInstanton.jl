{
 "cells": [
  {
   "cell_type": "markdown",
   "metadata": {},
   "source": [
    "Here I modify my code to make the slack bus selectable.\n",
    "\n",
    "Recall that there are four components of an instance of the temporal instanton problem:\n",
    "\n",
    "* $n$, $n_r$, and $T$\n",
    "\n",
    "* $Q_x$, which depends on desired correlation\n",
    "\n",
    "* $A$, which depends on admittance matrix $Y$\n",
    "\n",
    "* $b$, which depends on $G^0$ and $D$\n",
    "\n",
    "* $Q_\\theta$, which depends on $\\tau$ and the line we wish to overload\n",
    "\n",
    "$Q_x$ does not depend on the choice of slack node, nor does $b$. $A$ does depend on which bus is chosen to be slack. Here is a modified method that accepts the index of the slack node as an argument and generates an A matrix:"
   ]
  },
  {
   "cell_type": "code",
   "execution_count": 46,
   "metadata": {
    "collapsed": false
   },
   "outputs": [
    {
     "data": {
      "text/plain": [
       "tmp_inst_A (generic function with 1 method)"
      ]
     },
     "execution_count": 46,
     "metadata": {},
     "output_type": "execute_result"
    }
   ],
   "source": [
    "function tmp_inst_A(n,Ridx,T,Y,slack,k)\n",
    "    \"\"\" Generate the power balance constraint A matrix\n",
    "    from problem dimensions, admittance matrix,\n",
    "    and generator participation factors.\n",
    "    Assumes the admittance matrix is n-by-n.\n",
    "    \n",
    "    Returns A, which is (n+1)*T-by-(n+nr)*T\n",
    "    \n",
    "    * n is the number of nodes in the network\n",
    "    * Ridx is a vector indicating wind nodes\n",
    "    * T is the number of time steps\n",
    "    * Y is the admittance matrix (n-by-n)\n",
    "    * slack is the index of the slack bus\n",
    "    * k is the vector of generator participation factors\n",
    "    \"\"\"\n",
    "    \n",
    "    # zero out slack row of Y:\n",
    "    adm = deepcopy(Y)\n",
    "    adm[slack,:] = zeros(n)\n",
    "    \n",
    "    # remove slack column of Y:\n",
    "    adm = adm[:,setdiff(1:n,slack)]\n",
    "    \n",
    "    # A has a block diagonal pattern where each\n",
    "    # block is Atemp:\n",
    "    Atemp = zeros(n+1,2*n)\n",
    "    Atemp = [[-eye(n) adm -k]; ones(1,n) zeros(1,n-1) 1]\n",
    "    \n",
    "    # Remove columns corresponding to non-wind nodes\n",
    "    # and slack node:\n",
    "    Atemp = sparse(Atemp[:,[Ridx,n+1:2*n]])\n",
    "    \n",
    "    # Now we can tile the Atemp matrix to generate A:\n",
    "    A = Atemp\n",
    "    for t = 2:T\n",
    "        A = blkdiag(A, Atemp)\n",
    "    end\n",
    "    \n",
    "    return A\n",
    "end"
   ]
  },
  {
   "cell_type": "code",
   "execution_count": 50,
   "metadata": {
    "collapsed": true
   },
   "outputs": [
    {
     "data": {
      "text/plain": [
       "8x12 Array{Float64,2}:\n",
       " -1.0   0.0   0.0  2.0  3.0  -0.25   0.0   0.0   0.0  0.0  0.0   0.0 \n",
       "  0.0  -1.0   0.0  3.0  4.0  -0.25   0.0   0.0   0.0  0.0  0.0   0.0 \n",
       "  0.0   0.0  -1.0  0.0  0.0  -0.5    0.0   0.0   0.0  0.0  0.0   0.0 \n",
       "  1.0   1.0   1.0  0.0  0.0   1.0    0.0   0.0   0.0  0.0  0.0   0.0 \n",
       "  0.0   0.0   0.0  0.0  0.0   0.0   -1.0   0.0   0.0  2.0  3.0  -0.25\n",
       "  0.0   0.0   0.0  0.0  0.0   0.0    0.0  -1.0   0.0  3.0  4.0  -0.25\n",
       "  0.0   0.0   0.0  0.0  0.0   0.0    0.0   0.0  -1.0  0.0  0.0  -0.5 \n",
       "  0.0   0.0   0.0  0.0  0.0   0.0    1.0   1.0   1.0  0.0  0.0   1.0 "
      ]
     },
     "execution_count": 50,
     "metadata": {},
     "output_type": "execute_result"
    }
   ],
   "source": [
    "# Test generateA and generateb:\n",
    "n = 3\n",
    "Ridx = [1,2,3]\n",
    "T = 2\n",
    "Y = [2 3 4;\n",
    "    3 4 3;\n",
    "    2 3 4]\n",
    "slack = 3\n",
    "k = [0.25,0.25,0.5]\n",
    "\n",
    "A = tmp_inst_A(n,Ridx,T,Y,slack,k)\n",
    "full(A)"
   ]
  },
  {
   "cell_type": "markdown",
   "metadata": {},
   "source": [
    "## Modified $Q_\\theta$\n",
    "\n",
    "If we allow the slack node to be passed as an argument, we must build $Q_\\theta$ and remove the appropriate row and column afterward. The following method does this:"
   ]
  },
  {
   "cell_type": "code",
   "execution_count": 55,
   "metadata": {
    "collapsed": false
   },
   "outputs": [
    {
     "data": {
      "text/plain": [
       "tmp_inst_Qtheta (generic function with 1 method)"
      ]
     },
     "execution_count": 55,
     "metadata": {},
     "output_type": "execute_result"
    }
   ],
   "source": [
    "function tmp_inst_Qtheta(n,nr,T,tau,line,slack)\n",
    "    \"\"\" Generate Q_theta in the temperature constraint\n",
    "    of a temporal instanton problem instance.\n",
    "    \"line\" has the form (i,k), where i and k refer to\n",
    "    the endpoints of the chosen line.\n",
    "    \"\"\"\n",
    "    Qtheta = zeros((n+nr)*T,(n+nr)*T)\n",
    "    i,k = line\n",
    "    ei = zeros(n,1)\n",
    "    ei[i] = 1\n",
    "    ek = zeros(n,1)\n",
    "    ek[k] = 1\n",
    "    \n",
    "    Q0 = (ei - ek)*(ei - ek)'\n",
    "    \n",
    "    Q0 = Q0[:,setdiff(1:n,slack)]\n",
    "    Q0 = Q0[setdiff(1:n,slack),:]\n",
    "    \n",
    "    for t = 1:T\n",
    "        start = nr + 1 + (nr+n)*(t-1)\n",
    "        stop = start + n - 2\n",
    "        Qtheta[start:stop,start:stop] = tau^(T-t)*Q0\n",
    "    end\n",
    "    return sparse(Qtheta)\n",
    "end"
   ]
  },
  {
   "cell_type": "code",
   "execution_count": 86,
   "metadata": {
    "collapsed": false
   },
   "outputs": [
    {
     "data": {
      "text/plain": [
       "5x5 Array{Float64,2}:\n",
       " 0.0  0.0  0.0  0.0  0.0\n",
       " 0.0  0.0  0.0  0.0  0.0\n",
       " 0.0  0.0  1.0  0.0  0.0\n",
       " 0.0  0.0  0.0  0.0  0.0\n",
       " 0.0  0.0  0.0  0.0  0.0"
      ]
     },
     "execution_count": 86,
     "metadata": {},
     "output_type": "execute_result"
    }
   ],
   "source": [
    "n = 4\n",
    "nr = 1\n",
    "T = 1\n",
    "tau = 2\n",
    "line = (1,3)\n",
    "k = [0.25,0.25,0.5]\n",
    "slack = 1\n",
    "\n",
    "Qtheta = tmp_inst_Qtheta(n,nr,T,tau,line,slack)\n",
    "full(Qtheta)"
   ]
  },
  {
   "cell_type": "markdown",
   "metadata": {},
   "source": [
    "## Generating RTS-96 generation and demand data\n",
    "\n",
    "Because we do not have time-coupled data for the RTS-96 network, we need to generate some.\n",
    "\n",
    "I could take multiple hours from the ARPA data Jenny gave me.\n",
    "\n"
   ]
  },
  {
   "cell_type": "code",
   "execution_count": 87,
   "metadata": {
    "collapsed": false
   },
   "outputs": [
    {
     "data": {
      "text/plain": [
       "readRTS96Data (generic function with 1 method)"
      ]
     },
     "execution_count": 87,
     "metadata": {},
     "output_type": "execute_result"
    }
   ],
   "source": [
    "include(\"../src/tmp_inst_rts96.jl\")"
   ]
  },
  {
   "cell_type": "code",
   "execution_count": 89,
   "metadata": {
    "collapsed": true
   },
   "outputs": [
    {
     "data": {
      "text/plain": [
       "(100.0,[1,1,1,2,2,3,3,4,5,6  …  66,66,67,67,68,68,69,73,66,71],[2,3,5,4,6,9,24,9,10,10  …  69,69,68,68,71,71,70,21,47,73],[0.003,0.055,0.022,0.033,0.05,0.031,0.002,0.027,0.023,0.014  …  0.003,0.003,0.005,0.005,0.003,0.003,0.009,0.012,0.013,0.0],[0.014,0.211,0.085,0.127,0.192,0.119,0.084,0.104,0.088,0.061  …  0.026,0.026,0.04,0.04,0.022,0.022,0.068,0.097,0.104,0.009],[0.461,0.057,0.023,0.034,0.052,0.032,0.0,0.028,0.024,2.459  …  0.055,0.055,0.083,0.083,0.046,0.046,0.142,0.203,0.218,0.0],\n",
       "73x73 sparse matrix with 289 Float64 entries:\n",
       "\t[1 ,  1]  =  87.9326\n",
       "\t[2 ,  1]  =  -71.4286\n",
       "\t[3 ,  1]  =  -4.73934\n",
       "\t[5 ,  1]  =  -11.7647\n",
       "\t[1 ,  2]  =  -71.4286\n",
       "\t[2 ,  2]  =  84.5109\n",
       "\t[4 ,  2]  =  -7.87402\n",
       "\t[6 ,  2]  =  -5.20833\n",
       "\t[1 ,  3]  =  -4.73934\n",
       "\t[3 ,  3]  =  25.0475\n",
       "\t⋮\n",
       "\t[60, 71]  =  -10.3093\n",
       "\t[61, 71]  =  -11.4943\n",
       "\t[68, 71]  =  -90.9091\n",
       "\t[71, 71]  =  223.824\n",
       "\t[73, 71]  =  -111.111\n",
       "\t[51, 72]  =  -11.9048\n",
       "\t[63, 72]  =  -19.2308\n",
       "\t[72, 72]  =  31.1355\n",
       "\t[21, 73]  =  -10.3093\n",
       "\t[71, 73]  =  -111.111\n",
       "\t[73, 73]  =  121.42,\n",
       "\n",
       "[2.0,2.0,1.0,1.0,1.0,1.0,2.0,1.0,1.0,1.0  …  2.0,1.0,2.0,1.0,1.0,2.0,2.0,2.0,1.0,1.0],[1.72,1.72,0.0,0.0,0.0,0.0,1.6,0.8,0.0,0.0  …  1.55,0.0,4.0,0.0,0.0,4.0,3.0,6.6,0.0,0.0],[0.282,0.14,0.0,0.0,0.0,0.0,0.344,0.172,0.0,0.0  …  0.2522,0.0,1.374,0.0,0.0,1.082,-0.2976,1.3536,0.0,0.0],[0.706713,0.632322,1.17166,0.48354,0.464943,0.89269,0.818299,1.11586,1.13446,1.26464  …  0.65092,0.0,2.17593,1.19025,0.836897,0.0,0.0,0.0,0.0,0.0],[0.22,0.2,0.37,0.15,0.14,0.28,0.25,0.35,0.36,0.4  …  0.2,0.0,0.68,0.37,0.26,0.0,0.0,0.0,0.0,0.0],[0.0,0.0820657,0.0,0.0,0.0,0.0,0.0,0.0,0.0,0.0  …  0.0,0.0,0.0,0.0,0.0,0.0,0.0,0.0,0.0,0.0],[0.0,0.0397198,0.0,0.0,0.0,0.0,0.0,0.0,0.0,0.0  …  0.0,0.0,0.0,0.0,0.0,0.0,0.0,0.0,0.0,0.0],[0.2,0.2,0.76,0.76,0.2,0.2,0.76,0.76,1.0,1.0  …  4.0,0.5,0.5,0.5,0.5,0.5,0.5,1.55,1.55,3.5],[0.08,0.08,0.4,0.4,0.08,0.08,0.4,0.4,0.4,0.4  …  1.0,0.26,0.26,0.26,0.26,0.26,0.26,0.5424,0.5424,1.4],[0.1,0.1,0.3,0.3,0.1,0.1,0.3,0.3,0.6,0.6  …  2.0,0.16,0.16,0.16,0.16,0.16,0.16,0.8,0.8,1.5],[0.0,0.0,-0.25,-0.25,0.0,0.0,-0.25,-0.25,0.0,0.0  …  -0.5,-0.1,-0.1,-0.1,-0.1,-0.1,-0.1,-0.5,-0.5,-0.25],[1.12,1.12,1.12,1.12,1.12,1.12,2.56,1.12,1.12,1.12  …  3.2,3.2,3.2,3.2,3.2,3.2,3.2,3.2,3.2,4.6208],[1.035,1.035,1.035,1.035,1.035,1.035,1.035,1.035,1.025,1.025  …  1.05,1.05,1.05,1.05,1.05,1.05,1.05,1.05,1.05,1.05],[1.0,1.0,1.1,1.1,1.1,1.1,1.0,1.1,1.1,1.1  …  1.0,1.1,1.0,1.1,1.1,1.0,1.0,1.0,1.1,1.1],[1.0,1.0,0.9,0.9,0.9,0.9,1.0,0.9,0.9,0.9  …  1.0,0.9,1.0,0.9,0.9,1.0,1.0,1.0,0.9,0.9],[101.0,102.0,103.0,104.0,105.0,106.0,107.0,108.0,109.0,110.0  …  316.0,317.0,318.0,319.0,320.0,321.0,322.0,323.0,324.0,325.0],73,18,33,[0.030303,0.030303,0.0,0.0,0.0,0.0,0.030303,0.030303,0.0,0.0  …  0.030303,0.0,0.030303,0.0,0.0,0.030303,0.030303,0.030303,0.0,0.0])"
      ]
     },
     "execution_count": 89,
     "metadata": {},
     "output_type": "execute_result"
    }
   ],
   "source": [
    "psData = psDataLoad()\n",
    "# unpack psDL (boilerplate):\n",
    "(Sb,f,t,r,x,b,Y,bustype,\n",
    "Gp,Gq,Dp,Dq,Rp,Rq,\n",
    "Pmax,Pmin,Qmax,Qmin,Plim,\n",
    "Vg,Vceiling,Vfloor,\n",
    "busIdx,N,Nr,Ng,k) = unpack_psDL(psData)"
   ]
  },
  {
   "cell_type": "markdown",
   "metadata": {},
   "source": [
    "## Scale $\\theta_i$ to obtain norm constraint\n",
    "\n",
    "The form of the trust region subproblem requires the quadratic constraint to take the form of a norm constraint.\n",
    "\n",
    "To replace our quadratic constraint with a norm constraint, we introduce one additional variable per time step called $\\hat{\\theta}_{ik}^{(t)}$. This variable is defined in terms of the angle variables associated with the endpoints of the chosen line $(i,k)$:\n",
    "\n",
    "\\begin{align}\n",
    "\\hat{\\theta}_{ik}^{(t)} &= \\tau^{\\frac{1}{2}(T-t)}\\left(\\theta_i^{(t)} - \\theta_k^{(t)}\\right) \\\\\n",
    "\\implies - \\tau^{\\frac{1}{2}(T-t)}(\\theta_i) + \\tau^{\\frac{1}{2}(T-t)}(\\theta_k) + \\hat{\\theta}_{ik}^{(t)} &= 0\n",
    "\\end{align}\n",
    "\n",
    "With the new variables $\\hat{\\theta}_{ik}$ defined in this way, we can replace $$z^\\top Q_\\theta z=c$$ by $$\\lVert \\hat{\\theta}_{ik}\\rVert=c~.$$ This is the norm constraint we desire.\n",
    "\n",
    "We extend the vector of variables $z$ to include these $T$ additional variables, and we augment $A$ and $b$ to reflect the above relationship."
   ]
  },
  {
   "cell_type": "code",
   "execution_count": 5,
   "metadata": {
    "collapsed": false
   },
   "outputs": [
    {
     "data": {
      "text/plain": [
       "tmp_inst_A_scale (generic function with 1 method)"
      ]
     },
     "execution_count": 5,
     "metadata": {},
     "output_type": "execute_result"
    }
   ],
   "source": [
    "function tmp_inst_A_scale(n,Ridx,T,tau,slack,line)\n",
    "    \"\"\" Augment A with T additional rows relating\n",
    "    angle difference variables to angle variables.\n",
    "    \n",
    "    Returns a T-by-(n+nr+1)*T matrix that may be\n",
    "    concatenated with the output of temp_inst_A\n",
    "    \n",
    "    Arguments:    \n",
    "    * n is the number of nodes in the network\n",
    "    * Ridx is a vector indicating wind nodes\n",
    "    * T is the number of time steps\n",
    "    * tau is the thermal coefficient from IEEE 738\n",
    "    * slack is the index of the slack bus\n",
    "    * line is the pair (i,k) indicating the chosen\n",
    "    line\n",
    "    \"\"\"\n",
    "    (i,k) = line\n",
    "    nr = length(Ridx)\n",
    "    \n",
    "    A = zeros(T,(nr+n+2)*T)\n",
    "    \n",
    "    for t = 1:T\n",
    "        i_pos = (nr+n+1)*(t-1) + n + i\n",
    "        k_pos = (nr+n+1)*(t-1) + n + k\n",
    "        coef = tau^((1/2)*(T-t))\n",
    "        A[t,i_pos] = -coef\n",
    "        A[t,k_pos] = coef\n",
    "        A[t,(n+nr+1)*T + t] = 1\n",
    "    end\n",
    "    slack_cols = [(nr+n+1)*(t-1) + nr + slack for t in 1:T]\n",
    "    \n",
    "    # remove slack columns:\n",
    "    return sparse(A[:,setdiff(1:(n+nr+2)*T,slack_cols)])\n",
    "end"
   ]
  },
  {
   "cell_type": "code",
   "execution_count": 11,
   "metadata": {
    "collapsed": false
   },
   "outputs": [
    {
     "data": {
      "text/plain": [
       "2x14 Array{Float64,2}:\n",
       " 0.0  0.0  0.0  -1.41421  1.41421  0.0  …  0.0  0.0   0.0  0.0  0.0  1.0  0.0\n",
       " 0.0  0.0  0.0   0.0      0.0      0.0     0.0  0.0  -1.0  1.0  0.0  0.0  1.0"
      ]
     },
     "execution_count": 11,
     "metadata": {},
     "output_type": "execute_result"
    }
   ],
   "source": [
    "n = 3\n",
    "Ridx = [1,2,3]\n",
    "T = 2\n",
    "tau = 2\n",
    "slack = 3\n",
    "line = (1,2)\n",
    "\n",
    "A2 = tmp_inst_A_scale(n,Ridx,T,tau,slack,line)\n",
    "full(A2)"
   ]
  },
  {
   "cell_type": "markdown",
   "metadata": {},
   "source": [
    "## Making $Q_\\theta$\n",
    "\n",
    "$Q_\\theta$ is an identity matrix in the lower-right corner with zeroes everywhere else."
   ]
  },
  {
   "cell_type": "code",
   "execution_count": 17,
   "metadata": {
    "collapsed": false
   },
   "outputs": [
    {
     "data": {
      "text/plain": [
       "tmp_inst_Qtheta (generic function with 2 methods)"
      ]
     },
     "execution_count": 17,
     "metadata": {},
     "output_type": "execute_result"
    }
   ],
   "source": [
    "function tmp_inst_Qtheta(n,nr,T,tau)\n",
    "    \"\"\" Generate Q_theta in the temperature constraint\n",
    "    of a temporal instanton problem instance.\n",
    "    \"line\" has the form (i,k), where i and k refer to\n",
    "    the endpoints of the chosen line.\n",
    "    \"\"\"\n",
    "    Qtheta = zeros((nr+n+1)*T,(nr+n+1)*T)\n",
    "    \n",
    "    Qtheta[end-T+1:end,end-T+1:end] = eye(T)\n",
    "    return sparse(Qtheta)\n",
    "end"
   ]
  },
  {
   "cell_type": "code",
   "execution_count": 20,
   "metadata": {
    "collapsed": true
   },
   "outputs": [
    {
     "data": {
      "text/plain": [
       "18x18 Array{Float64,2}:\n",
       " 0.0  0.0  0.0  0.0  0.0  0.0  0.0  0.0  …  0.0  0.0  0.0  0.0  0.0  0.0  0.0\n",
       " 0.0  0.0  0.0  0.0  0.0  0.0  0.0  0.0     0.0  0.0  0.0  0.0  0.0  0.0  0.0\n",
       " 0.0  0.0  0.0  0.0  0.0  0.0  0.0  0.0     0.0  0.0  0.0  0.0  0.0  0.0  0.0\n",
       " 0.0  0.0  0.0  0.0  0.0  0.0  0.0  0.0     0.0  0.0  0.0  0.0  0.0  0.0  0.0\n",
       " 0.0  0.0  0.0  0.0  0.0  0.0  0.0  0.0     0.0  0.0  0.0  0.0  0.0  0.0  0.0\n",
       " 0.0  0.0  0.0  0.0  0.0  0.0  0.0  0.0  …  0.0  0.0  0.0  0.0  0.0  0.0  0.0\n",
       " 0.0  0.0  0.0  0.0  0.0  0.0  0.0  0.0     0.0  0.0  0.0  0.0  0.0  0.0  0.0\n",
       " 0.0  0.0  0.0  0.0  0.0  0.0  0.0  0.0     0.0  0.0  0.0  0.0  0.0  0.0  0.0\n",
       " 0.0  0.0  0.0  0.0  0.0  0.0  0.0  0.0     0.0  0.0  0.0  0.0  0.0  0.0  0.0\n",
       " 0.0  0.0  0.0  0.0  0.0  0.0  0.0  0.0     0.0  0.0  0.0  0.0  0.0  0.0  0.0\n",
       " 0.0  0.0  0.0  0.0  0.0  0.0  0.0  0.0  …  0.0  0.0  0.0  0.0  0.0  0.0  0.0\n",
       " 0.0  0.0  0.0  0.0  0.0  0.0  0.0  0.0     0.0  0.0  0.0  0.0  0.0  0.0  0.0\n",
       " 0.0  0.0  0.0  0.0  0.0  0.0  0.0  0.0     0.0  0.0  0.0  0.0  0.0  0.0  0.0\n",
       " 0.0  0.0  0.0  0.0  0.0  0.0  0.0  0.0     0.0  0.0  0.0  0.0  0.0  0.0  0.0\n",
       " 0.0  0.0  0.0  0.0  0.0  0.0  0.0  0.0     0.0  0.0  0.0  0.0  0.0  0.0  0.0\n",
       " 0.0  0.0  0.0  0.0  0.0  0.0  0.0  0.0  …  0.0  0.0  0.0  0.0  1.0  0.0  0.0\n",
       " 0.0  0.0  0.0  0.0  0.0  0.0  0.0  0.0     0.0  0.0  0.0  0.0  0.0  1.0  0.0\n",
       " 0.0  0.0  0.0  0.0  0.0  0.0  0.0  0.0     0.0  0.0  0.0  0.0  0.0  0.0  1.0"
      ]
     },
     "execution_count": 20,
     "metadata": {},
     "output_type": "execute_result"
    }
   ],
   "source": [
    "Q = tmp_inst_Qtheta(3,2,3,2)\n",
    "full(Q)"
   ]
  }
 ],
 "metadata": {
  "kernelspec": {
   "display_name": "Julia",
   "language": "julia",
   "name": "julia"
  },
  "language_info": {
   "name": "julia",
   "version": "0.3.6"
  }
 },
 "nbformat": 4,
 "nbformat_minor": 0
}
