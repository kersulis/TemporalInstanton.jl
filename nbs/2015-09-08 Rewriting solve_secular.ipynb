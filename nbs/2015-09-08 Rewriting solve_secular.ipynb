{
 "cells": [
  {
   "cell_type": "markdown",
   "metadata": {},
   "source": [
    "## A better secular equation solver"
   ]
  },
  {
   "cell_type": "markdown",
   "metadata": {},
   "source": [
    "Until now I have been unable to perform temporal instanton anlysis on the Polish grid. There is something about it that makes it more difficult than other networks. No line has an instanton solution, so the `score` vector is just a vector with `nothing` entries. I believe this may be traced to a shortcoming in `solve_secular`.\n",
    "\n",
    "I begin by loading the Polish grid summer peak Matpower case to demonstrate the problem:"
   ]
  },
  {
   "cell_type": "code",
   "execution_count": 1,
   "metadata": {
    "collapsed": false,
    "scrolled": true
   },
   "outputs": [],
   "source": [
    "# single proc\n",
    "include(\"../src/TemporalInstanton.jl\")\n",
    "using TemporalInstanton"
   ]
  },
  {
   "cell_type": "code",
   "execution_count": 1,
   "metadata": {
    "collapsed": false,
    "scrolled": false
   },
   "outputs": [
    {
     "name": "stderr",
     "output_type": "stream",
     "text": [
      "WARNING: replacing module JLD\n",
      "WARNING: replacing module JLD\n",
      "WARNING: replacing module MAT_HDF5\n",
      "WARNING: Method definition read(Union{HDF5.HDF5Datatype, HDF5.HDF5Group, HDF5.HDF5Dataset}, Type{Bool}) in module MAT_HDF5 at /home/jkersulis/.julia/v0.4/MAT/src/MAT_HDF5.jl:562 overwritten in module MAT_HDF5 at /home/jkersulis/.julia/v0.4/MAT/src/MAT_HDF5.jl:562.\n",
      "WARNING: Method definition read(Union{HDF5.HDF5Datatype, HDF5.HDF5Group, HDF5.HDF5Dataset}, Type{Array{Bool, N<:Any}}) in module MAT_HDF5 at /home/jkersulis/.julia/v0.4/MAT/src/MAT_HDF5.jl:566 overwritten in module MAT_HDF5 at /home/jkersulis/.julia/v0.4/MAT/src/MAT_HDF5.jl:566.\n",
      "WARNING: replacing module MAT_HDF5\n",
      "WARNING: Method definition read(Union{HDF5.HDF5Datatype, HDF5.HDF5Group, HDF5.HDF5Dataset}, Type{Bool}) in module MAT_HDF5 at /home/jkersulis/.julia/v0.4/MAT/src/MAT_HDF5.jl:562 overwritten in module MAT_HDF5 at /home/jkersulis/.julia/v0.4/MAT/src/MAT_HDF5.jl:562.\n",
      "WARNING: Method definition read(Union{HDF5.HDF5Datatype, HDF5.HDF5Group, HDF5.HDF5Dataset}, Type{Array{Bool, N<:Any}}) in module MAT_HDF5 at /home/jkersulis/.julia/v0.4/MAT/src/MAT_HDF5.jl:566 overwritten in module MAT_HDF5 at /home/jkersulis/.julia/v0.4/MAT/src/MAT_HDF5.jl:566.\n",
      "WARNING: replacing module MAT_v5\n",
      "WARNING: replacing module MAT\n",
      "WARNING: replacing module MAT_v5\n",
      "WARNING: replacing module MAT\n",
      "WARNING: replacing module MatpowerCases\n",
      "WARNING: replacing module MatpowerCases\n"
     ]
    }
   ],
   "source": [
    "# two worker procs\n",
    "addprocs(2)\n",
    "@everywhere include(\"../src/TemporalInstanton.jl\")\n",
    "@everywhere using TemporalInstanton;"
   ]
  },
  {
   "cell_type": "code",
   "execution_count": 2,
   "metadata": {
    "collapsed": false
   },
   "outputs": [
    {
     "data": {
      "text/plain": [
       "mat2tmpinst (generic function with 1 method)"
      ]
     },
     "execution_count": 2,
     "metadata": {},
     "output_type": "execute_result"
    }
   ],
   "source": [
    "using MatpowerCases, HDF5, JLD\n",
    "\n",
    "\"\"\" 20150-09-06. Modified version of mat2tmpinst.\n",
    "Load (and generate) everything needed to perform temporal \n",
    "instanton analysis for any network supported by MatpowerCases.\n",
    "\n",
    "* `num_wind_farms`: how many wind farms do you want?\n",
    "* `wind_penetration`: desired value of sum(G0)/sum(R0)\n",
    "\n",
    "Note: each wind farm's output is sum(Gp)*wind_penetration/num_wind_farms\n",
    "\"\"\"\n",
    "function mat2tmpinst(\n",
    "    name::ASCIIString,\n",
    "    num_wind_farms::Int64,\n",
    "    wind_penetration::Float64;\n",
    "    return_as_type::Bool = true\n",
    "    )\n",
    "    mpc = loadcase(name,describe=false)\n",
    "    \n",
    "    bus_orig = mpc[\"bus\"][:,1]\n",
    "    bus_simple = collect(1:length(bus_orig))\n",
    "    \n",
    "    genBus = mpc[\"gen\"][:,1]\n",
    "    for i in bus_simple\n",
    "        genBus[genBus.==bus_orig[i]] = bus_simple[i]\n",
    "    end\n",
    "    \n",
    "    try\n",
    "        Sb = mpc[\"baseMVA\"]\n",
    "    catch\n",
    "        warn(\"Base MVA missing from mpc data.\")\n",
    "        Sb = 100.0\n",
    "    end\n",
    "    Gp_long = mpc[\"gen\"][:,2]\n",
    "\n",
    "    f = round(Int64,mpc[\"branch\"][:,1]) # \"from bus\" ...\n",
    "    t = round(Int64,mpc[\"branch\"][:,2]) # ... \"to bus\"\n",
    "    for i in bus_simple\n",
    "        f[f.==bus_orig[i]] = bus_simple[i]\n",
    "        t[t.==bus_orig[i]] = bus_simple[i]\n",
    "    end    \n",
    "    r = mpc[\"branch\"][:,3]              # resistance, pu\n",
    "    x = mpc[\"branch\"][:,4]              # reactance, pu\n",
    "    b = mpc[\"branch\"][:,5]              # susceptance, pu\n",
    "\n",
    "    Y = createY(f,t,x)\n",
    "\n",
    "    Gp = zeros(length(bus_simple))\n",
    "    for i in bus_simple\n",
    "        Gp[convert(Int64,i)] = sum(Gp_long[find(genBus.==i)])/Sb\n",
    "    end\n",
    "\n",
    "    Dp = mpc[\"bus\"][:,3]./Sb\n",
    "    \n",
    "    # convert generators into wind farms:\n",
    "    windsize = sum(Gp)*wind_penetration/num_wind_farms\n",
    "#     Ridx = rand(1:length(Gp),num_wind_farms)\n",
    "    Ridx = sortperm(Gp + Dp)[1:num_wind_farms]\n",
    "    \n",
    "    Rp = zeros(length(Gp))\n",
    "    Rp[Ridx] = windsize\n",
    "\n",
    "    Sb = Sb*1e6 # convert from MW to W\n",
    "\n",
    "    ref = 1\n",
    "\n",
    "    lines = [(f[i],t[i]) for i in 1:length(f)]\n",
    "    lines = convert(Array{Tuple{Int64,Int64},1},lines)\n",
    "\n",
    "#     res = r\n",
    "#     reac = x\n",
    "\n",
    "    # Allow each generator to participate equally in droop response.\n",
    "    k = Float64[]\n",
    "    for i = 1:length(Gp)\n",
    "        if Gp[i] != 0\n",
    "            push!(k, 1/length(find(Gp)))\n",
    "        else\n",
    "            push!(k,0)\n",
    "        end\n",
    "    end\n",
    "\n",
    "    # use RTS-96 line lengths to generate similar line lengths\n",
    "    line_lengths = load(\"../data/polish_line_lengths.jld\",\"line_lengths\")[1:length(lines)]\n",
    "\n",
    "    # temporary (re-use rts-96 line conductor parameters)\n",
    "    line_conductors = fill(\"waxwing\",length(line_lengths))\n",
    "    if return_as_type\n",
    "        return InstantonInputData(Ridx,Y,Gp,Dp,Rp,Sb,ref,lines,r,x,k,line_lengths,line_conductors,\n",
    "        NaN,NaN,NaN,0.0:0.0,Array{Float64,2}())\n",
    "    else\n",
    "        return Ridx,Y,Gp,Dp,Rp,Sb,ref,lines,r,x,k,line_lengths,line_conductors\n",
    "    end\n",
    "end"
   ]
  },
  {
   "cell_type": "code",
   "execution_count": 3,
   "metadata": {
    "collapsed": true
   },
   "outputs": [
    {
     "name": "stdout",
     "output_type": "stream",
     "text": [
      "\tFrom worker 3:\tfinished 1850/3693\n",
      "\tFrom worker 2:\tfinished 10/3693\n",
      "\tFrom worker 3:\tfinished 1860/3693\n",
      "\tFrom worker 3:\tfinished 1870/3693\n",
      "\tFrom worker 2:\tfinished 20/3693\n",
      "\tFrom worker 3:\tfinished 1880/3693\n"
     ]
    },
    {
     "name": "stderr",
     "output_type": "stream",
     "text": [
      "WARNING: expanding 1\n",
      "WARNING: expanding\n",
      "WARNING: expanding 1\n",
      "WARNING: expanding 1\n",
      "WARNING: expanding\n"
     ]
    },
    {
     "name": "stdout",
     "output_type": "stream",
     "text": [
      "\tFrom worker 2:\tfinished 30/3693\n"
     ]
    },
    {
     "name": "stderr",
     "output_type": "stream",
     "text": [
      "WARNING: expanding 1\n",
      "WARNING: expanding\n"
     ]
    },
    {
     "name": "stdout",
     "output_type": "stream",
     "text": [
      "\tFrom worker 3:\tfinished 1890/3693\n",
      "\tFrom worker 2:\tfinished 40/3693\n"
     ]
    },
    {
     "name": "stderr",
     "output_type": "stream",
     "text": [
      "WARNING: expanding 1\n",
      "WARNING: expanding 1\n",
      "WARNING: expanding\n",
      "WARNING: expanding 1\n",
      "WARNING: expanding\n",
      "WARNING: expanding 1\n",
      "WARNING: expanding 1\n",
      "WARNING: expanding\n",
      "WARNING: expanding 1\n",
      "WARNING: expanding\n"
     ]
    },
    {
     "name": "stdout",
     "output_type": "stream",
     "text": [
      "\tFrom worker 2:\tfinished 50/3693\n"
     ]
    },
    {
     "name": "stderr",
     "output_type": "stream",
     "text": [
      "WARNING: expanding 1\n",
      "WARNING: expanding\n",
      "WARNING: expanding 1\n",
      "WARNING: expanding\n"
     ]
    },
    {
     "name": "stdout",
     "output_type": "stream",
     "text": [
      "\tFrom worker 3:\tfinished 1900/3693\n"
     ]
    },
    {
     "name": "stderr",
     "output_type": "stream",
     "text": [
      "WARNING: expanding 1\n",
      "WARNING: expanding\n",
      "WARNING: expanding 1\n",
      "WARNING: expanding\n",
      "WARNING: expanding 1\n",
      "WARNING: expanding\n",
      "WARNING: expanding 1\n",
      "WARNING: expanding\n"
     ]
    },
    {
     "name": "stdout",
     "output_type": "stream",
     "text": [
      "\tFrom worker 2:\tfinished 60/3693\n",
      "\tFrom worker 3:\tfinished 1910/3693\n"
     ]
    },
    {
     "name": "stderr",
     "output_type": "stream",
     "text": [
      "WARNING: expanding 1\n",
      "WARNING: expanding 1\n",
      "WARNING: expanding\n"
     ]
    },
    {
     "name": "stdout",
     "output_type": "stream",
     "text": [
      "\tFrom worker 2:\tfinished 70/3693\n",
      "\tFrom worker 3:\tfinished 1920/3693\n"
     ]
    },
    {
     "name": "stderr",
     "output_type": "stream",
     "text": [
      "WARNING: expanding 1\n",
      "WARNING: expanding\n"
     ]
    },
    {
     "name": "stdout",
     "output_type": "stream",
     "text": [
      "\tFrom worker 2:\tfinished 80/3693\n",
      "\tFrom worker 3:\tfinished 1930/3693\n"
     ]
    },
    {
     "name": "stderr",
     "output_type": "stream",
     "text": [
      "WARNING: expanding 1\n",
      "WARNING: expanding\n"
     ]
    },
    {
     "name": "stdout",
     "output_type": "stream",
     "text": [
      "\tFrom worker 3:\tfinished 1940/3693\n"
     ]
    },
    {
     "name": "stderr",
     "output_type": "stream",
     "text": [
      "WARNING: expanding 1\n",
      "WARNING: expanding\n",
      "WARNING: expanding 1\n",
      "WARNING: expanding\n"
     ]
    },
    {
     "name": "stdout",
     "output_type": "stream",
     "text": [
      "\tFrom worker 2:\tfinished 90/3693\n",
      "\tFrom worker 3:\tfinished 1950/3693\n",
      "\tFrom worker 2:\tfinished 100/3693\n",
      "\tFrom worker 3:\tfinished 1960/3693\n"
     ]
    },
    {
     "name": "stderr",
     "output_type": "stream",
     "text": [
      "WARNING: expanding 1\n"
     ]
    },
    {
     "name": "stdout",
     "output_type": "stream",
     "text": [
      "\tFrom worker 3:\tfinished 1970/3693\n",
      "\tFrom worker 2:\tfinished 110/3693\n",
      "\tFrom worker 3:\tfinished 1980/3693\n",
      "\tFrom worker 2:\tfinished 120/3693\n",
      "\tFrom worker 3:\tfinished 1990/3693\n",
      "\tFrom worker 3:\tfinished 2000/3693\n"
     ]
    },
    {
     "name": "stderr",
     "output_type": "stream",
     "text": [
      "WARNING: expanding 1\n",
      "WARNING: expanding\n"
     ]
    },
    {
     "name": "stdout",
     "output_type": "stream",
     "text": [
      "\tFrom worker 2:\tfinished 130/3693\n"
     ]
    },
    {
     "name": "stderr",
     "output_type": "stream",
     "text": [
      "WARNING: expanding 1\n",
      "WARNING: expanding 2\n",
      "WARNING: expanding 3\n",
      "WARNING: expanding 4\n",
      "WARNING: expanding 5\n",
      "WARNING: expanding 6\n",
      "WARNING: expanding 7\n",
      "WARNING: expanding 8\n",
      "WARNING: expanding 9\n",
      "WARNING: expanding\n",
      "WARNING: expanding\n",
      "WARNING: expanding\n",
      "WARNING: expanding\n",
      "WARNING: expanding\n",
      "WARNING: expanding\n",
      "WARNING: expanding\n",
      "WARNING: expanding\n",
      "WARNING: expanding\n"
     ]
    },
    {
     "name": "stdout",
     "output_type": "stream",
     "text": [
      "\tFrom worker 3:\tfinished 2010/3693\n",
      "\tFrom worker 3:\tfinished 2020/3693\n",
      "\tFrom worker 2:\tfinished 140/3693\n",
      "\tFrom worker 3:\tfinished 2030/3693\n",
      "\tFrom worker 2:\tfinished 150/3693\n",
      "\tFrom worker 3:\tfinished 2040/3693\n"
     ]
    },
    {
     "name": "stderr",
     "output_type": "stream",
     "text": [
      "WARNING: expanding 1\n",
      "WARNING: expanding\n"
     ]
    },
    {
     "name": "stdout",
     "output_type": "stream",
     "text": [
      "\tFrom worker 2:\tfinished 160/3693\n"
     ]
    },
    {
     "name": "stderr",
     "output_type": "stream",
     "text": [
      "WARNING: expanding 1\n",
      "WARNING: expanding\n",
      "WARNING: expanding 1\n"
     ]
    },
    {
     "name": "stdout",
     "output_type": "stream",
     "text": [
      "\tFrom worker 3:\tfinished 2050/3693\n",
      "\tFrom worker 3:\tfinished 2060/3693\n",
      "\tFrom worker 2:\tfinished 170/3693\n"
     ]
    },
    {
     "name": "stderr",
     "output_type": "stream",
     "text": [
      "WARNING: expanding 1\n",
      "WARNING: expanding\n"
     ]
    },
    {
     "name": "stdout",
     "output_type": "stream",
     "text": [
      "\tFrom worker 3:\tfinished 2070/3693\n",
      "\tFrom worker 3:\tfinished 2080/3693\n",
      "\tFrom worker 2:\tfinished 180/3693\n",
      "\tFrom worker 3:\tfinished 2090/3693\n",
      "\tFrom worker 2:\tfinished 190/3693\n",
      "\tFrom worker 3:\tfinished 2100/3693\n"
     ]
    },
    {
     "name": "stderr",
     "output_type": "stream",
     "text": [
      "WARNING: expanding 1\n",
      "WARNING: expanding 1\n",
      "WARNING: expanding\n"
     ]
    },
    {
     "name": "stdout",
     "output_type": "stream",
     "text": [
      "\tFrom worker 2:\tfinished 200/3693\n"
     ]
    },
    {
     "name": "stderr",
     "output_type": "stream",
     "text": [
      "WARNING: expanding 1\n",
      "WARNING: expanding\n"
     ]
    },
    {
     "name": "stdout",
     "output_type": "stream",
     "text": [
      "\tFrom worker 3:\tfinished 2110/3693\n",
      "\tFrom worker 2:\tfinished 210/3693\n",
      "\tFrom worker 3:\tfinished 2120/3693\n"
     ]
    },
    {
     "name": "stderr",
     "output_type": "stream",
     "text": [
      "WARNING: expanding 1\n",
      "WARNING: expanding\n"
     ]
    },
    {
     "name": "stdout",
     "output_type": "stream",
     "text": [
      "\tFrom worker 2:\tfinished 220/3693\n",
      "\tFrom worker 3:\tfinished 2130/3693\n",
      "\tFrom worker 3:\tfinished 2140/3693\n",
      "\tFrom worker 2:\tfinished 230/3693\n"
     ]
    },
    {
     "name": "stderr",
     "output_type": "stream",
     "text": [
      "WARNING: expanding\n",
      "WARNING: expanding\n",
      "WARNING: expanding 1\n",
      "WARNING: expanding\n",
      "WARNING: expanding 1\n",
      "WARNING: expanding\n"
     ]
    },
    {
     "name": "stdout",
     "output_type": "stream",
     "text": [
      "\tFrom worker 3:\tfinished 2150/3693\n",
      "\tFrom worker 2:\tfinished 240/3693\n"
     ]
    },
    {
     "name": "stderr",
     "output_type": "stream",
     "text": [
      "WARNING: expanding 1\n"
     ]
    },
    {
     "name": "stdout",
     "output_type": "stream",
     "text": [
      "\tFrom worker 3:\tfinished 2160/3693\n",
      "\tFrom worker 2:\tfinished 250/3693\n",
      "\tFrom worker 3:\tfinished 2170/3693\n",
      "\tFrom worker 2:\tfinished 260/3693\n",
      "\tFrom worker 3:\tfinished 2180/3693\n",
      "\tFrom worker 2:\tfinished 270/3693\n"
     ]
    },
    {
     "name": "stderr",
     "output_type": "stream",
     "text": [
      "WARNING: expanding 1\n"
     ]
    },
    {
     "name": "stdout",
     "output_type": "stream",
     "text": [
      "\tFrom worker 3:\tfinished 2190/3693\n",
      "\tFrom worker 2:\tfinished 280/3693\n",
      "\tFrom worker 3:\tfinished 2200/3693\n",
      "\tFrom worker 2:\tfinished 290/3693\n"
     ]
    },
    {
     "name": "stderr",
     "output_type": "stream",
     "text": [
      "WARNING: expanding 1\n",
      "WARNING: expanding 2\n",
      "WARNING: expanding 3\n",
      "WARNING: expanding 4\n",
      "WARNING: expanding 5\n",
      "WARNING: expanding 6\n",
      "WARNING: expanding 7\n",
      "WARNING: expanding 8\n",
      "WARNING: expanding 9\n",
      "WARNING: expanding\n",
      "WARNING: expanding\n",
      "WARNING: expanding\n",
      "WARNING: expanding\n",
      "WARNING: expanding\n",
      "WARNING: expanding\n",
      "WARNING: expanding\n",
      "WARNING: expanding\n",
      "WARNING: expanding\n"
     ]
    },
    {
     "name": "stdout",
     "output_type": "stream",
     "text": [
      "\tFrom worker 3:\tfinished 2210/3693\n",
      "\tFrom worker 2:\tfinished 300/3693\n"
     ]
    },
    {
     "name": "stderr",
     "output_type": "stream",
     "text": [
      "WARNING: expanding 1\n",
      "WARNING: expanding 1\n",
      "WARNING: expanding\n"
     ]
    },
    {
     "name": "stdout",
     "output_type": "stream",
     "text": [
      "\tFrom worker 3:\tfinished 2220/3693\n"
     ]
    },
    {
     "name": "stderr",
     "output_type": "stream",
     "text": [
      "WARNING: expanding 1\n",
      "WARNING: expanding\n"
     ]
    },
    {
     "name": "stdout",
     "output_type": "stream",
     "text": [
      "\tFrom worker 2:\tfinished 310/3693\n",
      "\tFrom worker 3:\tfinished 2230/3693\n",
      "\tFrom worker 2:\tfinished 320/3693\n"
     ]
    },
    {
     "name": "stderr",
     "output_type": "stream",
     "text": [
      "WARNING: expanding 1\n",
      "WARNING: expanding\n"
     ]
    },
    {
     "name": "stdout",
     "output_type": "stream",
     "text": [
      "\tFrom worker 3:\tfinished 2240/3693\n",
      "\tFrom worker 2:\tfinished 330/3693\n",
      "\tFrom worker 3:\tfinished 2250/3693\n"
     ]
    },
    {
     "name": "stderr",
     "output_type": "stream",
     "text": [
      "WARNING: expanding 1\n",
      "WARNING: expanding\n"
     ]
    },
    {
     "name": "stdout",
     "output_type": "stream",
     "text": [
      "\tFrom worker 2:\tfinished 340/3693\n",
      "\tFrom worker 3:\tfinished 2260/3693\n"
     ]
    },
    {
     "name": "stderr",
     "output_type": "stream",
     "text": [
      "WARNING: expanding 1\n",
      "WARNING: expanding\n"
     ]
    },
    {
     "name": "stdout",
     "output_type": "stream",
     "text": [
      "\tFrom worker 2:\tfinished 350/3693\n",
      "\tFrom worker 3:\tfinished 2270/3693\n",
      "\tFrom worker 2:\tfinished 360/3693\n",
      "\tFrom worker 3:\tfinished 2280/3693\n",
      "\tFrom worker 2:\tfinished 370/3693\n"
     ]
    },
    {
     "name": "stderr",
     "output_type": "stream",
     "text": [
      "WARNING: c is too small; s(v) = c has no reasonable solution\n",
      "WARNING: c is too small; s(v) = c has no reasonable solution\n",
      "WARNING: c is too small; s(v) = c has no reasonable solution\n"
     ]
    },
    {
     "name": "stdout",
     "output_type": "stream",
     "text": [
      "\tFrom worker 3:\tfinished 2290/3693\n",
      "\tFrom worker 2:\tfinished 380/3693\n"
     ]
    },
    {
     "name": "stderr",
     "output_type": "stream",
     "text": [
      "WARNING: expanding 1\n",
      "WARNING: expanding 1\n",
      "WARNING: expanding\n",
      "WARNING: expanding 1\n"
     ]
    },
    {
     "name": "stdout",
     "output_type": "stream",
     "text": [
      "\tFrom worker 3:\tfinished 2300/3693\n",
      "\tFrom worker 2:\tfinished 390/3693\n"
     ]
    },
    {
     "name": "stderr",
     "output_type": "stream",
     "text": [
      "WARNING: expanding 1\n",
      "WARNING: expanding 1\n",
      "WARNING: expanding\n"
     ]
    },
    {
     "name": "stdout",
     "output_type": "stream",
     "text": [
      "\tFrom worker 3:\tfinished 2310/3693\n",
      "\tFrom worker 2:\tfinished 400/3693\n"
     ]
    },
    {
     "name": "stderr",
     "output_type": "stream",
     "text": [
      "WARNING: expanding 1\n",
      "WARNING: expanding 1\n",
      "WARNING: expanding\n"
     ]
    },
    {
     "name": "stdout",
     "output_type": "stream",
     "text": [
      "\tFrom worker 3:\tfinished 2320/3693\n"
     ]
    },
    {
     "name": "stderr",
     "output_type": "stream",
     "text": [
      "WARNING: expanding 1\n"
     ]
    },
    {
     "name": "stdout",
     "output_type": "stream",
     "text": [
      "\tFrom worker 2:\tfinished 410/3693\n"
     ]
    },
    {
     "name": "stderr",
     "output_type": "stream",
     "text": [
      "WARNING: expanding 1\n"
     ]
    },
    {
     "name": "stdout",
     "output_type": "stream",
     "text": [
      "\tFrom worker 3:\tfinished 2330/3693\n",
      "\tFrom worker 2:\tfinished 420/3693\n"
     ]
    },
    {
     "name": "stderr",
     "output_type": "stream",
     "text": [
      "WARNING: expanding 1\n"
     ]
    },
    {
     "name": "stdout",
     "output_type": "stream",
     "text": [
      "\tFrom worker 3:\tfinished 2340/3693\n",
      "\tFrom worker 2:\tfinished 430/3693\n"
     ]
    },
    {
     "name": "stderr",
     "output_type": "stream",
     "text": [
      "WARNING: expanding 1\n",
      "WARNING: expanding\n"
     ]
    },
    {
     "name": "stdout",
     "output_type": "stream",
     "text": [
      "\tFrom worker 2:\tfinished 440/3693\n",
      "\tFrom worker 3:\tfinished 2350/3693\n",
      "\tFrom worker 2:\tfinished 450/3693\n",
      "\tFrom worker 3:\tfinished 2360/3693\n",
      "\tFrom worker 2:\tfinished 460/3693\n",
      "\tFrom worker 3:\tfinished 2370/3693\n",
      "\tFrom worker 2:\tfinished 470/3693\n",
      "\tFrom worker 3:\tfinished 2380/3693\n",
      "\tFrom worker 2:\tfinished 480/3693\n"
     ]
    },
    {
     "name": "stderr",
     "output_type": "stream",
     "text": [
      "WARNING: expanding 1\n",
      "WARNING: expanding\n",
      "WARNING: expanding 1\n",
      "WARNING: expanding\n"
     ]
    },
    {
     "name": "stdout",
     "output_type": "stream",
     "text": [
      "\tFrom worker 3:\tfinished 2390/3693\n"
     ]
    },
    {
     "name": "stderr",
     "output_type": "stream",
     "text": [
      "WARNING: expanding 1\n",
      "WARNING: expanding 1\n",
      "WARNING: expanding\n"
     ]
    },
    {
     "name": "stdout",
     "output_type": "stream",
     "text": [
      "\tFrom worker 2:\tfinished 490/3693\n",
      "\tFrom worker 3:\tfinished 2400/3693\n",
      "\tFrom worker 2:\tfinished 500/3693\n",
      "\tFrom worker 3:\tfinished 2410/3693\n"
     ]
    },
    {
     "name": "stderr",
     "output_type": "stream",
     "text": [
      "WARNING: expanding 1\n",
      "WARNING: expanding 1\n",
      "WARNING: expanding\n"
     ]
    },
    {
     "name": "stdout",
     "output_type": "stream",
     "text": [
      "\tFrom worker 3:\tfinished 2420/3693\n",
      "\tFrom worker 2:\tfinished 510/3693\n"
     ]
    },
    {
     "name": "stderr",
     "output_type": "stream",
     "text": [
      "WARNING: expanding 1\n",
      "WARNING: expanding\n"
     ]
    },
    {
     "name": "stdout",
     "output_type": "stream",
     "text": [
      "\tFrom worker 3:\tfinished 2430/3693\n"
     ]
    },
    {
     "name": "stderr",
     "output_type": "stream",
     "text": [
      "WARNING: expanding 1\n"
     ]
    },
    {
     "name": "stdout",
     "output_type": "stream",
     "text": [
      "\tFrom worker 2:\tfinished 520/3693\n",
      "\tFrom worker 3:\tfinished 2440/3693\n",
      "\tFrom worker 2:\tfinished 530/3693\n",
      "\tFrom worker 3:\tfinished 2450/3693\n",
      "\tFrom worker 2:\tfinished 540/3693\n",
      "\tFrom worker 2:\tfinished 550/3693\n",
      "\tFrom worker 3:\tfinished 2460/3693\n",
      "\tFrom worker 2:\tfinished 560/3693\n",
      "\tFrom worker 3:\tfinished 2470/3693\n",
      "\tFrom worker 2:\tfinished 570/3693\n",
      "\tFrom worker 3:\tfinished 2480/3693\n",
      "\tFrom worker 2:\tfinished 580/3693\n",
      "\tFrom worker 3:\tfinished 2490/3693\n",
      "\tFrom worker 2:\tfinished 590/3693\n",
      "\tFrom worker 3:\tfinished 2500/3693\n",
      "\tFrom worker 2:\tfinished 600/3693\n",
      "\tFrom worker 3:\tfinished 2510/3693\n",
      "\tFrom worker 2:\tfinished 610/3693\n",
      "\tFrom worker 3:\tfinished 2520/3693\n",
      "\tFrom worker 2:\tfinished 620/3693\n",
      "\tFrom worker 3:\tfinished 2530/3693\n",
      "\tFrom worker 2:\tfinished 630/3693\n",
      "\tFrom worker 3:\tfinished 2540/3693\n",
      "\tFrom worker 2:\tfinished 640/3693\n",
      "\tFrom worker 3:\tfinished 2550/3693\n",
      "\tFrom worker 3:\tfinished 2560/3693\n",
      "\tFrom worker 2:\tfinished 650/3693\n",
      "\tFrom worker 3:\tfinished 2570/3693\n",
      "\tFrom worker 2:\tfinished 660/3693\n",
      "\tFrom worker 3:\tfinished 2580/3693\n",
      "\tFrom worker 2:\tfinished 670/3693\n",
      "\tFrom worker 3:\tfinished 2590/3693\n",
      "\tFrom worker 2:\tfinished 680/3693\n",
      "\tFrom worker 3:\tfinished 2600/3693\n",
      "\tFrom worker 2:\tfinished 690/3693\n"
     ]
    },
    {
     "name": "stderr",
     "output_type": "stream",
     "text": [
      "WARNING: expanding 1\n"
     ]
    },
    {
     "name": "stdout",
     "output_type": "stream",
     "text": [
      "\tFrom worker 2:\tfinished 700/3693\n",
      "\tFrom worker 3:\tfinished 2610/3693\n",
      "\tFrom worker 2:\tfinished 710/3693\n",
      "\tFrom worker 3:\tfinished 2620/3693\n",
      "\tFrom worker 2:\tfinished 720/3693\n"
     ]
    },
    {
     "name": "stderr",
     "output_type": "stream",
     "text": [
      "WARNING: expanding 1\n"
     ]
    },
    {
     "name": "stdout",
     "output_type": "stream",
     "text": [
      "\tFrom worker 2:\tfinished 730/3693\n",
      "\tFrom worker 3:\tfinished 2630/3693\n"
     ]
    },
    {
     "name": "stderr",
     "output_type": "stream",
     "text": [
      "WARNING: expanding 1\n",
      "WARNING: expanding 1\n",
      "WARNING: expanding 1\n"
     ]
    },
    {
     "name": "stdout",
     "output_type": "stream",
     "text": [
      "\tFrom worker 3:\tfinished 2640/3693\n"
     ]
    },
    {
     "name": "stderr",
     "output_type": "stream",
     "text": [
      "WARNING: expanding 1\n"
     ]
    },
    {
     "name": "stdout",
     "output_type": "stream",
     "text": [
      "\tFrom worker 2:\tfinished 740/3693\n",
      "\tFrom worker 3:\tfinished 2650/3693\n"
     ]
    },
    {
     "name": "stderr",
     "output_type": "stream",
     "text": [
      "WARNING: expanding 1\n"
     ]
    },
    {
     "name": "stdout",
     "output_type": "stream",
     "text": [
      "\tFrom worker 2:\tfinished 750/3693\n",
      "\tFrom worker 3:\tfinished 2660/3693\n",
      "\tFrom worker 2:\tfinished 760/3693\n",
      "\tFrom worker 3:\tfinished 2670/3693\n",
      "\tFrom worker 2:\tfinished 770/3693\n"
     ]
    },
    {
     "name": "stderr",
     "output_type": "stream",
     "text": [
      "WARNING: expanding 1\n",
      "WARNING: expanding\n"
     ]
    },
    {
     "name": "stdout",
     "output_type": "stream",
     "text": [
      "\tFrom worker 3:\tfinished 2680/3693\n"
     ]
    },
    {
     "name": "stderr",
     "output_type": "stream",
     "text": [
      "WARNING: expanding 1\n",
      "WARNING: expanding\n"
     ]
    },
    {
     "name": "stdout",
     "output_type": "stream",
     "text": [
      "\tFrom worker 2:\tfinished 780/3693\n",
      "\tFrom worker 3:\tfinished 2690/3693\n",
      "\tFrom worker 2:\tfinished 790/3693\n",
      "\tFrom worker 3:\tfinished 2700/3693\n"
     ]
    },
    {
     "name": "stderr",
     "output_type": "stream",
     "text": [
      "WARNING: expanding 1\n"
     ]
    },
    {
     "name": "stdout",
     "output_type": "stream",
     "text": [
      "\tFrom worker 2:\tfinished 800/3693\n",
      "\tFrom worker 3:\tfinished 2710/3693\n",
      "\tFrom worker 2:\tfinished 810/3693\n",
      "\tFrom worker 3:\tfinished 2720/3693\n"
     ]
    },
    {
     "name": "stderr",
     "output_type": "stream",
     "text": [
      "WARNING: expanding 1\n",
      "WARNING: expanding\n"
     ]
    },
    {
     "name": "stdout",
     "output_type": "stream",
     "text": [
      "\tFrom worker 2:\tfinished 820/3693\n",
      "\tFrom worker 3:\tfinished 2730/3693\n",
      "\tFrom worker 2:\tfinished 830/3693\n",
      "\tFrom worker 3:\tfinished 2740/3693\n",
      "\tFrom worker 2:\tfinished 840/3693\n",
      "\tFrom worker 3:\tfinished 2750/3693\n",
      "\tFrom worker 2:\tfinished 850/3693\n",
      "\tFrom worker 3:\tfinished 2760/3693\n"
     ]
    },
    {
     "name": "stderr",
     "output_type": "stream",
     "text": [
      "WARNING: expanding 1\n",
      "WARNING: expanding\n",
      "WARNING: expanding 1\n",
      "WARNING: expanding\n",
      "WARNING: expanding\n",
      "WARNING: expanding\n",
      "WARNING: expanding\n",
      "WARNING: expanding\n",
      "WARNING: expanding\n",
      "WARNING: expanding\n",
      "WARNING: expanding\n",
      "WARNING: expanding\n",
      "WARNING: expanding\n"
     ]
    },
    {
     "name": "stdout",
     "output_type": "stream",
     "text": [
      "\tFrom worker 3:\tfinished 2770/3693\n",
      "\tFrom worker 2:\tfinished 860/3693\n",
      "\tFrom worker 2:\tfinished 870/3693\n",
      "\tFrom worker 3:\tfinished 2780/3693\n"
     ]
    },
    {
     "name": "stderr",
     "output_type": "stream",
     "text": [
      "WARNING: expanding 1\n"
     ]
    },
    {
     "name": "stdout",
     "output_type": "stream",
     "text": [
      "\tFrom worker 2:\tfinished 880/3693\n",
      "\tFrom worker 3:\tfinished 2790/3693\n",
      "\tFrom worker 2:\tfinished 890/3693\n",
      "\tFrom worker 3:\tfinished 2800/3693\n"
     ]
    },
    {
     "name": "stderr",
     "output_type": "stream",
     "text": [
      "WARNING: expanding 1\n",
      "WARNING: c is too small; s(v) = c has no reasonable solution\n",
      "WARNING: c is too small; s(v) = c has no reasonable solution\n"
     ]
    },
    {
     "name": "stdout",
     "output_type": "stream",
     "text": [
      "\tFrom worker 3:\tfinished 2810/3693\n",
      "\tFrom worker 2:\tfinished 900/3693\n",
      "\tFrom worker 3:\tfinished 2820/3693\n",
      "\tFrom worker 2:\tfinished 910/3693\n",
      "\tFrom worker 2:\tfinished 920/3693\n",
      "\tFrom worker 3:\tfinished 2830/3693\n",
      "\tFrom worker 3:\tfinished 2840/3693\n",
      "\tFrom worker 2:\tfinished 930/3693\n",
      "\tFrom worker 3:\tfinished 2850/3693\n",
      "\tFrom worker 2:\tfinished 940/3693\n",
      "\tFrom worker 2:\tfinished 950/3693\n",
      "\tFrom worker 3:\tfinished 2860/3693\n",
      "\tFrom worker 3:\tfinished 2870/3693\n",
      "\tFrom worker 2:\tfinished 960/3693\n",
      "\tFrom worker 3:\tfinished 2880/3693\n",
      "\tFrom worker 2:\tfinished 970/3693\n",
      "\tFrom worker 3:\tfinished 2890/3693\n",
      "\tFrom worker 2:\tfinished 980/3693\n"
     ]
    },
    {
     "name": "stderr",
     "output_type": "stream",
     "text": [
      "WARNING: c is too small; s(v) = c has no reasonable solution\n",
      "WARNING: c is too small; s(v) = c has no reasonable solution\n"
     ]
    },
    {
     "name": "stdout",
     "output_type": "stream",
     "text": [
      "\tFrom worker 3:\tfinished 2900/3693\n"
     ]
    },
    {
     "name": "stderr",
     "output_type": "stream",
     "text": [
      "WARNING: c is too small; s(v) = c has no reasonable solution\n",
      "WARNING: c is too small; s(v) = c has no reasonable solution\n"
     ]
    },
    {
     "name": "stdout",
     "output_type": "stream",
     "text": [
      "\tFrom worker 2:\tfinished 990/3693\n",
      "\tFrom worker 2:\tfinished 1000/3693\n",
      "\tFrom worker 3:\tfinished 2910/3693\n",
      "\tFrom worker 2:\tfinished 1010/3693\n",
      "\tFrom worker 3:\tfinished 2920/3693\n",
      "\tFrom worker 2:\tfinished 1020/3693\n",
      "\tFrom worker 3:\tfinished 2930/3693\n",
      "\tFrom worker 3:\tfinished 2940/3693\n",
      "\tFrom worker 2:\tfinished 1030/3693\n",
      "\tFrom worker 3:\tfinished 2950/3693\n",
      "\tFrom worker 2:\tfinished 1040/3693\n",
      "\tFrom worker 3:\tfinished 2960/3693\n",
      "\tFrom worker 2:\tfinished 1050/3693\n",
      "\tFrom worker 3:\tfinished 2970/3693\n",
      "\tFrom worker 2:\tfinished 1060/3693\n",
      "\tFrom worker 3:\tfinished 2980/3693\n",
      "\tFrom worker 2:\tfinished 1070/3693\n"
     ]
    },
    {
     "name": "stderr",
     "output_type": "stream",
     "text": [
      "WARNING: expanding 1\n",
      "WARNING: expanding\n"
     ]
    },
    {
     "name": "stdout",
     "output_type": "stream",
     "text": [
      "\tFrom worker 3:\tfinished 2990/3693\n",
      "\tFrom worker 2:\tfinished 1080/3693\n",
      "\tFrom worker 2:\tfinished 1090/3693\n",
      "\tFrom worker 3:\tfinished 3000/3693\n"
     ]
    },
    {
     "name": "stderr",
     "output_type": "stream",
     "text": [
      "WARNING: No solution for secular equation\n"
     ]
    },
    {
     "name": "stdout",
     "output_type": "stream",
     "text": [
      "\tFrom worker 2:\tfinished 1100/3693\n"
     ]
    },
    {
     "name": "stderr",
     "output_type": "stream",
     "text": [
      "WARNING: No solution for secular equation\n"
     ]
    },
    {
     "name": "stdout",
     "output_type": "stream",
     "text": [
      "\tFrom worker 3:\tfinished 3010/3693\n",
      "\tFrom worker 2:\tfinished 1110/3693\n",
      "\tFrom worker 3:\tfinished 3020/3693\n",
      "\tFrom worker 2:\tfinished 1120/3693\n",
      "\tFrom worker 3:\tfinished 3030/3693\n",
      "\tFrom worker 2:\tfinished 1130/3693\n",
      "\tFrom worker 3:\tfinished 3040/3693\n",
      "\tFrom worker 2:\tfinished 1140/3693\n",
      "\tFrom worker 3:\tfinished 3050/3693\n"
     ]
    },
    {
     "name": "stderr",
     "output_type": "stream",
     "text": [
      "WARNING: expanding\n"
     ]
    },
    {
     "name": "stdout",
     "output_type": "stream",
     "text": [
      "\tFrom worker 2:\tfinished 1150/3693\n",
      "\tFrom worker 3:\tfinished 3060/3693\n",
      "\tFrom worker 2:\tfinished 1160/3693\n",
      "\tFrom worker 3:\tfinished 3070/3693\n",
      "\tFrom worker 2:\tfinished 1170/3693\n",
      "\tFrom worker 3:\tfinished 3080/3693\n",
      "\tFrom worker 2:\tfinished 1180/3693\n",
      "\tFrom worker 2:\tfinished 1190/3693\n",
      "\tFrom worker 2:\tfinished 1200/3693\n",
      "\tFrom worker 3:\tfinished 3090/3693\n",
      "\tFrom worker 2:\tfinished 1210/3693\n",
      "\tFrom worker 3:\tfinished 3100/3693\n",
      "\tFrom worker 2:\tfinished 1220/3693\n",
      "\tFrom worker 3:\tfinished 3110/3693\n",
      "\tFrom worker 2:\tfinished 1230/3693\n",
      "\tFrom worker 3:\tfinished 3120/3693\n",
      "\tFrom worker 2:\tfinished 1240/3693\n"
     ]
    },
    {
     "name": "stderr",
     "output_type": "stream",
     "text": [
      "WARNING: expanding 1\n",
      "WARNING: expanding\n",
      "WARNING: expanding 1\n",
      "WARNING: expanding\n"
     ]
    },
    {
     "name": "stdout",
     "output_type": "stream",
     "text": [
      "\tFrom worker 3:\tfinished 3130/3693\n",
      "\tFrom worker 2:\tfinished 1250/3693\n",
      "\tFrom worker 3:\tfinished 3140/3693\n",
      "\tFrom worker 2:\tfinished 1260/3693\n",
      "\tFrom worker 3:\tfinished 3150/3693\n",
      "\tFrom worker 2:\tfinished 1270/3693\n",
      "\tFrom worker 3:\tfinished 3160/3693\n",
      "\tFrom worker 2:\tfinished 1280/3693\n",
      "\tFrom worker 3:\tfinished 3170/3693\n",
      "\tFrom worker 2:\tfinished 1290/3693\n",
      "\tFrom worker 3:\tfinished 3180/3693\n",
      "\tFrom worker 2:\tfinished 1300/3693\n",
      "\tFrom worker 2:\tfinished 1310/3693\n",
      "\tFrom worker 3:\tfinished 3190/3693\n",
      "\tFrom worker 2:\tfinished 1320/3693\n",
      "\tFrom worker 3:\tfinished 3200/3693\n",
      "\tFrom worker 2:\tfinished 1330/3693\n",
      "\tFrom worker 3:\tfinished 3210/3693\n",
      "\tFrom worker 2:\tfinished 1340/3693\n",
      "\tFrom worker 2:\tfinished 1350/3693\n",
      "\tFrom worker 3:\tfinished 3220/3693\n",
      "\tFrom worker 3:\tfinished 3230/3693\n",
      "\tFrom worker 2:\tfinished 1360/3693\n",
      "\tFrom worker 2:\tfinished 1370/3693\n",
      "\tFrom worker 3:\tfinished 3240/3693\n",
      "\tFrom worker 2:\tfinished 1380/3693\n"
     ]
    },
    {
     "name": "stderr",
     "output_type": "stream",
     "text": [
      "WARNING: expanding 1\n",
      "WARNING: expanding 2\n",
      "WARNING: expanding 3\n",
      "WARNING: expanding 4\n",
      "WARNING: expanding 5\n",
      "WARNING: expanding 6\n",
      "WARNING: expanding 7\n",
      "WARNING: expanding 8\n",
      "WARNING: expanding 9\n"
     ]
    },
    {
     "name": "stdout",
     "output_type": "stream",
     "text": [
      "\tFrom worker 3:\tfinished 3250/3693\n",
      "\tFrom worker 2:\tfinished 1390/3693\n",
      "\tFrom worker 3:\tfinished 3260/3693\n",
      "\tFrom worker 2:\tfinished 1400/3693\n",
      "\tFrom worker 3:\tfinished 3270/3693\n"
     ]
    },
    {
     "name": "stderr",
     "output_type": "stream",
     "text": [
      "WARNING: expanding\n",
      "WARNING: expanding\n",
      "WARNING: expanding\n",
      "WARNING: expanding\n",
      "WARNING: expanding\n",
      "WARNING: expanding\n",
      "WARNING: expanding\n",
      "WARNING: expanding\n",
      "WARNING: expanding\n"
     ]
    },
    {
     "name": "stdout",
     "output_type": "stream",
     "text": [
      "\tFrom worker 3:\tfinished 3280/3693\n",
      "\tFrom worker 2:\tfinished 1410/3693\n"
     ]
    },
    {
     "name": "stderr",
     "output_type": "stream",
     "text": [
      "WARNING: expanding 1\n",
      "WARNING: expanding 2\n",
      "WARNING: expanding 3\n",
      "WARNING: expanding 4\n",
      "WARNING: expanding 5\n",
      "WARNING: expanding 6\n",
      "WARNING: expanding 7\n",
      "WARNING: expanding 8\n",
      "WARNING: expanding 9\n",
      "WARNING: c is too small; s(v) = c has no reasonable solution\n",
      "WARNING: c is too small; s(v) = c has no reasonable solution\n"
     ]
    },
    {
     "name": "stdout",
     "output_type": "stream",
     "text": [
      "\tFrom worker 2:\tfinished 1420/3693\n",
      "\tFrom worker 3:\tfinished 3290/3693\n",
      "\tFrom worker 2:\tfinished 1430/3693\n",
      "\tFrom worker 3:\tfinished 3300/3693\n"
     ]
    },
    {
     "name": "stderr",
     "output_type": "stream",
     "text": [
      "WARNING: c is too small; s(v) = c has no reasonable solution\n",
      "WARNING: c is too small; s(v) = c has no reasonable solution\n"
     ]
    },
    {
     "name": "stdout",
     "output_type": "stream",
     "text": [
      "\tFrom worker 2:\tfinished 1440/3693\n",
      "\tFrom worker 3:\tfinished 3310/3693\n",
      "\tFrom worker 2:\tfinished 1450/3693\n",
      "\tFrom worker 3:\tfinished 3320/3693\n",
      "\tFrom worker 2:\tfinished 1460/3693\n",
      "\tFrom worker 3:\tfinished 3330/3693\n"
     ]
    },
    {
     "name": "stderr",
     "output_type": "stream",
     "text": [
      "WARNING: c is too small; s(v) = c has no reasonable solution\n",
      "WARNING: c is too small; s(v) = c has no reasonable solution\n"
     ]
    },
    {
     "name": "stdout",
     "output_type": "stream",
     "text": [
      "\tFrom worker 2:\tfinished 1470/3693\n",
      "\tFrom worker 3:\tfinished 3340/3693\n"
     ]
    },
    {
     "name": "stderr",
     "output_type": "stream",
     "text": [
      "WARNING: c is too small; s(v) = c has no reasonable solution\n",
      "WARNING: c is too small; s(v) = c has no reasonable solution\n",
      "WARNING: expanding 1\n",
      "WARNING: expanding 2\n",
      "WARNING: expanding 3\n",
      "WARNING: expanding 4\n",
      "WARNING: expanding 5\n",
      "WARNING: expanding 6\n",
      "WARNING: expanding 7\n",
      "WARNING: expanding 8\n",
      "WARNING: expanding 9\n",
      "WARNING: expanding\n",
      "WARNING: expanding\n",
      "WARNING: expanding\n",
      "WARNING: expanding\n",
      "WARNING: expanding\n",
      "WARNING: expanding\n",
      "WARNING: expanding\n",
      "WARNING: expanding\n",
      "WARNING: expanding\n"
     ]
    },
    {
     "name": "stdout",
     "output_type": "stream",
     "text": [
      "\tFrom worker 2:\tfinished 1480/3693\n",
      "\tFrom worker 3:\tfinished 3350/3693\n",
      "\tFrom worker 2:\tfinished 1490/3693\n",
      "\tFrom worker 3:\tfinished 3360/3693\n",
      "\tFrom worker 2:\tfinished 1500/3693\n",
      "\tFrom worker 3:\tfinished 3370/3693\n",
      "\tFrom worker 2:\tfinished 1510/3693\n",
      "\tFrom worker 3:\tfinished 3380/3693\n",
      "\tFrom worker 2:\tfinished 1520/3693\n"
     ]
    },
    {
     "name": "stderr",
     "output_type": "stream",
     "text": [
      "WARNING: c is too small; s(v) = c has no reasonable solution\n",
      "WARNING: c is too small; s(v) = c has no reasonable solution\n"
     ]
    },
    {
     "name": "stdout",
     "output_type": "stream",
     "text": [
      "\tFrom worker 3:\tfinished 3390/3693\n",
      "\tFrom worker 2:\tfinished 1530/3693\n",
      "\tFrom worker 3:\tfinished 3400/3693\n",
      "\tFrom worker 2:\tfinished 1540/3693\n"
     ]
    },
    {
     "name": "stderr",
     "output_type": "stream",
     "text": [
      "WARNING: c is too small; s(v) = c has no reasonable solution\n",
      "WARNING: c is too small; s(v) = c has no reasonable solution\n"
     ]
    },
    {
     "name": "stdout",
     "output_type": "stream",
     "text": [
      "\tFrom worker 2:\tfinished 1550/3693\n",
      "\tFrom worker 3:\tfinished 3410/3693\n",
      "\tFrom worker 2:\tfinished 1560/3693\n",
      "\tFrom worker 3:\tfinished 3420/3693\n",
      "\tFrom worker 2:\tfinished 1570/3693\n"
     ]
    },
    {
     "name": "stderr",
     "output_type": "stream",
     "text": [
      "WARNING: c is too small; s(v) = c has no reasonable solution\n",
      "WARNING: c is too small; s(v) = c has no reasonable solution\n"
     ]
    },
    {
     "name": "stdout",
     "output_type": "stream",
     "text": [
      "\tFrom worker 3:\tfinished 3430/3693\n",
      "\tFrom worker 2:\tfinished 1580/3693\n",
      "\tFrom worker 2:\tfinished 1590/3693\n"
     ]
    },
    {
     "name": "stderr",
     "output_type": "stream",
     "text": [
      "WARNING: c is too small; s(v) = c has no reasonable solution\n",
      "WARNING: c is too small; s(v) = c has no reasonable solution\n"
     ]
    },
    {
     "name": "stdout",
     "output_type": "stream",
     "text": [
      "\tFrom worker 3:\tfinished 3440/3693\n",
      "\tFrom worker 2:\tfinished 1600/3693\n",
      "\tFrom worker 3:\tfinished 3450/3693\n"
     ]
    },
    {
     "name": "stderr",
     "output_type": "stream",
     "text": [
      "WARNING: c is too small; s(v) = c has no reasonable solution\n",
      "WARNING: c is too small; s(v) = c has no reasonable solution\n",
      "WARNING: expanding\n",
      "WARNING: expanding\n",
      "WARNING: expanding\n",
      "WARNING: expanding\n",
      "WARNING: expanding\n",
      "WARNING: expanding\n",
      "WARNING: expanding\n",
      "WARNING: expanding\n",
      "WARNING: expanding\n"
     ]
    },
    {
     "name": "stdout",
     "output_type": "stream",
     "text": [
      "\tFrom worker 2:\tfinished 1610/3693\n",
      "\tFrom worker 3:\tfinished 3460/3693\n",
      "\tFrom worker 2:\tfinished 1620/3693\n",
      "\tFrom worker 3:\tfinished 3470/3693\n",
      "\tFrom worker 2:\tfinished 1630/3693\n",
      "\tFrom worker 3:\tfinished 3480/3693\n"
     ]
    },
    {
     "name": "stderr",
     "output_type": "stream",
     "text": [
      "WARNING: c is too small; s(v) = c has no reasonable solution\n",
      "WARNING: c is too small; s(v) = c has no reasonable solution\n"
     ]
    },
    {
     "name": "stdout",
     "output_type": "stream",
     "text": [
      "\tFrom worker 2:\tfinished 1640/3693\n",
      "\tFrom worker 3:\tfinished 3490/3693\n"
     ]
    },
    {
     "name": "stderr",
     "output_type": "stream",
     "text": [
      "WARNING: c is too small; s(v) = c has no reasonable solution\n",
      "WARNING: c is too small; s(v) = c has no reasonable solution\n",
      "WARNING: c is too small; s(v) = c has no reasonable solution\n",
      "WARNING: c is too small; s(v) = c has no reasonable solution\n"
     ]
    },
    {
     "name": "stdout",
     "output_type": "stream",
     "text": [
      "\tFrom worker 3:\tfinished 3500/3693\n",
      "\tFrom worker 2:\tfinished 1650/3693\n",
      "\tFrom worker 2:\tfinished 1660/3693\n",
      "\tFrom worker 3:\tfinished 3510/3693\n"
     ]
    },
    {
     "name": "stderr",
     "output_type": "stream",
     "text": [
      "WARNING: c is too small; s(v) = c has no reasonable solution\n",
      "WARNING: c is too small; s(v) = c has no reasonable solution\n",
      "WARNING: c is too small; s(v) = c has no reasonable solution\n",
      "WARNING: c is too small; s(v) = c has no reasonable solution\n"
     ]
    },
    {
     "name": "stdout",
     "output_type": "stream",
     "text": [
      "\tFrom worker 3:\tfinished 3520/3693\n",
      "\tFrom worker 2:\tfinished 1670/3693\n",
      "\tFrom worker 3:\tfinished 3530/3693\n",
      "\tFrom worker 2:\tfinished 1690/3693\n",
      "\tFrom worker 3:\tfinished 3540/3693\n",
      "\tFrom worker 2:\tfinished 1700/3693\n",
      "\tFrom worker 3:\tfinished 3550/3693\n",
      "\tFrom worker 2:\tfinished 1710/3693\n",
      "\tFrom worker 3:\tfinished 3560/3693\n",
      "\tFrom worker 2:\tfinished 1720/3693\n"
     ]
    },
    {
     "name": "stderr",
     "output_type": "stream",
     "text": [
      "WARNING: c is too small; s(v) = c has no reasonable solution\n",
      "WARNING: c is too small; s(v) = c has no reasonable solution\n"
     ]
    },
    {
     "name": "stdout",
     "output_type": "stream",
     "text": [
      "\tFrom worker 3:\tfinished 3570/3693\n"
     ]
    },
    {
     "name": "stderr",
     "output_type": "stream",
     "text": [
      "WARNING: expanding 1\n",
      "WARNING: expanding\n"
     ]
    },
    {
     "name": "stdout",
     "output_type": "stream",
     "text": [
      "\tFrom worker 2:\tfinished 1730/3693\n",
      "\tFrom worker 3:\tfinished 3580/3693\n",
      "\tFrom worker 2:\tfinished 1740/3693\n",
      "\tFrom worker 3:\tfinished 3590/3693\n",
      "\tFrom worker 2:\tfinished 1750/3693\n",
      "\tFrom worker 3:\tfinished 3600/3693\n",
      "\tFrom worker 2:\tfinished 1760/3693\n",
      "\tFrom worker 3:\tfinished 3610/3693\n",
      "\tFrom worker 2:\tfinished 1770/3693\n",
      "\tFrom worker 3:\tfinished 3620/3693\n",
      "\tFrom worker 2:\tfinished 1780/3693\n",
      "\tFrom worker 3:\tfinished 3630/3693\n",
      "\tFrom worker 2:\tfinished 1790/3693\n",
      "\tFrom worker 3:\tfinished 3640/3693\n",
      "\tFrom worker 2:\tfinished 1800/3693\n",
      "\tFrom worker 3:\tfinished 3650/3693\n",
      "\tFrom worker 2:\tfinished 1810/3693\n",
      "\tFrom worker 3:\tfinished 3660/3693\n",
      "\tFrom worker 2:\tfinished 1820/3693\n",
      "\tFrom worker 3:\tfinished 3670/3693\n",
      "\tFrom worker 2:\tfinished 1830/3693\n",
      "\tFrom worker 3:\tfinished 3680/3693\n",
      "\tFrom worker 2:\tfinished 1840/3693\n",
      "\tFrom worker 3:\tfinished 3690/3693\n"
     ]
    },
    {
     "name": "stderr",
     "output_type": "stream",
     "text": [
      "WARNING: expanding 1\n",
      "WARNING: expanding\n"
     ]
    },
    {
     "name": "stdout",
     "output_type": "stream",
     "text": [
      "7911.735203 seconds (3.03 M allocations: 465.856 MB, 0.00% gc time)\n"
     ]
    }
   ],
   "source": [
    "d = mat2tmpinst(\"case3120sp\",200,0.5)\n",
    "\n",
    "# Thermal model parameters:\n",
    "d.Tamb = 35.0 # C\n",
    "d.T0 = 60.0 #46.0 # initial line steady-state temp\n",
    "\n",
    "d.time_values = 0.0:30.0:300.0 # five minutes in 30-sec steps\n",
    "d.int_length = 300. # seconds = 5 min\n",
    "\n",
    "Gp,Dp,Rp = d.G0,d.D0,d.R0\n",
    "d.G0 = [0.7*Gp;0.7*Gp;0.7*Gp]#;0.7*Gp;0.7*Gp;0.7*Gp]\n",
    "d.D0 = [0.9*Dp;0.9*Dp;0.9*Dp]#;0.9*Dp;0.9*Dp;0.9*Dp]\n",
    "d.R0 = [Rp;1.1*Rp;1.2*Rp]#;1.3*Rp;1.4*Rp;1.5*Rp]\n",
    "\n",
    "@time results = solve_temporal_instanton(d);"
   ]
  },
  {
   "cell_type": "code",
   "execution_count": 76,
   "metadata": {
    "collapsed": false
   },
   "outputs": [],
   "source": [
    "n = 3120\n",
    "nr = 200\n",
    "T = 3\n",
    "o = process_instanton_results(results2,\n",
    "    n,\n",
    "    nr,\n",
    "    T;\n",
    "    return_as_type=true);"
   ]
  },
  {
   "cell_type": "code",
   "execution_count": 85,
   "metadata": {
    "collapsed": false
   },
   "outputs": [
    {
     "name": "stdout",
     "output_type": "stream",
     "text": [
      "131.86 minutes total\n"
     ]
    }
   ],
   "source": [
    "println(\"$(round(7911.7/60,2)) minutes total\")"
   ]
  },
  {
   "cell_type": "code",
   "execution_count": 86,
   "metadata": {
    "collapsed": false
   },
   "outputs": [
    {
     "name": "stdout",
     "output_type": "stream",
     "text": [
      "2.15 seconds per line analyzed\n"
     ]
    }
   ],
   "source": [
    "println(\"$(round(7911.7/3682,2)) seconds per line analyzed\")"
   ]
  },
  {
   "cell_type": "code",
   "execution_count": 87,
   "metadata": {
    "collapsed": true
   },
   "outputs": [],
   "source": [
    "using JLD\n",
    "save(\"polish.jld\",\"results\",results2,\"o\",o)"
   ]
  },
  {
   "cell_type": "code",
   "execution_count": 89,
   "metadata": {
    "collapsed": false
   },
   "outputs": [
    {
     "data": {
      "text/plain": [
       "Dict{ByteString,Any} with 2 entries:\n",
       "  \"o\"       => TemporalInstanton.InstantonOutputData([32.4138,113.677,93.2212,2…\n",
       "  \"results\" => [([0.00181108,0.00218249,-0.0233197,-0.0233061,-0.0175401,-0.002…"
      ]
     },
     "execution_count": 89,
     "metadata": {},
     "output_type": "execute_result"
    }
   ],
   "source": [
    "ld = load(\"polish.jld\")"
   ]
  },
  {
   "cell_type": "code",
   "execution_count": 96,
   "metadata": {
    "collapsed": true
   },
   "outputs": [],
   "source": [
    "save(\"polish2.jld\",\"d\",d)"
   ]
  },
  {
   "cell_type": "code",
   "execution_count": 93,
   "metadata": {
    "collapsed": false
   },
   "outputs": [
    {
     "data": {
      "text/plain": [
       "3682-element Array{Float64,1}:\n",
       "   0.00022581\n",
       "   0.00111345\n",
       "   0.00608295\n",
       "   0.00614545\n",
       "   0.0065377 \n",
       "   0.00890165\n",
       "   0.00951013\n",
       "   0.0226273 \n",
       "   0.0337046 \n",
       "   0.0470505 \n",
       "   0.0594412 \n",
       "   0.0618986 \n",
       "   0.0673271 \n",
       "   ⋮         \n",
       " NaN         \n",
       " NaN         \n",
       " NaN         \n",
       " NaN         \n",
       " NaN         \n",
       " NaN         \n",
       " NaN         \n",
       " NaN         \n",
       " NaN         \n",
       " NaN         \n",
       " NaN         \n",
       " NaN         "
      ]
     },
     "execution_count": 93,
     "metadata": {},
     "output_type": "execute_result"
    }
   ],
   "source": [
    "sort(ld[\"o\"].score)"
   ]
  },
  {
   "cell_type": "markdown",
   "metadata": {},
   "source": [
    "Yep, still no solutions.\n",
    "\n",
    "*Update (2015-09-11): I do get solutions now, and many of them have reasonable objective values. Re-writing the secular equation solver paid off.*"
   ]
  },
  {
   "cell_type": "markdown",
   "metadata": {},
   "source": [
    "## Re-write solve_secular"
   ]
  },
  {
   "cell_type": "code",
   "execution_count": null,
   "metadata": {
    "collapsed": true
   },
   "outputs": [],
   "source": [
    "using PyPlot\n",
    "PyPlot.svg(true)"
   ]
  },
  {
   "cell_type": "markdown",
   "metadata": {},
   "source": [
    "## Connecting with Jon's MPC\n",
    "\n",
    "Solve temporal instanton analysis for a single line in the network; just interested in the size/shape of deviations required to bring a line temperature *down* to an acceptable level. Strategy: give Jon a list of required variables, have him send a `.mat` file with that data. Analyze and pass back `.mat` file."
   ]
  },
  {
   "cell_type": "markdown",
   "metadata": {},
   "source": [
    "## Developing a new secular equation solver\n",
    "\n",
    "I'm not sure there is a fundamental problem with my secular equation solver. This afternoon I will load the entire code into my head and attempt to diagnose the problem that occurs when I try to solve the Polish case."
   ]
  },
  {
   "cell_type": "code",
   "execution_count": 12,
   "metadata": {
    "collapsed": false
   },
   "outputs": [
    {
     "data": {
      "text/html": [
       "<script charset=\"utf-8\">(function ($, undefined) {\n",
       "\n",
       "    function createElem(tag, attr, content) {\n",
       "\t// TODO: remove jQuery dependency\n",
       "\tvar el = $(\"<\" + tag + \"/>\").attr(attr);\n",
       "\tif (content) {\n",
       "\t    el.append(content);\n",
       "\t}\n",
       "\treturn el[0];\n",
       "    }\n",
       "\n",
       "    // A widget must expose an id field which identifies it to the backend,\n",
       "    // an elem attribute which is will be added to the DOM, and\n",
       "    // a getState() method which returns the value to be sent to the backend\n",
       "    // a sendUpdate() method which sends its current value to the backend\n",
       "    var Widget = {\n",
       "\tid: undefined,\n",
       "\telem: undefined,\n",
       "\tlabel: undefined,\n",
       "\tgetState: function () {\n",
       "\t    return this.elem.value;\n",
       "\t},\n",
       "\tsendUpdate: undefined\n",
       "    };\n",
       "\n",
       "    var Slider = function (typ, id, init) {\n",
       "\tvar attr = { type:  \"range\",\n",
       "\t\t     value: init.value,\n",
       "\t\t     min:   init.min,\n",
       "\t\t     max:   init.max,\n",
       "\t\t     step:  init.step },\n",
       "\t    elem = createElem(\"input\", attr),\n",
       "\t    self = this;\n",
       "\n",
       "\telem.onchange = function () {\n",
       "\t    self.sendUpdate();\n",
       "\t}\n",
       "\n",
       "\tthis.id = id;\n",
       "\tthis.elem = elem;\n",
       "\tthis.label = init.label;\n",
       "\n",
       "\tInputWidgets.commInitializer(this); // Initialize communication\n",
       "    }\n",
       "    Slider.prototype = Widget;\n",
       "\n",
       "    var Checkbox = function (typ, id, init) {\n",
       "\tvar attr = { type: \"checkbox\",\n",
       "\t\t     checked: init.value },\n",
       "\t    elem = createElem(\"input\", attr),\n",
       "\t    self = this;\n",
       "\n",
       "\tthis.getState = function () {\n",
       "\t    return elem.checked;\n",
       "\t}\n",
       "\telem.onchange = function () {\n",
       "\t    self.sendUpdate();\n",
       "\t}\n",
       "\n",
       "\tthis.id = id;\n",
       "\tthis.elem = elem;\n",
       "\tthis.label = init.label;\n",
       "\n",
       "\tInputWidgets.commInitializer(this);\n",
       "    }\n",
       "    Checkbox.prototype = Widget;\n",
       "\n",
       "    var Button = function (typ, id, init) {\n",
       "\tvar attr = { type:    \"button\",\n",
       "\t\t     value:   init.label },\n",
       "\t    elem = createElem(\"input\", attr),\n",
       "\t    self = this;\n",
       "\tthis.getState = function () {\n",
       "\t    return null;\n",
       "\t}\n",
       "\telem.onclick = function () {\n",
       "\t    self.sendUpdate();\n",
       "\t}\n",
       "\n",
       "\tthis.id = id;\n",
       "\tthis.elem = elem;\n",
       "\tthis.label = init.label;\n",
       "\n",
       "\tInputWidgets.commInitializer(this);\n",
       "    }\n",
       "    Button.prototype = Widget;\n",
       "\n",
       "    var Text = function (typ, id, init) {\n",
       "\tvar attr = { type:  \"text\",\n",
       "\t\t     placeholder: init.label,\n",
       "\t\t     value: init.value },\n",
       "\t    elem = createElem(\"input\", attr),\n",
       "\t    self = this;\n",
       "\tthis.getState = function () {\n",
       "\t    return elem.value;\n",
       "\t}\n",
       "\telem.onkeyup = function () {\n",
       "\t    self.sendUpdate();\n",
       "\t}\n",
       "\n",
       "\tthis.id = id;\n",
       "\tthis.elem = elem;\n",
       "\tthis.label = init.label;\n",
       "\n",
       "\tInputWidgets.commInitializer(this);\n",
       "    }\n",
       "    Text.prototype = Widget;\n",
       "\n",
       "    var Textarea = function (typ, id, init) {\n",
       "\tvar attr = { placeholder: init.label },\n",
       "\t    elem = createElem(\"textarea\", attr, init.value),\n",
       "\t    self = this;\n",
       "\tthis.getState = function () {\n",
       "\t    return elem.value;\n",
       "\t}\n",
       "\telem.onchange = function () {\n",
       "\t    self.sendUpdate();\n",
       "\t}\n",
       "\n",
       "\tthis.id = id;\n",
       "\tthis.elem = elem;\n",
       "\tthis.label = init.label;\n",
       "\n",
       "\tInputWidgets.commInitializer(this);\n",
       "    }\n",
       "    Textarea.prototype = Widget;\n",
       "\n",
       "    // RadioButtons\n",
       "    // Dropdown\n",
       "    // HTML\n",
       "    // Latex\n",
       "\n",
       "    var InputWidgets = {\n",
       "\tSlider: Slider,\n",
       "\tCheckbox: Checkbox,\n",
       "\tButton: Button,\n",
       "\tText: Text,\n",
       "\tTextarea: Textarea,\n",
       "\tdebug: false,\n",
       "\tlog: function () {\n",
       "\t    if (InputWidgets.debug) {\n",
       "\t\tconsole.log.apply(console, arguments);\n",
       "\t    }\n",
       "\t},\n",
       "\t// a central way to initalize communication\n",
       "\t// for widgets.\n",
       "\tcommInitializer: function (widget) {\n",
       "\t    widget.sendUpdate = function () {};\n",
       "\t}\n",
       "    };\n",
       "\n",
       "    window.InputWidgets = InputWidgets;\n",
       "\n",
       "})(jQuery, undefined);\n",
       "</script>"
      ]
     },
     "metadata": {},
     "output_type": "display_data"
    },
    {
     "data": {
      "text/html": [
       "<script charset=\"utf-8\">(function (IPython, $, _, MathJax, Widgets) {\n",
       "    $.event.special.destroyed = {\n",
       "\tremove: function(o) {\n",
       "\t    if (o.handler) {\n",
       "\t\to.handler.apply(this, arguments)\n",
       "\t    }\n",
       "\t}\n",
       "    }\n",
       "\n",
       "    var redrawValue = function (container, type, val) {\n",
       "\tvar selector = $(\"<div/>\");\n",
       "\tvar oa = new IPython.OutputArea(_.extend(selector, {\n",
       "\t    selector: selector,\n",
       "\t    prompt_area: true,\n",
       "\t    events: IPython.events,\n",
       "\t    keyboard_manager: IPython.keyboard_manager\n",
       "\t})); // Hack to work with IPython 2.1.0\n",
       "\n",
       "\tswitch (type) {\n",
       "\tcase \"image/png\":\n",
       "            var _src = 'data:' + type + ';base64,' + val;\n",
       "\t    $(container).find(\"img\").attr('src', _src);\n",
       "\t    break;\n",
       "\tdefault:\n",
       "\t    var toinsert = IPython.OutputArea.append_map[type].apply(\n",
       "\t\toa, [val, {}, selector]\n",
       "\t    );\n",
       "\t    $(container).empty().append(toinsert.contents());\n",
       "\t    selector.remove();\n",
       "\t}\n",
       "\tif (type === \"text/latex\" && MathJax) {\n",
       "\t    MathJax.Hub.Queue([\"Typeset\", MathJax.Hub, toinsert.get(0)]);\n",
       "\t}\n",
       "    }\n",
       "\n",
       "\n",
       "    $(document).ready(function() {\n",
       "\tWidgets.debug = false; // log messages etc in console.\n",
       "\tfunction initComm(evt, data) {\n",
       "\t    var comm_manager = data.kernel.comm_manager;\n",
       "        //_.extend(comm_manager.targets, require(\"widgets/js/widget\"))\n",
       "\t    comm_manager.register_target(\"Signal\", function (comm) {\n",
       "            comm.on_msg(function (msg) {\n",
       "                //Widgets.log(\"message received\", msg);\n",
       "                var val = msg.content.data.value;\n",
       "                $(\".signal-\" + comm.comm_id).each(function() {\n",
       "                var type = $(this).data(\"type\");\n",
       "                if (val[type]) {\n",
       "                    redrawValue(this, type, val[type], type);\n",
       "                }\n",
       "                });\n",
       "                delete val;\n",
       "                delete msg.content.data.value;\n",
       "            });\n",
       "\t    });\n",
       "\n",
       "\t    // coordingate with Comm and redraw Signals\n",
       "\t    // XXX: Test using Reactive here to improve performance\n",
       "\t    $([IPython.events]).on(\n",
       "\t\t'output_appended.OutputArea', function (event, type, value, md, toinsert) {\n",
       "\t\t    if (md && md.reactive) {\n",
       "                // console.log(md.comm_id);\n",
       "                toinsert.addClass(\"signal-\" + md.comm_id);\n",
       "                toinsert.data(\"type\", type);\n",
       "                // Signal back indicating the mimetype required\n",
       "                var comm_manager = IPython.notebook.kernel.comm_manager;\n",
       "                var comm = comm_manager.comms[md.comm_id];\n",
       "                comm.then(function (c) {\n",
       "                    c.send({action: \"subscribe_mime\",\n",
       "                       mime: type});\n",
       "                    toinsert.bind(\"destroyed\", function() {\n",
       "                        c.send({action: \"unsubscribe_mime\",\n",
       "                               mime: type});\n",
       "                    });\n",
       "                })\n",
       "\t\t    }\n",
       "\t    });\n",
       "\t}\n",
       "\n",
       "\ttry {\n",
       "\t    // try to initialize right away. otherwise, wait on the status_started event.\n",
       "\t    initComm(undefined, IPython.notebook);\n",
       "\t} catch (e) {\n",
       "\t    $([IPython.events]).on('status_started.Kernel', initComm);\n",
       "\t}\n",
       "    });\n",
       "})(IPython, jQuery, _, MathJax, InputWidgets);\n",
       "</script>"
      ]
     },
     "metadata": {},
     "output_type": "display_data"
    },
    {
     "data": {
      "text/plain": [
       "true"
      ]
     },
     "execution_count": 12,
     "metadata": {},
     "output_type": "execute_result"
    }
   ],
   "source": [
    "using Interact, PyPlot\n",
    "PyPlot.svg(true)"
   ]
  },
  {
   "cell_type": "code",
   "execution_count": 2,
   "metadata": {
    "collapsed": false,
    "scrolled": true
   },
   "outputs": [
    {
     "data": {
      "text/plain": [
       "secularintersect (generic function with 1 method)"
      ]
     },
     "execution_count": 2,
     "metadata": {},
     "output_type": "execute_result"
    }
   ],
   "source": [
    "function solvesecular(num,poles,c)    \n",
    "    s(vv::Vector{Float64}) = [sumabs2(num./(v - poles)) for v in vv]\n",
    "    s(v::Float64) = sumabs2(num./(v - poles))\n",
    "    w(vv::Vector{Float64}) = [float(num./(v - poles)) for v in vv]\n",
    "    w(v::Float64) = float(num./(v - poles))\n",
    "    tiny = c/1e8\n",
    "\n",
    "    vals = Vector{Float64}()\n",
    "    sortedpoles = sort(poles)\n",
    "    \n",
    "    for i in 1:length(sortedpoles)\n",
    "        upper = sortedpoles[i]\n",
    "        \n",
    "        # head left\n",
    "        dist = finddist(i,sortedpoles,true)\n",
    "        lower = upper - dist/2\n",
    "        intersect = secularintersect(c,upper,lower,s,tiny)\n",
    "        \n",
    "        # there must be at least one solution for leftmost pole\n",
    "        if i == 1\n",
    "            while isnan(intersect) # \n",
    "#                 warn(\"expanding\")\n",
    "                lower -= dist\n",
    "                intersect = secularintersect(c,upper,lower,s,tiny)\n",
    "            end\n",
    "        end\n",
    "        push!(vals,intersect)\n",
    "        \n",
    "        # head right\n",
    "        dist = finddist(i,sortedpoles,false)\n",
    "        lower = upper + dist/2\n",
    "        intersect = secularintersect(c,upper,lower,s,tiny)\n",
    "        # there must be at least one solution for rightmost pole\n",
    "        if i == length(sortedpoles)\n",
    "            endmult = 2\n",
    "            while isnan(intersect) \n",
    "#                 warn(\"expanding\")\n",
    "                lower += dist\n",
    "                intersect = secularintersect(c,upper,lower,s,tiny)\n",
    "            end\n",
    "        end\n",
    "        push!(vals,intersect)\n",
    "    end\n",
    "    filter!(x -> !isnan(x),vals)\n",
    "    return vals\n",
    "end\n",
    "\n",
    "function finddist(i,sortedpoles,left)\n",
    "    p = sortedpoles[i]\n",
    "    if length(sortedpoles) == 1\n",
    "        dist = p\n",
    "    elseif i == 1 && left\n",
    "        dist = abs(p - sortedpoles[2])\n",
    "    elseif i == length(sortedpoles) && !left\n",
    "        dist = abs(p - sortedpoles[end-1])\n",
    "    else\n",
    "        dist = left ? abs(p - sortedpoles[i-1]) : abs(p - sortedpoles[i+1])\n",
    "    end\n",
    "    return dist\n",
    "end\n",
    "\n",
    "function secularintersect(c,upper,lower,s,tiny)\n",
    "    if c == 0.0\n",
    "        error(\"c > 0 required; s(v) = 0 has no solution\")\n",
    "    end\n",
    "    ubound = upper\n",
    "    olddiff = 0.0\n",
    "    v = mean([upper;lower])\n",
    "    currentdiff = s(v) - c\n",
    "    \n",
    "    while abs(currentdiff) > tiny\n",
    "        if abs(currentdiff - olddiff) < tiny \n",
    "            #||            (currentdiff > 0 && olddiff > 0 &&  currentdiff > olddiff)\n",
    "            return NaN\n",
    "        end\n",
    "        if currentdiff > 0\n",
    "            upper = v\n",
    "        else\n",
    "            lower = v\n",
    "        end\n",
    "        v = mean([upper;lower])\n",
    "        olddiff = currentdiff\n",
    "        currentdiff = s(v) - c\n",
    "    end\n",
    "    return v\n",
    "end"
   ]
  },
  {
   "cell_type": "markdown",
   "metadata": {},
   "source": [
    "## Testing and comparing"
   ]
  },
  {
   "cell_type": "code",
   "execution_count": null,
   "metadata": {
    "collapsed": false,
    "scrolled": false
   },
   "outputs": [],
   "source": [
    "# quick comparison\n",
    "\n",
    "numpoles = 5\n",
    "num = 0.2*(collect(1:numpoles))\n",
    "poles = collect(1:numpoles)\n",
    "\n",
    "#s(vv::Vector{Float64}) = [sumabs2(num./(v - poles)) for v in vv]  \n",
    "tiny = 1e-8\n",
    "\n",
    "c = 0.1\n",
    "\n",
    "@time vals = solvesecular(num,poles,c);\n",
    "@time vals2 = solve_secular(num,poles,c)[1];"
   ]
  },
  {
   "cell_type": "code",
   "execution_count": null,
   "metadata": {
    "collapsed": false,
    "scrolled": false
   },
   "outputs": [],
   "source": [
    "# interactive comparison\n",
    "\n",
    "fig = figure()\n",
    "# c = 1.1\n",
    "# numpoles = 5\n",
    "@manipulate for c in 0.2:0.2:5, numpoles in 1:10; withfig(fig) do\n",
    "        num = 0.2*(collect(1:numpoles))\n",
    "        poles = collect(1:numpoles)\n",
    "        xx = collect(linspace(0.0,2*poles[end],1000))\n",
    "        s(vv::Vector{Float64}) = [sumabs2(num./(v - poles)) for v in vv]  \n",
    "        \n",
    "        tiny = c/1e8\n",
    "        \n",
    "        vals = solvesecular(num,poles,c)\n",
    "        vals2 = solve_secular(num,poles,c)[1]\n",
    "        \n",
    "        plot(xx,s(xx))\n",
    "        ylim([0;5])\n",
    "        hold(true)\n",
    "        plot([xx[1];xx[end]],[c;c])\n",
    "        scatter(vals,s(vals),c=\"red\",alpha=0.5)\n",
    "        scatter(vals2,s(vals2),c=\"blue\",alpha=0.5)\n",
    "        title(\"new sols: $(length(vals) - length(vals2))\")\n",
    "    end\n",
    "end\n",
    "# savefig(\"../images/2015-09-10-secular.svg\")"
   ]
  },
  {
   "cell_type": "markdown",
   "metadata": {},
   "source": [
    "## Secular solver gotchas\n",
    "\n",
    "The good news is that my new `solvesecular`, which is written with much better style, matches the output of my previous function. The bad news is that both functions are failing to identify secular equation solutions. There are two conditions that hint at missing solutions:\n",
    "\n",
    "### There are less than two solutions\n",
    "Something is wrong. As long as $c > 0$ there will *always* be two or more solutions.\n",
    "\n",
    "Idea: if no solution is found for an end pole, repeat the search with an expanded bound.  Continue expanding until a pole is found.\n",
    "\n",
    "Update: **new version of `solvesecular` always returns two or more solutions for positive `c`.** Its speed is rougly the same as `solve_secular`.\n",
    "\n",
    "### A non-endpoint pole has only one solution\n",
    "Something is likely wrong. It is mathematically possible for $s(v) = c$ to pass through the inter-pole minimum *exactly*, but this is numerically unlikely. With sufficiently high precision, I should be able to find two solutions for an in-between pole, not just one.\n",
    "\n",
    "## 2015-09-10 update\n",
    "\n",
    "I have replaced the old solver. The new one finds more solutions and doesn't take any longer. It also has checks to prevent infinite looping. This makes it much more capable of handling tough cases like the Polish grid."
   ]
  },
  {
   "cell_type": "markdown",
   "metadata": {},
   "source": [
    "## Why the Polish grid is so troublesome\n",
    "\n",
    "When I try to analyze the Polish grid with 20 wind farms, the algorithm chokes on the second line. I saved the secular equation data for this line in a file called `secular.jld`. The following code block illustrates why I have been unsuccessful. The $B_{11}$ matrix is so close to singular that its inverse contains absurdly large values. This leads to `num` values in the $10^{11}$ range and `poles` in the thousands. The value of `c` is much less than one, so while there are technically points where $s(v) = c$, the corresponding values of $v$ have ridiculously high magnitude."
   ]
  },
  {
   "cell_type": "code",
   "execution_count": 19,
   "metadata": {
    "collapsed": false
   },
   "outputs": [
    {
     "data": {
      "image/png": "[encoded data removed]",
      "image/svg+xml": [
       "<?xml version=\"1.0\" encoding=\"utf-8\" standalone=\"no\"?>\n",
       "<!DOCTYPE svg PUBLIC \"-//W3C//DTD SVG 1.1//EN\"\n",
       "  \"http://www.w3.org/Graphics/SVG/1.1/DTD/svg11.dtd\">\n",
       "<!-- Created with matplotlib (http://matplotlib.org/) -->\n",
       "<svg height=\"408pt\" version=\"1.1\" viewBox=\"0 0 513 408\" width=\"513pt\" xmlns=\"http://www.w3.org/2000/svg\" xmlns:xlink=\"http://www.w3.org/1999/xlink\">\n",
       " <defs>\n",
       "  <style type=\"text/css\">\n",
       "*{stroke-linecap:butt;stroke-linejoin:round;}\n",
       "  </style>\n",
       " </defs>\n",
       " <g id=\"figure_1\">\n",
       "  <g id=\"patch_1\">\n",
       "   <path d=\"\n",
       "M0 408.169\n",
       "L513.833 408.169\n",
       "L513.833 0\n",
       "L0 0\n",
       "z\n",
       "\" style=\"fill:#ffffff;\"/>\n",
       "  </g>\n",
       "  <g id=\"axes_1\">\n",
       "   <g id=\"patch_2\">\n",
       "    <path d=\"\n",
       "M45.8194 368.742\n",
       "L492.219 368.742\n",
       "L492.219 23.1417\n",
       "L45.8194 23.1417\n",
       "z\n",
       "\" style=\"fill:#ffffff;\"/>\n",
       "   </g>\n",
       "   <g id=\"line2d_1\">\n",
       "    <path clip-path=\"url(#p95832b53c6)\" d=\"\n",
       "M45.8194 365.289\n",
       "L70.396 364.515\n",
       "L90.5041 363.663\n",
       "L107.037 362.749\n",
       "L121.336 361.738\n",
       "L133.401 360.666\n",
       "L143.679 359.544\n",
       "L153.063 358.297\n",
       "L161.106 357.012\n",
       "L168.255 355.656\n",
       "L174.958 354.157\n",
       "L180.767 352.637\n",
       "L186.129 351.01\n",
       "L191.045 349.29\n",
       "L195.513 347.496\n",
       "L199.535 345.66\n",
       "L203.556 343.572\n",
       "L207.131 341.468\n",
       "L210.706 339.086\n",
       "L213.834 336.734\n",
       "L216.962 334.09\n",
       "L219.643 331.552\n",
       "L222.324 328.723\n",
       "L225.005 325.557\n",
       "L227.686 321.997\n",
       "L229.92 318.682\n",
       "L232.155 315.001\n",
       "L234.389 310.895\n",
       "L236.623 306.299\n",
       "L238.857 301.131\n",
       "L241.091 295.291\n",
       "L242.879 290.055\n",
       "L244.666 284.237\n",
       "L246.454 277.747\n",
       "L248.241 270.478\n",
       "L250.028 262.3\n",
       "L251.816 253.054\n",
       "L253.603 242.546\n",
       "L255.391 230.536\n",
       "L257.178 216.724\n",
       "L258.965 200.729\n",
       "L260.753 182.065\n",
       "L262.093 165.946\n",
       "L263.434 147.642\n",
       "L264.774 126.741\n",
       "L266.115 102.726\n",
       "L267.455 74.9477\n",
       "L268.796 42.5753\n",
       "L270.311 -1\n",
       "M317.213 -1\n",
       "L318.396 33.7055\n",
       "L319.736 67.3677\n",
       "L321.077 96.1963\n",
       "L322.418 121.074\n",
       "L323.758 142.692\n",
       "L325.546 167.371\n",
       "L327.333 188.213\n",
       "L329.12 205.975\n",
       "L330.908 221.236\n",
       "L332.695 234.443\n",
       "L334.482 245.949\n",
       "L336.27 256.034\n",
       "L338.057 264.923\n",
       "L339.845 272.798\n",
       "L341.632 279.807\n",
       "L343.419 286.073\n",
       "L345.654 293.013\n",
       "L347.888 299.111\n",
       "L350.122 304.498\n",
       "L352.356 309.281\n",
       "L354.591 313.546\n",
       "L356.825 317.365\n",
       "L359.059 320.799\n",
       "L361.74 324.482\n",
       "L364.421 327.752\n",
       "L367.102 330.671\n",
       "L369.783 333.286\n",
       "L372.911 336.006\n",
       "L376.039 338.423\n",
       "L379.167 340.578\n",
       "L382.742 342.768\n",
       "L386.317 344.708\n",
       "L390.338 346.639\n",
       "L394.807 348.518\n",
       "L399.275 350.164\n",
       "L404.191 351.747\n",
       "L409.553 353.249\n",
       "L415.809 354.757\n",
       "L422.511 356.133\n",
       "L430.108 357.452\n",
       "L438.598 358.687\n",
       "L447.982 359.819\n",
       "L458.706 360.88\n",
       "L470.771 361.848\n",
       "L485.07 362.762\n",
       "L492.219 363.144\n",
       "L492.219 363.144\" style=\"fill:none;stroke:#0000ff;stroke-linecap:square;\"/>\n",
       "   </g>\n",
       "   <g id=\"patch_3\">\n",
       "    <path d=\"\n",
       "M45.8194 368.742\n",
       "L45.8194 23.1417\" style=\"fill:none;stroke:#000000;stroke-linecap:square;stroke-linejoin:miter;\"/>\n",
       "   </g>\n",
       "   <g id=\"patch_4\">\n",
       "    <path d=\"\n",
       "M492.219 368.742\n",
       "L492.219 23.1417\" style=\"fill:none;stroke:#000000;stroke-linecap:square;stroke-linejoin:miter;\"/>\n",
       "   </g>\n",
       "   <g id=\"patch_5\">\n",
       "    <path d=\"\n",
       "M45.8194 368.742\n",
       "L492.219 368.742\" style=\"fill:none;stroke:#000000;stroke-linecap:square;stroke-linejoin:miter;\"/>\n",
       "   </g>\n",
       "   <g id=\"patch_6\">\n",
       "    <path d=\"\n",
       "M45.8194 23.1417\n",
       "L492.219 23.1417\" style=\"fill:none;stroke:#000000;stroke-linecap:square;stroke-linejoin:miter;\"/>\n",
       "   </g>\n",
       "   <g id=\"matplotlib.axis_1\">\n",
       "    <g id=\"xtick_1\">\n",
       "     <g id=\"line2d_2\">\n",
       "      <defs>\n",
       "       <path d=\"\n",
       "M0 0\n",
       "L0 -4\" id=\"mc7db9fdffb\" style=\"stroke:#000000;stroke-width:0.5;\"/>\n",
       "      </defs>\n",
       "      <g>\n",
       "       <use style=\"stroke:#000000;stroke-width:0.5;\" x=\"45.819375\" xlink:href=\"#mc7db9fdffb\" y=\"368.74175\"/>\n",
       "      </g>\n",
       "     </g>\n",
       "     <g id=\"line2d_3\">\n",
       "      <defs>\n",
       "       <path d=\"\n",
       "M0 0\n",
       "L0 4\" id=\"m5a7d422ac3\" style=\"stroke:#000000;stroke-width:0.5;\"/>\n",
       "      </defs>\n",
       "      <g>\n",
       "       <use style=\"stroke:#000000;stroke-width:0.5;\" x=\"45.819375\" xlink:href=\"#m5a7d422ac3\" y=\"23.14175\"/>\n",
       "      </g>\n",
       "     </g>\n",
       "     <g id=\"text_1\">\n",
       "      <!-- 1000 -->\n",
       "      <defs>\n",
       "       <path d=\"\n",
       "M12.4062 8.29688\n",
       "L28.5156 8.29688\n",
       "L28.5156 63.9219\n",
       "L10.9844 60.4062\n",
       "L10.9844 69.3906\n",
       "L28.4219 72.9062\n",
       "L38.2812 72.9062\n",
       "L38.2812 8.29688\n",
       "L54.3906 8.29688\n",
       "L54.3906 0\n",
       "L12.4062 0\n",
       "z\n",
       "\" id=\"BitstreamVeraSans-Roman-31\"/>\n",
       "       <path d=\"\n",
       "M31.7812 66.4062\n",
       "Q24.1719 66.4062 20.3281 58.9062\n",
       "Q16.5 51.4219 16.5 36.375\n",
       "Q16.5 21.3906 20.3281 13.8906\n",
       "Q24.1719 6.39062 31.7812 6.39062\n",
       "Q39.4531 6.39062 43.2812 13.8906\n",
       "Q47.125 21.3906 47.125 36.375\n",
       "Q47.125 51.4219 43.2812 58.9062\n",
       "Q39.4531 66.4062 31.7812 66.4062\n",
       "M31.7812 74.2188\n",
       "Q44.0469 74.2188 50.5156 64.5156\n",
       "Q56.9844 54.8281 56.9844 36.375\n",
       "Q56.9844 17.9688 50.5156 8.26562\n",
       "Q44.0469 -1.42188 31.7812 -1.42188\n",
       "Q19.5312 -1.42188 13.0625 8.26562\n",
       "Q6.59375 17.9688 6.59375 36.375\n",
       "Q6.59375 54.8281 13.0625 64.5156\n",
       "Q19.5312 74.2188 31.7812 74.2188\" id=\"BitstreamVeraSans-Roman-30\"/>\n",
       "      </defs>\n",
       "      <g transform=\"translate(31.606875 381.859875)scale(0.12 -0.12)\">\n",
       "       <use xlink:href=\"#BitstreamVeraSans-Roman-31\"/>\n",
       "       <use x=\"63.623046875\" xlink:href=\"#BitstreamVeraSans-Roman-30\"/>\n",
       "       <use x=\"127.24609375\" xlink:href=\"#BitstreamVeraSans-Roman-30\"/>\n",
       "       <use x=\"190.869140625\" xlink:href=\"#BitstreamVeraSans-Roman-30\"/>\n",
       "      </g>\n",
       "     </g>\n",
       "    </g>\n",
       "    <g id=\"xtick_2\">\n",
       "     <g id=\"line2d_4\">\n",
       "      <g>\n",
       "       <use style=\"stroke:#000000;stroke-width:0.5;\" x=\"157.419375\" xlink:href=\"#mc7db9fdffb\" y=\"368.74175\"/>\n",
       "      </g>\n",
       "     </g>\n",
       "     <g id=\"line2d_5\">\n",
       "      <g>\n",
       "       <use style=\"stroke:#000000;stroke-width:0.5;\" x=\"157.419375\" xlink:href=\"#m5a7d422ac3\" y=\"23.14175\"/>\n",
       "      </g>\n",
       "     </g>\n",
       "     <g id=\"text_2\">\n",
       "      <!-- 1500 -->\n",
       "      <defs>\n",
       "       <path d=\"\n",
       "M10.7969 72.9062\n",
       "L49.5156 72.9062\n",
       "L49.5156 64.5938\n",
       "L19.8281 64.5938\n",
       "L19.8281 46.7344\n",
       "Q21.9688 47.4688 24.1094 47.8281\n",
       "Q26.2656 48.1875 28.4219 48.1875\n",
       "Q40.625 48.1875 47.75 41.5\n",
       "Q54.8906 34.8125 54.8906 23.3906\n",
       "Q54.8906 11.625 47.5625 5.09375\n",
       "Q40.2344 -1.42188 26.9062 -1.42188\n",
       "Q22.3125 -1.42188 17.5469 -0.640625\n",
       "Q12.7969 0.140625 7.71875 1.70312\n",
       "L7.71875 11.625\n",
       "Q12.1094 9.23438 16.7969 8.0625\n",
       "Q21.4844 6.89062 26.7031 6.89062\n",
       "Q35.1562 6.89062 40.0781 11.3281\n",
       "Q45.0156 15.7656 45.0156 23.3906\n",
       "Q45.0156 31 40.0781 35.4375\n",
       "Q35.1562 39.8906 26.7031 39.8906\n",
       "Q22.75 39.8906 18.8125 39.0156\n",
       "Q14.8906 38.1406 10.7969 36.2812\n",
       "z\n",
       "\" id=\"BitstreamVeraSans-Roman-35\"/>\n",
       "      </defs>\n",
       "      <g transform=\"translate(143.206875 381.859875)scale(0.12 -0.12)\">\n",
       "       <use xlink:href=\"#BitstreamVeraSans-Roman-31\"/>\n",
       "       <use x=\"63.623046875\" xlink:href=\"#BitstreamVeraSans-Roman-35\"/>\n",
       "       <use x=\"127.24609375\" xlink:href=\"#BitstreamVeraSans-Roman-30\"/>\n",
       "       <use x=\"190.869140625\" xlink:href=\"#BitstreamVeraSans-Roman-30\"/>\n",
       "      </g>\n",
       "     </g>\n",
       "    </g>\n",
       "    <g id=\"xtick_3\">\n",
       "     <g id=\"line2d_6\">\n",
       "      <g>\n",
       "       <use style=\"stroke:#000000;stroke-width:0.5;\" x=\"269.019375\" xlink:href=\"#mc7db9fdffb\" y=\"368.74175\"/>\n",
       "      </g>\n",
       "     </g>\n",
       "     <g id=\"line2d_7\">\n",
       "      <g>\n",
       "       <use style=\"stroke:#000000;stroke-width:0.5;\" x=\"269.019375\" xlink:href=\"#m5a7d422ac3\" y=\"23.14175\"/>\n",
       "      </g>\n",
       "     </g>\n",
       "     <g id=\"text_3\">\n",
       "      <!-- 2000 -->\n",
       "      <defs>\n",
       "       <path d=\"\n",
       "M19.1875 8.29688\n",
       "L53.6094 8.29688\n",
       "L53.6094 0\n",
       "L7.32812 0\n",
       "L7.32812 8.29688\n",
       "Q12.9375 14.1094 22.625 23.8906\n",
       "Q32.3281 33.6875 34.8125 36.5312\n",
       "Q39.5469 41.8438 41.4219 45.5312\n",
       "Q43.3125 49.2188 43.3125 52.7812\n",
       "Q43.3125 58.5938 39.2344 62.25\n",
       "Q35.1562 65.9219 28.6094 65.9219\n",
       "Q23.9688 65.9219 18.8125 64.3125\n",
       "Q13.6719 62.7031 7.8125 59.4219\n",
       "L7.8125 69.3906\n",
       "Q13.7656 71.7812 18.9375 73\n",
       "Q24.125 74.2188 28.4219 74.2188\n",
       "Q39.75 74.2188 46.4844 68.5469\n",
       "Q53.2188 62.8906 53.2188 53.4219\n",
       "Q53.2188 48.9219 51.5312 44.8906\n",
       "Q49.8594 40.875 45.4062 35.4062\n",
       "Q44.1875 33.9844 37.6406 27.2188\n",
       "Q31.1094 20.4531 19.1875 8.29688\" id=\"BitstreamVeraSans-Roman-32\"/>\n",
       "      </defs>\n",
       "      <g transform=\"translate(254.5875 381.859875)scale(0.12 -0.12)\">\n",
       "       <use xlink:href=\"#BitstreamVeraSans-Roman-32\"/>\n",
       "       <use x=\"63.623046875\" xlink:href=\"#BitstreamVeraSans-Roman-30\"/>\n",
       "       <use x=\"127.24609375\" xlink:href=\"#BitstreamVeraSans-Roman-30\"/>\n",
       "       <use x=\"190.869140625\" xlink:href=\"#BitstreamVeraSans-Roman-30\"/>\n",
       "      </g>\n",
       "     </g>\n",
       "    </g>\n",
       "    <g id=\"xtick_4\">\n",
       "     <g id=\"line2d_8\">\n",
       "      <g>\n",
       "       <use style=\"stroke:#000000;stroke-width:0.5;\" x=\"380.619375\" xlink:href=\"#mc7db9fdffb\" y=\"368.74175\"/>\n",
       "      </g>\n",
       "     </g>\n",
       "     <g id=\"line2d_9\">\n",
       "      <g>\n",
       "       <use style=\"stroke:#000000;stroke-width:0.5;\" x=\"380.619375\" xlink:href=\"#m5a7d422ac3\" y=\"23.14175\"/>\n",
       "      </g>\n",
       "     </g>\n",
       "     <g id=\"text_4\">\n",
       "      <!-- 2500 -->\n",
       "      <g transform=\"translate(366.1875 381.859875)scale(0.12 -0.12)\">\n",
       "       <use xlink:href=\"#BitstreamVeraSans-Roman-32\"/>\n",
       "       <use x=\"63.623046875\" xlink:href=\"#BitstreamVeraSans-Roman-35\"/>\n",
       "       <use x=\"127.24609375\" xlink:href=\"#BitstreamVeraSans-Roman-30\"/>\n",
       "       <use x=\"190.869140625\" xlink:href=\"#BitstreamVeraSans-Roman-30\"/>\n",
       "      </g>\n",
       "     </g>\n",
       "    </g>\n",
       "    <g id=\"xtick_5\">\n",
       "     <g id=\"line2d_10\">\n",
       "      <g>\n",
       "       <use style=\"stroke:#000000;stroke-width:0.5;\" x=\"492.219375\" xlink:href=\"#mc7db9fdffb\" y=\"368.74175\"/>\n",
       "      </g>\n",
       "     </g>\n",
       "     <g id=\"line2d_11\">\n",
       "      <g>\n",
       "       <use style=\"stroke:#000000;stroke-width:0.5;\" x=\"492.219375\" xlink:href=\"#m5a7d422ac3\" y=\"23.14175\"/>\n",
       "      </g>\n",
       "     </g>\n",
       "     <g id=\"text_5\">\n",
       "      <!-- 3000 -->\n",
       "      <defs>\n",
       "       <path d=\"\n",
       "M40.5781 39.3125\n",
       "Q47.6562 37.7969 51.625 33\n",
       "Q55.6094 28.2188 55.6094 21.1875\n",
       "Q55.6094 10.4062 48.1875 4.48438\n",
       "Q40.7656 -1.42188 27.0938 -1.42188\n",
       "Q22.5156 -1.42188 17.6562 -0.515625\n",
       "Q12.7969 0.390625 7.625 2.20312\n",
       "L7.625 11.7188\n",
       "Q11.7188 9.32812 16.5938 8.10938\n",
       "Q21.4844 6.89062 26.8125 6.89062\n",
       "Q36.0781 6.89062 40.9375 10.5469\n",
       "Q45.7969 14.2031 45.7969 21.1875\n",
       "Q45.7969 27.6406 41.2812 31.2656\n",
       "Q36.7656 34.9062 28.7188 34.9062\n",
       "L20.2188 34.9062\n",
       "L20.2188 43.0156\n",
       "L29.1094 43.0156\n",
       "Q36.375 43.0156 40.2344 45.9219\n",
       "Q44.0938 48.8281 44.0938 54.2969\n",
       "Q44.0938 59.9062 40.1094 62.9062\n",
       "Q36.1406 65.9219 28.7188 65.9219\n",
       "Q24.6562 65.9219 20.0156 65.0312\n",
       "Q15.375 64.1562 9.8125 62.3125\n",
       "L9.8125 71.0938\n",
       "Q15.4375 72.6562 20.3438 73.4375\n",
       "Q25.25 74.2188 29.5938 74.2188\n",
       "Q40.8281 74.2188 47.3594 69.1094\n",
       "Q53.9062 64.0156 53.9062 55.3281\n",
       "Q53.9062 49.2656 50.4375 45.0938\n",
       "Q46.9688 40.9219 40.5781 39.3125\" id=\"BitstreamVeraSans-Roman-33\"/>\n",
       "      </defs>\n",
       "      <g transform=\"translate(477.8053125 381.859875)scale(0.12 -0.12)\">\n",
       "       <use xlink:href=\"#BitstreamVeraSans-Roman-33\"/>\n",
       "       <use x=\"63.623046875\" xlink:href=\"#BitstreamVeraSans-Roman-30\"/>\n",
       "       <use x=\"127.24609375\" xlink:href=\"#BitstreamVeraSans-Roman-30\"/>\n",
       "       <use x=\"190.869140625\" xlink:href=\"#BitstreamVeraSans-Roman-30\"/>\n",
       "      </g>\n",
       "     </g>\n",
       "    </g>\n",
       "    <g id=\"text_6\">\n",
       "     <!-- $v$ -->\n",
       "     <defs>\n",
       "      <path d=\"\n",
       "M10.6875 11.2812\n",
       "Q10.6875 13.5312 11.2188 16.2031\n",
       "Q11.7656 18.8906 12.2969 20.625\n",
       "Q12.8438 22.3594 14.75 27.3906\n",
       "Q16.6562 32.4219 16.7031 32.625\n",
       "Q18.0156 36.2812 18.0156 38.625\n",
       "Q18.0156 41.6094 15.8281 41.6094\n",
       "Q11.8594 41.6094 9.29688 37.5312\n",
       "Q6.73438 33.4531 5.51562 28.4219\n",
       "Q5.32812 27.7812 4.6875 27.7812\n",
       "L3.51562 27.7812\n",
       "Q2.6875 27.7812 2.6875 28.7188\n",
       "L2.6875 29\n",
       "Q4.29688 34.9688 7.60938 39.5781\n",
       "Q10.9375 44.1875 16.0156 44.1875\n",
       "Q19.5781 44.1875 22.0469 41.8438\n",
       "Q24.5156 39.5 24.5156 35.8906\n",
       "Q24.5156 34.0312 23.6875 31.9844\n",
       "Q21.7344 26.9062 20.6094 23.8438\n",
       "Q19.4844 20.7969 18.5312 17.0156\n",
       "Q17.5781 13.2344 17.5781 10.0156\n",
       "Q17.5781 6.25 19.3125 3.875\n",
       "Q21.0469 1.51562 24.7031 1.51562\n",
       "Q31.6406 1.51562 37.2031 12.2031\n",
       "Q38.9688 15.6719 40.5312 20.3594\n",
       "Q42.0938 25.0469 42.0938 27.9844\n",
       "Q42.0938 31 41.1094 32.6875\n",
       "Q40.1406 34.375 38.5781 36.2031\n",
       "Q37.0156 38.0312 37.0156 39.1094\n",
       "Q37.0156 41.0625 38.625 42.6719\n",
       "Q40.2344 44.2812 42.1875 44.2812\n",
       "Q44.5781 44.2812 45.625 42.0781\n",
       "Q46.6875 39.8906 46.6875 37.1094\n",
       "Q46.6875 33.7969 45.7344 29.2031\n",
       "Q44.7812 24.6094 43.0938 19.6719\n",
       "Q41.4062 14.75 39.9844 11.9219\n",
       "Q33.4062 -1.125 24.6094 -1.125\n",
       "Q18.3125 -1.125 14.5 2.01562\n",
       "Q10.6875 5.17188 10.6875 11.2812\" id=\"Cmmi10-76\"/>\n",
       "     </defs>\n",
       "     <g transform=\"translate(266.079375 398.473625)scale(0.12 -0.12)\">\n",
       "      <use transform=\"translate(0.0 0.71875)\" xlink:href=\"#Cmmi10-76\"/>\n",
       "     </g>\n",
       "    </g>\n",
       "   </g>\n",
       "   <g id=\"matplotlib.axis_2\">\n",
       "    <g id=\"ytick_1\">\n",
       "     <g id=\"line2d_12\">\n",
       "      <defs>\n",
       "       <path d=\"\n",
       "M0 0\n",
       "L4 0\" id=\"md7965d1ba0\" style=\"stroke:#000000;stroke-width:0.5;\"/>\n",
       "      </defs>\n",
       "      <g>\n",
       "       <use style=\"stroke:#000000;stroke-width:0.5;\" x=\"45.819375\" xlink:href=\"#md7965d1ba0\" y=\"368.74175\"/>\n",
       "      </g>\n",
       "     </g>\n",
       "     <g id=\"line2d_13\">\n",
       "      <defs>\n",
       "       <path d=\"\n",
       "M0 0\n",
       "L-4 0\" id=\"md9a1c1a7cd\" style=\"stroke:#000000;stroke-width:0.5;\"/>\n",
       "      </defs>\n",
       "      <g>\n",
       "       <use style=\"stroke:#000000;stroke-width:0.5;\" x=\"492.219375\" xlink:href=\"#md9a1c1a7cd\" y=\"368.74175\"/>\n",
       "      </g>\n",
       "     </g>\n",
       "     <g id=\"text_7\">\n",
       "      <!-- 0.0 -->\n",
       "      <defs>\n",
       "       <path d=\"\n",
       "M10.6875 12.4062\n",
       "L21 12.4062\n",
       "L21 0\n",
       "L10.6875 0\n",
       "z\n",
       "\" id=\"BitstreamVeraSans-Roman-2e\"/>\n",
       "      </defs>\n",
       "      <g transform=\"translate(24.32375 372.053)scale(0.12 -0.12)\">\n",
       "       <use xlink:href=\"#BitstreamVeraSans-Roman-30\"/>\n",
       "       <use x=\"63.623046875\" xlink:href=\"#BitstreamVeraSans-Roman-2e\"/>\n",
       "       <use x=\"95.41015625\" xlink:href=\"#BitstreamVeraSans-Roman-30\"/>\n",
       "      </g>\n",
       "     </g>\n",
       "    </g>\n",
       "    <g id=\"ytick_2\">\n",
       "     <g id=\"line2d_14\">\n",
       "      <g>\n",
       "       <use style=\"stroke:#000000;stroke-width:0.5;\" x=\"45.819375\" xlink:href=\"#md7965d1ba0\" y=\"299.62175\"/>\n",
       "      </g>\n",
       "     </g>\n",
       "     <g id=\"line2d_15\">\n",
       "      <g>\n",
       "       <use style=\"stroke:#000000;stroke-width:0.5;\" x=\"492.219375\" xlink:href=\"#md9a1c1a7cd\" y=\"299.62175\"/>\n",
       "      </g>\n",
       "     </g>\n",
       "     <g id=\"text_8\">\n",
       "      <!-- 0.2 -->\n",
       "      <g transform=\"translate(24.72875 302.933)scale(0.12 -0.12)\">\n",
       "       <use xlink:href=\"#BitstreamVeraSans-Roman-30\"/>\n",
       "       <use x=\"63.623046875\" xlink:href=\"#BitstreamVeraSans-Roman-2e\"/>\n",
       "       <use x=\"95.41015625\" xlink:href=\"#BitstreamVeraSans-Roman-32\"/>\n",
       "      </g>\n",
       "     </g>\n",
       "    </g>\n",
       "    <g id=\"ytick_3\">\n",
       "     <g id=\"line2d_16\">\n",
       "      <g>\n",
       "       <use style=\"stroke:#000000;stroke-width:0.5;\" x=\"45.819375\" xlink:href=\"#md7965d1ba0\" y=\"230.50175\"/>\n",
       "      </g>\n",
       "     </g>\n",
       "     <g id=\"line2d_17\">\n",
       "      <g>\n",
       "       <use style=\"stroke:#000000;stroke-width:0.5;\" x=\"492.219375\" xlink:href=\"#md9a1c1a7cd\" y=\"230.50175\"/>\n",
       "      </g>\n",
       "     </g>\n",
       "     <g id=\"text_9\">\n",
       "      <!-- 0.4 -->\n",
       "      <defs>\n",
       "       <path d=\"\n",
       "M37.7969 64.3125\n",
       "L12.8906 25.3906\n",
       "L37.7969 25.3906\n",
       "z\n",
       "\n",
       "M35.2031 72.9062\n",
       "L47.6094 72.9062\n",
       "L47.6094 25.3906\n",
       "L58.0156 25.3906\n",
       "L58.0156 17.1875\n",
       "L47.6094 17.1875\n",
       "L47.6094 0\n",
       "L37.7969 0\n",
       "L37.7969 17.1875\n",
       "L4.89062 17.1875\n",
       "L4.89062 26.7031\n",
       "z\n",
       "\" id=\"BitstreamVeraSans-Roman-34\"/>\n",
       "      </defs>\n",
       "      <g transform=\"translate(24.2 233.813)scale(0.12 -0.12)\">\n",
       "       <use xlink:href=\"#BitstreamVeraSans-Roman-30\"/>\n",
       "       <use x=\"63.623046875\" xlink:href=\"#BitstreamVeraSans-Roman-2e\"/>\n",
       "       <use x=\"95.41015625\" xlink:href=\"#BitstreamVeraSans-Roman-34\"/>\n",
       "      </g>\n",
       "     </g>\n",
       "    </g>\n",
       "    <g id=\"ytick_4\">\n",
       "     <g id=\"line2d_18\">\n",
       "      <g>\n",
       "       <use style=\"stroke:#000000;stroke-width:0.5;\" x=\"45.819375\" xlink:href=\"#md7965d1ba0\" y=\"161.38175\"/>\n",
       "      </g>\n",
       "     </g>\n",
       "     <g id=\"line2d_19\">\n",
       "      <g>\n",
       "       <use style=\"stroke:#000000;stroke-width:0.5;\" x=\"492.219375\" xlink:href=\"#md9a1c1a7cd\" y=\"161.38175\"/>\n",
       "      </g>\n",
       "     </g>\n",
       "     <g id=\"text_10\">\n",
       "      <!-- 0.6 -->\n",
       "      <defs>\n",
       "       <path d=\"\n",
       "M33.0156 40.375\n",
       "Q26.375 40.375 22.4844 35.8281\n",
       "Q18.6094 31.2969 18.6094 23.3906\n",
       "Q18.6094 15.5312 22.4844 10.9531\n",
       "Q26.375 6.39062 33.0156 6.39062\n",
       "Q39.6562 6.39062 43.5312 10.9531\n",
       "Q47.4062 15.5312 47.4062 23.3906\n",
       "Q47.4062 31.2969 43.5312 35.8281\n",
       "Q39.6562 40.375 33.0156 40.375\n",
       "M52.5938 71.2969\n",
       "L52.5938 62.3125\n",
       "Q48.875 64.0625 45.0938 64.9844\n",
       "Q41.3125 65.9219 37.5938 65.9219\n",
       "Q27.8281 65.9219 22.6719 59.3281\n",
       "Q17.5312 52.7344 16.7969 39.4062\n",
       "Q19.6719 43.6562 24.0156 45.9219\n",
       "Q28.375 48.1875 33.5938 48.1875\n",
       "Q44.5781 48.1875 50.9531 41.5156\n",
       "Q57.3281 34.8594 57.3281 23.3906\n",
       "Q57.3281 12.1562 50.6875 5.35938\n",
       "Q44.0469 -1.42188 33.0156 -1.42188\n",
       "Q20.3594 -1.42188 13.6719 8.26562\n",
       "Q6.98438 17.9688 6.98438 36.375\n",
       "Q6.98438 53.6562 15.1875 63.9375\n",
       "Q23.3906 74.2188 37.2031 74.2188\n",
       "Q40.9219 74.2188 44.7031 73.4844\n",
       "Q48.4844 72.75 52.5938 71.2969\" id=\"BitstreamVeraSans-Roman-36\"/>\n",
       "      </defs>\n",
       "      <g transform=\"translate(24.2825 164.693)scale(0.12 -0.12)\">\n",
       "       <use xlink:href=\"#BitstreamVeraSans-Roman-30\"/>\n",
       "       <use x=\"63.623046875\" xlink:href=\"#BitstreamVeraSans-Roman-2e\"/>\n",
       "       <use x=\"95.41015625\" xlink:href=\"#BitstreamVeraSans-Roman-36\"/>\n",
       "      </g>\n",
       "     </g>\n",
       "    </g>\n",
       "    <g id=\"ytick_5\">\n",
       "     <g id=\"line2d_20\">\n",
       "      <g>\n",
       "       <use style=\"stroke:#000000;stroke-width:0.5;\" x=\"45.819375\" xlink:href=\"#md7965d1ba0\" y=\"92.26175\"/>\n",
       "      </g>\n",
       "     </g>\n",
       "     <g id=\"line2d_21\">\n",
       "      <g>\n",
       "       <use style=\"stroke:#000000;stroke-width:0.5;\" x=\"492.219375\" xlink:href=\"#md9a1c1a7cd\" y=\"92.26175\"/>\n",
       "      </g>\n",
       "     </g>\n",
       "     <g id=\"text_11\">\n",
       "      <!-- 0.8 -->\n",
       "      <defs>\n",
       "       <path d=\"\n",
       "M31.7812 34.625\n",
       "Q24.75 34.625 20.7188 30.8594\n",
       "Q16.7031 27.0938 16.7031 20.5156\n",
       "Q16.7031 13.9219 20.7188 10.1562\n",
       "Q24.75 6.39062 31.7812 6.39062\n",
       "Q38.8125 6.39062 42.8594 10.1719\n",
       "Q46.9219 13.9688 46.9219 20.5156\n",
       "Q46.9219 27.0938 42.8906 30.8594\n",
       "Q38.875 34.625 31.7812 34.625\n",
       "M21.9219 38.8125\n",
       "Q15.5781 40.375 12.0312 44.7188\n",
       "Q8.5 49.0781 8.5 55.3281\n",
       "Q8.5 64.0625 14.7188 69.1406\n",
       "Q20.9531 74.2188 31.7812 74.2188\n",
       "Q42.6719 74.2188 48.875 69.1406\n",
       "Q55.0781 64.0625 55.0781 55.3281\n",
       "Q55.0781 49.0781 51.5312 44.7188\n",
       "Q48 40.375 41.7031 38.8125\n",
       "Q48.8281 37.1562 52.7969 32.3125\n",
       "Q56.7812 27.4844 56.7812 20.5156\n",
       "Q56.7812 9.90625 50.3125 4.23438\n",
       "Q43.8438 -1.42188 31.7812 -1.42188\n",
       "Q19.7344 -1.42188 13.25 4.23438\n",
       "Q6.78125 9.90625 6.78125 20.5156\n",
       "Q6.78125 27.4844 10.7812 32.3125\n",
       "Q14.7969 37.1562 21.9219 38.8125\n",
       "M18.3125 54.3906\n",
       "Q18.3125 48.7344 21.8438 45.5625\n",
       "Q25.3906 42.3906 31.7812 42.3906\n",
       "Q38.1406 42.3906 41.7188 45.5625\n",
       "Q45.3125 48.7344 45.3125 54.3906\n",
       "Q45.3125 60.0625 41.7188 63.2344\n",
       "Q38.1406 66.4062 31.7812 66.4062\n",
       "Q25.3906 66.4062 21.8438 63.2344\n",
       "Q18.3125 60.0625 18.3125 54.3906\" id=\"BitstreamVeraSans-Roman-38\"/>\n",
       "      </defs>\n",
       "      <g transform=\"translate(24.348125 95.573)scale(0.12 -0.12)\">\n",
       "       <use xlink:href=\"#BitstreamVeraSans-Roman-30\"/>\n",
       "       <use x=\"63.623046875\" xlink:href=\"#BitstreamVeraSans-Roman-2e\"/>\n",
       "       <use x=\"95.41015625\" xlink:href=\"#BitstreamVeraSans-Roman-38\"/>\n",
       "      </g>\n",
       "     </g>\n",
       "    </g>\n",
       "    <g id=\"ytick_6\">\n",
       "     <g id=\"line2d_22\">\n",
       "      <g>\n",
       "       <use style=\"stroke:#000000;stroke-width:0.5;\" x=\"45.819375\" xlink:href=\"#md7965d1ba0\" y=\"23.14175\"/>\n",
       "      </g>\n",
       "     </g>\n",
       "     <g id=\"line2d_23\">\n",
       "      <g>\n",
       "       <use style=\"stroke:#000000;stroke-width:0.5;\" x=\"492.219375\" xlink:href=\"#md9a1c1a7cd\" y=\"23.14175\"/>\n",
       "      </g>\n",
       "     </g>\n",
       "     <g id=\"text_12\">\n",
       "      <!-- 1.0 -->\n",
       "      <g transform=\"translate(24.850625 26.453)scale(0.12 -0.12)\">\n",
       "       <use xlink:href=\"#BitstreamVeraSans-Roman-31\"/>\n",
       "       <use x=\"63.623046875\" xlink:href=\"#BitstreamVeraSans-Roman-2e\"/>\n",
       "       <use x=\"95.41015625\" xlink:href=\"#BitstreamVeraSans-Roman-30\"/>\n",
       "      </g>\n",
       "     </g>\n",
       "    </g>\n",
       "    <g id=\"text_13\">\n",
       "     <!-- $s(v)$ -->\n",
       "     <defs>\n",
       "      <path d=\"\n",
       "M6.5 -25\n",
       "Q5.60938 -25 5.60938 -24.125\n",
       "Q5.60938 -23.6875 5.8125 -23.4844\n",
       "Q22.9062 -6.78125 22.9062 25\n",
       "Q22.9062 56.7812 6 73.2969\n",
       "Q5.60938 73.5312 5.60938 74.125\n",
       "Q5.60938 74.4688 5.875 74.7344\n",
       "Q6.15625 75 6.5 75\n",
       "L7.42188 75\n",
       "Q7.71875 75 7.90625 74.8125\n",
       "Q15.0938 69.1406 19.875 61.0312\n",
       "Q24.6562 52.9375 26.875 43.75\n",
       "Q29.1094 34.5781 29.1094 25\n",
       "Q29.1094 17.9219 27.9062 11.0625\n",
       "Q26.7031 4.20312 24.0938 -2.45312\n",
       "Q21.4844 -9.125 17.4844 -14.7656\n",
       "Q13.4844 -20.4062 7.90625 -24.8125\n",
       "Q7.71875 -25 7.42188 -25\n",
       "z\n",
       "\" id=\"Cmr10-29\"/>\n",
       "      <path d=\"\n",
       "M8.6875 6.10938\n",
       "Q11.375 1.51562 19.4844 1.51562\n",
       "Q23 1.51562 26.1719 2.70312\n",
       "Q29.3438 3.90625 31.4219 6.29688\n",
       "Q33.5 8.6875 33.5 12.1094\n",
       "Q33.5 14.7031 31.6406 16.3594\n",
       "Q29.7812 18.0156 27.0938 18.6094\n",
       "L21.6875 19.6719\n",
       "Q17.9688 20.6094 15.5781 23.1406\n",
       "Q13.1875 25.6875 13.1875 29.2969\n",
       "Q13.1875 33.7344 15.5938 37.1562\n",
       "Q18.0156 40.5781 21.9688 42.375\n",
       "Q25.9219 44.1875 30.1719 44.1875\n",
       "Q34.7188 44.1875 38.2969 42.0156\n",
       "Q41.8906 39.8438 41.8906 35.5938\n",
       "Q41.8906 33.2969 40.5938 31.5312\n",
       "Q39.3125 29.7812 37.0156 29.7812\n",
       "Q35.6875 29.7812 34.7344 30.6406\n",
       "Q33.7969 31.5 33.7969 32.8125\n",
       "Q33.7969 33.9844 34.4531 35.0781\n",
       "Q35.1094 36.1875 36.2031 36.8438\n",
       "Q37.3125 37.5 38.4844 37.5\n",
       "Q37.5938 39.6562 35.1719 40.625\n",
       "Q32.7656 41.6094 29.9844 41.6094\n",
       "Q27.4375 41.6094 24.8906 40.5781\n",
       "Q22.3594 39.5469 20.8125 37.5625\n",
       "Q19.2812 35.5938 19.2812 32.9062\n",
       "Q19.2812 31.1094 20.5469 29.7344\n",
       "Q21.8281 28.375 23.6875 27.7812\n",
       "L29.5 26.6094\n",
       "Q32.2812 26.0312 34.5938 24.5312\n",
       "Q36.9219 23.0469 38.25 20.7656\n",
       "Q39.5938 18.5 39.5938 15.5781\n",
       "Q39.5938 11.8594 37.5156 8.25\n",
       "Q35.4531 4.64062 32.4219 2.48438\n",
       "Q27.0938 -1.125 19.3906 -1.125\n",
       "Q14.0625 -1.125 9.60938 1.3125\n",
       "Q5.17188 3.76562 5.17188 8.59375\n",
       "Q5.17188 11.3281 6.75 13.3438\n",
       "Q8.34375 15.375 11.0781 15.375\n",
       "Q12.7031 15.375 13.7969 14.3906\n",
       "Q14.8906 13.4219 14.8906 11.8125\n",
       "Q14.8906 9.51562 13.1719 7.8125\n",
       "Q11.4688 6.10938 9.1875 6.10938\n",
       "z\n",
       "\" id=\"Cmmi10-73\"/>\n",
       "      <path d=\"\n",
       "M31 -24.8125\n",
       "Q25.4375 -20.4062 21.4062 -14.7188\n",
       "Q17.3906 -9.03125 14.8125 -2.57812\n",
       "Q12.25 3.85938 10.9844 10.8906\n",
       "Q9.71875 17.9219 9.71875 25\n",
       "Q9.71875 32.1719 10.9844 39.2031\n",
       "Q12.25 46.2344 14.8594 52.7344\n",
       "Q17.4844 59.2344 21.5312 64.8906\n",
       "Q25.5938 70.5625 31 74.8125\n",
       "Q31 75 31.5 75\n",
       "L32.4219 75\n",
       "Q32.7188 75 32.9531 74.7344\n",
       "Q33.2031 74.4688 33.2031 74.125\n",
       "Q33.2031 73.6875 33.0156 73.4844\n",
       "Q28.125 68.7031 24.875 63.2344\n",
       "Q21.625 57.7656 19.6406 51.5781\n",
       "Q17.6719 45.4062 16.7969 38.7812\n",
       "Q15.9219 32.1719 15.9219 25\n",
       "Q15.9219 -6.78125 32.9062 -23.2969\n",
       "Q33.2031 -23.5781 33.2031 -24.125\n",
       "Q33.2031 -24.3594 32.9375 -24.6719\n",
       "Q32.6719 -25 32.4219 -25\n",
       "L31.5 -25\n",
       "Q31 -25 31 -24.8125\" id=\"Cmr10-28\"/>\n",
       "     </defs>\n",
       "     <g transform=\"translate(16.2 206.32175)rotate(-90.0)scale(0.12 -0.12)\">\n",
       "      <use xlink:href=\"#Cmmi10-73\"/>\n",
       "      <use transform=\"translate(46.77734375 0.0)\" xlink:href=\"#Cmr10-28\"/>\n",
       "      <use transform=\"translate(85.595703125 0.0)\" xlink:href=\"#Cmmi10-76\"/>\n",
       "      <use transform=\"translate(133.984375 0.0)\" xlink:href=\"#Cmr10-29\"/>\n",
       "     </g>\n",
       "    </g>\n",
       "    <g id=\"text_14\">\n",
       "     <!-- 1e20 -->\n",
       "     <defs>\n",
       "      <path d=\"\n",
       "M56.2031 29.5938\n",
       "L56.2031 25.2031\n",
       "L14.8906 25.2031\n",
       "Q15.4844 15.9219 20.4844 11.0625\n",
       "Q25.4844 6.20312 34.4219 6.20312\n",
       "Q39.5938 6.20312 44.4531 7.46875\n",
       "Q49.3125 8.73438 54.1094 11.2812\n",
       "L54.1094 2.78125\n",
       "Q49.2656 0.734375 44.1875 -0.34375\n",
       "Q39.1094 -1.42188 33.8906 -1.42188\n",
       "Q20.7969 -1.42188 13.1562 6.1875\n",
       "Q5.51562 13.8125 5.51562 26.8125\n",
       "Q5.51562 40.2344 12.7656 48.1094\n",
       "Q20.0156 56 32.3281 56\n",
       "Q43.3594 56 49.7812 48.8906\n",
       "Q56.2031 41.7969 56.2031 29.5938\n",
       "M47.2188 32.2344\n",
       "Q47.125 39.5938 43.0938 43.9844\n",
       "Q39.0625 48.3906 32.4219 48.3906\n",
       "Q24.9062 48.3906 20.3906 44.1406\n",
       "Q15.875 39.8906 15.1875 32.1719\n",
       "z\n",
       "\" id=\"BitstreamVeraSans-Roman-65\"/>\n",
       "     </defs>\n",
       "     <g transform=\"translate(45.819375 20.14175)scale(0.12 -0.12)\">\n",
       "      <use xlink:href=\"#BitstreamVeraSans-Roman-31\"/>\n",
       "      <use x=\"63.623046875\" xlink:href=\"#BitstreamVeraSans-Roman-65\"/>\n",
       "      <use x=\"125.146484375\" xlink:href=\"#BitstreamVeraSans-Roman-32\"/>\n",
       "      <use x=\"188.76953125\" xlink:href=\"#BitstreamVeraSans-Roman-30\"/>\n",
       "     </g>\n",
       "    </g>\n",
       "   </g>\n",
       "   <g id=\"text_15\">\n",
       "    <!-- Why the Polish grid is tough (look at the y-scale!) -->\n",
       "    <defs>\n",
       "     <path d=\"\n",
       "M9.07812 75.9844\n",
       "L18.1094 75.9844\n",
       "L18.1094 31.1094\n",
       "L44.9219 54.6875\n",
       "L56.3906 54.6875\n",
       "L27.3906 29.1094\n",
       "L57.625 0\n",
       "L45.9062 0\n",
       "L18.1094 26.7031\n",
       "L18.1094 0\n",
       "L9.07812 0\n",
       "z\n",
       "\" id=\"BitstreamVeraSans-Roman-6b\"/>\n",
       "     <path d=\"\n",
       "M9.42188 54.6875\n",
       "L18.4062 54.6875\n",
       "L18.4062 0\n",
       "L9.42188 0\n",
       "z\n",
       "\n",
       "M9.42188 75.9844\n",
       "L18.4062 75.9844\n",
       "L18.4062 64.5938\n",
       "L9.42188 64.5938\n",
       "z\n",
       "\" id=\"BitstreamVeraSans-Roman-69\"/>\n",
       "     <path d=\"\n",
       "M8.5 21.5781\n",
       "L8.5 54.6875\n",
       "L17.4844 54.6875\n",
       "L17.4844 21.9219\n",
       "Q17.4844 14.1562 20.5 10.2656\n",
       "Q23.5312 6.39062 29.5938 6.39062\n",
       "Q36.8594 6.39062 41.0781 11.0312\n",
       "Q45.3125 15.6719 45.3125 23.6875\n",
       "L45.3125 54.6875\n",
       "L54.2969 54.6875\n",
       "L54.2969 0\n",
       "L45.3125 0\n",
       "L45.3125 8.40625\n",
       "Q42.0469 3.42188 37.7188 1\n",
       "Q33.4062 -1.42188 27.6875 -1.42188\n",
       "Q18.2656 -1.42188 13.375 4.4375\n",
       "Q8.5 10.2969 8.5 21.5781\" id=\"BitstreamVeraSans-Roman-75\"/>\n",
       "     <path d=\"\n",
       "M54.8906 33.0156\n",
       "L54.8906 0\n",
       "L45.9062 0\n",
       "L45.9062 32.7188\n",
       "Q45.9062 40.4844 42.875 44.3281\n",
       "Q39.8438 48.1875 33.7969 48.1875\n",
       "Q26.5156 48.1875 22.3125 43.5469\n",
       "Q18.1094 38.9219 18.1094 30.9062\n",
       "L18.1094 0\n",
       "L9.07812 0\n",
       "L9.07812 75.9844\n",
       "L18.1094 75.9844\n",
       "L18.1094 46.1875\n",
       "Q21.3438 51.125 25.7031 53.5625\n",
       "Q30.0781 56 35.7969 56\n",
       "Q45.2188 56 50.0469 50.1719\n",
       "Q54.8906 44.3438 54.8906 33.0156\" id=\"BitstreamVeraSans-Roman-68\"/>\n",
       "     <path d=\"\n",
       "M48.7812 52.5938\n",
       "L48.7812 44.1875\n",
       "Q44.9688 46.2969 41.1406 47.3438\n",
       "Q37.3125 48.3906 33.4062 48.3906\n",
       "Q24.6562 48.3906 19.8125 42.8438\n",
       "Q14.9844 37.3125 14.9844 27.2969\n",
       "Q14.9844 17.2812 19.8125 11.7344\n",
       "Q24.6562 6.20312 33.4062 6.20312\n",
       "Q37.3125 6.20312 41.1406 7.25\n",
       "Q44.9688 8.29688 48.7812 10.4062\n",
       "L48.7812 2.09375\n",
       "Q45.0156 0.34375 40.9844 -0.53125\n",
       "Q36.9688 -1.42188 32.4219 -1.42188\n",
       "Q20.0625 -1.42188 12.7812 6.34375\n",
       "Q5.51562 14.1094 5.51562 27.2969\n",
       "Q5.51562 40.6719 12.8594 48.3281\n",
       "Q20.2188 56 33.0156 56\n",
       "Q37.1562 56 41.1094 55.1406\n",
       "Q45.0625 54.2969 48.7812 52.5938\" id=\"BitstreamVeraSans-Roman-63\"/>\n",
       "     <path d=\"\n",
       "M9.42188 75.9844\n",
       "L18.4062 75.9844\n",
       "L18.4062 0\n",
       "L9.42188 0\n",
       "z\n",
       "\" id=\"BitstreamVeraSans-Roman-6c\"/>\n",
       "     <path d=\"\n",
       "M15.0938 12.4062\n",
       "L25 12.4062\n",
       "L25 0\n",
       "L15.0938 0\n",
       "z\n",
       "\n",
       "M15.0938 72.9062\n",
       "L25 72.9062\n",
       "L25 40.9219\n",
       "L24.0312 23.4844\n",
       "L16.1094 23.4844\n",
       "L15.0938 40.9219\n",
       "z\n",
       "\" id=\"BitstreamVeraSans-Roman-21\"/>\n",
       "     <path d=\"\n",
       "M41.1094 46.2969\n",
       "Q39.5938 47.1719 37.8125 47.5781\n",
       "Q36.0312 48 33.8906 48\n",
       "Q26.2656 48 22.1875 43.0469\n",
       "Q18.1094 38.0938 18.1094 28.8125\n",
       "L18.1094 0\n",
       "L9.07812 0\n",
       "L9.07812 54.6875\n",
       "L18.1094 54.6875\n",
       "L18.1094 46.1875\n",
       "Q20.9531 51.1719 25.4844 53.5781\n",
       "Q30.0312 56 36.5312 56\n",
       "Q37.4531 56 38.5781 55.875\n",
       "Q39.7031 55.7656 41.0625 55.5156\n",
       "z\n",
       "\" id=\"BitstreamVeraSans-Roman-72\"/>\n",
       "     <path d=\"\n",
       "M45.4062 27.9844\n",
       "Q45.4062 37.75 41.375 43.1094\n",
       "Q37.3594 48.4844 30.0781 48.4844\n",
       "Q22.8594 48.4844 18.8281 43.1094\n",
       "Q14.7969 37.75 14.7969 27.9844\n",
       "Q14.7969 18.2656 18.8281 12.8906\n",
       "Q22.8594 7.51562 30.0781 7.51562\n",
       "Q37.3594 7.51562 41.375 12.8906\n",
       "Q45.4062 18.2656 45.4062 27.9844\n",
       "M54.3906 6.78125\n",
       "Q54.3906 -7.17188 48.1875 -13.9844\n",
       "Q42 -20.7969 29.2031 -20.7969\n",
       "Q24.4688 -20.7969 20.2656 -20.0938\n",
       "Q16.0625 -19.3906 12.1094 -17.9219\n",
       "L12.1094 -9.1875\n",
       "Q16.0625 -11.3281 19.9219 -12.3438\n",
       "Q23.7812 -13.375 27.7812 -13.375\n",
       "Q36.625 -13.375 41.0156 -8.76562\n",
       "Q45.4062 -4.15625 45.4062 5.17188\n",
       "L45.4062 9.625\n",
       "Q42.625 4.78125 38.2812 2.39062\n",
       "Q33.9375 0 27.875 0\n",
       "Q17.8281 0 11.6719 7.65625\n",
       "Q5.51562 15.3281 5.51562 27.9844\n",
       "Q5.51562 40.6719 11.6719 48.3281\n",
       "Q17.8281 56 27.875 56\n",
       "Q33.9375 56 38.2812 53.6094\n",
       "Q42.625 51.2188 45.4062 46.3906\n",
       "L45.4062 54.6875\n",
       "L54.3906 54.6875\n",
       "z\n",
       "\" id=\"BitstreamVeraSans-Roman-67\"/>\n",
       "     <path d=\"\n",
       "M32.1719 -5.07812\n",
       "Q28.375 -14.8438 24.75 -17.8125\n",
       "Q21.1406 -20.7969 15.0938 -20.7969\n",
       "L7.90625 -20.7969\n",
       "L7.90625 -13.2812\n",
       "L13.1875 -13.2812\n",
       "Q16.8906 -13.2812 18.9375 -11.5156\n",
       "Q21 -9.76562 23.4844 -3.21875\n",
       "L25.0938 0.875\n",
       "L2.98438 54.6875\n",
       "L12.5 54.6875\n",
       "L29.5938 11.9219\n",
       "L46.6875 54.6875\n",
       "L56.2031 54.6875\n",
       "z\n",
       "\" id=\"BitstreamVeraSans-Roman-79\"/>\n",
       "     <path d=\"\n",
       "M44.2812 53.0781\n",
       "L44.2812 44.5781\n",
       "Q40.4844 46.5312 36.375 47.5\n",
       "Q32.2812 48.4844 27.875 48.4844\n",
       "Q21.1875 48.4844 17.8438 46.4375\n",
       "Q14.5 44.3906 14.5 40.2812\n",
       "Q14.5 37.1562 16.8906 35.375\n",
       "Q19.2812 33.5938 26.5156 31.9844\n",
       "L29.5938 31.2969\n",
       "Q39.1562 29.25 43.1875 25.5156\n",
       "Q47.2188 21.7812 47.2188 15.0938\n",
       "Q47.2188 7.46875 41.1875 3.01562\n",
       "Q35.1562 -1.42188 24.6094 -1.42188\n",
       "Q20.2188 -1.42188 15.4531 -0.5625\n",
       "Q10.6875 0.296875 5.42188 2\n",
       "L5.42188 11.2812\n",
       "Q10.4062 8.6875 15.2344 7.39062\n",
       "Q20.0625 6.10938 24.8125 6.10938\n",
       "Q31.1562 6.10938 34.5625 8.28125\n",
       "Q37.9844 10.4531 37.9844 14.4062\n",
       "Q37.9844 18.0625 35.5156 20.0156\n",
       "Q33.0625 21.9688 24.7031 23.7812\n",
       "L21.5781 24.5156\n",
       "Q13.2344 26.2656 9.51562 29.9062\n",
       "Q5.8125 33.5469 5.8125 39.8906\n",
       "Q5.8125 47.6094 11.2812 51.7969\n",
       "Q16.75 56 26.8125 56\n",
       "Q31.7812 56 36.1719 55.2656\n",
       "Q40.5781 54.5469 44.2812 53.0781\" id=\"BitstreamVeraSans-Roman-73\"/>\n",
       "     <path d=\"\n",
       "M4.89062 31.3906\n",
       "L31.2031 31.3906\n",
       "L31.2031 23.3906\n",
       "L4.89062 23.3906\n",
       "z\n",
       "\" id=\"BitstreamVeraSans-Roman-2d\"/>\n",
       "     <path d=\"\n",
       "M18.3125 70.2188\n",
       "L18.3125 54.6875\n",
       "L36.8125 54.6875\n",
       "L36.8125 47.7031\n",
       "L18.3125 47.7031\n",
       "L18.3125 18.0156\n",
       "Q18.3125 11.3281 20.1406 9.42188\n",
       "Q21.9688 7.51562 27.5938 7.51562\n",
       "L36.8125 7.51562\n",
       "L36.8125 0\n",
       "L27.5938 0\n",
       "Q17.1875 0 13.2344 3.875\n",
       "Q9.28125 7.76562 9.28125 18.0156\n",
       "L9.28125 47.7031\n",
       "L2.6875 47.7031\n",
       "L2.6875 54.6875\n",
       "L9.28125 54.6875\n",
       "L9.28125 70.2188\n",
       "z\n",
       "\" id=\"BitstreamVeraSans-Roman-74\"/>\n",
       "     <path id=\"BitstreamVeraSans-Roman-20\"/>\n",
       "     <path d=\"\n",
       "M30.6094 48.3906\n",
       "Q23.3906 48.3906 19.1875 42.75\n",
       "Q14.9844 37.1094 14.9844 27.2969\n",
       "Q14.9844 17.4844 19.1562 11.8438\n",
       "Q23.3438 6.20312 30.6094 6.20312\n",
       "Q37.7969 6.20312 41.9844 11.8594\n",
       "Q46.1875 17.5312 46.1875 27.2969\n",
       "Q46.1875 37.0156 41.9844 42.7031\n",
       "Q37.7969 48.3906 30.6094 48.3906\n",
       "M30.6094 56\n",
       "Q42.3281 56 49.0156 48.375\n",
       "Q55.7188 40.7656 55.7188 27.2969\n",
       "Q55.7188 13.875 49.0156 6.21875\n",
       "Q42.3281 -1.42188 30.6094 -1.42188\n",
       "Q18.8438 -1.42188 12.1719 6.21875\n",
       "Q5.51562 13.875 5.51562 27.2969\n",
       "Q5.51562 40.7656 12.1719 48.375\n",
       "Q18.8438 56 30.6094 56\" id=\"BitstreamVeraSans-Roman-6f\"/>\n",
       "     <path d=\"\n",
       "M45.4062 46.3906\n",
       "L45.4062 75.9844\n",
       "L54.3906 75.9844\n",
       "L54.3906 0\n",
       "L45.4062 0\n",
       "L45.4062 8.20312\n",
       "Q42.5781 3.32812 38.25 0.953125\n",
       "Q33.9375 -1.42188 27.875 -1.42188\n",
       "Q17.9688 -1.42188 11.7344 6.48438\n",
       "Q5.51562 14.4062 5.51562 27.2969\n",
       "Q5.51562 40.1875 11.7344 48.0938\n",
       "Q17.9688 56 27.875 56\n",
       "Q33.9375 56 38.25 53.625\n",
       "Q42.5781 51.2656 45.4062 46.3906\n",
       "M14.7969 27.2969\n",
       "Q14.7969 17.3906 18.875 11.75\n",
       "Q22.9531 6.10938 30.0781 6.10938\n",
       "Q37.2031 6.10938 41.2969 11.75\n",
       "Q45.4062 17.3906 45.4062 27.2969\n",
       "Q45.4062 37.2031 41.2969 42.8438\n",
       "Q37.2031 48.4844 30.0781 48.4844\n",
       "Q22.9531 48.4844 18.875 42.8438\n",
       "Q14.7969 37.2031 14.7969 27.2969\" id=\"BitstreamVeraSans-Roman-64\"/>\n",
       "     <path d=\"\n",
       "M34.2812 27.4844\n",
       "Q23.3906 27.4844 19.1875 25\n",
       "Q14.9844 22.5156 14.9844 16.5\n",
       "Q14.9844 11.7188 18.1406 8.90625\n",
       "Q21.2969 6.10938 26.7031 6.10938\n",
       "Q34.1875 6.10938 38.7031 11.4062\n",
       "Q43.2188 16.7031 43.2188 25.4844\n",
       "L43.2188 27.4844\n",
       "z\n",
       "\n",
       "M52.2031 31.2031\n",
       "L52.2031 0\n",
       "L43.2188 0\n",
       "L43.2188 8.29688\n",
       "Q40.1406 3.32812 35.5469 0.953125\n",
       "Q30.9531 -1.42188 24.3125 -1.42188\n",
       "Q15.9219 -1.42188 10.9531 3.29688\n",
       "Q6 8.01562 6 15.9219\n",
       "Q6 25.1406 12.1719 29.8281\n",
       "Q18.3594 34.5156 30.6094 34.5156\n",
       "L43.2188 34.5156\n",
       "L43.2188 35.4062\n",
       "Q43.2188 41.6094 39.1406 45\n",
       "Q35.0625 48.3906 27.6875 48.3906\n",
       "Q23 48.3906 18.5469 47.2656\n",
       "Q14.1094 46.1406 10.0156 43.8906\n",
       "L10.0156 52.2031\n",
       "Q14.9375 54.1094 19.5781 55.0469\n",
       "Q24.2188 56 28.6094 56\n",
       "Q40.4844 56 46.3438 49.8438\n",
       "Q52.2031 43.7031 52.2031 31.2031\" id=\"BitstreamVeraSans-Roman-61\"/>\n",
       "     <path d=\"\n",
       "M31 75.875\n",
       "Q24.4688 64.6562 21.2812 53.6562\n",
       "Q18.1094 42.6719 18.1094 31.3906\n",
       "Q18.1094 20.125 21.3125 9.0625\n",
       "Q24.5156 -2 31 -13.1875\n",
       "L23.1875 -13.1875\n",
       "Q15.875 -1.70312 12.2344 9.375\n",
       "Q8.59375 20.4531 8.59375 31.3906\n",
       "Q8.59375 42.2812 12.2031 53.3125\n",
       "Q15.8281 64.3594 23.1875 75.875\n",
       "z\n",
       "\" id=\"BitstreamVeraSans-Roman-28\"/>\n",
       "     <path d=\"\n",
       "M3.32812 72.9062\n",
       "L13.2812 72.9062\n",
       "L28.6094 11.2812\n",
       "L43.8906 72.9062\n",
       "L54.9844 72.9062\n",
       "L70.3125 11.2812\n",
       "L85.5938 72.9062\n",
       "L95.6094 72.9062\n",
       "L77.2969 0\n",
       "L64.8906 0\n",
       "L49.5156 63.2812\n",
       "L33.9844 0\n",
       "L21.5781 0\n",
       "z\n",
       "\" id=\"BitstreamVeraSans-Roman-57\"/>\n",
       "     <path d=\"\n",
       "M19.6719 64.7969\n",
       "L19.6719 37.4062\n",
       "L32.0781 37.4062\n",
       "Q38.9688 37.4062 42.7188 40.9688\n",
       "Q46.4844 44.5312 46.4844 51.125\n",
       "Q46.4844 57.6719 42.7188 61.2344\n",
       "Q38.9688 64.7969 32.0781 64.7969\n",
       "z\n",
       "\n",
       "M9.8125 72.9062\n",
       "L32.0781 72.9062\n",
       "Q44.3438 72.9062 50.6094 67.3594\n",
       "Q56.8906 61.8125 56.8906 51.125\n",
       "Q56.8906 40.3281 50.6094 34.8125\n",
       "Q44.3438 29.2969 32.0781 29.2969\n",
       "L19.6719 29.2969\n",
       "L19.6719 0\n",
       "L9.8125 0\n",
       "z\n",
       "\" id=\"BitstreamVeraSans-Roman-50\"/>\n",
       "     <path d=\"\n",
       "M8.01562 75.875\n",
       "L15.8281 75.875\n",
       "Q23.1406 64.3594 26.7812 53.3125\n",
       "Q30.4219 42.2812 30.4219 31.3906\n",
       "Q30.4219 20.4531 26.7812 9.375\n",
       "Q23.1406 -1.70312 15.8281 -13.1875\n",
       "L8.01562 -13.1875\n",
       "Q14.5 -2 17.7031 9.0625\n",
       "Q20.9062 20.125 20.9062 31.3906\n",
       "Q20.9062 42.6719 17.7031 53.6562\n",
       "Q14.5 64.6562 8.01562 75.875\" id=\"BitstreamVeraSans-Roman-29\"/>\n",
       "    </defs>\n",
       "    <g transform=\"translate(91.88475 18.14175)scale(0.144 -0.144)\">\n",
       "     <use xlink:href=\"#BitstreamVeraSans-Roman-57\"/>\n",
       "     <use x=\"98.876953125\" xlink:href=\"#BitstreamVeraSans-Roman-68\"/>\n",
       "     <use x=\"162.255859375\" xlink:href=\"#BitstreamVeraSans-Roman-79\"/>\n",
       "     <use x=\"221.435546875\" xlink:href=\"#BitstreamVeraSans-Roman-20\"/>\n",
       "     <use x=\"253.22265625\" xlink:href=\"#BitstreamVeraSans-Roman-74\"/>\n",
       "     <use x=\"292.431640625\" xlink:href=\"#BitstreamVeraSans-Roman-68\"/>\n",
       "     <use x=\"355.810546875\" xlink:href=\"#BitstreamVeraSans-Roman-65\"/>\n",
       "     <use x=\"417.333984375\" xlink:href=\"#BitstreamVeraSans-Roman-20\"/>\n",
       "     <use x=\"449.12109375\" xlink:href=\"#BitstreamVeraSans-Roman-50\"/>\n",
       "     <use x=\"505.798828125\" xlink:href=\"#BitstreamVeraSans-Roman-6f\"/>\n",
       "     <use x=\"566.98046875\" xlink:href=\"#BitstreamVeraSans-Roman-6c\"/>\n",
       "     <use x=\"594.763671875\" xlink:href=\"#BitstreamVeraSans-Roman-69\"/>\n",
       "     <use x=\"622.546875\" xlink:href=\"#BitstreamVeraSans-Roman-73\"/>\n",
       "     <use x=\"674.646484375\" xlink:href=\"#BitstreamVeraSans-Roman-68\"/>\n",
       "     <use x=\"738.025390625\" xlink:href=\"#BitstreamVeraSans-Roman-20\"/>\n",
       "     <use x=\"769.8125\" xlink:href=\"#BitstreamVeraSans-Roman-67\"/>\n",
       "     <use x=\"833.2890625\" xlink:href=\"#BitstreamVeraSans-Roman-72\"/>\n",
       "     <use x=\"874.40234375\" xlink:href=\"#BitstreamVeraSans-Roman-69\"/>\n",
       "     <use x=\"902.185546875\" xlink:href=\"#BitstreamVeraSans-Roman-64\"/>\n",
       "     <use x=\"965.662109375\" xlink:href=\"#BitstreamVeraSans-Roman-20\"/>\n",
       "     <use x=\"997.44921875\" xlink:href=\"#BitstreamVeraSans-Roman-69\"/>\n",
       "     <use x=\"1025.232421875\" xlink:href=\"#BitstreamVeraSans-Roman-73\"/>\n",
       "     <use x=\"1077.33203125\" xlink:href=\"#BitstreamVeraSans-Roman-20\"/>\n",
       "     <use x=\"1109.119140625\" xlink:href=\"#BitstreamVeraSans-Roman-74\"/>\n",
       "     <use x=\"1148.328125\" xlink:href=\"#BitstreamVeraSans-Roman-6f\"/>\n",
       "     <use x=\"1209.509765625\" xlink:href=\"#BitstreamVeraSans-Roman-75\"/>\n",
       "     <use x=\"1272.888671875\" xlink:href=\"#BitstreamVeraSans-Roman-67\"/>\n",
       "     <use x=\"1336.365234375\" xlink:href=\"#BitstreamVeraSans-Roman-68\"/>\n",
       "     <use x=\"1399.744140625\" xlink:href=\"#BitstreamVeraSans-Roman-20\"/>\n",
       "     <use x=\"1431.53125\" xlink:href=\"#BitstreamVeraSans-Roman-28\"/>\n",
       "     <use x=\"1470.544921875\" xlink:href=\"#BitstreamVeraSans-Roman-6c\"/>\n",
       "     <use x=\"1498.328125\" xlink:href=\"#BitstreamVeraSans-Roman-6f\"/>\n",
       "     <use x=\"1559.509765625\" xlink:href=\"#BitstreamVeraSans-Roman-6f\"/>\n",
       "     <use x=\"1620.69140625\" xlink:href=\"#BitstreamVeraSans-Roman-6b\"/>\n",
       "     <use x=\"1678.6015625\" xlink:href=\"#BitstreamVeraSans-Roman-20\"/>\n",
       "     <use x=\"1710.388671875\" xlink:href=\"#BitstreamVeraSans-Roman-61\"/>\n",
       "     <use x=\"1771.66796875\" xlink:href=\"#BitstreamVeraSans-Roman-74\"/>\n",
       "     <use x=\"1810.876953125\" xlink:href=\"#BitstreamVeraSans-Roman-20\"/>\n",
       "     <use x=\"1842.6640625\" xlink:href=\"#BitstreamVeraSans-Roman-74\"/>\n",
       "     <use x=\"1881.873046875\" xlink:href=\"#BitstreamVeraSans-Roman-68\"/>\n",
       "     <use x=\"1945.251953125\" xlink:href=\"#BitstreamVeraSans-Roman-65\"/>\n",
       "     <use x=\"2006.775390625\" xlink:href=\"#BitstreamVeraSans-Roman-20\"/>\n",
       "     <use x=\"2038.5625\" xlink:href=\"#BitstreamVeraSans-Roman-79\"/>\n",
       "     <use x=\"2095.9921875\" xlink:href=\"#BitstreamVeraSans-Roman-2d\"/>\n",
       "     <use x=\"2132.076171875\" xlink:href=\"#BitstreamVeraSans-Roman-73\"/>\n",
       "     <use x=\"2184.17578125\" xlink:href=\"#BitstreamVeraSans-Roman-63\"/>\n",
       "     <use x=\"2239.15625\" xlink:href=\"#BitstreamVeraSans-Roman-61\"/>\n",
       "     <use x=\"2300.435546875\" xlink:href=\"#BitstreamVeraSans-Roman-6c\"/>\n",
       "     <use x=\"2328.21875\" xlink:href=\"#BitstreamVeraSans-Roman-65\"/>\n",
       "     <use x=\"2389.7421875\" xlink:href=\"#BitstreamVeraSans-Roman-21\"/>\n",
       "     <use x=\"2429.830078125\" xlink:href=\"#BitstreamVeraSans-Roman-29\"/>\n",
       "    </g>\n",
       "   </g>\n",
       "  </g>\n",
       " </g>\n",
       " <defs>\n",
       "  <clipPath id=\"p95832b53c6\">\n",
       "   <rect height=\"345.6\" width=\"446.4\" x=\"45.819375\" y=\"23.14175\"/>\n",
       "  </clipPath>\n",
       " </defs>\n",
       "</svg>\n"
      ],
      "text/plain": [
       "PyPlot.Figure(PyObject <matplotlib.figure.Figure object at 0x7f6fbbc2ef60>)"
      ]
     },
     "metadata": {},
     "output_type": "display_data"
    },
    {
     "data": {
      "text/plain": [
       "(0.0,1.0e20)"
      ]
     },
     "execution_count": 19,
     "metadata": {},
     "output_type": "execute_result"
    }
   ],
   "source": [
    "using JLD\n",
    "d = load(\"secular.jld\")\n",
    "num = d[\"num\"]\n",
    "poles = d[\"poles\"]\n",
    "c = d[\"c\"]\n",
    "s(vv::Vector{Float64}) = [sumabs2(num./(v - poles)) for v in vv]  \n",
    "\n",
    "xx = collect(linspace(0.0,16e3,1000))\n",
    "xx = collect(linspace(1e3,3e3,1000))\n",
    "\n",
    "plot(xx,s(xx))\n",
    "title(\"Why the Polish grid is tough (look at the y-scale!)\")\n",
    "xlabel(L\"v\")\n",
    "ylabel(L\"s(v)\")\n",
    "ylim([0;1e20])"
   ]
  },
  {
   "cell_type": "code",
   "execution_count": 3,
   "metadata": {
    "collapsed": false
   },
   "outputs": [
    {
     "data": {
      "text/plain": [
       "solve_secular (generic function with 1 method)"
      ]
     },
     "execution_count": 3,
     "metadata": {},
     "output_type": "execute_result"
    }
   ],
   "source": [
    "# old version of secular equation solver\n",
    "# (for comparison)\n",
    "function solve_secular(num,poles,c)\n",
    "    tinynumber = 1e-8\n",
    "    solutions = Float64[]\n",
    "    vectors = Array(Vector{Float64},0)\n",
    "\n",
    "    # pre-process poles\n",
    "    poles = unique(round(poles,10))\n",
    "\n",
    "    # sorted version of poles\n",
    "    sortedpoles = sort(poles)\n",
    "\n",
    "    find_w(num,poles,v) = float(num./(v - poles))\n",
    "    s(v) = sumabs2(num./(v - poles))\n",
    "\n",
    "    for i in 1:length(sortedpoles)\n",
    "\n",
    "        # Head left first:\n",
    "        high = sortedpoles[i]\n",
    "        if length(sortedpoles) == 1\n",
    "            low = 0.0 # high - high\n",
    "        elseif i == 1\n",
    "            low = high - abs(sortedpoles[i] - sortedpoles[i+1])\n",
    "        else\n",
    "            low = high - abs(sortedpoles[i] - sortedpoles[i-1])/2\n",
    "        end\n",
    "\n",
    "        # Initialize v:\n",
    "        v = (high + low)/2\n",
    "        w = find_w(num,poles,v)\n",
    "        currentdiff = (w'*w)[1] - c\n",
    "        olddiff = 0\n",
    "        stall = false\n",
    "        while abs(currentdiff) > tinynumber\n",
    "            if currentdiff == olddiff\n",
    "                stall = true\n",
    "                break\n",
    "            end\n",
    "            if currentdiff > 0\n",
    "                high = v\n",
    "            else\n",
    "                low = v\n",
    "            end\n",
    "            v = (high + low)/2\n",
    "            w = find_w(num,poles,v)\n",
    "            olddiff = currentdiff\n",
    "            currentdiff = (w'*w)[1] - c\n",
    "        end\n",
    "        if !stall\n",
    "            push!(solutions,v)\n",
    "            push!(vectors,w)\n",
    "        end\n",
    "\n",
    "        # Now head right:\n",
    "        high = sortedpoles[i]\n",
    "        if length(sortedpoles) == 1\n",
    "            low = high + high\n",
    "        elseif i == length(sortedpoles)\n",
    "            low = high + abs(sortedpoles[i] - sortedpoles[i-1])\n",
    "        else\n",
    "            low = high + abs(sortedpoles[i] - sortedpoles[i+1])/2\n",
    "        end\n",
    "\n",
    "        v = (high + low)/2\n",
    "        w = find_w(num,poles,v)\n",
    "        currentdiff = (w'*w)[1] - c\n",
    "        olddiff = 0\n",
    "        stall = false\n",
    "        while abs(currentdiff) > tinynumber\n",
    "            if currentdiff == olddiff\n",
    "                stall = true\n",
    "                break\n",
    "            end\n",
    "            if currentdiff > 0\n",
    "                high = v\n",
    "            else\n",
    "                low = v\n",
    "            end\n",
    "            v = (high + low)/2\n",
    "            w = find_w(num,poles,v)\n",
    "            olddiff = currentdiff\n",
    "            currentdiff = (w'*w)[1] - c\n",
    "        end\n",
    "        if !stall\n",
    "            push!(solutions,v)\n",
    "            push!(vectors,w)\n",
    "        end\n",
    "    end\n",
    "    return solutions,vectors\n",
    "end"
   ]
  },
  {
   "cell_type": "markdown",
   "metadata": {},
   "source": [
    "## 2015-09-11\n",
    "\n",
    "Unfortunately there is *still* a problem with my secular equation solver. When elements of `num` grow to the order of $10^10$, the method hangs. I need to build in checks so the solver handles these cases gracefully, and more importantly I need to determine the conditions under which `num` can have such large elements. Hopefully there is a natural physical interpretation.\n",
    "\n",
    "Anyway, perhaps it is better to catch this issue one step earlier. The elements of `num` and `poles` come directly from $\\hat{b}$ and $\\hat{B}$. I found no correlation between the condition number of $\\hat{B}_{11}$ and secular solver performance."
   ]
  },
  {
   "cell_type": "code",
   "execution_count": 1,
   "metadata": {
    "collapsed": true
   },
   "outputs": [],
   "source": [
    "# single proc\n",
    "include(\"../src/TemporalInstanton.jl\")\n",
    "using TemporalInstanton"
   ]
  },
  {
   "cell_type": "code",
   "execution_count": 3,
   "metadata": {
    "collapsed": false
   },
   "outputs": [
    {
     "name": "stdout",
     "output_type": "stream",
     "text": [
      "finished 10/104\n",
      "finished 20/104\n"
     ]
    },
    {
     "name": "stderr",
     "output_type": "stream",
     "text": [
      "WARNING: expanding\n"
     ]
    },
    {
     "name": "stdout",
     "output_type": "stream",
     "text": [
      "finished 30/104\n"
     ]
    },
    {
     "name": "stderr",
     "output_type": "stream",
     "text": [
      "WARNING: expanding\n"
     ]
    },
    {
     "name": "stdout",
     "output_type": "stream",
     "text": [
      "finished 40/104\n",
      "finished 50/104\n",
      "finished 60/104\n",
      "finished 70/104\n",
      "finished 80/104\n",
      "finished 90/104\n",
      "finished 100/104\n",
      "finished 110/104\n",
      " 10.884778 seconds (9.29 M allocations: 2.049 GB, 2.09% gc time)\n"
     ]
    }
   ],
   "source": [
    "inputData = load_rts96_data(return_as_type=true)\n",
    "\n",
    "# Thermal model parameters:\n",
    "inputData.Tamb = 35.0 # C\n",
    "inputData.T0 = 60.0 #46.0 # initial line steady-state temp\n",
    "\n",
    "inputData.time_values = 0.0:30.0:300.0 # five minutes in 30-sec steps\n",
    "inputData.int_length = 300. # seconds = 5 min\n",
    "\n",
    "Gp,Dp,Rp = inputData.G0,inputData.D0,inputData.R0\n",
    "inputData.G0 = [0.7*Gp;0.7*Gp;0.7*Gp;0.7*Gp;0.7*Gp;0.7*Gp]\n",
    "inputData.D0 = [0.9*Dp;0.9*Dp;0.9*Dp;0.9*Dp;0.9*Dp;0.9*Dp]\n",
    "inputData.R0 = [Rp;1.1*Rp;1.2*Rp;1.3*Rp;1.4*Rp;1.5*Rp]\n",
    "\n",
    "@time results = solve_temporal_instanton(inputData);\n",
    "# @profile solve_temporal_instanton(inputData);\n",
    "n = 73\n",
    "nr = 18\n",
    "T = 6\n",
    "score,x,θ,α,diffs,xopt = process_instanton_results(results,\n",
    "    n,\n",
    "    nr,\n",
    "    T);"
   ]
  },
  {
   "cell_type": "code",
   "execution_count": 3,
   "metadata": {
    "collapsed": false
   },
   "outputs": [
    {
     "data": {
      "text/plain": [
       "104-element Array{Float64,1}:\n",
       "    0.263788\n",
       "    0.327316\n",
       "    1.28861 \n",
       "    2.20415 \n",
       "    2.32297 \n",
       "    2.42316 \n",
       "    4.67876 \n",
       "    4.86524 \n",
       "    4.89917 \n",
       "    5.67827 \n",
       "    5.93862 \n",
       "    6.43917 \n",
       "    6.46089 \n",
       "    ⋮       \n",
       "  178.086   \n",
       "  303.003   \n",
       "  370.614   \n",
       "  370.614   \n",
       "  391.307   \n",
       "  428.944   \n",
       "  923.98    \n",
       "  979.199   \n",
       " 1319.85    \n",
       " 1390.03    \n",
       " 1967.27    \n",
       " 1967.27    "
      ]
     },
     "execution_count": 3,
     "metadata": {},
     "output_type": "execute_result"
    }
   ],
   "source": [
    "sort(score)"
   ]
  }
 ],
 "metadata": {
  "kernelspec": {
   "display_name": "Julia 0.4.0-dev+6561",
   "language": "julia",
   "name": "julia-0.4"
  },
  "language_info": {
   "name": "julia",
   "version": "0.4.0"
  }
 },
 "nbformat": 4,
 "nbformat_minor": 0
}
