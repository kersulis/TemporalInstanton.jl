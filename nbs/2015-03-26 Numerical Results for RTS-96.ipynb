{
 "cells": [
  {
   "cell_type": "markdown",
   "metadata": {},
   "source": [
    "# Numerical results for RTS-96"
   ]
  },
  {
   "cell_type": "code",
   "execution_count": 1,
   "metadata": {
    "collapsed": false
   },
   "outputs": [
    {
     "name": "stdout",
     "output_type": "stream",
     "text": [
      "loaded\n"
     ]
    }
   ],
   "source": [
    "####### IMPORTS ########\n",
    "include(\"../src/tmp_inst_rts96.jl\")\n",
    "include(\"../src/TemporalInstanton.jl\")\n",
    "include(\"../src/TemporalInstanton2.jl\")\n",
    "\n",
    "using TemporalInstanton,TemporalInstanton2\n",
    "\n",
    "####### LOAD DATA ########\n",
    "psData = psDataLoad()\n",
    "\n",
    "# unpack psDL (boilerplate):\n",
    "(Sb,f,t,r,x,b,Y,bustype,\n",
    "Gp,Gq,Dp,Dq,Rp,Rq,\n",
    "Pmax,Pmin,Qmax,Qmin,Plim,\n",
    "Vg,Vceiling,Vfloor,\n",
    "busIdx,N,Nr,Ng,k) = unpack_psDL(psData)\n",
    "\n",
    "####### LINK DATA ########\n",
    "# Static\n",
    "Ridx = find(Rp) # Vector of renewable nodes\n",
    "Y = full(Y) # Full admittance matrix (ref not removed)\n",
    "ref = 1 # Index of ref node\n",
    "k = k # Conventional generator participation factors\n",
    "tau = 1. # Heating constant\n",
    "G0 = [Gp,Gp,Gp]\n",
    "D0 = [Dp,Dp,Dp]\n",
    "P0 = [0.5.*Rp,Rp,1.5*Rp]\n",
    "kQobj = 0 # Should always be zero; objective has no constant term\n",
    "c = 0.1 # RHS of line temperature constraint\n",
    "kQtheta = -c # Move to LHS so we have Q(z) = 0\n",
    "lines = [(f[i],t[i]) for i in 1:length(f)];\n",
    "\n",
    "n = size(Y,1)\n",
    "nr = length(Ridx)\n",
    "T = int(length(G0)/n) # infer number of time steps\n",
    "\n",
    "# Create Qobj:\n",
    "Qobj = tmp_inst_Qobj(n,nr,T)\n",
    "# Augment Qobj with additional rows and columns of zeros:\n",
    "Qobj = tmp_inst_pad_Q(full(Qobj),T)\n",
    "\n",
    "# Create A1 (only A2 changes during opt.):\n",
    "A1 = full(tmp_inst_A(Ridx,T,Y,ref,k))\n",
    "A1 = [A1 zeros((n+1)*T,T)]\n",
    "\n",
    "# Create b:\n",
    "b = tmp_inst_b(n,T,G0,P0,D0)\n",
    "# Augment b with new elements:\n",
    "tmp_inst_pad_b(b,T)\n",
    "\n",
    "# Create Qtheta:\n",
    "Qtheta = tmp_inst_Qtheta(n,nr,T)#,tau)\n",
    "\n",
    "# Form obj and constraint quadratics:\n",
    "G_of_x = (Qobj,0,kQobj)\n",
    "Q_of_x = (Qtheta,0,kQtheta)\n",
    "\n",
    "println(\"loaded\")"
   ]
  },
  {
   "cell_type": "code",
   "execution_count": 31,
   "metadata": {
    "collapsed": false
   },
   "outputs": [
    {
     "name": "stdout",
     "output_type": "stream",
     "text": [
      "solved\n"
     ]
    }
   ],
   "source": [
    "score,x,θ,α,diffs,xopt = loop_through_lines(\n",
    "    G_of_x,Q_of_x,A1,b,\n",
    "n,T,tau,Ridx,ref,lines)\n",
    "\n",
    "println(\"solved\")"
   ]
  },
  {
   "cell_type": "code",
   "execution_count": 37,
   "metadata": {
    "collapsed": false
   },
   "outputs": [
    {
     "data": {
      "text/plain": [
       "57"
      ]
     },
     "execution_count": 37,
     "metadata": {},
     "output_type": "execute_result"
    }
   ],
   "source": [
    "sum(score.==Inf)"
   ]
  },
  {
   "cell_type": "code",
   "execution_count": 38,
   "metadata": {
    "collapsed": false
   },
   "outputs": [
    {
     "data": {
      "text/plain": [
       "63"
      ]
     },
     "execution_count": 38,
     "metadata": {},
     "output_type": "execute_result"
    }
   ],
   "source": [
    "120 - 57"
   ]
  },
  {
   "cell_type": "code",
   "execution_count": 36,
   "metadata": {
    "collapsed": false,
    "scrolled": false
   },
   "outputs": [
    {
     "data": {
      "image/png": "[encoded data removed]",
      "text/plain": [
       "Figure(PyObject <matplotlib.figure.Figure object at 0x7f67d2cf3e50>)"
      ]
     },
     "metadata": {},
     "output_type": "display_data"
    }
   ],
   "source": [
    "plot(sort(score[score.<Inf]))\n",
    "xlabel(\"Event Index\")\n",
    "ylabel(\"Objective Value\")\n",
    "ylim([0,600])\n",
    "\n",
    "savefig(\"../images/scores.pdf\")"
   ]
  },
  {
   "cell_type": "code",
   "execution_count": 4,
   "metadata": {
    "collapsed": false,
    "scrolled": true
   },
   "outputs": [
    {
     "name": "stdout",
     "output_type": "stream",
     "text": [
      "elapsed time: 67.819097441 seconds (14913261356 bytes allocated, 16.59% gc time)\n",
      "solved\n"
     ]
    }
   ],
   "source": [
    "@time(loop_through_lines(\n",
    "    G_of_x,Q_of_x,A1,b,\n",
    "n,T,tau,Ridx,ref,lines))\n",
    "\n",
    "println(\"solved\")"
   ]
  },
  {
   "cell_type": "code",
   "execution_count": 2,
   "metadata": {
    "collapsed": false,
    "scrolled": true
   },
   "outputs": [
    {
     "data": {
      "text/html": [
       "<script charset=\"utf-8\">(function ($, undefined) {\n",
       "\n",
       "    function createElem(tag, attr, content) {\n",
       "\t// TODO: remove jQuery dependency\n",
       "\tvar el = $(\"<\" + tag + \"/>\").attr(attr);\n",
       "\tif (content) {\n",
       "\t    el.append(content);\n",
       "\t}\n",
       "\treturn el[0];\n",
       "    }\n",
       "\n",
       "    // A widget must expose an id field which identifies it to the backend,\n",
       "    // an elem attribute which is will be added to the DOM, and\n",
       "    // a getState() method which returns the value to be sent to the backend\n",
       "    // a sendUpdate() method which sends its current value to the backend\n",
       "    var Widget = {\n",
       "\tid: undefined,\n",
       "\telem: undefined,\n",
       "\tlabel: undefined,\n",
       "\tgetState: function () {\n",
       "\t    return this.elem.value;\n",
       "\t},\n",
       "\tsendUpdate: undefined\n",
       "    };\n",
       "\n",
       "    var Slider = function (typ, id, init) {\n",
       "\tvar attr = { type:  \"range\",\n",
       "\t\t     value: init.value,\n",
       "\t\t     min:   init.min,\n",
       "\t\t     max:   init.max,\n",
       "\t\t     step:  init.step },\n",
       "\t    elem = createElem(\"input\", attr),\n",
       "\t    self = this;\n",
       "\n",
       "\telem.onchange = function () {\n",
       "\t    self.sendUpdate();\n",
       "\t}\n",
       "\n",
       "\tthis.id = id;\n",
       "\tthis.elem = elem;\n",
       "\tthis.label = init.label;\n",
       "\n",
       "\tInputWidgets.commInitializer(this); // Initialize communication\n",
       "    }\n",
       "    Slider.prototype = Widget;\n",
       "\n",
       "    var Checkbox = function (typ, id, init) {\n",
       "\tvar attr = { type: \"checkbox\",\n",
       "\t\t     checked: init.value },\n",
       "\t    elem = createElem(\"input\", attr),\n",
       "\t    self = this;\n",
       "\n",
       "\tthis.getState = function () {\n",
       "\t    return elem.checked;\n",
       "\t}\n",
       "\telem.onchange = function () {\n",
       "\t    self.sendUpdate();\n",
       "\t}\n",
       "\n",
       "\tthis.id = id;\n",
       "\tthis.elem = elem;\n",
       "\tthis.label = init.label;\n",
       "\n",
       "\tInputWidgets.commInitializer(this);\n",
       "    }\n",
       "    Checkbox.prototype = Widget;\n",
       "\n",
       "    var Button = function (typ, id, init) {\n",
       "\tvar attr = { type:    \"button\",\n",
       "\t\t     value:   init.label },\n",
       "\t    elem = createElem(\"input\", attr),\n",
       "\t    self = this;\n",
       "\tthis.getState = function () {\n",
       "\t    return null;\n",
       "\t}\n",
       "\telem.onclick = function () {\n",
       "\t    self.sendUpdate();\n",
       "\t}\n",
       "\n",
       "\tthis.id = id;\n",
       "\tthis.elem = elem;\n",
       "\tthis.label = init.label;\n",
       "\n",
       "\tInputWidgets.commInitializer(this);\n",
       "    }\n",
       "    Button.prototype = Widget;\n",
       "\n",
       "    var Text = function (typ, id, init) {\n",
       "\tvar attr = { type:  \"text\",\n",
       "\t\t     placeholder: init.label,\n",
       "\t\t     value: init.value },\n",
       "\t    elem = createElem(\"input\", attr),\n",
       "\t    self = this;\n",
       "\tthis.getState = function () {\n",
       "\t    return elem.value;\n",
       "\t}\n",
       "\telem.onkeyup = function () {\n",
       "\t    self.sendUpdate();\n",
       "\t}\n",
       "\n",
       "\tthis.id = id;\n",
       "\tthis.elem = elem;\n",
       "\tthis.label = init.label;\n",
       "\n",
       "\tInputWidgets.commInitializer(this);\n",
       "    }\n",
       "    Text.prototype = Widget;\n",
       "\n",
       "    var Textarea = function (typ, id, init) {\n",
       "\tvar attr = { placeholder: init.label },\n",
       "\t    elem = createElem(\"textarea\", attr, init.value),\n",
       "\t    self = this;\n",
       "\tthis.getState = function () {\n",
       "\t    return elem.value;\n",
       "\t}\n",
       "\telem.onchange = function () {\n",
       "\t    self.sendUpdate();\n",
       "\t}\n",
       "\n",
       "\tthis.id = id;\n",
       "\tthis.elem = elem;\n",
       "\tthis.label = init.label;\n",
       "\n",
       "\tInputWidgets.commInitializer(this);\n",
       "    }\n",
       "    Textarea.prototype = Widget;\n",
       "\n",
       "    // RadioButtons\n",
       "    // Dropdown\n",
       "    // HTML\n",
       "    // Latex\n",
       "\n",
       "    var InputWidgets = {\n",
       "\tSlider: Slider,\n",
       "\tCheckbox: Checkbox,\n",
       "\tButton: Button,\n",
       "\tText: Text,\n",
       "\tTextarea: Textarea,\n",
       "\tdebug: false,\n",
       "\tlog: function () {\n",
       "\t    if (InputWidgets.debug) {\n",
       "\t\tconsole.log.apply(console, arguments);\n",
       "\t    }\n",
       "\t},\n",
       "\t// a central way to initalize communication\n",
       "\t// for widgets.\n",
       "\tcommInitializer: function (widget) {\n",
       "\t    widget.sendUpdate = function () {};\n",
       "\t}\n",
       "    };\n",
       "\n",
       "    window.InputWidgets = InputWidgets;\n",
       "\n",
       "})(jQuery, undefined);\n",
       "</script>"
      ]
     },
     "metadata": {},
     "output_type": "display_data"
    },
    {
     "data": {
      "text/html": [
       "<script charset=\"utf-8\">(function (IPython, $, _, MathJax, Widgets) {\n",
       "    $.event.special.destroyed = {\n",
       "\tremove: function(o) {\n",
       "\t    if (o.handler) {\n",
       "\t\to.handler.apply(this, arguments)\n",
       "\t    }\n",
       "\t}\n",
       "    }\n",
       "\n",
       "    var redrawValue = function (container, type, val) {\n",
       "\tvar selector = $(\"<div/>\");\n",
       "\tvar oa = new IPython.OutputArea(_.extend(selector, {\n",
       "\t    selector: selector,\n",
       "\t    prompt_area: true,\n",
       "\t    events: IPython.events,\n",
       "\t    keyboard_manager: IPython.keyboard_manager\n",
       "\t})); // Hack to work with IPython 2.1.0\n",
       "\n",
       "\tswitch (type) {\n",
       "\tcase \"image/png\":\n",
       "            var _src = 'data:' + type + ';base64,' + val;\n",
       "\t    $(container).find(\"img\").attr('src', _src);\n",
       "\t    break;\n",
       "\tdefault:\n",
       "\t    var toinsert = IPython.OutputArea.append_map[type].apply(\n",
       "\t\toa, [val, {}, selector]\n",
       "\t    );\n",
       "\t    $(container).empty().append(toinsert.contents());\n",
       "\t    selector.remove();\n",
       "\t}\n",
       "\tif (type === \"text/latex\" && MathJax) {\n",
       "\t    MathJax.Hub.Queue([\"Typeset\", MathJax.Hub, toinsert.get(0)]);\n",
       "\t}\n",
       "    }\n",
       "\n",
       "\n",
       "    $(document).ready(function() {\n",
       "\tWidgets.debug = false; // log messages etc in console.\n",
       "\tfunction initComm(evt, data) {\n",
       "\t    var comm_manager = data.kernel.comm_manager;\n",
       "        //_.extend(comm_manager.targets, require(\"widgets/js/widget\"))\n",
       "\t    comm_manager.register_target(\"Signal\", function (comm) {\n",
       "            comm.on_msg(function (msg) {\n",
       "                //Widgets.log(\"message received\", msg);\n",
       "                var val = msg.content.data.value;\n",
       "                $(\".signal-\" + comm.comm_id).each(function() {\n",
       "                var type = $(this).data(\"type\");\n",
       "                if (val[type]) {\n",
       "                    redrawValue(this, type, val[type], type);\n",
       "                }\n",
       "                });\n",
       "                delete val;\n",
       "                delete msg.content.data.value;\n",
       "            });\n",
       "\t    });\n",
       "\n",
       "\t    // coordingate with Comm and redraw Signals\n",
       "\t    // XXX: Test using Reactive here to improve performance\n",
       "\t    $([IPython.events]).on(\n",
       "\t\t'output_appended.OutputArea', function (event, type, value, md, toinsert) {\n",
       "\t\t    if (md && md.reactive) {\n",
       "                // console.log(md.comm_id);\n",
       "                toinsert.addClass(\"signal-\" + md.comm_id);\n",
       "                toinsert.data(\"type\", type);\n",
       "                // Signal back indicating the mimetype required\n",
       "                var comm_manager = IPython.notebook.kernel.comm_manager;\n",
       "                var comm = comm_manager.comms[md.comm_id];\n",
       "                comm.then(function (c) {\n",
       "                    c.send({action: \"subscribe_mime\",\n",
       "                       mime: type});\n",
       "                    toinsert.bind(\"destroyed\", function() {\n",
       "                        c.send({action: \"unsubscribe_mime\",\n",
       "                               mime: type});\n",
       "                    });\n",
       "                })\n",
       "\t\t    }\n",
       "\t    });\n",
       "\t}\n",
       "\n",
       "\ttry {\n",
       "\t    // try to initialize right away. otherwise, wait on the status_started event.\n",
       "\t    initComm(undefined, IPython.notebook);\n",
       "\t} catch (e) {\n",
       "\t    $([IPython.events]).on('status_started.Kernel', initComm);\n",
       "\t}\n",
       "    });\n",
       "})(IPython, jQuery, _, MathJax, InputWidgets);\n",
       "</script>"
      ]
     },
     "metadata": {},
     "output_type": "display_data"
    },
    {
     "name": "stderr",
     "output_type": "stream",
     "text": [
      "INFO: Loading help data...\n"
     ]
    }
   ],
   "source": [
    "using Interact\n",
    "using PyPlot"
   ]
  },
  {
   "cell_type": "code",
   "execution_count": 3,
   "metadata": {
    "collapsed": false
   },
   "outputs": [
    {
     "data": {
      "text/html": [],
      "text/plain": [
       "Slider{Float64}([Input{Float64}] 5.0,\"c\",5.0,0.05:0.05:10.0)"
      ]
     },
     "metadata": {},
     "output_type": "display_data"
    },
    {
     "data": {
      "text/plain": [
       "54-element Array{Float64,1}:\n",
       " -9.98926\n",
       " -9.59377\n",
       " -9.19827\n",
       "  2.01553\n",
       "  2.27462\n",
       "  2.5337 \n",
       "  7.47422\n",
       "  7.51735\n",
       "  7.56776\n",
       "  7.5789 \n",
       "  7.62577\n",
       "  7.64612\n",
       "  7.65202\n",
       "  ⋮      \n",
       "  8.7016 \n",
       "  8.7327 \n",
       "  8.82679\n",
       "  8.90205\n",
       "  9.02971\n",
       "  9.03747\n",
       "  9.094  \n",
       "  9.12668\n",
       "  9.49444\n",
       " 23.8346 \n",
       " 25.2109 \n",
       " 26.5872 "
      ]
     },
     "execution_count": 3,
     "metadata": {
      "comm_id": "33f492a9-799d-4634-9c4b-8f2a6fd34c45",
      "reactive": true
     },
     "output_type": "execute_result"
    }
   ],
   "source": [
    "@manipulate for c = 0.05:0.05:10\n",
    "    kQtheta = -c\n",
    "    Q_of_x = (Qtheta,0,kQtheta)\n",
    "    score,x,θ,α,diffs = loop_through_lines(\n",
    "        G_of_x,Q_of_x,A1,b,\n",
    "        n,T,tau,Ridx,ref,lines[91:91])\n",
    "    #max_dev = maximum(abs([x[1][1],x[1][2],x[1][3]]))\n",
    "    sort(P0[find(P0)] + [x[1][1],x[1][2],x[1][3]])\n",
    "end"
   ]
  },
  {
   "cell_type": "code",
   "execution_count": 15,
   "metadata": {
    "collapsed": true
   },
   "outputs": [
    {
     "data": {
      "text/plain": [
       "([1.04144],Array[[[0.107471,0.107015,0.106329,0.105853,0.105632,0.106888,0.107374,0.105426,0.107641,0.11,0.110454,0.110482,0.110209,0.110789,0.111108,0.0266084,-0.133353,0.340219],[0.113646,0.113164,0.112438,0.111935,0.111701,0.113029,0.113543,0.111483,0.113826,0.11632,0.1168,0.11683,0.116541,0.117154,0.117492,0.0281372,-0.141015,0.359767],[0.119821,0.119313,0.118548,0.118017,0.11777,0.119171,0.119712,0.117541,0.12001,0.12264,0.123147,0.123178,0.122873,0.12352,0.123875,0.029666,-0.148677,0.379315]]],Array[[[4.59341e-15,-0.00107658,0.0775653,-0.00188153,-0.0125036,-0.029847,-0.0960397,-0.0934279,0.0477475,0.0154665  …  0.223223,0.276235,0.292523,0.229063,0.257947,0.302367,0.368164,0.283038,0.137735,0.292557],[3.38409e-15,-0.000977484,0.0873015,0.000521243,-0.011252,-0.02789,-0.106939,-0.100624,0.0520368,0.0180137  …  0.204827,0.25659,0.272663,0.214336,0.24641,0.281677,0.34508,0.273257,0.119507,0.285629],[-1.94781e-16,-0.00087839,0.0970378,0.00292402,-0.0100005,-0.025933,-0.117839,-0.10782,0.056326,0.020561  …  0.186431,0.236944,0.252803,0.19961,0.234874,0.260986,0.321996,0.263476,0.101279,0.278701]]],[[-38.1776,-40.4198,-42.662]],Array[[-0.172484,-0.182395,-0.192305]],Array[[0.107471,0.107015,0.106329,0.105853,0.105632,0.106888,0.107374,0.105426,0.107641,0.11  …  0.234874,0.260986,0.321996,0.263476,0.101279,0.278701,-42.662,-0.172484,-0.182395,-0.192305]])"
      ]
     },
     "execution_count": 15,
     "metadata": {},
     "output_type": "execute_result"
    }
   ],
   "source": [
    "score,x,θ,α,diffs,xopt = loop_through_lines(\n",
    "    G_of_x,Q_of_x,A1,b,\n",
    "    n,T,tau,Ridx,ref,lines[91:91])"
   ]
  },
  {
   "cell_type": "code",
   "execution_count": 17,
   "metadata": {
    "collapsed": false,
    "scrolled": false
   },
   "outputs": [
    {
     "data": {
      "text/plain": [
       "279-element Array{Float64,1}:\n",
       "   0.107471\n",
       "   0.107015\n",
       "   0.106329\n",
       "   0.105853\n",
       "   0.105632\n",
       "   0.106888\n",
       "   0.107374\n",
       "   0.105426\n",
       "   0.107641\n",
       "   0.11    \n",
       "   0.110454\n",
       "   0.110482\n",
       "   0.110209\n",
       "   ⋮       \n",
       "   0.252803\n",
       "   0.19961 \n",
       "   0.234874\n",
       "   0.260986\n",
       "   0.321996\n",
       "   0.263476\n",
       "   0.101279\n",
       "   0.278701\n",
       " -42.662   \n",
       "  -0.172484\n",
       "  -0.182395\n",
       "  -0.192305"
      ]
     },
     "execution_count": 17,
     "metadata": {},
     "output_type": "execute_result"
    }
   ],
   "source": [
    "xopt[1]"
   ]
  },
  {
   "cell_type": "code",
   "execution_count": 26,
   "metadata": {
    "collapsed": false
   },
   "outputs": [
    {
     "data": {
      "text/plain": [
       "54"
      ]
     },
     "execution_count": 26,
     "metadata": {},
     "output_type": "execute_result"
    }
   ],
   "source": [
    "indmax(abs([x[1][1],x[1][2],x[1][3]]))"
   ]
  },
  {
   "cell_type": "code",
   "execution_count": 27,
   "metadata": {
    "collapsed": false
   },
   "outputs": [
    {
     "data": {
      "text/plain": [
       "18-element Array{Float64,1}:\n",
       "  0.119821\n",
       "  0.119313\n",
       "  0.118548\n",
       "  0.118017\n",
       "  0.11777 \n",
       "  0.119171\n",
       "  0.119712\n",
       "  0.117541\n",
       "  0.12001 \n",
       "  0.12264 \n",
       "  0.123147\n",
       "  0.123178\n",
       "  0.122873\n",
       "  0.12352 \n",
       "  0.123875\n",
       "  0.029666\n",
       " -0.148677\n",
       "  0.379315"
      ]
     },
     "execution_count": 27,
     "metadata": {},
     "output_type": "execute_result"
    }
   ],
   "source": [
    "x[1][3]"
   ]
  },
  {
   "cell_type": "code",
   "execution_count": 29,
   "metadata": {
    "collapsed": false
   },
   "outputs": [
    {
     "data": {
      "text/plain": [
       "1.2290921062231064"
      ]
     },
     "execution_count": 29,
     "metadata": {},
     "output_type": "execute_result"
    }
   ],
   "source": [
    "maximum(P0[find(P0)])"
   ]
  },
  {
   "cell_type": "code",
   "execution_count": 24,
   "metadata": {
    "collapsed": false
   },
   "outputs": [
    {
     "data": {
      "text/plain": [
       "-0.18239477827446646"
      ]
     },
     "execution_count": 24,
     "metadata": {},
     "output_type": "execute_result"
    }
   ],
   "source": [
    "θ[1][2][56] - θ[1][2][57]"
   ]
  },
  {
   "cell_type": "code",
   "execution_count": 4,
   "metadata": {
    "collapsed": false
   },
   "outputs": [
    {
     "data": {
      "text/plain": [
       "(56,57)"
      ]
     },
     "execution_count": 4,
     "metadata": {},
     "output_type": "execute_result"
    }
   ],
   "source": [
    "lines[91]"
   ]
  },
  {
   "cell_type": "code",
   "execution_count": 13,
   "metadata": {
    "collapsed": false
   },
   "outputs": [
    {
     "ename": "LoadError",
     "evalue": "BoundsError()\nwhile loading In[13], in expression starting on line 1",
     "output_type": "error",
     "traceback": [
      "BoundsError()\nwhile loading In[13], in expression starting on line 1",
      "",
      " in getindex at array.jl:246"
     ]
    }
   ],
   "source": [
    "# find event index of i-th event:\n",
    "find(score.==sort(score[score.<Inf])[3])"
   ]
  },
  {
   "cell_type": "code",
   "execution_count": 5,
   "metadata": {
    "collapsed": false
   },
   "outputs": [
    {
     "ename": "LoadError",
     "evalue": "α not defined\nwhile loading In[5], in expression starting on line 1",
     "output_type": "error",
     "traceback": [
      "α not defined\nwhile loading In[5], in expression starting on line 1",
      ""
     ]
    }
   ],
   "source": [
    "α[91]"
   ]
  },
  {
   "cell_type": "code",
   "execution_count": 17,
   "metadata": {
    "collapsed": false
   },
   "outputs": [
    {
     "data": {
      "text/plain": [
       "101"
      ]
     },
     "execution_count": 17,
     "metadata": {},
     "output_type": "execute_result"
    }
   ],
   "source": [
    "indmin(score)"
   ]
  },
  {
   "cell_type": "code",
   "execution_count": 10,
   "metadata": {
    "collapsed": false,
    "scrolled": true
   },
   "outputs": [
    {
     "data": {
      "text/plain": [
       "5.282227559145156"
      ]
     },
     "execution_count": 10,
     "metadata": {},
     "output_type": "execute_result"
    }
   ],
   "source": [
    "norm([x[118][1],x[118][2],x[118][3]])"
   ]
  },
  {
   "cell_type": "markdown",
   "metadata": {},
   "source": [
    "## An interesting case\n",
    "\n",
    "What if the wind forecast increases significantly over the course of a few time steps?\n",
    "\n",
    "What can this model do that others can't? It can track changes _in time_. In order to be interesting, results must include significant changes in dispatch, demand, or forecast.\n",
    "\n",
    "What if forecast increases but demand decreases? What if forecast peaks sharply in the last time step?"
   ]
  }
 ],
 "metadata": {
  "kernelspec": {
   "display_name": "Julia",
   "language": "julia",
   "name": "julia"
  },
  "language_info": {
   "name": "julia",
   "version": "0.3.6"
  }
 },
 "nbformat": 4,
 "nbformat_minor": 0
}
