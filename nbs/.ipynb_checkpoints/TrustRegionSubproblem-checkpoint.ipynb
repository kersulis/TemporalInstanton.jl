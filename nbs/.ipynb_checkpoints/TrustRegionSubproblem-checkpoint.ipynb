{
 "cells": [
  {
   "cell_type": "markdown",
   "metadata": {},
   "source": [
    "# Trust region subproblem\n",
    "\n",
    "This notebook implements the various problem manipulations described in emails from Dan Bienstock and in his 2013 paper with Alexander Michalka.\n",
    "\n",
    "The problem we would like to solve is of the form:\n",
    "\n",
    "$$\n",
    "\\begin{align}\n",
    "&& \\min & G(x) \\\\\n",
    "&& s.t.  & \\\\\n",
    "&&  Ax &= b \\\\\n",
    "&& A_{i\\cdot}x &\\geq 0 \\quad i\\in \\mathcal{R} \\\\\n",
    "&&  x^\\top Qx &= c\n",
    "\\end{align}\n",
    "$$\n",
    "where \n",
    "* $x$ is a vector of voltage angle variables.\n",
    "* $G(x)$ is a norm objective function: $\\sum_{t=1}^{t_\\text{end}} \\lVert \\rho_t - \\rho_{0,t}\\rVert$\n",
    "* $Ax=b$ corresponds to power balance, generation, and slack constraints.\n",
    "* $A_{i\\cdot}x \\geq 0 \\quad i\\in \\mathcal{R}$ ensures renewable generation is non-negative.\n",
    "* $x^\\top T x=c$ corresponds to the line temperature constraint."
   ]
  },
  {
   "cell_type": "markdown",
   "metadata": {},
   "source": [
    "## Questions\n",
    "\n",
    "1. Can we eliminate renewable generation variables? When we let renewable generation outputs be decision variables, we are effectively freeing up certain combinations of angles according to power balance. Rows of power balance equations corresponding to wind nodes give us a mapping from angle differences/demands to renewable generation outputs. Remaining rows of power balance constraints are just $Ax = b$.\n",
    "\n",
    "2. Problem: note that renewable generation must be greater than zero. This means power balance equations corresponding to wind farms must be non-negative. So we have constraints of the form $Ax \\geq 0$.\n",
    "\n",
    "3. Does the $A$ matrix always have full row rank $m$?\n",
    "\n",
    "4. Scaling variables: With appropriate scaling, the constraint $x^\\top Qx = c$ becomes $\\lVert x \\rVert = c$. Implications for remaining equations?"
   ]
  },
  {
   "cell_type": "markdown",
   "metadata": {},
   "source": [
    "## Sub-problem 1: Find $x^*$ closest to origin\n",
    "$$\n",
    "\\begin{align}\n",
    "& & x^* = \\arg \\min & \\lVert x\\rVert \\\\\n",
    "&& s.t.  & \\\\\n",
    "&&  Ax &= b\n",
    "\\end{align}\n",
    "$$\n",
    "Suppose $A\\in\\mathbb{R}^{m\\times n}$ with $m<n$, and assume $A$ has full row rank $m$. Then $AA^\\top$ is invertible, and the closed-form solution is\n",
    "$$\n",
    "\\begin{align}\n",
    "x^* &= A^\\top(AA^\\top)^{-1}b \\\\\n",
    "&= A^\\dagger b\n",
    "\\end{align}\n",
    "$$\n",
    "where $A^\\dagger$ is a right inverse of $A$."
   ]
  },
  {
   "cell_type": "markdown",
   "metadata": {},
   "source": [
    "### Implementation\n",
    "\n",
    "Note: See [this page](http://julia.readthedocs.org/en/latest/stdlib/linalg/#module-Base.LinAlg) for details on `\\(A,B)`, which determines the most appropriate \"inversion\" algorithm (even accounting for sparsity). For rectangular $A$ this function uses QR factorization and returns the minimum-norm solution by default."
   ]
  },
  {
   "cell_type": "code",
   "execution_count": 1,
   "metadata": {
    "collapsed": false
   },
   "outputs": [
    {
     "data": {
      "text/plain": [
       "min_norm (generic function with 1 method)"
      ]
     },
     "execution_count": 1,
     "metadata": {},
     "output_type": "execute_result"
    }
   ],
   "source": [
    "function min_norm(A::Array{Float64,2},b::Array{Float64,1})\n",
    "    if size(A,1) < size(A,2)\n",
    "        x_star = \\(A,b)\n",
    "    else\n",
    "        println(\"need m < n\")\n",
    "    end\n",
    "end"
   ]
  },
  {
   "cell_type": "markdown",
   "metadata": {},
   "source": [
    "### Testing"
   ]
  },
  {
   "cell_type": "code",
   "execution_count": 2,
   "metadata": {
    "collapsed": false
   },
   "outputs": [
    {
     "data": {
      "text/plain": [
       "3-element Array{Float64,1}:\n",
       " 0.198005\n",
       " 0.163466\n",
       " 0.643511"
      ]
     },
     "execution_count": 2,
     "metadata": {},
     "output_type": "execute_result"
    }
   ],
   "source": [
    "A = rand(2,3)\n",
    "b = rand(2)\n",
    "x_star = min_norm(A,b)"
   ]
  },
  {
   "cell_type": "markdown",
   "metadata": {},
   "source": [
    "## Sub-problem 2: Translate by $x^*$\n",
    "\n",
    "Let $y:= x - x^*$ and translate the problem.\n",
    "$$\n",
    "\\begin{align}\n",
    "G(x) &\\to H(y) \\\\\n",
    "Q(x) &\\to R(y) \\\\\n",
    "Ax = b &\\to Ay=0\n",
    "\\end{align}\n",
    "$$\n",
    "Note that\n",
    "$$\n",
    "\\begin{align}\n",
    "G(x) &= x^\\top G x + g^\\top x + k_g \\\\\n",
    "Q(x) &= x^\\top Qx + q^\\top x + k_q\n",
    "\\end{align}\n",
    "$$\n",
    "We want $H(y) = y^\\top H y + h^\\top y + k_h$ in terms of $G$, $g$, $k_g$, and $x^*$. After some matrix algebra, we obtain:\n",
    "\n",
    "$$\n",
    "\\begin{align}\n",
    "H &= G \\\\\n",
    "h &= g - 2Gx^* \\\\\n",
    "k_h &= k_g - x^{*\\top}Gx^* - g^\\top x^*\n",
    "\\end{align}\n",
    "$$"
   ]
  },
  {
   "cell_type": "markdown",
   "metadata": {},
   "source": [
    "### Implementation"
   ]
  },
  {
   "cell_type": "code",
   "execution_count": 3,
   "metadata": {
    "collapsed": false
   },
   "outputs": [
    {
     "data": {
      "text/plain": [
       "translate_quadratic (generic function with 1 method)"
      ]
     },
     "execution_count": 3,
     "metadata": {},
     "output_type": "execute_result"
    }
   ],
   "source": [
    "function translate_quadratic(\n",
    "    G::Array{Float64,2},\n",
    "    g::Array{Float64,1},\n",
    "    kg::Float64,\n",
    "    x_star::Array{Float64,1},\n",
    "    )\n",
    "    # This function performs the change of variables from x to z,\n",
    "    # where z = x - x_star.\n",
    "    H = G\n",
    "    h = g - 2*G*x_star\n",
    "    kh = kg - x_star'*G*x_star - g'*x_star\n",
    "    return (H,h,kh[1])\n",
    "end"
   ]
  },
  {
   "cell_type": "markdown",
   "metadata": {},
   "source": [
    "### Testing"
   ]
  },
  {
   "cell_type": "code",
   "execution_count": 4,
   "metadata": {
    "collapsed": false
   },
   "outputs": [
    {
     "data": {
      "text/plain": [
       "(\n",
       "3x3 Array{Float64,2}:\n",
       " 3.0  1.0  2.0\n",
       " 1.0  3.0  1.0\n",
       " 2.0  1.0  3.0,\n",
       "\n",
       "[-3.08901,-0.663829,-2.98002],-3.036852371362451)"
      ]
     },
     "execution_count": 4,
     "metadata": {},
     "output_type": "execute_result"
    }
   ],
   "source": [
    "Q = [3. 1 2; 1 3 1; 2 1 3]\n",
    "q = [1.; 2; 2]\n",
    "kq = 1.\n",
    "G_of_x = (Q,q,kq)\n",
    "\n",
    "H_of_y = translate_quadratic(Q,q,kq,x_star)\n",
    "(H,h,kh) = H_of_y"
   ]
  },
  {
   "cell_type": "markdown",
   "metadata": {},
   "source": [
    "## Sub-problem 3: Find an orthonormal basis of $\\mathcal{N}(A)$\n",
    "\n",
    "We can find a basis for the kernel of a matrix via Gaussian elimination (see [this page][1]). This makes it possible to obtain bases for large sparse matrices via [optimal ordering][3].\n",
    "\n",
    "Julia has a [`null(M)` function][2] that returns a basis for the nullspace of `M`. This function takes a full SVD (unaware of sparsity) and is therefore computationally inefficient. I do not want to use `null()`, but I would also like to avoid implementing an optimal ordering scheme at the moment. I'll just use QR decomposition.\n",
    "\n",
    "[1]: https://en.wikipedia.org/wiki/Kernel_(linear_algebra)#Computation_by_Gaussian_elimination\n",
    "[2]: https://github.com/JuliaLang/julia/blob/a05f87b79ad62beb033817fdfdefa270c9557aaf/base/linalg/dense.jl#L436\n",
    "[3]: http://www.ece.mtu.edu/faculty/bamork/ee5240_S04/TRIANGFC.pdf"
   ]
  },
  {
   "cell_type": "markdown",
   "metadata": {},
   "source": [
    "### Implementation"
   ]
  },
  {
   "cell_type": "code",
   "execution_count": 5,
   "metadata": {
    "collapsed": false
   },
   "outputs": [
    {
     "data": {
      "text/plain": [
       "kernel_rotation (generic function with 1 method)"
      ]
     },
     "execution_count": 5,
     "metadata": {},
     "output_type": "execute_result"
    }
   ],
   "source": [
    "function kernel_rotation(A::Array{Float64})\n",
    "    m,n = size(A)\n",
    "    dim_N = n - rank(A)\n",
    "    # if A has full row rank:\n",
    "    # dim_N = n - m\n",
    "    q = qr(A'; thin=false)[1]\n",
    "    R = circshift(q,(0,dim_N))\n",
    "end"
   ]
  },
  {
   "cell_type": "code",
   "execution_count": 6,
   "metadata": {
    "collapsed": false,
    "scrolled": true
   },
   "outputs": [
    {
     "data": {
      "text/plain": [
       "3x3 Array{Float64,2}:\n",
       " -0.912427  -0.408999   0.0140281\n",
       "  0.363256  -0.825214  -0.432513 \n",
       "  0.188474  -0.389541   0.901519 "
      ]
     },
     "execution_count": 6,
     "metadata": {},
     "output_type": "execute_result"
    }
   ],
   "source": [
    "Q = kernel_rotation(A)"
   ]
  },
  {
   "cell_type": "markdown",
   "metadata": {},
   "source": [
    "### Testing"
   ]
  },
  {
   "cell_type": "code",
   "execution_count": 7,
   "metadata": {
    "collapsed": false,
    "scrolled": true
   },
   "outputs": [
    {
     "data": {
      "text/plain": [
       "3x2 Array{Float64,2}:\n",
       " -0.912427  -0.912427\n",
       "  0.363256   0.363256\n",
       "  0.188474   0.188474"
      ]
     },
     "execution_count": 7,
     "metadata": {},
     "output_type": "execute_result"
    }
   ],
   "source": [
    "# The first column of Q matches output from null(A).\n",
    "[null(A) Q[:,1]]"
   ]
  },
  {
   "cell_type": "code",
   "execution_count": 8,
   "metadata": {
    "collapsed": false
   },
   "outputs": [
    {
     "data": {
      "text/plain": [
       "3x3 Array{Float64,2}:\n",
       " 1.0          1.80411e-16  3.33067e-16\n",
       " 1.80411e-16  1.0          1.11022e-16\n",
       " 3.33067e-16  1.11022e-16  1.0        "
      ]
     },
     "metadata": {},
     "output_type": "display_data"
    },
    {
     "data": {
      "text/plain": [
       "1.0"
      ]
     },
     "metadata": {},
     "output_type": "display_data"
    }
   ],
   "source": [
    "# Also, Q is orthonormal to high precision.\n",
    "display(Q'*Q)\n",
    "display(norm(Q))"
   ]
  },
  {
   "cell_type": "markdown",
   "metadata": {},
   "source": [
    "At this point we have eliminated the last $n-m$ variables. Define $z$ as the first $m$ variables of $y$. Then the translated, rotated problem may be expressed in terms of $z$:\n",
    "\n",
    "\\begin{align}\n",
    "& & \\min & H(z) \\\\\n",
    "&& s.t.  & \\\\\n",
    "&&  Az &= 0 \\\\\n",
    "&&  \\lVert z \\rVert &= c\n",
    "\\end{align}"
   ]
  },
  {
   "cell_type": "markdown",
   "metadata": {},
   "source": [
    "## Putting everything together\n",
    "\n",
    "The original problem is described in terms of\n",
    "\n",
    "* quadratic form objective $G(x)$ consisting of \n",
    "    * matrix $G$, \n",
    "    * vector $g$, and \n",
    "    * constant $k_g$,\n",
    "\n",
    "* diagonal $Q$ giving rise to line temperature constraint $x^\\top Qx = c$.\n",
    "\n",
    "* $(A,b)$ corresponding to linear constraints $Ax=b$,"
   ]
  },
  {
   "cell_type": "markdown",
   "metadata": {},
   "source": [
    "### Testing: ensure everything works together"
   ]
  },
  {
   "cell_type": "code",
   "execution_count": 9,
   "metadata": {
    "collapsed": false
   },
   "outputs": [
    {
     "data": {
      "text/plain": [
       "-228.56614638148142"
      ]
     },
     "execution_count": 9,
     "metadata": {},
     "output_type": "execute_result"
    }
   ],
   "source": [
    "##################### INPUTS ##################\n",
    "# Matrix, vector, constant corresponding to quadratic objective.\n",
    "G = [3. 1 2; 1 3 1; 2 1 3]\n",
    "g = [1.,2,2]\n",
    "kg = 1.\n",
    "\n",
    "# Quadratic form corresponding to temperature constraint \n",
    "# (only 2nd order).\n",
    "Q = diagm([1.,2,3])\n",
    "q = [0.,0,0]\n",
    "kq = 0.\n",
    "\n",
    "# A and b from Ax = b linear constraints.\n",
    "A = rand(2,3)\n",
    "b = rand(2)\n",
    "\n",
    "##################### ANALYSIS ################\n",
    "# Step 1: find point in set Ax = b closest to origin.\n",
    "x_star = min_norm(A,b)\n",
    "\n",
    "# Step 2: Translate quadratics by x_star found in Step 1.\n",
    "H,h,kh = translate_quadratic(G,g,kg,x_star)\n",
    "R,r,kr = translate_quadratic(Q,q,kq,x_star)\n",
    "\n",
    "# Step 3: Find rotation matrix to eliminate all but first k\n",
    "# variables, where k = dim(nullspace(A)).\n",
    "rotation = kernel_rotation(A)\n",
    "\n",
    "# Step 4: Rotate problem using matrix found in Step 3.\n",
    "J = rotation*H\n",
    "j = rotation*h\n",
    "kj = kh"
   ]
  },
  {
   "cell_type": "markdown",
   "metadata": {},
   "source": [
    "### Testing: profile performance for large random instances"
   ]
  },
  {
   "cell_type": "code",
   "execution_count": null,
   "metadata": {
    "collapsed": true
   },
   "outputs": [],
   "source": [
    "##################### INPUTS ##################\n",
    "# Matrix, vector, constant corresponding to quadratic objective.\n",
    "m = 3000 # number of equations, rows of A\n",
    "n = 5000 # number of variables, cols of A\n",
    "\n",
    "\n",
    "G = rand(n,n)\n",
    "g = rand(n)\n",
    "kg = rand()\n",
    "\n",
    "# Quadratic form corresponding to temperature constraint \n",
    "# (only 2nd order).\n",
    "Q = diagm(rand(n))\n",
    "q = zeros(n)\n",
    "kq = 0.\n",
    "\n",
    "# A and b from Ax = b linear constraints.\n",
    "A = rand(m,n)\n",
    "b = rand(m)"
   ]
  },
  {
   "cell_type": "code",
   "execution_count": 12,
   "metadata": {
    "collapsed": false
   },
   "outputs": [
    {
     "name": "stdout",
     "output_type": "stream",
     "text": [
      "elapsed time: 14.231018721 seconds (477017384 bytes allocated, 0.61% gc time)\n"
     ]
    }
   ],
   "source": [
    "##################### ANALYSIS ################\n",
    "# Step 1: find point in set Ax = b closest to origin.\n",
    "@time x_star = min_norm(A,b);"
   ]
  },
  {
   "cell_type": "code",
   "execution_count": 15,
   "metadata": {
    "collapsed": false,
    "scrolled": true
   },
   "outputs": [
    {
     "name": "stdout",
     "output_type": "stream",
     "text": [
      "elapsed time: 0.121523837 seconds (200161048 bytes allocated, 17.16% gc time)\n"
     ]
    }
   ],
   "source": [
    "# Step 2: Translate quadratics by x_star found in Step 1.\n",
    "@time H,h,kh = translate_quadratic(G,g,kg,x_star);"
   ]
  },
  {
   "cell_type": "code",
   "execution_count": 16,
   "metadata": {
    "collapsed": false
   },
   "outputs": [
    {
     "name": "stdout",
     "output_type": "stream",
     "text": [
      "elapsed time: 0.117612461 seconds (200248672 bytes allocated, 17.46% gc time)\n"
     ]
    }
   ],
   "source": [
    "@time R,r,kr = translate_quadratic(Q,q,kq,x_star);"
   ]
  },
  {
   "cell_type": "code",
   "execution_count": 18,
   "metadata": {
    "collapsed": false
   },
   "outputs": [
    {
     "name": "stdout",
     "output_type": "stream",
     "text": [
      "elapsed time: 37.81036725 seconds (956139288 bytes allocated, 0.21% gc time)\n"
     ]
    }
   ],
   "source": [
    "# Step 3: Find rotation matrix to eliminate all but first k\n",
    "# variables, where k = dim(nullspace(A)).\n",
    "@time rotation = kernel_rotation(A);"
   ]
  },
  {
   "cell_type": "code",
   "execution_count": 20,
   "metadata": {
    "collapsed": false
   },
   "outputs": [
    {
     "name": "stdout",
     "output_type": "stream",
     "text": [
      "elapsed time: 6.069752301 seconds (200000192 bytes allocated)\n"
     ]
    }
   ],
   "source": [
    "# Step 4: Rotate problem using matrix found in Step 3.\n",
    "@time J = rotation*H;"
   ]
  },
  {
   "cell_type": "code",
   "execution_count": 22,
   "metadata": {
    "collapsed": false
   },
   "outputs": [
    {
     "name": "stdout",
     "output_type": "stream",
     "text": [
      "elapsed time: 0.01215163 seconds (40168 bytes allocated)\n"
     ]
    }
   ],
   "source": [
    "@time j = rotation*h;"
   ]
  },
  {
   "cell_type": "code",
   "execution_count": 23,
   "metadata": {
    "collapsed": false,
    "scrolled": true
   },
   "outputs": [
    {
     "data": {
      "text/plain": [
       "-0.7721821716740642"
      ]
     },
     "execution_count": 23,
     "metadata": {},
     "output_type": "execute_result"
    }
   ],
   "source": [
    "kj = kh"
   ]
  }
 ],
 "metadata": {
  "kernelspec": {
   "display_name": "Julia",
   "language": "julia",
   "name": "julia"
  },
  "language_info": {
   "name": "julia",
   "version": "0.3.5"
  }
 },
 "nbformat": 4,
 "nbformat_minor": 0
}
