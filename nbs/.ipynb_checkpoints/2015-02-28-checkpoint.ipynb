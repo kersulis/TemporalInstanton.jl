{
 "cells": [
  {
   "cell_type": "markdown",
   "metadata": {},
   "source": [
    "# Time-coupled instanton: from one time step to many\n",
    "\n",
    "This notebook describes a multi-time-step instanton formulation by first considering a single time step.\n",
    "\n",
    "Let's begin with a single node $i$ at one particular time. The power balance equation is:\n",
    "\n",
    "\\begin{align}\n",
    "Y\\theta &= x + G - D \\\\\n",
    "\\implies \\sum_{k=1}^{n} Y_{ik}\\theta_k &= x_i + G_i - D_i\n",
    "\\end{align}\n",
    "In other words, the injection at a bus (total generation minus demand) is equal to a weighted sum of bus angles, where the weights are given by the admittance matrix (of course, weights are zero where no lines exist).\n",
    "\n",
    "The above formulation is not quite complete, because it does not account for distributed slack. Distributed slack uses a vector of generator participation factors to assign a pre-defined portion of the power mismatch $\\alpha$ to each generator. This means that $G_i$ in the above equation may be expressed as\n",
    "\n",
    "\\begin{equation}\n",
    "G_i = G_i^0 + \\alpha k_i\n",
    "\\end{equation}\n",
    "where $\\alpha$ is defined as\n",
    "\n",
    "\\begin{align}\n",
    "\\alpha &= 1^\\top(D - x - G^0)\n",
    "\\end{align}\n",
    "\n",
    "Intuitively, this means that when demand exceeds total generation, $\\alpha$ will be positive, and each generator $G_i$ will increase its output by a fraction $k_i$ of the mismatch $\\alpha$."
   ]
  },
  {
   "cell_type": "markdown",
   "metadata": {},
   "source": [
    "## Objective Function\n",
    "\n",
    "The objective function weights only the deviation variables $x$. For two time steps, we have:\n",
    "\n",
    "\\begin{align}\n",
    "\\min & \\begin{bmatrix} x^{(1)\\top} & \\theta^{(1)\\top} & \\alpha^{(1)} & x^{(2)\\top} & \\theta^{(2)\\top} & \\alpha^{(2)} \\end{bmatrix}\n",
    "\\underbrace{\n",
    "\\begin{bmatrix} Q_x & 0 & 0 & 0 & 0 & 0 \\\\ 0 & 0 & 0 & 0 & 0 & 0 \\\\ 0 & 0  & 0 & 0 & 0 & 0 \\\\ 0 & 0 & 0 & Q_x & 0 & 0 \\\\ 0 & 0 & 0 & 0 & 0 & 0 \\\\ 0 & 0 & 0 & 0 & 0 & 0\\end{bmatrix}}_{Q_{obj}}\n",
    "\\begin{bmatrix} x^{(1)} \\\\ \\theta^{(1)} \\\\ \\alpha^{(1)} \\\\ x^{(2)} \\\\ \\theta^{(2)} \\\\ \\alpha^{(2)} \\end{bmatrix} \\\\\n",
    "&= \\sum_{t=1}^{T} x^{(t)\\top}Q_xx^{(t)}\n",
    "\\end{align}"
   ]
  },
  {
   "cell_type": "markdown",
   "metadata": {},
   "source": [
    "### Computing the objective function\n",
    "\n",
    "The following method generates the matrix $Q_{obj}\\in\\mathbb{R}^{2nT\\times 2nT}$, where each $Q_x$ is the identity matrix (no correlation):"
   ]
  },
  {
   "cell_type": "code",
   "execution_count": 41,
   "metadata": {
    "collapsed": false
   },
   "outputs": [
    {
     "data": {
      "text/plain": [
       "generateQobj (generic function with 1 method)"
      ]
     },
     "execution_count": 41,
     "metadata": {},
     "output_type": "execute_result"
    }
   ],
   "source": [
    "function generateQobj(n,T)\n",
    "    \"\"\" Generate the objective function matrix\n",
    "    Qobj from the problem dimensions.\n",
    "    Assume no correlation between wind sites.\n",
    "    \"\"\"\n",
    "    Qobj = zeros(2*n*T,2*n*T)\n",
    "    for t = 1:T\n",
    "        start = 2n*(t-1) + 1\n",
    "        stop = start + n - 1\n",
    "        Qobj[start:stop,start:stop] = eye(n)\n",
    "    end\n",
    "    return sparse(Qobj)\n",
    "end"
   ]
  },
  {
   "cell_type": "code",
   "execution_count": 16,
   "metadata": {
    "collapsed": false
   },
   "outputs": [
    {
     "data": {
      "text/plain": [
       "12x12 sparse matrix with 6 Float64 entries:\n",
       "\t[1 ,  1]  =  1.0\n",
       "\t[2 ,  2]  =  1.0\n",
       "\t[3 ,  3]  =  1.0\n",
       "\t[7 ,  7]  =  1.0\n",
       "\t[8 ,  8]  =  1.0\n",
       "\t[9 ,  9]  =  1.0"
      ]
     },
     "execution_count": 16,
     "metadata": {},
     "output_type": "execute_result"
    }
   ],
   "source": [
    "n = 3\n",
    "T = 2\n",
    "\n",
    "Qobj = generateQobj(n,T)"
   ]
  },
  {
   "cell_type": "markdown",
   "metadata": {},
   "source": [
    "## Power Balance Constraint\n",
    "\n",
    "Suppose our network has three nodes. Nodes 1 and 2 have wind farms, and node 3 is the angle reference. After removing the third row and column, our admittance matrix is\n",
    "\n",
    "$$ Y = \\begin{bmatrix} y_{11} & y_{12} \\\\ y_{12} & y_{22} \\end{bmatrix}. $$\n",
    "\n",
    "Assuming there are two time steps (enough to see the pattern), the vector of variables is\n",
    "\n",
    "\\begin{align}\n",
    "z &= \\begin{bmatrix} z^{(1)} \\\\ z^{(2)} \\end{bmatrix} \\text{, where} \\\\\n",
    "z^{(1)} &= \\begin{bmatrix} x_1^{(1)} & x_2^{(1)} & x_3^{(1)} & \\theta_1^{(1)} & \\theta_2^{(1)} & \\alpha^{(1)} \\end{bmatrix}^\\top \\\\\n",
    "z^{(2)} &= \\begin{bmatrix} x_1^{(2)} & x_2^{(2)} & x_3^{(2)} & \\theta_1^{(2)} & \\theta_2^{(2)} & \\alpha^{(2)} \\end{bmatrix}^\\top\n",
    "\\end{align}\n",
    "There are four linear equations per time step describing power balance and distributed slack. Let's consider the four equations of the first time step. The first describes $\\alpha$, the mismatch variable necessary to implement distributed slack. \n",
    "\n",
    "\\begin{align}\n",
    "\\alpha^{(1)} &= 1^\\top(D^{(1)} - x^{(1)} - G^{0(1)}) \\\\\n",
    "&= (D_1^{(1)} + D_2^{(1)} + D_3^{(1)}) - (x_1^{(1)} + x_2^{(1)} + x_3^{(1)}) - (G_1^{0(1)} + G_2^{0(1)} + G_3^{0(1)})\n",
    "\\end{align}\n",
    "Distributed slack uses a vector of generator participation factors to assign a pre-defined portion of the power mistmatch to each generator. We can express the actual generation at a time step as a function of the dispatch values $G^0$ and the mismatch $\\alpha$:\n",
    "\n",
    "\\begin{equation}\n",
    "G_i^{(1)} = G_i^{0(1)} + \\alpha^{(1)} k_i\n",
    "\\end{equation}\n",
    "Intuitively, this means that when demand exceeds total generation, $\\alpha$ will be positive, and each generator $G_i$ will increase its output by a fraction $k_i$ of $\\alpha$, thereby balancing the mismatch.\n",
    "\n",
    "Having described the behavior of conventional generators, we are ready to relate the bus angles to power injections at nodes 1 and 2:\n",
    "\n",
    "\\begin{align}\n",
    "y_{11}\\theta_1^{(1)} + y_{12}\\theta_2^{(1)} - x_1^{(1)} &= G_1^{(1)} - D_1^{(1)} \\\\\n",
    "&= (G_1^{0(1)} + \\alpha^{(1)} k_1) - D_1^{(1)} \\\\\n",
    "\\implies \\begin{bmatrix} -1 & 0 & 0 & y_{11} & y_{12} & -k_1 \\end{bmatrix} z^{(1)} &= G_1^{0(1)} - D_1^{(1)} \\\\\n",
    "\\\\\n",
    "y_{12}\\theta_1^{(1)} + y_{22}\\theta_2^{(1)} - x_2^{(1)} &= G_2^{(1)} - D_2^{(1)} \\\\\n",
    "&= (G_2^{0(1)} + \\alpha^{(1)} k_2) - D_2^{(1)} \\\\\n",
    "\\implies \\begin{bmatrix} 0 & -1 & 0 & y_{12} & y_{22} & -k_2 \\end{bmatrix} z^{(1)} &= G_2^{0(1)} - D_2^{(1)} \\\\\n",
    "\\end{align}\n",
    "At node 3 we know the angle is zero, but we still must express the relationship between wind deviation and conventional generation:\n",
    "\n",
    "\\begin{align}\n",
    "-x_3^{(1)} - \\alpha^{(1)}k_3 &= G_3^{0(1)} - D_3^{(1)} \\\\\n",
    "\\implies \\begin{bmatrix} 0 & 0 & -1 & 0 & 0 & -k_3 \\end{bmatrix} z^{(1)} &= G_3^{0(1)} - D_3^{(1)}\n",
    "\\end{align}\n",
    "We can rewrite the equation for $\\alpha$ in inner product form:\n",
    "\n",
    "\\begin{align}\n",
    "\\begin{bmatrix} 1 & 1 & 1 & 0 & 0 & 1 \\end{bmatrix} z^{(1)} &= \\sum_{i=1}^3 D_i^{(1)} -G_i^{0(1)}\n",
    "\\end{align}\n",
    "\n",
    "Now let's put everything together. The four power balance equations may be written as a single linear equation in $z^{(1)}$:\n",
    "\n",
    "\\begin{align}\n",
    "\\begin{bmatrix}\n",
    "-1 & 0 & 0 & y_{11} & y_{12} & -k_1 \\\\\n",
    "0 & -1 & 0 & y_{12} & y_{22} & -k_2 \\\\\n",
    "0 & 0 & -1 & 0 & 0 & -k_3 \\\\\n",
    "1 & 1 & 1 & 0 & 0 & 1 \\\\\n",
    "\\end{bmatrix}\n",
    "\\begin{bmatrix} x_1^{(1)} \\\\ x_2^{(1)} \\\\ x_3^{(1)} \\\\ \\theta_1^{(1)} \\\\ \\theta_2^{(1)} \\\\ \\alpha^{(1)} \\end{bmatrix} &=\n",
    "\\begin{bmatrix}\n",
    "G_1^{0(1)} - D_1^{(1)} \\\\\n",
    "G_2^{0(1)} - D_2^{(1)} \\\\\n",
    "G_3^{0(1)} - D_3^{(1)} \\\\\n",
    "\\sum_{i=1}^3 D_i^{(1)} -G_i^{0(1)}\n",
    "\\end{bmatrix}\n",
    "\\end{align}\n",
    "Generalizing, we find that \n",
    "\n",
    "* There are $2nT$ variables --where $n$ is the number of nodes and $T$ is the number of time steps-- comprised of $nT$ deviation variables, $(n-1)T$ angle variables, and $T$ mismatch variables.\n",
    "\n",
    "* There are $(n+1)T$  equations, where $nT$ describe injections and $T$ describe mismatches.\n",
    "\n",
    "* Thus, the power balance equations are of the form $Az = b$, where\n",
    "    * $A\\in\\mathbb{R}^{(n+1)T\\times 2nT}$\n",
    "    * $z\\in\\mathbb{R}^{2nT\\times 1}$\n",
    "    * $b\\in\\mathbb{R}^{(n+1)T\\times 1}$"
   ]
  },
  {
   "cell_type": "markdown",
   "metadata": {},
   "source": [
    "### Computing power balance constraint parameters\n",
    "\n",
    "The following methods generate $A$ and $b$:"
   ]
  },
  {
   "cell_type": "code",
   "execution_count": 13,
   "metadata": {
    "collapsed": false
   },
   "outputs": [
    {
     "data": {
      "text/plain": [
       "generateb (generic function with 1 method)"
      ]
     },
     "execution_count": 13,
     "metadata": {},
     "output_type": "execute_result"
    }
   ],
   "source": [
    "function generateA(n,T,Y,k)\n",
    "    \"\"\" Generate the power balance constraint A matrix\n",
    "    from problem dimensions, admittance matrix,\n",
    "    and generator participation factors.\n",
    "    Assumes the admittance matrix is (n-1)-by-(n-1).\n",
    "    \"\"\"\n",
    "    # A = zeros((n+1)*T,2*n*T)\n",
    "    \n",
    "    # A has a block diagonal pattern where each\n",
    "    # block is Atemp:\n",
    "    Atemp = zeros((n+1),2*n)\n",
    "    Atemp[1:n,1:n] = -eye(n)\n",
    "    Atemp[end,1:n] = ones(1,n)\n",
    "    Atemp[1:n-1,n+1:2n-1] = Y\n",
    "    Atemp[:,2*n] = [-k,1]\n",
    "    Atemp = sparse(Atemp)\n",
    "    \n",
    "    A = Atemp\n",
    "    \n",
    "    # Now we can tile the Atemp matrix to generate A:\n",
    "    for t = 2:T\n",
    "        A = blkdiag(A, Atemp)\n",
    "    end\n",
    "#     for t = 1:T\n",
    "#         start = (n+1)*(t-1) + 1\n",
    "#         stop = start + n\n",
    "#         A[start:stop,:] = circshift(Atemp,[0,2*n*(t-1)])\n",
    "#     end\n",
    "    \n",
    "    return A\n",
    "end\n",
    "\n",
    "function generateb(n,T,G0,D)\n",
    "    \"\"\" Generate the vector b of power balance constraints.\n",
    "    Assumes G0 and D are nT-by-1 vectors.\n",
    "    \"\"\"\n",
    "    b = FloatingPoint[]\n",
    "    \n",
    "    # b = zeros((n+1)*T,1)\n",
    "    netGen = G0 - D\n",
    "    for t = 1:T\n",
    "        start = (t-1)*n + 1\n",
    "        stop = start + n - 1\n",
    "        mismatch = -sum(netGen[start:stop])\n",
    "        append!(b,netGen[start:stop])\n",
    "        push!(b,mismatch)\n",
    "    end\n",
    "    return b\n",
    "end"
   ]
  },
  {
   "cell_type": "code",
   "execution_count": 18,
   "metadata": {
    "collapsed": false
   },
   "outputs": [
    {
     "data": {
      "text/plain": [
       "8-element Array{FloatingPoint,1}:\n",
       "  0.2\n",
       "  0.2\n",
       "  0.2\n",
       " -0.6\n",
       "  0.2\n",
       "  0.2\n",
       "  0.2\n",
       " -0.6"
      ]
     },
     "execution_count": 18,
     "metadata": {},
     "output_type": "execute_result"
    }
   ],
   "source": [
    "# Test generateA and generateb:\n",
    "n = 3\n",
    "T = 2\n",
    "Y = [2 3; 3 4]\n",
    "k = [0.25,0.25,0.5]\n",
    "\n",
    "A = generateA(n,T,Y,k)\n",
    "\n",
    "G0 = ones(n*T)\n",
    "D = ones(n*T).*0.8\n",
    "\n",
    "b = generateb(n,T,G0,D)"
   ]
  },
  {
   "cell_type": "code",
   "execution_count": 19,
   "metadata": {
    "collapsed": false
   },
   "outputs": [
    {
     "data": {
      "text/plain": [
       "8x12 Array{Float64,2}:\n",
       " -1.0   0.0   0.0  2.0  3.0  -0.25   0.0   0.0   0.0  0.0  0.0   0.0 \n",
       "  0.0  -1.0   0.0  3.0  4.0  -0.25   0.0   0.0   0.0  0.0  0.0   0.0 \n",
       "  0.0   0.0  -1.0  0.0  0.0  -0.5    0.0   0.0   0.0  0.0  0.0   0.0 \n",
       "  1.0   1.0   1.0  0.0  0.0   1.0    0.0   0.0   0.0  0.0  0.0   0.0 \n",
       "  0.0   0.0   0.0  0.0  0.0   0.0   -1.0   0.0   0.0  2.0  3.0  -0.25\n",
       "  0.0   0.0   0.0  0.0  0.0   0.0    0.0  -1.0   0.0  3.0  4.0  -0.25\n",
       "  0.0   0.0   0.0  0.0  0.0   0.0    0.0   0.0  -1.0  0.0  0.0  -0.5 \n",
       "  0.0   0.0   0.0  0.0  0.0   0.0    1.0   1.0   1.0  0.0  0.0   1.0 "
      ]
     },
     "execution_count": 19,
     "metadata": {},
     "output_type": "execute_result"
    }
   ],
   "source": [
    "full(A)"
   ]
  },
  {
   "cell_type": "markdown",
   "metadata": {},
   "source": [
    "## Line Temperature Constraint\n",
    "\n",
    "The purpose of our optimization routine is to find wind patterns that excessively heat a line of our choosing. This is expressed mathematically in terms of the angle variables:\n",
    "\n",
    "\\begin{align}\n",
    "\\begin{bmatrix} x^{(1)\\top} & \\theta^{(1)\\top} & \\alpha^{(1)} & x^{(2)\\top} & \\theta^{(2)\\top} & \\alpha^{(2)} \\end{bmatrix}\n",
    "\\underbrace{\\begin{bmatrix}\n",
    "0 & Q_\\theta^{(1)} & 0 & 0 & 0 & 0 \\\\\n",
    "0 & 0 & 0 & 0 & 0 & 0 \\\\\n",
    "0 & 0  & 0 & 0 & 0 & 0 \\\\\n",
    "0 & 0 & 0 & 0 & 0 & 0 \\\\\n",
    "0 & 0 & 0 & 0 & Q_\\theta^{(2)} & 0 \\\\\n",
    "0 & 0 & 0 & 0 & 0 & 0\\end{bmatrix}}_{Q_\\theta}\n",
    "\\begin{bmatrix} x^{(1)} \\\\ \\theta^{(1)} \\\\ \\alpha^{(1)} \\\\ x^{(2)} \\\\ \\theta^{(2)} \\\\ \\alpha^{(2)} \\end{bmatrix} &= c \\text{, where} \\\\\n",
    "Q_\\theta^{(t)} &= \\tau^{T -t} (e_i - e_k)(e_i - e_k)^\\top\n",
    "\\end{align}"
   ]
  },
  {
   "cell_type": "markdown",
   "metadata": {},
   "source": [
    "### Computing line temp constraint parameters\n",
    "\n",
    "The following methods are used to compute $Q_\\theta$."
   ]
  },
  {
   "cell_type": "code",
   "execution_count": 38,
   "metadata": {
    "collapsed": false
   },
   "outputs": [
    {
     "data": {
      "text/plain": [
       "generateQtheta (generic function with 1 method)"
      ]
     },
     "execution_count": 38,
     "metadata": {},
     "output_type": "execute_result"
    }
   ],
   "source": [
    "function generateQtheta(n,T,tau,line)\n",
    "    \"\"\" Generate Q_theta in the temperature constraint\n",
    "    of a temporal instanton problem instance.\n",
    "    \"line\" has the form (i,k), where i and k refer to\n",
    "    the endpoints of the chosen line.\n",
    "    \"\"\"\n",
    "    Qtheta = zeros(2*n*T,2*n*T)\n",
    "    i,k = line\n",
    "    ei = zeros(n-1,1)\n",
    "    ei[i] = 1\n",
    "    ek = zeros(n-1,1)\n",
    "    ek[k] = 1\n",
    "    \n",
    "    Q0 = (ei - ek)*(ei - ek)'\n",
    "    \n",
    "    for t = 1:T\n",
    "        start = n + 1 + 2*n*(t-1)\n",
    "        stop = start + n - 2\n",
    "        Qtheta[start:stop,start:stop] = tau^(T-t)*Q0\n",
    "    end\n",
    "    return sparse(Qtheta)\n",
    "end"
   ]
  },
  {
   "cell_type": "code",
   "execution_count": 39,
   "metadata": {
    "collapsed": false
   },
   "outputs": [
    {
     "data": {
      "text/plain": [
       "12x12 sparse matrix with 8 Float64 entries:\n",
       "\t[4 ,  4]  =  2.0\n",
       "\t[5 ,  4]  =  -2.0\n",
       "\t[4 ,  5]  =  -2.0\n",
       "\t[5 ,  5]  =  2.0\n",
       "\t[10, 10]  =  1.0\n",
       "\t[11, 10]  =  -1.0\n",
       "\t[10, 11]  =  -1.0\n",
       "\t[11, 11]  =  1.0"
      ]
     },
     "execution_count": 39,
     "metadata": {},
     "output_type": "execute_result"
    }
   ],
   "source": [
    "# Test generateA and generateb:\n",
    "n = 3\n",
    "T = 2\n",
    "tau = 2\n",
    "line = (1,2)\n",
    "Y = [2 3; 3 4]\n",
    "k = [0.25,0.25,0.5]\n",
    "\n",
    "Qtheta = generateQtheta(n,T,tau,line)"
   ]
  },
  {
   "cell_type": "markdown",
   "metadata": {},
   "source": [
    "# Problem Instance\n",
    "\n",
    "An instance of the temporal instanton problem is characterized by \n",
    "\n",
    "* $n$ and $T$\n",
    "\n",
    "* $Q_x$, which depends on desired correlation\n",
    "\n",
    "* $A$, which depends on admittance matrix $Y$\n",
    "\n",
    "* $b$, which depends on $G^0$ and $D$\n",
    "\n",
    "* $Q_\\theta$, which depends on $\\tau$ and the line we wish to overload\n",
    "\n",
    "## Toy example\n",
    "\n",
    "Let's make up some numbers and generate each part of a problem instance to ensure everything works."
   ]
  },
  {
   "cell_type": "code",
   "execution_count": 42,
   "metadata": {
    "collapsed": false
   },
   "outputs": [
    {
     "data": {
      "text/plain": [
       "temporalInstanton (generic function with 1 method)"
      ]
     },
     "execution_count": 42,
     "metadata": {},
     "output_type": "execute_result"
    }
   ],
   "source": [
    "n = 4 # nodes\n",
    "T = 3 # time steps\n",
    "\n",
    "tau = 2 # heating coeff.\n",
    "\n",
    "line = (1,3) # line to overheat\n",
    "\n",
    "Y = [1 -2 -3; \n",
    "    -2 1 -4; \n",
    "    -3 -4 1] # admittance matrix\n",
    "\n",
    "k = [0,0.25,0.25,0.5] # gen. participation factors\n",
    "\n",
    "G0 = [0, 0.6, 0.3, 0.5]\n",
    "G0 = [G0,0.75*G0,1.2*G0]\n",
    "D = [0.5,0.2,0.2,0.4]\n",
    "D = [D,0.7*D,1.2*D]\n",
    "\n",
    "function temporalInstanton(n,t,tau,Y,k,G0,D,line)\n",
    "    Qobj = generateQobj(n,T)\n",
    "    A = generateA(n,T,Y,k)\n",
    "    b = generateb(n,T,G0,D)\n",
    "    Qtheta = generateQtheta(n,T,tau,line)\n",
    "    return Qobj, A, b, Qtheta\n",
    "end"
   ]
  },
  {
   "cell_type": "code",
   "execution_count": 44,
   "metadata": {
    "collapsed": false
   },
   "outputs": [
    {
     "ename": "LoadError",
     "evalue": "dimensions must match\nwhile loading In[44], in expression starting on line 1",
     "output_type": "error",
     "traceback": [
      "dimensions must match\nwhile loading In[44], in expression starting on line 1",
      "",
      " in - at array.jl:722",
      " in generateb at In[13]:40",
      " in temporalInstanton at In[42]:22"
     ]
    }
   ],
   "source": [
    "temporalInstanton(n,T,tau,Y,k,G0,D,line)"
   ]
  }
 ],
 "metadata": {
  "kernelspec": {
   "display_name": "Julia",
   "language": "julia",
   "name": "julia"
  },
  "language_info": {
   "name": "julia",
   "version": "0.3.6"
  }
 },
 "nbformat": 4,
 "nbformat_minor": 0
}
