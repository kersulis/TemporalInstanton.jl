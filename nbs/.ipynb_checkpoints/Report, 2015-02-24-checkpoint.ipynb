{
 "cells": [
  {
   "cell_type": "markdown",
   "metadata": {},
   "source": [
    "# Connecting with Dan's Solution Method\n",
    "\n",
    "## Low-dimensional manifestation\n",
    "\n",
    "Suppose there are two time steps and two non-slack nodes. Then we have:\n",
    "\n",
    "$$\\begin{align}\n",
    "\\min x^\\top x &\\\\\n",
    "s.t.&\\\\\n",
    "\\begin{bmatrix}Y & 0\\\\ 0 & Y\\end{bmatrix}\\theta - x &= G - D \\\\\n",
    "\\theta^\\top Q\\theta &= c\n",
    "\\end{align}$$\n",
    "\n",
    "where\n",
    "\n",
    "* $x = \\begin{bmatrix}dev_1^{(1)} & dev_2^{(1)} & dev_1^{(2)} & dev_2^{(2)}\\end{bmatrix}$ is the vector of deviations from wind forecast.\n",
    "\n",
    "* $Y$ is the admittance matrix.\n",
    "\n",
    "* $\\theta = \\begin{bmatrix} \\theta_1^{(1)} & \\theta_2^{(1)} & \\theta_1^{(2)} & \\theta_2^{(2)}\\end{bmatrix}^\\top$ is the vector of angles.\n",
    "\n",
    "* $c$ is a scaled and derated version of the line temperature constraint:\n",
    "$$c = \\left(\\Delta T_{12} - \\delta_{12}\\begin{bmatrix} \\tau & 1\\end{bmatrix}\\begin{bmatrix}\\Delta d_{12}^{(1)} \\\\ \\Delta d_{12}^{(2)}\\end{bmatrix}\\right)\\left(\\frac{x_{12}^2}{\\rho_{12}r_{12}}\\right)$$\n",
    "\n",
    "* $Q$ is symmetrix and block diagonal as shown:\n",
    "\n",
    "\\begin{align}\n",
    "(\\tau)\\left[\\left(\\theta_1^{(1)} - \\theta_2^{(1)}\\right)^2\\right] + (1)\\left[\\left(\\theta_1^{(2)} - \\theta_2^{(2)}\\right)^2\\right]\n",
    "&= \\begin{bmatrix} \\theta_1^{(1)} & \\theta_2^{(1)} & \\theta_1^{(2)} & \\theta_2^{(2)}\\end{bmatrix} \\underbrace{\\begin{bmatrix} \\tau & - \\tau & 0 & 0 \\\\- \\tau & \\tau & 0 & 0 \\\\ 0 & 0 & 1 & -1 \\\\ 0 & 0 & -1 & 1 \\end{bmatrix}}_Q \\begin{bmatrix} \\theta_1^{(1)} \\\\ \\theta_2^{(1)} \\\\ \\theta_1^{(2)} \\\\ \\theta_2^{(2)}\\end{bmatrix} \n",
    "\\end{align}"
   ]
  },
  {
   "cell_type": "markdown",
   "metadata": {},
   "source": [
    "## General Problem\n",
    "\n",
    "$$\n",
    "\\begin{align}\n",
    "(P)& & \\min x^\\top x &\\\\\n",
    "&& s.t.&\\\\\n",
    "&&\\text{diag }(Y,Y,\\cdots,Y)\\theta - x &= G - D \\\\\n",
    "&&\\theta^\\top Q\\theta &= c\n",
    "\\end{align}\n",
    "$$\n",
    "\n",
    "* $x\\in \\mathbb{R}^{mT\\times1}$, where $m$ is the number of nodes in the network and $T$ is the number of time steps, is the vector of decision variables:\n",
    "\n",
    "\\begin{align}\n",
    "x = \\begin{bmatrix} dev_1^{(1)} & dev_2^{(1)} & \\cdots & dev_n^{(1)} &\n",
    "dev_1^{(2)} & dev_2^{(2)} & \\cdots & dev_n^{(T)} \\end{bmatrix}^\\top\n",
    "\\end{align}\n",
    "\n",
    "These variables represent deviation from wind forecast at each wind farm. Of course, the deviation at a node without a wind farm is identically zero.\n",
    "\n",
    "* $Y\\in\\mathbb{R}^{m\\times m}$ is the admittance matrix.\n",
    "\n",
    "* $\\theta\\in\\mathbb{R}^{mT\\times 1}$, where $m$ is the number of nodes in the network, is the vector of angle variables, which are internal. (If we assume bus $i$ is the system slack bus, then $T$ of the angle variables --those corresponding to node $i$-- are identically zero, and we remove row $i$ and column $i$ from $Y$.)\n",
    "\n",
    "\\begin{align}\n",
    "\\theta = \\begin{bmatrix} \\theta_1^{(1)} & \\theta_2^{(1)} & \\cdots & \\theta_{m-1}^{(1)} &\n",
    "\\theta_1^{(2)} & \\theta_2^{(2)} & \\cdots & \\theta_{m-1}^{(T)} \\end{bmatrix}^\\top\n",
    "\\end{align}\n",
    "\n",
    "\n",
    "* $G$ and $D$ are $mT\\times 1$ vectors of conventional generation and demand, respectively, at each node and time step.\n",
    "\n",
    "* $c_{ik}$ is a scaled and derated version of the temperature constraint for line $i\\to k$:\n",
    "\n",
    "\\begin{align}\n",
    "c_{ik} &= \\left(\\Delta T_{ik}^{lim} - \\delta_{ik}\\begin{bmatrix} \\tau^{T-1} & \\tau^{T-2} & \\cdots & \\tau & 1\\end{bmatrix}\\begin{bmatrix}\\Delta d_{ik}^{(1)} \\\\ \\Delta d_{ik}^{(2)} \\\\ \\vdots \\\\ \\Delta d_{ik}^{(T)}\\end{bmatrix}\\right)\\left(\\frac{x_{ik}^2}{\\rho_{ik}r_{ik}}\\right)\n",
    "\\end{align}\n",
    "\n",
    "\n",
    "* $Q\\in\\mathbb{R}^{(m-1)T\\times (m-1)T}$ is a symmetric block-diagonal matrix that may be expressed as:\n",
    "\n",
    "\\begin{align}\n",
    "Q &= \\text{diag}\\left( \\tau^{T-1} q_{ik}q_{ik}^\\top, \\tau^{T-2} q_{ik}q_{ik}^\\top,\\cdots, q_{ik}q_{ik}^\\top \\right),\\quad q_{ik} = e_i - e_k~,\n",
    "\\end{align}\n",
    "\n",
    "where $e_i\\in\\mathbb{R}^{(m-1)T\\times 1}$ is a vector with 1 in the $i$-th position and 0 everywhere else."
   ]
  },
  {
   "cell_type": "markdown",
   "metadata": {},
   "source": [
    "(Note: If we had $\\theta^\\top Q\\theta - c \\leq 0$ instead of $\\theta^\\top Q\\theta = 0$, we could consider $(P)$ to be a convex problem and the KKT conditions to be sufficient for optimality.)"
   ]
  },
  {
   "cell_type": "markdown",
   "metadata": {},
   "source": [
    "### Eliminate deviation variables, express everything in terms of $\\theta$\n",
    "\n",
    "We can use the power balance equations to eliminate deviation variables. The resulting problem is expressed in terms of a single vector of variables, as required by Dan's formulation.\n",
    "\n",
    "\\begin{align}\n",
    "&(P)&  \\min \\left( \\text{diag }(Y,Y,\\cdots,Y)\\theta - G + D \\right)^\\top \\left( \\text{diag }(Y,Y,\\cdots,Y)\\theta - G + D \\right) &\\\\\n",
    "&& s.t.&\\\\\n",
    "&&\\theta^\\top Q\\theta &= c\n",
    "\\end{align}\n",
    "\n",
    "This is of the form:\n",
    "\n",
    "\\begin{align}\n",
    "&(P)&  \\min \\lVert A\\theta - b\\rVert &\\\\\n",
    "&& s.t.&\\\\\n",
    "&&\\theta^\\top Q\\theta &= c\n",
    "\\end{align}"
   ]
  },
  {
   "cell_type": "markdown",
   "metadata": {},
   "source": [
    "All that remains is to solve the first-order necessary conditions (KKT because we satisfy the linear independence constraint qualification -- no need for more general Fritz-John) and check candidates."
   ]
  }
 ],
 "metadata": {
  "kernelspec": {
   "display_name": "Julia",
   "language": "julia",
   "name": "julia"
  },
  "language_info": {
   "name": "julia",
   "version": "0.3.6"
  }
 },
 "nbformat": 4,
 "nbformat_minor": 0
}
