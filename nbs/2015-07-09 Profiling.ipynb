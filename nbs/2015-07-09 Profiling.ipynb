{
 "cells": [
  {
   "cell_type": "code",
   "execution_count": 1,
   "metadata": {
    "collapsed": true
   },
   "outputs": [],
   "source": [
    "# Data loading and manipulation:\n",
    "using HDF5, JLD\n",
    "include(\"../src/tmp_inst_rts96.jl\")\n",
    "\n",
    "# Analysis:\n",
    "include(\"../src/TemporalInstanton.jl\")\n",
    "using TemporalInstanton"
   ]
  },
  {
   "cell_type": "code",
   "execution_count": 2,
   "metadata": {
    "collapsed": true
   },
   "outputs": [
    {
     "data": {
      "text/html": [
       "<script charset=\"utf-8\">(function ($, undefined) {\n",
       "\n",
       "    function createElem(tag, attr, content) {\n",
       "\t// TODO: remove jQuery dependency\n",
       "\tvar el = $(\"<\" + tag + \"/>\").attr(attr);\n",
       "\tif (content) {\n",
       "\t    el.append(content);\n",
       "\t}\n",
       "\treturn el[0];\n",
       "    }\n",
       "\n",
       "    // A widget must expose an id field which identifies it to the backend,\n",
       "    // an elem attribute which is will be added to the DOM, and\n",
       "    // a getState() method which returns the value to be sent to the backend\n",
       "    // a sendUpdate() method which sends its current value to the backend\n",
       "    var Widget = {\n",
       "\tid: undefined,\n",
       "\telem: undefined,\n",
       "\tlabel: undefined,\n",
       "\tgetState: function () {\n",
       "\t    return this.elem.value;\n",
       "\t},\n",
       "\tsendUpdate: undefined\n",
       "    };\n",
       "\n",
       "    var Slider = function (typ, id, init) {\n",
       "\tvar attr = { type:  \"range\",\n",
       "\t\t     value: init.value,\n",
       "\t\t     min:   init.min,\n",
       "\t\t     max:   init.max,\n",
       "\t\t     step:  init.step },\n",
       "\t    elem = createElem(\"input\", attr),\n",
       "\t    self = this;\n",
       "\n",
       "\telem.onchange = function () {\n",
       "\t    self.sendUpdate();\n",
       "\t}\n",
       "\n",
       "\tthis.id = id;\n",
       "\tthis.elem = elem;\n",
       "\tthis.label = init.label;\n",
       "\n",
       "\tInputWidgets.commInitializer(this); // Initialize communication\n",
       "    }\n",
       "    Slider.prototype = Widget;\n",
       "\n",
       "    var Checkbox = function (typ, id, init) {\n",
       "\tvar attr = { type: \"checkbox\",\n",
       "\t\t     checked: init.value },\n",
       "\t    elem = createElem(\"input\", attr),\n",
       "\t    self = this;\n",
       "\n",
       "\tthis.getState = function () {\n",
       "\t    return elem.checked;\n",
       "\t}\n",
       "\telem.onchange = function () {\n",
       "\t    self.sendUpdate();\n",
       "\t}\n",
       "\n",
       "\tthis.id = id;\n",
       "\tthis.elem = elem;\n",
       "\tthis.label = init.label;\n",
       "\n",
       "\tInputWidgets.commInitializer(this);\n",
       "    }\n",
       "    Checkbox.prototype = Widget;\n",
       "\n",
       "    var Button = function (typ, id, init) {\n",
       "\tvar attr = { type:    \"button\",\n",
       "\t\t     value:   init.label },\n",
       "\t    elem = createElem(\"input\", attr),\n",
       "\t    self = this;\n",
       "\tthis.getState = function () {\n",
       "\t    return null;\n",
       "\t}\n",
       "\telem.onclick = function () {\n",
       "\t    self.sendUpdate();\n",
       "\t}\n",
       "\n",
       "\tthis.id = id;\n",
       "\tthis.elem = elem;\n",
       "\tthis.label = init.label;\n",
       "\n",
       "\tInputWidgets.commInitializer(this);\n",
       "    }\n",
       "    Button.prototype = Widget;\n",
       "\n",
       "    var Text = function (typ, id, init) {\n",
       "\tvar attr = { type:  \"text\",\n",
       "\t\t     placeholder: init.label,\n",
       "\t\t     value: init.value },\n",
       "\t    elem = createElem(\"input\", attr),\n",
       "\t    self = this;\n",
       "\tthis.getState = function () {\n",
       "\t    return elem.value;\n",
       "\t}\n",
       "\telem.onkeyup = function () {\n",
       "\t    self.sendUpdate();\n",
       "\t}\n",
       "\n",
       "\tthis.id = id;\n",
       "\tthis.elem = elem;\n",
       "\tthis.label = init.label;\n",
       "\n",
       "\tInputWidgets.commInitializer(this);\n",
       "    }\n",
       "    Text.prototype = Widget;\n",
       "\n",
       "    var Textarea = function (typ, id, init) {\n",
       "\tvar attr = { placeholder: init.label },\n",
       "\t    elem = createElem(\"textarea\", attr, init.value),\n",
       "\t    self = this;\n",
       "\tthis.getState = function () {\n",
       "\t    return elem.value;\n",
       "\t}\n",
       "\telem.onchange = function () {\n",
       "\t    self.sendUpdate();\n",
       "\t}\n",
       "\n",
       "\tthis.id = id;\n",
       "\tthis.elem = elem;\n",
       "\tthis.label = init.label;\n",
       "\n",
       "\tInputWidgets.commInitializer(this);\n",
       "    }\n",
       "    Textarea.prototype = Widget;\n",
       "\n",
       "    // RadioButtons\n",
       "    // Dropdown\n",
       "    // HTML\n",
       "    // Latex\n",
       "\n",
       "    var InputWidgets = {\n",
       "\tSlider: Slider,\n",
       "\tCheckbox: Checkbox,\n",
       "\tButton: Button,\n",
       "\tText: Text,\n",
       "\tTextarea: Textarea,\n",
       "\tdebug: false,\n",
       "\tlog: function () {\n",
       "\t    if (InputWidgets.debug) {\n",
       "\t\tconsole.log.apply(console, arguments);\n",
       "\t    }\n",
       "\t},\n",
       "\t// a central way to initalize communication\n",
       "\t// for widgets.\n",
       "\tcommInitializer: function (widget) {\n",
       "\t    widget.sendUpdate = function () {};\n",
       "\t}\n",
       "    };\n",
       "\n",
       "    window.InputWidgets = InputWidgets;\n",
       "\n",
       "})(jQuery, undefined);\n",
       "</script>"
      ]
     },
     "metadata": {},
     "output_type": "display_data"
    },
    {
     "data": {
      "text/html": [
       "<script charset=\"utf-8\">(function (IPython, $, _, MathJax, Widgets) {\n",
       "    $.event.special.destroyed = {\n",
       "\tremove: function(o) {\n",
       "\t    if (o.handler) {\n",
       "\t\to.handler.apply(this, arguments)\n",
       "\t    }\n",
       "\t}\n",
       "    }\n",
       "\n",
       "    var redrawValue = function (container, type, val) {\n",
       "\tvar selector = $(\"<div/>\");\n",
       "\tvar oa = new IPython.OutputArea(_.extend(selector, {\n",
       "\t    selector: selector,\n",
       "\t    prompt_area: true,\n",
       "\t    events: IPython.events,\n",
       "\t    keyboard_manager: IPython.keyboard_manager\n",
       "\t})); // Hack to work with IPython 2.1.0\n",
       "\n",
       "\tswitch (type) {\n",
       "\tcase \"image/png\":\n",
       "            var _src = 'data:' + type + ';base64,' + val;\n",
       "\t    $(container).find(\"img\").attr('src', _src);\n",
       "\t    break;\n",
       "\tdefault:\n",
       "\t    var toinsert = IPython.OutputArea.append_map[type].apply(\n",
       "\t\toa, [val, {}, selector]\n",
       "\t    );\n",
       "\t    $(container).empty().append(toinsert.contents());\n",
       "\t    selector.remove();\n",
       "\t}\n",
       "\tif (type === \"text/latex\" && MathJax) {\n",
       "\t    MathJax.Hub.Queue([\"Typeset\", MathJax.Hub, toinsert.get(0)]);\n",
       "\t}\n",
       "    }\n",
       "\n",
       "\n",
       "    $(document).ready(function() {\n",
       "\tWidgets.debug = false; // log messages etc in console.\n",
       "\tfunction initComm(evt, data) {\n",
       "\t    var comm_manager = data.kernel.comm_manager;\n",
       "\t    comm_manager.register_target(\"Signal\", function (comm) {\n",
       "\t\tcomm.on_msg(function (msg) {\n",
       "\t\t    //Widgets.log(\"message received\", msg);\n",
       "\t\t    var val = msg.content.data.value;\n",
       "\t\t    $(\".signal-\" + comm.comm_id).each(function() {\n",
       "\t\t\tvar type = $(this).data(\"type\");\n",
       "\t\t\tif (val[type]) {\n",
       "\t\t\t    redrawValue(this, type, val[type], type);\n",
       "\t\t\t}\n",
       "\t\t    });\n",
       "\t\t    delete val;\n",
       "\t\t    delete msg.content.data.value;\n",
       "\t\t});\n",
       "\t    });\n",
       "\n",
       "\t    // coordingate with Comm and redraw Signals\n",
       "\t    // XXX: Test using Reactive here to improve performance\n",
       "\t    $([IPython.events]).on(\n",
       "\t\t'output_appended.OutputArea', function (event, type, value, md, toinsert) {\n",
       "\t\t    if (md && md.reactive) {\n",
       "\t\t\t// console.log(md.comm_id);\n",
       "\t\t\ttoinsert.addClass(\"signal-\" + md.comm_id);\n",
       "\t\t\ttoinsert.data(\"type\", type);\n",
       "\t\t\t// Signal back indicating the mimetype required\n",
       "\t\t\tvar comm_manager = IPython.notebook.kernel.comm_manager;\n",
       "\t\t\tvar comm = comm_manager.comms[md.comm_id];\n",
       "\t\t\tcomm.send({action: \"subscribe_mime\",\n",
       "\t\t\t\t   mime: type});\n",
       "\t\t\ttoinsert.bind(\"destroyed\", function() {\n",
       "\t\t\t    comm.send({action: \"unsubscribe_mime\",\n",
       "\t\t\t\t       mime: type});\n",
       "\t\t\t});\n",
       "\t\t    }\n",
       "\t    });\n",
       "\n",
       "\t    // Set up communication for Widgets\n",
       "\t    Widgets.commInitializer = function (widget) {\n",
       "\t\tvar comm = comm_manager.new_comm(\n",
       "\t\t    \"InputWidget\", {widget_id: widget.id}\n",
       "\t\t);\n",
       "\t\twidget.sendUpdate = function () {\n",
       "\t\t    // `this` is a widget here.\n",
       "\t\t    // TODO: I have a feeling there's some\n",
       "\t\t    //       IPython bookkeeping to be done here.\n",
       "\t\t    // Widgets.log(\"State changed\", this, this.getState());\n",
       "\t\t    comm.send({value: this.getState()});\n",
       "\t\t}\n",
       "\t    };\n",
       "\t}\n",
       "\n",
       "\ttry {\n",
       "\t    // try to initialize right away. otherwise, wait on the status_started event.\n",
       "\t    initComm(undefined, IPython.notebook);\n",
       "\t} catch (e) {\n",
       "\t    $([IPython.events]).on('status_started.Kernel', initComm);\n",
       "\t}\n",
       "    });\n",
       "})(IPython, jQuery, _, MathJax, InputWidgets);\n",
       "</script>"
      ]
     },
     "metadata": {},
     "output_type": "display_data"
    },
    {
     "name": "stderr",
     "output_type": "stream",
     "text": [
      "Warning: New definition \n",
      "    call(Type{PyCall.PyDict}, Base.Associative{#K<:Any, Any}) at /home/jkersulis/.julia/v0.4/PyCall/src/conversions.jl:464\n",
      "is ambiguous with: \n",
      "    call(Type{PyCall.PyDict}, Base.Associative{Any, #V<:Any}) at /home/jkersulis/.julia/v0.4/PyCall/src/conversions.jl:463.\n",
      "To fix, define \n",
      "    call(Type{PyCall.PyDict}, Base.Associative{Any, Any})\n",
      "before the new definition.\n"
     ]
    },
    {
     "ename": "LoadError",
     "evalue": "LoadError: LoadError: LoadError: TypeError: apply_type: in first parameter of NTuple, expected Int64, got Type{Type{T}}\nwhile loading /home/jkersulis/.julia/v0.4/PyCall/src/PyCall.jl, in expression starting on line 381\nwhile loading /home/jkersulis/.julia/v0.4/PyPlot/src/PyPlot.jl, in expression starting on line 3\nwhile loading In[2], in expression starting on line 3",
     "output_type": "error",
     "traceback": [
      "LoadError: LoadError: LoadError: TypeError: apply_type: in first parameter of NTuple, expected Int64, got Type{Type{T}}\nwhile loading /home/jkersulis/.julia/v0.4/PyCall/src/PyCall.jl, in expression starting on line 381\nwhile loading /home/jkersulis/.julia/v0.4/PyPlot/src/PyPlot.jl, in expression starting on line 3\nwhile loading In[2], in expression starting on line 3",
      "",
      " in include at ./boot.jl:254",
      " in include_from_node1 at ./loading.jl:133",
      " in reload_path at ./loading.jl:157",
      " in _require at ./loading.jl:69",
      " in require at ./loading.jl:55",
      " in include at ./boot.jl:254",
      " in include_from_node1 at ./loading.jl:133",
      " in reload_path at ./loading.jl:157",
      " in _require at ./loading.jl:69",
      " in require at ./loading.jl:52"
     ]
    }
   ],
   "source": [
    "# Plotting:\n",
    "using Interact\n",
    "using PyPlot\n",
    "#PyPlot.svg(true)"
   ]
  },
  {
   "cell_type": "code",
   "execution_count": 3,
   "metadata": {
    "collapsed": false
   },
   "outputs": [
    {
     "data": {
      "text/plain": [
       "Dict{ASCIIString,Any} with 7 entries:\n",
       "  \"baseMVA\" => 100.0\n",
       "  \"branch\"  => 120x11 Array{Float64,2}:…\n",
       "  \"areas\"   => 6x2 Array{Float64,2}:…\n",
       "  \"gen\"     => 99x10 Array{Float64,2}:…\n",
       "  \"bus\"     => 73x13 Array{Float64,2}:…\n",
       "  \"gencost\" => 99x7 Array{Float64,2}:…\n",
       "  \"version\" => '1'"
      ]
     },
     "execution_count": 3,
     "metadata": {},
     "output_type": "execute_result"
    }
   ],
   "source": [
    "using MatpowerCases\n",
    "mpc = loadcase(\"case96\")"
   ]
  },
  {
   "cell_type": "code",
   "execution_count": 81,
   "metadata": {
    "collapsed": false
   },
   "outputs": [
    {
     "data": {
      "text/plain": [
       "73-element Array{Float64,1}:\n",
       " 138.0\n",
       " 138.0\n",
       " 138.0\n",
       " 138.0\n",
       " 138.0\n",
       " 138.0\n",
       " 138.0\n",
       " 138.0\n",
       " 138.0\n",
       " 138.0\n",
       " 230.0\n",
       " 230.0\n",
       " 230.0\n",
       "   ⋮  \n",
       " 230.0\n",
       " 230.0\n",
       " 230.0\n",
       " 230.0\n",
       " 230.0\n",
       " 230.0\n",
       " 230.0\n",
       " 230.0\n",
       " 230.0\n",
       " 230.0\n",
       " 230.0\n",
       " 230.0"
      ]
     },
     "execution_count": 81,
     "metadata": {},
     "output_type": "execute_result"
    }
   ],
   "source": [
    "mpc[\"bus\"][:,10]"
   ]
  },
  {
   "cell_type": "code",
   "execution_count": 6,
   "metadata": {
    "collapsed": false
   },
   "outputs": [
    {
     "name": "stdout",
     "output_type": "stream",
     "text": [
      "loaded\n"
     ]
    }
   ],
   "source": [
    "####### LOAD DATA ########\n",
    "psData = psDataLoad()\n",
    "\n",
    "# unpack psDL (boilerplate):\n",
    "(Sb,f,t,r,x,b,Y,bustype,\n",
    "Gp,Gq,Dp,Dq,Rp,Rq,\n",
    "Pmax,Pmin,Qmax,Qmin,Plim,\n",
    "Vg,Vceiling,Vfloor,\n",
    "busIdx,N,Nr,Ng,k) = unpack_psDL(psData)\n",
    "\n",
    "Sb = 100e6 #overwrite \"100.0\"\n",
    "\n",
    "res = r\n",
    "reac = x\n",
    "\n",
    "####### LINK DATA ########\n",
    "# Static\n",
    "Ridx = find(Rp) # Vector of renewable nodes\n",
    "Y = full(Y) # Full admittance matrix (ref not removed)\n",
    "ref = 1 # Index of ref node\n",
    "k = k # Conventional generator participation factors\n",
    "lines = [(f[i],t[i]) for i in 1:length(f)];\n",
    "line_lengths = load(\"../data/RTS-96\\ Data/line_lengths.jld\", \"line_lengths\")\n",
    "\n",
    "# Thermal model parameters:\n",
    "Tamb = 35. # C\n",
    "T0 = 60. #46. # initial line steady-state temp\n",
    "time_intervals = 3 # thirty minutes\n",
    "time_values = 0:60:600 # ten minutes in 1-min steps\n",
    "int_length = 600. # seconds\n",
    "\n",
    "println(\"loaded\")"
   ]
  },
  {
   "cell_type": "code",
   "execution_count": 7,
   "metadata": {
    "collapsed": false
   },
   "outputs": [
    {
     "data": {
      "text/plain": [
       "438-element Array{Float64,1}:\n",
       " 0.0      \n",
       " 0.0820657\n",
       " 0.0      \n",
       " 0.0      \n",
       " 0.0      \n",
       " 0.0      \n",
       " 0.0      \n",
       " 0.0      \n",
       " 0.0      \n",
       " 0.0      \n",
       " 0.0      \n",
       " 0.0      \n",
       " 0.0      \n",
       " ⋮        \n",
       " 0.0      \n",
       " 0.0      \n",
       " 0.0      \n",
       " 0.0      \n",
       " 0.0      \n",
       " 0.0      \n",
       " 0.0      \n",
       " 0.0      \n",
       " 0.0      \n",
       " 0.0      \n",
       " 0.0      \n",
       " 0.0      "
      ]
     },
     "execution_count": 7,
     "metadata": {},
     "output_type": "execute_result"
    }
   ],
   "source": [
    "# time_intervals = 3 # thirty minutes\n",
    "# time_values = 0:60:600 # ten minutes in 1-min steps\n",
    "# int_length = 600. # seconds\n",
    "\n",
    "time_intervals = 6 # thirty minutes total\n",
    "time_values = 0:30:300 # five minutes in 30-sec steps\n",
    "int_length = 300. # seconds = 5 min\n",
    "\n",
    "# Generation, demand, and wind gen forecast:\n",
    "G0 = [0.7*Gp;0.7*Gp;0.7*Gp;0.7*Gp;0.7*Gp;0.7*Gp]\n",
    "D0 = [0.9*Dp;0.9*Dp;0.9*Dp;0.9*Dp;0.9*Dp;0.9*Dp]\n",
    "P0 = [Rp;1.1*Rp;1.2*Rp;1.3*Rp;1.4*Rp;1.5*Rp]\n",
    "\n",
    "# G0 = [0.7*Gp;0.7*Gp;0.7*Gp]\n",
    "# D0 = [0.9*Dp;0.9*Dp;0.9*Dp]\n",
    "# P0 = [Rp;1.5*Rp;1.5*Rp]\n",
    "\n",
    "# Temporal instanton analysis:\n",
    "# score,x,θ,α,diffs,xopt = solve_temporal_instanton(\n",
    "#     Ridx,Y,G0,P0,D0,Sb,ref,lines,\n",
    "#     res,reac,k,line_lengths,Tamb,\n",
    "#     T0,int_length)\n",
    "# println(\"Unsolved lines: $(sum(score.==Inf))\")"
   ]
  },
  {
   "cell_type": "code",
   "execution_count": 8,
   "metadata": {
    "collapsed": false
   },
   "outputs": [
    {
     "data": {
      "text/plain": [
       "1-element Array{Array{T,N},1}:\n",
       " [-0.00103457,-6.1812e-7,2.49945e-5,2.8508e-5,3.01445e-5,1.42095e-5,4.83123e-6,3.16641e-5,-3.26807e-7,-7.91578e-6  …  0.447178,0.33624,0.455489,-17.1078,7.2576e-5,0.00011857,0.000197684,0.00034967,0.000758237,0.0146715]"
      ]
     },
     "execution_count": 8,
     "metadata": {},
     "output_type": "execute_result"
    }
   ],
   "source": [
    "    n = length(k)\n",
    "    nr = length(Ridx)\n",
    "    T = round(Int64,length(find(P0))/nr)\n",
    "    numLines = 1#length(lines)\n",
    "\n",
    "    # Vars used to store results:\n",
    "    score = Float64[]\n",
    "    α = Array(Vector{Float64},0)\n",
    "    θ = Array(Array,0)\n",
    "    x = Array(Array,0)\n",
    "    diffs = Array(Array,0)\n",
    "    xopt = Array(Array,0)\n",
    "\n",
    "    # Form objective quadratic:\n",
    "    Qobj = tmp_inst_Qobj(n,nr,T; pad=true)\n",
    "    G_of_x = (Qobj,0,0)\n",
    "\n",
    "    # Create A1 (only A2, the bottom part,\n",
    "    # changes during line loop):\n",
    "    A1 = tmp_inst_A1(Ridx,T,Y,ref,k; pad=true)\n",
    "\n",
    "    b = tmp_inst_b(n,T,G0,P0,D0; pad=true)\n",
    "    Qtheta = tmp_inst_Qtheta(n,nr,T)\n",
    "\n",
    "    # parallelize the loop:\n",
    "    # addprocs(3)\n",
    "\n",
    "    # Loop through all lines:\n",
    "idx = 1\n",
    "line = lines[idx]\n",
    "line_model = LineModel(line[1],\n",
    "            line[2],\n",
    "            res[idx],\n",
    "            reac[idx],\n",
    "            line_lengths[idx],\n",
    "            NaN,\n",
    "            NaN,\n",
    "            NaN,\n",
    "            NaN,\n",
    "            NaN,\n",
    "            NaN,\n",
    "            NaN,\n",
    "            NaN)\n",
    "\n",
    "add_thermal_parameters(line_model, \"waxwing\")\n",
    "\n",
    "therm_a = compute_a(line_model.mCp,\n",
    "                    line_model.ηc,\n",
    "                    line_model.ηr,\n",
    "                    Tamb,\n",
    "                    line_model.Tlim)\n",
    "therm_c = compute_c(line_model.mCp,\n",
    "                    line_model.rij,\n",
    "                    line_model.xij,\n",
    "                    Sb,\n",
    "                    line_model.length)\n",
    "therm_d = compute_d(line_model.mCp,\n",
    "                    line_model.ηc,\n",
    "                    line_model.ηr,\n",
    "                    Tamb,\n",
    "                    line_model.Tlim,\n",
    "                    line_model.qs)\n",
    "therm_f = compute_f(int_length,\n",
    "                    therm_a,\n",
    "                    therm_d,\n",
    "                    T,\n",
    "                    T0)\n",
    "\n",
    "# thermal constraint, Q(z) = 0:\n",
    "kQtheta = (therm_a/therm_c)*(line_model.Tlim - therm_f)\n",
    "Q_of_x = (Qtheta,0,kQtheta)\n",
    "\n",
    "# array of vectors with Float64 values:\n",
    "deviations = Array(Vector{Float64},0)\n",
    "angles = Array(Vector{Float64},0)\n",
    "alpha = Float64[]\n",
    "\n",
    "# Create A2 based on chosen line:\n",
    "A2 = tmp_inst_A_scale_new(n,Ridx,T,line,therm_a,int_length)\n",
    "# Stack A1 and A2:\n",
    "A = [A1; A2]\n",
    "\n",
    "# Computationally expensive part: solving QCQP\n",
    "xvec,sol = solve_instanton_qcqp(G_of_x,Q_of_x,A,b,T)\n",
    "\n",
    "push!(score,sol)\n",
    "if isinf(sol)\n",
    "    push!(deviations,[])\n",
    "    push!(angles,[])\n",
    "    push!(alpha,NaN)\n",
    "    push!(diffs,[])\n",
    "else\n",
    "    # Variable breakdown:\n",
    "    # (nr+n+1) per time step\n",
    "    #   First nr are deviations\n",
    "    #   Next n are angles\n",
    "    #   Last is mismatch\n",
    "    # T variables at the end: anglediffs\n",
    "    for t = 1:T\n",
    "        push!(deviations,xvec[(nr+n+1)*(t-1)+1:(nr+n+1)*(t-1)+nr])\n",
    "        push!(angles,xvec[(nr+n+1)*(t-1)+nr+1:(nr+n+1)*(t-1)+nr+n])\n",
    "        push!(alpha,xvec[(nr+n+1)*(t)])\n",
    "    end\n",
    "    push!(diffs,xvec[end-T+1:end])\n",
    "end\n",
    "\n",
    "push!(x,deviations)\n",
    "push!(θ,angles)\n",
    "push!(α,alpha)\n",
    "push!(xopt,xvec)\n",
    "# shut down procs (parallelization over)\n",
    "#rmprocs([2,3,4])\n",
    "# return score,x,θ,α,diffs,xopt"
   ]
  },
  {
   "cell_type": "code",
   "execution_count": 6,
   "metadata": {
    "collapsed": false
   },
   "outputs": [
    {
     "data": {
      "text/plain": [
       "3-element Array{Any,1}:\n",
       " 2\n",
       " 3\n",
       " 4"
      ]
     },
     "execution_count": 6,
     "metadata": {},
     "output_type": "execute_result"
    }
   ],
   "source": [
    "addprocs(3)"
   ]
  },
  {
   "cell_type": "code",
   "execution_count": 7,
   "metadata": {
    "collapsed": false
   },
   "outputs": [
    {
     "data": {
      "text/plain": [
       "4"
      ]
     },
     "execution_count": 7,
     "metadata": {},
     "output_type": "execute_result"
    }
   ],
   "source": [
    "nprocs()"
   ]
  },
  {
   "cell_type": "code",
   "execution_count": 16,
   "metadata": {
    "collapsed": false
   },
   "outputs": [
    {
     "data": {
      "text/plain": [
       "3-element Array{Int64,1}:\n",
       " 2\n",
       " 3\n",
       " 4"
      ]
     },
     "execution_count": 16,
     "metadata": {},
     "output_type": "execute_result"
    }
   ],
   "source": [
    "workers()"
   ]
  },
  {
   "cell_type": "code",
   "execution_count": 22,
   "metadata": {
    "collapsed": false
   },
   "outputs": [
    {
     "name": "stderr",
     "output_type": "stream",
     "text": [
      "WARNING: rmprocs: process 1 not removed\n"
     ]
    },
    {
     "data": {
      "text/plain": [
       ":ok"
      ]
     },
     "execution_count": 22,
     "metadata": {},
     "output_type": "execute_result"
    }
   ],
   "source": [
    "rmprocs(1)"
   ]
  },
  {
   "cell_type": "code",
   "execution_count": 23,
   "metadata": {
    "collapsed": false
   },
   "outputs": [
    {
     "data": {
      "text/plain": [
       "1-element Array{Int64,1}:\n",
       " 1"
      ]
     },
     "execution_count": 23,
     "metadata": {},
     "output_type": "execute_result"
    }
   ],
   "source": [
    "workers()"
   ]
  },
  {
   "cell_type": "code",
   "execution_count": 6,
   "metadata": {
    "collapsed": true
   },
   "outputs": [],
   "source": [
    "using IProfile"
   ]
  },
  {
   "cell_type": "code",
   "execution_count": 7,
   "metadata": {
    "collapsed": true
   },
   "outputs": [
    {
     "name": "stdout",
     "output_type": "stream",
     "text": [
      "  count  time(%)   time(s) bytes(%) bytes(k)\n",
      "       2   0.00   0.000000   0.00         0  \t# /home/jkersulis/Documents/Dropbox/InstantonAnew/Jonas Edits/Time-Coupled Instanton/temporal-instanton/src/TemporalInstanton3.jl, line 247, @mstr \" Return A1, A2, A3 where:\\n    * A1 corresponds to wind\\n    * A2 corresponds to angles + mismatch\\n    * A3 corresponds to angle difference vars\\n\\n    Used to find x_star, the min-norm solution to\\n    Ax=b such that x_star[idx3] = 0.\\n    \"\n",
      "       2   0.00   0.000000   0.00         0  \t# line 255, (m,n) = size(A)\n",
      "       2   0.00   0.000274   0.00        11  \t# line 256, idx1 = find(diag(Qobj))\n",
      "       2   0.01   0.000625   0.01        81  \t# line 257, idx2 = setdiff(1:n - T,idx1)\n",
      "       2   0.00   0.000000   0.00         0  \t# line 258, idx3 = (n - T) + 1:n\n",
      "       2   0.00   0.000056   0.00        11  \t# line 259, idx = [idx1,idx2,idx3]\n",
      "       2   0.00   0.000151   0.06       778  \t# line 261, A1 = A[:,idx1]\n",
      "       2   0.01   0.000596   0.24      3197  \t# line 262, A2 = A[:,idx2]\n",
      "       2   0.00   0.000021   0.00        43  \t# line 263, A3 = A[:,idx3]\n",
      "       2   0.00   0.000001   0.00         0  \t# line 264, return (A1,A2,A3,idx1,idx2,idx3)\n",
      "       1   0.00   0.000000   0.00         0  \t# /home/jkersulis/Documents/Dropbox/InstantonAnew/Jonas Edits/Time-Coupled Instanton/temporal-instanton/src/TemporalInstanton3.jl, line 268, @mstr \" x_star is the vector by which the problem must\\n    be translated in the first step of the temporal\\n    instanton QCQP solution.\\n\\n    x_star is chosen to be the point in the set Ax=b\\n    nearest to the origin such that x_star[idx3] = 0.\\n    This condition ensures no linear term is introduced\\n    into the quadratic constraint.\\n    \"\n",
      "       1   0.01   0.000559   0.16      2060  \t# line 277, (A1,A2,A3,idx1,idx2,idx3) = partition_A(A,Qobj,T)\n",
      "       1   0.00   0.000002   0.00         5  \t# line 278, x_star = zeros(size(A,2))\n",
      "       1  86.67   4.788193  92.41   1206545  \t# line 279, x_star[[idx1,idx2]] = [A1 A2] \\ b\n",
      "       1   0.00   0.000000   0.00         0  \t# line 280, return x_star\n",
      "       2   0.00   0.000000   0.00         0  \t# /home/jkersulis/Documents/Dropbox/InstantonAnew/Jonas Edits/Time-Coupled Instanton/temporal-instanton/src/TemporalInstanton3.jl, line 284, @mstr \" This function performs the change of variables from x to z,\\n    where z = x - x_star. (For translating a quadratic problem.)\\n    Returns triple H_of_x consisting of matrix H, vector h, constant kh.\\n\\n    Arguments\\n    G_of_x consists of matrix G, vector g, constant kg.\\n    x_star is translation.\\n\\n    Used to perform second step of temporal instanton solution method,\\n    assuming x_star is min-norm solution of Ax=b.\\n    \"\n",
      "       2   0.00   0.000000   0.00         0  \t# line 295, (G,g,kg) = G_of_x\n",
      "       2   0.00   0.000056   0.00         9  \t# line 297, g = zeros(size(G,1),1)\n",
      "       2   0.00   0.000000   0.00         0  \t# line 299, H = G\n",
      "       2   0.91   0.050412   0.56      7355  \t# line 300, h = g + 2 * G * x_star\n",
      "       2   6.54   0.361206   2.03     26460  \t# line 301, kh = kg + x_star' * G * x_star + g' * x_star\n",
      "       2   0.00   0.000003   0.00         0  \t# line 302, return (H,h,kh[1])\n",
      "       1   0.00   0.000000   0.00         0  \t# /home/jkersulis/Documents/Dropbox/InstantonAnew/Jonas Edits/Time-Coupled Instanton/temporal-instanton/src/TemporalInstanton3.jl, line 306, @mstr \" Find an orthonormal basis for the nullspace of A.\\n    This matrix may be used to rotate a temporal instanton\\n    problem instance to eliminate all but nullity(A) elements.\\n    \"\n",
      "       1   0.00   0.000000   0.00         0  \t# line 310, (m,n) = size(A)\n",
      "       1   1.44   0.079537   0.18      2305  \t# line 311, dim_N = n - rank(A)\n",
      "       1   1.51   0.083518   0.82     10750  \t# line 314, q = (qr(A'; thin=false))[1]\n",
      "       1   0.70   0.038853   0.27      3488  \t# line 315, R = circshift(q,(0,dim_N))\n",
      "       1   0.00   0.000000   0.00         0  \t# line 316, return R\n",
      "       4   0.00   0.000000   0.00         0  \t# /home/jkersulis/Documents/Dropbox/InstantonAnew/Jonas Edits/Time-Coupled Instanton/temporal-instanton/src/TemporalInstanton3.jl, line 320, @mstr \" Rotate quadratic G_of_x by\\n    rotation matrix R.\\n    \"\n",
      "       4   0.00   0.000000   0.00         0  \t# line 323, (G,g,kg) = G_of_x\n",
      "       4   0.09   0.005172   0.21      2680  \t# line 324, return (R * G * R',R * g,kg)\n",
      "       1   0.00   0.000000   0.00         0  \t# /home/jkersulis/Documents/Dropbox/InstantonAnew/Jonas Edits/Time-Coupled Instanton/temporal-instanton/src/TemporalInstanton3.jl, line 328, @mstr \" Return K, the diagonal matrix whose elements are\\n    square roots of eigenvalues of the given matrix D.\\n    \"\n",
      "       1   0.00   0.000001   0.00         1  \t# line 331, K = ones(length(D))\n",
      "       1   0.00   0.000012   0.00         1  \t# line 332, K[find(D)] = sqrt(D[find(D)])\n",
      "       1   0.00   0.000068   0.01       102  \t# line 333, return diagm(K)\n",
      "       1   0.00   0.000000   0.00         0  \t# /home/jkersulis/Documents/Dropbox/InstantonAnew/Jonas Edits/Time-Coupled Instanton/temporal-instanton/src/TemporalInstanton3.jl, line 337, (B,b) = (G_of_w[1],G_of_w[2])\n",
      "       1   0.27   0.015069   0.04       492  \t# line 338, Q = round(Q_of_w[1])\n",
      "       1   0.01   0.000824   0.00         4  \t# line 339, i2 = find(diag(Q))\n",
      "       1   0.01   0.000523   0.00         9  \t# line 340, i1 = setdiff(1:size(Q,1),i2)\n",
      "       1   0.03   0.001523   0.01        97  \t# line 341, (B11,B12,B21,B22) = (B[i1,i1],B[i1,i2],B[i2,i1],B[i2,i2])\n",
      "       1   0.13   0.007187   0.01       169  \t# line 342, b1 = b[i1]\n",
      "       1   0.00   0.000002   0.00         0  \t# line 343, b2 = b[i2]\n",
      "       1   0.00   0.000000   0.00         0  \t# line 344, return (B11,B12,B21,B22,b1,b2)\n",
      "       1   0.21   0.011395   0.02       276  \t# /home/jkersulis/Documents/Dropbox/InstantonAnew/Jonas Edits/Time-Coupled Instanton/temporal-instanton/src/TemporalInstanton3.jl, line 348, Bhat = B22 - (B12' / B11) * B12\n",
      "       1   0.00   0.000214   0.01       188  \t# line 349, bhat = b2 - (B12' / B11) * b1\n",
      "       1   0.00   0.000004   0.00         1  \t# line 350, return (round(Bhat,10),bhat)\n",
      "       1   0.00   0.000001   0.00         0  \t# line 355, w = float($(Expr(:comprehension, :(-(d[i]) / D[i,i]), :(i = 1:length(d)))))\n",
      "     227   0.00   0.000013   0.00        22  \t# line 357, w = float($(Expr(:comprehension, :(d[i] / (v - D[i,i])), :(i = 1:length(d)))))\n",
      "     228   0.00   0.000000   0.00         0  \t# line 359, return w\n",
      "       1   0.00   0.000000   0.00         0  \t# /home/jkersulis/Documents/Dropbox/InstantonAnew/Jonas Edits/Time-Coupled Instanton/temporal-instanton/src/TemporalInstanton3.jl, line 363, @mstr \" Solve the secular equation via binary search.\\n    \"\n",
      "       1   0.00   0.000000   0.00         0  \t# line 365, eps = 1.0e-8\n",
      "       1   0.00   0.000001   0.00         0  \t# line 366, solutions = Float64[]\n",
      "       1   0.00   0.000001   0.00         0  \t# line 367, vectors = Array(Vector{Float64},0)\n",
      "       1   0.45   0.024990   0.01       141  \t# line 368, poles = sort(unique(round(diag(D),10)))\n",
      "       6   0.00   0.000000   0.00         0  \t# line 374, high = poles[i]\n",
      "       1   0.00   0.000000   0.00         0  \t# line 378, low = high - abs(poles[i] - poles[i + 1])\n",
      "       5   0.00   0.000000   0.00         0  \t# line 380, low = high - abs(poles[i] - poles[i - 1]) / 2\n",
      "       6   0.00   0.000000   0.00         0  \t# line 384, v = (high + low) / 2\n",
      "       6   0.00   0.000002   0.00         1  \t# line 385, w = find_w(v,D,d)\n",
      "       6   0.00   0.000003   0.00         0  \t# line 386, diff = (w' * w)[1] - c\n",
      "       6   0.00   0.000000   0.00         0  \t# line 387, diff_old = 0\n",
      "       6   0.00   0.000000   0.00         0  \t# line 388, stall = false\n",
      "      38   0.00   0.000001   0.00         1  \t# line 395, high = v\n",
      "      66   0.00   0.000008   0.00         1  \t# line 397, low = v\n",
      "     104   0.00   0.000000   0.00         0  \t# line 399, v = (high + low) / 2\n",
      "     104   0.00   0.000019   0.00        12  \t# line 400, w = find_w(v,D,d)\n",
      "     104   0.00   0.000001   0.00         2  \t# line 401, diff_old = diff\n",
      "     104   0.00   0.000006   0.00         8  \t# line 402, diff = (w' * w)[1] - c\n",
      "       6   0.00   0.000001   0.00         0  \t# line 405, push!(solutions,v)\n",
      "       6   0.00   0.000000   0.00         0  \t# line 406, push!(vectors,w)\n",
      "       6   0.00   0.000000   0.00         0  \t# line 410, high = poles[i]\n",
      "       1   0.00   0.000000   0.00         0  \t# line 414, low = high + abs(poles[i] - poles[i - 1])\n",
      "       5   0.00   0.000000   0.00         0  \t# line 416, low = high + abs(poles[i] - poles[i + 1]) / 2\n",
      "       6   0.00   0.000000   0.00         0  \t# line 419, v = (high + low) / 2\n",
      "       6   0.00   0.000001   0.00         1  \t# line 420, w = find_w(v,D,d)\n",
      "       6   0.00   0.000000   0.00         0  \t# line 421, diff = (w' * w)[1] - c\n",
      "       6   0.00   0.000000   0.00         0  \t# line 422, diff_old = 0\n",
      "       6   0.00   0.000000   0.00         0  \t# line 423, stall = false\n",
      "      41   0.00   0.000002   0.00         1  \t# line 430, high = v\n",
      "      70   0.00   0.000003   0.00         1  \t# line 432, low = v\n",
      "     111   0.00   0.000000   0.00         0  \t# line 434, v = (high + low) / 2\n",
      "     111   0.00   0.000021   0.00        12  \t# line 435, w = find_w(v,D,d)\n",
      "     111   0.00   0.000001   0.00         2  \t# line 436, diff_old = diff\n",
      "     111   0.00   0.000006   0.00         9  \t# line 437, diff = (w' * w)[1] - c\n",
      "       6   0.00   0.000000   0.00         0  \t# line 440, push!(solutions,v)\n",
      "       6   0.00   0.000000   0.00         0  \t# line 441, push!(vectors,w)\n",
      "       1   0.00   0.000000   0.00         0  \t# line 444, return (solutions,vectors)\n",
      "      12   0.00   0.000001   0.00         0  \t# /home/jkersulis/Documents/Dropbox/InstantonAnew/Jonas Edits/Time-Coupled Instanton/temporal-instanton/src/TemporalInstanton3.jl, line 448, @mstr \" Reverse rotations and translations to map\\n    secular equation solution back to original problem\\n    space.\\n    \"\n",
      "      12   0.06   0.003521   0.16      2052  \t# line 452, w1opt = -B11 \\ (B12 * w2opt + b1 / 2)\n",
      "      12   0.00   0.000007   0.00        12  \t# line 453, wopt = [w1opt,w2opt]\n",
      "      12   0.91   0.050156   2.77     36200  \t# line 454, xopt = ((N * U) / K) * wopt + x_star\n",
      "      12   0.00   0.000000   0.00         0  \t# line 455, return xopt\n"
     ]
    }
   ],
   "source": [
    "@iprofile report"
   ]
  },
  {
   "cell_type": "markdown",
   "metadata": {},
   "source": [
    "The profiling results are clear: the most time-intensive operation by far is `find_x_star()`"
   ]
  },
  {
   "cell_type": "code",
   "execution_count": 19,
   "metadata": {
    "collapsed": false
   },
   "outputs": [
    {
     "data": {
      "text/plain": [
       "find_x_star (generic function with 1 method)"
      ]
     },
     "execution_count": 19,
     "metadata": {},
     "output_type": "execute_result"
    }
   ],
   "source": [
    "function partition_A(A,Qobj,T)\n",
    "    \"\"\" Return A1, A2, A3 where:\n",
    "    * A1 corresponds to wind\n",
    "    * A2 corresponds to angles + mismatch\n",
    "    * A3 corresponds to angle difference vars\n",
    "\n",
    "    Used to find x_star, the min-norm solution to\n",
    "    Ax=b such that x_star[idx3] = 0.\n",
    "    \"\"\"\n",
    "    m,n = size(A)   \n",
    "    idx1 = find(diag(Qobj))\n",
    "    idx2 = setdiff(1:n-T,idx1)\n",
    "    idx3 = n-T+1:n\n",
    "    idx = [idx1,idx2,idx3]\n",
    "    \n",
    "    A1 = A[:,idx1]\n",
    "    A2 = A[:,idx2]\n",
    "    A3 = A[:,idx3]\n",
    "    return A1,A2,A3,idx1,idx2,idx3\n",
    "end\n",
    "\n",
    "function find_x_star(Qobj,A,b,T)\n",
    "    \"\"\" x_star is the vector by which the problem must\n",
    "    be translated in the first step of the temporal\n",
    "    instanton QCQP solution.\n",
    "\n",
    "    x_star is chosen to be the point in the set Ax=b\n",
    "    nearest to the origin such that x_star[idx3] = 0.\n",
    "    This condition ensures no linear term is introduced\n",
    "    into the quadratic constraint.\n",
    "    \"\"\"\n",
    "    A1,A2,A3,idx1,idx2,idx3 = partition_A(A,Qobj,T)\n",
    "    x_star = zeros(size(A,2))\n",
    "    x_star[[idx1,idx2]] = [A1 A2]\\b\n",
    "    return x_star\n",
    "end"
   ]
  },
  {
   "cell_type": "code",
   "execution_count": 112,
   "metadata": {
    "collapsed": false
   },
   "outputs": [
    {
     "data": {
      "text/plain": [
       "find_x_star (generic function with 1 method)"
      ]
     },
     "execution_count": 112,
     "metadata": {},
     "output_type": "execute_result"
    }
   ],
   "source": [
    "function find_x_star(Qobj,A,b,T)\n",
    "    \"\"\" x_star is the vector by which the problem must\n",
    "    be translated in the first step of the temporal\n",
    "    instanton QCQP solution.\n",
    "\n",
    "    x_star is chosen to be the point in the set Ax=b\n",
    "    nearest to the origin such that x_star[idx3] = 0.\n",
    "    This condition ensures no linear term is introduced\n",
    "    into the quadratic constraint.\n",
    "    \"\"\"\n",
    "    A1,A2,A3,idx1,idx2,idx3 = partition_A(A,Qobj,T)\n",
    "    x_star = zeros(size(A,2))\n",
    "    Z = sparse([A1 A2]')\n",
    "    x_star[[idx1,idx2]] = (Z/(Z'*Z))*b\n",
    "    return x_star\n",
    "end"
   ]
  },
  {
   "cell_type": "code",
   "execution_count": 25,
   "metadata": {
    "collapsed": true
   },
   "outputs": [
    {
     "data": {
      "text/plain": [
       "(\n",
       "450x108 Array{Float64,2}:\n",
       "  0.0  0.0  0.0  0.0  0.0  0.0  0.0  …  0.0  0.0  0.0  0.0  0.0  0.0  0.0\n",
       " -1.0  0.0  0.0  0.0  0.0  0.0  0.0     0.0  0.0  0.0  0.0  0.0  0.0  0.0\n",
       "  0.0  0.0  0.0  0.0  0.0  0.0  0.0     0.0  0.0  0.0  0.0  0.0  0.0  0.0\n",
       "  0.0  0.0  0.0  0.0  0.0  0.0  0.0     0.0  0.0  0.0  0.0  0.0  0.0  0.0\n",
       "  0.0  0.0  0.0  0.0  0.0  0.0  0.0     0.0  0.0  0.0  0.0  0.0  0.0  0.0\n",
       "  0.0  0.0  0.0  0.0  0.0  0.0  0.0  …  0.0  0.0  0.0  0.0  0.0  0.0  0.0\n",
       "  0.0  0.0  0.0  0.0  0.0  0.0  0.0     0.0  0.0  0.0  0.0  0.0  0.0  0.0\n",
       "  0.0  0.0  0.0  0.0  0.0  0.0  0.0     0.0  0.0  0.0  0.0  0.0  0.0  0.0\n",
       "  0.0  0.0  0.0  0.0  0.0  0.0  0.0     0.0  0.0  0.0  0.0  0.0  0.0  0.0\n",
       "  0.0  0.0  0.0  0.0  0.0  0.0  0.0     0.0  0.0  0.0  0.0  0.0  0.0  0.0\n",
       "  0.0  0.0  0.0  0.0  0.0  0.0  0.0  …  0.0  0.0  0.0  0.0  0.0  0.0  0.0\n",
       "  0.0  0.0  0.0  0.0  0.0  0.0  0.0     0.0  0.0  0.0  0.0  0.0  0.0  0.0\n",
       "  0.0  0.0  0.0  0.0  0.0  0.0  0.0     0.0  0.0  0.0  0.0  0.0  0.0  0.0\n",
       "  ⋮                        ⋮         ⋱                      ⋮            \n",
       "  0.0  0.0  0.0  0.0  0.0  0.0  0.0     0.0  0.0  0.0  0.0  0.0  0.0  0.0\n",
       "  0.0  0.0  0.0  0.0  0.0  0.0  0.0     0.0  0.0  0.0  0.0  0.0  0.0  0.0\n",
       "  0.0  0.0  0.0  0.0  0.0  0.0  0.0  …  0.0  0.0  0.0  0.0  0.0  0.0  0.0\n",
       "  0.0  0.0  0.0  0.0  0.0  0.0  0.0     0.0  0.0  0.0  0.0  0.0  0.0  0.0\n",
       "  0.0  0.0  0.0  0.0  0.0  0.0  0.0     0.0  0.0  0.0  0.0  0.0  0.0  0.0\n",
       "  0.0  0.0  0.0  0.0  0.0  0.0  0.0     0.0  0.0  0.0  0.0  0.0  0.0  0.0\n",
       "  0.0  0.0  0.0  0.0  0.0  0.0  0.0     0.0  0.0  0.0  0.0  0.0  0.0  0.0\n",
       "  0.0  0.0  0.0  0.0  0.0  0.0  0.0  …  0.0  0.0  0.0  0.0  0.0  0.0  0.0\n",
       "  0.0  0.0  0.0  0.0  0.0  0.0  0.0     0.0  0.0  0.0  0.0  0.0  0.0  0.0\n",
       "  0.0  0.0  0.0  0.0  0.0  0.0  0.0     0.0  0.0  0.0  0.0  0.0  0.0  0.0\n",
       "  0.0  0.0  0.0  0.0  0.0  0.0  0.0     0.0  0.0  0.0  0.0  0.0  0.0  0.0\n",
       "  0.0  0.0  0.0  0.0  0.0  0.0  0.0     0.0  0.0  0.0  0.0  0.0  0.0  0.0,\n",
       "\n",
       "450x444 Array{Float64,2}:\n",
       "  87.9326    -71.4286    -4.73934   0.0      …   0.0        0.0     0.0     \n",
       " -71.4286     84.5109     0.0      -7.87402      0.0        0.0     0.0     \n",
       "  -4.73934     0.0       25.0475    0.0          0.0        0.0     0.0     \n",
       "   0.0        -7.87402    0.0      17.4894       0.0        0.0     0.0     \n",
       " -11.7647      0.0        0.0       0.0          0.0        0.0     0.0     \n",
       "   0.0        -5.20833    0.0       0.0      …   0.0        0.0     0.0     \n",
       "   0.0         0.0        0.0       0.0          0.0        0.0     0.0     \n",
       "   0.0         0.0        0.0       0.0          0.0        0.0     0.0     \n",
       "   0.0         0.0       -8.40336  -9.61538      0.0        0.0     0.0     \n",
       "   0.0         0.0        0.0       0.0          0.0        0.0     0.0     \n",
       "   0.0         0.0        0.0       0.0      …   0.0        0.0     0.0     \n",
       "   0.0         0.0        0.0       0.0          0.0        0.0     0.0     \n",
       "   0.0         0.0        0.0       0.0          0.0        0.0     0.0     \n",
       "   ⋮                                         ⋱                              \n",
       "   0.0         0.0        0.0       0.0          0.0        0.0    -0.030303\n",
       "   0.0         0.0        0.0       0.0          0.0        0.0    -0.030303\n",
       "   0.0         0.0        0.0       0.0      …   0.0     -111.111  -0.030303\n",
       "   0.0         0.0        0.0       0.0         31.1355     0.0     0.0     \n",
       "   0.0         0.0        0.0       0.0          0.0      121.42    0.0     \n",
       "   0.0         0.0        0.0       0.0          0.0        0.0     0.0     \n",
       "  -0.068045    0.068045   0.0       0.0          0.0        0.0     0.0     \n",
       "   0.0         0.0        0.0       0.0      …   0.0        0.0     0.0     \n",
       "   0.0         0.0        0.0       0.0          0.0        0.0     0.0     \n",
       "   0.0         0.0        0.0       0.0          0.0        0.0     0.0     \n",
       "   0.0         0.0        0.0       0.0          0.0        0.0     0.0     \n",
       "   0.0         0.0        0.0       0.0          0.0        0.0     0.0     ,\n",
       "\n",
       "450x6 Array{Float64,2}:\n",
       " 0.0  0.0  0.0  0.0  0.0  0.0\n",
       " 0.0  0.0  0.0  0.0  0.0  0.0\n",
       " 0.0  0.0  0.0  0.0  0.0  0.0\n",
       " 0.0  0.0  0.0  0.0  0.0  0.0\n",
       " 0.0  0.0  0.0  0.0  0.0  0.0\n",
       " 0.0  0.0  0.0  0.0  0.0  0.0\n",
       " 0.0  0.0  0.0  0.0  0.0  0.0\n",
       " 0.0  0.0  0.0  0.0  0.0  0.0\n",
       " 0.0  0.0  0.0  0.0  0.0  0.0\n",
       " 0.0  0.0  0.0  0.0  0.0  0.0\n",
       " 0.0  0.0  0.0  0.0  0.0  0.0\n",
       " 0.0  0.0  0.0  0.0  0.0  0.0\n",
       " 0.0  0.0  0.0  0.0  0.0  0.0\n",
       " ⋮                        ⋮  \n",
       " 0.0  0.0  0.0  0.0  0.0  0.0\n",
       " 0.0  0.0  0.0  0.0  0.0  0.0\n",
       " 0.0  0.0  0.0  0.0  0.0  0.0\n",
       " 0.0  0.0  0.0  0.0  0.0  0.0\n",
       " 0.0  0.0  0.0  0.0  0.0  0.0\n",
       " 0.0  0.0  0.0  0.0  0.0  0.0\n",
       " 1.0  0.0  0.0  0.0  0.0  0.0\n",
       " 0.0  1.0  0.0  0.0  0.0  0.0\n",
       " 0.0  0.0  1.0  0.0  0.0  0.0\n",
       " 0.0  0.0  0.0  1.0  0.0  0.0\n",
       " 0.0  0.0  0.0  0.0  1.0  0.0\n",
       " 0.0  0.0  0.0  0.0  0.0  1.0,\n",
       "\n",
       "[1,2,3,4,5,6,7,8,9,10  …  469,470,471,472,473,474,475,476,477,478],[19,20,21,22,23,24,25,26,27,28  …  543,544,545,546,547,548,549,550,551,552],553:558)"
      ]
     },
     "execution_count": 25,
     "metadata": {},
     "output_type": "execute_result"
    }
   ],
   "source": [
    "A1,A2,A3,idx1,idx2,idx3 = partition_A(A,Qobj,T)"
   ]
  },
  {
   "cell_type": "code",
   "execution_count": 111,
   "metadata": {
    "collapsed": true
   },
   "outputs": [
    {
     "name": "stdout",
     "output_type": "stream",
     "text": [
      "elapsed time: 0.117862209 seconds (27030696 bytes allocated, 45.43% gc time)\n"
     ]
    },
    {
     "data": {
      "text/plain": [
       "552-element Array{FloatingPoint,1}:\n",
       " -0.000624546\n",
       " -0.895284   \n",
       " -0.953705   \n",
       " -0.973778   \n",
       " -0.979983   \n",
       " -0.939377   \n",
       " -0.924974   \n",
       " -0.983382   \n",
       " -0.915818   \n",
       " -0.849971   \n",
       " -0.897198   \n",
       " -0.905315   \n",
       " -0.934835   \n",
       "  ⋮          \n",
       "  0.196464   \n",
       "  0.187866   \n",
       "  0.231396   \n",
       "  0.241256   \n",
       "  0.176781   \n",
       "  0.188566   \n",
       "  0.258566   \n",
       "  0.333242   \n",
       "  0.203333   \n",
       "  0.110962   \n",
       "  0.203558   \n",
       " -1.05169    "
      ]
     },
     "execution_count": 111,
     "metadata": {},
     "output_type": "execute_result"
    }
   ],
   "source": [
    "# MAJOR speedup\n",
    "Z = sparse([A1 A2]')\n",
    "@time (Z/(Z'*Z))*b\n",
    "maxabs([A1 A2]\\b - (Z/(Z'*Z))*b) # solutions are the same"
   ]
  },
  {
   "cell_type": "markdown",
   "metadata": {},
   "source": [
    "## Translation\n",
    "\n",
    "The following methods partition the $A$ matrix, find the appropriate translation point $x^*$, and translate a general quadratic:"
   ]
  },
  {
   "cell_type": "code",
   "execution_count": null,
   "metadata": {
    "collapsed": true
   },
   "outputs": [],
   "source": [
    "function partition_A(A,Qobj,T) # cheap\n",
    "    \"\"\" Return A1, A2, A3 where:\n",
    "    * A1 corresponds to wind\n",
    "    * A2 corresponds to angles + mismatch\n",
    "    * A3 corresponds to angle difference vars\n",
    "\n",
    "    Used to find x_star, the min-norm solution to\n",
    "    Ax=b such that x_star[idx3] = 0.\n",
    "    \"\"\"\n",
    "    m,n = size(A)   \n",
    "    idx1 = find(diag(Qobj))\n",
    "    idx2 = setdiff(1:n-T,idx1)\n",
    "    idx3 = n-T+1:n\n",
    "    idx = [idx1,idx2,idx3]\n",
    "    \n",
    "    A1 = A[:,idx1]\n",
    "    A2 = A[:,idx2]\n",
    "    A3 = A[:,idx3]\n",
    "    return A1,A2,A3,idx1,idx2,idx3\n",
    "end\n",
    "\n",
    "function find_x_star(Qobj,A,b,T) # expensive: matrix inversion\n",
    "    \"\"\" x_star is the vector by which the problem must\n",
    "    be translated in the first step of the temporal\n",
    "    instanton QCQP solution.\n",
    "\n",
    "    x_star is chosen to be the point in the set Ax=b\n",
    "    nearest to the origin such that x_star[idx3] = 0.\n",
    "    This condition ensures no linear term is introduced\n",
    "    into the quadratic constraint.\n",
    "    \"\"\"\n",
    "    A1,A2,A3,idx1,idx2,idx3 = partition_A(A,Qobj,T)\n",
    "    x_star = zeros(size(A,2))\n",
    "    x_star[[idx1,idx2]] = [A1 A2]\\b # can we avoid this?\n",
    "    return x_star\n",
    "end\n",
    "\n",
    "function translate_quadratic(G_of_x,x_star) # cheap\n",
    "    \"\"\" This function performs the change of variables from x to z,\n",
    "    where z = x - x_star. (For translating a quadratic problem.)\n",
    "    Returns triple H_of_x consisting of matrix H, vector h, constant kh.\n",
    "\n",
    "    Arguments\n",
    "    G_of_x consists of matrix G, vector g, constant kg.\n",
    "    x_star is translation.\n",
    "\n",
    "    Used to perform second step of temporal instanton solution method,\n",
    "    assuming x_star is min-norm solution of Ax=b.\n",
    "    \"\"\"\n",
    "    G,g,kg = G_of_x\n",
    "    if g == 0\n",
    "        g = zeros(size(G,1),1)\n",
    "    end\n",
    "    H = G\n",
    "    h = g + 2*G*x_star\n",
    "    kh = kg + x_star'*G*x_star + g'*x_star\n",
    "    return (H,h,kh[1])\n",
    "end"
   ]
  },
  {
   "cell_type": "markdown",
   "metadata": {},
   "source": [
    "## Kernel mapping\n",
    "\n",
    "Here we \"rotate\" by $N^\\top$, where $N$ consists of $k$ columns spanning $\\mathcal{N}(A)$."
   ]
  },
  {
   "cell_type": "code",
   "execution_count": 1,
   "metadata": {
    "collapsed": false
   },
   "outputs": [
    {
     "data": {
      "text/plain": [
       "rotate_quadratic (generic function with 1 method)"
      ]
     },
     "execution_count": 1,
     "metadata": {},
     "output_type": "execute_result"
    }
   ],
   "source": [
    "function kernel_rotation(A; dim_N_only=true)\n",
    "    \"\"\" Find an orthonormal basis for the nullspace of A.\n",
    "    This matrix may be used to rotate a temporal instanton\n",
    "    problem instance to eliminate all but nullity(A) elements.\n",
    "    \"\"\"\n",
    "    m,n = size(A)\n",
    "\n",
    "    # Assume A always has full row rank of m.\n",
    "    # It may be possible for this assumption to fail\n",
    "    # due to numerics, but a rank() check is expensive.\n",
    "    \n",
    "    #if isposdef(A*A')\n",
    "    dim_N = n - m # dimension of nullspace of A\n",
    "    # else\n",
    "    #     dim_N = n - rank(A)\n",
    "    #     warn(\"A does not have full row rank.\")\n",
    "    # end\n",
    "    q = qr(A'; thin=false)[1]\n",
    "    # N = circshift(q,(0,dim_N))\n",
    "\n",
    "    # Usually we only need the cols that span N(A):\n",
    "    if dim_N_only\n",
    "        return q[:,end-dim_N+1:end]\n",
    "    else\n",
    "        return N\n",
    "    end\n",
    "end\n",
    "\n",
    "function rotate_quadratic(G_of_x,R) # cheap\n",
    "    \"\"\" Rotate quadratic G_of_x by\n",
    "    rotation matrix R.\n",
    "    \"\"\"\n",
    "    G,g,kg = G_of_x\n",
    "    return (R*G*R',R*g,kg)\n",
    "end"
   ]
  },
  {
   "cell_type": "code",
   "execution_count": 31,
   "metadata": {
    "collapsed": false
   },
   "outputs": [
    {
     "data": {
      "text/plain": [
       "kernel_rotation (generic function with 1 method)"
      ]
     },
     "execution_count": 31,
     "metadata": {},
     "output_type": "execute_result"
    }
   ],
   "source": [
    "function kernel_rotation(A; spqr=false)\n",
    "    \"\"\" Find an orthonormal basis for the nullspace of A.\n",
    "    This matrix may be used to rotate a temporal instanton\n",
    "    problem instance to eliminate all but nullity(A) elements.\n",
    "    \"\"\"\n",
    "    m,n = size(A)\n",
    "\n",
    "    # Assume A always has full row rank of m.\n",
    "    # It may be possible for this assumption to fail\n",
    "    # due to numerics, but a rank() check is expensive.\n",
    "    dim_N = n - m # dimension of nullspace of A\n",
    "\n",
    "    if spqr\n",
    "        F = qrfact(sparse(A'))\n",
    "        # B selects last dim_N cols of Q:\n",
    "        B = [zeros(size(A,2)-dim_N,dim_N); eye(dim_N)]\n",
    "        N = convert(Array,SparseMatrix.SPQR.qmult(SparseMatrix.SPQR.QX, F, SparseMatrix.CHOLMOD.Dense(B)))\n",
    "        return N\n",
    "    else\n",
    "        q = qr(A'; thin=false)[1]\n",
    "        return q[:,end-dim_N+1:end]\n",
    "    end\n",
    "end"
   ]
  },
  {
   "cell_type": "code",
   "execution_count": 2,
   "metadata": {
    "collapsed": false
   },
   "outputs": [
    {
     "data": {
      "text/plain": [
       "kernel_rotation_sparse (generic function with 1 method)"
      ]
     },
     "execution_count": 2,
     "metadata": {},
     "output_type": "execute_result"
    }
   ],
   "source": [
    "function kernel_rotation_sparse(A)\n",
    "    \"\"\" Find an orthonormal basis for the nullspace of A.\n",
    "    This matrix may be used to rotate a temporal instanton\n",
    "    problem instance to eliminate all but nullity(A) elements.\n",
    "    \"\"\"\n",
    "    m,n = size(A)\n",
    "    # Assume A always has full row rank of m.\n",
    "    # It may be possible for this assumption to fail\n",
    "    # due to numerics, but a rank() check is expensive.\n",
    "    dim_N = n - m # dimension of nullspace of A\n",
    "    \n",
    "    # qr factorization of A using fill-reducing permutation:\n",
    "    F = qrfact(sparse(A'))\n",
    "    # B selects last dim_N cols of Q:\n",
    "    B = [zeros(size(A,2)-dim_N,dim_N); eye(dim_N)]\n",
    "    N = convert(Array,SparseMatrix.SPQR.qmult(SparseMatrix.SPQR.QX, F, SparseMatrix.CHOLMOD.Dense(B)))\n",
    "end"
   ]
  },
  {
   "cell_type": "code",
   "execution_count": 36,
   "metadata": {
    "collapsed": true
   },
   "outputs": [
    {
     "data": {
      "text/plain": [
       "450x558 Array{Float64,2}:\n",
       "  0.0  0.0  0.0  0.0  0.0  0.0  0.0  0.0  …  0.0  0.0  0.0  0.0  0.0  0.0\n",
       " -1.0  0.0  0.0  0.0  0.0  0.0  0.0  0.0     0.0  0.0  0.0  0.0  0.0  0.0\n",
       "  0.0  0.0  0.0  0.0  0.0  0.0  0.0  0.0     0.0  0.0  0.0  0.0  0.0  0.0\n",
       "  0.0  0.0  0.0  0.0  0.0  0.0  0.0  0.0     0.0  0.0  0.0  0.0  0.0  0.0\n",
       "  0.0  0.0  0.0  0.0  0.0  0.0  0.0  0.0     0.0  0.0  0.0  0.0  0.0  0.0\n",
       "  0.0  0.0  0.0  0.0  0.0  0.0  0.0  0.0  …  0.0  0.0  0.0  0.0  0.0  0.0\n",
       "  0.0  0.0  0.0  0.0  0.0  0.0  0.0  0.0     0.0  0.0  0.0  0.0  0.0  0.0\n",
       "  0.0  0.0  0.0  0.0  0.0  0.0  0.0  0.0     0.0  0.0  0.0  0.0  0.0  0.0\n",
       "  0.0  0.0  0.0  0.0  0.0  0.0  0.0  0.0     0.0  0.0  0.0  0.0  0.0  0.0\n",
       "  0.0  0.0  0.0  0.0  0.0  0.0  0.0  0.0     0.0  0.0  0.0  0.0  0.0  0.0\n",
       "  0.0  0.0  0.0  0.0  0.0  0.0  0.0  0.0  …  0.0  0.0  0.0  0.0  0.0  0.0\n",
       "  0.0  0.0  0.0  0.0  0.0  0.0  0.0  0.0     0.0  0.0  0.0  0.0  0.0  0.0\n",
       "  0.0  0.0  0.0  0.0  0.0  0.0  0.0  0.0     0.0  0.0  0.0  0.0  0.0  0.0\n",
       "  ⋮                        ⋮              ⋱                 ⋮            \n",
       "  0.0  0.0  0.0  0.0  0.0  0.0  0.0  0.0     0.0  0.0  0.0  0.0  0.0  0.0\n",
       "  0.0  0.0  0.0  0.0  0.0  0.0  0.0  0.0     0.0  0.0  0.0  0.0  0.0  0.0\n",
       "  0.0  0.0  0.0  0.0  0.0  0.0  0.0  0.0  …  0.0  0.0  0.0  0.0  0.0  0.0\n",
       "  0.0  0.0  0.0  0.0  0.0  0.0  0.0  0.0     0.0  0.0  0.0  0.0  0.0  0.0\n",
       "  0.0  0.0  0.0  0.0  0.0  0.0  0.0  0.0     0.0  0.0  0.0  0.0  0.0  0.0\n",
       "  0.0  0.0  0.0  0.0  0.0  0.0  0.0  0.0     0.0  0.0  0.0  0.0  0.0  0.0\n",
       "  0.0  0.0  0.0  0.0  0.0  0.0  0.0  0.0     1.0  0.0  0.0  0.0  0.0  0.0\n",
       "  0.0  0.0  0.0  0.0  0.0  0.0  0.0  0.0  …  0.0  1.0  0.0  0.0  0.0  0.0\n",
       "  0.0  0.0  0.0  0.0  0.0  0.0  0.0  0.0     0.0  0.0  1.0  0.0  0.0  0.0\n",
       "  0.0  0.0  0.0  0.0  0.0  0.0  0.0  0.0     0.0  0.0  0.0  1.0  0.0  0.0\n",
       "  0.0  0.0  0.0  0.0  0.0  0.0  0.0  0.0     0.0  0.0  0.0  0.0  1.0  0.0\n",
       "  0.0  0.0  0.0  0.0  0.0  0.0  0.0  0.0     0.0  0.0  0.0  0.0  0.0  1.0"
      ]
     },
     "execution_count": 36,
     "metadata": {},
     "output_type": "execute_result"
    }
   ],
   "source": [
    "# Save A matrix to make experimentation faster:\n",
    "using HDF5,JLD\n",
    "#save(\"../data/A.jld\",\"A\",A)\n",
    "A = load(\"../data/A.jld\")[\"A\"]"
   ]
  },
  {
   "cell_type": "code",
   "execution_count": 38,
   "metadata": {
    "collapsed": false
   },
   "outputs": [
    {
     "data": {
      "text/plain": [
       "5x10 Array{Float64,2}:\n",
       " -0.707836   -0.182463   -1.66661    …   0.612153  -1.45728     0.0184265\n",
       " -1.71253    -0.570917    0.962158      -1.3346     0.447239   -1.28922  \n",
       " -0.353017   -0.841213    1.42722        1.35516    1.05856    -0.905243 \n",
       " -0.0205593   1.16072    -0.242938       0.624634  -0.0362315   0.242769 \n",
       " -0.073743   -0.0475827  -0.0371604     -0.414996  -0.520215   -0.506054 "
      ]
     },
     "execution_count": 38,
     "metadata": {},
     "output_type": "execute_result"
    }
   ],
   "source": [
    "A = randn(5,10)"
   ]
  },
  {
   "cell_type": "code",
   "execution_count": 39,
   "metadata": {
    "collapsed": false,
    "scrolled": true
   },
   "outputs": [
    {
     "name": "stdout",
     "output_type": "stream",
     "text": [
      " 138.312 microseconds (40 allocations: 5504 bytes)\n",
      " 135.143 microseconds (26 allocations: 4704 bytes)\n"
     ]
    }
   ],
   "source": [
    "@time N1 = kernel_rotation(A,spqr=false);\n",
    "@time N2 = kernel_rotation(A,spqr=true);"
   ]
  },
  {
   "cell_type": "code",
   "execution_count": 24,
   "metadata": {
    "collapsed": true
   },
   "outputs": [
    {
     "data": {
      "text/plain": [
       "558x108 Base.SparseMatrix.CHOLMOD.Dense{Float64}:\n",
       " -0.0657601   -0.0029995   -0.199876    …   0.0          0.0        \n",
       " -0.0154563   -0.0096515   -0.00981624      0.0          0.0        \n",
       " -0.0257904   -0.00898555   0.00144276      0.0          0.0        \n",
       " -0.0346138   -0.00846669   0.00510294      0.0          0.0        \n",
       " -0.0387583   -0.00825614   0.00695442      0.0          0.0        \n",
       " -0.00985561  -0.00983352   0.00529716  …   0.0          0.0        \n",
       "  0.00404939  -0.0105823    0.00892111      0.0          0.0        \n",
       " -0.0426407   -0.00808774   0.00878667      0.0          0.0        \n",
       "  0.0117509   -0.0109909    0.0110887       0.0          0.0        \n",
       " -0.164366    -0.0150967    0.156389        0.0          0.0        \n",
       "  0.572317    -0.0687488    0.0589382   …   0.0          0.0        \n",
       "  0.047082    -0.0491359   -0.131211        0.0          0.0        \n",
       " -0.141484     0.831288     0.109668        0.0          0.0        \n",
       "  ⋮                                     ⋱                           \n",
       "  0.0          0.0          0.0             0.00592561  -0.0167216  \n",
       "  0.0          0.0          0.0             0.00597372  -0.0167663  \n",
       "  0.0          0.0          0.0             0.00782887  -0.0134576  \n",
       "  0.0          0.0          0.0             0.0062685   -0.0168163  \n",
       "  0.0          0.0          0.0         …   0.00820495  -0.0124766  \n",
       "  0.0          0.0          0.0             0.0196615   -0.0779428  \n",
       "  2.78252e-5   1.44862e-7   9.37513e-5      0.0          0.0        \n",
       "  0.0          0.0          0.0             0.0          0.0        \n",
       "  0.0          0.0          0.0             0.0          0.0        \n",
       "  0.0          0.0          0.0         …   0.0          0.0        \n",
       "  0.0          0.0          0.0             0.0          0.0        \n",
       "  0.0          0.0          0.0            -1.24222e-5   0.000238659"
      ]
     },
     "execution_count": 24,
     "metadata": {},
     "output_type": "execute_result"
    }
   ],
   "source": [
    "F = qrfact(sparse(A'))\n",
    "dim_N = 108\n",
    "B = [zeros(size(A,2)-dim_N,dim_N); eye(dim_N)]\n",
    "N2 = SparseMatrix.SPQR.qmult(SparseMatrix.SPQR.QX, F, SparseMatrix.CHOLMOD.Dense(B))"
   ]
  },
  {
   "cell_type": "markdown",
   "metadata": {},
   "source": [
    "Taking the rank of $A$ is expensive, even if I use Julia's built-in function. There must be a better way to determine the dimension of the null space.\n",
    "\n",
    "If $A$ has full row rank, we can just take n - m to find the dimension of the null space. To determine whether $A$ has full row rank, we can check the rank of $AA^\\top$.\n",
    "\n",
    "Or we can assume $A$ has full row rank and skip the check (which is somewhat expensive itself) altogether. I think $A$ will always have full row rank unless the admittance matrix is singular or the auxiliary variable coeffients are non-unique. This should never be the case.\n",
    "\n",
    "The most expensive thing remaining is the qr factorization of $A^\\top$, which is needed to find a basis for the null space of $A$. A newer version of Julia (0.4) can exploit sparsity in qr factorizations, so when I update (which I am unsure how to do), I should be able to reduce computation time still more."
   ]
  },
  {
   "cell_type": "markdown",
   "metadata": {},
   "source": [
    "## Constraint Eigendecomposition and rotation\n",
    "\n",
    "Here we change variables from $z$ to $w$ to render the constraint a norm constraint. This is done by letting $w=KU^\\top z$ where `D,U = eig(Q_of_z[1])`. Thus, we can use the previously defined rotation method with $R=(UK^{-1})^\\top$."
   ]
  },
  {
   "cell_type": "code",
   "execution_count": null,
   "metadata": {
    "collapsed": true
   },
   "outputs": [],
   "source": [
    "function return_K(D)\n",
    "    K = ones(length(D))\n",
    "    K[find(D)] = sqrt(D[find(D)])\n",
    "    K = diagm(K)\n",
    "    return K\n",
    "end"
   ]
  },
  {
   "cell_type": "markdown",
   "metadata": {},
   "source": [
    "## Eliminating $w_1$\n",
    "\n",
    "We are only interested in $w_2$ -- $w_1$ doesn't enter into the constraint, so we will eliminate it using the KKT conditions.\n",
    "\n",
    "This means we want to \n",
    "\n",
    "* partition $B=$ `G_of_w[1]` into $B_{11}$, $B_{12}$, and $B_{22}$\n",
    "\n",
    "* partition $b$ into $b_1$ and $b_2$\n",
    "\n",
    "* solve for $\\hat{B}$ and $\\hat{b}$."
   ]
  },
  {
   "cell_type": "code",
   "execution_count": null,
   "metadata": {
    "collapsed": true
   },
   "outputs": [],
   "source": [
    "function partition_B(G_of_w,Q_of_w) # cheap\n",
    "    B,b = G_of_w[1],G_of_w[2]\n",
    "    Q = round(Q_of_w[1])\n",
    "    i2 = find(diag(Q))\n",
    "    i1 = setdiff(1:size(Q,1),i2)\n",
    "    B11,B12,B21,B22 = B[i1,i1],B[i1,i2],B[i2,i1],B[i2,i2]\n",
    "    b1 = b[i1]\n",
    "    b2 = b[i2]\n",
    "    return B11,B12,B21,B22,b1,b2\n",
    "end\n",
    "\n",
    "function return_Bhat(B11,B12,B22,b1,b2) # expensive: matrix inversion\n",
    "    Bhat = B22 - (B12'/B11)*B12\n",
    "    bhat = b2 - (B12'/B11)*b1\n",
    "    return round(Bhat,10),bhat\n",
    "end"
   ]
  },
  {
   "cell_type": "markdown",
   "metadata": {},
   "source": [
    "## Solution via first-order optimality conditions\n",
    "\n",
    "We now have\n",
    "\n",
    "\\begin{align*}\n",
    "&& \\min~ w_2^\\top \\hat{B}w_2 + w_2^\\top \\hat{b} \\\\\n",
    "s.t. && w_2^\\top w_2 &= c\n",
    "\\end{align*}\n",
    "\n",
    "Where $\\hat{B}$ is diagonal. When we write the first-order optimality conditions, we obtain a relationship for $\\hat{w}_2$ in terms of $v$:\n",
    "\n",
    "\\begin{align}\n",
    "\\hat{w}_{2,i} &= \\frac{1}{2}\\left(\\frac{\\hat{b}_i}{v - \\hat{B}_{i,i}}\\right)\n",
    "\\end{align}"
   ]
  },
  {
   "cell_type": "code",
   "execution_count": null,
   "metadata": {
    "collapsed": true
   },
   "outputs": [],
   "source": [
    "function find_w(v,D,d)\n",
    "    if v == 0\n",
    "        w = float([-d[i]/(D[i,i]) for i in 1:length(d)])\n",
    "    else\n",
    "        w = float([d[i]/(v - D[i,i]) for i in 1:length(d)])\n",
    "    end\n",
    "    return w\n",
    "end"
   ]
  },
  {
   "cell_type": "markdown",
   "metadata": {},
   "source": [
    "Now we can formulate and solve the secular equation. The general form is:\n",
    "\n",
    "\\begin{align}\n",
    "s(v) &= \\sum_i \\left(\\frac{d_i}{v - D_{i,i}}\\right)^2 = c\n",
    "\\end{align}\n",
    "\n",
    "The following method solves this equation using binary search:"
   ]
  },
  {
   "cell_type": "code",
   "execution_count": null,
   "metadata": {
    "collapsed": true
   },
   "outputs": [],
   "source": [
    "function solve_secular(D,d,c)\n",
    "    \"\"\" Solve the secular equation via binary search.\n",
    "    \"\"\"\n",
    "    eps = 1e-8\n",
    "    solutions = Float64[]\n",
    "    vectors = Array(Vector{Float64},0)\n",
    "    poles = sort(unique(round(diag(D),10)))\n",
    "    \n",
    "    # Each diagonal element is a pole.\n",
    "    for i in 1:length(poles)\n",
    "        \n",
    "        # Head left first:\n",
    "        high = poles[i]\n",
    "        if length(poles) == 1\n",
    "            low = high - high\n",
    "        elseif i == 1\n",
    "            low = high - abs(poles[i] - poles[i+1])\n",
    "        else\n",
    "            low = high - abs(poles[i] - poles[i-1])/2\n",
    "        end\n",
    "        \n",
    "        # Initialize v:\n",
    "        v = (high + low)/2\n",
    "        w = find_w(v,D,d)\n",
    "        diff = (w'*w)[1] - c\n",
    "        diff_old = 0\n",
    "        stall = false\n",
    "        while abs(diff) > eps\n",
    "            if diff == diff_old\n",
    "                stall = true\n",
    "                break\n",
    "            end\n",
    "            if diff > 0\n",
    "                high = v\n",
    "            else\n",
    "                low = v\n",
    "            end\n",
    "            v = (high + low)/2\n",
    "            w = find_w(v,D,d)\n",
    "            diff_old = diff\n",
    "            diff = (w'*w)[1] - c\n",
    "        end\n",
    "        if !stall\n",
    "            push!(solutions,v)\n",
    "            push!(vectors,w)\n",
    "        end\n",
    "        \n",
    "        # Now head right:\n",
    "        high = poles[i]\n",
    "        if length(poles) == 1\n",
    "            low = high + high\n",
    "        elseif i == length(poles)\n",
    "            low = high + abs(poles[i] - poles[i-1])\n",
    "        else\n",
    "            low = high + abs(poles[i] - poles[i+1])/2\n",
    "        end\n",
    "        \n",
    "        v = (high + low)/2\n",
    "        w = find_w(v,D,d)\n",
    "        diff = (w'*w)[1] - c\n",
    "        diff_old = 0\n",
    "        stall = false\n",
    "        while abs(diff) > eps\n",
    "            if diff == diff_old\n",
    "                stall = true\n",
    "                break\n",
    "            end\n",
    "            if diff > 0\n",
    "                high = v\n",
    "            else\n",
    "                low = v\n",
    "            end\n",
    "            v = (high + low)/2\n",
    "            w = find_w(v,D,d)\n",
    "            diff_old = diff\n",
    "            diff = (w'*w)[1] - c\n",
    "        end\n",
    "        if !stall\n",
    "            push!(solutions,v)\n",
    "            push!(vectors,w)\n",
    "        end\n",
    "    end\n",
    "    return solutions,vectors\n",
    "end"
   ]
  },
  {
   "cell_type": "markdown",
   "metadata": {},
   "source": [
    "## Mapping back\n",
    "\n",
    "Having found solutions $\\hat{w}_2^*$, we need to map back to the original problem space."
   ]
  },
  {
   "cell_type": "code",
   "execution_count": null,
   "metadata": {
    "collapsed": true
   },
   "outputs": [],
   "source": [
    "function return_xopt(w2opt,B11,B12,b1,N,U,K,x_star) # expensive: inversion\n",
    "    w1opt = -B11\\(B12*w2opt + b1/2)\n",
    "    wopt = [w1opt,w2opt]\n",
    "    xopt = (N*U/K)*wopt + x_star\n",
    "    return xopt\n",
    "end"
   ]
  },
  {
   "cell_type": "markdown",
   "metadata": {},
   "source": [
    "Here is another opportunity for speedup. Apparently inverting $K$ is expensive, even though it is diagonal. The polyalgorithm is terrible."
   ]
  },
  {
   "cell_type": "code",
   "execution_count": 43,
   "metadata": {
    "collapsed": true
   },
   "outputs": [
    {
     "name": "stdout",
     "output_type": "stream",
     "text": [
      "elapsed time: 0.01114078 seconds (10088528 bytes allocated)\n",
      "elapsed time: 0.016562231 seconds (3648320 bytes allocated)\n"
     ]
    },
    {
     "data": {
      "text/plain": [
       "400x500 Array{Float64,2}:\n",
       " 1.76932   1.19322    0.94956   …  0.110186     0.924682   1.265     \n",
       " 0.956887  0.212341   0.124174     1.40674      1.14694    0.893     \n",
       " 1.46273   1.18728    2.36477      1.48218      0.338783   0.822923  \n",
       " 0.134922  0.247766   0.706611     0.180975     0.0249464  0.6792    \n",
       " 0.918634  0.379625   2.081        0.567096     0.29876    1.74322   \n",
       " 0.871984  0.977775   1.74274   …  0.000901539  0.784611   0.762492  \n",
       " 0.705524  1.23108    2.35021      0.245582     0.536458   0.320749  \n",
       " 1.37011   0.494233   0.400555     1.93783      0.722335   1.07643   \n",
       " 0.874345  0.53897    2.46782      1.39553      0.200936   1.6546    \n",
       " 0.134486  0.885155   0.746886     2.0576       0.866975   1.40457   \n",
       " 1.16014   0.0696139  2.27619   …  1.43642      0.497229   1.55525   \n",
       " 0.358806  0.730758   2.49916      0.2303       0.896409   1.07667   \n",
       " 0.37583   0.928391   0.711274     0.894        0.250464   1.76745   \n",
       " ⋮                              ⋱                                    \n",
       " 1.60028   0.463608   0.874866     0.0311767    0.269329   1.6011    \n",
       " 1.13227   0.476879   1.40256      0.245435     0.344231   0.991316  \n",
       " 0.081754  0.502775   1.86258   …  2.06176      0.329985   1.29484   \n",
       " 0.030067  1.2053     0.429027     0.755454     1.20873    0.442612  \n",
       " 0.261179  1.00418    1.30273      0.919414     0.241224   2.02266   \n",
       " 1.0585    1.08298    0.58878      2.389        0.794736   0.00605094\n",
       " 0.124627  1.08192    0.136925     0.366126     1.12338    0.73263   \n",
       " 0.494242  1.17041    1.70771   …  1.82795      1.07085    0.150772  \n",
       " 1.35248   0.0879022  1.82894      1.45108      0.0349058  0.0926628 \n",
       " 0.691228  0.923528   1.19674      2.00129      0.739846   0.33343   \n",
       " 0.863652  1.16681    1.66838      1.31903      1.08852    1.61336   \n",
       " 1.6736    0.377125   1.73079      0.249778     1.35142    0.2336    "
      ]
     },
     "execution_count": 43,
     "metadata": {},
     "output_type": "execute_result"
    }
   ],
   "source": [
    "K = diagm(rand(500))\n",
    "L = rand(400,500)\n",
    "@time L/K\n",
    "@time L*(diagm(1./diag(K)))"
   ]
  },
  {
   "cell_type": "markdown",
   "metadata": {},
   "source": [
    "This does seem to have made a difference."
   ]
  },
  {
   "cell_type": "markdown",
   "metadata": {},
   "source": [
    "Today I sped up my code by a factor of 21."
   ]
  },
  {
   "cell_type": "code",
   "execution_count": 51,
   "metadata": {
    "collapsed": false
   },
   "outputs": [
    {
     "data": {
      "text/plain": [
       "21.0"
      ]
     },
     "execution_count": 51,
     "metadata": {},
     "output_type": "execute_result"
    }
   ],
   "source": [
    "7*60./20"
   ]
  }
 ],
 "metadata": {
  "kernelspec": {
   "display_name": "Julia 0.4.0-dev",
   "language": "julia",
   "name": "julia-0.4"
  },
  "language_info": {
   "name": "julia",
   "version": "0.4.0"
  }
 },
 "nbformat": 4,
 "nbformat_minor": 0
}
