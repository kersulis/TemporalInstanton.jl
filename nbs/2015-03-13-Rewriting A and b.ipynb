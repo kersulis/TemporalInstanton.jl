{
 "cells": [
  {
   "cell_type": "markdown",
   "metadata": {},
   "source": [
    "The way I have been implementing distributed slack is unorthodox at best. It is probably also incorrect!\n",
    "\n",
    "It turns out that $A$ can be simpler than I have been making it. All I need to do is make the angle refernce bus assignment explicit. Then the linear constraints $Ax=b$ become:\n",
    "\n",
    "\\begin{align}\n",
    "\\begin{bmatrix} -I & Y & -k \\\\ 0 & e_s^\\top & 0 \\end{bmatrix}\n",
    "\\begin{bmatrix} x \\\\ \\theta \\\\ \\alpha \\end{bmatrix} &=\n",
    "\\begin{bmatrix} G_0 + P_0 - D \\\\ 0 \\end{bmatrix}\n",
    "\\end{align}\n",
    "\n",
    "where I remove columns of $I$ corresponding to non-wind nodes (where there are no deviation variables). Note that the bottom equation is just $e_s^\\top \\theta = \\theta_s = 0$.\n",
    "\n",
    "My prior confusion was due to my perceived need for an explicit expression of $\\alpha$. Without an equation to establish it, I reasoned, $\\alpha$ would have no meaning. This is foolish in light of the very nature of the power balance equations: there is no explicit equation for any of the variables, yet every vector in the set $\\{x:Ax=b\\}$ assigns reasonable values to all of them. We do not solve the power balance equations for any particular variable. We simply write the equations out using the appropriate variables and stack everything up in matrix-vector form. Solutions come out according to linear algebra.\n",
    "\n",
    "Here is my new method:"
   ]
  },
  {
   "cell_type": "code",
   "execution_count": 14,
   "metadata": {
    "collapsed": false
   },
   "outputs": [
    {
     "data": {
      "text/plain": [
       "tmp_inst_A (generic function with 1 method)"
      ]
     },
     "execution_count": 14,
     "metadata": {},
     "output_type": "execute_result"
    }
   ],
   "source": [
    "function tmp_inst_A(Ridx,T,Y,ref,k)#,tau,line)\n",
    "    \"\"\" Generate the power balance constraint A matrix\n",
    "    from problem dimensions, admittance matrix,\n",
    "    and generator participation factors.\n",
    "    Assumes the admittance matrix is n-by-n.\n",
    "    \n",
    "    Returns A, which is (n+1)*T-by-(nr+n+1)*T\n",
    "    \n",
    "    * nr is the number of wind farms in the network\n",
    "    * n is the number of nodes in the network\n",
    "    * Ridx is a vector indicating wind farm locations\n",
    "    * T is the number of time steps\n",
    "    * Y is the admittance matrix (n-by-n)\n",
    "    * ref is the index of the angle reference bus\n",
    "    * k is the vector of generator participation factors\n",
    "    \"\"\"\n",
    "    \n",
    "    function ei(n,i)\n",
    "        e = zeros(n)\n",
    "        e[i] = 1.\n",
    "        return e\n",
    "    end\n",
    "    \n",
    "    n = size(Y,1)\n",
    "    \n",
    "    # A has a block diagonal pattern where each\n",
    "    # block is Atemp:\n",
    "    Atemp = [[-eye(n)    Y       -k];\n",
    "            zeros(1,n) ei(n,ref)' 0]\n",
    "    \n",
    "    # Remove columns corresponding to non-wind nodes:\n",
    "    Atemp = sparse(Atemp[:,[Ridx,n+1:2*n+1]])\n",
    "    \n",
    "    # Now we can tile the Atemp matrix to generate A:\n",
    "    A = Atemp\n",
    "    for t = 2:T\n",
    "        A = blkdiag(A, Atemp)\n",
    "    end\n",
    "\n",
    "    # These rows relate auxiliary angle variables to\n",
    "    # original angle variables:\n",
    "#     A2 = tmp_inst_A_scale(n,Ridx,T,tau,ref,line)\n",
    "\n",
    "#     # Augment A with new rows:\n",
    "#     A = [[full(A) zeros((n+1)*T,T)]; A2]\n",
    "    \n",
    "    return A\n",
    "end\n"
   ]
  },
  {
   "cell_type": "code",
   "execution_count": 34,
   "metadata": {
    "collapsed": false,
    "scrolled": true
   },
   "outputs": [
    {
     "data": {
      "text/plain": [
       "6x8 Array{Float64,2}:\n",
       "  0.0  1.0  2.0  -0.3   0.0  0.0  0.0   0.0\n",
       " -1.0  3.0  4.0  -0.4   0.0  0.0  0.0   0.0\n",
       "  0.0  1.0  0.0   0.0   0.0  0.0  0.0   0.0\n",
       "  0.0  0.0  0.0   0.0   0.0  1.0  2.0  -0.3\n",
       "  0.0  0.0  0.0   0.0  -1.0  3.0  4.0  -0.4\n",
       "  0.0  0.0  0.0   0.0   0.0  1.0  0.0   0.0"
      ]
     },
     "execution_count": 34,
     "metadata": {},
     "output_type": "execute_result"
    }
   ],
   "source": [
    "A = tmp_inst_A([2],2,[1 2; 3 4],1,[0.3,0.4])\n",
    "full(A)"
   ]
  },
  {
   "cell_type": "markdown",
   "metadata": {},
   "source": [
    "Now of course I must change how $b$ is generated. The old way:"
   ]
  },
  {
   "cell_type": "code",
   "execution_count": null,
   "metadata": {
    "collapsed": true
   },
   "outputs": [],
   "source": [
    "function tmp_inst_b(n,T,G0,P0,D)\n",
    "    \"\"\" Generate the vector b of power balance constraints.\n",
    "    Assumes G0 and D are nT-by-1 vectors.\n",
    "    \"\"\"\n",
    "    b = FloatingPoint[]\n",
    "    \n",
    "    # b = zeros((n+1)*T,1)\n",
    "    netGen = G0 + P0 - D\n",
    "    for t = 1:T\n",
    "        start = (t-1)*n + 1\n",
    "        stop = start + n - 1\n",
    "        mismatch = -sum(netGen[start:stop])\n",
    "        append!(b,netGen[start:stop])\n",
    "        push!(b,mismatch)\n",
    "    end\n",
    "\n",
    "    # Extend b with T additional zeroes:\n",
    "    tmp_inst_pad_b(b,T)\n",
    "\n",
    "    return b\n",
    "end"
   ]
  },
  {
   "cell_type": "markdown",
   "metadata": {},
   "source": [
    "And the new way, which is a bit simpler:"
   ]
  },
  {
   "cell_type": "code",
   "execution_count": 30,
   "metadata": {
    "collapsed": false
   },
   "outputs": [
    {
     "data": {
      "text/plain": [
       "tmp_inst_b (generic function with 1 method)"
      ]
     },
     "execution_count": 30,
     "metadata": {},
     "output_type": "execute_result"
    }
   ],
   "source": [
    "function tmp_inst_b(n,T,G0,P0,D)\n",
    "    \"\"\" Generate the vector b of power balance constraints.\n",
    "    Assumes G0 and D are nT-by-1 vectors.\n",
    "    \"\"\"\n",
    "    b = FloatingPoint[]\n",
    "    netGen = G0 + P0 - D\n",
    "\n",
    "    for t = 1:T\n",
    "        start = (t-1)*n + 1\n",
    "        stop = start + n - 1\n",
    "        append!(b,netGen[start:stop])\n",
    "        push!(b,0.)\n",
    "    end\n",
    "\n",
    "    # Extend b with T additional zeroes:\n",
    "    tmp_inst_pad_b(b,T)\n",
    "    return b\n",
    "end"
   ]
  },
  {
   "cell_type": "code",
   "execution_count": 32,
   "metadata": {
    "collapsed": false
   },
   "outputs": [
    {
     "data": {
      "text/plain": [
       "12-element Array{FloatingPoint,1}:\n",
       "  2.0\n",
       "  3.0\n",
       "  4.0\n",
       "  0.0\n",
       "  5.0\n",
       "  6.0\n",
       "  7.0\n",
       "  0.0\n",
       "  8.0\n",
       "  9.0\n",
       " 10.0\n",
       "  0.0"
      ]
     },
     "execution_count": 32,
     "metadata": {},
     "output_type": "execute_result"
    }
   ],
   "source": [
    "G0 = [1,2,3,4,5,6,7,8,9]\n",
    "P0 = ones(9)\n",
    "D = zeros(9)\n",
    "tmp_inst_b(3,3,G0,P0,D)"
   ]
  },
  {
   "cell_type": "markdown",
   "metadata": {},
   "source": [
    "Let's split out the augmentation functionality. It doesn't belong in the matrix-building methods. For this I need a new script."
   ]
  }
 ],
 "metadata": {
  "kernelspec": {
   "display_name": "Julia",
   "language": "julia",
   "name": "julia"
  },
  "language_info": {
   "name": "julia",
   "version": "0.3.6"
  }
 },
 "nbformat": 4,
 "nbformat_minor": 0
}
