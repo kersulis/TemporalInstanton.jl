{
 "cells": [
  {
   "cell_type": "markdown",
   "metadata": {},
   "source": [
    "The first step to solving the temporal instanton QCQP is to translate the problem by a vector $x:Ax=b$. Of course, there are infinitely many vectors that satisfy this requirement. The question is, is there one vector that simultaneously satisfies $Ax=b$ for every line's QCQP?\n",
    "\n",
    "Most of the $A$ matrix is fixed from one QCQP to the next. There are only $k$ rows that change, where $k$ is the number of time steps. These are the rows that define auxiliary angle variables in terms of nodal angle variables. Each auxiliary angle variable has the form $a(\\theta_i-\\theta_k)$, where $a$ is some scaling coefficient. Thus, elements of $b$ corresponding to the $k$ rows in question are all zero. This means we can fix the auxiliary angles to zero and still satisfy $Ax=b$. Because the $k$ auxiliary angle variables may be fixed to zero, we can find a translation point before looping through the lines; there is no need to find a new translation point each time.\n",
    "\n",
    "I modified my code to pre-compute x_star and pass it to the QCQP solver as an argument. I then commented out the part of the QCQP solver that finds x_star. While doing this, I noticed that the entire problem may be translated ahead of time. I also noticed that the results are not the same. What's going on?\n",
    "\n",
    "$x^*$ must satisfy two conditions: $Ax^*=b$ and $x^*_3=0$.\n",
    "\n",
    "$$\n",
    "\\begin{align*}\n",
    "A_1x_1^* &= b_1 \\\\\n",
    "A_2x_2^* &= b_2 \\\\\n",
    "A_3x_3^* &= 0\n",
    "\\end{align*}\n",
    "$$\n",
    "\n",
    "We can easily set $x_3=0$. This satisfies the third equation, which is the only one that depends on our choice of line. So we ought to be able to solve the remaining two equations before looping through lines."
   ]
  },
  {
   "cell_type": "markdown",
   "metadata": {},
   "source": [
    "## Testing"
   ]
  },
  {
   "cell_type": "code",
   "execution_count": 1,
   "metadata": {
    "collapsed": true
   },
   "outputs": [
    {
     "name": "stderr",
     "output_type": "stream",
     "text": [
      "WARNING: replacing module JLD\n",
      "WARNING: Method definition load(FileIO.File{FileIO.DataFormat{:JLD}}) in module JLD at /home/jkersulis/.julia/v0.4/JLD/src/JLD.jl:1174 overwritten in module JLD at /home/jkersulis/.julia/v0.4/JLD/src/JLD.jl:1174.\n",
      "WARNING: Method definition load(FileIO.File{FileIO.DataFormat{:JLD}}, AbstractString) in module JLD at /home/jkersulis/.julia/v0.4/JLD/src/JLD.jl:1180 overwritten in module JLD at /home/jkersulis/.julia/v0.4/JLD/src/JLD.jl:1180.\n",
      "WARNING: Method definition load(FileIO.File{FileIO.DataFormat{:JLD}}, AbstractString...) in module JLD at /home/jkersulis/.julia/v0.4/JLD/src/JLD.jl:1184 overwritten in module JLD at /home/jkersulis/.julia/v0.4/JLD/src/JLD.jl:1184.\n",
      "WARNING: Method definition load(FileIO.File{FileIO.DataFormat{:JLD}}, Tuple{Vararg{AbstractString}}) in module JLD at /home/jkersulis/.julia/v0.4/JLD/src/JLD.jl:1186 overwritten in module JLD at /home/jkersulis/.julia/v0.4/JLD/src/JLD.jl:1186.\n",
      "WARNING: Method definition save(FileIO.File{FileIO.DataFormat{:JLD}}, Base.Associative) in module JLD at /home/jkersulis/.julia/v0.4/JLD/src/JLD.jl:1148 overwritten in module JLD at /home/jkersulis/.julia/v0.4/JLD/src/JLD.jl:1148.\n",
      "WARNING: Method definition save(FileIO.File{FileIO.DataFormat{:JLD}}, AbstractString, Any, Any...) in module JLD at /home/jkersulis/.julia/v0.4/JLD/src/JLD.jl:1160 overwritten in module JLD at /home/jkersulis/.julia/v0.4/JLD/src/JLD.jl:1160.\n",
      "WARNING: Method definition save(Array, FileIO.File{FileIO.DataFormat{:JLD}}, Base.Associative) in module JLD overwritten in module JLD.\n",
      "WARNING: Method definition save(Array, FileIO.File{FileIO.DataFormat{:JLD}}, AbstractString, Any, Any...) in module JLD overwritten in module JLD.\n",
      "WARNING: replacing module JLD\n",
      "WARNING: Method definition load(FileIO.File{FileIO.DataFormat{:JLD}}) in module JLD at /home/jkersulis/.julia/v0.4/JLD/src/JLD.jl:1174 overwritten in module JLD at /home/jkersulis/.julia/v0.4/JLD/src/JLD.jl:1174.\n",
      "WARNING: Method definition load(FileIO.File{FileIO.DataFormat{:JLD}}, AbstractString) in module JLD at /home/jkersulis/.julia/v0.4/JLD/src/JLD.jl:1180 overwritten in module JLD at /home/jkersulis/.julia/v0.4/JLD/src/JLD.jl:1180.\n",
      "WARNING: Method definition load(FileIO.File{FileIO.DataFormat{:JLD}}, AbstractString...) in module JLD at /home/jkersulis/.julia/v0.4/JLD/src/JLD.jl:1184 overwritten in module JLD at /home/jkersulis/.julia/v0.4/JLD/src/JLD.jl:1184.\n",
      "WARNING: Method definition load(FileIO.File{FileIO.DataFormat{:JLD}}, Tuple{Vararg{AbstractString}}) in module JLD at /home/jkersulis/.julia/v0.4/JLD/src/JLD.jl:1186 overwritten in module JLD at /home/jkersulis/.julia/v0.4/JLD/src/JLD.jl:1186.\n",
      "WARNING: Method definition save(FileIO.File{FileIO.DataFormat{:JLD}}, Base.Associative) in module JLD at /home/jkersulis/.julia/v0.4/JLD/src/JLD.jl:1148 overwritten in module JLD at /home/jkersulis/.julia/v0.4/JLD/src/JLD.jl:1148.\n",
      "WARNING: Method definition save(FileIO.File{FileIO.DataFormat{:JLD}}, AbstractString, Any, Any...) in module JLD at /home/jkersulis/.julia/v0.4/JLD/src/JLD.jl:1160 overwritten in module JLD at /home/jkersulis/.julia/v0.4/JLD/src/JLD.jl:1160.\n",
      "WARNING: Method definition save(Array, FileIO.File{FileIO.DataFormat{:JLD}}, Base.Associative) in module JLD overwritten in module JLD.\n",
      "WARNING: Method definition save(Array, FileIO.File{FileIO.DataFormat{:JLD}}, AbstractString, Any, Any...) in module JLD overwritten in module JLD.\n",
      "WARNING: replacing module MAT\n",
      "WARNING: Method definition read(Union{HDF5.HDF5Dataset, HDF5.HDF5Datatype, HDF5.HDF5Group}, Type{Bool}) in module MAT_HDF5 at /home/jkersulis/.julia/v0.4/MAT/src/MAT_HDF5.jl:565 overwritten in module MAT_HDF5 at /home/jkersulis/.julia/v0.4/MAT/src/MAT_HDF5.jl:565.\n",
      "WARNING: Method definition read(Union{HDF5.HDF5Dataset, HDF5.HDF5Datatype, HDF5.HDF5Group}, Type{Array{Bool, N<:Any}}) in module MAT_HDF5 at /home/jkersulis/.julia/v0.4/MAT/src/MAT_HDF5.jl:569 overwritten in module MAT_HDF5 at /home/jkersulis/.julia/v0.4/MAT/src/MAT_HDF5.jl:569.\n",
      "WARNING: replacing module MAT\n",
      "WARNING: Method definition read(Union{HDF5.HDF5Dataset, HDF5.HDF5Datatype, HDF5.HDF5Group}, Type{Bool}) in module MAT_HDF5 at /home/jkersulis/.julia/v0.4/MAT/src/MAT_HDF5.jl:565 overwritten in module MAT_HDF5 at /home/jkersulis/.julia/v0.4/MAT/src/MAT_HDF5.jl:565.\n",
      "WARNING: Method definition read(Union{HDF5.HDF5Dataset, HDF5.HDF5Datatype, HDF5.HDF5Group}, Type{Array{Bool, N<:Any}}) in module MAT_HDF5 at /home/jkersulis/.julia/v0.4/MAT/src/MAT_HDF5.jl:569 overwritten in module MAT_HDF5 at /home/jkersulis/.julia/v0.4/MAT/src/MAT_HDF5.jl:569.\n",
      "WARNING: replacing module MatpowerCases\n",
      "WARNING: replacing module MatpowerCases\n",
      "WARNING: Base.String is deprecated, use AbstractString instead.\n",
      "  likely near /home/jkersulis/.julia/v0.4/GraphLayout/src/draw.jl:3\n",
      "WARNING: Union(args...) is deprecated, use Union{args...} instead.\n",
      " in depwarn at deprecated.jl:73\n",
      " in call at deprecated.jl:50\n",
      " in include at ./boot.jl:261\n",
      " in include_from_node1 at ./loading.jl:304\n",
      " in include at ./boot.jl:261\n",
      " in include_from_node1 at ./loading.jl:304\n",
      " in require at ./loading.jl:237\n",
      " in include at ./boot.jl:261\n",
      " in include_from_node1 at ./loading.jl:304\n",
      " in include at ./boot.jl:261\n",
      " in include_from_node1 at ./loading.jl:304\n",
      " in eval at ./sysimg.jl:14\n",
      " in anonymous at multi.jl:1350\n",
      "while loading /home/jkersulis/.julia/v0.4/GraphLayout/src/draw.jl, in expression starting on line 3\n",
      "WARNING: Base.String is deprecated, use AbstractString instead.\n",
      "  likely near /home/jkersulis/.julia/v0.4/GraphLayout/src/draw.jl:23\n",
      "WARNING: Base.String is deprecated, use AbstractString instead.\n",
      "  likely near /home/jkersulis/.julia/v0.4/GraphLayout/src/draw.jl:135\n",
      "WARNING: replacing module GraphLayout\n",
      "WARNING: replacing module GraphLayout\n",
      "WARNING: Base.String is deprecated, use AbstractString instead.\n",
      "  likely near /home/jkersulis/.julia/v0.4/GraphLayout/src/draw.jl:3\n",
      "WARNING: Union(args...) is deprecated, use Union{args...} instead.\n",
      " in depwarn at deprecated.jlWARNING: Base.String is deprecated, use AbstractString instead.\n",
      "  likely near /home/jkersulis/.julia/v0.4/GraphLayout/src/draw.jl:3\n",
      "WARNING: Union(args...) is deprecated, use Union{args...} instead.:\n",
      "73\n",
      " in depwarn at deprecated.jl in call at deprecated.jl:73\n",
      ":50\n",
      " in call at deprecated.jl in include_string at loading.jl:50\n",
      ":266\n",
      " in include_string at loading.jl in include_from_node1 at ./loading.jl:266\n",
      ":307\n",
      " in include_from_node1 at ./loading.jl in include_string at loading.jl:307\n",
      ":266\n",
      " in include_string at loading.jl in include_from_node1 at ./loading.jl:266\n",
      ":307\n",
      " in include_from_node1 at ./loading.jl in require at ./loading.jl:307\n",
      ":243\n",
      " in eval at ./sysimg.jl in include_string at loading.jl:14\n",
      ":266\n",
      " in anonymous at multi.jl in include_from_node1 at ./loading.jl:1330\n",
      ":307\n",
      " in anonymous at multi.jl in include_string at loading.jl:889\n",
      ":266\n",
      " in run_work_thunk at multi.jl in include_from_node1 at ./loading.jl:645\n",
      ":307\n",
      " in run_work_thunk at multi.jl in eval at ./sysimg.jl:654\n",
      ":14\n",
      " in anonymous at task.jl in anonymous at multi.jl:58\n",
      "while loading /home/jkersulis/.julia/v0.4/GraphLayout/src/draw.jl, in expression starting on line 3:\n",
      "1350WARNING: Base.String is deprecated, use AbstractString instead.\n",
      "  likely near /home/jkersulis/.julia/v0.4/GraphLayout/src/draw.jl:23\n",
      "WARNING: Base.String is deprecated, use AbstractString instead.\n",
      "  likely near /home/jkersulis/.julia/v0.4/GraphLayout/src/draw.jl:135\n",
      "WARNING: Base.String is deprecated, use AbstractString instead.\n",
      "  likely near /home/jkersulis/.julia/v0.4/GraphLayout/src/draw.jl:23\n",
      "\n",
      " in anonymous at multi.jl:892\n",
      " in run_work_thunk at multi.jl:645\n",
      " [inlined code] from multi.jl:892\n",
      " in anonymous at task.jl:63\n",
      "while loading /home/jkersulis/.julia/v0.4/GraphLayout/src/draw.jl, in expression starting on line 3\n",
      "WARNING: Base.String is deprecated, use AbstractString instead.\n",
      "  likely near /home/jkersulis/.julia/v0.4/GraphLayout/src/draw.jl:3\n",
      "WARNING: Union(args...) is deprecated, use Union{args...} instead.\n",
      " in WARNING: Base.String is deprecated, use AbstractString instead.\n",
      "  likely near /home/jkersulis/.julia/v0.4/GraphLayout/src/draw.jl:3\n",
      "WARNING: Union(args...) is deprecated, use Union{args...} instead.depwarn\n",
      " at deprecated.jl in depwarn at deprecated.jl:73\n",
      ":73\n",
      " in call at deprecated.jl in call at deprecated.jl:50\n",
      ":50\n",
      " in include_string at loading.jl in include_string at loading.jl:266\n",
      ":266\n",
      " in include_from_node1 at ./loading.jl in include_from_node1 at ./loading.jl:307\n",
      ":307\n",
      " in include_string at loading.jl in include_string at loading.jl:266\n",
      ":266\n",
      " in include_from_node1 at ./loading.jl in include_from_node1 at ./loading.jl:307\n",
      ":307\n",
      " in require at ./loading.jl in eval at ./sysimg.jl:243\n",
      ":14\n",
      " in include_string at loading.jl in anonymous at multi.jl:266\n",
      ":1330\n",
      " in include_from_node1 at ./loading.jl in anonymous at multi.jl:307\n",
      ":889\n",
      " in include_string at loading.jl in run_work_thunk at multi.jl:266\n",
      ":645\n",
      " in include_from_node1 at ./loading.jl in run_work_thunk at multi.jl:307\n",
      ":654\n",
      " in eval at ./sysimg.jl in anonymous at task.jl:14\n",
      ":58\n",
      "while loading /home/jkersulis/.julia/v0.4/GraphLayout/src/draw.jl, in expression starting on line 3 in \n",
      "anonymousWARNING: Base.String is deprecated, use AbstractString instead.\n",
      "  likely near /home/jkersulis/.julia/v0.4/GraphLayout/src/draw.jl:23\n",
      "WARNING: Base.String is deprecated, use AbstractString instead.\n",
      "  likely near /home/jkersulis/.julia/v0.4/GraphLayout/src/draw.jl:135\n",
      "WARNING: Base.String is deprecated, use AbstractString instead.\n",
      "  likely near /home/jkersulis/.julia/v0.4/GraphLayout/src/draw.jl:23\n",
      " at multi.jl:1350\n",
      " in anonymous at multi.jl:892\n",
      " in run_work_thunk at multi.jl:645\n",
      " [inlined code] from multi.jl:892\n",
      " in anonymous at task.jl:63\n",
      "while loading /home/jkersulis/.julia/v0.4/GraphLayout/src/draw.jl, in expression starting on line 3\n",
      "WARNING: using TemporalInstanton.mat2tmpinst in module Main conflicts with an existing identifier.\n",
      "WARNING: using TemporalInstanton.mat2tmpinst in module Main conflicts with an existing identifier.\n",
      "WARNING: using TemporalInstanton.mat2tmpinst in module Main conflicts with an existing identifier.\n"
     ]
    }
   ],
   "source": [
    "addprocs(2) # vary number of concurrent processes here\n",
    "@everywhere include(\"../src/TemporalInstanton.jl\")\n",
    "@everywhere include(\"../src/mat2tmpinst.jl\")\n",
    "@everywhere using TemporalInstanton"
   ]
  },
  {
   "cell_type": "code",
   "execution_count": 1,
   "metadata": {
    "collapsed": false,
    "scrolled": true
   },
   "outputs": [],
   "source": [
    "include(\"../src/TemporalInstanton.jl\")\n",
    "using TemporalInstanton"
   ]
  },
  {
   "cell_type": "code",
   "execution_count": 2,
   "metadata": {
    "collapsed": false,
    "scrolled": false
   },
   "outputs": [
    {
     "name": "stdout",
     "output_type": "stream",
     "text": [
      "r=0 check: \tremoving 1 lines\n",
      "ISF pre-check: \tremoving lines Int64[]\n",
      "  "
     ]
    },
    {
     "data": {
      "text/plain": [
       "104-element Array{Tuple{Float64,Int64},1}:\n",
       " (0.263787830020006,25)  \n",
       " (0.3273164183285288,30) \n",
       " (1.2886107366327355,69) \n",
       " (2.2041515936832066,89) \n",
       " (2.322973886040895,118) \n",
       " (2.42316154712363,64)   \n",
       " (4.67875546231252,42)   \n",
       " (4.865240811106734,102) \n",
       " (4.899167201158152,31)  \n",
       " (5.678266048785588,80)  \n",
       " (5.938620037616521,1)   \n",
       " (6.439172990446961,100) \n",
       " (6.4608887584718095,62) \n",
       " ⋮                       \n",
       " (178.0855817862111,99)  \n",
       " (303.00328573243416,103)\n",
       " (370.61443512027347,66) \n",
       " (370.61443512027347,67) \n",
       " (391.3070873721824,33)  \n",
       " (428.94449223314234,40) \n",
       " (923.97998538764,72)    \n",
       " (979.1988880469704,117) \n",
       " (1319.8524187115077,79) \n",
       " (1390.0270570261027,110)\n",
       " (1967.2698882361206,73) \n",
       " (1967.2698882361206,74) "
      ]
     },
     "execution_count": 2,
     "metadata": {},
     "output_type": "execute_result"
    },
    {
     "name": "stdout",
     "output_type": "stream",
     "text": [
      "9.178186 seconds (9.16 M allocations: 1.218 GB, 1.96% gc time)\n"
     ]
    }
   ],
   "source": [
    "# compile everything with this run:\n",
    "inputData = load_rts96_data(return_as_type=true);\n",
    "# Thermal model parameters:\n",
    "inputData.Tamb = 35. # C\n",
    "inputData.T0 = 60. #46. # initial line steady-state temp\n",
    "\n",
    "inputData.time_values = 0:30:300 # five minutes in 30-sec steps\n",
    "inputData.int_length = 300. # seconds = 5 min\n",
    "Gp,Dp,Rp = inputData.G0,inputData.D0,inputData.R0\n",
    "inputData.G0 = [0.7*Gp;0.7*Gp;0.7*Gp;0.7*Gp;0.7*Gp;0.7*Gp]\n",
    "inputData.D0 = [0.9*Dp;0.9*Dp;0.9*Dp;0.9*Dp;0.9*Dp;0.9*Dp]\n",
    "inputData.R0 = [Rp;1.1*Rp;1.2*Rp;1.3*Rp;1.4*Rp;1.5*Rp]\n",
    "\n",
    "@time results = solve_temporal_instanton(inputData);\n",
    "\n",
    "n = length(inputData.k)\n",
    "nr = length(inputData.Ridx)\n",
    "T = convert(Int64,length(inputData.G0)/n)\n",
    "outputData = process_instanton_results(results,n,nr,T,return_as_type=true);\n",
    "\n",
    "sort(outputData.score)"
   ]
  },
  {
   "cell_type": "code",
   "execution_count": 17,
   "metadata": {
    "collapsed": false
   },
   "outputs": [
    {
     "data": {
      "text/plain": [
       "3"
      ]
     },
     "execution_count": 17,
     "metadata": {},
     "output_type": "execute_result"
    }
   ],
   "source": [
    "size(rand(5,3),2)"
   ]
  },
  {
   "cell_type": "code",
   "execution_count": 3,
   "metadata": {
    "collapsed": true
   },
   "outputs": [
    {
     "data": {
      "text/plain": [
       "558-element Array{Float64,1}:\n",
       "   -0.318777 \n",
       "  -18.1368   \n",
       "   36.3913   \n",
       "   79.5597   \n",
       "   -7.08758  \n",
       "  -15.057    \n",
       "    0.54152  \n",
       "  -93.5651   \n",
       "   -2.51313  \n",
       "  226.227    \n",
       "  383.593    \n",
       " -866.299    \n",
       "   78.9539   \n",
       "    ⋮        \n",
       "   -0.14828  \n",
       "   -0.222527 \n",
       "    0.0285971\n",
       "   -0.0473885\n",
       "    0.0817449\n",
       "    0.0      \n",
       "    0.0      \n",
       "    0.0      \n",
       "    0.0      \n",
       "    0.0      \n",
       "    0.0      \n",
       "    0.0      "
      ]
     },
     "execution_count": 3,
     "metadata": {},
     "output_type": "execute_result"
    }
   ],
   "source": [
    "using JLD\n",
    "Apart = load(\"Apart.jld\")\n",
    "Qobj,A,T,b = Apart[\"Qobj\"],Apart[\"A\"],Apart[\"T\"],Apart[\"b\"]\n",
    "\n",
    "A1,A2,idx1,idx2,idx3 = TemporalInstanton.partition_A(A,Qobj,T)\n",
    "\n",
    "x_star = load(\"xstar.jld\")[\"x_star\"]"
   ]
  },
  {
   "cell_type": "code",
   "execution_count": 7,
   "metadata": {
    "collapsed": true
   },
   "outputs": [
    {
     "data": {
      "text/plain": [
       "444-element Array{Int64,1}:\n",
       "  19\n",
       "  20\n",
       "  21\n",
       "  22\n",
       "  23\n",
       "  24\n",
       "  25\n",
       "  26\n",
       "  27\n",
       "  28\n",
       "  29\n",
       "  30\n",
       "  31\n",
       "   ⋮\n",
       " 541\n",
       " 542\n",
       " 543\n",
       " 544\n",
       " 545\n",
       " 546\n",
       " 547\n",
       " 548\n",
       " 549\n",
       " 550\n",
       " 551\n",
       " 552"
      ]
     },
     "execution_count": 7,
     "metadata": {},
     "output_type": "execute_result"
    }
   ],
   "source": [
    "idx2"
   ]
  },
  {
   "cell_type": "code",
   "execution_count": 16,
   "metadata": {
    "collapsed": false
   },
   "outputs": [
    {
     "data": {
      "text/plain": [
       "558-element Array{Float64,1}:\n",
       "   0.0      \n",
       "   0.0      \n",
       "   0.0      \n",
       "   0.0      \n",
       "   0.0      \n",
       "   0.0      \n",
       "   0.0      \n",
       "   0.0      \n",
       "   0.0      \n",
       "   0.0      \n",
       "   0.0      \n",
       "   0.0      \n",
       "   0.0      \n",
       "   ⋮        \n",
       "  -0.198504 \n",
       "  -0.253345 \n",
       "  -0.195784 \n",
       "  -0.0732502\n",
       "  -0.208325 \n",
       " -19.1781   \n",
       "   0.0      \n",
       "   0.0      \n",
       "   0.0      \n",
       "   0.0      \n",
       "   0.0      \n",
       "   0.0      "
      ]
     },
     "execution_count": 16,
     "metadata": {},
     "output_type": "execute_result"
    }
   ],
   "source": [
    "n = size(A,2)\n",
    "x = zeros(n)\n",
    "\n",
    "x[idx2] = (b'*A2/(A2'*A2))'[:]\n",
    "x"
   ]
  },
  {
   "cell_type": "code",
   "execution_count": 6,
   "metadata": {
    "collapsed": false
   },
   "outputs": [
    {
     "data": {
      "text/plain": [
       "444-element Array{Float64,1}:\n",
       "   2.35215e-12\n",
       "   0.00105911 \n",
       "  -0.0514843  \n",
       "   0.0114559  \n",
       "   0.0186887  \n",
       "   0.0383686  \n",
       "   0.0676026  \n",
       "   0.0674405  \n",
       "  -0.0252896  \n",
       "   0.00121349 \n",
       "  -0.0913014  \n",
       "  -0.10344    \n",
       "  -0.134402   \n",
       "   ⋮          \n",
       "  -0.141204   \n",
       "  -0.13954    \n",
       "  -0.178547   \n",
       "  -0.189578   \n",
       "  -0.145823   \n",
       "  -0.172711   \n",
       "  -0.198504   \n",
       "  -0.253345   \n",
       "  -0.195784   \n",
       "  -0.0732502  \n",
       "  -0.208325   \n",
       " -19.1781     "
      ]
     },
     "execution_count": 6,
     "metadata": {},
     "output_type": "execute_result"
    }
   ],
   "source": [
    "(b'*A2/(A2'*A2))'[:]"
   ]
  },
  {
   "cell_type": "code",
   "execution_count": 4,
   "metadata": {
    "collapsed": false
   },
   "outputs": [
    {
     "data": {
      "text/plain": [
       "552-element Array{Int64,1}:\n",
       "   1\n",
       "   2\n",
       "   3\n",
       "   4\n",
       "   5\n",
       "   6\n",
       "   7\n",
       "   8\n",
       "   9\n",
       "  10\n",
       "  11\n",
       "  12\n",
       "  13\n",
       "   ⋮\n",
       " 541\n",
       " 542\n",
       " 543\n",
       " 544\n",
       " 545\n",
       " 546\n",
       " 547\n",
       " 548\n",
       " 549\n",
       " 550\n",
       " 551\n",
       " 552"
      ]
     },
     "execution_count": 4,
     "metadata": {},
     "output_type": "execute_result"
    }
   ],
   "source": [
    "[idx1;idx2]"
   ]
  },
  {
   "cell_type": "code",
   "execution_count": 6,
   "metadata": {
    "collapsed": false
   },
   "outputs": [
    {
     "data": {
      "text/plain": [
       "552-element Array{Float64,1}:\n",
       "   -0.318777  \n",
       "  -18.1368    \n",
       "   36.3913    \n",
       "   79.5597    \n",
       "   -7.08758   \n",
       "  -15.057     \n",
       "    0.54152   \n",
       "  -93.5651    \n",
       "   -2.51313   \n",
       "  226.227     \n",
       "  383.593     \n",
       " -866.299     \n",
       "   78.9539    \n",
       "    ⋮         \n",
       "   -0.088843  \n",
       "   -0.0671526 \n",
       "   -0.116673  \n",
       "   -0.129224  \n",
       "   -0.00869725\n",
       "    0.0207089 \n",
       "   -0.14828   \n",
       "   -0.222527  \n",
       "    0.0285971 \n",
       "   -0.0473885 \n",
       "    0.0817449 \n",
       "    0.0       "
      ]
     },
     "execution_count": 6,
     "metadata": {},
     "output_type": "execute_result"
    }
   ],
   "source": [
    "[A1 A2]\\b"
   ]
  },
  {
   "cell_type": "code",
   "execution_count": null,
   "metadata": {
    "collapsed": true
   },
   "outputs": [],
   "source": [
    "using PyPlot\n",
    "PyPlot.svg(true)\n",
    "\n",
    "t = load(\"../data/timing.jld\")[\"timeVecs\"]\n",
    "\n",
    "tTrans    = [ti[1] for ti in t]*1e3\n",
    "tKern     = [ti[2] for ti in t]*1e3\n",
    "tEig      = [ti[3] for ti in t]*1e3\n",
    "tRot      = [ti[4] for ti in t]*1e3\n",
    "tSec      = [ti[5] for ti in t]*1e3\n",
    "tMap      = [ti[6] for ti in t]*1e3\n",
    "misc = outputData.linetimes*1e3 - (tMap+tSec+tRot+tEig+tKern+tTrans)\n",
    "\n",
    "xvals = collect(1:length(tTrans))\n",
    "\n",
    "fig = figure(figsize=(11,5))\n",
    "subplot(1,2,1)\n",
    "title(\"RTS-96 QCQP sol. time breakdown\")\n",
    "axis([1;length(xvals);0;50])\n",
    "xlabel(\"line index\")\n",
    "ylabel(\"time (ms)\")\n",
    "\n",
    "bar(xvals, tTrans, color = \"r\", linewidth=0, width=0.9)\n",
    "bar(xvals, tKern,  color = \"g\", bottom = tTrans, linewidth=0, width=0.9)\n",
    "bar(xvals, tEig,   color = \"b\", bottom = tKern+tTrans, linewidth=0, width=0.9)\n",
    "bar(xvals, tRot,   color = \"c\", bottom = tEig+tKern+tTrans, linewidth=0, width=0.9)\n",
    "bar(xvals, tSec,   color = \"m\", bottom = tRot+tEig+tKern+tTrans, linewidth=0, width=0.9)\n",
    "bar(xvals, tMap,   color = \"y\", bottom = tSec+tRot+tEig+tKern+tTrans, linewidth=0, width=0.9)\n",
    "bar(xvals, misc,   color = \"k\", bottom = tMap+tSec+tRot+tEig+tKern+tTrans, linewidth=0,width=0.9, alpha=0.5)\n",
    "\n",
    "labels = [\"Trans.\";\n",
    "    \"Kernel rot.\";\n",
    "    \"Eig\";\n",
    "    \"Rot.\";\n",
    "    \"Secular\";\n",
    "    \"Map back\";\n",
    "    \"Misc\"]\n",
    "\n",
    "legend(labels,loc=1,ncol=1,fontsize=9,\n",
    "bbox_to_anchor=(1.32, 1.0))\n",
    "\n",
    "subplot(1,2,2)\n",
    "title(\"Mean over all 104 lines\")\n",
    "sizes = [mean(tTrans);\n",
    "    mean(tKern);\n",
    "    mean(tEig);\n",
    "    mean(tRot);\n",
    "    mean(tSec);\n",
    "    mean(tMap);\n",
    "    mean(misc)]\n",
    "scale!(sizes,1/sum(sizes))\n",
    "\n",
    "colors = [\"r\";\n",
    "    \"g\";\n",
    "    \"b\";\n",
    "    \"c\";\n",
    "    \"m\";\n",
    "    \"y\";\n",
    "    \"gray\"]\n",
    "\n",
    "pie(sizes, colors=colors, autopct=\"%1.1f%%\", pctdistance=1.2)\n",
    "# tight_layout()\n",
    "# savefig(\"../images/2015-10-13-timing-analysis-check-one.pdf\")"
   ]
  }
 ],
 "metadata": {
  "kernelspec": {
   "display_name": "Julia 0.4.0",
   "language": "julia",
   "name": "julia-0.4"
  },
  "language_info": {
   "file_extension": ".jl",
   "mimetype": "application/julia",
   "name": "julia",
   "version": "0.4.0"
  }
 },
 "nbformat": 4,
 "nbformat_minor": 0
}
