{
 "cells": [
  {
   "cell_type": "markdown",
   "metadata": {},
   "source": [
    "Suppose $\\dim(\\mathcal{N}(A))=k$ where $A\\in\\mathbb{R}^{m\\times n}$, and we have $(v_1,v_2,\\ldots,v_k)$ such that $\\text{span}(v_1,v_2,\\ldots,v_k) = \\mathcal{N}(A)$. There are two ways to handle the linear constraints $Az=0$ (after translation):\n",
    "\n",
    "1. Come up with $(u_{1},\\ldots,u_{n-k})$ so that $R = [v_1~v_2~\\ldots~v_k~u_{1}~\\ldots~u_{n-k}]$ rotates the space, causing its first $k$ coordinates to lie in $\\mathcal{N}(A)$.\n",
    "    \n",
    "    1. Because this will eliminate the last $n-k$ variables, this is equivalent to replacing $x$ by $Ny$, where $N=[v_1~v_2~\\ldots~v_k]\\in\\mathbb{R}^{n\\times k}$, which will reduce the problem dimension from $n$ variables to $k$ variables.\n",
    "    2. Unfortunately, $N^\\top Q_{obj}N$ and $N^\\top Q_\\theta N$ are not guaranteed to be diagonal.\n",
    "\n",
    "2. Project the problem onto the nullspace of $A$ using the projection matrix $P_\\mathcal{N}=NN^\\top$. This does not change the problem dimension, but when we replace $x$ by $P_\\mathcal{N}y$ we know that any feasible $y$ will correspond to a vector $x$ satisfying $Ax=0$.\n",
    "    1. Unfortunately, $P_\\mathcal{N}^\\top Q_{obj} P_\\mathcal{N}$ and $P_\\mathcal{N}^\\top Q_\\theta P_\\mathcal{N}$ are not guaranteed to be diagonal."
   ]
  }
 ],
 "metadata": {
  "kernelspec": {
   "display_name": "Julia",
   "language": "julia",
   "name": "julia"
  },
  "language_info": {
   "name": "julia",
   "version": "0.3.6"
  }
 },
 "nbformat": 4,
 "nbformat_minor": 0
}
