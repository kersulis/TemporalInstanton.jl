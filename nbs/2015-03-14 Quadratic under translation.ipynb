{
 "cells": [
  {
   "cell_type": "markdown",
   "metadata": {},
   "source": [
    "# Quadratic under translation\n",
    "\n",
    "Ian recently sent me new notes. Because we are not taking the norm over all variables, the point $x^*$ cannot be chosen as the min-norm point in the set $\\{x:Ax=b\\}$. Rather, we must choose $x^*$ to be a solution to the following optimization problem:\n",
    "\n",
    "\\begin{align}\n"
   ]
  },
  {
   "cell_type": "code",
   "execution_count": 1,
   "metadata": {
    "collapsed": false
   },
   "outputs": [
    {
     "data": {
      "text/plain": [
       "min_norm (generic function with 2 methods)"
      ]
     },
     "execution_count": 1,
     "metadata": {},
     "output_type": "execute_result"
    }
   ],
   "source": [
    "function min_norm(A,b,Q=nothing)\n",
    "    \"\"\" Find the point x* in the set Ax=b which is\n",
    "    closest to the origin in the 2-norm sense.\n",
    "\n",
    "    If optional diagonal Q is specified, partition problem \n",
    "    into x1 and x2, where x1 corresponds to zeros in Q, and\n",
    "    x2 has remaining variables.\n",
    "    \"\"\"\n",
    "    m,n = size(A)\n",
    "    if m < n\n",
    "        x_star = \\(A,b)\n",
    "    else\n",
    "        println(\"need m < n\")\n",
    "        return nothing\n",
    "    end\n",
    "    if Q != nothing\n",
    "        p2 = find(diag(Q))\n",
    "        p1 = setdiff(1:size(Q,1),p2)\n",
    "        A1 = A[:,p1]\n",
    "        # A2*A2' is not invertible if A2 is tall.\n",
    "        # In this case, use only enough rows to\n",
    "        # make A2 full rank.\n",
    "        A2 = A[:,p2]\n",
    "        r = rank(A2)\n",
    "        A2inv= A2[end-r+1:end,:]\n",
    "        x1_star = x_star[p1]\n",
    "        \n",
    "        x2_star = A2inv'*((A2inv*A2inv')\\((b-A1*x1_star)[end-r+1:end]))\n",
    "        \n",
    "        return [x1_star,x2_star]#,A1,A2\n",
    "    else\n",
    "        return x_star\n",
    "    end\n",
    "end"
   ]
  },
  {
   "cell_type": "code",
   "execution_count": 185,
   "metadata": {
    "collapsed": false
   },
   "outputs": [
    {
     "data": {
      "text/plain": [
       "4-element Array{Float64,1}:\n",
       " 1.0\n",
       " 1.0\n",
       " 1.0\n",
       " 1.0"
      ]
     },
     "execution_count": 185,
     "metadata": {},
     "output_type": "execute_result"
    }
   ],
   "source": [
    "A = rand(4,5)\n",
    "b = [1,1,1,1]\n",
    "Q = diagm([0,0,0,1,1])\n",
    "x1,x2,A1,A2 = min_norm(A,b,Q)\n",
    "x = [x1,x2]\n",
    "A*x"
   ]
  },
  {
   "cell_type": "code",
   "execution_count": 186,
   "metadata": {
    "collapsed": false
   },
   "outputs": [
    {
     "data": {
      "text/plain": [
       "4-element Array{Float64,1}:\n",
       "  0.90582 \n",
       " -0.235338\n",
       "  0.506393\n",
       "  1.15318 "
      ]
     },
     "execution_count": 186,
     "metadata": {},
     "output_type": "execute_result"
    }
   ],
   "source": [
    "A2*x2"
   ]
  },
  {
   "cell_type": "code",
   "execution_count": 187,
   "metadata": {
    "collapsed": false
   },
   "outputs": [
    {
     "data": {
      "text/plain": [
       "4-element Array{Float64,1}:\n",
       "  0.90582 \n",
       " -0.235338\n",
       "  0.506393\n",
       "  1.15318 "
      ]
     },
     "execution_count": 187,
     "metadata": {},
     "output_type": "execute_result"
    }
   ],
   "source": [
    "b - A1*x1"
   ]
  },
  {
   "cell_type": "code",
   "execution_count": 128,
   "metadata": {
    "collapsed": false
   },
   "outputs": [
    {
     "ename": "LoadError",
     "evalue": "DimensionMismatch(\"\")\nwhile loading In[128], in expression starting on line 1",
     "output_type": "error",
     "traceback": [
      "DimensionMismatch(\"\")\nwhile loading In[128], in expression starting on line 1",
      "",
      " in gemv! at linalg/matmul.jl:208",
      " in * at linalg/matmul.jl:68"
     ]
    }
   ],
   "source": [
    "(b-A1*x)[end-r+1:end]"
   ]
  },
  {
   "cell_type": "code",
   "execution_count": 40,
   "metadata": {
    "collapsed": false
   },
   "outputs": [
    {
     "ename": "LoadError",
     "evalue": "DimensionMismatch(\"matrix is not square\")\nwhile loading In[40], in expression starting on line 5",
     "output_type": "error",
     "traceback": [
      "DimensionMismatch(\"matrix is not square\")\nwhile loading In[40], in expression starting on line 5",
      "",
      " in chksquare at linalg.jl:170",
      " in Triangular at linalg/triangular.jl:6 (repeats 2 times)",
      " in A_ldiv_B! at linalg/factorization.jl:385",
      " in \\ at linalg/factorization.jl:484",
      " in \\ at linalg/dense.jl:417",
      " in min_norm at In[28]:11"
     ]
    }
   ],
   "source": [
    "A = [0 0 1 0;\n",
    "    0 0 0 1;\n",
    "    0 0 0 0]\n",
    "b = [1,1,1]\n",
    "x = min_norm(A,b,2)"
   ]
  },
  {
   "cell_type": "code",
   "execution_count": 124,
   "metadata": {
    "collapsed": false
   },
   "outputs": [
    {
     "data": {
      "text/plain": [
       "5-element Array{Float64,1}:\n",
       "   -3.41968 \n",
       "    0.295269\n",
       "    2.8044  \n",
       " -374.682   \n",
       "  919.724   "
      ]
     },
     "execution_count": 124,
     "metadata": {},
     "output_type": "execute_result"
    }
   ],
   "source": [
    "x"
   ]
  },
  {
   "cell_type": "code",
   "execution_count": 121,
   "metadata": {
    "collapsed": false
   },
   "outputs": [
    {
     "data": {
      "text/plain": [
       "2x2 Array{Float64,2}:\n",
       "  1727.64  -4369.45\n",
       " -4369.45  11057.5 "
      ]
     },
     "execution_count": 121,
     "metadata": {},
     "output_type": "execute_result"
    }
   ],
   "source": [
    "(A2*A2')^-1"
   ]
  },
  {
   "cell_type": "code",
   "execution_count": 104,
   "metadata": {
    "collapsed": false
   },
   "outputs": [
    {
     "data": {
      "text/plain": [
       "2-element Array{Int64,1}:\n",
       " 3\n",
       " 4"
      ]
     },
     "execution_count": 104,
     "metadata": {},
     "output_type": "execute_result"
    }
   ],
   "source": [
    "p1 = find(diag(Q))\n",
    "p2 = setdiff(1:size(Q,1),p1)"
   ]
  },
  {
   "cell_type": "code",
   "execution_count": 105,
   "metadata": {
    "collapsed": false
   },
   "outputs": [
    {
     "data": {
      "text/plain": [
       "4x2 Array{Float64,2}:\n",
       " 0.653251   0.64195  \n",
       " 0.0959413  0.501246 \n",
       " 0.739873   0.0973598\n",
       " 0.0910069  0.786732 "
      ]
     },
     "execution_count": 105,
     "metadata": {},
     "output_type": "execute_result"
    }
   ],
   "source": [
    "A1 = A[:,p1]\n",
    "A2 = A[:,p2]"
   ]
  },
  {
   "cell_type": "code",
   "execution_count": 109,
   "metadata": {
    "collapsed": false
   },
   "outputs": [
    {
     "data": {
      "text/plain": [
       "2"
      ]
     },
     "execution_count": 109,
     "metadata": {},
     "output_type": "execute_result"
    }
   ],
   "source": [
    "r = rank(A2)\n",
    "A2[end-r+1:end,:]"
   ]
  },
  {
   "cell_type": "code",
   "execution_count": 89,
   "metadata": {
    "collapsed": false
   },
   "outputs": [
    {
     "data": {
      "text/plain": [
       "3-element Array{Float64,1}:\n",
       " 0.511124\n",
       " 0.933266\n",
       " 0.206815"
      ]
     },
     "execution_count": 89,
     "metadata": {},
     "output_type": "execute_result"
    }
   ],
   "source": [
    "A[:,3]"
   ]
  },
  {
   "cell_type": "code",
   "execution_count": 81,
   "metadata": {
    "collapsed": false
   },
   "outputs": [
    {
     "data": {
      "text/plain": [
       "-155.2992375676046"
      ]
     },
     "execution_count": 81,
     "metadata": {},
     "output_type": "execute_result"
    }
   ],
   "source": [
    "A2"
   ]
  },
  {
   "cell_type": "code",
   "execution_count": 77,
   "metadata": {
    "collapsed": false
   },
   "outputs": [
    {
     "ename": "LoadError",
     "evalue": "DimensionMismatch(\"\")\nwhile loading In[77], in expression starting on line 1",
     "output_type": "error",
     "traceback": [
      "DimensionMismatch(\"\")\nwhile loading In[77], in expression starting on line 1",
      "",
      " in gemv! at linalg/matmul.jl:208",
      " in * at linalg/matmul.jl:68"
     ]
    }
   ],
   "source": [
    "A*x"
   ]
  },
  {
   "cell_type": "code",
   "execution_count": 42,
   "metadata": {
    "collapsed": false
   },
   "outputs": [
    {
     "name": "stdout",
     "output_type": "stream",
     "text": [
      "Base.\\(A, B)\n",
      "\n",
      "   Matrix division using a polyalgorithm. For input matrices \"A\" and\n",
      "   \"B\", the result \"X\" is such that \"A*X == B\" when \"A\" is\n",
      "   square.  The solver that is used depends upon the structure of\n",
      "   \"A\".  A direct solver is used for upper- or lower triangular\n",
      "   \"A\".  For Hermitian \"A\" (equivalent to symmetric \"A\" for non-\n",
      "   complex \"A\") the \"BunchKaufman\" factorization is used.\n",
      "   Otherwise an LU factorization is used. For rectangular \"A\" the\n",
      "   result is the minimum-norm least squares solution computed by a\n",
      "   pivoted QR factorization of \"A\" and a rank estimate of A based on\n",
      "   the R factor. For sparse, square \"A\" the LU factorization (from\n",
      "   UMFPACK) is used.\n",
      "\n",
      "Base.\\(x, y)\n",
      "\n",
      "   Left division operator: multiplication of \"y\" by the inverse of\n",
      "   \"x\" on the left. Gives floating-point results for integer\n",
      "   arguments.\n"
     ]
    }
   ],
   "source": [
    "?\\"
   ]
  },
  {
   "cell_type": "code",
   "execution_count": 35,
   "metadata": {
    "collapsed": false
   },
   "outputs": [
    {
     "data": {
      "text/plain": [
       "3x4 Array{Int64,2}:\n",
       " 0  0  1  0\n",
       " 0  0  0  1\n",
       " 0  0  0  0"
      ]
     },
     "execution_count": 35,
     "metadata": {},
     "output_type": "execute_result"
    }
   ],
   "source": [
    "A"
   ]
  },
  {
   "cell_type": "code",
   "execution_count": 36,
   "metadata": {
    "collapsed": false
   },
   "outputs": [
    {
     "data": {
      "text/plain": [
       "3-element Array{Int64,1}:\n",
       " 1\n",
       " 1\n",
       " 1"
      ]
     },
     "execution_count": 36,
     "metadata": {},
     "output_type": "execute_result"
    }
   ],
   "source": [
    "b"
   ]
  },
  {
   "cell_type": "code",
   "execution_count": 34,
   "metadata": {
    "collapsed": false
   },
   "outputs": [
    {
     "ename": "LoadError",
     "evalue": "DimensionMismatch(\"matrix is not square\")\nwhile loading In[34], in expression starting on line 1",
     "output_type": "error",
     "traceback": [
      "DimensionMismatch(\"matrix is not square\")\nwhile loading In[34], in expression starting on line 1",
      "",
      " in chksquare at linalg.jl:170",
      " in Triangular at linalg/triangular.jl:6 (repeats 2 times)",
      " in A_ldiv_B! at linalg/factorization.jl:385",
      " in \\ at linalg/factorization.jl:484",
      " in \\ at linalg/dense.jl:417"
     ]
    }
   ],
   "source": [
    "\\(A,b)"
   ]
  },
  {
   "cell_type": "markdown",
   "metadata": {},
   "source": [
    "The purpose of this new method is to find $x^*:Ax^*=b$ so that translation to $z = x - x^*$ works out as\n",
    "\n",
    "\\begin{align}\n",
    "x^\\top Q_\\theta x &= x_2^\\top x_2 \\\\\n",
    "&= (z_2+x_2^*)^\\top"
   ]
  }
 ],
 "metadata": {
  "kernelspec": {
   "display_name": "Julia",
   "language": "julia",
   "name": "julia"
  },
  "language_info": {
   "name": "julia",
   "version": "0.3.6"
  }
 },
 "nbformat": 4,
 "nbformat_minor": 0
}
