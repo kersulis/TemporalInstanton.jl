{
 "cells": [
  {
   "cell_type": "markdown",
   "metadata": {},
   "source": [
    "# The need for smarter factorization\n",
    "At this point, the most expensive operations involve factorization.\n",
    "\n",
    "![Timing](../images/2015-11-02-timing-analysis-new-secular.svg)\n",
    "\n",
    "1. The kernel rotation should be handled with LU.\n",
    "2. The Eigendecomposition should be replaced by an efficient SVD."
   ]
  },
  {
   "cell_type": "markdown",
   "metadata": {},
   "source": [
    "## 1. Null space basis via LU (replacing QR)\n",
    "\n",
    "Until now I have been using [SPQR][1] to find a basis for the nullspace of $A$. Now I want to use LU, which is 90% faster.\n",
    "\n",
    "Wikipedia explains [how to obtain a null space basis using LU][2]. \n",
    "\n",
    "[1]: http://faculty.cse.tamu.edu/davis/suitesparse.html\n",
    "[2]: https://en.wikipedia.org/wiki/Kernel_(linear_algebra)#Computation_by_Gaussian_elimination"
   ]
  },
  {
   "cell_type": "code",
   "execution_count": 511,
   "metadata": {
    "collapsed": false,
    "scrolled": true
   },
   "outputs": [
    {
     "data": {
      "text/plain": [
       "15x10 Array{Float64,2}:\n",
       " 0.0       0.0        0.0           0.0       …   0.0          0.0  0.0\n",
       " 0.0       0.0        0.0           0.0           0.0          0.0  0.0\n",
       " 0.0       0.0        0.0           0.0           0.0          0.0  0.0\n",
       " 0.0       0.0        0.0           0.0           0.0          0.0  0.0\n",
       " 0.0       0.0        0.0           0.0           0.0          0.0  0.0\n",
       " 0.0       0.0        0.0           0.0       …   0.0          0.0  0.0\n",
       " 0.0       0.0       -4.16334e-17   0.0          -3.46945e-18  0.0  0.0\n",
       " 0.0       0.0        0.0           0.0           0.0          0.0  0.0\n",
       " 0.0       0.0        0.0           0.0           3.03577e-18  0.0  0.0\n",
       " 0.0       0.0        0.0           0.0          -1.73472e-18  0.0  0.0\n",
       " 0.310588  0.0        0.0           0.0       …   1.73472e-18  0.0  0.0\n",
       " 0.0       0.703905  -2.77556e-17   0.0          -3.46945e-18  0.0  0.0\n",
       " 0.0       0.742088  -0.172029      0.0           0.0          0.0  0.0\n",
       " 0.689917  0.0       -0.0195292     0.341029      2.60209e-18  0.0  0.0\n",
       " 0.0       0.165443   0.229223     -0.180521     -8.67362e-19  0.0  0.0"
      ]
     },
     "execution_count": 511,
     "metadata": {},
     "output_type": "execute_result"
    }
   ],
   "source": [
    "# A = sprand(5,10,0.2)\n",
    "A = sparse([1 0 -3 0 2 -8;\n",
    "    0 1 5 0 -1 4;\n",
    "    0 0 0 1 7 -9;\n",
    "    0 0 0 0 0 0])\n",
    "A = [spzeros(5,20);sprand(10,20,0.2)]\n",
    "\n",
    "# \"\"\"\n",
    "# Find a basis for the nullspace of A.\n",
    "# Uses sparse LU.\n",
    "# \"\"\"\n",
    "# function kernel(A)\n",
    "    m,n = size(A)\n",
    "dim_n = n - rank(full(A))\n",
    "# println(dim_n)\n",
    "    # augment A with identity:\n",
    "AI = [A;speye(n)]\n",
    "AI = full(AI)\n",
    "    # factorize AI':\n",
    "F = lufact(AI')\n",
    "\n",
    "# the null basis N comes from the rightmost n-m\n",
    "# columns of U'. Row operations on AI' correspond\n",
    "# to column operations on AI, so permuting rows of\n",
    "# AI' means permuting columns of AI.\n",
    "U = full(F[:U])'\n",
    "\n",
    "# N = U[m+1:end,end-dim_n+1:end]\n",
    "N = U[m+1:end,end-dim_n+1:end]\n",
    "A*N\n",
    "# maxabs(A*N)"
   ]
  },
  {
   "cell_type": "code",
   "execution_count": 512,
   "metadata": {
    "collapsed": false
   },
   "outputs": [
    {
     "data": {
      "text/plain": [
       "10"
      ]
     },
     "execution_count": 512,
     "metadata": {},
     "output_type": "execute_result"
    }
   ],
   "source": [
    "dim_n"
   ]
  },
  {
   "cell_type": "code",
   "execution_count": 508,
   "metadata": {
    "collapsed": false
   },
   "outputs": [
    {
     "data": {
      "text/plain": [
       "6-element Array{Int32,1}:\n",
       " 6\n",
       " 3\n",
       " 5\n",
       " 4\n",
       " 1\n",
       " 2"
      ]
     },
     "execution_count": 508,
     "metadata": {},
     "output_type": "execute_result"
    }
   ],
   "source": [
    "F[:p]"
   ]
  },
  {
   "cell_type": "code",
   "execution_count": 505,
   "metadata": {
    "collapsed": false
   },
   "outputs": [
    {
     "data": {
      "text/plain": [
       "6x3 Array{Float64,2}:\n",
       "  0.0        0.0   0.0  \n",
       "  0.0        0.0   0.0  \n",
       "  0.0        0.0   1.0  \n",
       "  1.0        0.0   0.0  \n",
       " -0.210526   0.0   0.0  \n",
       " -0.0526316  1.0  -0.375"
      ]
     },
     "execution_count": 505,
     "metadata": {},
     "output_type": "execute_result"
    }
   ],
   "source": [
    "Ntest = U[m+1:end,F[:p][end-dim_n+1:end]]"
   ]
  },
  {
   "cell_type": "code",
   "execution_count": 503,
   "metadata": {
    "collapsed": false
   },
   "outputs": [
    {
     "data": {
      "text/plain": [
       "4x3 Array{Float64,2}:\n",
       " 0.0          -8.0  0.0  \n",
       " 0.0           4.0  3.5  \n",
       " 5.55112e-17  -9.0  3.375\n",
       " 0.0           0.0  0.0  "
      ]
     },
     "execution_count": 503,
     "metadata": {},
     "output_type": "execute_result"
    }
   ],
   "source": [
    "A*Ntest"
   ]
  },
  {
   "cell_type": "code",
   "execution_count": 500,
   "metadata": {
    "collapsed": false
   },
   "outputs": [
    {
     "data": {
      "text/plain": [
       "10x6 Array{Float64,2}:\n",
       " -8.0   0.0    0.0    0.0         0.0        0.0     \n",
       "  4.0   3.5    0.0    0.0         0.0        0.0     \n",
       " -9.0   3.375  4.75   0.0         0.0        0.0     \n",
       "  0.0   0.0    0.0    0.0         0.0        0.0     \n",
       "  0.0   0.0    0.0    0.0         1.0        0.0     \n",
       "  0.0   0.0    0.0    0.0         0.0        1.0     \n",
       "  0.0   1.0    0.0    0.0        -0.142857  -0.285714\n",
       "  0.0   0.0    0.0    1.0         0.0        0.0     \n",
       "  0.0   0.0    1.0   -0.210526    0.338346   0.203008\n",
       "  1.0  -0.375  0.25  -0.0526316   0.263158   0.157895"
      ]
     },
     "execution_count": 500,
     "metadata": {},
     "output_type": "execute_result"
    }
   ],
   "source": [
    "U"
   ]
  },
  {
   "cell_type": "code",
   "execution_count": 478,
   "metadata": {
    "collapsed": false
   },
   "outputs": [
    {
     "data": {
      "text/plain": [
       "6x4 Array{Float64,2}:\n",
       "  1.0    0.0        0.0       0.0\n",
       "  0.375  1.0        0.0       0.0\n",
       " -0.25   0.0        1.0       0.0\n",
       " -0.0    0.0        0.210526  1.0\n",
       " -0.0    0.285714  -0.203008  0.0\n",
       " -0.125  0.142857  -0.338346  0.0"
      ]
     },
     "execution_count": 478,
     "metadata": {},
     "output_type": "execute_result"
    }
   ],
   "source": [
    "F = lufact(full(A'))\n",
    "p = invperm(F[:p])\n",
    "F[:L]"
   ]
  },
  {
   "cell_type": "code",
   "execution_count": 479,
   "metadata": {
    "collapsed": false
   },
   "outputs": [
    {
     "data": {
      "text/plain": [
       "6-element Array{Int32,1}:\n",
       " 6\n",
       " 5\n",
       " 2\n",
       " 4\n",
       " 3\n",
       " 1"
      ]
     },
     "execution_count": 479,
     "metadata": {},
     "output_type": "execute_result"
    }
   ],
   "source": [
    "p"
   ]
  },
  {
   "cell_type": "code",
   "execution_count": 495,
   "metadata": {
    "collapsed": false
   },
   "outputs": [
    {
     "data": {
      "text/plain": [
       "6x4 Array{Float64,2}:\n",
       " -0.125  0.142857  -0.338346  0.0\n",
       "  0.0    0.285714  -0.203008  0.0\n",
       "  0.375  1.0        0.0       0.0\n",
       "  0.0    0.0        0.210526  1.0\n",
       " -0.25   0.0        1.0       0.0\n",
       "  1.0    0.0        0.0       0.0"
      ]
     },
     "execution_count": 495,
     "metadata": {},
     "output_type": "execute_result"
    }
   ],
   "source": [
    "(F[:L]'*(eye(n)[:,p]))'"
   ]
  },
  {
   "cell_type": "code",
   "execution_count": 459,
   "metadata": {
    "collapsed": false
   },
   "outputs": [
    {
     "data": {
      "text/plain": [
       "4x6 Array{Int64,2}:\n",
       " 1  0  -3  0   2  -8\n",
       " 0  1   5  0  -1   4\n",
       " 0  0   0  1   7  -9\n",
       " 0  0   0  0   0   0"
      ]
     },
     "execution_count": 459,
     "metadata": {},
     "output_type": "execute_result"
    }
   ],
   "source": [
    "full(A)"
   ]
  },
  {
   "cell_type": "code",
   "execution_count": 263,
   "metadata": {
    "collapsed": false,
    "scrolled": true
   },
   "outputs": [
    {
     "data": {
      "text/plain": [
       "20-element Array{Int32,1}:\n",
       "  6\n",
       " 10\n",
       "  3\n",
       " 12\n",
       " 17\n",
       "  2\n",
       "  8\n",
       " 11\n",
       "  7\n",
       "  5\n",
       "  1\n",
       "  4\n",
       " 13\n",
       " 14\n",
       " 16\n",
       " 15\n",
       "  9\n",
       " 18\n",
       " 19\n",
       " 20"
      ]
     },
     "execution_count": 263,
     "metadata": {},
     "output_type": "execute_result"
    }
   ],
   "source": [
    "F[:p]"
   ]
  },
  {
   "cell_type": "code",
   "execution_count": 196,
   "metadata": {
    "collapsed": false
   },
   "outputs": [
    {
     "data": {
      "text/plain": [
       "10x6 Array{Float64,2}:\n",
       " 1.0  0.0   0.0  0.0   0.0   0.0\n",
       " 0.0  1.0   0.0  0.0   0.0   0.0\n",
       " 0.0  0.0   1.0  0.0   0.0   0.0\n",
       " 0.0  0.0   0.0  1.0   0.0   0.0\n",
       " 0.0  0.0   0.0  0.0   1.0   0.0\n",
       " 0.0  0.0   0.0  0.0   0.0   1.0\n",
       " 0.0  0.0   0.0  0.0   0.0   0.0\n",
       " 0.0  0.0   0.0  1.0   7.0  -9.0\n",
       " 0.0  1.0   5.0  0.0  -1.0   4.0\n",
       " 1.0  0.0  -3.0  0.0   2.0  -8.0"
      ]
     },
     "execution_count": 196,
     "metadata": {},
     "output_type": "execute_result"
    }
   ],
   "source": [
    "full((1./F[:Rs]).*F[:U])'"
   ]
  },
  {
   "cell_type": "code",
   "execution_count": 83,
   "metadata": {
    "collapsed": false
   },
   "outputs": [
    {
     "data": {
      "text/plain": [
       "6x3 Array{Float64,2}:\n",
       " 0.0  0.0        0.0      \n",
       " 0.0  0.0        0.0      \n",
       " 0.0  0.0        0.0      \n",
       " 0.5  0.0        0.0      \n",
       " 0.0  0.0909091  0.0      \n",
       " 0.0  0.0        0.0454545"
      ]
     },
     "execution_count": 83,
     "metadata": {},
     "output_type": "execute_result"
    }
   ],
   "source": [
    "Utest = full(F[:U][invperm(F[:p]),invperm(F[:q])])'\n",
    "Ntest = Utest[m+1:end,end-dim_n+1:end]"
   ]
  },
  {
   "cell_type": "code",
   "execution_count": 39,
   "metadata": {
    "collapsed": false
   },
   "outputs": [
    {
     "name": "stdout",
     "output_type": "stream",
     "text": [
      "search: "
     ]
    },
    {
     "data": {
      "text/latex": [
       "\\begin{verbatim}\n",
       "..  lufact(A [,pivot=Val{true}]) -> F\n",
       "\n",
       "Compute the LU factorization of ``A``. The return type of ``F`` depends on the type of ``A``. In most cases, if ``A`` is a subtype ``S`` of AbstractMatrix with an element type ``T`` supporting ``+``, ``-``, ``*`` and ``/`` the return type is ``LU{T,S{T}}``. If pivoting is chosen (default) the element type should also support ``abs`` and ``<``. When ``A`` is sparse and have element of type ``Float32``, ``Float64``, ``Complex{Float32}``, or ``Complex{Float64}`` the return type is ``UmfpackLU``. Some examples are shown in the table below.\n",
       "\n",
       "======================= ========================= ========================================\n",
       "Type of input ``A``     Type of output ``F``      Relationship between ``F`` and ``A``\n",
       "======================= ========================= ========================================\n",
       ":func:`Matrix`           ``LU``                   ``F[:L]*F[:U] == A[F[:p], :]``\n",
       ":func:`Tridiagonal`      ``LU{T,Tridiagonal{T}}`` ``F[:L]*F[:U] == A[F[:p], :]``\n",
       ":func:`SparseMatrixCSC`  ``UmfpackLU``            ``F[:L]*F[:U] == (F[:Rs] .* A)[F[:p], F[:q]]``\n",
       "======================= ========================= ========================================\n",
       "\n",
       "The individual components of the factorization ``F`` can be accessed by indexing:\n",
       "\n",
       "=========== ======================================= ====== ======================== =============\n",
       "Component   Description                             ``LU`` ``LU{T,Tridiagonal{T}}`` ``UmfpackLU``\n",
       "=========== ======================================= ====== ======================== =============\n",
       "``F[:L]``   ``L`` (lower triangular) part of ``LU``    ✓            ✓                        ✓\n",
       "``F[:U]``   ``U`` (upper triangular) part of ``LU``    ✓            ✓                        ✓\n",
       "``F[:p]``   (right) permutation ``Vector``             ✓            ✓                        ✓\n",
       "``F[:P]``   (right) permutation ``Matrix``             ✓            ✓\n",
       "``F[:q]``   left permutation ``Vector``                                                      ✓\n",
       "``F[:Rs]``  ``Vector`` of scaling factors                                                    ✓\n",
       "``F[:(:)]`` ``(L,U,p,q,Rs)`` components                                                      ✓\n",
       "=========== ======================================= ====== ======================== =============\n",
       "\n",
       "================== ====== ======================== =============\n",
       "Supported function ``LU`` ``LU{T,Tridiagonal{T}}`` ``UmfpackLU``\n",
       "================== ====== ======================== =============\n",
       "     ``/``            ✓\n",
       "     ``\\``            ✓                       ✓             ✓\n",
       "     ``cond``         ✓                                     ✓\n",
       "     ``det``          ✓                       ✓             ✓\n",
       "     ``logdet``       ✓                       ✓\n",
       "     ``logabsdet``    ✓                       ✓\n",
       "     ``size``         ✓                       ✓\n",
       "================== ====== ======================== =============\n",
       "\\end{verbatim}\n"
      ],
      "text/markdown": [
       "```rst\n",
       "..  lufact(A [,pivot=Val{true}]) -> F\n",
       "\n",
       "Compute the LU factorization of ``A``. The return type of ``F`` depends on the type of ``A``. In most cases, if ``A`` is a subtype ``S`` of AbstractMatrix with an element type ``T`` supporting ``+``, ``-``, ``*`` and ``/`` the return type is ``LU{T,S{T}}``. If pivoting is chosen (default) the element type should also support ``abs`` and ``<``. When ``A`` is sparse and have element of type ``Float32``, ``Float64``, ``Complex{Float32}``, or ``Complex{Float64}`` the return type is ``UmfpackLU``. Some examples are shown in the table below.\n",
       "\n",
       "======================= ========================= ========================================\n",
       "Type of input ``A``     Type of output ``F``      Relationship between ``F`` and ``A``\n",
       "======================= ========================= ========================================\n",
       ":func:`Matrix`           ``LU``                   ``F[:L]*F[:U] == A[F[:p], :]``\n",
       ":func:`Tridiagonal`      ``LU{T,Tridiagonal{T}}`` ``F[:L]*F[:U] == A[F[:p], :]``\n",
       ":func:`SparseMatrixCSC`  ``UmfpackLU``            ``F[:L]*F[:U] == (F[:Rs] .* A)[F[:p], F[:q]]``\n",
       "======================= ========================= ========================================\n",
       "\n",
       "The individual components of the factorization ``F`` can be accessed by indexing:\n",
       "\n",
       "=========== ======================================= ====== ======================== =============\n",
       "Component   Description                             ``LU`` ``LU{T,Tridiagonal{T}}`` ``UmfpackLU``\n",
       "=========== ======================================= ====== ======================== =============\n",
       "``F[:L]``   ``L`` (lower triangular) part of ``LU``    ✓            ✓                        ✓\n",
       "``F[:U]``   ``U`` (upper triangular) part of ``LU``    ✓            ✓                        ✓\n",
       "``F[:p]``   (right) permutation ``Vector``             ✓            ✓                        ✓\n",
       "``F[:P]``   (right) permutation ``Matrix``             ✓            ✓\n",
       "``F[:q]``   left permutation ``Vector``                                                      ✓\n",
       "``F[:Rs]``  ``Vector`` of scaling factors                                                    ✓\n",
       "``F[:(:)]`` ``(L,U,p,q,Rs)`` components                                                      ✓\n",
       "=========== ======================================= ====== ======================== =============\n",
       "\n",
       "================== ====== ======================== =============\n",
       "Supported function ``LU`` ``LU{T,Tridiagonal{T}}`` ``UmfpackLU``\n",
       "================== ====== ======================== =============\n",
       "     ``/``            ✓\n",
       "     ``\\``            ✓                       ✓             ✓\n",
       "     ``cond``         ✓                                     ✓\n",
       "     ``det``          ✓                       ✓             ✓\n",
       "     ``logdet``       ✓                       ✓\n",
       "     ``logabsdet``    ✓                       ✓\n",
       "     ``size``         ✓                       ✓\n",
       "================== ====== ======================== =============\n",
       "```\n"
      ],
      "text/plain": [
       "```rst\n",
       "..  lufact(A [,pivot=Val{true}]) -> F\n",
       "\n",
       "Compute the LU factorization of ``A``. The return type of ``F`` depends on the type of ``A``. In most cases, if ``A`` is a subtype ``S`` of AbstractMatrix with an element type ``T`` supporting ``+``, ``-``, ``*`` and ``/`` the return type is ``LU{T,S{T}}``. If pivoting is chosen (default) the element type should also support ``abs`` and ``<``. When ``A`` is sparse and have element of type ``Float32``, ``Float64``, ``Complex{Float32}``, or ``Complex{Float64}`` the return type is ``UmfpackLU``. Some examples are shown in the table below.\n",
       "\n",
       "======================= ========================= ========================================\n",
       "Type of input ``A``     Type of output ``F``      Relationship between ``F`` and ``A``\n",
       "======================= ========================= ========================================\n",
       ":func:`Matrix`           ``LU``                   ``F[:L]*F[:U] == A[F[:p], :]``\n",
       ":func:`Tridiagonal`      ``LU{T,Tridiagonal{T}}`` ``F[:L]*F[:U] == A[F[:p], :]``\n",
       ":func:`SparseMatrixCSC`  ``UmfpackLU``            ``F[:L]*F[:U] == (F[:Rs] .* A)[F[:p], F[:q]]``\n",
       "======================= ========================= ========================================\n",
       "\n",
       "The individual components of the factorization ``F`` can be accessed by indexing:\n",
       "\n",
       "=========== ======================================= ====== ======================== =============\n",
       "Component   Description                             ``LU`` ``LU{T,Tridiagonal{T}}`` ``UmfpackLU``\n",
       "=========== ======================================= ====== ======================== =============\n",
       "``F[:L]``   ``L`` (lower triangular) part of ``LU``    ✓            ✓                        ✓\n",
       "``F[:U]``   ``U`` (upper triangular) part of ``LU``    ✓            ✓                        ✓\n",
       "``F[:p]``   (right) permutation ``Vector``             ✓            ✓                        ✓\n",
       "``F[:P]``   (right) permutation ``Matrix``             ✓            ✓\n",
       "``F[:q]``   left permutation ``Vector``                                                      ✓\n",
       "``F[:Rs]``  ``Vector`` of scaling factors                                                    ✓\n",
       "``F[:(:)]`` ``(L,U,p,q,Rs)`` components                                                      ✓\n",
       "=========== ======================================= ====== ======================== =============\n",
       "\n",
       "================== ====== ======================== =============\n",
       "Supported function ``LU`` ``LU{T,Tridiagonal{T}}`` ``UmfpackLU``\n",
       "================== ====== ======================== =============\n",
       "     ``/``            ✓\n",
       "     ``\\``            ✓                       ✓             ✓\n",
       "     ``cond``         ✓                                     ✓\n",
       "     ``det``          ✓                       ✓             ✓\n",
       "     ``logdet``       ✓                       ✓\n",
       "     ``logabsdet``    ✓                       ✓\n",
       "     ``size``         ✓                       ✓\n",
       "================== ====== ======================== =============\n",
       "```\n"
      ]
     },
     "execution_count": 39,
     "metadata": {},
     "output_type": "execute_result"
    },
    {
     "name": "stdout",
     "output_type": "stream",
     "text": [
      "lufact lufact!\n",
      "\n"
     ]
    }
   ],
   "source": [
    "?lufact"
   ]
  },
  {
   "cell_type": "code",
   "execution_count": null,
   "metadata": {
    "collapsed": true
   },
   "outputs": [],
   "source": [
    "\"\"\"\n",
    "Find an orthonormal basis for the nullspace of A.\n",
    "This matrix may be used to rotate a temporal instanton\n",
    "problem instance to eliminate all but nullity(A) elements.\n",
    "\"\"\"\n",
    "function kernel_rotation(A::SparseMatrixCSC{Float64,Int64}; spqr=true)\n",
    "    m,n = size(A)\n",
    "\n",
    "    # Assume A always has full row rank of m.\n",
    "    # It may be possible for this assumption to fail\n",
    "    # due to numerics, but a rank() check is expensive.\n",
    "    dim_N = n - m # dimension of nullspace of A\n",
    "\n",
    "    if spqr\n",
    "        F = qrfact(sparse(A'))\n",
    "        # B selects last dim_N cols of Q:\n",
    "        B = [zeros(size(A,2)-dim_N,dim_N); eye(dim_N)]\n",
    "        N = sparse(SparseMatrix.SPQR.qmult(SparseMatrix.SPQR.QX, F, SparseMatrix.CHOLMOD.Dense(B)))\n",
    "        return N\n",
    "    else\n",
    "        q = qr(A'; thin=false)[1]\n",
    "        return q[:,end-dim_N+1:end]\n",
    "    end\n",
    "end"
   ]
  },
  {
   "cell_type": "code",
   "execution_count": 32,
   "metadata": {
    "collapsed": false
   },
   "outputs": [
    {
     "data": {
      "text/plain": [
       "4x3 Array{Float64,2}:\n",
       " 0.0          0.0   0.0        \n",
       " 0.0          0.0   2.22045e-16\n",
       " 5.55112e-17  0.0  -2.22045e-16\n",
       " 0.0          0.0   0.0        "
      ]
     },
     "execution_count": 32,
     "metadata": {},
     "output_type": "execute_result"
    }
   ],
   "source": [
    "full(A)*N"
   ]
  },
  {
   "cell_type": "markdown",
   "metadata": {},
   "source": [
    "## Obtaining test matrices\n",
    "To compare various factorization methods, I will generate some temporal instanton analysis QCQP matrices."
   ]
  },
  {
   "cell_type": "markdown",
   "metadata": {},
   "source": [
    "## No more Eig?\n",
    "Upon studying the structure of the rotated constraint matrix, I believe the Eigendecomposition is unnecessary. I modified my code to eschew the eig. Let's see if I get the same numerical results:"
   ]
  },
  {
   "cell_type": "code",
   "execution_count": 1,
   "metadata": {
    "collapsed": true
   },
   "outputs": [
    {
     "name": "stderr",
     "output_type": "stream",
     "text": [
      "WARNING: Base.String is deprecated, use AbstractString instead.\n",
      "  likely near /home/jkersulis/.julia/v0.4/GraphLayout/src/draw.jl:3\n",
      "WARNING: Union(args...) is deprecated, use Union{args...} instead.\n"
     ]
    },
    {
     "name": "stdout",
     "output_type": "stream",
     "text": [
      "r=0 check: \tremoving 1 lines\n"
     ]
    },
    {
     "name": "stderr",
     "output_type": "stream",
     "text": [
      " in depwarn at deprecated.jl:73\n",
      " in call at deprecated.jl:50\n",
      " in include at ./boot.jl:261\n",
      " in include_from_node1 at ./loading.jl:304\n",
      " in include at ./boot.jl:261\n",
      " in include_from_node1 at ./loading.jl:304\n",
      " in require at ./loading.jl:243\n",
      " in include at ./boot.jl:261\n",
      " in include_from_node1 at ./loading.jl:304\n",
      " in include at ./boot.jl:261\n",
      " in include_from_node1 at ./loading.jl:304\n",
      " in include_string at loading.jl:266\n",
      " in execute_request_0x535c5df2 at /home/jkersulis/.julia/v0.4/IJulia/src/execute_request.jl:177\n",
      " in eventloop at /home/jkersulis/.julia/v0.4/IJulia/src/IJulia.jl:141\n",
      " in anonymous at task.jl:447\n",
      "while loading /home/jkersulis/.julia/v0.4/GraphLayout/src/draw.jl, in expression starting on line 3\n",
      "WARNING: Base.String is deprecated, use AbstractString instead.\n",
      "  likely near /home/jkersulis/.julia/v0.4/GraphLayout/src/draw.jl:23\n",
      "WARNING: Base.String is deprecated, use AbstractString instead.\n",
      "  likely near /home/jkersulis/.julia/v0.4/GraphLayout/src/draw.jl:135\n"
     ]
    },
    {
     "name": "stdout",
     "output_type": "stream",
     "text": [
      "ISF pre-check: \tremoving lines Int64[]\n",
      " 11"
     ]
    },
    {
     "data": {
      "text/plain": [
       "104-element Array{Tuple{Float64,Int64},1}:\n",
       " (0.263787830020006,25)  \n",
       " (0.3273164183285288,30) \n",
       " (1.2886107366327355,69) \n",
       " (2.2041515936832066,89) \n",
       " (2.322973886040895,118) \n",
       " (2.42316154712363,64)   \n",
       " (4.67875546231252,42)   \n",
       " (4.865240811106734,102) \n",
       " (4.899167201158152,31)  \n",
       " (5.678266048785588,80)  \n",
       " (5.938620037616521,1)   \n",
       " (6.439172990446961,100) \n",
       " (6.4608887584718095,62) \n",
       " ⋮                       \n",
       " (178.0855817862111,99)  \n",
       " (303.00328573243416,103)\n",
       " (370.61443512027347,66) \n",
       " (370.61443512027347,67) \n",
       " (391.3070873721824,33)  \n",
       " (428.94449223314234,40) \n",
       " (923.97998538764,72)    \n",
       " (979.1988880469704,117) \n",
       " (1319.8524187115077,79) \n",
       " (1390.0270570261027,110)\n",
       " (1967.2698882361206,73) \n",
       " (1967.2698882361206,74) "
      ]
     },
     "execution_count": 1,
     "metadata": {},
     "output_type": "execute_result"
    },
    {
     "name": "stdout",
     "output_type": "stream",
     "text": [
      ".471698 seconds (9.28 M allocations: 1.223 GB, 1.74% gc time)\n"
     ]
    }
   ],
   "source": [
    "include(\"../src/TemporalInstanton.jl\")\n",
    "using TemporalInstanton,MatpowerCases\n",
    "\n",
    "# compile everything with this run:\n",
    "inputData = load_rts96_data(return_as_type=true);\n",
    "# Thermal model parameters:\n",
    "inputData.Tamb = 35. # C\n",
    "inputData .T0 = 60. #46. # initial line steady-state temp\n",
    "\n",
    "inputData.time_values = 0:30:300 # five minutes in 30-sec steps\n",
    "inputData.int_length = 300. # seconds = 5 min\n",
    "Gp,Dp,Rp = inputData.G0,inputData.D0,inputData.R0\n",
    "inputData.G0 = [0.7*Gp;0.7*Gp;0.7*Gp;0.7*Gp;0.7*Gp;0.7*Gp]\n",
    "inputData.D0 = [0.9*Dp;0.9*Dp;0.9*Dp;0.9*Dp;0.9*Dp;0.9*Dp]\n",
    "inputData.R0 = [Rp;1.1*Rp;1.2*Rp;1.3*Rp;1.4*Rp;1.5*Rp]\n",
    "\n",
    "@time results = solve_temporal_instanton(inputData);\n",
    "\n",
    "n = length(inputData.k)\n",
    "nr = length(inputData.Ridx)\n",
    "T = convert(Int64,length(inputData.G0)/n)\n",
    "outputData = process_instanton_results(results,n,nr,T,return_as_type=true);\n",
    "\n",
    "sort(outputData.score)"
   ]
  },
  {
   "cell_type": "code",
   "execution_count": 2,
   "metadata": {
    "collapsed": true
   },
   "outputs": [
    {
     "data": {
      "text/plain": [
       "([-1.6263e-19,-1.0842e-19,-8.84871e-20,-5.42101e-20,-5.11556e-20,-4.39434e-20,-2.03288e-20,-1.35525e-20,-1.35525e-20,-1.25872e-20  …  1.89735e-19,4.95953e-19,5.42101e-19,1.30104e-18,2.87982e-5,7.68095e-5,0.000204847,0.000546198,0.00145554,0.00387294],\n",
       "108x108 Array{Float64,2}:\n",
       " 0.0  0.0  -0.0655642   0.0  -0.250625    …  0.0  0.0  0.0  0.0   0.06375   \n",
       " 0.0  0.0   0.00899026  0.0  -0.172969       0.0  0.0  0.0  0.0   0.135029  \n",
       " 0.0  0.0  -0.013932    0.0  -0.0264157      0.0  0.0  0.0  0.0   0.00983275\n",
       " 0.0  0.0  -0.0648723   0.0   0.172969       0.0  0.0  0.0  0.0   0.0690593 \n",
       " 0.0  0.0   0.00469648  0.0   0.00552324     0.0  0.0  0.0  0.0   0.00373929\n",
       " 0.0  0.0  -0.0627797   0.0   0.0195721   …  0.0  0.0  0.0  0.0   0.0721536 \n",
       " 0.0  0.0   0.122873    0.0   0.254696       0.0  0.0  0.0  0.0  -0.184615  \n",
       " 0.0  0.0  -0.0115918   0.0  -0.476801       0.0  0.0  0.0  0.0   0.185205  \n",
       " 0.0  0.0   0.149278    0.0  -0.386489       0.0  0.0  0.0  0.0   0.369547  \n",
       " 0.0  0.0   0.349904    0.0  -0.0908756      0.0  0.0  0.0  0.0  -0.108246  \n",
       " 0.0  0.0   0.51235     0.0  -0.424615    …  0.0  0.0  0.0  0.0  -0.378968  \n",
       " 0.0  0.0  -0.392403    0.0  -0.147438       0.0  0.0  0.0  0.0   0.240085  \n",
       " 0.0  0.0  -0.610923    0.0  -0.271019       0.0  0.0  0.0  0.0  -0.600201  \n",
       " ⋮                                        ⋱            ⋮                    \n",
       " 0.0  0.0   0.0         0.0   0.0            0.0  0.0  0.0  0.0   0.0       \n",
       " 0.0  0.0   0.0         0.0   0.0            0.0  0.0  0.0  0.0   0.0       \n",
       " 0.0  0.0   0.0         0.0   0.0            0.0  0.0  0.0  0.0   0.0       \n",
       " 0.0  0.0   0.0         0.0   0.0            0.0  0.0  0.0  0.0   0.0       \n",
       " 0.0  0.0   0.0         0.0   0.0         …  0.0  0.0  0.0  0.0   0.0       \n",
       " 0.0  0.0   0.0         0.0   0.0            0.0  0.0  0.0  0.0   0.0       \n",
       " 0.0  0.0   0.0         0.0   0.0            0.0  0.0  0.0  0.0   0.0       \n",
       " 0.0  0.0   0.0         0.0   0.0            0.0  0.0  0.0  0.0   0.0       \n",
       " 0.0  0.0   0.0         0.0   0.0            0.0  0.0  0.0  0.0   0.0       \n",
       " 0.0  0.0   0.0         0.0   0.0         …  0.0  0.0  0.0  0.0   0.0       \n",
       " 0.0  0.0   0.0         0.0   0.0            0.0  0.0  0.0  0.0   0.0       \n",
       " 0.0  0.0   0.0         0.0   0.0            0.0  0.0  0.0  0.0   0.0       ,\n",
       "\n",
       "558x558 sparse matrix with 6 Float64 entries:\n",
       "\t[553, 553]  =  1.0\n",
       "\t[554, 554]  =  1.0\n",
       "\t[555, 555]  =  1.0\n",
       "\t[556, 556]  =  1.0\n",
       "\t[557, 557]  =  1.0\n",
       "\t[558, 558]  =  1.0,\n",
       "\n",
       "558x108 sparse matrix with 9936 Float64 entries:\n",
       "\t[461,   1]  =  -0.0943326\n",
       "\t[462,   1]  =  -0.176547\n",
       "\t[463,   1]  =  -0.0894147\n",
       "\t[464,   1]  =  -0.049601\n",
       "\t[465,   1]  =  0.9487\n",
       "\t[466,   1]  =  0.0635552\n",
       "\t[467,   1]  =  -0.040272\n",
       "\t[468,   1]  =  -0.0518462\n",
       "\t[469,   1]  =  -0.12544\n",
       "\t[470,   1]  =  -0.0351867\n",
       "\t⋮\n",
       "\t[83 , 108]  =  0.0214753\n",
       "\t[84 , 108]  =  0.0208556\n",
       "\t[85 , 108]  =  0.0215929\n",
       "\t[86 , 108]  =  0.0207697\n",
       "\t[87 , 108]  =  0.0216073\n",
       "\t[88 , 108]  =  0.021825\n",
       "\t[89 , 108]  =  0.0203169\n",
       "\t[90 , 108]  =  0.0256986\n",
       "\t[91 , 108]  =  0.0184772\n",
       "\t[92 , 108]  =  -0.215526\n",
       "\t[553, 108]  =  0.000768656,\n",
       "\n",
       "450x558 sparse matrix with 2064 Float64 entries:\n",
       "\t[2  ,   1]  =  -1.0\n",
       "\t[14 ,   2]  =  -1.0\n",
       "\t[16 ,   3]  =  -1.0\n",
       "\t[17 ,   4]  =  -1.0\n",
       "\t[18 ,   5]  =  -1.0\n",
       "\t[19 ,   6]  =  -1.0\n",
       "\t[20 ,   7]  =  -1.0\n",
       "\t[21 ,   8]  =  -1.0\n",
       "\t[23 ,   9]  =  -1.0\n",
       "\t[26 ,  10]  =  -1.0\n",
       "\t⋮\n",
       "\t[434, 552]  =  -0.030303\n",
       "\t[436, 552]  =  -0.030303\n",
       "\t[439, 552]  =  -0.030303\n",
       "\t[440, 552]  =  -0.030303\n",
       "\t[441, 552]  =  -0.030303\n",
       "\t[445, 553]  =  1.0\n",
       "\t[446, 554]  =  1.0\n",
       "\t[447, 555]  =  1.0\n",
       "\t[448, 556]  =  1.0\n",
       "\t[449, 557]  =  1.0\n",
       "\t[450, 558]  =  1.0,\n",
       "\n",
       "108x108 sparse matrix with 1944 Float64 entries:\n",
       "\t[1  ,   1]  =  1.57399e-5\n",
       "\t[2  ,   1]  =  3.33386e-5\n",
       "\t[3  ,   1]  =  2.42771e-6\n",
       "\t[4  ,   1]  =  1.70507e-5\n",
       "\t[5  ,   1]  =  9.23231e-7\n",
       "\t[6  ,   1]  =  1.78147e-5\n",
       "\t[7  ,   1]  =  -4.55814e-5\n",
       "\t[8  ,   1]  =  4.57272e-5\n",
       "\t[9  ,   1]  =  9.12411e-5\n",
       "\t[10 ,   1]  =  -2.6726e-5\n",
       "\t⋮\n",
       "\t[98 , 108]  =  -9.3525e-7\n",
       "\t[99 , 108]  =  -1.09231e-6\n",
       "\t[100, 108]  =  7.32525e-7\n",
       "\t[101, 108]  =  6.77013e-7\n",
       "\t[102, 108]  =  -1.87708e-7\n",
       "\t[103, 108]  =  2.52062e-6\n",
       "\t[104, 108]  =  -3.67651e-7\n",
       "\t[105, 108]  =  1.16791e-6\n",
       "\t[106, 108]  =  -1.20182e-6\n",
       "\t[107, 108]  =  1.67684e-6\n",
       "\t[108, 108]  =  5.90832e-7)"
      ]
     },
     "execution_count": 2,
     "metadata": {},
     "output_type": "execute_result"
    }
   ],
   "source": [
    "using JLD\n",
    "Qconstr = load(\"Qconstr.jld\")[\"Qconstr\"][1]\n",
    "Qeig = load(\"Qeig.jld\")\n",
    "D,U,Qc,N,A,Qconstr = (Qeig[\"D\"],Qeig[\"U\"],Qeig[\"Qc\"],\n",
    "                    Qeig[\"N\"],Qeig[\"A\"],Qeig[\"Qconstr\"])\n",
    "m,n = size(A)\n",
    "T = 6"
   ]
  },
  {
   "cell_type": "code",
   "execution_count": 136,
   "metadata": {
    "collapsed": false
   },
   "outputs": [
    {
     "data": {
      "text/plain": [
       "61.849760215491386"
      ]
     },
     "execution_count": 136,
     "metadata": {},
     "output_type": "execute_result"
    }
   ],
   "source": [
    "tqr = (@timed qrfact(A'))[2]\n",
    "tlu = (@timed lufact(A'))[2]\n",
    "\n",
    "100*(tqr - tlu)/tqr"
   ]
  },
  {
   "cell_type": "code",
   "execution_count": 47,
   "metadata": {
    "collapsed": false
   },
   "outputs": [
    {
     "data": {
      "text/plain": [
       "108x6 Array{Float64,2}:\n",
       "  0.06375       9.81308e-18   3.92523e-17  …  -1.96262e-17   0.0        \n",
       "  0.135029     -1.96262e-17  -3.92523e-17     -9.81308e-18   0.0        \n",
       "  0.00983275    1.96262e-17   0.0             -1.22663e-18  -1.96262e-17\n",
       "  0.0690593    -9.81308e-18   3.92523e-17     -4.41589e-17   9.81308e-18\n",
       "  0.00373929    9.81308e-18   0.0              3.06659e-18   9.81308e-18\n",
       "  0.0721536     0.0          -2.94392e-17  …   0.0           0.0        \n",
       " -0.184615      0.0           1.59463e-17      1.96262e-17   1.96262e-17\n",
       "  0.185205      0.0          -5.39719e-17      1.96262e-17   3.92523e-17\n",
       "  0.369547      3.92523e-17  -1.07944e-16      1.96262e-17   3.92523e-17\n",
       " -0.108246     -3.92523e-17   1.96262e-17      9.81308e-18   1.96262e-17\n",
       " -0.378968      3.92523e-17   7.85046e-17  …  -1.96262e-17   0.0        \n",
       "  0.240085      1.96262e-17  -3.92523e-17     -3.92523e-17   9.81308e-18\n",
       " -0.600201     -7.85046e-17   7.85046e-17      1.57009e-16   0.0        \n",
       "  ⋮                                        ⋱                 ⋮          \n",
       "  0.0          -1.96262e-17  -1.96262e-17     -1.83995e-18   0.211811   \n",
       " -1.62529e-17  -2.13703e-18   2.89026e-17     -2.35744e-18  -0.226732   \n",
       "  3.92523e-17   0.0           3.92523e-17     -1.91662e-17  -0.264809   \n",
       "  0.0          -6.13317e-19  -3.43458e-17      9.11351e-18   0.177585   \n",
       "  0.0           0.0          -3.92523e-17  …   2.75993e-18   0.164128   \n",
       " -3.92523e-17   0.0          -9.81308e-18      3.6799e-18   -0.0455058  \n",
       " -5.88785e-17   9.81308e-18  -9.81308e-17      6.62383e-17   0.611071   \n",
       "  3.92523e-17   0.0           1.96262e-17     -1.79395e-17  -0.0891294  \n",
       "  3.92523e-17  -1.96262e-17  -3.92523e-17      2.45327e-18   0.283134   \n",
       "  9.81308e-18   0.0           6.62383e-17  …  -2.31911e-17  -0.291356   \n",
       " -4.41589e-17   9.81308e-18  -9.81308e-17      3.9099e-17    0.406516   \n",
       " -3.92523e-17   9.81308e-18  -1.96262e-17     -2.91326e-18   0.143235   "
      ]
     },
     "execution_count": 47,
     "metadata": {},
     "output_type": "execute_result"
    }
   ],
   "source": [
    "svds(N3,nsv=6)[3]"
   ]
  },
  {
   "cell_type": "code",
   "execution_count": 67,
   "metadata": {
    "collapsed": false
   },
   "outputs": [
    {
     "data": {
      "text/plain": [
       "108x108 Array{Float64,2}:\n",
       "  0.0          0.0         0.0        …   9.81308e-18   0.0        \n",
       "  0.0          0.0         0.0            7.85046e-17  -3.92523e-17\n",
       "  0.0          0.0         0.0           -4.90654e-17   9.81308e-18\n",
       "  0.0          0.0         0.0            3.92523e-17   1.96262e-17\n",
       "  0.0          0.0         0.0            0.0          -1.22663e-18\n",
       "  0.0          0.0         0.0        …   2.94392e-17   0.0        \n",
       "  0.0          0.0         0.0           -5.88785e-17   1.96262e-17\n",
       "  0.0          0.0         0.0           -1.96262e-17   0.0        \n",
       "  0.0          0.0         0.0            1.17757e-16   3.92523e-17\n",
       "  0.0          0.0         0.0            0.0           0.0        \n",
       "  0.0          0.0         0.0        …  -3.92523e-17  -7.85046e-17\n",
       "  0.0          0.0         0.0            1.96262e-17   3.92523e-17\n",
       "  0.0          0.0         0.0           -1.57009e-16   7.85046e-17\n",
       "  ⋮                                   ⋱                            \n",
       "  0.104249     0.263334   -0.0307281     -5.39719e-17  -0.211811   \n",
       "  0.00108345  -0.208559   -0.096303      -1.22663e-17   0.226732   \n",
       " -0.0550489    0.427748   -0.124114       2.94392e-17   0.264809   \n",
       " -0.0414709   -0.473782   -0.142639      -5.64252e-17  -0.177585   \n",
       " -0.144238     0.211401   -0.601872   …  -4.17056e-17  -0.164128   \n",
       " -0.169793     0.143157   -0.495787       6.13317e-18   0.0455058  \n",
       "  0.0947391   -0.060895   -0.0597519     -1.07944e-16  -0.611071   \n",
       " -0.0188092   -0.0057363  -0.0196538     -1.77862e-17   0.0891294  \n",
       "  0.0112597    0.140991    0.113139      -8.83177e-17  -0.283134   \n",
       "  0.060373     0.330626    0.114921   …   8.83177e-17   0.291356   \n",
       " -0.00332412   0.117154   -0.032662      -7.85046e-17  -0.406516   \n",
       " -0.112074     0.184514   -0.106437       7.35981e-18  -0.143235   "
      ]
     },
     "execution_count": 67,
     "metadata": {},
     "output_type": "execute_result"
    }
   ],
   "source": [
    "Us,Ss,Vs = svds(N3,nsv=6)\n",
    "Ss = Ss.^2\n",
    "Ncomplete = N'[:,1:n-m-T]\n",
    "\n",
    "span = [Ncomplete Vs]"
   ]
  },
  {
   "cell_type": "code",
   "execution_count": 6,
   "metadata": {
    "collapsed": false
   },
   "outputs": [
    {
     "data": {
      "text/plain": [
       "([0.0038729412011626594,0.0014555396811092292,0.0005461976717325809,0.00020484653587438627,7.680946048583108e-5,2.8798246425662575e-5],\n",
       "108x6 Array{Float64,2}:\n",
       "  0.06375       1.04083e-17   1.17094e-17  …  -6.93889e-18  -2.77556e-17\n",
       "  0.135029     -2.01662e-17   1.56125e-17      0.0          -1.38778e-17\n",
       "  0.00983275   -1.12757e-17   3.46945e-18      1.38778e-17   2.77556e-17\n",
       "  0.0690593    -5.20417e-18   1.73472e-17      1.38778e-17   1.38778e-17\n",
       "  0.00373929    8.67362e-19  -2.60209e-18     -1.56125e-17  -2.77556e-17\n",
       "  0.0721536    -2.1684e-17    2.60209e-18  …   0.0           1.6263e-18 \n",
       " -0.184615      5.20417e-17   3.46945e-18      0.0          -2.77556e-17\n",
       "  0.185205     -7.28584e-17  -1.73472e-17      0.0          -2.77556e-17\n",
       "  0.369547     -9.36751e-17   6.59195e-17      0.0           1.38778e-17\n",
       " -0.108246      6.50521e-17   1.73472e-17      0.0          -6.93889e-18\n",
       " -0.378968      2.94903e-17  -6.93889e-18  …   5.55112e-17   9.54098e-18\n",
       "  0.240085     -1.2837e-16   -2.08167e-17      5.55112e-17   2.77556e-17\n",
       " -0.600201      2.67147e-16   6.93889e-17      5.55112e-17   1.04083e-17\n",
       "  ⋮                                        ⋱                 ⋮          \n",
       " -3.46945e-18  -7.80626e-18  -2.81893e-18      1.12757e-17  -0.211811   \n",
       " -1.73472e-18   4.33681e-19   3.46945e-18     -1.60462e-17   0.226732   \n",
       " -1.73472e-18   8.67362e-18   5.74627e-18      3.90313e-18   0.264809   \n",
       "  3.46945e-18   4.33681e-18  -4.77049e-18     -2.08167e-17  -0.177585   \n",
       "  1.38778e-17   1.73472e-18  -6.93889e-18  …  -1.21431e-17  -0.164128   \n",
       "  0.0           1.38778e-17  -2.60209e-18     -2.42861e-17   0.0455058  \n",
       "  0.0           3.46945e-18  -8.67362e-18     -1.38778e-17  -0.611071   \n",
       "  0.0          -4.33681e-18   2.1684e-18       1.04083e-17   0.0891294  \n",
       "  6.93889e-18  -2.42861e-17  -2.60209e-18      6.93889e-18  -0.283134   \n",
       " -3.46945e-18   1.12757e-17   3.03577e-18  …   1.9082e-17    0.291356   \n",
       "  0.0          -1.73472e-17  -4.33681e-18      1.21431e-17  -0.406516   \n",
       "  3.46945e-18  -3.68629e-18  -3.14419e-18     -6.93889e-18  -0.143235   ,\n",
       "\n",
       "6,1,20,[1.05982e-20,4.06005e-21,8.48914e-22,6.64499e-21,7.35722e-22,-3.73975e-21,-3.30967e-21,2.23601e-21,1.58185e-21,7.34541e-21  …  6.18562e-23,7.26533e-22,6.58812e-22,1.19033e-21,1.01073e-21,-6.18008e-22,-1.34139e-21,4.58657e-22,-9.19298e-22,1.24337e-22])"
      ]
     },
     "execution_count": 6,
     "metadata": {},
     "output_type": "execute_result"
    }
   ],
   "source": [
    "Ds,Us = eigs(Qconstr,nev=6)"
   ]
  }
 ],
 "metadata": {
  "kernelspec": {
   "display_name": "Julia 0.4.0",
   "language": "julia",
   "name": "julia-0.4"
  },
  "language_info": {
   "file_extension": ".jl",
   "mimetype": "application/julia",
   "name": "julia",
   "version": "0.4.0"
  }
 },
 "nbformat": 4,
 "nbformat_minor": 0
}
