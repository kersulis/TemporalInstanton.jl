{
 "cells": [
  {
   "cell_type": "markdown",
   "metadata": {},
   "source": [
    "# The need for smarter factorization\n",
    "At this point, the most expensive operations involve factorization.\n",
    "\n",
    "![Timing](../images/2015-11-02-timing-analysis-new-secular.svg)\n",
    "\n",
    "* The kernel rotation should be handled with LU.\n",
    "* The Eigendecomposition should be replaced by an efficient SVD."
   ]
  },
  {
   "cell_type": "markdown",
   "metadata": {},
   "source": [
    "## Obtaining test matrices\n",
    "To compare various factorization methods, I will generate some temporal instanton analysis QCQP matrices."
   ]
  },
  {
   "cell_type": "code",
   "execution_count": null,
   "metadata": {
    "collapsed": true
   },
   "outputs": [],
   "source": [
    "\n",
    "lufact()"
   ]
  },
  {
   "cell_type": "code",
   "execution_count": 1,
   "metadata": {
    "collapsed": false
   },
   "outputs": [
    {
     "name": "stdout",
     "output_type": "stream",
     "text": [
      "search: "
     ]
    },
    {
     "data": {
      "text/latex": [
       "\\begin{verbatim}\n",
       "spdiagm(B, d[, m, n])\n",
       "\\end{verbatim}\n",
       "Construct a sparse diagonal matrix. \\texttt{B} is a tuple of vectors containing the diagonals and \\texttt{d} is a tuple containing the positions of the diagonals. In the case the input contains only one diagonal, \\texttt{B} can be a vector (instead of a tuple) and \\texttt{d} can be the diagonal position (instead of a tuple), defaulting to 0 (diagonal). Optionally, \\texttt{m} and \\texttt{n} specify the size of the resulting sparse matrix.\n"
      ],
      "text/markdown": [
       "```\n",
       "spdiagm(B, d[, m, n])\n",
       "```\n",
       "\n",
       "Construct a sparse diagonal matrix. `B` is a tuple of vectors containing the diagonals and `d` is a tuple containing the positions of the diagonals. In the case the input contains only one diagonal, `B` can be a vector (instead of a tuple) and `d` can be the diagonal position (instead of a tuple), defaulting to 0 (diagonal). Optionally, `m` and `n` specify the size of the resulting sparse matrix.\n"
      ],
      "text/plain": [
       "```\n",
       "spdiagm(B, d[, m, n])\n",
       "```\n",
       "\n",
       "Construct a sparse diagonal matrix. `B` is a tuple of vectors containing the diagonals and `d` is a tuple containing the positions of the diagonals. In the case the input contains only one diagonal, `B` can be a vector (instead of a tuple) and `d` can be the diagonal position (instead of a tuple), defaulting to 0 (diagonal). Optionally, `m` and `n` specify the size of the resulting sparse matrix.\n"
      ]
     },
     "execution_count": 1,
     "metadata": {},
     "output_type": "execute_result"
    },
    {
     "name": "stdout",
     "output_type": "stream",
     "text": [
      "spdiagm\n",
      "\n"
     ]
    }
   ],
   "source": [
    "?spdiagm"
   ]
  },
  {
   "cell_type": "code",
   "execution_count": null,
   "metadata": {
    "collapsed": true
   },
   "outputs": [],
   "source": [
    "spdiagm()"
   ]
  },
  {
   "cell_type": "markdown",
   "metadata": {},
   "source": [
    "## No more Eig?\n",
    "Upon studying the structure of the rotated constraint matrix, I believe the Eigendecomposition is unnecessary. I modified my code to eschew the eig. Let's see if I get the same numerical results:"
   ]
  },
  {
   "cell_type": "code",
   "execution_count": 1,
   "metadata": {
    "collapsed": false,
    "scrolled": false
   },
   "outputs": [
    {
     "name": "stderr",
     "output_type": "stream",
     "text": [
      "WARNING: Base.String is deprecated, use AbstractString instead.\n",
      "  likely near /home/jkersulis/.julia/v0.4/GraphLayout/src/draw.jl:3\n",
      "WARNING: Union(args...) is deprecated, use Union{args...} instead.\n"
     ]
    },
    {
     "name": "stdout",
     "output_type": "stream",
     "text": [
      "r=0 check: \tremoving 1 lines\n"
     ]
    },
    {
     "name": "stderr",
     "output_type": "stream",
     "text": [
      " in depwarn at deprecated.jl:73\n",
      " in call at deprecated.jl:50\n",
      " in include at ./boot.jl:261\n",
      " in include_from_node1 at ./loading.jl:304\n",
      " in include at ./boot.jl:261\n",
      " in include_from_node1 at ./loading.jl:304\n",
      " in require at ./loading.jl:243\n",
      " in include at ./boot.jl:261\n",
      " in include_from_node1 at ./loading.jl:304\n",
      " in include at ./boot.jl:261\n",
      " in include_from_node1 at ./loading.jl:304\n",
      " in include_string at loading.jl:266\n",
      " in execute_request_0x535c5df2 at /home/jkersulis/.julia/v0.4/IJulia/src/execute_request.jl:177\n",
      " in eventloop at /home/jkersulis/.julia/v0.4/IJulia/src/IJulia.jl:141\n",
      " in anonymous at task.jl:447\n",
      "while loading /home/jkersulis/.julia/v0.4/GraphLayout/src/draw.jl, in expression starting on line 3\n",
      "WARNING: Base.String is deprecated, use AbstractString instead.\n",
      "  likely near /home/jkersulis/.julia/v0.4/GraphLayout/src/draw.jl:23\n",
      "WARNING: Base.String is deprecated, use AbstractString instead.\n",
      "  likely near /home/jkersulis/.julia/v0.4/GraphLayout/src/draw.jl:135\n"
     ]
    },
    {
     "name": "stdout",
     "output_type": "stream",
     "text": [
      "ISF pre-check: \tremoving lines Int64[]\n",
      " 11"
     ]
    },
    {
     "data": {
      "text/plain": [
       "104-element Array{Tuple{Float64,Int64},1}:\n",
       " (0.263787830020006,25)  \n",
       " (0.3273164183285288,30) \n",
       " (1.2886107366327355,69) \n",
       " (2.2041515936832066,89) \n",
       " (2.322973886040895,118) \n",
       " (2.42316154712363,64)   \n",
       " (4.67875546231252,42)   \n",
       " (4.865240811106734,102) \n",
       " (4.899167201158152,31)  \n",
       " (5.678266048785588,80)  \n",
       " (5.938620037616521,1)   \n",
       " (6.439172990446961,100) \n",
       " (6.4608887584718095,62) \n",
       " ⋮                       \n",
       " (178.0855817862111,99)  \n",
       " (303.00328573243416,103)\n",
       " (370.61443512027347,66) \n",
       " (370.61443512027347,67) \n",
       " (391.3070873721824,33)  \n",
       " (428.94449223314234,40) \n",
       " (923.97998538764,72)    \n",
       " (979.1988880469704,117) \n",
       " (1319.8524187115077,79) \n",
       " (1390.0270570261027,110)\n",
       " (1967.2698882361206,73) \n",
       " (1967.2698882361206,74) "
      ]
     },
     "execution_count": 1,
     "metadata": {},
     "output_type": "execute_result"
    },
    {
     "name": "stdout",
     "output_type": "stream",
     "text": [
      ".471698 seconds (9.28 M allocations: 1.223 GB, 1.74% gc time)\n"
     ]
    }
   ],
   "source": [
    "include(\"../src/TemporalInstanton.jl\")\n",
    "using TemporalInstanton,MatpowerCases\n",
    "\n",
    "# compile everything with this run:\n",
    "inputData = load_rts96_data(return_as_type=true);\n",
    "# Thermal model parameters:\n",
    "inputData.Tamb = 35. # C\n",
    "inputData.T0 = 60. #46. # initial line steady-state temp\n",
    "\n",
    "inputData.time_values = 0:30:300 # five minutes in 30-sec steps\n",
    "inputData.int_length = 300. # seconds = 5 min\n",
    "Gp,Dp,Rp = inputData.G0,inputData.D0,inputData.R0\n",
    "inputData.G0 = [0.7*Gp;0.7*Gp;0.7*Gp;0.7*Gp;0.7*Gp;0.7*Gp]\n",
    "inputData.D0 = [0.9*Dp;0.9*Dp;0.9*Dp;0.9*Dp;0.9*Dp;0.9*Dp]\n",
    "inputData.R0 = [Rp;1.1*Rp;1.2*Rp;1.3*Rp;1.4*Rp;1.5*Rp]\n",
    "\n",
    "@time results = solve_temporal_instanton(inputData);\n",
    "\n",
    "n = length(inputData.k)\n",
    "nr = length(inputData.Ridx)\n",
    "T = convert(Int64,length(inputData.G0)/n)\n",
    "outputData = process_instanton_results(results,n,nr,T,return_as_type=true);\n",
    "\n",
    "sort(outputData.score)"
   ]
  },
  {
   "cell_type": "code",
   "execution_count": 2,
   "metadata": {
    "collapsed": true
   },
   "outputs": [
    {
     "data": {
      "text/plain": [
       "([-1.6263e-19,-1.0842e-19,-8.84871e-20,-5.42101e-20,-5.11556e-20,-4.39434e-20,-2.03288e-20,-1.35525e-20,-1.35525e-20,-1.25872e-20  …  1.89735e-19,4.95953e-19,5.42101e-19,1.30104e-18,2.87982e-5,7.68095e-5,0.000204847,0.000546198,0.00145554,0.00387294],\n",
       "108x108 Array{Float64,2}:\n",
       " 0.0  0.0  -0.0655642   0.0  -0.250625    …  0.0  0.0  0.0  0.0   0.06375   \n",
       " 0.0  0.0   0.00899026  0.0  -0.172969       0.0  0.0  0.0  0.0   0.135029  \n",
       " 0.0  0.0  -0.013932    0.0  -0.0264157      0.0  0.0  0.0  0.0   0.00983275\n",
       " 0.0  0.0  -0.0648723   0.0   0.172969       0.0  0.0  0.0  0.0   0.0690593 \n",
       " 0.0  0.0   0.00469648  0.0   0.00552324     0.0  0.0  0.0  0.0   0.00373929\n",
       " 0.0  0.0  -0.0627797   0.0   0.0195721   …  0.0  0.0  0.0  0.0   0.0721536 \n",
       " 0.0  0.0   0.122873    0.0   0.254696       0.0  0.0  0.0  0.0  -0.184615  \n",
       " 0.0  0.0  -0.0115918   0.0  -0.476801       0.0  0.0  0.0  0.0   0.185205  \n",
       " 0.0  0.0   0.149278    0.0  -0.386489       0.0  0.0  0.0  0.0   0.369547  \n",
       " 0.0  0.0   0.349904    0.0  -0.0908756      0.0  0.0  0.0  0.0  -0.108246  \n",
       " 0.0  0.0   0.51235     0.0  -0.424615    …  0.0  0.0  0.0  0.0  -0.378968  \n",
       " 0.0  0.0  -0.392403    0.0  -0.147438       0.0  0.0  0.0  0.0   0.240085  \n",
       " 0.0  0.0  -0.610923    0.0  -0.271019       0.0  0.0  0.0  0.0  -0.600201  \n",
       " ⋮                                        ⋱            ⋮                    \n",
       " 0.0  0.0   0.0         0.0   0.0            0.0  0.0  0.0  0.0   0.0       \n",
       " 0.0  0.0   0.0         0.0   0.0            0.0  0.0  0.0  0.0   0.0       \n",
       " 0.0  0.0   0.0         0.0   0.0            0.0  0.0  0.0  0.0   0.0       \n",
       " 0.0  0.0   0.0         0.0   0.0            0.0  0.0  0.0  0.0   0.0       \n",
       " 0.0  0.0   0.0         0.0   0.0         …  0.0  0.0  0.0  0.0   0.0       \n",
       " 0.0  0.0   0.0         0.0   0.0            0.0  0.0  0.0  0.0   0.0       \n",
       " 0.0  0.0   0.0         0.0   0.0            0.0  0.0  0.0  0.0   0.0       \n",
       " 0.0  0.0   0.0         0.0   0.0            0.0  0.0  0.0  0.0   0.0       \n",
       " 0.0  0.0   0.0         0.0   0.0            0.0  0.0  0.0  0.0   0.0       \n",
       " 0.0  0.0   0.0         0.0   0.0         …  0.0  0.0  0.0  0.0   0.0       \n",
       " 0.0  0.0   0.0         0.0   0.0            0.0  0.0  0.0  0.0   0.0       \n",
       " 0.0  0.0   0.0         0.0   0.0            0.0  0.0  0.0  0.0   0.0       ,\n",
       "\n",
       "558x558 sparse matrix with 6 Float64 entries:\n",
       "\t[553, 553]  =  1.0\n",
       "\t[554, 554]  =  1.0\n",
       "\t[555, 555]  =  1.0\n",
       "\t[556, 556]  =  1.0\n",
       "\t[557, 557]  =  1.0\n",
       "\t[558, 558]  =  1.0,\n",
       "\n",
       "558x108 sparse matrix with 9936 Float64 entries:\n",
       "\t[461,   1]  =  -0.0943326\n",
       "\t[462,   1]  =  -0.176547\n",
       "\t[463,   1]  =  -0.0894147\n",
       "\t[464,   1]  =  -0.049601\n",
       "\t[465,   1]  =  0.9487\n",
       "\t[466,   1]  =  0.0635552\n",
       "\t[467,   1]  =  -0.040272\n",
       "\t[468,   1]  =  -0.0518462\n",
       "\t[469,   1]  =  -0.12544\n",
       "\t[470,   1]  =  -0.0351867\n",
       "\t⋮\n",
       "\t[83 , 108]  =  0.0214753\n",
       "\t[84 , 108]  =  0.0208556\n",
       "\t[85 , 108]  =  0.0215929\n",
       "\t[86 , 108]  =  0.0207697\n",
       "\t[87 , 108]  =  0.0216073\n",
       "\t[88 , 108]  =  0.021825\n",
       "\t[89 , 108]  =  0.0203169\n",
       "\t[90 , 108]  =  0.0256986\n",
       "\t[91 , 108]  =  0.0184772\n",
       "\t[92 , 108]  =  -0.215526\n",
       "\t[553, 108]  =  0.000768656,\n",
       "\n",
       "450x558 sparse matrix with 2064 Float64 entries:\n",
       "\t[2  ,   1]  =  -1.0\n",
       "\t[14 ,   2]  =  -1.0\n",
       "\t[16 ,   3]  =  -1.0\n",
       "\t[17 ,   4]  =  -1.0\n",
       "\t[18 ,   5]  =  -1.0\n",
       "\t[19 ,   6]  =  -1.0\n",
       "\t[20 ,   7]  =  -1.0\n",
       "\t[21 ,   8]  =  -1.0\n",
       "\t[23 ,   9]  =  -1.0\n",
       "\t[26 ,  10]  =  -1.0\n",
       "\t⋮\n",
       "\t[434, 552]  =  -0.030303\n",
       "\t[436, 552]  =  -0.030303\n",
       "\t[439, 552]  =  -0.030303\n",
       "\t[440, 552]  =  -0.030303\n",
       "\t[441, 552]  =  -0.030303\n",
       "\t[445, 553]  =  1.0\n",
       "\t[446, 554]  =  1.0\n",
       "\t[447, 555]  =  1.0\n",
       "\t[448, 556]  =  1.0\n",
       "\t[449, 557]  =  1.0\n",
       "\t[450, 558]  =  1.0,\n",
       "\n",
       "108x108 sparse matrix with 1944 Float64 entries:\n",
       "\t[1  ,   1]  =  1.57399e-5\n",
       "\t[2  ,   1]  =  3.33386e-5\n",
       "\t[3  ,   1]  =  2.42771e-6\n",
       "\t[4  ,   1]  =  1.70507e-5\n",
       "\t[5  ,   1]  =  9.23231e-7\n",
       "\t[6  ,   1]  =  1.78147e-5\n",
       "\t[7  ,   1]  =  -4.55814e-5\n",
       "\t[8  ,   1]  =  4.57272e-5\n",
       "\t[9  ,   1]  =  9.12411e-5\n",
       "\t[10 ,   1]  =  -2.6726e-5\n",
       "\t⋮\n",
       "\t[98 , 108]  =  -9.3525e-7\n",
       "\t[99 , 108]  =  -1.09231e-6\n",
       "\t[100, 108]  =  7.32525e-7\n",
       "\t[101, 108]  =  6.77013e-7\n",
       "\t[102, 108]  =  -1.87708e-7\n",
       "\t[103, 108]  =  2.52062e-6\n",
       "\t[104, 108]  =  -3.67651e-7\n",
       "\t[105, 108]  =  1.16791e-6\n",
       "\t[106, 108]  =  -1.20182e-6\n",
       "\t[107, 108]  =  1.67684e-6\n",
       "\t[108, 108]  =  5.90832e-7)"
      ]
     },
     "execution_count": 2,
     "metadata": {},
     "output_type": "execute_result"
    }
   ],
   "source": [
    "using JLD\n",
    "Qconstr = load(\"Qconstr.jld\")[\"Qconstr\"][1]\n",
    "Qeig = load(\"Qeig.jld\")\n",
    "D,U,Qc,N,A,Qconstr = (Qeig[\"D\"],Qeig[\"U\"],Qeig[\"Qc\"],\n",
    "                    Qeig[\"N\"],Qeig[\"A\"],Qeig[\"Qconstr\"])\n",
    "m,n = size(A)\n",
    "T = 6"
   ]
  },
  {
   "cell_type": "code",
   "execution_count": 83,
   "metadata": {
    "collapsed": false
   },
   "outputs": [
    {
     "data": {
      "text/plain": [
       "6x108 Array{Float64,2}:\n",
       "  0.0          0.0          0.0          …  0.00218153  0.000768656\n",
       "  0.0          0.0          0.0             0.0         0.0        \n",
       "  0.0          0.0          0.0             0.0         0.0        \n",
       "  0.0          0.0          0.0             0.0         0.0        \n",
       "  0.0          0.0          0.0             0.0         0.0        \n",
       " -0.00396735  -0.00840325  -0.000611921  …  0.0         0.0        "
      ]
     },
     "execution_count": 83,
     "metadata": {},
     "output_type": "execute_result"
    }
   ],
   "source": [
    "N12 = full(N[1:end-T,:])\n",
    "N3 = full(N[end-T+1:end,:])"
   ]
  },
  {
   "cell_type": "code",
   "execution_count": 75,
   "metadata": {
    "collapsed": false
   },
   "outputs": [
    {
     "data": {
      "text/plain": [
       "108"
      ]
     },
     "execution_count": 75,
     "metadata": {},
     "output_type": "execute_result"
    }
   ],
   "source": [
    "rank(full(N12))"
   ]
  },
  {
   "cell_type": "code",
   "execution_count": 86,
   "metadata": {
    "collapsed": false
   },
   "outputs": [
    {
     "data": {
      "image/png": "[encoded data removed]",
      "text/plain": [
       "PyPlot.Figure(PyObject <matplotlib.figure.Figure object at 0x7ff150066978>)"
      ]
     },
     "metadata": {},
     "output_type": "display_data"
    },
    {
     "data": {
      "text/plain": [
       "PyObject <matplotlib.image.AxesImage object at 0x7ff13ab9bbe0>"
      ]
     },
     "execution_count": 86,
     "metadata": {},
     "output_type": "execute_result"
    }
   ],
   "source": [
    "using PyPlot\n",
    "spy(N12)"
   ]
  },
  {
   "cell_type": "code",
   "execution_count": 87,
   "metadata": {
    "collapsed": false
   },
   "outputs": [
    {
     "data": {
      "image/png": "[encoded data removed]",
      "text/plain": [
       "PyPlot.Figure(PyObject <matplotlib.figure.Figure object at 0x7ff13ab62a58>)"
      ]
     },
     "metadata": {},
     "output_type": "display_data"
    },
    {
     "data": {
      "text/plain": [
       "PyObject <matplotlib.image.AxesImage object at 0x7ff13a3a3320>"
      ]
     },
     "execution_count": 87,
     "metadata": {},
     "output_type": "execute_result"
    }
   ],
   "source": [
    "spy(N3)"
   ]
  },
  {
   "cell_type": "code",
   "execution_count": 136,
   "metadata": {
    "collapsed": false
   },
   "outputs": [
    {
     "data": {
      "text/plain": [
       "61.849760215491386"
      ]
     },
     "execution_count": 136,
     "metadata": {},
     "output_type": "execute_result"
    }
   ],
   "source": [
    "tqr = (@timed qrfact(A'))[2]\n",
    "tlu = (@timed lufact(A'))[2]\n",
    "\n",
    "100*(tqr - tlu)/tqr"
   ]
  },
  {
   "cell_type": "code",
   "execution_count": 100,
   "metadata": {
    "collapsed": false
   },
   "outputs": [
    {
     "data": {
      "text/latex": [
       "\\begin{verbatim}\n",
       "@timed\n",
       "\\end{verbatim}\n",
       "A macro to execute an expression, and return the value of the expression, elapsed time, total bytes allocated, garbage collection time, and an object with various memory allocation counters.\n"
      ],
      "text/markdown": [
       "```\n",
       "@timed\n",
       "```\n",
       "\n",
       "A macro to execute an expression, and return the value of the expression, elapsed time, total bytes allocated, garbage collection time, and an object with various memory allocation counters.\n"
      ],
      "text/plain": [
       "```\n",
       "@timed\n",
       "```\n",
       "\n",
       "A macro to execute an expression, and return the value of the expression, elapsed time, total bytes allocated, garbage collection time, and an object with various memory allocation counters.\n"
      ]
     },
     "execution_count": 100,
     "metadata": {},
     "output_type": "execute_result"
    }
   ],
   "source": [
    "?@timed"
   ]
  },
  {
   "cell_type": "code",
   "execution_count": 141,
   "metadata": {
    "collapsed": false
   },
   "outputs": [
    {
     "name": "stdout",
     "output_type": "stream",
     "text": [
      "search: "
     ]
    },
    {
     "data": {
      "text/latex": [
       "No documentation found.\n",
       "\\texttt{tlu} is of type \\texttt{Float64}:\n",
       "\\textbf{Summary:}\n",
       "\\begin{verbatim}\n",
       "immutable Float64 <: AbstractFloat\n",
       "\\end{verbatim}\n"
      ],
      "text/markdown": [
       "No documentation found.\n",
       "\n",
       "`tlu` is of type `Float64`:\n",
       "\n",
       "**Summary:**\n",
       "\n",
       "```julia\n",
       "immutable Float64 <: AbstractFloat\n",
       "```\n"
      ],
      "text/plain": [
       "No documentation found.\n",
       "\n",
       "`tlu` is of type `Float64`:\n",
       "\n",
       "**Summary:**\n",
       "\n",
       "```julia\n",
       "immutable Float64 <: AbstractFloat\n",
       "```\n"
      ]
     },
     "execution_count": 141,
     "metadata": {},
     "output_type": "execute_result"
    },
    {
     "name": "stdout",
     "output_type": "stream",
     "text": [
      "tlu PartialQuickSort tight_layout task_local_storage\n",
      "\n"
     ]
    }
   ],
   "source": [
    "?tlu"
   ]
  },
  {
   "cell_type": "code",
   "execution_count": 144,
   "metadata": {
    "collapsed": false
   },
   "outputs": [
    {
     "data": {
      "text/plain": [
       "6.775049271601219e-14"
      ]
     },
     "execution_count": 144,
     "metadata": {},
     "output_type": "execute_result"
    }
   ],
   "source": [
    "maxabs(A*N)"
   ]
  },
  {
   "cell_type": "code",
   "execution_count": 145,
   "metadata": {
    "collapsed": false
   },
   "outputs": [
    {
     "data": {
      "text/plain": [
       "558x108 sparse matrix with 9936 Float64 entries:\n",
       "\t[461,   1]  =  -0.0943326\n",
       "\t[462,   1]  =  -0.176547\n",
       "\t[463,   1]  =  -0.0894147\n",
       "\t[464,   1]  =  -0.049601\n",
       "\t[465,   1]  =  0.9487\n",
       "\t[466,   1]  =  0.0635552\n",
       "\t[467,   1]  =  -0.040272\n",
       "\t[468,   1]  =  -0.0518462\n",
       "\t[469,   1]  =  -0.12544\n",
       "\t[470,   1]  =  -0.0351867\n",
       "\t⋮\n",
       "\t[83 , 108]  =  0.0214753\n",
       "\t[84 , 108]  =  0.0208556\n",
       "\t[85 , 108]  =  0.0215929\n",
       "\t[86 , 108]  =  0.0207697\n",
       "\t[87 , 108]  =  0.0216073\n",
       "\t[88 , 108]  =  0.021825\n",
       "\t[89 , 108]  =  0.0203169\n",
       "\t[90 , 108]  =  0.0256986\n",
       "\t[91 , 108]  =  0.0184772\n",
       "\t[92 , 108]  =  -0.215526\n",
       "\t[553, 108]  =  0.000768656"
      ]
     },
     "execution_count": 145,
     "metadata": {},
     "output_type": "execute_result"
    }
   ],
   "source": [
    "N"
   ]
  },
  {
   "cell_type": "code",
   "execution_count": 137,
   "metadata": {
    "collapsed": false
   },
   "outputs": [
    {
     "name": "stdout",
     "output_type": "stream",
     "text": [
      "search: "
     ]
    },
    {
     "data": {
      "text/latex": [
       "\\begin{verbatim}\n",
       "..  lufact(A [,pivot=Val{true}]) -> F\n",
       "\n",
       "Compute the LU factorization of ``A``. The return type of ``F`` depends on the type of ``A``. In most cases, if ``A`` is a subtype ``S`` of AbstractMatrix with an element type ``T`` supporting ``+``, ``-``, ``*`` and ``/`` the return type is ``LU{T,S{T}}``. If pivoting is chosen (default) the element type should also support ``abs`` and ``<``. When ``A`` is sparse and have element of type ``Float32``, ``Float64``, ``Complex{Float32}``, or ``Complex{Float64}`` the return type is ``UmfpackLU``. Some examples are shown in the table below.\n",
       "\n",
       "======================= ========================= ========================================\n",
       "Type of input ``A``     Type of output ``F``      Relationship between ``F`` and ``A``\n",
       "======================= ========================= ========================================\n",
       ":func:`Matrix`           ``LU``                   ``F[:L]*F[:U] == A[F[:p], :]``\n",
       ":func:`Tridiagonal`      ``LU{T,Tridiagonal{T}}`` ``F[:L]*F[:U] == A[F[:p], :]``\n",
       ":func:`SparseMatrixCSC`  ``UmfpackLU``            ``F[:L]*F[:U] == (F[:Rs] .* A)[F[:p], F[:q]]``\n",
       "======================= ========================= ========================================\n",
       "\n",
       "The individual components of the factorization ``F`` can be accessed by indexing:\n",
       "\n",
       "=========== ======================================= ====== ======================== =============\n",
       "Component   Description                             ``LU`` ``LU{T,Tridiagonal{T}}`` ``UmfpackLU``\n",
       "=========== ======================================= ====== ======================== =============\n",
       "``F[:L]``   ``L`` (lower triangular) part of ``LU``    ✓            ✓                        ✓\n",
       "``F[:U]``   ``U`` (upper triangular) part of ``LU``    ✓            ✓                        ✓\n",
       "``F[:p]``   (right) permutation ``Vector``             ✓            ✓                        ✓\n",
       "``F[:P]``   (right) permutation ``Matrix``             ✓            ✓\n",
       "``F[:q]``   left permutation ``Vector``                                                      ✓\n",
       "``F[:Rs]``  ``Vector`` of scaling factors                                                    ✓\n",
       "``F[:(:)]`` ``(L,U,p,q,Rs)`` components                                                      ✓\n",
       "=========== ======================================= ====== ======================== =============\n",
       "\n",
       "================== ====== ======================== =============\n",
       "Supported function ``LU`` ``LU{T,Tridiagonal{T}}`` ``UmfpackLU``\n",
       "================== ====== ======================== =============\n",
       "     ``/``            ✓\n",
       "     ``\\``            ✓                       ✓             ✓\n",
       "     ``cond``         ✓                                     ✓\n",
       "     ``det``          ✓                       ✓             ✓\n",
       "     ``logdet``       ✓                       ✓\n",
       "     ``logabsdet``    ✓                       ✓\n",
       "     ``size``         ✓                       ✓\n",
       "================== ====== ======================== =============\n",
       "\\end{verbatim}\n"
      ],
      "text/markdown": [
       "```rst\n",
       "..  lufact(A [,pivot=Val{true}]) -> F\n",
       "\n",
       "Compute the LU factorization of ``A``. The return type of ``F`` depends on the type of ``A``. In most cases, if ``A`` is a subtype ``S`` of AbstractMatrix with an element type ``T`` supporting ``+``, ``-``, ``*`` and ``/`` the return type is ``LU{T,S{T}}``. If pivoting is chosen (default) the element type should also support ``abs`` and ``<``. When ``A`` is sparse and have element of type ``Float32``, ``Float64``, ``Complex{Float32}``, or ``Complex{Float64}`` the return type is ``UmfpackLU``. Some examples are shown in the table below.\n",
       "\n",
       "======================= ========================= ========================================\n",
       "Type of input ``A``     Type of output ``F``      Relationship between ``F`` and ``A``\n",
       "======================= ========================= ========================================\n",
       ":func:`Matrix`           ``LU``                   ``F[:L]*F[:U] == A[F[:p], :]``\n",
       ":func:`Tridiagonal`      ``LU{T,Tridiagonal{T}}`` ``F[:L]*F[:U] == A[F[:p], :]``\n",
       ":func:`SparseMatrixCSC`  ``UmfpackLU``            ``F[:L]*F[:U] == (F[:Rs] .* A)[F[:p], F[:q]]``\n",
       "======================= ========================= ========================================\n",
       "\n",
       "The individual components of the factorization ``F`` can be accessed by indexing:\n",
       "\n",
       "=========== ======================================= ====== ======================== =============\n",
       "Component   Description                             ``LU`` ``LU{T,Tridiagonal{T}}`` ``UmfpackLU``\n",
       "=========== ======================================= ====== ======================== =============\n",
       "``F[:L]``   ``L`` (lower triangular) part of ``LU``    ✓            ✓                        ✓\n",
       "``F[:U]``   ``U`` (upper triangular) part of ``LU``    ✓            ✓                        ✓\n",
       "``F[:p]``   (right) permutation ``Vector``             ✓            ✓                        ✓\n",
       "``F[:P]``   (right) permutation ``Matrix``             ✓            ✓\n",
       "``F[:q]``   left permutation ``Vector``                                                      ✓\n",
       "``F[:Rs]``  ``Vector`` of scaling factors                                                    ✓\n",
       "``F[:(:)]`` ``(L,U,p,q,Rs)`` components                                                      ✓\n",
       "=========== ======================================= ====== ======================== =============\n",
       "\n",
       "================== ====== ======================== =============\n",
       "Supported function ``LU`` ``LU{T,Tridiagonal{T}}`` ``UmfpackLU``\n",
       "================== ====== ======================== =============\n",
       "     ``/``            ✓\n",
       "     ``\\``            ✓                       ✓             ✓\n",
       "     ``cond``         ✓                                     ✓\n",
       "     ``det``          ✓                       ✓             ✓\n",
       "     ``logdet``       ✓                       ✓\n",
       "     ``logabsdet``    ✓                       ✓\n",
       "     ``size``         ✓                       ✓\n",
       "================== ====== ======================== =============\n",
       "```\n"
      ],
      "text/plain": [
       "```rst\n",
       "..  lufact(A [,pivot=Val{true}]) -> F\n",
       "\n",
       "Compute the LU factorization of ``A``. The return type of ``F`` depends on the type of ``A``. In most cases, if ``A`` is a subtype ``S`` of AbstractMatrix with an element type ``T`` supporting ``+``, ``-``, ``*`` and ``/`` the return type is ``LU{T,S{T}}``. If pivoting is chosen (default) the element type should also support ``abs`` and ``<``. When ``A`` is sparse and have element of type ``Float32``, ``Float64``, ``Complex{Float32}``, or ``Complex{Float64}`` the return type is ``UmfpackLU``. Some examples are shown in the table below.\n",
       "\n",
       "======================= ========================= ========================================\n",
       "Type of input ``A``     Type of output ``F``      Relationship between ``F`` and ``A``\n",
       "======================= ========================= ========================================\n",
       ":func:`Matrix`           ``LU``                   ``F[:L]*F[:U] == A[F[:p], :]``\n",
       ":func:`Tridiagonal`      ``LU{T,Tridiagonal{T}}`` ``F[:L]*F[:U] == A[F[:p], :]``\n",
       ":func:`SparseMatrixCSC`  ``UmfpackLU``            ``F[:L]*F[:U] == (F[:Rs] .* A)[F[:p], F[:q]]``\n",
       "======================= ========================= ========================================\n",
       "\n",
       "The individual components of the factorization ``F`` can be accessed by indexing:\n",
       "\n",
       "=========== ======================================= ====== ======================== =============\n",
       "Component   Description                             ``LU`` ``LU{T,Tridiagonal{T}}`` ``UmfpackLU``\n",
       "=========== ======================================= ====== ======================== =============\n",
       "``F[:L]``   ``L`` (lower triangular) part of ``LU``    ✓            ✓                        ✓\n",
       "``F[:U]``   ``U`` (upper triangular) part of ``LU``    ✓            ✓                        ✓\n",
       "``F[:p]``   (right) permutation ``Vector``             ✓            ✓                        ✓\n",
       "``F[:P]``   (right) permutation ``Matrix``             ✓            ✓\n",
       "``F[:q]``   left permutation ``Vector``                                                      ✓\n",
       "``F[:Rs]``  ``Vector`` of scaling factors                                                    ✓\n",
       "``F[:(:)]`` ``(L,U,p,q,Rs)`` components                                                      ✓\n",
       "=========== ======================================= ====== ======================== =============\n",
       "\n",
       "================== ====== ======================== =============\n",
       "Supported function ``LU`` ``LU{T,Tridiagonal{T}}`` ``UmfpackLU``\n",
       "================== ====== ======================== =============\n",
       "     ``/``            ✓\n",
       "     ``\\``            ✓                       ✓             ✓\n",
       "     ``cond``         ✓                                     ✓\n",
       "     ``det``          ✓                       ✓             ✓\n",
       "     ``logdet``       ✓                       ✓\n",
       "     ``logabsdet``    ✓                       ✓\n",
       "     ``size``         ✓                       ✓\n",
       "================== ====== ======================== =============\n",
       "```\n"
      ]
     },
     "execution_count": 137,
     "metadata": {},
     "output_type": "execute_result"
    },
    {
     "name": "stdout",
     "output_type": "stream",
     "text": [
      "lufact lufact! plot_surface\n",
      "\n"
     ]
    }
   ],
   "source": [
    "?lufact"
   ]
  },
  {
   "cell_type": "code",
   "execution_count": 93,
   "metadata": {
    "collapsed": false
   },
   "outputs": [
    {
     "data": {
      "text/plain": [
       "(Base.SparseMatrix.SPQR.Factorization{Float64}(558,450,Ptr{Base.SparseMatrix.SPQR.C_Factorization{Float64}} @0x0000000008c725c0),0.009476554,562564,0.0,Base.GC_Diff(562564,77,3,9,2,34,0,0,0))"
      ]
     },
     "execution_count": 93,
     "metadata": {},
     "output_type": "execute_result"
    }
   ],
   "source": [
    "t"
   ]
  },
  {
   "cell_type": "code",
   "execution_count": null,
   "metadata": {
    "collapsed": true
   },
   "outputs": [],
   "source": [
    "spq"
   ]
  },
  {
   "cell_type": "code",
   "execution_count": 76,
   "metadata": {
    "collapsed": false
   },
   "outputs": [
    {
     "data": {
      "text/plain": [
       "6"
      ]
     },
     "execution_count": 76,
     "metadata": {},
     "output_type": "execute_result"
    }
   ],
   "source": [
    "rank(full(N3))"
   ]
  },
  {
   "cell_type": "code",
   "execution_count": 80,
   "metadata": {
    "collapsed": false
   },
   "outputs": [
    {
     "data": {
      "text/plain": [
       "108x108 Array{Float64,2}:\n",
       " 0.0  0.0  -0.0655642   0.0  -0.250625    …  0.0  0.0  0.0  0.0   0.06375   \n",
       " 0.0  0.0   0.00899026  0.0  -0.172969       0.0  0.0  0.0  0.0   0.135029  \n",
       " 0.0  0.0  -0.013932    0.0  -0.0264157      0.0  0.0  0.0  0.0   0.00983275\n",
       " 0.0  0.0  -0.0648723   0.0   0.172969       0.0  0.0  0.0  0.0   0.0690593 \n",
       " 0.0  0.0   0.00469648  0.0   0.00552324     0.0  0.0  0.0  0.0   0.00373929\n",
       " 0.0  0.0  -0.0627797   0.0   0.0195721   …  0.0  0.0  0.0  0.0   0.0721536 \n",
       " 0.0  0.0   0.122873    0.0   0.254696       0.0  0.0  0.0  0.0  -0.184615  \n",
       " 0.0  0.0  -0.0115918   0.0  -0.476801       0.0  0.0  0.0  0.0   0.185205  \n",
       " 0.0  0.0   0.149278    0.0  -0.386489       0.0  0.0  0.0  0.0   0.369547  \n",
       " 0.0  0.0   0.349904    0.0  -0.0908756      0.0  0.0  0.0  0.0  -0.108246  \n",
       " 0.0  0.0   0.51235     0.0  -0.424615    …  0.0  0.0  0.0  0.0  -0.378968  \n",
       " 0.0  0.0  -0.392403    0.0  -0.147438       0.0  0.0  0.0  0.0   0.240085  \n",
       " 0.0  0.0  -0.610923    0.0  -0.271019       0.0  0.0  0.0  0.0  -0.600201  \n",
       " ⋮                                        ⋱            ⋮                    \n",
       " 0.0  0.0   0.0         0.0   0.0            0.0  0.0  0.0  0.0   0.0       \n",
       " 0.0  0.0   0.0         0.0   0.0            0.0  0.0  0.0  0.0   0.0       \n",
       " 0.0  0.0   0.0         0.0   0.0            0.0  0.0  0.0  0.0   0.0       \n",
       " 0.0  0.0   0.0         0.0   0.0            0.0  0.0  0.0  0.0   0.0       \n",
       " 0.0  0.0   0.0         0.0   0.0         …  0.0  0.0  0.0  0.0   0.0       \n",
       " 0.0  0.0   0.0         0.0   0.0            0.0  0.0  0.0  0.0   0.0       \n",
       " 0.0  0.0   0.0         0.0   0.0            0.0  0.0  0.0  0.0   0.0       \n",
       " 0.0  0.0   0.0         0.0   0.0            0.0  0.0  0.0  0.0   0.0       \n",
       " 0.0  0.0   0.0         0.0   0.0            0.0  0.0  0.0  0.0   0.0       \n",
       " 0.0  0.0   0.0         0.0   0.0         …  0.0  0.0  0.0  0.0   0.0       \n",
       " 0.0  0.0   0.0         0.0   0.0            0.0  0.0  0.0  0.0   0.0       \n",
       " 0.0  0.0   0.0         0.0   0.0            0.0  0.0  0.0  0.0   0.0       "
      ]
     },
     "execution_count": 80,
     "metadata": {},
     "output_type": "execute_result"
    }
   ],
   "source": [
    "U"
   ]
  },
  {
   "cell_type": "code",
   "execution_count": 47,
   "metadata": {
    "collapsed": false
   },
   "outputs": [
    {
     "data": {
      "text/plain": [
       "108x6 Array{Float64,2}:\n",
       "  0.06375       9.81308e-18   3.92523e-17  …  -1.96262e-17   0.0        \n",
       "  0.135029     -1.96262e-17  -3.92523e-17     -9.81308e-18   0.0        \n",
       "  0.00983275    1.96262e-17   0.0             -1.22663e-18  -1.96262e-17\n",
       "  0.0690593    -9.81308e-18   3.92523e-17     -4.41589e-17   9.81308e-18\n",
       "  0.00373929    9.81308e-18   0.0              3.06659e-18   9.81308e-18\n",
       "  0.0721536     0.0          -2.94392e-17  …   0.0           0.0        \n",
       " -0.184615      0.0           1.59463e-17      1.96262e-17   1.96262e-17\n",
       "  0.185205      0.0          -5.39719e-17      1.96262e-17   3.92523e-17\n",
       "  0.369547      3.92523e-17  -1.07944e-16      1.96262e-17   3.92523e-17\n",
       " -0.108246     -3.92523e-17   1.96262e-17      9.81308e-18   1.96262e-17\n",
       " -0.378968      3.92523e-17   7.85046e-17  …  -1.96262e-17   0.0        \n",
       "  0.240085      1.96262e-17  -3.92523e-17     -3.92523e-17   9.81308e-18\n",
       " -0.600201     -7.85046e-17   7.85046e-17      1.57009e-16   0.0        \n",
       "  ⋮                                        ⋱                 ⋮          \n",
       "  0.0          -1.96262e-17  -1.96262e-17     -1.83995e-18   0.211811   \n",
       " -1.62529e-17  -2.13703e-18   2.89026e-17     -2.35744e-18  -0.226732   \n",
       "  3.92523e-17   0.0           3.92523e-17     -1.91662e-17  -0.264809   \n",
       "  0.0          -6.13317e-19  -3.43458e-17      9.11351e-18   0.177585   \n",
       "  0.0           0.0          -3.92523e-17  …   2.75993e-18   0.164128   \n",
       " -3.92523e-17   0.0          -9.81308e-18      3.6799e-18   -0.0455058  \n",
       " -5.88785e-17   9.81308e-18  -9.81308e-17      6.62383e-17   0.611071   \n",
       "  3.92523e-17   0.0           1.96262e-17     -1.79395e-17  -0.0891294  \n",
       "  3.92523e-17  -1.96262e-17  -3.92523e-17      2.45327e-18   0.283134   \n",
       "  9.81308e-18   0.0           6.62383e-17  …  -2.31911e-17  -0.291356   \n",
       " -4.41589e-17   9.81308e-18  -9.81308e-17      3.9099e-17    0.406516   \n",
       " -3.92523e-17   9.81308e-18  -1.96262e-17     -2.91326e-18   0.143235   "
      ]
     },
     "execution_count": 47,
     "metadata": {},
     "output_type": "execute_result"
    }
   ],
   "source": [
    "svds(N3,nsv=6)[3]"
   ]
  },
  {
   "cell_type": "code",
   "execution_count": 60,
   "metadata": {
    "collapsed": false
   },
   "outputs": [
    {
     "data": {
      "text/plain": [
       "108x102 sparse matrix with 1818 Float64 entries:\n",
       "\t[91 ,   1]  =  -0.095228\n",
       "\t[92 ,   1]  =  0.71984\n",
       "\t[93 ,   1]  =  0.00585387\n",
       "\t[94 ,   1]  =  -0.0206859\n",
       "\t[95 ,   1]  =  -0.181859\n",
       "\t[96 ,   1]  =  -0.0945811\n",
       "\t[97 ,   1]  =  0.104249\n",
       "\t[98 ,   1]  =  0.00108345\n",
       "\t[99 ,   1]  =  -0.0550489\n",
       "\t[100,   1]  =  -0.0414709\n",
       "\t⋮\n",
       "\t[80 , 102]  =  0.178465\n",
       "\t[81 , 102]  =  -0.00787904\n",
       "\t[82 , 102]  =  0.266282\n",
       "\t[83 , 102]  =  0.259965\n",
       "\t[84 , 102]  =  -0.127572\n",
       "\t[85 , 102]  =  0.422756\n",
       "\t[86 , 102]  =  -0.0509411\n",
       "\t[87 , 102]  =  -0.119842\n",
       "\t[88 , 102]  =  0.559947\n",
       "\t[89 , 102]  =  0.284754\n",
       "\t[90 , 102]  =  -0.0984224"
      ]
     },
     "execution_count": 60,
     "metadata": {},
     "output_type": "execute_result"
    }
   ],
   "source": [
    "N'[:,1:n-m-T]"
   ]
  },
  {
   "cell_type": "code",
   "execution_count": 67,
   "metadata": {
    "collapsed": false
   },
   "outputs": [
    {
     "data": {
      "text/plain": [
       "108x108 Array{Float64,2}:\n",
       "  0.0          0.0         0.0        …   9.81308e-18   0.0        \n",
       "  0.0          0.0         0.0            7.85046e-17  -3.92523e-17\n",
       "  0.0          0.0         0.0           -4.90654e-17   9.81308e-18\n",
       "  0.0          0.0         0.0            3.92523e-17   1.96262e-17\n",
       "  0.0          0.0         0.0            0.0          -1.22663e-18\n",
       "  0.0          0.0         0.0        …   2.94392e-17   0.0        \n",
       "  0.0          0.0         0.0           -5.88785e-17   1.96262e-17\n",
       "  0.0          0.0         0.0           -1.96262e-17   0.0        \n",
       "  0.0          0.0         0.0            1.17757e-16   3.92523e-17\n",
       "  0.0          0.0         0.0            0.0           0.0        \n",
       "  0.0          0.0         0.0        …  -3.92523e-17  -7.85046e-17\n",
       "  0.0          0.0         0.0            1.96262e-17   3.92523e-17\n",
       "  0.0          0.0         0.0           -1.57009e-16   7.85046e-17\n",
       "  ⋮                                   ⋱                            \n",
       "  0.104249     0.263334   -0.0307281     -5.39719e-17  -0.211811   \n",
       "  0.00108345  -0.208559   -0.096303      -1.22663e-17   0.226732   \n",
       " -0.0550489    0.427748   -0.124114       2.94392e-17   0.264809   \n",
       " -0.0414709   -0.473782   -0.142639      -5.64252e-17  -0.177585   \n",
       " -0.144238     0.211401   -0.601872   …  -4.17056e-17  -0.164128   \n",
       " -0.169793     0.143157   -0.495787       6.13317e-18   0.0455058  \n",
       "  0.0947391   -0.060895   -0.0597519     -1.07944e-16  -0.611071   \n",
       " -0.0188092   -0.0057363  -0.0196538     -1.77862e-17   0.0891294  \n",
       "  0.0112597    0.140991    0.113139      -8.83177e-17  -0.283134   \n",
       "  0.060373     0.330626    0.114921   …   8.83177e-17   0.291356   \n",
       " -0.00332412   0.117154   -0.032662      -7.85046e-17  -0.406516   \n",
       " -0.112074     0.184514   -0.106437       7.35981e-18  -0.143235   "
      ]
     },
     "execution_count": 67,
     "metadata": {},
     "output_type": "execute_result"
    }
   ],
   "source": [
    "Us,Ss,Vs = svds(N3,nsv=6)\n",
    "Ss = Ss.^2\n",
    "Ncomplete = N'[:,1:n-m-T]\n",
    "\n",
    "span = [Ncomplete Vs]"
   ]
  },
  {
   "cell_type": "code",
   "execution_count": 68,
   "metadata": {
    "collapsed": false
   },
   "outputs": [
    {
     "data": {
      "text/plain": [
       "33"
      ]
     },
     "execution_count": 68,
     "metadata": {},
     "output_type": "execute_result"
    }
   ],
   "source": [
    "rank(span)"
   ]
  },
  {
   "cell_type": "code",
   "execution_count": 70,
   "metadata": {
    "collapsed": false
   },
   "outputs": [
    {
     "data": {
      "text/plain": [
       "108"
      ]
     },
     "execution_count": 70,
     "metadata": {},
     "output_type": "execute_result"
    }
   ],
   "source": [
    "rank(full(N))"
   ]
  },
  {
   "cell_type": "code",
   "execution_count": 6,
   "metadata": {
    "collapsed": false
   },
   "outputs": [
    {
     "data": {
      "text/plain": [
       "([0.0038729412011626594,0.0014555396811092292,0.0005461976717325809,0.00020484653587438627,7.680946048583108e-5,2.8798246425662575e-5],\n",
       "108x6 Array{Float64,2}:\n",
       "  0.06375       1.04083e-17   1.17094e-17  …  -6.93889e-18  -2.77556e-17\n",
       "  0.135029     -2.01662e-17   1.56125e-17      0.0          -1.38778e-17\n",
       "  0.00983275   -1.12757e-17   3.46945e-18      1.38778e-17   2.77556e-17\n",
       "  0.0690593    -5.20417e-18   1.73472e-17      1.38778e-17   1.38778e-17\n",
       "  0.00373929    8.67362e-19  -2.60209e-18     -1.56125e-17  -2.77556e-17\n",
       "  0.0721536    -2.1684e-17    2.60209e-18  …   0.0           1.6263e-18 \n",
       " -0.184615      5.20417e-17   3.46945e-18      0.0          -2.77556e-17\n",
       "  0.185205     -7.28584e-17  -1.73472e-17      0.0          -2.77556e-17\n",
       "  0.369547     -9.36751e-17   6.59195e-17      0.0           1.38778e-17\n",
       " -0.108246      6.50521e-17   1.73472e-17      0.0          -6.93889e-18\n",
       " -0.378968      2.94903e-17  -6.93889e-18  …   5.55112e-17   9.54098e-18\n",
       "  0.240085     -1.2837e-16   -2.08167e-17      5.55112e-17   2.77556e-17\n",
       " -0.600201      2.67147e-16   6.93889e-17      5.55112e-17   1.04083e-17\n",
       "  ⋮                                        ⋱                 ⋮          \n",
       " -3.46945e-18  -7.80626e-18  -2.81893e-18      1.12757e-17  -0.211811   \n",
       " -1.73472e-18   4.33681e-19   3.46945e-18     -1.60462e-17   0.226732   \n",
       " -1.73472e-18   8.67362e-18   5.74627e-18      3.90313e-18   0.264809   \n",
       "  3.46945e-18   4.33681e-18  -4.77049e-18     -2.08167e-17  -0.177585   \n",
       "  1.38778e-17   1.73472e-18  -6.93889e-18  …  -1.21431e-17  -0.164128   \n",
       "  0.0           1.38778e-17  -2.60209e-18     -2.42861e-17   0.0455058  \n",
       "  0.0           3.46945e-18  -8.67362e-18     -1.38778e-17  -0.611071   \n",
       "  0.0          -4.33681e-18   2.1684e-18       1.04083e-17   0.0891294  \n",
       "  6.93889e-18  -2.42861e-17  -2.60209e-18      6.93889e-18  -0.283134   \n",
       " -3.46945e-18   1.12757e-17   3.03577e-18  …   1.9082e-17    0.291356   \n",
       "  0.0          -1.73472e-17  -4.33681e-18      1.21431e-17  -0.406516   \n",
       "  3.46945e-18  -3.68629e-18  -3.14419e-18     -6.93889e-18  -0.143235   ,\n",
       "\n",
       "6,1,20,[1.05982e-20,4.06005e-21,8.48914e-22,6.64499e-21,7.35722e-22,-3.73975e-21,-3.30967e-21,2.23601e-21,1.58185e-21,7.34541e-21  …  6.18562e-23,7.26533e-22,6.58812e-22,1.19033e-21,1.01073e-21,-6.18008e-22,-1.34139e-21,4.58657e-22,-9.19298e-22,1.24337e-22])"
      ]
     },
     "execution_count": 6,
     "metadata": {},
     "output_type": "execute_result"
    }
   ],
   "source": [
    "Ds,Us = eigs(Qconstr,nev=6)"
   ]
  },
  {
   "cell_type": "code",
   "execution_count": 10,
   "metadata": {
    "collapsed": false
   },
   "outputs": [
    {
     "data": {
      "text/plain": [
       "108"
      ]
     },
     "execution_count": 10,
     "metadata": {},
     "output_type": "execute_result"
    }
   ],
   "source": [
    "rank(U)"
   ]
  },
  {
   "cell_type": "code",
   "execution_count": 21,
   "metadata": {
    "collapsed": false
   },
   "outputs": [
    {
     "data": {
      "text/plain": [
       "103"
      ]
     },
     "execution_count": 21,
     "metadata": {},
     "output_type": "execute_result"
    }
   ],
   "source": [
    "rank([Us [eye(102);zeros(6,102)] ])"
   ]
  },
  {
   "cell_type": "code",
   "execution_count": 17,
   "metadata": {
    "collapsed": false
   },
   "outputs": [
    {
     "data": {
      "text/plain": [
       "108x6 Array{Float64,2}:\n",
       "  0.06375       1.04083e-17   1.17094e-17  …  -6.93889e-18  -2.77556e-17\n",
       "  0.135029     -2.01662e-17   1.56125e-17      0.0          -1.38778e-17\n",
       "  0.00983275   -1.12757e-17   3.46945e-18      1.38778e-17   2.77556e-17\n",
       "  0.0690593    -5.20417e-18   1.73472e-17      1.38778e-17   1.38778e-17\n",
       "  0.00373929    8.67362e-19  -2.60209e-18     -1.56125e-17  -2.77556e-17\n",
       "  0.0721536    -2.1684e-17    2.60209e-18  …   0.0           1.6263e-18 \n",
       " -0.184615      5.20417e-17   3.46945e-18      0.0          -2.77556e-17\n",
       "  0.185205     -7.28584e-17  -1.73472e-17      0.0          -2.77556e-17\n",
       "  0.369547     -9.36751e-17   6.59195e-17      0.0           1.38778e-17\n",
       " -0.108246      6.50521e-17   1.73472e-17      0.0          -6.93889e-18\n",
       " -0.378968      2.94903e-17  -6.93889e-18  …   5.55112e-17   9.54098e-18\n",
       "  0.240085     -1.2837e-16   -2.08167e-17      5.55112e-17   2.77556e-17\n",
       " -0.600201      2.67147e-16   6.93889e-17      5.55112e-17   1.04083e-17\n",
       "  ⋮                                        ⋱                 ⋮          \n",
       " -3.46945e-18  -7.80626e-18  -2.81893e-18      1.12757e-17  -0.211811   \n",
       " -1.73472e-18   4.33681e-19   3.46945e-18     -1.60462e-17   0.226732   \n",
       " -1.73472e-18   8.67362e-18   5.74627e-18      3.90313e-18   0.264809   \n",
       "  3.46945e-18   4.33681e-18  -4.77049e-18     -2.08167e-17  -0.177585   \n",
       "  1.38778e-17   1.73472e-18  -6.93889e-18  …  -1.21431e-17  -0.164128   \n",
       "  0.0           1.38778e-17  -2.60209e-18     -2.42861e-17   0.0455058  \n",
       "  0.0           3.46945e-18  -8.67362e-18     -1.38778e-17  -0.611071   \n",
       "  0.0          -4.33681e-18   2.1684e-18       1.04083e-17   0.0891294  \n",
       "  6.93889e-18  -2.42861e-17  -2.60209e-18      6.93889e-18  -0.283134   \n",
       " -3.46945e-18   1.12757e-17   3.03577e-18  …   1.9082e-17    0.291356   \n",
       "  0.0          -1.73472e-17  -4.33681e-18      1.21431e-17  -0.406516   \n",
       "  3.46945e-18  -3.68629e-18  -3.14419e-18     -6.93889e-18  -0.143235   "
      ]
     },
     "execution_count": 17,
     "metadata": {},
     "output_type": "execute_result"
    }
   ],
   "source": [
    "Us"
   ]
  },
  {
   "cell_type": "code",
   "execution_count": 18,
   "metadata": {
    "collapsed": false
   },
   "outputs": [
    {
     "data": {
      "text/plain": [
       "108x102 Array{Float64,2}:\n",
       " 1.0  0.0  0.0  0.0  0.0  0.0  0.0  0.0  …  0.0  0.0  0.0  0.0  0.0  0.0  0.0\n",
       " 0.0  1.0  0.0  0.0  0.0  0.0  0.0  0.0     0.0  0.0  0.0  0.0  0.0  0.0  0.0\n",
       " 0.0  0.0  1.0  0.0  0.0  0.0  0.0  0.0     0.0  0.0  0.0  0.0  0.0  0.0  0.0\n",
       " 0.0  0.0  0.0  1.0  0.0  0.0  0.0  0.0     0.0  0.0  0.0  0.0  0.0  0.0  0.0\n",
       " 0.0  0.0  0.0  0.0  1.0  0.0  0.0  0.0     0.0  0.0  0.0  0.0  0.0  0.0  0.0\n",
       " 0.0  0.0  0.0  0.0  0.0  1.0  0.0  0.0  …  0.0  0.0  0.0  0.0  0.0  0.0  0.0\n",
       " 0.0  0.0  0.0  0.0  0.0  0.0  1.0  0.0     0.0  0.0  0.0  0.0  0.0  0.0  0.0\n",
       " 0.0  0.0  0.0  0.0  0.0  0.0  0.0  1.0     0.0  0.0  0.0  0.0  0.0  0.0  0.0\n",
       " 0.0  0.0  0.0  0.0  0.0  0.0  0.0  0.0     0.0  0.0  0.0  0.0  0.0  0.0  0.0\n",
       " 0.0  0.0  0.0  0.0  0.0  0.0  0.0  0.0     0.0  0.0  0.0  0.0  0.0  0.0  0.0\n",
       " 0.0  0.0  0.0  0.0  0.0  0.0  0.0  0.0  …  0.0  0.0  0.0  0.0  0.0  0.0  0.0\n",
       " 0.0  0.0  0.0  0.0  0.0  0.0  0.0  0.0     0.0  0.0  0.0  0.0  0.0  0.0  0.0\n",
       " 0.0  0.0  0.0  0.0  0.0  0.0  0.0  0.0     0.0  0.0  0.0  0.0  0.0  0.0  0.0\n",
       " ⋮                        ⋮              ⋱  ⋮                        ⋮       \n",
       " 0.0  0.0  0.0  0.0  0.0  0.0  0.0  0.0     0.0  1.0  0.0  0.0  0.0  0.0  0.0\n",
       " 0.0  0.0  0.0  0.0  0.0  0.0  0.0  0.0     0.0  0.0  1.0  0.0  0.0  0.0  0.0\n",
       " 0.0  0.0  0.0  0.0  0.0  0.0  0.0  0.0     0.0  0.0  0.0  1.0  0.0  0.0  0.0\n",
       " 0.0  0.0  0.0  0.0  0.0  0.0  0.0  0.0     0.0  0.0  0.0  0.0  1.0  0.0  0.0\n",
       " 0.0  0.0  0.0  0.0  0.0  0.0  0.0  0.0  …  0.0  0.0  0.0  0.0  0.0  1.0  0.0\n",
       " 0.0  0.0  0.0  0.0  0.0  0.0  0.0  0.0     0.0  0.0  0.0  0.0  0.0  0.0  1.0\n",
       " 0.0  0.0  0.0  0.0  0.0  0.0  0.0  0.0     0.0  0.0  0.0  0.0  0.0  0.0  0.0\n",
       " 0.0  0.0  0.0  0.0  0.0  0.0  0.0  0.0     0.0  0.0  0.0  0.0  0.0  0.0  0.0\n",
       " 0.0  0.0  0.0  0.0  0.0  0.0  0.0  0.0     0.0  0.0  0.0  0.0  0.0  0.0  0.0\n",
       " 0.0  0.0  0.0  0.0  0.0  0.0  0.0  0.0  …  0.0  0.0  0.0  0.0  0.0  0.0  0.0\n",
       " 0.0  0.0  0.0  0.0  0.0  0.0  0.0  0.0     0.0  0.0  0.0  0.0  0.0  0.0  0.0\n",
       " 0.0  0.0  0.0  0.0  0.0  0.0  0.0  0.0     0.0  0.0  0.0  0.0  0.0  0.0  0.0"
      ]
     },
     "execution_count": 18,
     "metadata": {},
     "output_type": "execute_result"
    }
   ],
   "source": [
    "[eye(102);zeros(6,102)]"
   ]
  },
  {
   "cell_type": "code",
   "execution_count": 12,
   "metadata": {
    "collapsed": false
   },
   "outputs": [
    {
     "data": {
      "text/plain": [
       "102"
      ]
     },
     "execution_count": 12,
     "metadata": {},
     "output_type": "execute_result"
    }
   ],
   "source": [
    "108-6"
   ]
  },
  {
   "cell_type": "code",
   "execution_count": 8,
   "metadata": {
    "collapsed": false
   },
   "outputs": [
    {
     "data": {
      "text/plain": [
       "108x6 Array{Float64,2}:\n",
       "  0.06375       1.04083e-17   1.17094e-17  …  -6.93889e-18  -2.77556e-17\n",
       "  0.135029     -2.01662e-17   1.56125e-17      0.0          -1.38778e-17\n",
       "  0.00983275   -1.12757e-17   3.46945e-18      1.38778e-17   2.77556e-17\n",
       "  0.0690593    -5.20417e-18   1.73472e-17      1.38778e-17   1.38778e-17\n",
       "  0.00373929    8.67362e-19  -2.60209e-18     -1.56125e-17  -2.77556e-17\n",
       "  0.0721536    -2.1684e-17    2.60209e-18  …   0.0           1.6263e-18 \n",
       " -0.184615      5.20417e-17   3.46945e-18      0.0          -2.77556e-17\n",
       "  0.185205     -7.28584e-17  -1.73472e-17      0.0          -2.77556e-17\n",
       "  0.369547     -9.36751e-17   6.59195e-17      0.0           1.38778e-17\n",
       " -0.108246      6.50521e-17   1.73472e-17      0.0          -6.93889e-18\n",
       " -0.378968      2.94903e-17  -6.93889e-18  …   5.55112e-17   9.54098e-18\n",
       "  0.240085     -1.2837e-16   -2.08167e-17      5.55112e-17   2.77556e-17\n",
       " -0.600201      2.67147e-16   6.93889e-17      5.55112e-17   1.04083e-17\n",
       "  ⋮                                        ⋱                 ⋮          \n",
       " -3.46945e-18  -7.80626e-18  -2.81893e-18      1.12757e-17  -0.211811   \n",
       " -1.73472e-18   4.33681e-19   3.46945e-18     -1.60462e-17   0.226732   \n",
       " -1.73472e-18   8.67362e-18   5.74627e-18      3.90313e-18   0.264809   \n",
       "  3.46945e-18   4.33681e-18  -4.77049e-18     -2.08167e-17  -0.177585   \n",
       "  1.38778e-17   1.73472e-18  -6.93889e-18  …  -1.21431e-17  -0.164128   \n",
       "  0.0           1.38778e-17  -2.60209e-18     -2.42861e-17   0.0455058  \n",
       "  0.0           3.46945e-18  -8.67362e-18     -1.38778e-17  -0.611071   \n",
       "  0.0          -4.33681e-18   2.1684e-18       1.04083e-17   0.0891294  \n",
       "  6.93889e-18  -2.42861e-17  -2.60209e-18      6.93889e-18  -0.283134   \n",
       " -3.46945e-18   1.12757e-17   3.03577e-18  …   1.9082e-17    0.291356   \n",
       "  0.0          -1.73472e-17  -4.33681e-18      1.21431e-17  -0.406516   \n",
       "  3.46945e-18  -3.68629e-18  -3.14419e-18     -6.93889e-18  -0.143235   "
      ]
     },
     "execution_count": 8,
     "metadata": {},
     "output_type": "execute_result"
    }
   ],
   "source": [
    "Us"
   ]
  },
  {
   "cell_type": "code",
   "execution_count": 79,
   "metadata": {
    "collapsed": false
   },
   "outputs": [
    {
     "data": {
      "text/plain": [
       "108-element Array{Float64,1}:\n",
       " -0.0        \n",
       " -0.0        \n",
       " -0.0        \n",
       " -0.0        \n",
       " -0.0        \n",
       " -0.0        \n",
       " -0.0        \n",
       " -0.0        \n",
       " -0.0        \n",
       " -0.0        \n",
       " -0.0        \n",
       " -0.0        \n",
       " -0.0        \n",
       "  ⋮          \n",
       "  0.0        \n",
       "  0.0        \n",
       "  0.0        \n",
       "  0.0        \n",
       "  0.0        \n",
       "  0.0        \n",
       "  2.87982e-5 \n",
       "  7.68095e-5 \n",
       "  0.000204846\n",
       "  0.000546198\n",
       "  0.00145554 \n",
       "  0.00387294 "
      ]
     },
     "execution_count": 79,
     "metadata": {},
     "output_type": "execute_result"
    }
   ],
   "source": [
    "round(D,10)"
   ]
  },
  {
   "cell_type": "code",
   "execution_count": 43,
   "metadata": {
    "collapsed": false
   },
   "outputs": [
    {
     "data": {
      "text/plain": [
       "450x558 Array{Float64,2}:\n",
       "  0.0           0.0           0.0          …  0.0           0.0     \n",
       "  0.0389488     0.0           0.0             0.0           0.0     \n",
       "  0.00908268   -3.21027e-17   0.0             0.0           0.0     \n",
       "  0.0221437    -6.46185e-17   2.91286e-17     0.0           0.0     \n",
       "  0.0387909     2.60258e-17  -6.96516e-18     0.0           0.0     \n",
       "  0.00868475   -2.61922e-17   3.84469e-18  …  0.0           0.0     \n",
       " -2.33342e-7    4.76162e-22   1.57988e-22     0.0           0.0     \n",
       " -0.0190059     8.08736e-18  -2.00658e-17     0.0           0.0     \n",
       "  0.0252781    -7.71641e-17   8.87173e-17     0.0           0.0     \n",
       "  0.0478962     5.12225e-17   2.24238e-17     0.0           0.0     \n",
       "  0.0298048     2.08087e-17   6.56153e-17  …  0.0           0.0     \n",
       "  0.0444463     3.20551e-17   1.05745e-16     0.0           0.0     \n",
       "  0.0352834     3.8967e-17    1.15922e-16     0.0           0.0     \n",
       "  ⋮                                        ⋱                        \n",
       " -1.97078e-16  -6.39664e-16  -2.3597e-16      0.0           0.0     \n",
       " -1.84602e-16  -7.43606e-16  -2.78471e-17     0.0           0.0     \n",
       "  3.68406e-16   5.19777e-16   9.71795e-16  …  0.0           0.0     \n",
       "  2.91457e-16  -3.36127e-17   1.35723e-15     0.0           0.0     \n",
       " -7.9618e-16   -1.37639e-15   3.59248e-15     0.0           0.0     \n",
       " -8.68822e-18   4.96481e-16  -1.92613e-15     0.0           0.0     \n",
       "  0.000265077   6.93546e-5    0.000246886     0.0           0.0     \n",
       "  8.73333e-18   1.2707e-17    6.27718e-17  …  0.0           0.0     \n",
       " -1.75317e-16   2.25299e-17   1.35917e-16     0.0           0.0     \n",
       "  9.97421e-18  -8.08133e-17  -2.81677e-17     0.0           0.0     \n",
       "  6.81822e-17   2.66159e-16  -2.37339e-17     0.999272      0.0     \n",
       "  1.54389e-17   7.45093e-17  -5.78964e-16     9.71206e-18  -0.998062"
      ]
     },
     "execution_count": 43,
     "metadata": {},
     "output_type": "execute_result"
    }
   ],
   "source": [
    "Q,R = qr(full(A)')\n",
    "P = Q'\n",
    "# P = N'"
   ]
  },
  {
   "cell_type": "code",
   "execution_count": 45,
   "metadata": {
    "collapsed": false
   },
   "outputs": [
    {
     "data": {
      "image/png": "[encoded data removed]",
      "image/svg+xml": [
       "<?xml version=\"1.0\" encoding=\"utf-8\" standalone=\"no\"?>\n",
       "<!DOCTYPE svg PUBLIC \"-//W3C//DTD SVG 1.1//EN\"\n",
       "  \"http://www.w3.org/Graphics/SVG/1.1/DTD/svg11.dtd\">\n",
       "<!-- Created with matplotlib (http://matplotlib.org/) -->\n",
       "<svg height=\"375pt\" version=\"1.1\" viewBox=\"0 0 377 375\" width=\"377pt\" xmlns=\"http://www.w3.org/2000/svg\" xmlns:xlink=\"http://www.w3.org/1999/xlink\">\n",
       " <defs>\n",
       "  <style type=\"text/css\">\n",
       "*{stroke-linecap:butt;stroke-linejoin:round;}\n",
       "  </style>\n",
       " </defs>\n",
       " <g id=\"figure_1\">\n",
       "  <g id=\"patch_1\">\n",
       "   <path d=\"\n",
       "M0 375.614\n",
       "L377.594 375.614\n",
       "L377.594 0\n",
       "L0 0\n",
       "z\n",
       "\" style=\"fill:#ffffff;\"/>\n",
       "  </g>\n",
       "  <g id=\"axes_1\">\n",
       "   <g id=\"patch_2\">\n",
       "    <path d=\"\n",
       "M24.7938 368.414\n",
       "L370.394 368.414\n",
       "L370.394 22.8137\n",
       "L24.7938 22.8137\n",
       "z\n",
       "\" style=\"fill:#ffffff;\"/>\n",
       "   </g>\n",
       "   <g clip-path=\"url(#pa1a4bfacdc)\">\n",
       "    <image height=\"346.32\" id=\"image6b44cae543\" width=\"346.32\" x=\"24.79375\" xlink:href=\"data:image/png;base64,\n",
       "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\" y=\"22.09375\"/>\n",
       "   </g>\n",
       "   <g id=\"patch_3\">\n",
       "    <path d=\"\n",
       "M370.394 368.414\n",
       "L370.394 22.8137\" style=\"fill:none;stroke:#000000;stroke-linecap:square;stroke-linejoin:miter;\"/>\n",
       "   </g>\n",
       "   <g id=\"patch_4\">\n",
       "    <path d=\"\n",
       "M24.7938 22.8137\n",
       "L370.394 22.8137\" style=\"fill:none;stroke:#000000;stroke-linecap:square;stroke-linejoin:miter;\"/>\n",
       "   </g>\n",
       "   <g id=\"patch_5\">\n",
       "    <path d=\"\n",
       "M24.7938 368.414\n",
       "L370.394 368.414\" style=\"fill:none;stroke:#000000;stroke-linecap:square;stroke-linejoin:miter;\"/>\n",
       "   </g>\n",
       "   <g id=\"patch_6\">\n",
       "    <path d=\"\n",
       "M24.7938 368.414\n",
       "L24.7938 22.8137\" style=\"fill:none;stroke:#000000;stroke-linecap:square;stroke-linejoin:miter;\"/>\n",
       "   </g>\n",
       "   <g id=\"matplotlib.axis_1\">\n",
       "    <g id=\"xtick_1\">\n",
       "     <g id=\"line2d_1\">\n",
       "      <defs>\n",
       "       <path d=\"\n",
       "M0 0\n",
       "L0 -4\" id=\"mc7db9fdffb\" style=\"stroke:#000000;stroke-width:0.5;\"/>\n",
       "      </defs>\n",
       "      <g>\n",
       "       <use style=\"stroke:#000000;stroke-width:0.5;\" x=\"33.0223214286\" xlink:href=\"#mc7db9fdffb\" y=\"368.41375\"/>\n",
       "      </g>\n",
       "     </g>\n",
       "     <g id=\"line2d_2\">\n",
       "      <defs>\n",
       "       <path d=\"\n",
       "M0 0\n",
       "L0 4\" id=\"m5a7d422ac3\" style=\"stroke:#000000;stroke-width:0.5;\"/>\n",
       "      </defs>\n",
       "      <g>\n",
       "       <use style=\"stroke:#000000;stroke-width:0.5;\" x=\"33.0223214286\" xlink:href=\"#m5a7d422ac3\" y=\"22.81375\"/>\n",
       "      </g>\n",
       "     </g>\n",
       "     <g id=\"text_1\">\n",
       "      <!-- 0 -->\n",
       "      <defs>\n",
       "       <path d=\"\n",
       "M31.7812 66.4062\n",
       "Q24.1719 66.4062 20.3281 58.9062\n",
       "Q16.5 51.4219 16.5 36.375\n",
       "Q16.5 21.3906 20.3281 13.8906\n",
       "Q24.1719 6.39062 31.7812 6.39062\n",
       "Q39.4531 6.39062 43.2812 13.8906\n",
       "Q47.125 21.3906 47.125 36.375\n",
       "Q47.125 51.4219 43.2812 58.9062\n",
       "Q39.4531 66.4062 31.7812 66.4062\n",
       "M31.7812 74.2188\n",
       "Q44.0469 74.2188 50.5156 64.5156\n",
       "Q56.9844 54.8281 56.9844 36.375\n",
       "Q56.9844 17.9688 50.5156 8.26562\n",
       "Q44.0469 -1.42188 31.7812 -1.42188\n",
       "Q19.5312 -1.42188 13.0625 8.26562\n",
       "Q6.59375 17.9688 6.59375 36.375\n",
       "Q6.59375 54.8281 13.0625 64.5156\n",
       "Q19.5312 74.2188 31.7812 74.2188\" id=\"BitstreamVeraSans-Roman-30\"/>\n",
       "      </defs>\n",
       "      <g transform=\"translate(29.9988839286 16.318125)scale(0.12 -0.12)\">\n",
       "       <use xlink:href=\"#BitstreamVeraSans-Roman-30\"/>\n",
       "      </g>\n",
       "     </g>\n",
       "    </g>\n",
       "    <g id=\"xtick_2\">\n",
       "     <g id=\"line2d_3\">\n",
       "      <g>\n",
       "       <use style=\"stroke:#000000;stroke-width:0.5;\" x=\"115.308035714\" xlink:href=\"#mc7db9fdffb\" y=\"368.41375\"/>\n",
       "      </g>\n",
       "     </g>\n",
       "     <g id=\"line2d_4\">\n",
       "      <g>\n",
       "       <use style=\"stroke:#000000;stroke-width:0.5;\" x=\"115.308035714\" xlink:href=\"#m5a7d422ac3\" y=\"22.81375\"/>\n",
       "      </g>\n",
       "     </g>\n",
       "     <g id=\"text_2\">\n",
       "      <!-- 5 -->\n",
       "      <defs>\n",
       "       <path d=\"\n",
       "M10.7969 72.9062\n",
       "L49.5156 72.9062\n",
       "L49.5156 64.5938\n",
       "L19.8281 64.5938\n",
       "L19.8281 46.7344\n",
       "Q21.9688 47.4688 24.1094 47.8281\n",
       "Q26.2656 48.1875 28.4219 48.1875\n",
       "Q40.625 48.1875 47.75 41.5\n",
       "Q54.8906 34.8125 54.8906 23.3906\n",
       "Q54.8906 11.625 47.5625 5.09375\n",
       "Q40.2344 -1.42188 26.9062 -1.42188\n",
       "Q22.3125 -1.42188 17.5469 -0.640625\n",
       "Q12.7969 0.140625 7.71875 1.70312\n",
       "L7.71875 11.625\n",
       "Q12.1094 9.23438 16.7969 8.0625\n",
       "Q21.4844 6.89062 26.7031 6.89062\n",
       "Q35.1562 6.89062 40.0781 11.3281\n",
       "Q45.0156 15.7656 45.0156 23.3906\n",
       "Q45.0156 31 40.0781 35.4375\n",
       "Q35.1562 39.8906 26.7031 39.8906\n",
       "Q22.75 39.8906 18.8125 39.0156\n",
       "Q14.8906 38.1406 10.7969 36.2812\n",
       "z\n",
       "\" id=\"BitstreamVeraSans-Roman-35\"/>\n",
       "      </defs>\n",
       "      <g transform=\"translate(112.477723214 16.318125)scale(0.12 -0.12)\">\n",
       "       <use xlink:href=\"#BitstreamVeraSans-Roman-35\"/>\n",
       "      </g>\n",
       "     </g>\n",
       "    </g>\n",
       "    <g id=\"xtick_3\">\n",
       "     <g id=\"line2d_5\">\n",
       "      <g>\n",
       "       <use style=\"stroke:#000000;stroke-width:0.5;\" x=\"197.59375\" xlink:href=\"#mc7db9fdffb\" y=\"368.41375\"/>\n",
       "      </g>\n",
       "     </g>\n",
       "     <g id=\"line2d_6\">\n",
       "      <g>\n",
       "       <use style=\"stroke:#000000;stroke-width:0.5;\" x=\"197.59375\" xlink:href=\"#m5a7d422ac3\" y=\"22.81375\"/>\n",
       "      </g>\n",
       "     </g>\n",
       "     <g id=\"text_3\">\n",
       "      <!-- 10 -->\n",
       "      <defs>\n",
       "       <path d=\"\n",
       "M12.4062 8.29688\n",
       "L28.5156 8.29688\n",
       "L28.5156 63.9219\n",
       "L10.9844 60.4062\n",
       "L10.9844 69.3906\n",
       "L28.4219 72.9062\n",
       "L38.2812 72.9062\n",
       "L38.2812 8.29688\n",
       "L54.3906 8.29688\n",
       "L54.3906 0\n",
       "L12.4062 0\n",
       "z\n",
       "\" id=\"BitstreamVeraSans-Roman-31\"/>\n",
       "      </defs>\n",
       "      <g transform=\"translate(191.01625 16.318125)scale(0.12 -0.12)\">\n",
       "       <use xlink:href=\"#BitstreamVeraSans-Roman-31\"/>\n",
       "       <use x=\"63.623046875\" xlink:href=\"#BitstreamVeraSans-Roman-30\"/>\n",
       "      </g>\n",
       "     </g>\n",
       "    </g>\n",
       "    <g id=\"xtick_4\">\n",
       "     <g id=\"line2d_7\">\n",
       "      <g>\n",
       "       <use style=\"stroke:#000000;stroke-width:0.5;\" x=\"279.879464286\" xlink:href=\"#mc7db9fdffb\" y=\"368.41375\"/>\n",
       "      </g>\n",
       "     </g>\n",
       "     <g id=\"line2d_8\">\n",
       "      <g>\n",
       "       <use style=\"stroke:#000000;stroke-width:0.5;\" x=\"279.879464286\" xlink:href=\"#m5a7d422ac3\" y=\"22.81375\"/>\n",
       "      </g>\n",
       "     </g>\n",
       "     <g id=\"text_4\">\n",
       "      <!-- 15 -->\n",
       "      <g transform=\"translate(273.427589286 16.318125)scale(0.12 -0.12)\">\n",
       "       <use xlink:href=\"#BitstreamVeraSans-Roman-31\"/>\n",
       "       <use x=\"63.623046875\" xlink:href=\"#BitstreamVeraSans-Roman-35\"/>\n",
       "      </g>\n",
       "     </g>\n",
       "    </g>\n",
       "    <g id=\"xtick_5\">\n",
       "     <g id=\"line2d_9\">\n",
       "      <g>\n",
       "       <use style=\"stroke:#000000;stroke-width:0.5;\" x=\"362.165178571\" xlink:href=\"#mc7db9fdffb\" y=\"368.41375\"/>\n",
       "      </g>\n",
       "     </g>\n",
       "     <g id=\"line2d_10\">\n",
       "      <g>\n",
       "       <use style=\"stroke:#000000;stroke-width:0.5;\" x=\"362.165178571\" xlink:href=\"#m5a7d422ac3\" y=\"22.81375\"/>\n",
       "      </g>\n",
       "     </g>\n",
       "     <g id=\"text_5\">\n",
       "      <!-- 20 -->\n",
       "      <defs>\n",
       "       <path d=\"\n",
       "M19.1875 8.29688\n",
       "L53.6094 8.29688\n",
       "L53.6094 0\n",
       "L7.32812 0\n",
       "L7.32812 8.29688\n",
       "Q12.9375 14.1094 22.625 23.8906\n",
       "Q32.3281 33.6875 34.8125 36.5312\n",
       "Q39.5469 41.8438 41.4219 45.5312\n",
       "Q43.3125 49.2188 43.3125 52.7812\n",
       "Q43.3125 58.5938 39.2344 62.25\n",
       "Q35.1562 65.9219 28.6094 65.9219\n",
       "Q23.9688 65.9219 18.8125 64.3125\n",
       "Q13.6719 62.7031 7.8125 59.4219\n",
       "L7.8125 69.3906\n",
       "Q13.7656 71.7812 18.9375 73\n",
       "Q24.125 74.2188 28.4219 74.2188\n",
       "Q39.75 74.2188 46.4844 68.5469\n",
       "Q53.2188 62.8906 53.2188 53.4219\n",
       "Q53.2188 48.9219 51.5312 44.8906\n",
       "Q49.8594 40.875 45.4062 35.4062\n",
       "Q44.1875 33.9844 37.6406 27.2188\n",
       "Q31.1094 20.4531 19.1875 8.29688\" id=\"BitstreamVeraSans-Roman-32\"/>\n",
       "      </defs>\n",
       "      <g transform=\"translate(355.368303571 16.318125)scale(0.12 -0.12)\">\n",
       "       <use xlink:href=\"#BitstreamVeraSans-Roman-32\"/>\n",
       "       <use x=\"63.623046875\" xlink:href=\"#BitstreamVeraSans-Roman-30\"/>\n",
       "      </g>\n",
       "     </g>\n",
       "    </g>\n",
       "   </g>\n",
       "   <g id=\"matplotlib.axis_2\">\n",
       "    <g id=\"ytick_1\">\n",
       "     <g id=\"line2d_11\">\n",
       "      <defs>\n",
       "       <path d=\"\n",
       "M0 0\n",
       "L4 0\" id=\"md7965d1ba0\" style=\"stroke:#000000;stroke-width:0.5;\"/>\n",
       "      </defs>\n",
       "      <g>\n",
       "       <use style=\"stroke:#000000;stroke-width:0.5;\" x=\"24.79375\" xlink:href=\"#md7965d1ba0\" y=\"31.0423214286\"/>\n",
       "      </g>\n",
       "     </g>\n",
       "     <g id=\"line2d_12\">\n",
       "      <defs>\n",
       "       <path d=\"\n",
       "M0 0\n",
       "L-4 0\" id=\"md9a1c1a7cd\" style=\"stroke:#000000;stroke-width:0.5;\"/>\n",
       "      </defs>\n",
       "      <g>\n",
       "       <use style=\"stroke:#000000;stroke-width:0.5;\" x=\"370.39375\" xlink:href=\"#md9a1c1a7cd\" y=\"31.0423214286\"/>\n",
       "      </g>\n",
       "     </g>\n",
       "     <g id=\"text_6\">\n",
       "      <!-- 0 -->\n",
       "      <g transform=\"translate(14.746875 34.3535714286)scale(0.12 -0.12)\">\n",
       "       <use xlink:href=\"#BitstreamVeraSans-Roman-30\"/>\n",
       "      </g>\n",
       "     </g>\n",
       "    </g>\n",
       "    <g id=\"ytick_2\">\n",
       "     <g id=\"line2d_13\">\n",
       "      <g>\n",
       "       <use style=\"stroke:#000000;stroke-width:0.5;\" x=\"24.79375\" xlink:href=\"#md7965d1ba0\" y=\"113.328035714\"/>\n",
       "      </g>\n",
       "     </g>\n",
       "     <g id=\"line2d_14\">\n",
       "      <g>\n",
       "       <use style=\"stroke:#000000;stroke-width:0.5;\" x=\"370.39375\" xlink:href=\"#md9a1c1a7cd\" y=\"113.328035714\"/>\n",
       "      </g>\n",
       "     </g>\n",
       "     <g id=\"text_7\">\n",
       "      <!-- 5 -->\n",
       "      <g transform=\"translate(15.133125 116.639285714)scale(0.12 -0.12)\">\n",
       "       <use xlink:href=\"#BitstreamVeraSans-Roman-35\"/>\n",
       "      </g>\n",
       "     </g>\n",
       "    </g>\n",
       "    <g id=\"ytick_3\">\n",
       "     <g id=\"line2d_15\">\n",
       "      <g>\n",
       "       <use style=\"stroke:#000000;stroke-width:0.5;\" x=\"24.79375\" xlink:href=\"#md7965d1ba0\" y=\"195.61375\"/>\n",
       "      </g>\n",
       "     </g>\n",
       "     <g id=\"line2d_16\">\n",
       "      <g>\n",
       "       <use style=\"stroke:#000000;stroke-width:0.5;\" x=\"370.39375\" xlink:href=\"#md9a1c1a7cd\" y=\"195.61375\"/>\n",
       "      </g>\n",
       "     </g>\n",
       "     <g id=\"text_8\">\n",
       "      <!-- 10 -->\n",
       "      <g transform=\"translate(7.63875 198.925)scale(0.12 -0.12)\">\n",
       "       <use xlink:href=\"#BitstreamVeraSans-Roman-31\"/>\n",
       "       <use x=\"63.623046875\" xlink:href=\"#BitstreamVeraSans-Roman-30\"/>\n",
       "      </g>\n",
       "     </g>\n",
       "    </g>\n",
       "    <g id=\"ytick_4\">\n",
       "     <g id=\"line2d_17\">\n",
       "      <g>\n",
       "       <use style=\"stroke:#000000;stroke-width:0.5;\" x=\"24.79375\" xlink:href=\"#md7965d1ba0\" y=\"277.899464286\"/>\n",
       "      </g>\n",
       "     </g>\n",
       "     <g id=\"line2d_18\">\n",
       "      <g>\n",
       "       <use style=\"stroke:#000000;stroke-width:0.5;\" x=\"370.39375\" xlink:href=\"#md9a1c1a7cd\" y=\"277.899464286\"/>\n",
       "      </g>\n",
       "     </g>\n",
       "     <g id=\"text_9\">\n",
       "      <!-- 15 -->\n",
       "      <g transform=\"translate(7.89 281.210714286)scale(0.12 -0.12)\">\n",
       "       <use xlink:href=\"#BitstreamVeraSans-Roman-31\"/>\n",
       "       <use x=\"63.623046875\" xlink:href=\"#BitstreamVeraSans-Roman-35\"/>\n",
       "      </g>\n",
       "     </g>\n",
       "    </g>\n",
       "    <g id=\"ytick_5\">\n",
       "     <g id=\"line2d_19\">\n",
       "      <g>\n",
       "       <use style=\"stroke:#000000;stroke-width:0.5;\" x=\"24.79375\" xlink:href=\"#md7965d1ba0\" y=\"360.185178571\"/>\n",
       "      </g>\n",
       "     </g>\n",
       "     <g id=\"line2d_20\">\n",
       "      <g>\n",
       "       <use style=\"stroke:#000000;stroke-width:0.5;\" x=\"370.39375\" xlink:href=\"#md9a1c1a7cd\" y=\"360.185178571\"/>\n",
       "      </g>\n",
       "     </g>\n",
       "     <g id=\"text_10\">\n",
       "      <!-- 20 -->\n",
       "      <g transform=\"translate(7.2 363.496428571)scale(0.12 -0.12)\">\n",
       "       <use xlink:href=\"#BitstreamVeraSans-Roman-32\"/>\n",
       "       <use x=\"63.623046875\" xlink:href=\"#BitstreamVeraSans-Roman-30\"/>\n",
       "      </g>\n",
       "     </g>\n",
       "    </g>\n",
       "   </g>\n",
       "  </g>\n",
       " </g>\n",
       " <defs>\n",
       "  <clipPath id=\"pa1a4bfacdc\">\n",
       "   <rect height=\"345.6\" width=\"345.6\" x=\"24.79375\" y=\"22.81375\"/>\n",
       "  </clipPath>\n",
       " </defs>\n",
       "</svg>\n"
      ],
      "text/plain": [
       "PyPlot.Figure(PyObject <matplotlib.figure.Figure object at 0x7f2bd116d4e0>)"
      ]
     },
     "metadata": {},
     "output_type": "display_data"
    },
    {
     "data": {
      "text/plain": [
       "PyObject <matplotlib.image.AxesImage object at 0x7f2bd11a9b38>"
      ]
     },
     "execution_count": 45,
     "metadata": {},
     "output_type": "execute_result"
    }
   ],
   "source": [
    "using PyPlot\n",
    "PyPlot.svg(true)\n",
    "spy((P*Qc*(P'))[430:end,430:end])"
   ]
  },
  {
   "cell_type": "code",
   "execution_count": 61,
   "metadata": {
    "collapsed": false
   },
   "outputs": [
    {
     "data": {
      "text/plain": [
       "450x450 Array{Float64,2}:\n",
       " 0.0  0.0  0.0  0.0  0.0  0.0  0.0  0.0  0.0  …   0.0           0.0        \n",
       " 0.0  0.0  0.0  0.0  0.0  0.0  0.0  0.0  0.0      0.0           0.0        \n",
       " 0.0  0.0  0.0  0.0  0.0  0.0  0.0  0.0  0.0      0.0           0.0        \n",
       " 0.0  0.0  0.0  0.0  0.0  0.0  0.0  0.0  0.0      0.0           0.0        \n",
       " 0.0  0.0  0.0  0.0  0.0  0.0  0.0  0.0  0.0      0.0           0.0        \n",
       " 0.0  0.0  0.0  0.0  0.0  0.0  0.0  0.0  0.0  …   0.0           0.0        \n",
       " 0.0  0.0  0.0  0.0  0.0  0.0  0.0  0.0  0.0      0.0           0.0        \n",
       " 0.0  0.0  0.0  0.0  0.0  0.0  0.0  0.0  0.0      0.0           0.0        \n",
       " 0.0  0.0  0.0  0.0  0.0  0.0  0.0  0.0  0.0      0.0           0.0        \n",
       " 0.0  0.0  0.0  0.0  0.0  0.0  0.0  0.0  0.0      0.0           0.0        \n",
       " 0.0  0.0  0.0  0.0  0.0  0.0  0.0  0.0  0.0  …   0.0           0.0        \n",
       " 0.0  0.0  0.0  0.0  0.0  0.0  0.0  0.0  0.0      0.0           0.0        \n",
       " 0.0  0.0  0.0  0.0  0.0  0.0  0.0  0.0  0.0      0.0           0.0        \n",
       " ⋮                        ⋮                   ⋱                            \n",
       " 0.0  0.0  0.0  0.0  0.0  0.0  0.0  0.0  0.0      0.0           0.0        \n",
       " 0.0  0.0  0.0  0.0  0.0  0.0  0.0  0.0  0.0      0.0           0.0        \n",
       " 0.0  0.0  0.0  0.0  0.0  0.0  0.0  0.0  0.0  …   0.0           0.0        \n",
       " 0.0  0.0  0.0  0.0  0.0  0.0  0.0  0.0  0.0      0.0           0.0        \n",
       " 0.0  0.0  0.0  0.0  0.0  0.0  0.0  0.0  0.0      0.0           0.0        \n",
       " 0.0  0.0  0.0  0.0  0.0  0.0  0.0  0.0  0.0      0.0           0.0        \n",
       " 0.0  0.0  0.0  0.0  0.0  0.0  0.0  0.0  0.0     -1.05194e-18   1.48504e-18\n",
       " 0.0  0.0  0.0  0.0  0.0  0.0  0.0  0.0  0.0  …   3.56398e-19  -1.24926e-18\n",
       " 0.0  0.0  0.0  0.0  0.0  0.0  0.0  0.0  0.0     -1.46286e-19  -2.3814e-18 \n",
       " 0.0  0.0  0.0  0.0  0.0  0.0  0.0  0.0  0.0      7.43564e-19  -6.65133e-19\n",
       " 0.0  0.0  0.0  0.0  0.0  0.0  0.0  0.0  0.0      0.998544      9.70499e-18\n",
       " 0.0  0.0  0.0  0.0  0.0  0.0  0.0  0.0  0.0      9.70499e-18   0.996127   "
      ]
     },
     "execution_count": 61,
     "metadata": {},
     "output_type": "execute_result"
    }
   ],
   "source": [
    "Qtest = P*Qc*(P')\n",
    "# Qtest = full(N'*Qc*N)\n",
    "eig(Qtest)[1]\n",
    "Qtest"
   ]
  },
  {
   "cell_type": "code",
   "execution_count": 58,
   "metadata": {
    "collapsed": false
   },
   "outputs": [
    {
     "data": {
      "text/plain": [
       "558x558 Array{Float64,2}:\n",
       "  7.02661e-8    1.83843e-8    6.5444e-8    …   6.81326e-17  -1.5409e-17 \n",
       "  1.83843e-8    4.81006e-9    1.71227e-8       2.65966e-16  -7.43649e-17\n",
       "  6.5444e-8     1.71227e-8    6.09528e-8      -2.37166e-17   5.77842e-16\n",
       "  1.01795e-7    2.66335e-8    9.48091e-8       3.43774e-17   4.80136e-16\n",
       "  1.19208e-7    3.11895e-8    1.11027e-7       4.07366e-16  -1.7192e-16 \n",
       "  1.7816e-8     4.66137e-9    1.65934e-8   …   1.97537e-16  -8.51494e-18\n",
       " -2.3465e-8    -6.13936e-9   -2.18547e-8      -1.51952e-16  -1.94286e-16\n",
       "  1.35807e-7    3.55325e-8    1.26487e-7      -1.51274e-17   1.32691e-17\n",
       " -4.62173e-8   -1.20923e-8   -4.30456e-8      -1.47333e-16   3.6294e-16 \n",
       " -2.50525e-7   -6.5547e-8    -2.33332e-7      -4.46127e-16   2.57859e-16\n",
       " -3.31438e-7   -8.67171e-8   -3.08693e-7   …   1.25361e-17   6.21622e-17\n",
       " -3.38816e-7   -8.86475e-8   -3.15565e-7       1.13975e-17  -7.41057e-16\n",
       " -3.25206e-7   -8.50865e-8   -3.02888e-7       2.14086e-17  -3.19459e-16\n",
       "  ⋮                                        ⋱                            \n",
       "  3.76888e-20   1.85386e-19  -1.44278e-18     -5.97321e-18  -0.00248595 \n",
       "  3.80447e-20   1.86857e-19  -1.45405e-18     -7.19838e-18  -0.00250546 \n",
       "  5.6566e-20    2.73385e-19  -2.12456e-18     -6.68152e-18  -0.00366233 \n",
       "  5.99346e-20   2.92201e-19  -2.27242e-18     -2.12872e-18  -0.00391633 \n",
       "  5.37404e-20   2.59814e-19  -2.01915e-18  …  -8.95846e-18  -0.0034806  \n",
       " -8.67059e-20  -4.16319e-19   3.23357e-18     -4.08177e-17   0.00557501 \n",
       "  0.000265074   6.93536e-5    0.000246883     -1.05119e-18  -1.48218e-18\n",
       " -8.733e-18    -1.27065e-17  -6.27694e-17     -3.56152e-19  -1.24689e-18\n",
       "  1.75299e-16  -2.25275e-17  -1.35903e-16      1.46194e-19  -2.37703e-18\n",
       " -9.97149e-18   8.07912e-17   2.816e-17    …  -7.43225e-19  -6.64025e-19\n",
       "  6.81326e-17   2.65966e-16  -2.37166e-17      0.998544     -9.69323e-18\n",
       " -1.5409e-17   -7.43649e-17   5.77842e-16     -9.69323e-18   0.996127   "
      ]
     },
     "execution_count": 58,
     "metadata": {},
     "output_type": "execute_result"
    }
   ],
   "source": [
    "Q*Qc[n-m+1:end,n-m+1:end]*(Q')"
   ]
  },
  {
   "cell_type": "code",
   "execution_count": 64,
   "metadata": {
    "collapsed": false
   },
   "outputs": [
    {
     "name": "stdout",
     "output_type": "stream",
     "text": [
      "search: "
     ]
    },
    {
     "data": {
      "text/latex": [
       "\\begin{verbatim}\n",
       "..  eigs(A, B; nev=6, ncv=max(20,2*nev+1), which=\"LM\", tol=0.0, maxiter=300, sigma=nothing, ritzvec=true, v0=zeros((0,))) -> (d,[v,],nconv,niter,nmult,resid)\n",
       "\n",
       "Computes generalized eigenvalues ``d`` of ``A`` and ``B`` using Lanczos or Arnoldi iterations for\n",
       "real symmetric or general nonsymmetric matrices respectively.\n",
       "\n",
       "The following keyword arguments are supported:\n",
       " * ``nev``: Number of eigenvalues\n",
       " * ``ncv``: Number of Krylov vectors used in the computation; should satisfy ``nev+1 <= ncv <= n`` for real symmetric problems and ``nev+2 <= ncv <= n`` for other problems, where ``n`` is the size of the input matrices ``A`` and ``B``. The default is ``ncv = max(20,2*nev+1)``.\n",
       "\n",
       "   Note that these restrictions limit the input matrix ``A`` to be of dimension at least 2.\n",
       " * ``which``: type of eigenvalues to compute. See the note below.\n",
       "\n",
       "   ========= ======================================================================================================================\n",
       "   ``which`` type of eigenvalues\n",
       "   ========= ======================================================================================================================\n",
       "   ``:LM``   eigenvalues of largest magnitude (default)\n",
       "   ``:SM``   eigenvalues of smallest magnitude\n",
       "   ``:LR``   eigenvalues of largest real part\n",
       "   ``:SR``   eigenvalues of smallest real part\n",
       "   ``:LI``   eigenvalues of largest imaginary part (nonsymmetric or complex ``A`` only)\n",
       "   ``:SI``   eigenvalues of smallest imaginary part (nonsymmetric or complex ``A`` only)\n",
       "   ``:BE``   compute half of the eigenvalues from each end of the spectrum, biased in favor of the high end. (real symmetric ``A`` only)\n",
       "   ========= ======================================================================================================================\n",
       "\n",
       " * ``tol``: tolerance (:math:`tol \\le 0.0` defaults to ``DLAMCH('EPS')``)\n",
       " * ``maxiter``: Maximum number of iterations (default = 300)\n",
       " * ``sigma``: Specifies the level shift used in inverse iteration. If ``nothing`` (default), defaults to ordinary (forward) iterations. Otherwise, find eigenvalues close to ``sigma`` using shift and invert iterations.\n",
       " * ``ritzvec``: Returns the Ritz vectors ``v`` (eigenvectors) if ``true``\n",
       " * ``v0``: starting vector from which to start the iterations\n",
       "\n",
       "``eigs`` returns the ``nev`` requested eigenvalues in ``d``, the corresponding Ritz vectors ``v`` (only if ``ritzvec=true``), the number of converged eigenvalues ``nconv``, the number of iterations ``niter`` and the number of matrix vector multiplications ``nmult``, as well as the final residual vector ``resid``.\n",
       "\n",
       ".. note:: The ``sigma`` and ``which`` keywords interact: the description of eigenvalues searched for by ``which`` do _not_ necessarily refer to the eigenvalue problem :math:`Av = Bv\\lambda`, but rather the linear operator constructed by the specification of the iteration mode implied by ``sigma``.\n",
       "\n",
       "   =============== ================================== ==================================\n",
       "   ``sigma``       iteration mode                     ``which`` refers to the problem\n",
       "   =============== ================================== ==================================\n",
       "   ``nothing``     ordinary (forward)                 :math:`Av = Bv\\lambda`\n",
       "   real or complex inverse with level shift ``sigma`` :math:`(A - \\sigma B )^{-1}B = v\\nu`\n",
       "   =============== ================================== ==================================\n",
       "\\end{verbatim}\n",
       "\\begin{verbatim}\n",
       "..  eigs(A; nev=6, ncv=max(20,2*nev+1), which=\"LM\", tol=0.0, maxiter=300, sigma=nothing, ritzvec=true, v0=zeros((0,))) -> (d,[v,],nconv,niter,nmult,resid)\n",
       "\n",
       "Computes eigenvalues ``d`` of ``A`` using Lanczos or Arnoldi iterations for\n",
       "real symmetric or general nonsymmetric matrices respectively.\n",
       "\n",
       "The following keyword arguments are supported:\n",
       " * ``nev``: Number of eigenvalues\n",
       " * ``ncv``: Number of Krylov vectors used in the computation; should satisfy ``nev+1 <= ncv <= n`` for real symmetric problems and ``nev+2 <= ncv <= n`` for other problems, where ``n`` is the size of the input matrix ``A``. The default is ``ncv = max(20,2*nev+1)``.\n",
       "\n",
       "   Note that these restrictions limit the input matrix ``A`` to be of dimension at least 2.\n",
       " * ``which``: type of eigenvalues to compute. See the note below.\n",
       "\n",
       "   ========= ======================================================================================================================\n",
       "   ``which`` type of eigenvalues\n",
       "   ========= ======================================================================================================================\n",
       "   ``:LM``   eigenvalues of largest magnitude (default)\n",
       "   ``:SM``   eigenvalues of smallest magnitude\n",
       "   ``:LR``   eigenvalues of largest real part\n",
       "   ``:SR``   eigenvalues of smallest real part\n",
       "   ``:LI``   eigenvalues of largest imaginary part (nonsymmetric or complex ``A`` only)\n",
       "   ``:SI``   eigenvalues of smallest imaginary part (nonsymmetric or complex ``A`` only)\n",
       "   ``:BE``   compute half of the eigenvalues from each end of the spectrum, biased in favor of the high end. (real symmetric ``A`` only)\n",
       "   ========= ======================================================================================================================\n",
       "\n",
       " * ``tol``: tolerance (:math:`tol \\le 0.0` defaults to ``DLAMCH('EPS')``)\n",
       " * ``maxiter``: Maximum number of iterations (default = 300)\n",
       " * ``sigma``: Specifies the level shift used in inverse iteration. If ``nothing`` (default), defaults to ordinary (forward) iterations. Otherwise, find eigenvalues close to ``sigma`` using shift and invert iterations.\n",
       " * ``ritzvec``: Returns the Ritz vectors ``v`` (eigenvectors) if ``true``\n",
       " * ``v0``: starting vector from which to start the iterations\n",
       "\n",
       "``eigs`` returns the ``nev`` requested eigenvalues in ``d``, the corresponding Ritz vectors ``v`` (only if ``ritzvec=true``), the number of converged eigenvalues ``nconv``, the number of iterations ``niter`` and the number of matrix vector multiplications ``nmult``, as well as the final residual vector ``resid``.\n",
       "\n",
       ".. note:: The ``sigma`` and ``which`` keywords interact: the description of eigenvalues searched for by ``which`` do _not_ necessarily refer to the eigenvalues of ``A``, but rather the linear operator constructed by the specification of the iteration mode implied by ``sigma``.\n",
       "\n",
       "   =============== ================================== ==================================\n",
       "   ``sigma``       iteration mode                     ``which`` refers to eigenvalues of\n",
       "   =============== ================================== ==================================\n",
       "   ``nothing``     ordinary (forward)                 :math:`A`\n",
       "   real or complex inverse with level shift ``sigma`` :math:`(A - \\sigma I )^{-1}`\n",
       "   =============== ================================== ==================================\n",
       "\\end{verbatim}\n"
      ],
      "text/markdown": [
       "```rst\n",
       "..  eigs(A, B; nev=6, ncv=max(20,2*nev+1), which=\"LM\", tol=0.0, maxiter=300, sigma=nothing, ritzvec=true, v0=zeros((0,))) -> (d,[v,],nconv,niter,nmult,resid)\n",
       "\n",
       "Computes generalized eigenvalues ``d`` of ``A`` and ``B`` using Lanczos or Arnoldi iterations for\n",
       "real symmetric or general nonsymmetric matrices respectively.\n",
       "\n",
       "The following keyword arguments are supported:\n",
       " * ``nev``: Number of eigenvalues\n",
       " * ``ncv``: Number of Krylov vectors used in the computation; should satisfy ``nev+1 <= ncv <= n`` for real symmetric problems and ``nev+2 <= ncv <= n`` for other problems, where ``n`` is the size of the input matrices ``A`` and ``B``. The default is ``ncv = max(20,2*nev+1)``.\n",
       "\n",
       "   Note that these restrictions limit the input matrix ``A`` to be of dimension at least 2.\n",
       " * ``which``: type of eigenvalues to compute. See the note below.\n",
       "\n",
       "   ========= ======================================================================================================================\n",
       "   ``which`` type of eigenvalues\n",
       "   ========= ======================================================================================================================\n",
       "   ``:LM``   eigenvalues of largest magnitude (default)\n",
       "   ``:SM``   eigenvalues of smallest magnitude\n",
       "   ``:LR``   eigenvalues of largest real part\n",
       "   ``:SR``   eigenvalues of smallest real part\n",
       "   ``:LI``   eigenvalues of largest imaginary part (nonsymmetric or complex ``A`` only)\n",
       "   ``:SI``   eigenvalues of smallest imaginary part (nonsymmetric or complex ``A`` only)\n",
       "   ``:BE``   compute half of the eigenvalues from each end of the spectrum, biased in favor of the high end. (real symmetric ``A`` only)\n",
       "   ========= ======================================================================================================================\n",
       "\n",
       " * ``tol``: tolerance (:math:`tol \\le 0.0` defaults to ``DLAMCH('EPS')``)\n",
       " * ``maxiter``: Maximum number of iterations (default = 300)\n",
       " * ``sigma``: Specifies the level shift used in inverse iteration. If ``nothing`` (default), defaults to ordinary (forward) iterations. Otherwise, find eigenvalues close to ``sigma`` using shift and invert iterations.\n",
       " * ``ritzvec``: Returns the Ritz vectors ``v`` (eigenvectors) if ``true``\n",
       " * ``v0``: starting vector from which to start the iterations\n",
       "\n",
       "``eigs`` returns the ``nev`` requested eigenvalues in ``d``, the corresponding Ritz vectors ``v`` (only if ``ritzvec=true``), the number of converged eigenvalues ``nconv``, the number of iterations ``niter`` and the number of matrix vector multiplications ``nmult``, as well as the final residual vector ``resid``.\n",
       "\n",
       ".. note:: The ``sigma`` and ``which`` keywords interact: the description of eigenvalues searched for by ``which`` do _not_ necessarily refer to the eigenvalue problem :math:`Av = Bv\\lambda`, but rather the linear operator constructed by the specification of the iteration mode implied by ``sigma``.\n",
       "\n",
       "   =============== ================================== ==================================\n",
       "   ``sigma``       iteration mode                     ``which`` refers to the problem\n",
       "   =============== ================================== ==================================\n",
       "   ``nothing``     ordinary (forward)                 :math:`Av = Bv\\lambda`\n",
       "   real or complex inverse with level shift ``sigma`` :math:`(A - \\sigma B )^{-1}B = v\\nu`\n",
       "   =============== ================================== ==================================\n",
       "```\n",
       "\n",
       "```rst\n",
       "..  eigs(A; nev=6, ncv=max(20,2*nev+1), which=\"LM\", tol=0.0, maxiter=300, sigma=nothing, ritzvec=true, v0=zeros((0,))) -> (d,[v,],nconv,niter,nmult,resid)\n",
       "\n",
       "Computes eigenvalues ``d`` of ``A`` using Lanczos or Arnoldi iterations for\n",
       "real symmetric or general nonsymmetric matrices respectively.\n",
       "\n",
       "The following keyword arguments are supported:\n",
       " * ``nev``: Number of eigenvalues\n",
       " * ``ncv``: Number of Krylov vectors used in the computation; should satisfy ``nev+1 <= ncv <= n`` for real symmetric problems and ``nev+2 <= ncv <= n`` for other problems, where ``n`` is the size of the input matrix ``A``. The default is ``ncv = max(20,2*nev+1)``.\n",
       "\n",
       "   Note that these restrictions limit the input matrix ``A`` to be of dimension at least 2.\n",
       " * ``which``: type of eigenvalues to compute. See the note below.\n",
       "\n",
       "   ========= ======================================================================================================================\n",
       "   ``which`` type of eigenvalues\n",
       "   ========= ======================================================================================================================\n",
       "   ``:LM``   eigenvalues of largest magnitude (default)\n",
       "   ``:SM``   eigenvalues of smallest magnitude\n",
       "   ``:LR``   eigenvalues of largest real part\n",
       "   ``:SR``   eigenvalues of smallest real part\n",
       "   ``:LI``   eigenvalues of largest imaginary part (nonsymmetric or complex ``A`` only)\n",
       "   ``:SI``   eigenvalues of smallest imaginary part (nonsymmetric or complex ``A`` only)\n",
       "   ``:BE``   compute half of the eigenvalues from each end of the spectrum, biased in favor of the high end. (real symmetric ``A`` only)\n",
       "   ========= ======================================================================================================================\n",
       "\n",
       " * ``tol``: tolerance (:math:`tol \\le 0.0` defaults to ``DLAMCH('EPS')``)\n",
       " * ``maxiter``: Maximum number of iterations (default = 300)\n",
       " * ``sigma``: Specifies the level shift used in inverse iteration. If ``nothing`` (default), defaults to ordinary (forward) iterations. Otherwise, find eigenvalues close to ``sigma`` using shift and invert iterations.\n",
       " * ``ritzvec``: Returns the Ritz vectors ``v`` (eigenvectors) if ``true``\n",
       " * ``v0``: starting vector from which to start the iterations\n",
       "\n",
       "``eigs`` returns the ``nev`` requested eigenvalues in ``d``, the corresponding Ritz vectors ``v`` (only if ``ritzvec=true``), the number of converged eigenvalues ``nconv``, the number of iterations ``niter`` and the number of matrix vector multiplications ``nmult``, as well as the final residual vector ``resid``.\n",
       "\n",
       ".. note:: The ``sigma`` and ``which`` keywords interact: the description of eigenvalues searched for by ``which`` do _not_ necessarily refer to the eigenvalues of ``A``, but rather the linear operator constructed by the specification of the iteration mode implied by ``sigma``.\n",
       "\n",
       "   =============== ================================== ==================================\n",
       "   ``sigma``       iteration mode                     ``which`` refers to eigenvalues of\n",
       "   =============== ================================== ==================================\n",
       "   ``nothing``     ordinary (forward)                 :math:`A`\n",
       "   real or complex inverse with level shift ``sigma`` :math:`(A - \\sigma I )^{-1}`\n",
       "   =============== ================================== ==================================\n",
       "```\n"
      ],
      "text/plain": [
       "```rst\n",
       "..  eigs(A, B; nev=6, ncv=max(20,2*nev+1), which=\"LM\", tol=0.0, maxiter=300, sigma=nothing, ritzvec=true, v0=zeros((0,))) -> (d,[v,],nconv,niter,nmult,resid)\n",
       "\n",
       "Computes generalized eigenvalues ``d`` of ``A`` and ``B`` using Lanczos or Arnoldi iterations for\n",
       "real symmetric or general nonsymmetric matrices respectively.\n",
       "\n",
       "The following keyword arguments are supported:\n",
       " * ``nev``: Number of eigenvalues\n",
       " * ``ncv``: Number of Krylov vectors used in the computation; should satisfy ``nev+1 <= ncv <= n`` for real symmetric problems and ``nev+2 <= ncv <= n`` for other problems, where ``n`` is the size of the input matrices ``A`` and ``B``. The default is ``ncv = max(20,2*nev+1)``.\n",
       "\n",
       "   Note that these restrictions limit the input matrix ``A`` to be of dimension at least 2.\n",
       " * ``which``: type of eigenvalues to compute. See the note below.\n",
       "\n",
       "   ========= ======================================================================================================================\n",
       "   ``which`` type of eigenvalues\n",
       "   ========= ======================================================================================================================\n",
       "   ``:LM``   eigenvalues of largest magnitude (default)\n",
       "   ``:SM``   eigenvalues of smallest magnitude\n",
       "   ``:LR``   eigenvalues of largest real part\n",
       "   ``:SR``   eigenvalues of smallest real part\n",
       "   ``:LI``   eigenvalues of largest imaginary part (nonsymmetric or complex ``A`` only)\n",
       "   ``:SI``   eigenvalues of smallest imaginary part (nonsymmetric or complex ``A`` only)\n",
       "   ``:BE``   compute half of the eigenvalues from each end of the spectrum, biased in favor of the high end. (real symmetric ``A`` only)\n",
       "   ========= ======================================================================================================================\n",
       "\n",
       " * ``tol``: tolerance (:math:`tol \\le 0.0` defaults to ``DLAMCH('EPS')``)\n",
       " * ``maxiter``: Maximum number of iterations (default = 300)\n",
       " * ``sigma``: Specifies the level shift used in inverse iteration. If ``nothing`` (default), defaults to ordinary (forward) iterations. Otherwise, find eigenvalues close to ``sigma`` using shift and invert iterations.\n",
       " * ``ritzvec``: Returns the Ritz vectors ``v`` (eigenvectors) if ``true``\n",
       " * ``v0``: starting vector from which to start the iterations\n",
       "\n",
       "``eigs`` returns the ``nev`` requested eigenvalues in ``d``, the corresponding Ritz vectors ``v`` (only if ``ritzvec=true``), the number of converged eigenvalues ``nconv``, the number of iterations ``niter`` and the number of matrix vector multiplications ``nmult``, as well as the final residual vector ``resid``.\n",
       "\n",
       ".. note:: The ``sigma`` and ``which`` keywords interact: the description of eigenvalues searched for by ``which`` do _not_ necessarily refer to the eigenvalue problem :math:`Av = Bv\\lambda`, but rather the linear operator constructed by the specification of the iteration mode implied by ``sigma``.\n",
       "\n",
       "   =============== ================================== ==================================\n",
       "   ``sigma``       iteration mode                     ``which`` refers to the problem\n",
       "   =============== ================================== ==================================\n",
       "   ``nothing``     ordinary (forward)                 :math:`Av = Bv\\lambda`\n",
       "   real or complex inverse with level shift ``sigma`` :math:`(A - \\sigma B )^{-1}B = v\\nu`\n",
       "   =============== ================================== ==================================\n",
       "```\n",
       "\n",
       "```rst\n",
       "..  eigs(A; nev=6, ncv=max(20,2*nev+1), which=\"LM\", tol=0.0, maxiter=300, sigma=nothing, ritzvec=true, v0=zeros((0,))) -> (d,[v,],nconv,niter,nmult,resid)\n",
       "\n",
       "Computes eigenvalues ``d`` of ``A`` using Lanczos or Arnoldi iterations for\n",
       "real symmetric or general nonsymmetric matrices respectively.\n",
       "\n",
       "The following keyword arguments are supported:\n",
       " * ``nev``: Number of eigenvalues\n",
       " * ``ncv``: Number of Krylov vectors used in the computation; should satisfy ``nev+1 <= ncv <= n`` for real symmetric problems and ``nev+2 <= ncv <= n`` for other problems, where ``n`` is the size of the input matrix ``A``. The default is ``ncv = max(20,2*nev+1)``.\n",
       "\n",
       "   Note that these restrictions limit the input matrix ``A`` to be of dimension at least 2.\n",
       " * ``which``: type of eigenvalues to compute. See the note below.\n",
       "\n",
       "   ========= ======================================================================================================================\n",
       "   ``which`` type of eigenvalues\n",
       "   ========= ======================================================================================================================\n",
       "   ``:LM``   eigenvalues of largest magnitude (default)\n",
       "   ``:SM``   eigenvalues of smallest magnitude\n",
       "   ``:LR``   eigenvalues of largest real part\n",
       "   ``:SR``   eigenvalues of smallest real part\n",
       "   ``:LI``   eigenvalues of largest imaginary part (nonsymmetric or complex ``A`` only)\n",
       "   ``:SI``   eigenvalues of smallest imaginary part (nonsymmetric or complex ``A`` only)\n",
       "   ``:BE``   compute half of the eigenvalues from each end of the spectrum, biased in favor of the high end. (real symmetric ``A`` only)\n",
       "   ========= ======================================================================================================================\n",
       "\n",
       " * ``tol``: tolerance (:math:`tol \\le 0.0` defaults to ``DLAMCH('EPS')``)\n",
       " * ``maxiter``: Maximum number of iterations (default = 300)\n",
       " * ``sigma``: Specifies the level shift used in inverse iteration. If ``nothing`` (default), defaults to ordinary (forward) iterations. Otherwise, find eigenvalues close to ``sigma`` using shift and invert iterations.\n",
       " * ``ritzvec``: Returns the Ritz vectors ``v`` (eigenvectors) if ``true``\n",
       " * ``v0``: starting vector from which to start the iterations\n",
       "\n",
       "``eigs`` returns the ``nev`` requested eigenvalues in ``d``, the corresponding Ritz vectors ``v`` (only if ``ritzvec=true``), the number of converged eigenvalues ``nconv``, the number of iterations ``niter`` and the number of matrix vector multiplications ``nmult``, as well as the final residual vector ``resid``.\n",
       "\n",
       ".. note:: The ``sigma`` and ``which`` keywords interact: the description of eigenvalues searched for by ``which`` do _not_ necessarily refer to the eigenvalues of ``A``, but rather the linear operator constructed by the specification of the iteration mode implied by ``sigma``.\n",
       "\n",
       "   =============== ================================== ==================================\n",
       "   ``sigma``       iteration mode                     ``which`` refers to eigenvalues of\n",
       "   =============== ================================== ==================================\n",
       "   ``nothing``     ordinary (forward)                 :math:`A`\n",
       "   real or complex inverse with level shift ``sigma`` :math:`(A - \\sigma I )^{-1}`\n",
       "   =============== ================================== ==================================\n",
       "```\n"
      ]
     },
     "execution_count": 64,
     "metadata": {},
     "output_type": "execute_result"
    },
    {
     "name": "stdout",
     "output_type": "stream",
     "text": [
      "eigs eigvecs eigvals eigvals! get_fignums LaTeXStrings leading_ones\n",
      "\n"
     ]
    }
   ],
   "source": [
    "?eigs"
   ]
  },
  {
   "cell_type": "code",
   "execution_count": 53,
   "metadata": {
    "collapsed": false
   },
   "outputs": [
    {
     "data": {
      "text/plain": [
       "558x450 Array{Float64,2}:\n",
       " 0.0  0.0389488   0.00908268    0.0221437    …   6.81822e-17   1.54389e-17\n",
       " 0.0  0.0        -3.21027e-17  -6.46185e-17      2.66159e-16   7.45093e-17\n",
       " 0.0  0.0         0.0           2.91286e-17     -2.37339e-17  -5.78964e-16\n",
       " 0.0  0.0         0.0           0.0              3.44025e-17  -4.81069e-16\n",
       " 0.0  0.0         0.0           0.0              4.07663e-16   1.72254e-16\n",
       " 0.0  0.0         0.0           0.0          …   1.97681e-16   8.53147e-18\n",
       " 0.0  0.0         0.0           0.0             -1.52062e-16   1.94663e-16\n",
       " 0.0  0.0         0.0           0.0             -1.51384e-17  -1.32949e-17\n",
       " 0.0  0.0         0.0           0.0             -1.47441e-16  -3.63645e-16\n",
       " 0.0  0.0         0.0           0.0             -4.46452e-16  -2.5836e-16 \n",
       " 0.0  0.0         0.0           0.0          …   1.25452e-17  -6.2283e-17 \n",
       " 0.0  0.0         0.0           0.0              1.14058e-17   7.42496e-16\n",
       " 0.0  0.0         0.0           0.0              2.14242e-17   3.20079e-16\n",
       " ⋮                                           ⋱                            \n",
       " 0.0  0.0         0.0           0.0             -6.00177e-18   0.00249077 \n",
       " 0.0  0.0         0.0           0.0             -7.22803e-18   0.00251033 \n",
       " 0.0  0.0         0.0           0.0             -6.72205e-18   0.00366945 \n",
       " 0.0  0.0         0.0           0.0             -2.1684e-18    0.00392394 \n",
       " 0.0  0.0         0.0           0.0          …  -8.99888e-18   0.00348736 \n",
       " 0.0  0.0         0.0           0.0             -4.07931e-17  -0.00558584 \n",
       " 0.0  0.0         0.0           0.0             -1.05195e-18   1.48506e-18\n",
       " 0.0  0.0         0.0           0.0             -3.56411e-19   1.24931e-18\n",
       " 0.0  0.0         0.0           0.0              1.46301e-19   2.38165e-18\n",
       " 0.0  0.0         0.0           0.0          …  -7.43767e-19   6.65315e-19\n",
       " 0.0  0.0         0.0           0.0              0.999272      9.71206e-18\n",
       " 0.0  0.0         0.0           0.0              0.0          -0.998062   "
      ]
     },
     "execution_count": 53,
     "metadata": {},
     "output_type": "execute_result"
    }
   ],
   "source": [
    "Q"
   ]
  },
  {
   "cell_type": "code",
   "execution_count": 38,
   "metadata": {
    "collapsed": false
   },
   "outputs": [
    {
     "data": {
      "text/plain": [
       "450x450 Array{Float64,2}:\n",
       " 0.0  0.0  0.0  0.0  0.0  0.0  0.0  0.0  0.0  …   0.0           0.0        \n",
       " 0.0  0.0  0.0  0.0  0.0  0.0  0.0  0.0  0.0      0.0           0.0        \n",
       " 0.0  0.0  0.0  0.0  0.0  0.0  0.0  0.0  0.0      0.0           0.0        \n",
       " 0.0  0.0  0.0  0.0  0.0  0.0  0.0  0.0  0.0      0.0           0.0        \n",
       " 0.0  0.0  0.0  0.0  0.0  0.0  0.0  0.0  0.0      0.0           0.0        \n",
       " 0.0  0.0  0.0  0.0  0.0  0.0  0.0  0.0  0.0  …   0.0           0.0        \n",
       " 0.0  0.0  0.0  0.0  0.0  0.0  0.0  0.0  0.0      0.0           0.0        \n",
       " 0.0  0.0  0.0  0.0  0.0  0.0  0.0  0.0  0.0      0.0           0.0        \n",
       " 0.0  0.0  0.0  0.0  0.0  0.0  0.0  0.0  0.0      0.0           0.0        \n",
       " 0.0  0.0  0.0  0.0  0.0  0.0  0.0  0.0  0.0      0.0           0.0        \n",
       " 0.0  0.0  0.0  0.0  0.0  0.0  0.0  0.0  0.0  …   0.0           0.0        \n",
       " 0.0  0.0  0.0  0.0  0.0  0.0  0.0  0.0  0.0      0.0           0.0        \n",
       " 0.0  0.0  0.0  0.0  0.0  0.0  0.0  0.0  0.0      0.0           0.0        \n",
       " ⋮                        ⋮                   ⋱                            \n",
       " 0.0  0.0  0.0  0.0  0.0  0.0  0.0  0.0  0.0      0.0           0.0        \n",
       " 0.0  0.0  0.0  0.0  0.0  0.0  0.0  0.0  0.0      0.0           0.0        \n",
       " 0.0  0.0  0.0  0.0  0.0  0.0  0.0  0.0  0.0  …   0.0           0.0        \n",
       " 0.0  0.0  0.0  0.0  0.0  0.0  0.0  0.0  0.0      0.0           0.0        \n",
       " 0.0  0.0  0.0  0.0  0.0  0.0  0.0  0.0  0.0      0.0           0.0        \n",
       " 0.0  0.0  0.0  0.0  0.0  0.0  0.0  0.0  0.0      0.0           0.0        \n",
       " 0.0  0.0  0.0  0.0  0.0  0.0  0.0  0.0  0.0     -1.05194e-18   1.48504e-18\n",
       " 0.0  0.0  0.0  0.0  0.0  0.0  0.0  0.0  0.0  …   3.56398e-19  -1.24926e-18\n",
       " 0.0  0.0  0.0  0.0  0.0  0.0  0.0  0.0  0.0     -1.46286e-19  -2.3814e-18 \n",
       " 0.0  0.0  0.0  0.0  0.0  0.0  0.0  0.0  0.0      7.43564e-19  -6.65133e-19\n",
       " 0.0  0.0  0.0  0.0  0.0  0.0  0.0  0.0  0.0      0.998544      9.70499e-18\n",
       " 0.0  0.0  0.0  0.0  0.0  0.0  0.0  0.0  0.0      9.70499e-18   0.996127   "
      ]
     },
     "execution_count": 38,
     "metadata": {},
     "output_type": "execute_result"
    }
   ],
   "source": [
    "P*Qc*(P')"
   ]
  },
  {
   "cell_type": "code",
   "execution_count": 28,
   "metadata": {
    "collapsed": false
   },
   "outputs": [
    {
     "data": {
      "text/plain": [
       "108x108 sparse matrix with 108 Float64 entries:\n",
       "\t[1  ,   1]  =  1.0\n",
       "\t[2  ,   2]  =  1.0\n",
       "\t[3  ,   3]  =  1.0\n",
       "\t[4  ,   4]  =  1.0\n",
       "\t[5  ,   5]  =  1.0\n",
       "\t[6  ,   6]  =  1.0\n",
       "\t[7  ,   7]  =  1.0\n",
       "\t[8  ,   8]  =  1.0\n",
       "\t[9  ,   9]  =  1.0\n",
       "\t[10 ,  10]  =  1.0\n",
       "\t⋮\n",
       "\t[98 ,  98]  =  1.0\n",
       "\t[99 ,  99]  =  1.0\n",
       "\t[100, 100]  =  1.0\n",
       "\t[101, 101]  =  1.0\n",
       "\t[102, 102]  =  1.0\n",
       "\t[103, 103]  =  1.0\n",
       "\t[104, 104]  =  1.0\n",
       "\t[105, 105]  =  1.0\n",
       "\t[106, 106]  =  1.0\n",
       "\t[107, 107]  =  1.0\n",
       "\t[108, 108]  =  1.0"
      ]
     },
     "execution_count": 28,
     "metadata": {},
     "output_type": "execute_result"
    }
   ],
   "source": [
    "round(N'*N)"
   ]
  },
  {
   "cell_type": "code",
   "execution_count": 25,
   "metadata": {
    "collapsed": false
   },
   "outputs": [
    {
     "data": {
      "text/plain": [
       "450x558 Array{Float64,2}:\n",
       "  0.0           0.0           0.0          …  0.0           0.0     \n",
       "  0.0389488     0.0           0.0             0.0           0.0     \n",
       "  0.00908268   -3.21027e-17   0.0             0.0           0.0     \n",
       "  0.0221437    -6.46185e-17   2.91286e-17     0.0           0.0     \n",
       "  0.0387909     2.60258e-17  -6.96516e-18     0.0           0.0     \n",
       "  0.00868475   -2.61922e-17   3.84469e-18  …  0.0           0.0     \n",
       " -2.33342e-7    4.76162e-22   1.57988e-22     0.0           0.0     \n",
       " -0.0190059     8.08736e-18  -2.00658e-17     0.0           0.0     \n",
       "  0.0252781    -7.71641e-17   8.87173e-17     0.0           0.0     \n",
       "  0.0478962     5.12225e-17   2.24238e-17     0.0           0.0     \n",
       "  0.0298048     2.08087e-17   6.56153e-17  …  0.0           0.0     \n",
       "  0.0444463     3.20551e-17   1.05745e-16     0.0           0.0     \n",
       "  0.0352834     3.8967e-17    1.15922e-16     0.0           0.0     \n",
       "  ⋮                                        ⋱                        \n",
       " -1.97078e-16  -6.39664e-16  -2.3597e-16      0.0           0.0     \n",
       " -1.84602e-16  -7.43606e-16  -2.78471e-17     0.0           0.0     \n",
       "  3.68406e-16   5.19777e-16   9.71795e-16  …  0.0           0.0     \n",
       "  2.91457e-16  -3.36127e-17   1.35723e-15     0.0           0.0     \n",
       " -7.9618e-16   -1.37639e-15   3.59248e-15     0.0           0.0     \n",
       " -8.68822e-18   4.96481e-16  -1.92613e-15     0.0           0.0     \n",
       "  0.000265077   6.93546e-5    0.000246886     0.0           0.0     \n",
       "  8.73333e-18   1.2707e-17    6.27718e-17  …  0.0           0.0     \n",
       " -1.75317e-16   2.25299e-17   1.35917e-16     0.0           0.0     \n",
       "  9.97421e-18  -8.08133e-17  -2.81677e-17     0.0           0.0     \n",
       "  6.81822e-17   2.66159e-16  -2.37339e-17     0.999272      0.0     \n",
       "  1.54389e-17   7.45093e-17  -5.78964e-16     9.71206e-18  -0.998062"
      ]
     },
     "execution_count": 25,
     "metadata": {},
     "output_type": "execute_result"
    }
   ],
   "source": [
    "P"
   ]
  },
  {
   "cell_type": "code",
   "execution_count": 23,
   "metadata": {
    "collapsed": false
   },
   "outputs": [
    {
     "data": {
      "text/plain": [
       "108x108 Array{Float64,2}:\n",
       "  2.83465e-8   2.83932e-8   2.86157e-8  …   1.38332e-9   0.0        \n",
       "  2.83932e-8   2.844e-8     2.86629e-8      1.3856e-9    0.0        \n",
       "  2.86157e-8   2.86629e-8   2.88875e-8      1.39646e-9   0.0        \n",
       "  2.89275e-8   2.89751e-8   2.92022e-8      1.41168e-9   0.0        \n",
       "  2.83208e-8   2.83674e-8   2.85897e-8      1.38207e-9   0.0        \n",
       "  2.83567e-8   2.84035e-8   2.8626e-8   …   1.38382e-9   0.0        \n",
       "  2.90989e-8   2.91469e-8   2.93753e-8      1.42004e-9   0.0        \n",
       "  2.74635e-8   2.75088e-8   2.77243e-8      1.34023e-9   0.0        \n",
       "  2.95966e-8   2.96454e-8   2.98777e-8      1.44433e-9   0.0        \n",
       " -2.0663e-8   -2.0697e-8   -2.08592e-8     -1.00836e-9   0.0        \n",
       "  0.0          0.0          0.0         …   0.0          8.32205e-8 \n",
       "  0.0          0.0          0.0             0.0         -1.23712e-8 \n",
       "  0.0          0.0          0.0             0.0         -1.22316e-8 \n",
       "  ⋮                                     ⋱                           \n",
       "  0.0          0.0          0.0             0.0          6.02035e-9 \n",
       "  0.0          0.0          0.0             0.0          6.028e-9   \n",
       "  0.0          0.0          0.0             0.0          6.18577e-9 \n",
       "  0.0          0.0          0.0             0.0          5.83812e-9 \n",
       "  0.0          0.0          0.0         …   0.0          6.29157e-9 \n",
       "  0.0          0.0          0.0             0.0         -4.39248e-9 \n",
       "  0.0          0.0          0.0             0.0          0.0        \n",
       "  0.0          0.0          0.0             0.0          0.0        \n",
       "  0.0          0.0          0.0             0.0          0.0        \n",
       "  0.0          0.0          0.0         …   0.0          0.0        \n",
       "  1.38332e-9   1.3856e-9    1.39646e-9      6.7507e-11   0.0        \n",
       "  0.0          0.0          0.0             0.0          4.80259e-10"
      ]
     },
     "execution_count": 23,
     "metadata": {},
     "output_type": "execute_result"
    }
   ],
   "source": [
    "Qconstr"
   ]
  },
  {
   "cell_type": "code",
   "execution_count": null,
   "metadata": {
    "collapsed": true
   },
   "outputs": [],
   "source": [
    "sum()"
   ]
  },
  {
   "cell_type": "code",
   "execution_count": 19,
   "metadata": {
    "collapsed": false
   },
   "outputs": [
    {
     "data": {
      "text/plain": [
       "108-element Array{Float64,1}:\n",
       " -0.0        \n",
       " -0.0        \n",
       " -0.0        \n",
       " -0.0        \n",
       " -0.0        \n",
       " -0.0        \n",
       " -0.0        \n",
       " -0.0        \n",
       " -0.0        \n",
       " -0.0        \n",
       " -0.0        \n",
       " -0.0        \n",
       " -0.0        \n",
       "  ⋮          \n",
       "  0.0        \n",
       "  0.0        \n",
       "  0.0        \n",
       "  0.0        \n",
       "  0.0        \n",
       "  0.0        \n",
       "  2.87982e-5 \n",
       "  7.68095e-5 \n",
       "  0.000204846\n",
       "  0.000546198\n",
       "  0.00145554 \n",
       "  0.00387294 "
      ]
     },
     "execution_count": 19,
     "metadata": {},
     "output_type": "execute_result"
    }
   ],
   "source": [
    "round(D,10)"
   ]
  },
  {
   "cell_type": "code",
   "execution_count": 24,
   "metadata": {
    "collapsed": false
   },
   "outputs": [
    {
     "data": {
      "text/plain": [
       "true"
      ]
     },
     "execution_count": 24,
     "metadata": {},
     "output_type": "execute_result"
    }
   ],
   "source": [
    "round(U'*U,10) == eye(size(U)...)"
   ]
  },
  {
   "cell_type": "code",
   "execution_count": 28,
   "metadata": {
    "collapsed": false
   },
   "outputs": [
    {
     "data": {
      "text/plain": [
       "108x108 Array{Float64,2}:\n",
       "  0.0106404    0.0104413    0.0108102   …   0.00154543   0.0        \n",
       "  0.0104413    0.0102711    0.0105355       0.0013411    0.0        \n",
       "  0.0108102    0.0105355    0.0112106       0.00206356   0.0        \n",
       "  0.0106397    0.0103463    0.0111166       0.00218249   0.0        \n",
       "  0.0106531    0.0104571    0.0108113       0.00152584   0.0        \n",
       "  0.0106556    0.0104583    0.0108171   …   0.00153782   0.0        \n",
       "  0.0105458    0.0102423    0.0110649       0.00224789   0.0        \n",
       "  0.0119968    0.0116785    0.0124286       0.00240379   0.0        \n",
       "  0.0100485    0.00975869   0.0105689       0.00213635   0.0        \n",
       " -0.00600628  -0.0059339   -0.00493647     -0.00342187   0.0        \n",
       "  0.0          0.0          0.0         …   0.0         -0.00306809 \n",
       "  0.0          0.0          0.0             0.0         -0.000802731\n",
       "  0.0          0.0          0.0             0.0         -0.00285754 \n",
       "  ⋮                                     ⋱                           \n",
       "  0.0          0.0          0.0             0.0          0.00248595 \n",
       "  0.0          0.0          0.0             0.0          0.00250546 \n",
       "  0.0          0.0          0.0             0.0          0.00366233 \n",
       "  0.0          0.0          0.0             0.0          0.00391633 \n",
       "  0.0          0.0          0.0         …   0.0          0.0034806  \n",
       "  0.0          0.0          0.0             0.0         -0.00557501 \n",
       "  0.0          0.0          0.0             0.0          0.0        \n",
       "  0.0          0.0          0.0             0.0          0.0        \n",
       "  0.0          0.0          0.0             0.0          0.0        \n",
       "  0.0          0.0          0.0         …   0.0          0.0        \n",
       "  0.00154543   0.0013411    0.00206356      0.00145554   0.0        \n",
       "  0.0          0.0          0.0             0.0          0.00387294 "
      ]
     },
     "execution_count": 28,
     "metadata": {},
     "output_type": "execute_result"
    }
   ],
   "source": [
    "full(U2'*U2)"
   ]
  },
  {
   "cell_type": "code",
   "execution_count": 36,
   "metadata": {
    "collapsed": false
   },
   "outputs": [
    {
     "data": {
      "text/plain": [
       "161-element Array{Int64,1}:\n",
       "  1091\n",
       "  1092\n",
       "  1093\n",
       "  1094\n",
       "  1095\n",
       "  1096\n",
       "  1097\n",
       "  1098\n",
       "  1099\n",
       "  1106\n",
       "  1107\n",
       "  1108\n",
       "  1111\n",
       "     ⋮\n",
       "  9731\n",
       "  9839\n",
       "  9947\n",
       " 10055\n",
       " 10163\n",
       " 10271\n",
       " 10379\n",
       " 10487\n",
       " 10595\n",
       " 10703\n",
       " 10811\n",
       " 10919"
      ]
     },
     "execution_count": 36,
     "metadata": {},
     "output_type": "execute_result"
    }
   ],
   "source": [
    "find(round(Qconstr,6))"
   ]
  },
  {
   "cell_type": "code",
   "execution_count": 47,
   "metadata": {
    "collapsed": false
   },
   "outputs": [
    {
     "data": {
      "text/plain": [
       "true"
      ]
     },
     "execution_count": 47,
     "metadata": {},
     "output_type": "execute_result"
    }
   ],
   "source": [
    "round(full(N'*N)) == eye(size(N,2))"
   ]
  },
  {
   "cell_type": "code",
   "execution_count": 48,
   "metadata": {
    "collapsed": false
   },
   "outputs": [
    {
     "data": {
      "text/plain": [
       "false"
      ]
     },
     "execution_count": 48,
     "metadata": {},
     "output_type": "execute_result"
    }
   ],
   "source": [
    "round(full(N*N')) == eye(size(N,1))"
   ]
  },
  {
   "cell_type": "code",
   "execution_count": 49,
   "metadata": {
    "collapsed": false
   },
   "outputs": [
    {
     "data": {
      "text/plain": [
       "558x558 Array{Float64,2}:\n",
       "  0.660645     -0.10769     -0.0822973    …  0.0          0.0       \n",
       " -0.10769       0.930078    -0.0638266       0.0          0.0       \n",
       " -0.0822973    -0.0638266    0.937823        0.0          0.0       \n",
       " -0.0727041    -0.0616243   -0.0615291       0.0          0.0       \n",
       " -0.069156     -0.0605906   -0.0609808       0.0          0.0       \n",
       " -0.0827355    -0.0638463   -0.0615639    …  0.0          0.0       \n",
       " -0.0842508    -0.0638401   -0.0607716       0.0          0.0       \n",
       " -0.0666117    -0.0596364   -0.0602881       0.0          0.0       \n",
       " -0.0856937    -0.063843    -0.0602554       0.0          0.0       \n",
       " -0.0102633    -0.0423077   -0.0423222       0.0          0.0       \n",
       " -0.012667     -0.0431544   -0.0438904    …  0.0          0.0       \n",
       " -0.0138237    -0.0435263   -0.0443015       0.0          0.0       \n",
       " -0.0292589    -0.0481358   -0.0481903       0.0          0.0       \n",
       "  ⋮                                       ⋱                         \n",
       "  0.0           0.0          0.0             0.0          0.00248595\n",
       "  0.0           0.0          0.0             0.0          0.00250546\n",
       "  0.0           0.0          0.0             0.0          0.00366233\n",
       "  0.0           0.0          0.0             0.0          0.00391633\n",
       "  0.0           0.0          0.0          …  0.0          0.0034806 \n",
       "  0.0           0.0          0.0             0.0         -0.00557501\n",
       " -0.000265074  -6.93536e-5  -0.000246883     0.0          0.0       \n",
       "  0.0           0.0          0.0             0.0          0.0       \n",
       "  0.0           0.0          0.0             0.0          0.0       \n",
       "  0.0           0.0          0.0          …  0.0          0.0       \n",
       "  0.0           0.0          0.0             0.00145554   0.0       \n",
       "  0.0           0.0          0.0             0.0          0.00387294"
      ]
     },
     "execution_count": 49,
     "metadata": {},
     "output_type": "execute_result"
    }
   ],
   "source": [
    "full(N*N')"
   ]
  },
  {
   "cell_type": "code",
   "execution_count": 41,
   "metadata": {
    "collapsed": false
   },
   "outputs": [
    {
     "data": {
      "text/plain": [
       "108x108 Array{Float64,2}:\n",
       "  1.0           6.13252e-18   2.29597e-17  …   0.0           0.0        \n",
       "  6.13252e-18   1.0           2.03635e-17      0.0           0.0        \n",
       "  2.29597e-17   2.03635e-17   1.0              0.0           0.0        \n",
       "  5.73577e-17   1.16287e-16   4.96742e-18      0.0           0.0        \n",
       " -9.80822e-18  -1.20441e-16  -5.27097e-17      0.0           0.0        \n",
       "  2.03322e-17  -1.15874e-18   2.12838e-17  …   0.0           0.0        \n",
       " -5.96718e-17   1.4058e-16    1.94089e-17      0.0           0.0        \n",
       "  3.92142e-17   3.40846e-17   1.77772e-16      0.0           0.0        \n",
       "  6.36969e-19   6.67869e-17   2.1413e-18       0.0           0.0        \n",
       "  6.03731e-17   7.28652e-17  -9.02158e-17      0.0           0.0        \n",
       "  1.89193e-17   2.86013e-16   1.40636e-16  …   0.0           0.0        \n",
       "  2.26463e-17   9.31059e-17  -4.02137e-17      0.0           0.0        \n",
       "  2.24972e-17   6.02274e-17   3.83672e-17      0.0           0.0        \n",
       "  ⋮                                        ⋱                            \n",
       "  0.0           0.0           0.0              9.57617e-17  -5.15591e-17\n",
       "  0.0           0.0           0.0             -3.13301e-17   5.30689e-17\n",
       "  0.0           0.0           0.0              1.55146e-16  -1.08738e-17\n",
       "  0.0           0.0           0.0              2.60776e-16  -5.24922e-17\n",
       "  0.0           0.0           0.0          …  -8.64312e-17  -8.83291e-17\n",
       "  0.0           0.0           0.0              5.21921e-17  -1.32338e-16\n",
       "  0.0           0.0           0.0              3.94023e-17   9.47627e-17\n",
       "  0.0           0.0           0.0             -6.06308e-17  -3.95551e-17\n",
       "  0.0           0.0           0.0              4.91084e-17  -7.09259e-17\n",
       "  0.0           0.0           0.0          …   9.91045e-17  -3.62423e-16\n",
       "  0.0           0.0           0.0              1.0           2.01109e-16\n",
       "  0.0           0.0           0.0              2.01109e-16   1.0        "
      ]
     },
     "execution_count": 41,
     "metadata": {},
     "output_type": "execute_result"
    }
   ],
   "source": [
    "full(N'*N)"
   ]
  },
  {
   "cell_type": "code",
   "execution_count": 32,
   "metadata": {
    "collapsed": false
   },
   "outputs": [
    {
     "data": {
      "text/plain": [
       "558x558 sparse matrix with 6 Float64 entries:\n",
       "\t[553, 553]  =  1.0\n",
       "\t[554, 554]  =  1.0\n",
       "\t[555, 555]  =  1.0\n",
       "\t[556, 556]  =  1.0\n",
       "\t[557, 557]  =  1.0\n",
       "\t[558, 558]  =  1.0"
      ]
     },
     "execution_count": 32,
     "metadata": {},
     "output_type": "execute_result"
    }
   ],
   "source": [
    "Qc"
   ]
  },
  {
   "cell_type": "code",
   "execution_count": 26,
   "metadata": {
    "collapsed": false
   },
   "outputs": [
    {
     "data": {
      "text/plain": [
       "108x108 sparse matrix with 1926 Float64 entries:\n",
       "\t[19 ,   1]  =  -0.000689928\n",
       "\t[20 ,   1]  =  0.0426594\n",
       "\t[21 ,   1]  =  -0.0181985\n",
       "\t[22 ,   1]  =  0.00531076\n",
       "\t[23 ,   1]  =  -0.0218494\n",
       "\t[24 ,   1]  =  -0.00211391\n",
       "\t[25 ,   1]  =  0.0357571\n",
       "\t[26 ,   1]  =  -0.0341565\n",
       "\t[27 ,   1]  =  -0.015265\n",
       "\t[28 ,   1]  =  -0.0177768\n",
       "\t⋮\n",
       "\t[8  , 108]  =  -0.0115259\n",
       "\t[9  , 108]  =  -0.022998\n",
       "\t[10 , 108]  =  0.00673647\n",
       "\t[11 , 108]  =  0.0235843\n",
       "\t[12 , 108]  =  -0.0149412\n",
       "\t[13 , 108]  =  0.0373523\n",
       "\t[14 , 108]  =  -0.00301538\n",
       "\t[15 , 108]  =  0.015071\n",
       "\t[16 , 108]  =  -0.0209226\n",
       "\t[17 , 108]  =  0.00166465\n",
       "\t[18 , 108]  =  0.00754881"
      ]
     },
     "execution_count": 26,
     "metadata": {},
     "output_type": "execute_result"
    }
   ],
   "source": [
    "D2 = diag(Qc)[m+1:n]\n",
    "U2 = (N')[:,m+1:n]"
   ]
  },
  {
   "cell_type": "code",
   "execution_count": 7,
   "metadata": {
    "collapsed": false,
    "scrolled": false
   },
   "outputs": [
    {
     "data": {
      "text/plain": [
       "108-element Array{Float64,1}:\n",
       " -0.0        \n",
       " -0.0        \n",
       " -0.0        \n",
       " -0.0        \n",
       " -0.0        \n",
       " -0.0        \n",
       " -0.0        \n",
       " -0.0        \n",
       " -0.0        \n",
       " -0.0        \n",
       " -0.0        \n",
       " -0.0        \n",
       " -0.0        \n",
       "  ⋮          \n",
       "  0.0        \n",
       "  0.0        \n",
       "  0.0        \n",
       "  0.0        \n",
       "  0.0        \n",
       "  0.0        \n",
       "  2.87982e-5 \n",
       "  7.68095e-5 \n",
       "  0.000204846\n",
       "  0.000546198\n",
       "  0.00145554 \n",
       "  0.00387294 "
      ]
     },
     "execution_count": 7,
     "metadata": {},
     "output_type": "execute_result"
    }
   ],
   "source": [
    "round(D,10)"
   ]
  },
  {
   "cell_type": "code",
   "execution_count": 8,
   "metadata": {
    "collapsed": false
   },
   "outputs": [
    {
     "data": {
      "text/plain": [
       "108x108 Array{Float64,2}:\n",
       " 0.0  0.0  -0.0655642   0.0  -0.250625    …  0.0  0.0  0.0  0.0   0.06375   \n",
       " 0.0  0.0   0.00899026  0.0  -0.172969       0.0  0.0  0.0  0.0   0.135029  \n",
       " 0.0  0.0  -0.013932    0.0  -0.0264157      0.0  0.0  0.0  0.0   0.00983275\n",
       " 0.0  0.0  -0.0648723   0.0   0.172969       0.0  0.0  0.0  0.0   0.0690593 \n",
       " 0.0  0.0   0.00469648  0.0   0.00552324     0.0  0.0  0.0  0.0   0.00373929\n",
       " 0.0  0.0  -0.0627797   0.0   0.0195721   …  0.0  0.0  0.0  0.0   0.0721536 \n",
       " 0.0  0.0   0.122873    0.0   0.254696       0.0  0.0  0.0  0.0  -0.184615  \n",
       " 0.0  0.0  -0.0115918   0.0  -0.476801       0.0  0.0  0.0  0.0   0.185205  \n",
       " 0.0  0.0   0.149278    0.0  -0.386489       0.0  0.0  0.0  0.0   0.369547  \n",
       " 0.0  0.0   0.349904    0.0  -0.0908756      0.0  0.0  0.0  0.0  -0.108246  \n",
       " 0.0  0.0   0.51235     0.0  -0.424615    …  0.0  0.0  0.0  0.0  -0.378968  \n",
       " 0.0  0.0  -0.392403    0.0  -0.147438       0.0  0.0  0.0  0.0   0.240085  \n",
       " 0.0  0.0  -0.610923    0.0  -0.271019       0.0  0.0  0.0  0.0  -0.600201  \n",
       " ⋮                                        ⋱            ⋮                    \n",
       " 0.0  0.0   0.0         0.0   0.0            0.0  0.0  0.0  0.0   0.0       \n",
       " 0.0  0.0   0.0         0.0   0.0            0.0  0.0  0.0  0.0   0.0       \n",
       " 0.0  0.0   0.0         0.0   0.0            0.0  0.0  0.0  0.0   0.0       \n",
       " 0.0  0.0   0.0         0.0   0.0            0.0  0.0  0.0  0.0   0.0       \n",
       " 0.0  0.0   0.0         0.0   0.0         …  0.0  0.0  0.0  0.0   0.0       \n",
       " 0.0  0.0   0.0         0.0   0.0            0.0  0.0  0.0  0.0   0.0       \n",
       " 0.0  0.0   0.0         0.0   0.0            0.0  0.0  0.0  0.0   0.0       \n",
       " 0.0  0.0   0.0         0.0   0.0            0.0  0.0  0.0  0.0   0.0       \n",
       " 0.0  0.0   0.0         0.0   0.0            0.0  0.0  0.0  0.0   0.0       \n",
       " 0.0  0.0   0.0         0.0   0.0         …  0.0  0.0  0.0  0.0   0.0       \n",
       " 0.0  0.0   0.0         0.0   0.0            0.0  0.0  0.0  0.0   0.0       \n",
       " 0.0  0.0   0.0         0.0   0.0            0.0  0.0  0.0  0.0   0.0       "
      ]
     },
     "execution_count": 8,
     "metadata": {},
     "output_type": "execute_result"
    }
   ],
   "source": [
    "U"
   ]
  },
  {
   "cell_type": "code",
   "execution_count": 12,
   "metadata": {
    "collapsed": false
   },
   "outputs": [
    {
     "data": {
      "text/plain": [
       "true"
      ]
     },
     "execution_count": 12,
     "metadata": {},
     "output_type": "execute_result"
    }
   ],
   "source": [
    "round(Qc) == zeros(size(Qc))"
   ]
  },
  {
   "cell_type": "code",
   "execution_count": 9,
   "metadata": {
    "collapsed": false
   },
   "outputs": [
    {
     "data": {
      "text/plain": [
       "20-element Array{Float64,1}:\n",
       "   0.000405204\n",
       "   0.0144616  \n",
       "   0.0847428  \n",
       "   0.155605   \n",
       "   0.205932   \n",
       "   0.296835   \n",
       "   0.432113   \n",
       "   0.520483   \n",
       "   0.69993    \n",
       "   0.958371   \n",
       "   1.397      \n",
       "   1.7767     \n",
       "   2.05111    \n",
       "   2.23544    \n",
       "   2.52542    \n",
       "   2.83139    \n",
       "   3.84737    \n",
       "   4.13234    \n",
       "   5.55306    \n",
       " 105.966      "
      ]
     },
     "execution_count": 9,
     "metadata": {},
     "output_type": "execute_result"
    }
   ],
   "source": [
    "A = rand(20,20)\n",
    "D,V = eig(A*A')\n",
    "D"
   ]
  },
  {
   "cell_type": "code",
   "execution_count": 10,
   "metadata": {
    "collapsed": false
   },
   "outputs": [
    {
     "data": {
      "text/plain": [
       "2-element Array{Float64,1}:\n",
       " 0.896894\n",
       " 0.744011"
      ]
     },
     "execution_count": 10,
     "metadata": {},
     "output_type": "execute_result"
    }
   ],
   "source": [
    "diag(A)[1:2]"
   ]
  }
 ],
 "metadata": {
  "kernelspec": {
   "display_name": "Julia 0.4.0",
   "language": "julia",
   "name": "julia-0.4"
  },
  "language_info": {
   "file_extension": ".jl",
   "mimetype": "application/julia",
   "name": "julia",
   "version": "0.4.0"
  }
 },
 "nbformat": 4,
 "nbformat_minor": 0
}
