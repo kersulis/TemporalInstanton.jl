{
 "cells": [
  {
   "cell_type": "markdown",
   "metadata": {},
   "source": [
    "# Understanding TemporalInstanton.jl\n",
    "\n",
    "By now I have written a fair bit of code for performing temporal instanton analysis. Any modifications I make ripple through the codebase, causing widespread problems. For my own benefit, it's time to understand the code better and document it thoroughly. Most of this documentation should be embedded in the Julia source itself, taking advantage of [Julia's excellent documentation setup][1].\n",
    "\n",
    "Some of the documentation doesn't fit in the source itself. Describing each source file, for example, requires external treatment.\n",
    "\n",
    "[1]: http://docs.julialang.org/en/latest/manual/documentation/"
   ]
  },
  {
   "cell_type": "markdown",
   "metadata": {},
   "source": [
    "## Files\n",
    "\n",
    "### Temporal Instanton.jl\n",
    "\n",
    "The module around which everything else is built. This file loads all other source files and exports useful functions when it is called. All temporal instanton analysis may be kicked off with\n",
    "\n",
    "```julia\n",
    "include(\"/path/to/TemporalInstanton.jl\") # tell Julia about the module\n",
    "using TemporalInstanton # load and export all functions\n",
    "```"
   ]
  },
  {
   "cell_type": "markdown",
   "metadata": {},
   "source": [
    "### DataLoad.jl\n",
    "\n",
    "All code defining custom types and implementing data import stuff is here. There are two types.\n",
    "\n",
    "* `InstantonInputData` has a field for each parameter necessary to begin instanton analysis. This type is a container that makes it easy to gather all pertinent data under a single name and pass it to the main analysis function.\n",
    "\n",
    "* `InstantonOutputData` contains all data produced by temporal instanton analysis. With these two custom types defined, analysis can be performed as follows:\n",
    "\n",
    "\n",
    "1. Gather all input data into an instance `d` of `InstantonInputData`.\n",
    "2. Call `solve_temporal_instanton(d)` to perform analysis.\n",
    "3. Study structured output data `o`, which is an instance of `InstantonOutputData`.\n",
    "\n",
    "Step 1 requires loading data stored on the hard disk and generating reasonable values to fill in gaps. The functions in `DataLoad.jl` handle these tasks.\n",
    "\n",
    "* `load_rts_96_data()` loads data from Jennifer Marley's OPF studies. This is a special case I began using while working on instantaneous analysis. I keep it around as a constant scenario against which I can test performance. I am, however, thinking of retiring it. The biggest reasons for keeping it around --that I could compare results with Jenny, and that I had no other way to build test scenarios-- are no longer significant.\n",
    "\n",
    "* `mat2tmpinst()` is the workhorse that takes the name of a Matpower case, fills in gaps, and returns `d::InstantonInputData` ready for analysis. Filling in the gaps necessitates a couple assumptions:\n",
    "\n",
    "    1. All generators whose output is smaller than the mean are converted into wind farms. This tends to be a good way to distribute wind throughout the network without disturbing things too much, but can cause trouble in networks that have only a few small generators.\n",
    "    2. All line conductors are assumed to be Waxwing ACSR. Every line has the same thermal parameters regardless of its voltage. It would be nice to do away with this assumption by using Jon's conductor assignment code, which uses electric parameters as features to predict reasonable thermal parameters.\n",
    "\n",
    "* `createY()` generates an admittance matrix. Pretty straightforward.\n",
    "\n",
    "* `return_line_conductors()` was a naive attempt to use line voltage to assign thermal parameters. I was trying to support both Waxwing and Dove to emulate the approach in Mads's RTS-96 case study."
   ]
  },
  {
   "cell_type": "markdown",
   "metadata": {},
   "source": [
    "### PowerFlow.jl\n",
    "\n",
    "### ThermalModel.jl\n",
    "\n",
    "### QCQPMatrixBuilding.jl\n",
    "\n",
    "### manipulations.jl\n",
    "\n",
    "### SolveSecular.jl\n",
    "\n",
    "### plot.jl\n",
    "\n",
    "### solvetmpinst.jl"
   ]
  },
  {
   "cell_type": "code",
   "execution_count": 3,
   "metadata": {
    "collapsed": false
   },
   "outputs": [
    {
     "name": "stdout",
     "output_type": "stream",
     "text": [
      "caseRTS96.mat\n",
      "conductor_assignment\n",
      "correlation.jl\n",
      "DataLoad.jl\n",
      "DataLoad.jl.mem\n",
      "manipulations.jl\n",
      "manipulations.jl.mem\n",
      "mat2tmpinst.jl\n",
      "maxTemp.jl\n",
      "plot.jl\n",
      "plotResults.jl\n",
      "PowerFlow.jl\n",
      "QCQPMatrixBuilding.jl\n",
      "QCQPMatrixBuilding.jl.mem\n",
      "readPolishData.jl.mem\n",
      "readRTS96Data.jl.mem\n",
      "setup.jl\n",
      "SolveSecular.jl\n",
      "SolveSecular.jl.mem\n",
      "solvetmpinst.jl\n",
      "spr.jl\n",
      "tags\n",
      "TemporalInstanton.jl\n",
      "TemporalInstanton.jl.mem\n",
      "ThermalModel.jl\n",
      "ThermalModel.jl.mem\n",
      "tmp_inst_rts96.jl.mem\n"
     ]
    }
   ],
   "source": [
    "; ls ../src"
   ]
  },
  {
   "cell_type": "code",
   "execution_count": 1,
   "metadata": {
    "collapsed": false
   },
   "outputs": [],
   "source": [
    "include(\"../src/TemporalInstanton.jl\")\n",
    "using TemporalInstanton"
   ]
  },
  {
   "cell_type": "code",
   "execution_count": 4,
   "metadata": {
    "collapsed": false
   },
   "outputs": [
    {
     "name": "stdout",
     "output_type": "stream",
     "text": [
      "search: "
     ]
    },
    {
     "data": {
      "text/latex": [
       "\\begin{verbatim}\n",
       "mat2tmpinst(name) -> d\n",
       "\\end{verbatim}\n",
       "Loads (and generates) everything needed to perform temporal instanton analysis for any network supported by \\href{https://github.com/kersulis/MatpowerCases.jl}{MatpowerCases.jl}. \\texttt{d} is an instance of \\texttt{InstantonOutputData}.\n"
      ],
      "text/markdown": [
       "```\n",
       "mat2tmpinst(name) -> d\n",
       "```\n",
       "\n",
       "Loads (and generates) everything needed to perform temporal instanton analysis for any network supported by [MatpowerCases.jl](https://github.com/kersulis/MatpowerCases.jl). `d` is an instance of `InstantonOutputData`.\n"
      ],
      "text/plain": [
       "```\n",
       "mat2tmpinst(name) -> d\n",
       "```\n",
       "\n",
       "Loads (and generates) everything needed to perform temporal instanton analysis for any network supported by [MatpowerCases.jl](https://github.com/kersulis/MatpowerCases.jl). `d` is an instance of `InstantonOutputData`.\n"
      ]
     },
     "execution_count": 4,
     "metadata": {},
     "output_type": "execute_result"
    },
    {
     "name": "stdout",
     "output_type": "stream",
     "text": [
      "mat2tmpinst\n",
      "\n"
     ]
    }
   ],
   "source": [
    "?mat2tmpinst"
   ]
  }
 ],
 "metadata": {
  "kernelspec": {
   "display_name": "Julia 0.4.0",
   "language": "julia",
   "name": "julia-0.4"
  },
  "language_info": {
   "file_extension": ".jl",
   "mimetype": "application/julia",
   "name": "julia",
   "version": "0.4.0"
  }
 },
 "nbformat": 4,
 "nbformat_minor": 0
}
