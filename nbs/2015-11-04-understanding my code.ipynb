{
 "cells": [
  {
   "cell_type": "markdown",
   "metadata": {},
   "source": [
    "# Understanding TemporalInstanton.jl\n",
    "\n",
    "By now I have written a fair bit of code for performing temporal instanton analysis. Any modifications I make ripple through the codebase, causing widespread problems. For my own benefit, it's time to understand the code better and document it thoroughly. Most of this documentation should be embedded in the Julia source itself, taking advantage of [Julia's excellent documentation setup][1].\n",
    "\n",
    "Some of the documentation doesn't fit in the source itself. Describing each source file, for example, requires external treatment.\n",
    "\n",
    "[1]: http://docs.julialang.org/en/latest/manual/documentation/"
   ]
  },
  {
   "cell_type": "markdown",
   "metadata": {},
   "source": [
    "## Files\n",
    "\n",
    "### Temporal Instanton.jl\n",
    "\n",
    "The module around which everything else is built. This file loads all other source files and exports useful functions when it is called. All temporal instanton analysis may be kicked off with\n",
    "\n",
    "```julia\n",
    "include(\"/path/to/TemporalInstanton.jl\") # tell Julia about the module\n",
    "using TemporalInstanton # load and export all functions\n",
    "```"
   ]
  },
  {
   "cell_type": "markdown",
   "metadata": {},
   "source": [
    "### DataLoad.jl\n",
    "\n",
    "All code defining custom types and implementing data import stuff is here. There are two types.\n",
    "\n",
    "* `InstantonInputData` has a field for each parameter necessary to begin instanton analysis. This type is a container that makes it easy to gather all pertinent data under a single name and pass it to the main analysis function.\n",
    "\n",
    "* `InstantonOutputData` contains all data produced by temporal instanton analysis. With these two custom types defined, analysis can be performed as follows:\n",
    "\n",
    "\n",
    "1. Gather all input data into an instance `d` of `InstantonInputData`.\n",
    "2. Call `solve_temporal_instanton(d)` to perform analysis.\n",
    "3. Study structured output data `o`, which is an instance of `InstantonOutputData`.\n",
    "\n",
    "Step 1 requires loading data stored on the hard disk and generating reasonable values to fill in gaps. The functions in `DataLoad.jl` handle these tasks.\n",
    "\n",
    "* `load_rts_96_data()` loads data from Jennifer Marley's OPF studies. This is a special case I began using while working on instantaneous analysis. I keep it around as a constant scenario against which I can test performance. I am, however, thinking of retiring it. The biggest reasons for keeping it around --that I could compare results with Jenny, and that I had no other way to build test scenarios-- are no longer significant.\n",
    "\n",
    "* `mat2tmpinst()` is the workhorse that takes the name of a Matpower case, fills in gaps, and returns `d::InstantonInputData` ready for analysis. Filling in the gaps necessitates a couple assumptions:\n",
    "\n",
    "    1. All generators whose output is smaller than the mean are converted into wind farms. This tends to be a good way to distribute wind throughout the network without disturbing things too much, but can cause trouble in networks that have only a few small generators.\n",
    "    2. All line conductors are assumed to be Waxwing ACSR. Every line has the same thermal parameters regardless of its voltage. It would be nice to do away with this assumption by using Jon's conductor assignment code, which uses electric parameters as features to predict reasonable thermal parameters.\n",
    "\n",
    "* `createY()` generates an admittance matrix. Pretty straightforward.\n",
    "\n",
    "* `return_line_conductors()` was a naive attempt to use line voltage to assign thermal parameters. I was trying to support both Waxwing and Dove to emulate the approach in Mads's RTS-96 case study."
   ]
  },
  {
   "cell_type": "markdown",
   "metadata": {},
   "source": [
    "### PowerFlow.jl\n",
    "\n",
    "### ThermalModel.jl\n",
    "\n",
    "### QCQPMatrixBuilding.jl\n",
    "\n",
    "### manipulations.jl\n",
    "\n",
    "### SolveSecular.jl\n",
    "\n",
    "### plot.jl\n",
    "\n",
    "### solvetmpinst.jl"
   ]
  },
  {
   "cell_type": "code",
   "execution_count": 1,
   "metadata": {
    "collapsed": false
   },
   "outputs": [],
   "source": [
    "# Using one core\n",
    "include(\"../src/TemporalInstanton.jl\")\n",
    "using TemporalInstanton"
   ]
  },
  {
   "cell_type": "code",
   "execution_count": null,
   "metadata": {
    "collapsed": true
   },
   "outputs": [],
   "source": [
    "# Using multiple cores\n",
    "addprocs(2) # vary number of concurrent processes here\n",
    "@everywhere include(\"../src/TemporalInstanton.jl\")\n",
    "# @everywhere include(\"../src/mat2tmpinst.jl\")\n",
    "@everywhere using TemporalInstanton"
   ]
  },
  {
   "cell_type": "code",
   "execution_count": 3,
   "metadata": {
    "collapsed": false
   },
   "outputs": [
    {
     "name": "stdout",
     "output_type": "stream",
     "text": [
      "r=0 check: \tremoving 1 lines\n",
      "ISF pre-check: \tremoving lines Int64[]\n",
      "  "
     ]
    },
    {
     "data": {
      "text/plain": [
       "104-element Array{Tuple{Float64,Int64},1}:\n",
       " (0.263787830020006,25)  \n",
       " (0.3273164183285288,30) \n",
       " (1.2886107366327355,69) \n",
       " (2.2041515936832066,89) \n",
       " (2.322973886040895,118) \n",
       " (2.42316154712363,64)   \n",
       " (4.67875546231252,42)   \n",
       " (4.865240811106734,102) \n",
       " (4.899167201158152,31)  \n",
       " (5.678266048785588,80)  \n",
       " (5.938620037616521,1)   \n",
       " (6.439172990446961,100) \n",
       " (6.4608887584718095,62) \n",
       " ⋮                       \n",
       " (178.0855817862111,99)  \n",
       " (303.00328573243416,103)\n",
       " (370.61443512027347,66) \n",
       " (370.61443512027347,67) \n",
       " (391.3070873721824,33)  \n",
       " (428.94449223314234,40) \n",
       " (923.97998538764,72)    \n",
       " (979.1988880469704,117) \n",
       " (1319.8524187115077,79) \n",
       " (1390.0270570261027,110)\n",
       " (1967.2698882361206,73) \n",
       " (1967.2698882361206,74) "
      ]
     },
     "execution_count": 3,
     "metadata": {},
     "output_type": "execute_result"
    },
    {
     "name": "stdout",
     "output_type": "stream",
     "text": [
      "8.445260 seconds (8.65 M allocations: 1.197 GB, 2.15% gc time)\n"
     ]
    }
   ],
   "source": [
    "# test case used for timing analysis\n",
    "d = testcase(\"timing\")\n",
    "@time o = solve_temporal_instanton(d);\n",
    "\n",
    "sort(o.score)"
   ]
  }
 ],
 "metadata": {
  "kernelspec": {
   "display_name": "Julia 0.4.0",
   "language": "julia",
   "name": "julia-0.4"
  },
  "language_info": {
   "file_extension": ".jl",
   "mimetype": "application/julia",
   "name": "julia",
   "version": "0.4.0"
  }
 },
 "nbformat": 4,
 "nbformat_minor": 0
}
