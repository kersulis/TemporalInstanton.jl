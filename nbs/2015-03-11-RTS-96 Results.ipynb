{
 "cells": [
  {
   "cell_type": "markdown",
   "metadata": {},
   "source": [
    "# RTS-96 Results\n",
    "\n",
    "It's time to convert the MATLAB code I wrote to pull RTS-96 data out of Jenny's Excel spreadsheets into Julia code.\n",
    "\n",
    "I actually don't think I have enough time for this right now. Perhaps for the upcoming journal article.\n",
    "\n",
    "Okay, I changed my mind. It's more important now to connect various parts of existing RTS-96 data to the temporal instanton solver."
   ]
  },
  {
   "cell_type": "code",
   "execution_count": 1,
   "metadata": {
    "collapsed": true
   },
   "outputs": [],
   "source": [
    "include(\"../src/TemporalInstanton.jl\")\n",
    "include(\"../src/TrustRegionSubproblem.jl\")\n",
    "\n",
    "using TemporalInstanton, TrustRegionSubproblem"
   ]
  },
  {
   "cell_type": "code",
   "execution_count": 2,
   "metadata": {
    "collapsed": true
   },
   "outputs": [
    {
     "data": {
      "text/plain": [
       "(100.0,[1,1,1,2,2,3,3,4,5,6  …  66,66,67,67,68,68,69,73,66,71],[2,3,5,4,6,9,24,9,10,10  …  69,69,68,68,71,71,70,21,47,73],[0.003,0.055,0.022,0.033,0.05,0.031,0.002,0.027,0.023,0.014  …  0.003,0.003,0.005,0.005,0.003,0.003,0.009,0.012,0.013,0.0],[0.014,0.211,0.085,0.127,0.192,0.119,0.084,0.104,0.088,0.061  …  0.026,0.026,0.04,0.04,0.022,0.022,0.068,0.097,0.104,0.009],[0.461,0.057,0.023,0.034,0.052,0.032,0.0,0.028,0.024,2.459  …  0.055,0.055,0.083,0.083,0.046,0.046,0.142,0.203,0.218,0.0],\n",
       "73x73 sparse matrix with 289 Float64 entries:\n",
       "\t[1 ,  1]  =  87.9326\n",
       "\t[2 ,  1]  =  -71.4286\n",
       "\t[3 ,  1]  =  -4.73934\n",
       "\t[5 ,  1]  =  -11.7647\n",
       "\t[1 ,  2]  =  -71.4286\n",
       "\t[2 ,  2]  =  84.5109\n",
       "\t[4 ,  2]  =  -7.87402\n",
       "\t[6 ,  2]  =  -5.20833\n",
       "\t[1 ,  3]  =  -4.73934\n",
       "\t[3 ,  3]  =  25.0475\n",
       "\t⋮\n",
       "\t[60, 71]  =  -10.3093\n",
       "\t[61, 71]  =  -11.4943\n",
       "\t[68, 71]  =  -90.9091\n",
       "\t[71, 71]  =  223.824\n",
       "\t[73, 71]  =  -111.111\n",
       "\t[51, 72]  =  -11.9048\n",
       "\t[63, 72]  =  -19.2308\n",
       "\t[72, 72]  =  31.1355\n",
       "\t[21, 73]  =  -10.3093\n",
       "\t[71, 73]  =  -111.111\n",
       "\t[73, 73]  =  121.42,\n",
       "\n",
       "[2.0,2.0,1.0,1.0,1.0,1.0,2.0,1.0,1.0,1.0  …  2.0,1.0,2.0,1.0,1.0,2.0,2.0,2.0,1.0,1.0],[1.72,1.72,0.0,0.0,0.0,0.0,1.6,0.8,0.0,0.0  …  1.55,0.0,4.0,0.0,0.0,4.0,3.0,6.6,0.0,0.0],[0.282,0.14,0.0,0.0,0.0,0.0,0.344,0.172,0.0,0.0  …  0.2522,0.0,1.374,0.0,0.0,1.082,-0.2976,1.3536,0.0,0.0],[0.706713,0.632322,1.17166,0.48354,0.464943,0.89269,0.818299,1.11586,1.13446,1.26464  …  0.65092,0.0,2.17593,1.19025,0.836897,0.0,0.0,0.0,0.0,0.0],[0.22,0.2,0.37,0.15,0.14,0.28,0.25,0.35,0.36,0.4  …  0.2,0.0,0.68,0.37,0.26,0.0,0.0,0.0,0.0,0.0],[0.0,0.0820657,0.0,0.0,0.0,0.0,0.0,0.0,0.0,0.0  …  0.0,0.0,0.0,0.0,0.0,0.0,0.0,0.0,0.0,0.0],[0.0,0.0397198,0.0,0.0,0.0,0.0,0.0,0.0,0.0,0.0  …  0.0,0.0,0.0,0.0,0.0,0.0,0.0,0.0,0.0,0.0],[0.2,0.2,0.76,0.76,0.2,0.2,0.76,0.76,1.0,1.0  …  4.0,0.5,0.5,0.5,0.5,0.5,0.5,1.55,1.55,3.5],[0.08,0.08,0.4,0.4,0.08,0.08,0.4,0.4,0.4,0.4  …  1.0,0.26,0.26,0.26,0.26,0.26,0.26,0.5424,0.5424,1.4],[0.1,0.1,0.3,0.3,0.1,0.1,0.3,0.3,0.6,0.6  …  2.0,0.16,0.16,0.16,0.16,0.16,0.16,0.8,0.8,1.5],[0.0,0.0,-0.25,-0.25,0.0,0.0,-0.25,-0.25,0.0,0.0  …  -0.5,-0.1,-0.1,-0.1,-0.1,-0.1,-0.1,-0.5,-0.5,-0.25],[1.12,1.12,1.12,1.12,1.12,1.12,2.56,1.12,1.12,1.12  …  3.2,3.2,3.2,3.2,3.2,3.2,3.2,3.2,3.2,4.6208],[1.035,1.035,1.035,1.035,1.035,1.035,1.035,1.035,1.025,1.025  …  1.05,1.05,1.05,1.05,1.05,1.05,1.05,1.05,1.05,1.05],[1.0,1.0,1.1,1.1,1.1,1.1,1.0,1.1,1.1,1.1  …  1.0,1.1,1.0,1.1,1.1,1.0,1.0,1.0,1.1,1.1],[1.0,1.0,0.9,0.9,0.9,0.9,1.0,0.9,0.9,0.9  …  1.0,0.9,1.0,0.9,0.9,1.0,1.0,1.0,0.9,0.9],[101.0,102.0,103.0,104.0,105.0,106.0,107.0,108.0,109.0,110.0  …  316.0,317.0,318.0,319.0,320.0,321.0,322.0,323.0,324.0,325.0],73,18,33,[0.030303,0.030303,0.0,0.0,0.0,0.0,0.030303,0.030303,0.0,0.0  …  0.030303,0.0,0.030303,0.0,0.0,0.030303,0.030303,0.030303,0.0,0.0])"
      ]
     },
     "execution_count": 2,
     "metadata": {},
     "output_type": "execute_result"
    }
   ],
   "source": [
    "include(\"../src/tmp_inst_rts96.jl\")\n",
    "\n",
    "psData = psDataLoad()\n",
    "\n",
    "# unpack psDL (boilerplate):\n",
    "(Sb,f,t,r,x,b,Y,bustype,\n",
    "Gp,Gq,Dp,Dq,Rp,Rq,\n",
    "Pmax,Pmin,Qmax,Qmin,Plim,\n",
    "Vg,Vceiling,Vfloor,\n",
    "busIdx,N,Nr,Ng,k) = unpack_psDL(psData)"
   ]
  },
  {
   "cell_type": "code",
   "execution_count": 3,
   "metadata": {
    "collapsed": false
   },
   "outputs": [
    {
     "data": {
      "text/plain": [
       "(1,2)"
      ]
     },
     "execution_count": 3,
     "metadata": {},
     "output_type": "execute_result"
    }
   ],
   "source": [
    "####### DATA ENTRY ########\n",
    "\n",
    "# Static\n",
    "Ridx = find(Rp) # Vector of renewable nodes\n",
    "Y = Y # Full admittance matrix (slack not removed)\n",
    "slack = 1 # Index of slack node\n",
    "k = k # Conventional generator participation factors\n",
    "tau = 2 # Heating constant\n",
    "G0 = Gp\n",
    "D = Dp\n",
    "P0 = Rp\n",
    "kQobj = 0 # Should always be zero; objective has no constant term\n",
    "c = 10 # RHS of line temperature constraint\n",
    "kQtheta = -c # Move to LHS so we have Q(z) = 0\n",
    "lines = [(f[i],t[i]) for i in 1:length(f)]\n",
    "\n",
    "line = lines[1]"
   ]
  },
  {
   "cell_type": "code",
   "execution_count": 28,
   "metadata": {
    "collapsed": true
   },
   "outputs": [
    {
     "data": {
      "text/plain": [
       "(1,2)"
      ]
     },
     "metadata": {},
     "output_type": "display_data"
    },
    {
     "data": {
      "text/plain": [
       "(1,3)"
      ]
     },
     "metadata": {},
     "output_type": "display_data"
    },
    {
     "data": {
      "text/plain": [
       "(1,5)"
      ]
     },
     "metadata": {},
     "output_type": "display_data"
    },
    {
     "data": {
      "text/plain": [
       "(2,4)"
      ]
     },
     "metadata": {},
     "output_type": "display_data"
    },
    {
     "data": {
      "text/plain": [
       "(2,6)"
      ]
     },
     "metadata": {},
     "output_type": "display_data"
    },
    {
     "data": {
      "text/plain": [
       "(3,9)"
      ]
     },
     "metadata": {},
     "output_type": "display_data"
    },
    {
     "data": {
      "text/plain": [
       "(3,24)"
      ]
     },
     "metadata": {},
     "output_type": "display_data"
    },
    {
     "data": {
      "text/plain": [
       "(4,9)"
      ]
     },
     "metadata": {},
     "output_type": "display_data"
    },
    {
     "data": {
      "text/plain": [
       "(5,10)"
      ]
     },
     "metadata": {},
     "output_type": "display_data"
    },
    {
     "data": {
      "text/plain": [
       "(6,10)"
      ]
     },
     "metadata": {},
     "output_type": "display_data"
    },
    {
     "data": {
      "text/plain": [
       "(7,8)"
      ]
     },
     "metadata": {},
     "output_type": "display_data"
    },
    {
     "data": {
      "text/plain": [
       "(7,27)"
      ]
     },
     "metadata": {},
     "output_type": "display_data"
    },
    {
     "data": {
      "text/plain": [
       "(8,9)"
      ]
     },
     "metadata": {},
     "output_type": "display_data"
    },
    {
     "data": {
      "text/plain": [
       "(8,10)"
      ]
     },
     "metadata": {},
     "output_type": "display_data"
    },
    {
     "data": {
      "text/plain": [
       "(9,11)"
      ]
     },
     "metadata": {},
     "output_type": "display_data"
    },
    {
     "data": {
      "text/plain": [
       "(9,12)"
      ]
     },
     "metadata": {},
     "output_type": "display_data"
    },
    {
     "data": {
      "text/plain": [
       "(10,11)"
      ]
     },
     "metadata": {},
     "output_type": "display_data"
    },
    {
     "data": {
      "text/plain": [
       "(10,12)"
      ]
     },
     "metadata": {},
     "output_type": "display_data"
    },
    {
     "data": {
      "text/plain": [
       "(11,13)"
      ]
     },
     "metadata": {},
     "output_type": "display_data"
    },
    {
     "data": {
      "text/plain": [
       "(11,14)"
      ]
     },
     "metadata": {},
     "output_type": "display_data"
    },
    {
     "data": {
      "text/plain": [
       "(12,13)"
      ]
     },
     "metadata": {},
     "output_type": "display_data"
    },
    {
     "data": {
      "text/plain": [
       "(12,23)"
      ]
     },
     "metadata": {},
     "output_type": "display_data"
    },
    {
     "data": {
      "text/plain": [
       "(13,23)"
      ]
     },
     "metadata": {},
     "output_type": "display_data"
    },
    {
     "data": {
      "text/plain": [
       "(13,39)"
      ]
     },
     "metadata": {},
     "output_type": "display_data"
    },
    {
     "data": {
      "text/plain": [
       "(14,16)"
      ]
     },
     "metadata": {},
     "output_type": "display_data"
    },
    {
     "data": {
      "text/plain": [
       "(15,16)"
      ]
     },
     "metadata": {},
     "output_type": "display_data"
    },
    {
     "data": {
      "text/plain": [
       "(15,21)"
      ]
     },
     "metadata": {},
     "output_type": "display_data"
    },
    {
     "data": {
      "text/plain": [
       "(15,21)"
      ]
     },
     "metadata": {},
     "output_type": "display_data"
    },
    {
     "data": {
      "text/plain": [
       "(15,24)"
      ]
     },
     "metadata": {},
     "output_type": "display_data"
    },
    {
     "data": {
      "text/plain": [
       "(16,17)"
      ]
     },
     "metadata": {},
     "output_type": "display_data"
    },
    {
     "data": {
      "text/plain": [
       "(16,19)"
      ]
     },
     "metadata": {},
     "output_type": "display_data"
    },
    {
     "data": {
      "text/plain": [
       "(17,18)"
      ]
     },
     "metadata": {},
     "output_type": "display_data"
    },
    {
     "data": {
      "text/plain": [
       "(17,22)"
      ]
     },
     "metadata": {},
     "output_type": "display_data"
    },
    {
     "data": {
      "text/plain": [
       "(18,21)"
      ]
     },
     "metadata": {},
     "output_type": "display_data"
    },
    {
     "data": {
      "text/plain": [
       "(18,21)"
      ]
     },
     "metadata": {},
     "output_type": "display_data"
    },
    {
     "data": {
      "text/plain": [
       "(19,20)"
      ]
     },
     "metadata": {},
     "output_type": "display_data"
    },
    {
     "data": {
      "text/plain": [
       "(19,20)"
      ]
     },
     "metadata": {},
     "output_type": "display_data"
    },
    {
     "data": {
      "text/plain": [
       "(20,23)"
      ]
     },
     "metadata": {},
     "output_type": "display_data"
    },
    {
     "data": {
      "text/plain": [
       "(20,23)"
      ]
     },
     "metadata": {},
     "output_type": "display_data"
    },
    {
     "data": {
      "text/plain": [
       "(21,22)"
      ]
     },
     "metadata": {},
     "output_type": "display_data"
    },
    {
     "data": {
      "text/plain": [
       "(23,41)"
      ]
     },
     "metadata": {},
     "output_type": "display_data"
    },
    {
     "data": {
      "text/plain": [
       "(25,26)"
      ]
     },
     "metadata": {},
     "output_type": "display_data"
    },
    {
     "data": {
      "text/plain": [
       "(25,27)"
      ]
     },
     "metadata": {},
     "output_type": "display_data"
    },
    {
     "data": {
      "text/plain": [
       "(25,29)"
      ]
     },
     "metadata": {},
     "output_type": "display_data"
    },
    {
     "data": {
      "text/plain": [
       "(26,28)"
      ]
     },
     "metadata": {},
     "output_type": "display_data"
    },
    {
     "data": {
      "text/plain": [
       "(26,30)"
      ]
     },
     "metadata": {},
     "output_type": "display_data"
    },
    {
     "data": {
      "text/plain": [
       "(27,33)"
      ]
     },
     "metadata": {},
     "output_type": "display_data"
    },
    {
     "data": {
      "text/plain": [
       "(27,48)"
      ]
     },
     "metadata": {},
     "output_type": "display_data"
    },
    {
     "data": {
      "text/plain": [
       "(28,33)"
      ]
     },
     "metadata": {},
     "output_type": "display_data"
    },
    {
     "data": {
      "text/plain": [
       "(29,34)"
      ]
     },
     "metadata": {},
     "output_type": "display_data"
    },
    {
     "data": {
      "text/plain": [
       "(30,34)"
      ]
     },
     "metadata": {},
     "output_type": "display_data"
    },
    {
     "data": {
      "text/plain": [
       "(31,32)"
      ]
     },
     "metadata": {},
     "output_type": "display_data"
    },
    {
     "data": {
      "text/plain": [
       "(32,33)"
      ]
     },
     "metadata": {},
     "output_type": "display_data"
    },
    {
     "data": {
      "text/plain": [
       "(32,34)"
      ]
     },
     "metadata": {},
     "output_type": "display_data"
    },
    {
     "data": {
      "text/plain": [
       "(33,35)"
      ]
     },
     "metadata": {},
     "output_type": "display_data"
    },
    {
     "data": {
      "text/plain": [
       "(33,36)"
      ]
     },
     "metadata": {},
     "output_type": "display_data"
    },
    {
     "data": {
      "text/plain": [
       "(34,35)"
      ]
     },
     "metadata": {},
     "output_type": "display_data"
    },
    {
     "data": {
      "text/plain": [
       "(34,36)"
      ]
     },
     "metadata": {},
     "output_type": "display_data"
    },
    {
     "data": {
      "text/plain": [
       "(35,37)"
      ]
     },
     "metadata": {},
     "output_type": "display_data"
    },
    {
     "data": {
      "text/plain": [
       "(35,38)"
      ]
     },
     "metadata": {},
     "output_type": "display_data"
    },
    {
     "data": {
      "text/plain": [
       "(36,37)"
      ]
     },
     "metadata": {},
     "output_type": "display_data"
    },
    {
     "data": {
      "text/plain": [
       "(36,47)"
      ]
     },
     "metadata": {},
     "output_type": "display_data"
    },
    {
     "data": {
      "text/plain": [
       "(37,47)"
      ]
     },
     "metadata": {},
     "output_type": "display_data"
    },
    {
     "data": {
      "text/plain": [
       "(38,40)"
      ]
     },
     "metadata": {},
     "output_type": "display_data"
    },
    {
     "data": {
      "text/plain": [
       "(39,40)"
      ]
     },
     "metadata": {},
     "output_type": "display_data"
    },
    {
     "data": {
      "text/plain": [
       "(39,45)"
      ]
     },
     "metadata": {},
     "output_type": "display_data"
    },
    {
     "data": {
      "text/plain": [
       "(39,45)"
      ]
     },
     "metadata": {},
     "output_type": "display_data"
    },
    {
     "data": {
      "text/plain": [
       "(39,48)"
      ]
     },
     "metadata": {},
     "output_type": "display_data"
    },
    {
     "data": {
      "text/plain": [
       "(40,41)"
      ]
     },
     "metadata": {},
     "output_type": "display_data"
    },
    {
     "data": {
      "text/plain": [
       "(40,43)"
      ]
     },
     "metadata": {},
     "output_type": "display_data"
    },
    {
     "data": {
      "text/plain": [
       "(41,42)"
      ]
     },
     "metadata": {},
     "output_type": "display_data"
    },
    {
     "data": {
      "text/plain": [
       "(41,46)"
      ]
     },
     "metadata": {},
     "output_type": "display_data"
    },
    {
     "data": {
      "text/plain": [
       "(42,45)"
      ]
     },
     "metadata": {},
     "output_type": "display_data"
    },
    {
     "data": {
      "text/plain": [
       "(42,45)"
      ]
     },
     "metadata": {},
     "output_type": "display_data"
    },
    {
     "data": {
      "text/plain": [
       "(43,44)"
      ]
     },
     "metadata": {},
     "output_type": "display_data"
    },
    {
     "data": {
      "text/plain": [
       "(43,44)"
      ]
     },
     "metadata": {},
     "output_type": "display_data"
    },
    {
     "data": {
      "text/plain": [
       "(44,47)"
      ]
     },
     "metadata": {},
     "output_type": "display_data"
    },
    {
     "data": {
      "text/plain": [
       "(44,47)"
      ]
     },
     "metadata": {},
     "output_type": "display_data"
    },
    {
     "data": {
      "text/plain": [
       "(45,46)"
      ]
     },
     "metadata": {},
     "output_type": "display_data"
    },
    {
     "data": {
      "text/plain": [
       "(49,50)"
      ]
     },
     "metadata": {},
     "output_type": "display_data"
    },
    {
     "data": {
      "text/plain": [
       "(49,51)"
      ]
     },
     "metadata": {},
     "output_type": "display_data"
    },
    {
     "data": {
      "text/plain": [
       "(49,53)"
      ]
     },
     "metadata": {},
     "output_type": "display_data"
    },
    {
     "data": {
      "text/plain": [
       "(50,52)"
      ]
     },
     "metadata": {},
     "output_type": "display_data"
    },
    {
     "data": {
      "text/plain": [
       "(50,54)"
      ]
     },
     "metadata": {},
     "output_type": "display_data"
    },
    {
     "data": {
      "text/plain": [
       "(51,57)"
      ]
     },
     "metadata": {},
     "output_type": "display_data"
    },
    {
     "data": {
      "text/plain": [
       "(51,72)"
      ]
     },
     "metadata": {},
     "output_type": "display_data"
    },
    {
     "data": {
      "text/plain": [
       "(52,57)"
      ]
     },
     "metadata": {},
     "output_type": "display_data"
    },
    {
     "data": {
      "text/plain": [
       "(53,58)"
      ]
     },
     "metadata": {},
     "output_type": "display_data"
    },
    {
     "data": {
      "text/plain": [
       "(54,58)"
      ]
     },
     "metadata": {},
     "output_type": "display_data"
    },
    {
     "data": {
      "text/plain": [
       "(55,56)"
      ]
     },
     "metadata": {},
     "output_type": "display_data"
    },
    {
     "data": {
      "text/plain": [
       "(56,57)"
      ]
     },
     "metadata": {},
     "output_type": "display_data"
    },
    {
     "data": {
      "text/plain": [
       "(56,58)"
      ]
     },
     "metadata": {},
     "output_type": "display_data"
    },
    {
     "data": {
      "text/plain": [
       "(57,59)"
      ]
     },
     "metadata": {},
     "output_type": "display_data"
    },
    {
     "data": {
      "text/plain": [
       "(57,60)"
      ]
     },
     "metadata": {},
     "output_type": "display_data"
    },
    {
     "data": {
      "text/plain": [
       "(58,59)"
      ]
     },
     "metadata": {},
     "output_type": "display_data"
    },
    {
     "data": {
      "text/plain": [
       "(58,60)"
      ]
     },
     "metadata": {},
     "output_type": "display_data"
    },
    {
     "data": {
      "text/plain": [
       "(59,61)"
      ]
     },
     "metadata": {},
     "output_type": "display_data"
    },
    {
     "data": {
      "text/plain": [
       "(59,62)"
      ]
     },
     "metadata": {},
     "output_type": "display_data"
    },
    {
     "data": {
      "text/plain": [
       "(60,61)"
      ]
     },
     "metadata": {},
     "output_type": "display_data"
    },
    {
     "data": {
      "text/plain": [
       "(60,71)"
      ]
     },
     "metadata": {},
     "output_type": "display_data"
    },
    {
     "data": {
      "text/plain": [
       "(61,71)"
      ]
     },
     "metadata": {},
     "output_type": "display_data"
    },
    {
     "data": {
      "text/plain": [
       "(62,64)"
      ]
     },
     "metadata": {},
     "output_type": "display_data"
    },
    {
     "data": {
      "text/plain": [
       "(63,64)"
      ]
     },
     "metadata": {},
     "output_type": "display_data"
    },
    {
     "data": {
      "text/plain": [
       "(63,69)"
      ]
     },
     "metadata": {},
     "output_type": "display_data"
    },
    {
     "data": {
      "text/plain": [
       "(63,69)"
      ]
     },
     "metadata": {},
     "output_type": "display_data"
    },
    {
     "data": {
      "text/plain": [
       "(63,72)"
      ]
     },
     "metadata": {},
     "output_type": "display_data"
    },
    {
     "data": {
      "text/plain": [
       "(64,65)"
      ]
     },
     "metadata": {},
     "output_type": "display_data"
    },
    {
     "data": {
      "text/plain": [
       "(64,67)"
      ]
     },
     "metadata": {},
     "output_type": "display_data"
    },
    {
     "data": {
      "text/plain": [
       "(65,66)"
      ]
     },
     "metadata": {},
     "output_type": "display_data"
    },
    {
     "data": {
      "text/plain": [
       "(65,70)"
      ]
     },
     "metadata": {},
     "output_type": "display_data"
    },
    {
     "data": {
      "text/plain": [
       "(66,69)"
      ]
     },
     "metadata": {},
     "output_type": "display_data"
    },
    {
     "data": {
      "text/plain": [
       "(66,69)"
      ]
     },
     "metadata": {},
     "output_type": "display_data"
    },
    {
     "data": {
      "text/plain": [
       "(67,68)"
      ]
     },
     "metadata": {},
     "output_type": "display_data"
    },
    {
     "data": {
      "text/plain": [
       "(67,68)"
      ]
     },
     "metadata": {},
     "output_type": "display_data"
    },
    {
     "data": {
      "text/plain": [
       "(68,71)"
      ]
     },
     "metadata": {},
     "output_type": "display_data"
    },
    {
     "data": {
      "text/plain": [
       "(68,71)"
      ]
     },
     "metadata": {},
     "output_type": "display_data"
    },
    {
     "data": {
      "text/plain": [
       "(69,70)"
      ]
     },
     "metadata": {},
     "output_type": "display_data"
    },
    {
     "data": {
      "text/plain": [
       "(73,21)"
      ]
     },
     "metadata": {},
     "output_type": "display_data"
    },
    {
     "data": {
      "text/plain": [
       "(66,47)"
      ]
     },
     "metadata": {},
     "output_type": "display_data"
    },
    {
     "data": {
      "text/plain": [
       "(71,73)"
      ]
     },
     "metadata": {},
     "output_type": "display_data"
    }
   ],
   "source": [
    "# Changing\n",
    "for line in lines\n",
    "    display(line)\n",
    "end"
   ]
  },
  {
   "cell_type": "code",
   "execution_count": 4,
   "metadata": {
    "collapsed": true
   },
   "outputs": [
    {
     "data": {
      "text/plain": [
       "((\n",
       "92x92 Array{Float64,2}:\n",
       " -8.70837e-16   0.0          …  0.0  0.0  0.0  0.0  0.0  0.0  0.0\n",
       "  0.0          -7.19322e-16     0.0  0.0  0.0  0.0  0.0  0.0  0.0\n",
       "  0.0           0.0             0.0  0.0  0.0  0.0  0.0  0.0  0.0\n",
       "  0.0           0.0             0.0  0.0  0.0  0.0  0.0  0.0  0.0\n",
       "  0.0           0.0             0.0  0.0  0.0  0.0  0.0  0.0  0.0\n",
       "  0.0           0.0          …  0.0  0.0  0.0  0.0  0.0  0.0  0.0\n",
       "  0.0           0.0             0.0  0.0  0.0  0.0  0.0  0.0  0.0\n",
       "  0.0           0.0             0.0  0.0  0.0  0.0  0.0  0.0  0.0\n",
       "  0.0           0.0             0.0  0.0  0.0  0.0  0.0  0.0  0.0\n",
       "  0.0           0.0             0.0  0.0  0.0  0.0  0.0  0.0  0.0\n",
       "  0.0           0.0          …  0.0  0.0  0.0  0.0  0.0  0.0  0.0\n",
       "  0.0           0.0             0.0  0.0  0.0  0.0  0.0  0.0  0.0\n",
       "  0.0           0.0             0.0  0.0  0.0  0.0  0.0  0.0  0.0\n",
       "  ⋮                          ⋱  ⋮                        ⋮       \n",
       "  0.0           0.0          …  0.0  0.0  0.0  0.0  0.0  0.0  0.0\n",
       "  0.0           0.0             0.0  0.0  0.0  0.0  0.0  0.0  0.0\n",
       "  0.0           0.0             0.0  0.0  0.0  0.0  0.0  0.0  0.0\n",
       "  0.0           0.0             0.0  0.0  0.0  0.0  0.0  0.0  0.0\n",
       "  0.0           0.0             0.0  0.0  0.0  0.0  0.0  0.0  0.0\n",
       "  0.0           0.0          …  1.0  0.0  0.0  0.0  0.0  0.0  0.0\n",
       "  0.0           0.0             0.0  1.0  0.0  0.0  0.0  0.0  0.0\n",
       "  0.0           0.0             0.0  0.0  1.0  0.0  0.0  0.0  0.0\n",
       "  0.0           0.0             0.0  0.0  0.0  1.0  0.0  0.0  0.0\n",
       "  0.0           0.0             0.0  0.0  0.0  0.0  1.0  0.0  0.0\n",
       "  0.0           0.0          …  0.0  0.0  0.0  0.0  0.0  1.0  0.0\n",
       "  0.0           0.0             0.0  0.0  0.0  0.0  0.0  0.0  1.0,\n",
       "\n",
       "92x1 Array{FloatingPoint,2}:\n",
       "  4.12701e-16\n",
       "  2.91595e-16\n",
       " -3.2398e-17 \n",
       "  2.458e-16  \n",
       "  2.05536e-17\n",
       "  3.70961e-16\n",
       " -3.40151e-16\n",
       " -9.68055e-17\n",
       "  4.93305e-16\n",
       "  2.86992e-16\n",
       " -3.67734e-16\n",
       " -2.06303e-16\n",
       "  6.64849e-16\n",
       "  ⋮          \n",
       "  0.911159   \n",
       "  0.0382756  \n",
       "  0.102495   \n",
       " -1.16225    \n",
       " -0.248275   \n",
       "  0.151877   \n",
       " -1.87223    \n",
       "  0.174777   \n",
       "  0.348919   \n",
       "  0.52695    \n",
       "  0.105632   \n",
       "  0.133236   ,\n",
       "\n",
       "1.6643881469598787),(\n",
       "92x92 sparse matrix with 1 Float64 entries:\n",
       "\t[92, 92]  =  1.0,\n",
       "\n",
       "92x1 Array{FloatingPoint,2}:\n",
       "  0.0     \n",
       "  0.0     \n",
       "  0.0     \n",
       "  0.0     \n",
       "  0.0     \n",
       "  0.0     \n",
       "  0.0     \n",
       "  0.0     \n",
       "  0.0     \n",
       "  0.0     \n",
       "  0.0     \n",
       "  0.0     \n",
       "  0.0     \n",
       "  ⋮       \n",
       "  0.0     \n",
       "  0.0     \n",
       "  0.0     \n",
       "  0.0     \n",
       "  0.0     \n",
       "  0.0     \n",
       "  0.0     \n",
       "  0.0     \n",
       "  0.0     \n",
       "  0.0     \n",
       "  0.0     \n",
       " -0.282214,\n",
       "\n",
       "-9.980088785865721),FloatingPoint[0.19231153672729023,-0.2416841507632298,-0.30656568134991635,-0.3320018387762303,-0.3380320365501044,-0.2988100680899511,-0.28680629226949567,-0.3390615991539105,-0.27717098445443467,-0.20760762774026187  …  0.28100519803806007,0.21475974344352083,0.24113626414021722,0.29319549795810534,0.36424737016597836,0.2648492171417004,0.12185845901709261,0.272635779307265,-33.43847123363939,-0.14110710164367518],\n",
       "92x92 Array{Float64,2}:\n",
       " -0.0957384     0.0184564     0.070486     …   0.583793      0.000241368\n",
       "  0.20448       0.31265       0.188132         0.18289      -4.5215e-5  \n",
       " -0.12139      -0.157361     -0.160259         0.139379     -7.13513e-5 \n",
       " -0.26807       0.052483     -0.0241473        0.122975     -7.84728e-5 \n",
       "  0.126307     -0.0182205     0.112351         0.116935     -8.17133e-5 \n",
       " -0.182774     -0.20393      -0.371554     …   0.140014     -7.90729e-5 \n",
       " -0.406733     -0.461426      0.552933         0.14255      -8.60648e-5 \n",
       "  0.108776     -0.164891     -0.584468         0.112632     -8.46231e-5 \n",
       "  0.636794     -0.303297      0.0299379        0.145013     -9.01407e-5 \n",
       " -0.388366      0.404606     -0.226781         0.015408     -0.000211283\n",
       " -0.0105389     0.237541      0.108151     …   0.0196974    -0.000278536\n",
       "  0.02958       0.254898      0.0971133        0.0216985    -0.000285098\n",
       "  0.238687      0.282762      0.127894         0.048206     -0.000278408\n",
       "  ⋮                                        ⋱   ⋮                        \n",
       "  0.0069999     0.0015724    -0.00645636   …   0.0804498     0.000102887\n",
       "  0.0075171     0.00507331   -0.00526023       0.0813144     8.65932e-5 \n",
       "  0.00779226    0.00693347   -0.00463151       0.0817836     7.79279e-5 \n",
       "  0.0065607    -0.00129608   -0.00820234       0.0811059     0.000107249\n",
       "  0.00617879   -0.00379042   -0.00972058       0.0816765     0.000111042\n",
       "  0.00755839    0.00538154   -0.00507047   …   0.08127       8.52523e-5 \n",
       "  0.00754216    0.00526038   -0.00514506       0.0812875     8.57793e-5 \n",
       "  0.00596874   -0.0051623    -0.0105556        0.0819903     0.000113129\n",
       "  0.00657854   -0.000776009  -0.00577884       0.0777574     0.000115459\n",
       "  0.00578426   -0.00616064   -0.0117699        0.083397      0.000104598\n",
       "  2.77556e-17   6.93889e-18  -1.38778e-17  …  -1.11022e-16   0.0        \n",
       "  0.000878664   0.00264846    0.00301952       0.0          -0.99986    ,\n",
       "\n",
       "92x92 Array{Float64,2}:\n",
       " -0.106521   -0.0591993   -0.0563703   …  -1.30105e-16   2.00946e-6 \n",
       "  0.1114      0.04844      0.0417798      -4.61869e-17   7.85366e-9 \n",
       "  0.0431847   0.00982909   0.00986181     -3.14935e-16  -1.54194e-7 \n",
       " -0.129263   -0.0328041   -0.0253044      -4.01468e-17  -7.39577e-6 \n",
       " -0.0413313  -0.0192575   -0.0176648      -1.66533e-16   0.0        \n",
       " -0.153438   -0.103614    -0.0910758   …   4.45175e-17   2.73968e-5 \n",
       "  0.083672    0.048425     0.0454447       1.87347e-16   0.00013066 \n",
       " -0.0148667  -0.0182438   -0.016877       -1.45717e-16   0.0        \n",
       " -0.106918   -0.0578794   -0.0543483      -2.10769e-16  -0.00447047 \n",
       " -0.0360701   0.0207043    0.0348813       3.14554e-17   0.00619341 \n",
       "  0.081538    0.0537381    0.0591552   …  -2.23752e-17   0.00717793 \n",
       " -0.0525317  -0.0322908   -0.0328364      -5.55112e-17   0.0        \n",
       " -0.0283335  -0.0130708   -0.009191       -6.93889e-18   0.0        \n",
       "  ⋮                                    ⋱   ⋮                        \n",
       " -0.101756    0.28111     -0.104377    …   0.131812      0.00585326 \n",
       "  0.0409353  -0.0758236   -0.224413       -0.0198374     2.27157e-6 \n",
       "  0.334361    0.0706771    0.11827         0.158066      0.00135364 \n",
       "  0.1823      0.0790079   -0.51083         0.20474       0.000205003\n",
       "  0.025061   -0.115129     0.0332856      -0.0636353     0.0156121  \n",
       "  0.0122777  -0.346785     0.323437    …   0.284837     -1.18724e-6 \n",
       " -0.0259431   0.25465     -0.0766766       0.175077     -6.35311e-15\n",
       "  0.0465832  -0.468841    -0.376805        0.179584      1.75081e-15\n",
       "  0.209832   -0.237152     0.113033       -0.0783496    -5.63675e-14\n",
       " -0.0360551   0.0559255   -0.247803       -0.366446      2.83225e-5 \n",
       "  0.170289    0.186065    -0.0255084   …  -0.530056      9.08905e-9 \n",
       "  0.25901     0.0413085    0.164096        0.138714     -0.000167456)"
      ]
     },
     "execution_count": 4,
     "metadata": {},
     "output_type": "execute_result"
    }
   ],
   "source": [
    "# Create instance of instanton problem:\n",
    "Qobj,A,b,Qtheta = temporalInstanton(Ridx,Y,slack,k,tau,line,G0,P0,D)\n",
    "\n",
    "G_of_x = (Qobj,0,kQobj)\n",
    "Q_of_x = (Qtheta,0,kQtheta)\n",
    "\n",
    "# Translate and rotate twice:\n",
    "K_of_w,R_of_x,x_star,Rkernel,Reigvec = tr_trans_rotate(G_of_x,Q_of_x,A,b)"
   ]
  },
  {
   "cell_type": "code",
   "execution_count": 9,
   "metadata": {
    "collapsed": false
   },
   "outputs": [
    {
     "data": {
      "text/plain": [
       "90-element Array{Float64,1}:\n",
       " -8.70837e-16\n",
       " -7.19322e-16\n",
       " -6.32302e-16\n",
       " -4.82852e-16\n",
       " -4.7215e-16 \n",
       " -3.94211e-16\n",
       " -3.40551e-16\n",
       " -3.37693e-16\n",
       " -2.42964e-16\n",
       " -2.03843e-16\n",
       " -1.36826e-16\n",
       " -1.10155e-16\n",
       " -1.00614e-16\n",
       "  ⋮          \n",
       "  1.0        \n",
       "  1.0        \n",
       "  1.0        \n",
       "  1.0        \n",
       "  1.0        \n",
       "  1.0        \n",
       "  1.0        \n",
       "  1.0        \n",
       "  1.0        \n",
       "  1.0        \n",
       "  1.0        \n",
       "  1.0        "
      ]
     },
     "execution_count": 9,
     "metadata": {},
     "output_type": "execute_result"
    }
   ],
   "source": [
    "sort(unique(diag(K_of_w[1])))"
   ]
  },
  {
   "cell_type": "code",
   "execution_count": 13,
   "metadata": {
    "collapsed": false
   },
   "outputs": [
    {
     "name": "stderr",
     "output_type": "stream",
     "text": [
      "INFO: Loading help data...\n"
     ]
    }
   ],
   "source": [
    "using PyPlot"
   ]
  },
  {
   "cell_type": "code",
   "execution_count": 14,
   "metadata": {
    "collapsed": false
   },
   "outputs": [
    {
     "data": {
      "image/png": "[encoded data removed]",
      "text/plain": [
       "Figure(PyObject <matplotlib.figure.Figure object at 0x7f83dc96e090>)"
      ]
     },
     "metadata": {},
     "output_type": "display_data"
    },
    {
     "data": {
      "text/plain": [
       "1-element Array{Any,1}:\n",
       " PyObject <matplotlib.lines.Line2D object at 0x7f83dc8fbd50>"
      ]
     },
     "execution_count": 14,
     "metadata": {},
     "output_type": "execute_result"
    }
   ],
   "source": [
    "plot(diag(K_of_w[1]K_of_w"
   ]
  }
 ],
 "metadata": {
  "kernelspec": {
   "display_name": "Julia",
   "language": "julia",
   "name": "julia"
  },
  "language_info": {
   "name": "julia",
   "version": "0.3.6"
  }
 },
 "nbformat": 4,
 "nbformat_minor": 0
}
