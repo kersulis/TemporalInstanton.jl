{
 "cells": [
  {
   "cell_type": "markdown",
   "metadata": {},
   "source": [
    "# RTS-96 Results\n",
    "\n",
    "It's time to convert the MATLAB code I wrote to pull RTS-96 data out of Jenny's Excel spreadsheets into Julia code.\n",
    "\n",
    "I actually don't think I have enough time for this right now. Perhaps for the upcoming journal article.\n",
    "\n",
    "___\n",
    "Okay, I changed my mind. It's more important now to connect various parts of existing RTS-96 data to the temporal instanton solver."
   ]
  },
  {
   "cell_type": "code",
   "execution_count": 1,
   "metadata": {
    "collapsed": true
   },
   "outputs": [],
   "source": [
    "include(\"../src/tmp_inst_rts96.jl\")\n",
    "\n",
    "psData = psDataLoad()\n",
    "\n",
    "# unpack psDL (boilerplate):\n",
    "(Sb,f,t,r,x,b,Y,bustype,\n",
    "Gp,Gq,Dp,Dq,Rp,Rq,\n",
    "Pmax,Pmin,Qmax,Qmin,Plim,\n",
    "Vg,Vceiling,Vfloor,\n",
    "busIdx,N,Nr,Ng,k) = unpack_psDL(psData)\n",
    "\n",
    "# Get instanton code into workspace:\n",
    "include(\"../src/TemporalInstanton.jl\")\n",
    "include(\"../src/TrustRegionSubproblem.jl\")\n",
    "\n",
    "using TemporalInstanton, TrustRegionSubproblem"
   ]
  },
  {
   "cell_type": "code",
   "execution_count": 2,
   "metadata": {
    "collapsed": false
   },
   "outputs": [
    {
     "data": {
      "text/html": [
       "<script charset=\"utf-8\">(function ($, undefined) {\n",
       "\n",
       "    function createElem(tag, attr, content) {\n",
       "\t// TODO: remove jQuery dependency\n",
       "\tvar el = $(\"<\" + tag + \"/>\").attr(attr);\n",
       "\tif (content) {\n",
       "\t    el.append(content);\n",
       "\t}\n",
       "\treturn el[0];\n",
       "    }\n",
       "\n",
       "    // A widget must expose an id field which identifies it to the backend,\n",
       "    // an elem attribute which is will be added to the DOM, and\n",
       "    // a getState() method which returns the value to be sent to the backend\n",
       "    // a sendUpdate() method which sends its current value to the backend\n",
       "    var Widget = {\n",
       "\tid: undefined,\n",
       "\telem: undefined,\n",
       "\tlabel: undefined,\n",
       "\tgetState: function () {\n",
       "\t    return this.elem.value;\n",
       "\t},\n",
       "\tsendUpdate: undefined\n",
       "    };\n",
       "\n",
       "    var Slider = function (typ, id, init) {\n",
       "\tvar attr = { type:  \"range\",\n",
       "\t\t     value: init.value,\n",
       "\t\t     min:   init.min,\n",
       "\t\t     max:   init.max,\n",
       "\t\t     step:  init.step },\n",
       "\t    elem = createElem(\"input\", attr),\n",
       "\t    self = this;\n",
       "\n",
       "\telem.onchange = function () {\n",
       "\t    self.sendUpdate();\n",
       "\t}\n",
       "\n",
       "\tthis.id = id;\n",
       "\tthis.elem = elem;\n",
       "\tthis.label = init.label;\n",
       "\n",
       "\tInputWidgets.commInitializer(this); // Initialize communication\n",
       "    }\n",
       "    Slider.prototype = Widget;\n",
       "\n",
       "    var Checkbox = function (typ, id, init) {\n",
       "\tvar attr = { type: \"checkbox\",\n",
       "\t\t     checked: init.value },\n",
       "\t    elem = createElem(\"input\", attr),\n",
       "\t    self = this;\n",
       "\n",
       "\tthis.getState = function () {\n",
       "\t    return elem.checked;\n",
       "\t}\n",
       "\telem.onchange = function () {\n",
       "\t    self.sendUpdate();\n",
       "\t}\n",
       "\n",
       "\tthis.id = id;\n",
       "\tthis.elem = elem;\n",
       "\tthis.label = init.label;\n",
       "\n",
       "\tInputWidgets.commInitializer(this);\n",
       "    }\n",
       "    Checkbox.prototype = Widget;\n",
       "\n",
       "    var Button = function (typ, id, init) {\n",
       "\tvar attr = { type:    \"button\",\n",
       "\t\t     value:   init.label },\n",
       "\t    elem = createElem(\"input\", attr),\n",
       "\t    self = this;\n",
       "\tthis.getState = function () {\n",
       "\t    return null;\n",
       "\t}\n",
       "\telem.onclick = function () {\n",
       "\t    self.sendUpdate();\n",
       "\t}\n",
       "\n",
       "\tthis.id = id;\n",
       "\tthis.elem = elem;\n",
       "\tthis.label = init.label;\n",
       "\n",
       "\tInputWidgets.commInitializer(this);\n",
       "    }\n",
       "    Button.prototype = Widget;\n",
       "\n",
       "    var Text = function (typ, id, init) {\n",
       "\tvar attr = { type:  \"text\",\n",
       "\t\t     placeholder: init.label,\n",
       "\t\t     value: init.value },\n",
       "\t    elem = createElem(\"input\", attr),\n",
       "\t    self = this;\n",
       "\tthis.getState = function () {\n",
       "\t    return elem.value;\n",
       "\t}\n",
       "\telem.onkeyup = function () {\n",
       "\t    self.sendUpdate();\n",
       "\t}\n",
       "\n",
       "\tthis.id = id;\n",
       "\tthis.elem = elem;\n",
       "\tthis.label = init.label;\n",
       "\n",
       "\tInputWidgets.commInitializer(this);\n",
       "    }\n",
       "    Text.prototype = Widget;\n",
       "\n",
       "    var Textarea = function (typ, id, init) {\n",
       "\tvar attr = { placeholder: init.label },\n",
       "\t    elem = createElem(\"textarea\", attr, init.value),\n",
       "\t    self = this;\n",
       "\tthis.getState = function () {\n",
       "\t    return elem.value;\n",
       "\t}\n",
       "\telem.onchange = function () {\n",
       "\t    self.sendUpdate();\n",
       "\t}\n",
       "\n",
       "\tthis.id = id;\n",
       "\tthis.elem = elem;\n",
       "\tthis.label = init.label;\n",
       "\n",
       "\tInputWidgets.commInitializer(this);\n",
       "    }\n",
       "    Textarea.prototype = Widget;\n",
       "\n",
       "    // RadioButtons\n",
       "    // Dropdown\n",
       "    // HTML\n",
       "    // Latex\n",
       "\n",
       "    var InputWidgets = {\n",
       "\tSlider: Slider,\n",
       "\tCheckbox: Checkbox,\n",
       "\tButton: Button,\n",
       "\tText: Text,\n",
       "\tTextarea: Textarea,\n",
       "\tdebug: false,\n",
       "\tlog: function () {\n",
       "\t    if (InputWidgets.debug) {\n",
       "\t\tconsole.log.apply(console, arguments);\n",
       "\t    }\n",
       "\t},\n",
       "\t// a central way to initalize communication\n",
       "\t// for widgets.\n",
       "\tcommInitializer: function (widget) {\n",
       "\t    widget.sendUpdate = function () {};\n",
       "\t}\n",
       "    };\n",
       "\n",
       "    window.InputWidgets = InputWidgets;\n",
       "\n",
       "})(jQuery, undefined);\n",
       "</script>"
      ]
     },
     "metadata": {},
     "output_type": "display_data"
    },
    {
     "data": {
      "text/html": [
       "<script charset=\"utf-8\">(function (IPython, $, _, MathJax, Widgets) {\n",
       "    $.event.special.destroyed = {\n",
       "\tremove: function(o) {\n",
       "\t    if (o.handler) {\n",
       "\t\to.handler.apply(this, arguments)\n",
       "\t    }\n",
       "\t}\n",
       "    }\n",
       "\n",
       "    var redrawValue = function (container, type, val) {\n",
       "\tvar selector = $(\"<div/>\");\n",
       "\tvar oa = new IPython.OutputArea(_.extend(selector, {\n",
       "\t    selector: selector,\n",
       "\t    prompt_area: true,\n",
       "\t    events: IPython.events,\n",
       "\t    keyboard_manager: IPython.keyboard_manager\n",
       "\t})); // Hack to work with IPython 2.1.0\n",
       "\n",
       "\tswitch (type) {\n",
       "\tcase \"image/png\":\n",
       "            var _src = 'data:' + type + ';base64,' + val;\n",
       "\t    $(container).find(\"img\").attr('src', _src);\n",
       "\t    break;\n",
       "\tdefault:\n",
       "\t    var toinsert = IPython.OutputArea.append_map[type].apply(\n",
       "\t\toa, [val, {}, selector]\n",
       "\t    );\n",
       "\t    $(container).empty().append(toinsert.contents());\n",
       "\t    selector.remove();\n",
       "\t}\n",
       "\tif (type === \"text/latex\" && MathJax) {\n",
       "\t    MathJax.Hub.Queue([\"Typeset\", MathJax.Hub, toinsert.get(0)]);\n",
       "\t}\n",
       "    }\n",
       "\n",
       "\n",
       "    $(document).ready(function() {\n",
       "\tWidgets.debug = false; // log messages etc in console.\n",
       "\tfunction initComm(evt, data) {\n",
       "\t    var comm_manager = data.kernel.comm_manager;\n",
       "        //_.extend(comm_manager.targets, require(\"widgets/js/widget\"))\n",
       "\t    comm_manager.register_target(\"Signal\", function (comm) {\n",
       "            comm.on_msg(function (msg) {\n",
       "                //Widgets.log(\"message received\", msg);\n",
       "                var val = msg.content.data.value;\n",
       "                $(\".signal-\" + comm.comm_id).each(function() {\n",
       "                var type = $(this).data(\"type\");\n",
       "                if (val[type]) {\n",
       "                    redrawValue(this, type, val[type], type);\n",
       "                }\n",
       "                });\n",
       "                delete val;\n",
       "                delete msg.content.data.value;\n",
       "            });\n",
       "\t    });\n",
       "\n",
       "\t    // coordingate with Comm and redraw Signals\n",
       "\t    // XXX: Test using Reactive here to improve performance\n",
       "\t    $([IPython.events]).on(\n",
       "\t\t'output_appended.OutputArea', function (event, type, value, md, toinsert) {\n",
       "\t\t    if (md && md.reactive) {\n",
       "                // console.log(md.comm_id);\n",
       "                toinsert.addClass(\"signal-\" + md.comm_id);\n",
       "                toinsert.data(\"type\", type);\n",
       "                // Signal back indicating the mimetype required\n",
       "                var comm_manager = IPython.notebook.kernel.comm_manager;\n",
       "                var comm = comm_manager.comms[md.comm_id];\n",
       "                comm.then(function (c) {\n",
       "                    c.send({action: \"subscribe_mime\",\n",
       "                       mime: type});\n",
       "                    toinsert.bind(\"destroyed\", function() {\n",
       "                        c.send({action: \"unsubscribe_mime\",\n",
       "                               mime: type});\n",
       "                    });\n",
       "                })\n",
       "\t\t    }\n",
       "\t    });\n",
       "\t}\n",
       "\n",
       "\ttry {\n",
       "\t    // try to initialize right away. otherwise, wait on the status_started event.\n",
       "\t    initComm(undefined, IPython.notebook);\n",
       "\t} catch (e) {\n",
       "\t    $([IPython.events]).on('status_started.Kernel', initComm);\n",
       "\t}\n",
       "    });\n",
       "})(IPython, jQuery, _, MathJax, InputWidgets);\n",
       "</script>"
      ]
     },
     "metadata": {},
     "output_type": "display_data"
    },
    {
     "name": "stderr",
     "output_type": "stream",
     "text": [
      "INFO: Loading help data...\n"
     ]
    }
   ],
   "source": [
    "using Interact\n",
    "using PyPlot"
   ]
  },
  {
   "cell_type": "code",
   "execution_count": 1,
   "metadata": {
    "collapsed": false
   },
   "outputs": [
    {
     "ename": "LoadError",
     "evalue": "Rp not defined\nwhile loading In[1], in expression starting on line 4",
     "output_type": "error",
     "traceback": [
      "Rp not defined\nwhile loading In[1], in expression starting on line 4",
      ""
     ]
    }
   ],
   "source": [
    "####### DATA ENTRY ########\n",
    "\n",
    "# Static\n",
    "Ridx = find(Rp) # Vector of renewable nodes\n",
    "Y = full(Y) # Full admittance matrix (ref not removed)\n",
    "ref = 1 # Index of ref node\n",
    "k = k # Conventional generator participation factors\n",
    "tau = 1. # Heating constant\n",
    "G0 = [Gp,Gp.*0.95,Gp.*0.9]\n",
    "D0 = [Dp,Dp.*0.95,Dp.*0.9]\n",
    "P0 = [Rp,Rp,Rp]\n",
    "kQobj = 0 # Should always be zero; objective has no constant term\n",
    "c = 3. # RHS of line temperature constraint\n",
    "kQtheta = -c # Move to LHS so we have Q(z) = 0\n",
    "lines = [(f[i],t[i]) for i in 1:length(f)];"
   ]
  },
  {
   "cell_type": "code",
   "execution_count": 3,
   "metadata": {
    "collapsed": true
   },
   "outputs": [
    {
     "data": {
      "text/plain": [
       "6.363669237355347"
      ]
     },
     "metadata": {},
     "output_type": "display_data"
    },
    {
     "data": {
      "text/plain": [
       "4.560809104695174"
      ]
     },
     "metadata": {},
     "output_type": "display_data"
    },
    {
     "data": {
      "text/plain": [
       "6.41885738046947"
      ]
     },
     "metadata": {},
     "output_type": "display_data"
    },
    {
     "data": {
      "text/plain": [
       "6.906252430244509"
      ]
     },
     "metadata": {},
     "output_type": "display_data"
    },
    {
     "data": {
      "text/plain": [
       "7.558763049546849"
      ]
     },
     "metadata": {},
     "output_type": "display_data"
    },
    {
     "data": {
      "text/plain": [
       "6.848825772928705"
      ]
     },
     "metadata": {},
     "output_type": "display_data"
    },
    {
     "data": {
      "text/plain": [
       "6.8724888764445"
      ]
     },
     "metadata": {},
     "output_type": "display_data"
    },
    {
     "data": {
      "text/plain": [
       "4.150042691902354"
      ]
     },
     "metadata": {},
     "output_type": "display_data"
    },
    {
     "data": {
      "text/plain": [
       "6.916041749614532"
      ]
     },
     "metadata": {},
     "output_type": "display_data"
    },
    {
     "data": {
      "text/plain": [
       "7.590575712662439"
      ]
     },
     "metadata": {},
     "output_type": "display_data"
    },
    {
     "data": {
      "text/plain": [
       "7.1352406130815025"
      ]
     },
     "metadata": {},
     "output_type": "display_data"
    },
    {
     "data": {
      "text/plain": [
       "8.168836940949275"
      ]
     },
     "metadata": {},
     "output_type": "display_data"
    },
    {
     "data": {
      "text/plain": [
       "5.090415125623698"
      ]
     },
     "metadata": {},
     "output_type": "display_data"
    },
    {
     "data": {
      "text/plain": [
       "7.240582889670994"
      ]
     },
     "metadata": {},
     "output_type": "display_data"
    },
    {
     "data": {
      "text/plain": [
       "7.394038345938091"
      ]
     },
     "metadata": {},
     "output_type": "display_data"
    },
    {
     "data": {
      "text/plain": [
       "7.717733618967381"
      ]
     },
     "metadata": {},
     "output_type": "display_data"
    },
    {
     "data": {
      "text/plain": [
       "8.258061565188191"
      ]
     },
     "metadata": {},
     "output_type": "display_data"
    },
    {
     "data": {
      "text/plain": [
       "5.707540517612924"
      ]
     },
     "metadata": {},
     "output_type": "display_data"
    },
    {
     "data": {
      "text/plain": [
       "7.886965333123732"
      ]
     },
     "metadata": {},
     "output_type": "display_data"
    },
    {
     "data": {
      "text/plain": [
       "5.35091309307875"
      ]
     },
     "metadata": {},
     "output_type": "display_data"
    },
    {
     "data": {
      "text/plain": [
       "6.848144399993387"
      ]
     },
     "metadata": {},
     "output_type": "display_data"
    },
    {
     "data": {
      "text/plain": [
       "6.709976228724009"
      ]
     },
     "metadata": {},
     "output_type": "display_data"
    },
    {
     "data": {
      "text/plain": [
       "7.347874199231085"
      ]
     },
     "metadata": {},
     "output_type": "display_data"
    },
    {
     "data": {
      "text/plain": [
       "5.73748980561171"
      ]
     },
     "metadata": {},
     "output_type": "display_data"
    },
    {
     "data": {
      "text/plain": [
       "5.712788617484694"
      ]
     },
     "metadata": {},
     "output_type": "display_data"
    },
    {
     "data": {
      "text/plain": [
       "7.5822327593328716"
      ]
     },
     "metadata": {},
     "output_type": "display_data"
    },
    {
     "data": {
      "text/plain": [
       "7.2392610186929325"
      ]
     },
     "metadata": {},
     "output_type": "display_data"
    },
    {
     "data": {
      "text/plain": [
       "7.2392610186929325"
      ]
     },
     "metadata": {},
     "output_type": "display_data"
    },
    {
     "data": {
      "text/plain": [
       "6.323987706945979"
      ]
     },
     "metadata": {},
     "output_type": "display_data"
    },
    {
     "data": {
      "text/plain": [
       "8.246453213026477"
      ]
     },
     "metadata": {},
     "output_type": "display_data"
    },
    {
     "data": {
      "text/plain": [
       "6.7625575922606815"
      ]
     },
     "metadata": {},
     "output_type": "display_data"
    },
    {
     "data": {
      "text/plain": [
       "4.4740329823207565"
      ]
     },
     "metadata": {},
     "output_type": "display_data"
    },
    {
     "data": {
      "text/plain": [
       "5.568287032779909"
      ]
     },
     "metadata": {},
     "output_type": "display_data"
    },
    {
     "data": {
      "text/plain": [
       "4.780420749719819"
      ]
     },
     "metadata": {},
     "output_type": "display_data"
    },
    {
     "data": {
      "text/plain": [
       "4.780420749719819"
      ]
     },
     "metadata": {},
     "output_type": "display_data"
    },
    {
     "data": {
      "text/plain": [
       "4.762881459367478"
      ]
     },
     "metadata": {},
     "output_type": "display_data"
    },
    {
     "data": {
      "text/plain": [
       "4.762881459367478"
      ]
     },
     "metadata": {},
     "output_type": "display_data"
    },
    {
     "data": {
      "text/plain": [
       "4.079508810572993"
      ]
     },
     "metadata": {},
     "output_type": "display_data"
    },
    {
     "data": {
      "text/plain": [
       "4.079508810572993"
      ]
     },
     "metadata": {},
     "output_type": "display_data"
    },
    {
     "data": {
      "text/plain": [
       "6.382853106073468"
      ]
     },
     "metadata": {},
     "output_type": "display_data"
    },
    {
     "data": {
      "text/plain": [
       "7.011787855482257"
      ]
     },
     "metadata": {},
     "output_type": "display_data"
    },
    {
     "data": {
      "text/plain": [
       "6.084354465679958"
      ]
     },
     "metadata": {},
     "output_type": "display_data"
    },
    {
     "data": {
      "text/plain": [
       "6.748013912721857"
      ]
     },
     "metadata": {},
     "output_type": "display_data"
    },
    {
     "data": {
      "text/plain": [
       "7.392476727105611"
      ]
     },
     "metadata": {},
     "output_type": "display_data"
    },
    {
     "data": {
      "text/plain": [
       "4.843817369325637"
      ]
     },
     "metadata": {},
     "output_type": "display_data"
    },
    {
     "data": {
      "text/plain": [
       "6.603024920578091"
      ]
     },
     "metadata": {},
     "output_type": "display_data"
    },
    {
     "data": {
      "text/plain": [
       "4.404418549474408"
      ]
     },
     "metadata": {},
     "output_type": "display_data"
    },
    {
     "data": {
      "text/plain": [
       "3.475038825745721"
      ]
     },
     "metadata": {},
     "output_type": "display_data"
    },
    {
     "data": {
      "text/plain": [
       "6.507551899816092"
      ]
     },
     "metadata": {},
     "output_type": "display_data"
    },
    {
     "data": {
      "text/plain": [
       "6.176393947138779"
      ]
     },
     "metadata": {},
     "output_type": "display_data"
    },
    {
     "data": {
      "text/plain": [
       "4.604491473717881"
      ]
     },
     "metadata": {},
     "output_type": "display_data"
    },
    {
     "data": {
      "text/plain": [
       "5.789087000592399"
      ]
     },
     "metadata": {},
     "output_type": "display_data"
    },
    {
     "data": {
      "text/plain": [
       "6.757767627928755"
      ]
     },
     "metadata": {},
     "output_type": "display_data"
    },
    {
     "data": {
      "text/plain": [
       "6.306982481848232"
      ]
     },
     "metadata": {},
     "output_type": "display_data"
    },
    {
     "data": {
      "text/plain": [
       "7.492284194356471"
      ]
     },
     "metadata": {},
     "output_type": "display_data"
    },
    {
     "data": {
      "text/plain": [
       "5.278098777700146"
      ]
     },
     "metadata": {},
     "output_type": "display_data"
    },
    {
     "data": {
      "text/plain": [
       "6.479352333861098"
      ]
     },
     "metadata": {},
     "output_type": "display_data"
    },
    {
     "data": {
      "text/plain": [
       "6.328445809379481"
      ]
     },
     "metadata": {},
     "output_type": "display_data"
    },
    {
     "data": {
      "text/plain": [
       "4.2409469599906435"
      ]
     },
     "metadata": {},
     "output_type": "display_data"
    },
    {
     "data": {
      "text/plain": [
       "4.656036667617271"
      ]
     },
     "metadata": {},
     "output_type": "display_data"
    },
    {
     "data": {
      "text/plain": [
       "5.481499251308875"
      ]
     },
     "metadata": {},
     "output_type": "display_data"
    },
    {
     "data": {
      "text/plain": [
       "5.7249287834044535"
      ]
     },
     "metadata": {},
     "output_type": "display_data"
    },
    {
     "data": {
      "text/plain": [
       "6.1369122626626105"
      ]
     },
     "metadata": {},
     "output_type": "display_data"
    },
    {
     "data": {
      "text/plain": [
       "5.669864349669297"
      ]
     },
     "metadata": {},
     "output_type": "display_data"
    },
    {
     "data": {
      "text/plain": [
       "7.2242774051503"
      ]
     },
     "metadata": {},
     "output_type": "display_data"
    },
    {
     "data": {
      "text/plain": [
       "4.574078167003452"
      ]
     },
     "metadata": {},
     "output_type": "display_data"
    },
    {
     "data": {
      "text/plain": [
       "4.574078167003452"
      ]
     },
     "metadata": {},
     "output_type": "display_data"
    },
    {
     "data": {
      "text/plain": [
       "6.689613358335515"
      ]
     },
     "metadata": {},
     "output_type": "display_data"
    },
    {
     "data": {
      "text/plain": [
       "3.9360869700142036"
      ]
     },
     "metadata": {},
     "output_type": "display_data"
    },
    {
     "data": {
      "text/plain": [
       "5.239074169258562"
      ]
     },
     "metadata": {},
     "output_type": "display_data"
    },
    {
     "data": {
      "text/plain": [
       "7.875190210562534"
      ]
     },
     "metadata": {},
     "output_type": "display_data"
    },
    {
     "data": {
      "text/plain": [
       "7.360706808326909"
      ]
     },
     "metadata": {},
     "output_type": "display_data"
    },
    {
     "data": {
      "text/plain": [
       "5.830942259633157"
      ]
     },
     "metadata": {},
     "output_type": "display_data"
    },
    {
     "data": {
      "text/plain": [
       "5.830942259633157"
      ]
     },
     "metadata": {},
     "output_type": "display_data"
    },
    {
     "data": {
      "text/plain": [
       "7.810121213355777"
      ]
     },
     "metadata": {},
     "output_type": "display_data"
    },
    {
     "data": {
      "text/plain": [
       "7.810121213355777"
      ]
     },
     "metadata": {},
     "output_type": "display_data"
    },
    {
     "data": {
      "text/plain": [
       "7.968737085217729"
      ]
     },
     "metadata": {},
     "output_type": "display_data"
    },
    {
     "data": {
      "text/plain": [
       "7.968737085217729"
      ]
     },
     "metadata": {},
     "output_type": "display_data"
    },
    {
     "data": {
      "text/plain": [
       "6.823976532779939"
      ]
     },
     "metadata": {},
     "output_type": "display_data"
    },
    {
     "data": {
      "text/plain": [
       "6.239667420084156"
      ]
     },
     "metadata": {},
     "output_type": "display_data"
    },
    {
     "data": {
      "text/plain": [
       "5.249709842394098"
      ]
     },
     "metadata": {},
     "output_type": "display_data"
    },
    {
     "data": {
      "text/plain": [
       "6.798761623767821"
      ]
     },
     "metadata": {},
     "output_type": "display_data"
    },
    {
     "data": {
      "text/plain": [
       "6.347763895398428"
      ]
     },
     "metadata": {},
     "output_type": "display_data"
    },
    {
     "data": {
      "text/plain": [
       "6.751210946482525"
      ]
     },
     "metadata": {},
     "output_type": "display_data"
    },
    {
     "data": {
      "text/plain": [
       "5.158402150360486"
      ]
     },
     "metadata": {},
     "output_type": "display_data"
    },
    {
     "data": {
      "text/plain": [
       "6.871146057266692"
      ]
     },
     "metadata": {},
     "output_type": "display_data"
    },
    {
     "data": {
      "text/plain": [
       "5.032668488603014"
      ]
     },
     "metadata": {},
     "output_type": "display_data"
    },
    {
     "data": {
      "text/plain": [
       "5.156522131774951"
      ]
     },
     "metadata": {},
     "output_type": "display_data"
    },
    {
     "data": {
      "text/plain": [
       "5.8759246362939095"
      ]
     },
     "metadata": {},
     "output_type": "display_data"
    },
    {
     "data": {
      "text/plain": [
       "6.929220691151329"
      ]
     },
     "metadata": {},
     "output_type": "display_data"
    },
    {
     "data": {
      "text/plain": [
       "6.270670224021525"
      ]
     },
     "metadata": {},
     "output_type": "display_data"
    },
    {
     "data": {
      "text/plain": [
       "5.343963077369294"
      ]
     },
     "metadata": {},
     "output_type": "display_data"
    },
    {
     "data": {
      "text/plain": [
       "7.1381388768235485"
      ]
     },
     "metadata": {},
     "output_type": "display_data"
    },
    {
     "data": {
      "text/plain": [
       "6.9499744467289934"
      ]
     },
     "metadata": {},
     "output_type": "display_data"
    },
    {
     "data": {
      "text/plain": [
       "7.581010816530164"
      ]
     },
     "metadata": {},
     "output_type": "display_data"
    },
    {
     "data": {
      "text/plain": [
       "5.965640689286141"
      ]
     },
     "metadata": {},
     "output_type": "display_data"
    },
    {
     "data": {
      "text/plain": [
       "5.341176142208149"
      ]
     },
     "metadata": {},
     "output_type": "display_data"
    },
    {
     "data": {
      "text/plain": [
       "5.714421163653805"
      ]
     },
     "metadata": {},
     "output_type": "display_data"
    },
    {
     "data": {
      "text/plain": [
       "6.096354818901223"
      ]
     },
     "metadata": {},
     "output_type": "display_data"
    },
    {
     "data": {
      "text/plain": [
       "7.607076150351194"
      ]
     },
     "metadata": {},
     "output_type": "display_data"
    },
    {
     "data": {
      "text/plain": [
       "6.325501522036729"
      ]
     },
     "metadata": {},
     "output_type": "display_data"
    },
    {
     "data": {
      "text/plain": [
       "5.872548806675245"
      ]
     },
     "metadata": {},
     "output_type": "display_data"
    },
    {
     "data": {
      "text/plain": [
       "6.129396707836383"
      ]
     },
     "metadata": {},
     "output_type": "display_data"
    },
    {
     "data": {
      "text/plain": [
       "5.7857503531718475"
      ]
     },
     "metadata": {},
     "output_type": "display_data"
    },
    {
     "data": {
      "text/plain": [
       "5.7857503531718475"
      ]
     },
     "metadata": {},
     "output_type": "display_data"
    },
    {
     "data": {
      "text/plain": [
       "6.4844858087309065"
      ]
     },
     "metadata": {},
     "output_type": "display_data"
    },
    {
     "data": {
      "text/plain": [
       "4.932731554004869"
      ]
     },
     "metadata": {},
     "output_type": "display_data"
    },
    {
     "data": {
      "text/plain": [
       "5.71132995843204"
      ]
     },
     "metadata": {},
     "output_type": "display_data"
    },
    {
     "data": {
      "text/plain": [
       "5.720790677190857"
      ]
     },
     "metadata": {},
     "output_type": "display_data"
    },
    {
     "data": {
      "text/plain": [
       "6.869773918531558"
      ]
     },
     "metadata": {},
     "output_type": "display_data"
    },
    {
     "data": {
      "text/plain": [
       "6.718078477220542"
      ]
     },
     "metadata": {},
     "output_type": "display_data"
    },
    {
     "data": {
      "text/plain": [
       "6.718078477220542"
      ]
     },
     "metadata": {},
     "output_type": "display_data"
    },
    {
     "data": {
      "text/plain": [
       "5.747561294911962"
      ]
     },
     "metadata": {},
     "output_type": "display_data"
    },
    {
     "data": {
      "text/plain": [
       "5.747561294911962"
      ]
     },
     "metadata": {},
     "output_type": "display_data"
    },
    {
     "data": {
      "text/plain": [
       "5.9746141712879055"
      ]
     },
     "metadata": {},
     "output_type": "display_data"
    },
    {
     "data": {
      "text/plain": [
       "5.9746141712879055"
      ]
     },
     "metadata": {},
     "output_type": "display_data"
    },
    {
     "data": {
      "text/plain": [
       "6.6791216334025005"
      ]
     },
     "metadata": {},
     "output_type": "display_data"
    },
    {
     "data": {
      "text/plain": [
       "5.178857412481974"
      ]
     },
     "metadata": {},
     "output_type": "display_data"
    },
    {
     "data": {
      "text/plain": [
       "7.161095017513506"
      ]
     },
     "metadata": {},
     "output_type": "display_data"
    },
    {
     "data": {
      "text/plain": [
       "6.000363750264382"
      ]
     },
     "metadata": {},
     "output_type": "display_data"
    }
   ],
   "source": [
    "score = FloatingPoint[]\n",
    "\n",
    "for line in lines\n",
    "    \n",
    "    # Create instance of instanton problem:\n",
    "    Qobj,A,b,Qtheta = temporalInstanton(Ridx,Y,ref,k,tau,line,G0,P0,D0)\n",
    "\n",
    "    G_of_x = (Qobj,0,kQobj)\n",
    "    Q_of_x = (Qtheta,0,kQtheta)\n",
    "\n",
    "    # Translate and rotate twice:\n",
    "    J_of_z,K_of_w,R_of_x,x_star,Rkernel,Reigvec = tr_trans_rotate(G_of_x,Q_of_x,A,b)\n",
    "    \n",
    "\n",
    "    Qtheta = full(R_of_x[1])\n",
    "    D = K_of_w[1]\n",
    "    poles = [D[i,i]*Qtheta[i,i] for i in setdiff(1:size(D,1),find(diag(Qtheta).==0))]\n",
    "    d = K_of_w[2]./2\n",
    "    c = -R_of_x[3]\n",
    "    \n",
    "    # Check 0 and diagonals of D before moving on to\n",
    "    # binary search:\n",
    "\n",
    "    mu_vals,w_vals,check = tr_check_diag(D,d,Qtheta,c)\n",
    "    # If all values of \"check\" are false, continue:\n",
    "    if all(!check)\n",
    "        # continue\n",
    "    else\n",
    "        display(mu_vals[find(check)])\n",
    "    end\n",
    "\n",
    "    # Solve secular equation:\n",
    "    solutions,vectors = tr_solve_secular(D,d,Qtheta,c)\n",
    "\n",
    "    # Translate back to original variables:\n",
    "    xvec = tr_map_back(vectors[1],Rkernel,Reigvec,x_star)\n",
    "\n",
    "    T = int(length(G0)/size(Y,1))\n",
    "    deviations = Array(Vector{Float64},0)\n",
    "    angles = Array(Vector{Float64},0)\n",
    "    alpha = Float64[]\n",
    "    anglediffs = xvec[end-T+1:end]\n",
    "    n = size(Y,1)\n",
    "    nr = length(Ridx)\n",
    "    for t = 1:T\n",
    "        push!(deviations,xvec[(nr+n)*(t-1)+1:(nr+n)*(t-1)+nr])\n",
    "        push!(angles,xvec[(nr+n)*(t-1)+nr+1:(nr+n)*(t-1)+nr+n-1])\n",
    "        push!(alpha,xvec[(nr+n)*(t)])\n",
    "    end\n",
    "    \n",
    "    push!(score,(xvec'*Qobj*xvec)[1])\n",
    "    display((xvec'*Qobj*xvec)[1])\n",
    "end"
   ]
  },
  {
   "cell_type": "code",
   "execution_count": 3,
   "metadata": {
    "collapsed": true
   },
   "outputs": [
    {
     "data": {
      "text/plain": [
       "225-element Array{FloatingPoint,1}:\n",
       " -6.88338e-15\n",
       "  0.185479   \n",
       " -1.95399e-14\n",
       "  2.75335e-14\n",
       "  4.82947e-15\n",
       "  4.88498e-15\n",
       "  1.55431e-15\n",
       " -2.4647e-14 \n",
       " -4.44089e-14\n",
       " -3.15303e-14\n",
       " -2.22045e-15\n",
       "  2.17604e-14\n",
       " -1.62093e-14\n",
       "  ⋮          \n",
       "  9.57012e-14\n",
       "  7.21645e-14\n",
       " -1.54432e-13\n",
       " -3.24185e-14\n",
       "  1.15463e-14\n",
       "  2.35367e-13\n",
       " -8.88178e-16\n",
       " -9.23706e-14\n",
       "  7.52295    \n",
       "  8.32667e-17\n",
       "  2.498e-16  \n",
       "  1.66533e-16"
      ]
     },
     "execution_count": 3,
     "metadata": {},
     "output_type": "execute_result"
    }
   ],
   "source": [
    "line = lines[48]\n",
    "\n",
    "# Create instance of instanton problem:\n",
    "Qobj,A,b,Qtheta = temporalInstanton(Ridx,Y,ref,k,tau,line,G0,P0,D0)\n",
    "\n",
    "G_of_x = (Qobj,0,kQobj)\n",
    "Q_of_x = (Qtheta,0,kQtheta)\n",
    "\n",
    "# Translate and rotate twice:\n",
    "J_of_z,K_of_w,R_of_x,x_star,Rkernel,Reigvec,A1,A2 = tr_trans_rotate(G_of_x,Q_of_x,A,b)\n",
    "\n",
    "\n",
    "Qtheta = full(R_of_x[1])\n",
    "D = K_of_w[1]\n",
    "#poles = [D[i,i]*Qtheta[i,i] for i in setdiff(1:size(D,1),find(diag(Qtheta).==0))]\n",
    "d = K_of_w[2]./2\n",
    "d2 = Reigvec*Rkernel*R_of_x[2]\n",
    "c = -R_of_x[3]\n",
    "\n",
    "# Check 0 and diagonals of D before moving on to\n",
    "# binary search:\n",
    "mu_vals,w_vals,check = tr_check_diag(D,d,d2,Qtheta,c)\n",
    "# If all values of \"check\" are false, continue:\n",
    "if all(!check)\n",
    "# continue\n",
    "else\n",
    "display(mu_vals[find(check)])\n",
    "end\n",
    "\n",
    "# Solve secular equation:\n",
    "solutions,vectors = tr_solve_secular(D,d,d2,Qtheta,c)\n",
    "\n",
    "# Translate back to original variables:\n",
    "xvec = tr_map_back(vectors[1],Rkernel,Reigvec,x_star)\n",
    "\n",
    "T = int(length(G0)/size(Y,1))\n",
    "deviations = Array(Vector{Float64},0)\n",
    "angles = Array(Vector{Float64},0)\n",
    "alpha = Float64[]\n",
    "anglediffs = xvec[end-T+1:end]\n",
    "n = size(Y,1)\n",
    "nr = length(Ridx)\n",
    "for t = 1:T\n",
    "push!(deviations,xvec[(nr+n)*(t-1)+1:(nr+n)*(t-1)+nr])\n",
    "push!(angles,xvec[(nr+n)*(t-1)+nr+1:(nr+n)*(t-1)+nr+n-1])\n",
    "push!(alpha,xvec[(nr+n)*(t)])\n",
    "end\n",
    "[A*xvec-b]"
   ]
  },
  {
   "cell_type": "code",
   "execution_count": 7,
   "metadata": {
    "collapsed": false
   },
   "outputs": [
    {
     "data": {
      "text/plain": [
       "0.06892229751229179"
      ]
     },
     "execution_count": 7,
     "metadata": {},
     "output_type": "execute_result"
    }
   ],
   "source": [
    "sumabs2(xvec'*Qtheta)"
   ]
  },
  {
   "cell_type": "code",
   "execution_count": 8,
   "metadata": {
    "collapsed": false
   },
   "outputs": [
    {
     "data": {
      "text/plain": [
       "-3.0"
      ]
     },
     "execution_count": 8,
     "metadata": {},
     "output_type": "execute_result"
    }
   ],
   "source": [
    "Q_of_x[3]"
   ]
  },
  {
   "cell_type": "code",
   "execution_count": 9,
   "metadata": {
    "collapsed": false
   },
   "outputs": [
    {
     "data": {
      "text/plain": [
       "3-element Array{Float64,1}:\n",
       " -33.4385\n",
       " -31.7665\n",
       " -30.0946"
      ]
     },
     "execution_count": 9,
     "metadata": {},
     "output_type": "execute_result"
    }
   ],
   "source": [
    "alpha"
   ]
  },
  {
   "cell_type": "code",
   "execution_count": 12,
   "metadata": {
    "collapsed": false
   },
   "outputs": [
    {
     "data": {
      "text/plain": [
       "-0.1376230727009675"
      ]
     },
     "execution_count": 12,
     "metadata": {},
     "output_type": "execute_result"
    }
   ],
   "source": [
    "angles[1][27]"
   ]
  },
  {
   "cell_type": "code",
   "execution_count": 13,
   "metadata": {
    "collapsed": false
   },
   "outputs": [
    {
     "data": {
      "text/plain": [
       "3-element Array{FloatingPoint,1}:\n",
       " 7.21633\n",
       " 6.77415\n",
       " 7.52295"
      ]
     },
     "execution_count": 13,
     "metadata": {},
     "output_type": "execute_result"
    }
   ],
   "source": [
    "# Where do these differences come from?\n",
    "(A*xvec - b)[abs(A*xvec - b).>2]"
   ]
  },
  {
   "cell_type": "code",
   "execution_count": 59,
   "metadata": {
    "collapsed": false
   },
   "outputs": [
    {
     "data": {
      "text/plain": [
       "57-element Array{FloatingPoint,1}:\n",
       "  0.185479 \n",
       " -0.12166  \n",
       " -0.421945 \n",
       " -0.500438 \n",
       " -1.01736  \n",
       " -0.411225 \n",
       " -0.592453 \n",
       "  0.0028849\n",
       " -0.658679 \n",
       "  0.0202322\n",
       " -0.189863 \n",
       " -0.527766 \n",
       " -0.118554 \n",
       "  ⋮        \n",
       " -0.570157 \n",
       " -0.755691 \n",
       " -0.402338 \n",
       " -0.232838 \n",
       " -0.227298 \n",
       " -0.707307 \n",
       " -0.567754 \n",
       " -0.266163 \n",
       " -0.32356  \n",
       " -0.608097 \n",
       " -0.488024 \n",
       "  7.52295  "
      ]
     },
     "execution_count": 59,
     "metadata": {},
     "output_type": "execute_result"
    }
   ],
   "source": [
    "(A*xvec - b)[abs(A*xvec - b).>1e-10]"
   ]
  },
  {
   "cell_type": "code",
   "execution_count": 11,
   "metadata": {
    "collapsed": false
   },
   "outputs": [
    {
     "data": {
      "text/plain": [
       "1-element Array{FloatingPoint,1}:\n",
       " 0.0689223"
      ]
     },
     "execution_count": 11,
     "metadata": {},
     "output_type": "execute_result"
    }
   ],
   "source": [
    "x_star'*Qtheta*x_star"
   ]
  },
  {
   "cell_type": "code",
   "execution_count": 13,
   "metadata": {
    "collapsed": false
   },
   "outputs": [
    {
     "data": {
      "text/plain": [
       "1-element Array{FloatingPoint,1}:\n",
       " 0.0689223"
      ]
     },
     "execution_count": 13,
     "metadata": {},
     "output_type": "execute_result"
    }
   ],
   "source": [
    "xvec'*Qtheta*xvec"
   ]
  },
  {
   "cell_type": "code",
   "execution_count": 12,
   "metadata": {
    "collapsed": false
   },
   "outputs": [
    {
     "data": {
      "text/plain": [
       "1x2 Array{Float64,2}:\n",
       " 1.35522  1.16974"
      ]
     },
     "execution_count": 12,
     "metadata": {},
     "output_type": "execute_result"
    }
   ],
   "source": [
    "# Take node 2:\n",
    "[(A*xvec)[2] b[2]]"
   ]
  },
  {
   "cell_type": "code",
   "execution_count": 16,
   "metadata": {
    "collapsed": false
   },
   "outputs": [
    {
     "data": {
      "text/plain": [
       "1-element Array{Float64,1}:\n",
       " 8.59122"
      ]
     },
     "execution_count": 16,
     "metadata": {},
     "output_type": "execute_result"
    }
   ],
   "source": [
    "vectors[1]'*Qtheta*vectors[1]"
   ]
  },
  {
   "cell_type": "code",
   "execution_count": 17,
   "metadata": {
    "collapsed": false
   },
   "outputs": [
    {
     "data": {
      "text/plain": [
       "8.591216498020621"
      ]
     },
     "execution_count": 17,
     "metadata": {},
     "output_type": "execute_result"
    }
   ],
   "source": [
    "c^2"
   ]
  },
  {
   "cell_type": "code",
   "execution_count": 18,
   "metadata": {
    "collapsed": false
   },
   "outputs": [
    {
     "data": {
      "text/plain": [
       "1-element Array{FloatingPoint,1}:\n",
       " 0.0689223"
      ]
     },
     "execution_count": 18,
     "metadata": {},
     "output_type": "execute_result"
    }
   ],
   "source": [
    "xvec'*Qtheta*xvec"
   ]
  },
  {
   "cell_type": "code",
   "execution_count": 27,
   "metadata": {
    "collapsed": false
   },
   "outputs": [
    {
     "data": {
      "text/plain": [
       "276x276 Array{Float64,2}:\n",
       "  0.0    -0.0    -0.0    -0.0    …   0.0   0.0  0.0  -0.001  -0.0   0.0\n",
       " -0.0     0.0     0.0     0.0       -0.0  -0.0  0.0   0.002  -0.0  -0.0\n",
       " -0.0     0.0     0.0     0.0       -0.0  -0.0  0.0   0.002   0.0   0.0\n",
       " -0.0     0.0     0.0     0.0       -0.0  -0.0  0.0   0.002   0.0   0.0\n",
       " -0.0     0.0     0.0     0.0       -0.0  -0.0  0.0   0.002   0.0   0.0\n",
       " -0.0     0.0     0.0     0.0    …  -0.0  -0.0  0.0   0.002   0.0   0.0\n",
       " -0.0     0.0     0.0     0.0       -0.0  -0.0  0.0   0.003  -0.0  -0.0\n",
       " -0.0     0.0     0.0     0.0       -0.0  -0.0  0.0   0.002   0.0   0.0\n",
       " -0.0     0.0     0.0     0.0       -0.0  -0.0  0.0   0.003  -0.0   0.0\n",
       "  0.0    -0.0    -0.0    -0.0        0.0   0.0  0.0  -0.014   0.0  -0.0\n",
       "  0.0    -0.0    -0.0    -0.0    …   0.0   0.0  0.0  -0.006   0.0   0.0\n",
       "  0.0    -0.0    -0.0    -0.0        0.0  -0.0  0.0  -0.004  -0.0  -0.0\n",
       " -0.0     0.0     0.0     0.0       -0.0  -0.0  0.0   0.004  -0.0  -0.0\n",
       "  ⋮                              ⋱   ⋮                              ⋮  \n",
       " -0.0     0.0    -0.0    -0.0       -0.0  -0.0  0.0   0.0     0.0  -0.0\n",
       "  0.0    -0.0     0.0    -0.0    …   0.0   0.0  0.0  -0.0     0.0   0.0\n",
       "  0.0    -0.0     0.0    -0.0        0.0   0.0  0.0  -0.0     0.0   0.0\n",
       " -0.0     0.0     0.0     0.0       -0.0  -0.0  0.0   0.0     0.0  -0.0\n",
       "  0.0    -0.0    -0.0    -0.0       -0.0  -0.0  0.0  -0.0     0.0  -0.0\n",
       "  0.0    -0.0     0.0    -0.0        0.0   0.0  0.0  -0.0     0.0   0.0\n",
       "  0.0    -0.0    -0.0    -0.0    …   0.0   0.0  0.0  -0.0     0.0   0.0\n",
       "  0.0    -0.0    -0.0    -0.0        0.0   0.0  0.0  -0.0     0.0   0.0\n",
       "  0.0     0.0     0.0     0.0        0.0   0.0  0.0   0.0     0.0   0.0\n",
       " -0.001   0.002   0.002   0.002     -0.0  -0.0  0.0   1.0     0.0  -0.0\n",
       " -0.0    -0.0     0.0     0.0        0.0   0.0  0.0   0.0     1.0  -0.0\n",
       "  0.0    -0.0     0.0     0.0    …   0.0   0.0  0.0  -0.0    -0.0   1.0"
      ]
     },
     "execution_count": 27,
     "metadata": {},
     "output_type": "execute_result"
    }
   ],
   "source": [
    "Qtheta_kernel = round(Rkernel*Qtheta*Rkernel',3)"
   ]
  },
  {
   "cell_type": "code",
   "execution_count": 37,
   "metadata": {
    "collapsed": false
   },
   "outputs": [
    {
     "data": {
      "text/plain": [
       "276x276 Array{Float64,2}:\n",
       "  0.00813  -0.00038   0.00107   0.00296  …  -3.0e-5   -9.0e-5    0.00033\n",
       " -0.00038   2.0e-5   -2.0e-5   -8.0e-5      -0.0       1.0e-5   -2.0e-5 \n",
       "  0.00107  -2.0e-5    0.00029   0.00067     -1.0e-5    1.0e-5    4.0e-5 \n",
       "  0.00296  -8.0e-5    0.00067   0.00161     -3.0e-5    1.0e-5    0.00011\n",
       " -0.01652   0.00047  -0.00357  -0.00863      0.00016  -3.0e-5   -0.00063\n",
       " -0.00275  -2.0e-5   -0.00107  -0.00234  …   6.0e-5   -8.0e-5   -9.0e-5 \n",
       " -0.00416   0.00027  -0.00017  -0.00079     -1.0e-5    0.00011  -0.00019\n",
       "  0.00238   0.00035   0.00249   0.00497     -0.00017   0.00031   1.0e-5 \n",
       "  0.00083   2.0e-5    0.00037   0.00079     -2.0e-5    3.0e-5    2.0e-5 \n",
       " -0.0033    0.00013  -0.00052  -0.00136      2.0e-5    2.0e-5   -0.00013\n",
       "  0.00146  -0.0003   -0.00088  -0.0015   …   7.0e-5   -0.00018   0.0001 \n",
       "  0.00029   9.0e-5    0.00052   0.00102     -4.0e-5    7.0e-5   -1.0e-5 \n",
       "  0.00098   2.0e-5    0.00046   0.00098     -3.0e-5    4.0e-5    3.0e-5 \n",
       "  ⋮                                      ⋱                       ⋮      \n",
       " -4.0e-5    0.0       1.0e-5    1.0e-5      -0.0       0.0      -0.0    \n",
       "  8.0e-5   -0.0       0.0       1.0e-5   …   0.0      -0.0       0.0    \n",
       " -0.00021   1.0e-5   -4.0e-5   -0.00011      0.0      -0.0      -1.0e-5 \n",
       " -3.0e-5    0.0       0.0      -0.0         -0.0       0.0      -0.0    \n",
       "  0.00015  -1.0e-5    1.0e-5    4.0e-5       0.0      -0.0       1.0e-5 \n",
       " -1.0e-5    0.0       0.0      -0.0         -0.0       0.0      -0.0    \n",
       "  9.0e-5    0.0       3.0e-5    7.0e-5   …  -0.0       0.0       0.0    \n",
       "  1.0e-5    0.0       3.0e-5    5.0e-5      -0.0       0.0      -0.0    \n",
       "  0.00017  -0.0       4.0e-5    0.0001      -0.0       0.0       1.0e-5 \n",
       " -3.0e-5   -0.0      -1.0e-5   -3.0e-5       0.0      -0.0      -0.0    \n",
       " -9.0e-5    1.0e-5    1.0e-5    1.0e-5      -0.0       0.0      -0.0    \n",
       "  0.00033  -2.0e-5    4.0e-5    0.00011  …  -0.0      -0.0       1.0e-5 "
      ]
     },
     "execution_count": 37,
     "metadata": {},
     "output_type": "execute_result"
    }
   ],
   "source": [
    "Qtheta_diag = round(Reigvec*Qtheta*Reigvec',5)"
   ]
  },
  {
   "cell_type": "code",
   "execution_count": 33,
   "metadata": {
    "collapsed": false
   },
   "outputs": [
    {
     "data": {
      "text/plain": [
       "0.1"
      ]
     },
     "execution_count": 33,
     "metadata": {},
     "output_type": "execute_result"
    }
   ],
   "source": [
    "Qtheta_diag[1296]"
   ]
  },
  {
   "cell_type": "code",
   "execution_count": 5,
   "metadata": {
    "collapsed": false
   },
   "outputs": [
    {
     "data": {
      "text/plain": [
       "1x2 Array{Float64,2}:\n",
       " 1.35522  1.16974"
      ]
     },
     "execution_count": 5,
     "metadata": {},
     "output_type": "execute_result"
    }
   ],
   "source": [
    "# Take node 2:\n",
    "[(A*xvec)[2] b[2]]"
   ]
  },
  {
   "cell_type": "code",
   "execution_count": 81,
   "metadata": {
    "collapsed": false
   },
   "outputs": [
    {
     "data": {
      "text/plain": [
       "1-element Array{Float64,1}:\n",
       " 1.35522"
      ]
     },
     "execution_count": 81,
     "metadata": {},
     "output_type": "execute_result"
    }
   ],
   "source": [
    "# A2*x is correct:\n",
    "Y[2,2:end]*angles[1] - deviations[1][1] - k[2]*alpha[1]"
   ]
  },
  {
   "cell_type": "code",
   "execution_count": 82,
   "metadata": {
    "collapsed": false
   },
   "outputs": [
    {
     "data": {
      "text/plain": [
       "1.1697435536499703"
      ]
     },
     "execution_count": 82,
     "metadata": {},
     "output_type": "execute_result"
    }
   ],
   "source": [
    "# b2 is right as well:\n",
    "(G0+P0-D0)[2]"
   ]
  },
  {
   "cell_type": "code",
   "execution_count": null,
   "metadata": {
    "collapsed": true
   },
   "outputs": [],
   "source": [
    "# Yet they disagree.\n",
    "# So somehow the \"solutions\" are not satisfying Ax=b for\n",
    "# renewable and slack calculations. ???\n",
    "\n"
   ]
  },
  {
   "cell_type": "code",
   "execution_count": 84,
   "metadata": {
    "collapsed": false
   },
   "outputs": [
    {
     "data": {
      "text/plain": [
       "0-element Array{Int64,1}"
      ]
     },
     "execution_count": 84,
     "metadata": {},
     "output_type": "execute_result"
    }
   ],
   "source": [
    "# x_star does solve Ax=b:\n",
    "find(round(A*x_star - b,10))"
   ]
  },
  {
   "cell_type": "code",
   "execution_count": 58,
   "metadata": {
    "collapsed": false
   },
   "outputs": [
    {
     "data": {
      "text/plain": [
       "18-element Array{Float64,1}:\n",
       "  0.00699235\n",
       " -0.120265  \n",
       "  0.115092  \n",
       "  0.168175  \n",
       "  0.679078  \n",
       "  0.112035  \n",
       "  0.305185  \n",
       " -0.342187  \n",
       "  0.381     \n",
       " -0.225619  \n",
       " -0.0762055 \n",
       "  0.250494  \n",
       " -0.194627  \n",
       "  0.401311  \n",
       "  0.198362  \n",
       "  0.290479  \n",
       "  0.120636  \n",
       "  0.127901  "
      ]
     },
     "execution_count": 58,
     "metadata": {},
     "output_type": "execute_result"
    }
   ],
   "source": [
    "deviations[1]"
   ]
  },
  {
   "cell_type": "code",
   "execution_count": 87,
   "metadata": {
    "collapsed": false
   },
   "outputs": [
    {
     "data": {
      "text/plain": [
       "276x1 Array{FloatingPoint,2}:\n",
       "  0.0     \n",
       "  0.0     \n",
       "  0.0     \n",
       "  0.0     \n",
       "  0.0     \n",
       "  0.0     \n",
       "  0.0     \n",
       "  0.0     \n",
       "  0.0     \n",
       "  0.0     \n",
       "  0.0     \n",
       "  0.0     \n",
       "  0.0     \n",
       "  ⋮       \n",
       "  0.0     \n",
       "  0.0     \n",
       "  0.0     \n",
       "  0.0     \n",
       "  0.0     \n",
       "  0.0     \n",
       "  0.0     \n",
       "  0.0     \n",
       "  0.0     \n",
       " -0.318761\n",
       " -0.302866\n",
       " -0.286971"
      ]
     },
     "execution_count": 87,
     "metadata": {},
     "output_type": "execute_result"
    }
   ],
   "source": [
    "R_of_x[2]"
   ]
  },
  {
   "cell_type": "code",
   "execution_count": 11,
   "metadata": {
    "collapsed": false,
    "scrolled": false
   },
   "outputs": [
    {
     "name": "stderr",
     "output_type": "stream",
     "text": [
      "INFO: Loading help data...\n"
     ]
    }
   ],
   "source": [
    "using PyPlot"
   ]
  },
  {
   "cell_type": "code",
   "execution_count": 12,
   "metadata": {
    "collapsed": false
   },
   "outputs": [
    {
     "data": {
      "image/png": "[encoded data removed]",
      "text/plain": [
       "Figure(PyObject <matplotlib.figure.Figure object at 0x7f6c66af9090>)"
      ]
     },
     "metadata": {},
     "output_type": "display_data"
    },
    {
     "data": {
      "text/plain": [
       "1-element Array{Any,1}:\n",
       " PyObject <matplotlib.lines.Line2D object at 0x7f6c66a956d0>"
      ]
     },
     "execution_count": 12,
     "metadata": {},
     "output_type": "execute_result"
    }
   ],
   "source": [
    "plot(sort(score))"
   ]
  },
  {
   "cell_type": "code",
   "execution_count": 7,
   "metadata": {
    "collapsed": false
   },
   "outputs": [
    {
     "data": {
      "image/png": "[encoded data removed]",
      "text/plain": [
       "Figure(PyObject <matplotlib.figure.Figure object at 0x7fc362e71590>)"
      ]
     },
     "metadata": {},
     "output_type": "display_data"
    },
    {
     "data": {
      "text/plain": [
       "1-element Array{Any,1}:\n",
       " PyObject <matplotlib.lines.Line2D object at 0x7fc35f7116d0>"
      ]
     },
     "execution_count": 7,
     "metadata": {},
     "output_type": "execute_result"
    }
   ],
   "source": [
    "plot(sort(score))"
   ]
  },
  {
   "cell_type": "code",
   "execution_count": 13,
   "metadata": {
    "collapsed": false
   },
   "outputs": [
    {
     "data": {
      "text/plain": [
       "(14.931621248548584,48)"
      ]
     },
     "execution_count": 13,
     "metadata": {},
     "output_type": "execute_result"
    }
   ],
   "source": [
    "findmin(score)"
   ]
  },
  {
   "cell_type": "code",
   "execution_count": 4,
   "metadata": {
    "collapsed": false
   },
   "outputs": [
    {
     "data": {
      "text/plain": [
       "(3.475038825745721,48)"
      ]
     },
     "execution_count": 4,
     "metadata": {},
     "output_type": "execute_result"
    }
   ],
   "source": [
    "findmin(score)"
   ]
  },
  {
   "cell_type": "code",
   "execution_count": 53,
   "metadata": {
    "collapsed": false
   },
   "outputs": [
    {
     "data": {
      "image/png": "[encoded data removed]",
      "text/plain": [
       "Figure(PyObject <matplotlib.figure.Figure object at 0x7f6c45f96fd0>)"
      ]
     },
     "metadata": {},
     "output_type": "display_data"
    },
    {
     "data": {
      "text/plain": [
       "1-element Array{Any,1}:\n",
       " PyObject <matplotlib.lines.Line2D object at 0x7f6c45f20350>"
      ]
     },
     "execution_count": 53,
     "metadata": {},
     "output_type": "execute_result"
    }
   ],
   "source": [
    "# plot(sort(A*xvec - b))\n",
    "\n",
    "plot(round(A*xvec - b,10))"
   ]
  },
  {
   "cell_type": "code",
   "execution_count": 27,
   "metadata": {
    "collapsed": false
   },
   "outputs": [
    {
     "data": {
      "text/plain": [
       "3-element Array{FloatingPoint,1}:\n",
       " -0.159381\n",
       " -0.151433\n",
       " -0.143486"
      ]
     },
     "execution_count": 27,
     "metadata": {},
     "output_type": "execute_result"
    }
   ],
   "source": [
    "(xvec)[end-2:end]"
   ]
  },
  {
   "cell_type": "code",
   "execution_count": 39,
   "metadata": {
    "collapsed": false
   },
   "outputs": [
    {
     "data": {
      "text/plain": [
       "-40.65480278328571"
      ]
     },
     "execution_count": 39,
     "metadata": {},
     "output_type": "execute_result"
    }
   ],
   "source": [
    "sum(Dp) - sum(Gp) - sum(Rp) - sum(deviations[1])"
   ]
  },
  {
   "cell_type": "code",
   "execution_count": 29,
   "metadata": {
    "collapsed": false
   },
   "outputs": [
    {
     "data": {
      "text/plain": [
       "(27,48)"
      ]
     },
     "execution_count": 29,
     "metadata": {},
     "output_type": "execute_result"
    }
   ],
   "source": [
    "line"
   ]
  },
  {
   "cell_type": "code",
   "execution_count": 37,
   "metadata": {
    "collapsed": false
   },
   "outputs": [
    {
     "data": {
      "text/plain": [
       "-0.14348555034202343"
      ]
     },
     "execution_count": 37,
     "metadata": {},
     "output_type": "execute_result"
    }
   ],
   "source": [
    "angles[3][26] - angles[3][47]"
   ]
  },
  {
   "cell_type": "code",
   "execution_count": 15,
   "metadata": {
    "collapsed": false
   },
   "outputs": [
    {
     "data": {
      "image/png": "[encoded data removed]",
      "text/plain": [
       "Figure(PyObject <matplotlib.figure.Figure object at 0x7f6c6341e210>)"
      ]
     },
     "metadata": {},
     "output_type": "display_data"
    },
    {
     "data": {
      "text/plain": [
       "1-element Array{Any,1}:\n",
       " PyObject <matplotlib.lines.Line2D object at 0x7f6c46167b50>"
      ]
     },
     "execution_count": 15,
     "metadata": {},
     "output_type": "execute_result"
    }
   ],
   "source": [
    "plot([deviations[1],deviations[2],deviations[3]])"
   ]
  },
  {
   "cell_type": "code",
   "execution_count": 23,
   "metadata": {
    "collapsed": false
   },
   "outputs": [
    {
     "data": {
      "text/plain": [
       "43.52727793882629"
      ]
     },
     "execution_count": 23,
     "metadata": {},
     "output_type": "execute_result"
    }
   ],
   "source": [
    "3/(xvec'*Qtheta*xvec)[1]"
   ]
  },
  {
   "cell_type": "code",
   "execution_count": 19,
   "metadata": {
    "collapsed": false
   },
   "outputs": [
    {
     "data": {
      "text/plain": [
       "-3.0"
      ]
     },
     "execution_count": 19,
     "metadata": {},
     "output_type": "execute_result"
    }
   ],
   "source": [
    "Q_of_x[3]"
   ]
  },
  {
   "cell_type": "code",
   "execution_count": 17,
   "metadata": {
    "collapsed": false
   },
   "outputs": [
    {
     "data": {
      "text/plain": [
       "57-element Array{Int64,1}:\n",
       "   2\n",
       "  14\n",
       "  16\n",
       "  17\n",
       "  18\n",
       "  19\n",
       "  20\n",
       "  21\n",
       "  23\n",
       "  26\n",
       "  36\n",
       "  37\n",
       "  43\n",
       "   ⋮\n",
       " 169\n",
       " 171\n",
       " 174\n",
       " 184\n",
       " 185\n",
       " 191\n",
       " 192\n",
       " 195\n",
       " 197\n",
       " 202\n",
       " 205\n",
       " 222"
      ]
     },
     "execution_count": 17,
     "metadata": {},
     "output_type": "execute_result"
    }
   ],
   "source": [
    "find(abs(float(round(A*xvec - b,10))).>0.0)"
   ]
  },
  {
   "cell_type": "code",
   "execution_count": 19,
   "metadata": {
    "collapsed": false
   },
   "outputs": [
    {
     "data": {
      "text/plain": [
       "(14,16)"
      ]
     },
     "execution_count": 19,
     "metadata": {},
     "output_type": "execute_result"
    }
   ],
   "source": [
    "line"
   ]
  },
  {
   "cell_type": "code",
   "execution_count": 25,
   "metadata": {
    "collapsed": false
   },
   "outputs": [
    {
     "data": {
      "text/plain": [
       "4x1 Array{Float64,2}:\n",
       " 0.0\n",
       " 1.0\n",
       " 0.0\n",
       " 0.0"
      ]
     },
     "execution_count": 25,
     "metadata": {},
     "output_type": "execute_result"
    }
   ],
   "source": [
    "A[end-2,nr + 14:nr+17]'"
   ]
  },
  {
   "cell_type": "code",
   "execution_count": 26,
   "metadata": {
    "collapsed": false
   },
   "outputs": [
    {
     "data": {
      "text/plain": [
       "3-element Array{Int64,1}:\n",
       "  31\n",
       "  33\n",
       " 274"
      ]
     },
     "execution_count": 26,
     "metadata": {},
     "output_type": "execute_result"
    }
   ],
   "source": [
    "find(A[end-2,:])"
   ]
  },
  {
   "cell_type": "code",
   "execution_count": 36,
   "metadata": {
    "collapsed": false
   },
   "outputs": [
    {
     "data": {
      "text/plain": [
       "1.0"
      ]
     },
     "execution_count": 36,
     "metadata": {},
     "output_type": "execute_result"
    }
   ],
   "source": [
    "A[end-2,274]"
   ]
  },
  {
   "cell_type": "code",
   "execution_count": 30,
   "metadata": {
    "collapsed": false
   },
   "outputs": [
    {
     "data": {
      "text/plain": [
       "31"
      ]
     },
     "execution_count": 30,
     "metadata": {},
     "output_type": "execute_result"
    }
   ],
   "source": [
    "nr + 14 - 1"
   ]
  },
  {
   "cell_type": "code",
   "execution_count": 31,
   "metadata": {
    "collapsed": false
   },
   "outputs": [
    {
     "data": {
      "text/plain": [
       "33"
      ]
     },
     "execution_count": 31,
     "metadata": {},
     "output_type": "execute_result"
    }
   ],
   "source": [
    "nr + 16 - 1"
   ]
  },
  {
   "cell_type": "code",
   "execution_count": 33,
   "metadata": {
    "collapsed": false
   },
   "outputs": [
    {
     "data": {
      "text/plain": [
       "274"
      ]
     },
     "execution_count": 33,
     "metadata": {},
     "output_type": "execute_result"
    }
   ],
   "source": [
    "(n+nr)*3 + 1"
   ]
  },
  {
   "cell_type": "code",
   "execution_count": 30,
   "metadata": {
    "collapsed": false
   },
   "outputs": [
    {
     "data": {
      "text/plain": [
       "3-element Array{FloatingPoint,1}:\n",
       " -29.6384\n",
       " -26.7127\n",
       " -29.151 "
      ]
     },
     "execution_count": 30,
     "metadata": {},
     "output_type": "execute_result"
    }
   ],
   "source": [
    "(A*xvec)[find(A*xvec-b.>2)]"
   ]
  },
  {
   "cell_type": "code",
   "execution_count": 33,
   "metadata": {
    "collapsed": false
   },
   "outputs": [
    {
     "data": {
      "text/plain": [
       "3-element Array{FloatingPoint,1}:\n",
       " -38.457 \n",
       " -36.7477\n",
       " -35.0384"
      ]
     },
     "execution_count": 33,
     "metadata": {},
     "output_type": "execute_result"
    }
   ],
   "source": [
    "(b)[find(A*xvec-b.>2)]"
   ]
  },
  {
   "cell_type": "code",
   "execution_count": 37,
   "metadata": {
    "collapsed": false
   },
   "outputs": [
    {
     "data": {
      "text/plain": [
       "3-element Array{FloatingPoint,1}:\n",
       " -0.0694731\n",
       "  0.174582 \n",
       "  0.264364 "
      ]
     },
     "execution_count": 37,
     "metadata": {},
     "output_type": "execute_result"
    }
   ],
   "source": [
    "x_star[find(A*xvec-b.>2)]"
   ]
  },
  {
   "cell_type": "code",
   "execution_count": 31,
   "metadata": {
    "collapsed": false
   },
   "outputs": [
    {
     "data": {
      "text/plain": [
       "3x276 Array{Float64,2}:\n",
       " 1.0  1.0  1.0  1.0  1.0  1.0  1.0  1.0  …  0.0  0.0  0.0  0.0  0.0  0.0  0.0\n",
       " 0.0  0.0  0.0  0.0  0.0  0.0  0.0  0.0     0.0  0.0  0.0  0.0  0.0  0.0  0.0\n",
       " 0.0  0.0  0.0  0.0  0.0  0.0  0.0  0.0     0.0  0.0  0.0  1.0  0.0  0.0  0.0"
      ]
     },
     "execution_count": 31,
     "metadata": {},
     "output_type": "execute_result"
    }
   ],
   "source": [
    "A[find(A*xvec-b.>2),:]"
   ]
  },
  {
   "cell_type": "code",
   "execution_count": 38,
   "metadata": {
    "collapsed": false
   },
   "outputs": [
    {
     "data": {
      "text/plain": [
       "1-element Array{FloatingPoint,1}:\n",
       " 0.00145869"
      ]
     },
     "execution_count": 38,
     "metadata": {},
     "output_type": "execute_result"
    }
   ],
   "source": [
    "xvec'*Qtheta*xvec"
   ]
  },
  {
   "cell_type": "code",
   "execution_count": 38,
   "metadata": {
    "collapsed": true
   },
   "outputs": [
    {
     "data": {
      "text/plain": [
       "225x2 Array{FloatingPoint,2}:\n",
       "  0.0          1.01329 \n",
       "  0.0          1.16974 \n",
       "  0.0         -1.17166 \n",
       "  0.0         -0.48354 \n",
       "  0.0         -0.464943\n",
       "  0.0         -0.89269 \n",
       "  0.0          0.781701\n",
       "  0.0         -0.315863\n",
       "  0.0         -1.13446 \n",
       "  0.0         -1.26464 \n",
       "  0.0          0.0     \n",
       "  0.0          0.0     \n",
       "  0.0          1.12341 \n",
       "  ⋮                    \n",
       "  0.0          0.0     \n",
       "  0.0          0.0     \n",
       "  0.0          0.0     \n",
       "  0.0          0.0     \n",
       "  0.0          0.0     \n",
       "  0.0          0.0     \n",
       "  0.0          0.0     \n",
       "  0.0          0.0     \n",
       "  0.0         -4.2711  \n",
       " -0.0074427    0.0     \n",
       " -0.0159076    0.0     \n",
       " -0.00441815   0.0     "
      ]
     },
     "execution_count": 38,
     "metadata": {},
     "output_type": "execute_result"
    }
   ],
   "source": [
    "[float(round(A*Qtheta*x_star,10)) b]"
   ]
  },
  {
   "cell_type": "code",
   "execution_count": 5,
   "metadata": {
    "collapsed": false
   },
   "outputs": [
    {
     "data": {
      "text/plain": [
       "-35.03837771131582"
      ]
     },
     "execution_count": 5,
     "metadata": {},
     "output_type": "execute_result"
    }
   ],
   "source": [
    "b[(n+1)*3]"
   ]
  },
  {
   "cell_type": "code",
   "execution_count": null,
   "metadata": {
    "collapsed": true
   },
   "outputs": [],
   "source": [
    "mismatch = "
   ]
  },
  {
   "cell_type": "code",
   "execution_count": null,
   "metadata": {
    "collapsed": true
   },
   "outputs": [],
   "source": [
    "for t = 1:T\n",
    "    start = (t-1)*n + 1\n",
    "    stop = start + n - 1\n",
    "    mismatch = -sum(netGen[start:stop])\n",
    "    append!(btest,netGen[start:stop])\n",
    "    push!(btest,mismatch)\n",
    "end"
   ]
  },
  {
   "cell_type": "code",
   "execution_count": 11,
   "metadata": {
    "collapsed": false
   },
   "outputs": [
    {
     "data": {
      "text/plain": [
       "-32.18825317566215"
      ]
     },
     "execution_count": 11,
     "metadata": {},
     "output_type": "execute_result"
    }
   ],
   "source": [
    "sum(Dp) - sum(Rp) -sum(Gp) - sum(deviations[1])"
   ]
  },
  {
   "cell_type": "code",
   "execution_count": 13,
   "metadata": {
    "collapsed": false
   },
   "outputs": [
    {
     "data": {
      "text/plain": [
       "-34.05679524740217"
      ]
     },
     "execution_count": 13,
     "metadata": {},
     "output_type": "execute_result"
    }
   ],
   "source": [
    "0.95*sum(Dp) - sum(Rp) - 0.95*sum(Gp) - sum(deviations[2])"
   ]
  },
  {
   "cell_type": "code",
   "execution_count": 14,
   "metadata": {
    "collapsed": false
   },
   "outputs": [
    {
     "data": {
      "text/plain": [
       "-32.39333568072359"
      ]
     },
     "execution_count": 14,
     "metadata": {},
     "output_type": "execute_result"
    }
   ],
   "source": [
    "0.9*sum(Dp) - sum(Rp) - 0.9*sum(Gp) - sum(deviations[3])"
   ]
  },
  {
   "cell_type": "code",
   "execution_count": 8,
   "metadata": {
    "collapsed": false
   },
   "outputs": [
    {
     "data": {
      "text/plain": [
       "1-element Array{FloatingPoint,1}:\n",
       " 0.000327967"
      ]
     },
     "execution_count": 8,
     "metadata": {},
     "output_type": "execute_result"
    }
   ],
   "source": [
    "x_star'*R_of_x[1]*x_star"
   ]
  },
  {
   "cell_type": "code",
   "execution_count": 6,
   "metadata": {
    "collapsed": false,
    "scrolled": false
   },
   "outputs": [
    {
     "data": {
      "text/html": [],
      "text/plain": [
       "Slider{Float64}([Input{Float64}] 7.5,\"c\",7.5,5.0:0.1:10.0)"
      ]
     },
     "metadata": {},
     "output_type": "display_data"
    },
    {
     "data": {
      "image/png": "[encoded data removed]",
      "text/plain": [
       "Figure(PyObject <matplotlib.figure.Figure object at 0x7fb9c6cd6dd0>)"
      ]
     },
     "execution_count": 6,
     "metadata": {
      "comm_id": "2fc853fd-d95d-4c72-9984-e0629730c394",
      "reactive": true
     },
     "output_type": "execute_result"
    }
   ],
   "source": [
    "mu_vals = linspace(0.5*minimum(poles),1.5*maximum(poles),1000)\n",
    "\n",
    "fig = figure()\n",
    "@manipulate for c = 5:0.1:10; withfig(fig) do\n",
    "        solutions,vectors = tr_solve_secular(D,d,Qtheta,c)\n",
    "        # mu = solutions[1]\n",
    "        # display(length(solutions))\n",
    "        # w = find_w(mu,D,d,Qtheta)\n",
    "        # (w'*w)[1]\n",
    "\n",
    "        s_vals = [sumabs2(find_w(mu,D,d,Qtheta)) for mu in mu_vals]\n",
    "        plot(mu_vals,s_vals)\n",
    "        hold = true\n",
    "        plot([mu_vals[1],mu_vals[end]],[c^2,c^2])\n",
    "        ylim([0,200]) #ylim([0,2*c^2])\n",
    "        xlim = [mu_vals[1],mu_vals[end]]\n",
    "        scatter(solutions,c^2*ones(length(solutions)))\n",
    "        legend([\"Secular Equation\",L\"y = c^2\",\"Found by algorithm\"],fontsize=10)\n",
    "    end\n",
    "end"
   ]
  },
  {
   "cell_type": "code",
   "execution_count": 23,
   "metadata": {
    "collapsed": false
   },
   "outputs": [
    {
     "data": {
      "text/plain": [
       "276x2 Array{FloatingPoint,2}:\n",
       " -1.66994e-16  -1.84714e-16\n",
       " -1.37027e-16  -1.14723e-16\n",
       "  9.42162e-17   3.73619e-17\n",
       " -1.35371e-16  -1.47949e-16\n",
       " -1.54887e-16  -1.52762e-16\n",
       " -4.87143e-17  -8.73745e-17\n",
       " -9.28709e-17  -5.375e-17  \n",
       "  7.02638e-17   9.16316e-17\n",
       "  1.13997e-16   1.31298e-16\n",
       " -1.74778e-16  -1.37299e-16\n",
       " -1.88262e-16  -1.48549e-16\n",
       " -4.06896e-16  -3.69955e-16\n",
       "  2.16001e-16   1.93536e-16\n",
       "  ⋮                        \n",
       " -0.154915     -0.154915   \n",
       "  0.631366      0.631366   \n",
       "  0.104064      0.104064   \n",
       " -0.203106     -0.203106   \n",
       "  0.0509949     0.0509949  \n",
       "  0.221324      0.221324   \n",
       " -0.0246545    -0.0246545  \n",
       "  0.123948      0.123948   \n",
       "  0.216208      0.216208   \n",
       "  0.47541       0.47541    \n",
       "  0.626996      0.626996   \n",
       "  0.491082      0.491082   "
      ]
     },
     "execution_count": 23,
     "metadata": {},
     "output_type": "execute_result"
    }
   ],
   "source": [
    "[Reigvec*Rkernel*Qobj*x_star d./2]"
   ]
  },
  {
   "cell_type": "markdown",
   "metadata": {},
   "source": [
    "# Can we ignore linear terms in the constraint?\n",
    "\n",
    "I don't think so. It looks like there is a leftover linear term after translating both quadratics. If this is the case, then after the two rotations we have something like\n",
    "\n",
    "\\begin{align}\n",
    "& \\min & w^\\top Q_{obj} w + w^\\top d & \\\\\n",
    "& s.t. & w^\\top Q_{\\theta} w + w^\\top d_2 &= \\bar{c}\n",
    "\\end{align}\n",
    "\n",
    "Now the Lagrange condition is\n",
    "\n",
    "\\begin{align}\n",
    "2 w^\\top Q_{obj} + d &= \\mu("
   ]
  }
 ],
 "metadata": {
  "kernelspec": {
   "display_name": "Julia",
   "language": "julia",
   "name": "julia"
  },
  "language_info": {
   "name": "julia",
   "version": "0.3.6"
  }
 },
 "nbformat": 4,
 "nbformat_minor": 0
}
