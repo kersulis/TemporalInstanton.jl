{
 "cells": [
  {
   "cell_type": "markdown",
   "metadata": {},
   "source": [
    "## What's happening\n",
    "\n",
    "To recreate problem: \n",
    "\n",
    "1. Run temporal instanton analysis with a line temperature limit of 65 C, then feed the instanton decision variable vector into temperature trajectory plotting code.\n",
    "2. Feed a vector of zeros into the same code.\n",
    "3. Note that the angle differences are higher when there are no wind deviations than for the instanton pattern. This means the final temperature is higher when there are no wind deviations, which makes no sense.\n",
    "4. Increase the line thermal limit and re-run optimization. Now all the trajectories will be shifted up; zero vector will still produce higher final temperature than instanton.\n",
    "\n",
    "Explanation:\n",
    "\n",
    "Angle differences are calculated "
   ]
  }
 ],
 "metadata": {
  "kernelspec": {
   "display_name": "Julia",
   "language": "julia",
   "name": "julia"
  },
  "language_info": {
   "name": "julia",
   "version": "0.3.7"
  }
 },
 "nbformat": 4,
 "nbformat_minor": 0
}
