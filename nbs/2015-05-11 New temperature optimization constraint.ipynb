{
 "cells": [
  {
   "cell_type": "markdown",
   "metadata": {},
   "source": [
    "# New temperature constraint\n",
    "\n",
    "Here's the new temperature constraint:\n",
    "\n",
    "\\begin{align}\n",
    "\\sum_{k=1}^n \\hat{\\theta}_{ij}(t_{k})^2 &= \\frac{a}{c}\\left(T(t_n) - f\\right)\n",
    "\\end{align}\n",
    "\n",
    "where\n",
    "\n",
    "* $\\hat{\\theta}_{ij}(t_{k})=  \\theta_{ij}(t_k)\\sqrt{ (e^{(t_1-t_0)a})^{n-k+1} - (e^{(t_1-t_0)a})^{n-k} } $\n",
    "    * $\\theta_{ij}(t_k)$ is the angle difference across line $ij$ at time interval $t_k$.\n",
    "    * $t_1-t_0$ is the length of each time interval (in seconds)\n",
    "* $a = \\frac{1}{mC_p}\\left[ -\\eta_c - 4\\eta_r(T_\\text{mid} + 273)^3 \\right]$ has units of $s^{-1}$\n",
    "    * $mC_p$ is the heat capacity, with units of J/m-$^\\circ$C\n",
    "    * $\\eta_c$ is the conductive heat loss rate coefficient, with units of W/m-$^\\circ$C\n",
    "    * $\\eta_r$ is the conductive heat loss rate coefficient, with units of W/m-$^\\circ$C$^4$\n",
    "    * $T_\\text{mid}$ is the average of ambient temperature $T_\\text{amb}$ and limit temperature $T_\\text{lim}$, in Celsius\n",
    "* $c = \\frac{r_{ij}S_b}{3 mC_p x_{ij}^2L_{ij}}$ is a constant with units of W/m\n",
    "    * $r_{ij}$ is resistance of line $ij$ in per unit\n",
    "    * $x_{ij}$ is reactance of line $ij$ in per unit\n",
    "    * $S_b$ is the system base (e.g. 100 MVA)\n",
    "    * $L_{ij}$ is the length of one phase of line $ij$, in m\n",
    "* $f = (e^{(t_1 - t_0)a})^n T(t_0) + \\frac{d}{a}\\left[ \\sum_{i=1}^n \\left( (e^{(t_1-t_0)a})^i - (e^{(t_1-t_0)a})^{i-1} \\right)\\right]$ is a constant with units of degrees Celsius\n",
    "    * $T(t_0)$ is the line's initial temperature (steady state temperature under base case power flow condition)\n",
    "    * $d = \\frac{1}{mC_p}\\left[ \\eta_cT_\\text{amb} - \\eta_r\\left((T_\\text{mid} + 273)^4 - (T_\\text{amb} + 273)^4\\right) + 4\\eta_rT_\\text{mid}(T_\\text{mid} + 273)^3 + q_s \\right]$ \n",
    "    \n",
    "    is a constant with units of W/m\n",
    "        * $q_s$ is the solar heat gain rate in W/m"
   ]
  },
  {
   "cell_type": "markdown",
   "metadata": {},
   "source": [
    "To replace the current thermal constraint, I only need to consider the elements it affects: `A2` and `b`, and `Qtheta`.\n",
    "\n"
   ]
  }
 ],
 "metadata": {
  "kernelspec": {
   "display_name": "Julia",
   "language": "julia",
   "name": "julia"
  },
  "language_info": {
   "name": "julia",
   "version": "0.3.7"
  }
 },
 "nbformat": 4,
 "nbformat_minor": 0
}
