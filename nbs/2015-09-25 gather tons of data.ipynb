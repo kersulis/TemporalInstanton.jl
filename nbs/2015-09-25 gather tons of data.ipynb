{
 "cells": [
  {
   "cell_type": "markdown",
   "metadata": {},
   "source": [
    "Run this overnight to gather a ton of data and make the figures smoother."
   ]
  },
  {
   "cell_type": "code",
   "execution_count": 17,
   "metadata": {
    "collapsed": false,
    "scrolled": false
   },
   "outputs": [
    {
     "name": "stderr",
     "output_type": "stream",
     "text": [
      "WARNING: Base.String is deprecated, use AbstractString instead.\n",
      "WARNING: Base.String is deprecated, use AbstractString instead.\n",
      "WARNING: Union(args...) is deprecated, use Union{args...} instead.\n",
      " in depwarn at deprecated.jl:73\n",
      " in call at deprecated.jl:50\n",
      " in include at ./boot.jl:261\n",
      " in include_from_node1 at ./loading.jl:304\n",
      " in include at ./boot.jl:261\n",
      " in include_from_node1 at ./loading.jl:304\n",
      " in eval at ./sysimg.jl:14\n",
      " in anonymous at multi.jl:1350\n",
      "while loading /home/jkersulis/Documents/Dropbox/InstantonAnew/Jonas Edits/Time-Coupled Instanton/temporal-instanton/src/manipulations.jl, in expression starting on line 451\n",
      "WARNING: Union(args...) is deprecated, use Union{args...} instead.\n",
      " in depwarn at deprecated.jl:73\n",
      " in call at deprecated.jl:50\n",
      " in include at ./boot.jl:261\n",
      " in include_from_node1 at ./loading.jl:304\n",
      " in include at ./boot.jl:261\n",
      " in include_from_node1 at ./loading.jl:304\n",
      " in eval at ./sysimg.jl:14\n",
      " in anonymous at multi.jl:1350\n",
      "while loading /home/jkersulis/Documents/Dropbox/InstantonAnew/Jonas Edits/Time-Coupled Instanton/temporal-instanton/src/manipulations.jl, in expression starting on line 452\n",
      "WARNING: Base.String is deprecated, use AbstractString instead.\n",
      "WARNING: Base.String is deprecated, use AbstractString instead.\n",
      "WARNING: Base.String is deprecated, use AbstractString instead.\n",
      "WARNING: Base.String is deprecated, use AbstractString instead.\n",
      "WARNING: Union(args...) is deprecated, use Union{args...} instead.WARNING: Union(args...) is deprecated, use Union{args...} instead.\n",
      " in depwarn at deprecated.jl:73\n",
      " in call at deprecated.jl:50\n",
      " in include_string at loading.jl:266\n",
      " in include_from_node1 at ./loading.jl:307\n",
      " in include_string at loading.jl:266\n",
      " in include_from_node1 at ./loading.jl:307\n",
      " in eval at ./sysimg.jl:14\n",
      " in anonymous at multi.jl:1350\n",
      " in anonymous at multi.jl:892\n",
      " in run_work_thunk at multi.jl:645\n",
      " [inlined code] from multi.jl:892\n",
      " in anonymous at task.jl:63\n",
      "while loading /home/jkersulis/Documents/Dropbox/InstantonAnew/Jonas Edits/Time-Coupled Instanton/temporal-instanton/src/manipulations.jl, in expression starting on line 451\n",
      "WARNING: Union(args...) is deprecated, use Union{args...} instead.\n",
      " in depwarn at deprecated.jl:73\n",
      " in call at deprecated.jl:50\n",
      " in include_string at loading.jl:266\n",
      " in include_from_node1 at ./loading.jl:307\n",
      " in include_string at loading.jl:266\n",
      " in include_from_node1 at ./loading.jl:307\n",
      " in eval at ./sysimg.jl:14\n",
      " in anonymous at multi.jl:1350\n",
      " in anonymous at multi.jl:892\n",
      " in run_work_thunk at multi.jl:645\n",
      " [inlined code] from multi.jl:892\n",
      " in anonymous at task.jl:63\n",
      "while loading /home/jkersulis/Documents/Dropbox/InstantonAnew/Jonas Edits/Time-Coupled Instanton/temporal-instanton/src/manipulations.jl, in expression starting on line 452\n",
      "\n",
      " in depwarn at deprecated.jl:73\n",
      " in call at deprecated.jl:50\n",
      " in include_string at loading.jl:266\n",
      " in include_from_node1 at ./loading.jl:307\n",
      " in include_string at loading.jl:266\n",
      " in include_from_node1 at ./loading.jl:307\n",
      " in eval at ./sysimg.jl:14\n",
      " in anonymous at multi.jl:1350\n",
      " in anonymous at multi.jl:892\n",
      " in run_work_thunk at multi.jl:645\n",
      " [inlined code] from multi.jl:892\n",
      " in anonymous at task.jl:63\n",
      "while loading /home/jkersulis/Documents/Dropbox/InstantonAnew/Jonas Edits/Time-Coupled Instanton/temporal-instanton/src/manipulations.jl, in expression starting on line 451\n",
      "WARNING: Union(args...) is deprecated, use Union{args...} instead.\n",
      " in depwarn at deprecated.jl:73\n",
      " in call at deprecated.jl:50\n",
      " in include_string at loading.jl:266\n",
      " in include_from_node1 at ./loading.jl:307\n",
      " in include_string at loading.jl:266\n",
      " in include_from_node1 at ./loading.jl:307\n",
      " in eval at ./sysimg.jl:14\n",
      " in anonymous at multi.jl:1350\n",
      " in anonymous at multi.jl:892\n",
      " in run_work_thunk at multi.jl:645\n",
      " [inlined code] from multi.jl:892\n",
      " in anonymous at task.jl:63\n",
      "while loading /home/jkersulis/Documents/Dropbox/InstantonAnew/Jonas Edits/Time-Coupled Instanton/temporal-instanton/src/manipulations.jl, in expression starting on line 452\n",
      "WARNING: using TemporalInstanton.mat2tmpinst in module Main conflicts with an existing identifier.\n",
      "WARNING: using TemporalInstanton.mat2tmpinst in module Main conflicts with an existing identifier.\n",
      "WARNING: using TemporalInstanton.mat2tmpinst in module Main conflicts with an existing identifier.\n"
     ]
    }
   ],
   "source": [
    "addprocs(2) # vary number of concurrent processes here\n",
    "@everywhere include(\"../src/TemporalInstanton.jl\")\n",
    "@everywhere include(\"../src/mat2tmpinst.jl\")\n",
    "@everywhere using TemporalInstanton"
   ]
  },
  {
   "cell_type": "code",
   "execution_count": 18,
   "metadata": {
    "collapsed": false
   },
   "outputs": [
    {
     "name": "stdout",
     "output_type": "stream",
     "text": [
      "  "
     ]
    },
    {
     "data": {
      "text/plain": [
       "104-element Array{Float64,1}:\n",
       "    0.263788\n",
       "    0.327316\n",
       "    1.28861 \n",
       "    2.20415 \n",
       "    2.32297 \n",
       "    2.42316 \n",
       "    4.67876 \n",
       "    4.86524 \n",
       "    4.89917 \n",
       "    5.67827 \n",
       "    5.93862 \n",
       "    6.43917 \n",
       "    6.46089 \n",
       "    ⋮       \n",
       "  178.086   \n",
       "  303.003   \n",
       "  370.614   \n",
       "  370.614   \n",
       "  391.307   \n",
       "  428.944   \n",
       "  923.98    \n",
       "  979.199   \n",
       " 1319.85    \n",
       " 1390.03    \n",
       " 1967.27    \n",
       " 1967.27    "
      ]
     },
     "execution_count": 18,
     "metadata": {},
     "output_type": "execute_result"
    },
    {
     "name": "stdout",
     "output_type": "stream",
     "text": [
      "9.057214 seconds (2.98 M allocations: 143.011 MB, 0.39% gc time)\n"
     ]
    },
    {
     "name": "stderr",
     "output_type": "stream",
     "text": [
      "WARNING: Base.Uint8 is deprecated, use UInt8 instead.\n",
      "WARNING: Base.Uint8 is deprecated, use UInt8 instead.\n",
      "WARNING: Base.Uint8 is deprecated, use UInt8 instead.\n",
      "WARNING: Base.Uint8 is deprecated, use UInt8 instead.\n",
      "WARNING: Base.Uint8 is deprecated, use UInt8 instead.\n",
      "WARNING: Base.Uint8 is deprecated, use UInt8 instead.\n"
     ]
    }
   ],
   "source": [
    "# compile everything with this run:\n",
    "inputData = load_rts96_data(return_as_type=true);\n",
    "# Thermal model parameters:\n",
    "inputData.Tamb = 35. # C\n",
    "inputData.T0 = 60. #46. # initial line steady-state temp\n",
    "\n",
    "inputData.time_values = 0:30:300 # five minutes in 30-sec steps\n",
    "inputData.int_length = 300. # seconds = 5 min\n",
    "Gp,Dp,Rp = inputData.G0,inputData.D0,inputData.R0\n",
    "inputData.G0 = [0.7*Gp;0.7*Gp;0.7*Gp;0.7*Gp;0.7*Gp;0.7*Gp]\n",
    "inputData.D0 = [0.9*Dp;0.9*Dp;0.9*Dp;0.9*Dp;0.9*Dp;0.9*Dp]\n",
    "inputData.R0 = [Rp;1.1*Rp;1.2*Rp;1.3*Rp;1.4*Rp;1.5*Rp]\n",
    "\n",
    "@time results = solve_temporal_instanton(inputData);\n",
    "\n",
    "n = length(inputData.k)\n",
    "nr = length(inputData.Ridx)\n",
    "T = convert(Int64,length(inputData.G0)/n)\n",
    "outputData = process_instanton_results(results,n,nr,T,return_as_type=true);\n",
    "\n",
    "sort(outputData.score)"
   ]
  },
  {
   "cell_type": "code",
   "execution_count": null,
   "metadata": {
    "collapsed": false,
    "scrolled": false
   },
   "outputs": [
    {
     "name": "stderr",
     "output_type": "stream",
     "text": [
      "WARNING: No solution for secular equation; num elements too large\n",
      "WARNING: No solution for secular equation; num elements too large\n",
      "WARNING: No solution for secular equation; solver returned []\n",
      "WARNING: No solution for secular equation; solver returned []\n",
      "ERROR (unhandled task failure): InterruptException:\n",
      " in process_events at ./stream.jl:708\n",
      " in wait at ./task.jl:360\n",
      " in wait at ./task.jl:286\n",
      " in wait at ./channels.jl:93\n",
      " in take! at ./channels.jl:82\n",
      " in take! at ./multi.jl:792\n",
      " in remotecall_fetch at multi.jl:729\n",
      " in remotecall_fetch at multi.jl:734\n",
      " in anonymous at multi.jl:1485\n"
     ]
    }
   ],
   "source": [
    "using JLD\n",
    "\n",
    "include(\"../src/mat2tmpinst.jl\")\n",
    "case = \"case2383wp\"\n",
    "mpc = loadcase(case,describe=false)\n",
    "maxLines = 2\n",
    "reps = 1\n",
    "line_times_2383 = Vector{Vector{Float64}}()\n",
    "num_farms_vec = collect(400:100:2300)\n",
    "\n",
    "for rep in 1:reps\n",
    "    gen_count = Vector{Int64}()\n",
    "    push!(gen_count,length(unique(mpc[\"gen\"][:,1])))\n",
    "\n",
    "    score_output = Array(Vector{Float64},0)\n",
    "    sec_elapsed = Vector{Float64}()\n",
    "    line_times = Vector{Vector{Float64}}()\n",
    "    bytes_alloc = Vector{Float64}()\n",
    "    sec_in_gc = Vector{Float64}()\n",
    "    wind_count = Vector{Int64}()\n",
    "\n",
    "    for i in 1:length(num_farms_vec)\n",
    "        num_farms = num_farms_vec[i]\n",
    "#         println(\"wind farms: $num_farms\")\n",
    "        push!(wind_count,num_farms)\n",
    "        penetration = 0.7\n",
    "        d = mat2tmpinst(case,num_farms,penetration)\n",
    "\n",
    "        # Thermal model parameters:\n",
    "        d.Tamb = 35. # C\n",
    "        d.T0 = 60. #46. # initial line steady-state temp\n",
    "\n",
    "        d.time_values = 0:600:3600 # one hour in 10-minute steps\n",
    "        d.int_length = 3600. # seconds = one hour\n",
    "        \n",
    "#         d.time_values = 0:30:300 # five minutes in 30-sec steps\n",
    "#         d.int_length = 300. # seconds = 5 min\n",
    "        \n",
    "        Gp,Dp,Rp = (d.G0, d.D0, d.R0)\n",
    "        d.G0 = [Gp;Gp;Gp;Gp;Gp;Gp]\n",
    "        d.D0 = [Dp;Dp;Dp;Dp;Dp;Dp]\n",
    "        d.R0 = [Rp;Rp;Rp;Rp;Rp;Rp]\n",
    "\n",
    "        n = length(d.k)\n",
    "        nr = length(d.Ridx)\n",
    "        T = convert(Int64,length(d.G0)/n)\n",
    "\n",
    "        timed_results = @timed solve_temporal_instanton(d,maxLines);\n",
    "        results = timed_results[1]\n",
    "        o = process_instanton_results(results,n,nr,T,return_as_type=true);\n",
    "        push!(score_output,o.score)\n",
    "        push!(sec_elapsed,timed_results[2])\n",
    "        push!(bytes_alloc,timed_results[3])\n",
    "        push!(sec_in_gc,timed_results[4])\n",
    "        push!(line_times,o.linetimes)\n",
    "    end\n",
    "\n",
    "    lines_processed = []\n",
    "    for score_vec in score_output\n",
    "        push!(lines_processed, sum(score_vec.!=Inf))\n",
    "    end\n",
    "    lt = [mean(line_times[i]) for i in 1:length(line_times)]\n",
    "    push!(line_times_2383, lt)\n",
    "    save(\"../data/$(now()).jld\",\"lt\",lt)\n",
    "end"
   ]
  },
  {
   "cell_type": "code",
   "execution_count": 14,
   "metadata": {
    "collapsed": false
   },
   "outputs": [],
   "source": [
    "load(\"../data/\")"
   ]
  },
  {
   "cell_type": "code",
   "execution_count": null,
   "metadata": {
    "collapsed": true
   },
   "outputs": [],
   "source": [
    "using PyPlot\n",
    "PyPlot.svg(true)\n",
    "\n",
    "x = collect(400:100:2300)\n",
    "y = load(\"../data/\")"
   ]
  },
  {
   "cell_type": "code",
   "execution_count": null,
   "metadata": {
    "collapsed": true
   },
   "outputs": [],
   "source": [
    "run(`ls ../data/2015*.jld`)"
   ]
  }
 ],
 "metadata": {
  "kernelspec": {
   "display_name": "Julia 0.4.0-rc2",
   "language": "julia",
   "name": "julia-0.4"
  },
  "language_info": {
   "file_extension": ".jl",
   "mimetype": "application/julia",
   "name": "julia",
   "version": "0.4.0"
  }
 },
 "nbformat": 4,
 "nbformat_minor": 0
}
