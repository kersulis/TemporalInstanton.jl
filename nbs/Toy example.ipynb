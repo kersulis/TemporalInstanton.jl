{
 "cells": [
  {
   "cell_type": "markdown",
   "metadata": {},
   "source": [
    "# Translating power system data into QCQP\n",
    "\n",
    "1. `GEN_EST` = `CONV_GEN` + `WIND_FCST`\n",
    "\n",
    "2. `OBJ`: $\\min\\lVert $ `DEV` $\\rVert$ $$\\min Q(x)$$\n",
    "\n",
    "3. Power balance: `ADMTNCE`$\\times$ `THETA` - $I\\times$ `DEV` = `GEN_EST` - `DEMAND` $$Ax=b$$\n",
    "\n",
    "4. Temp. constraint: $\\lVert$ `THETA_i` - `THETA_k` $\\rVert$ = $\\Delta T_{lim}$"
   ]
  },
  {
   "cell_type": "markdown",
   "metadata": {},
   "source": [
    "## Toy example\n",
    "\n",
    "Two renewable nodes, three total buses, two time steps.\n",
    "\n",
    "**Variables:**\n",
    "\n",
    "* Angles\n",
    "    * Bus 1 time 1\n",
    "    * Bus 1 time 2\n",
    "    * Bus 2 time 1\n",
    "    * Bus 2 time 2\n",
    "* Deviations\n",
    "    * Bus 1 time 1\n",
    "    * Bus 1 time 2\n",
    "    * Bus 2 time 1\n",
    "    * Bus 2 time 2\n",
    "\n",
    "**Data input:**\n",
    "\n",
    "* Generation\n",
    "    * `GEN_EST` time 1\n",
    "    * `GEN_EST` time 2\n",
    "* Demand\n",
    "    * Demand time 1\n",
    "    * Demand time 2\n",
    "* Parameters\n",
    "    * Admittance matrix\n",
    "    * $\\Delta T_{lim}$"
   ]
  },
  {
   "cell_type": "markdown",
   "metadata": {},
   "source": [
    "## Low-dimensional manifestation\n",
    "\n",
    "$$\\begin{align}\n",
    "\\min x^\\top x &\\\\\n",
    "s.t.&\\\\\n",
    "\\begin{bmatrix}Y & 0\\\\ 0 & Y\\end{bmatrix}\\theta - x &= G - D \\\\\n",
    "\\theta^\\top Q\\theta &= c\n",
    "\\end{align}$$\n",
    "\n",
    "where\n",
    "\n",
    "* $x = \\begin{bmatrix}dev_1^{(1)} & dev_2^{(1)} & dev_1^{(2)} & dev_2^{(2)}\\end{bmatrix}$ is the vector of deviations from wind forecast.\n",
    "\n",
    "* $Y$ is the admittance matrix.\n",
    "\n",
    "* $\\theta = \\begin{bmatrix} \\theta_1^{(1)} & \\theta_2^{(1)} & \\theta_1^{(2)} & \\theta_2^{(2)}\\end{bmatrix}^\\top$ is the vector of angles.\n",
    "\n",
    "* $c$ is a scaled and derated version of the line temperature constraint:\n",
    "$$c = \\left(\\Delta T_{12} - \\delta_{12}\\begin{bmatrix} \\tau & 1\\end{bmatrix}\\begin{bmatrix}\\Delta d_{12}^{(1)} \\\\ \\Delta d_{12}^{(2)}\\end{bmatrix}\\right)\\left(\\frac{x_{12}^2}{\\rho_{12}r_{12}}\\right)$$\n",
    "\n",
    "* $Q$ is symmetrix and block diagonal as shown:\n",
    "$$\\begin{align}\n",
    "(\\tau)\\left[\\left(\\theta_1^{(1)} - \\theta_2^{(1)}\\right)^2\\right] + (1)\\left[\\left(\\theta_1^{(2)} - \\theta_2^{(2)}\\right)^2\\right]\n",
    "&= \\begin{bmatrix} \\theta_1^{(1)} & \\theta_2^{(1)} & \\theta_1^{(2)} & \\theta_2^{(2)}\\end{bmatrix} \\underbrace{\\begin{bmatrix} \\tau & - \\tau & 0 & 0 \\\\ -\\tau & \\tau & 0 & 0 \\\\ 0 & 0 & 1 & -1 \\\\ 0 & 0 & -1 & 1 \\end{bmatrix}}_Q \\begin{bmatrix} \\theta_1^{(1)} \\\\ \\theta_2^{(1)} \\\\ \\theta_1^{(2)} \\\\ \\theta_2^{(2)}\\end{bmatrix}\n",
    "\\end{align}$$"
   ]
  },
  {
   "cell_type": "markdown",
   "metadata": {},
   "source": [
    "The form of the problem suggests that we eliminate bus angles completely."
   ]
  },
  {
   "cell_type": "markdown",
   "metadata": {},
   "source": [
    "## General Problem\n",
    "\n",
    "$$\n",
    "\\begin{align}\n",
    "(P)& & \\min x^\\top x &\\\\\n",
    "&& s.t.&\\\\\n",
    "&&\\text{diag }(Y,Y,\\cdots,Y)\\theta - x &= G - D \\\\\n",
    "&&\\theta^\\top Q\\theta &= c\n",
    "\\end{align}\n",
    "$$\n",
    "\n",
    "* $x\\in \\mathbb{R}^{mT\\times1}$, where $m$ is the number of nodes in the network and $T$ is the number of time steps, is the vector of decision variables:\n",
    "$$\n",
    "\\begin{align}\n",
    "x = \\begin{bmatrix} dev_1^{(1)} & dev_2^{(1)} & \\cdots & dev_n^{(1)} &\n",
    "dev_1^{(2)} & dev_2^{(2)} & \\cdots & dev_n^{(T)} \\end{bmatrix}^\\top\n",
    "\\end{align}\n",
    "$$\n",
    "These variables represent deviation from wind forecast at each wind farm. Of course, the deviation at a node without a wind farm is identically zero.\n",
    "\n",
    "* $Y\\in\\mathbb{R}^{m\\times m}$ is the admittance matrix.\n",
    "\n",
    "* $\\theta\\in\\mathbb{R}^{mT\\times 1}$, where $m$ is the number of nodes in the network, is the vector of angle variables, which are internal. (If we assume bus $i$ is the system slack bus, then $T$ of the angle variables --those corresponding to node $i$-- are identically zero, and we remove row $i$ and column $i$ from $Y$.)\n",
    "$$\n",
    "\\begin{align}\n",
    "\\theta = \\begin{bmatrix} \\theta_1^{(1)} & \\theta_2^{(1)} & \\cdots & \\theta_{m-1}^{(1)} &\n",
    "\\theta_1^{(2)} & \\theta_2^{(2)} & \\cdots & \\theta_{m-1}^{(T)} \\end{bmatrix}^\\top\n",
    "\\end{align}\n",
    "$$\n",
    "\n",
    "* $G$ and $D$ are $mT\\times 1$ vectors of conventional generation and demand, respectively, at each node.\n",
    "\n",
    "* $c_{ik}$ is a scaled and derated version of the temperature constraint for line $i\\to k$:\n",
    "$$\n",
    "\\begin{align}\n",
    "c_{ik} &= \\left(\\Delta T_{ik}^{lim} - \\delta_{ik}\\begin{bmatrix} \\tau^{T-1} & \\tau^{T-2} & \\cdots & \\tau & 1\\end{bmatrix}\\begin{bmatrix}\\Delta d_{ik}^{(1)} \\\\ \\Delta d_{ik}^{(2)} \\\\ \\vdots \\\\ \\Delta d_{ik}^{(T)}\\end{bmatrix}\\right)\\left(\\frac{x_{ik}^2}{\\rho_{ik}r_{ik}}\\right)\n",
    "\\end{align}\n",
    "$$\n",
    "\n",
    "* $Q\\in\\mathbb{R}^{(m-1)T\\times (m-1)T}$ is a symmetric block-diagonal matrix that may be expressed as:\n",
    "$$\n",
    "\\begin{align}\n",
    "Q &= \\text{diag}\\left( \\tau^{T-1} q_{ik}q_{ik}^\\top, \\tau^{T-2} q_{ik}q_{ik}^\\top,\\cdots, q_{ik}q_{ik}^\\top \\right),\\quad q_{ik} = e_i - e_k~,\n",
    "\\end{align}\n",
    "$$\n",
    "where $e_i\\in\\mathbb{R}^{(m-1)T\\times 1}$ is a vector with 1 in the $i$-th position and 0 everywhere else."
   ]
  },
  {
   "cell_type": "markdown",
   "metadata": {},
   "source": [
    "Note: If we had $\\theta^\\top Q\\theta - c \\leq 0$ instead of $\\theta^\\top Q\\theta = 0$, we could consider $(P)$ to be a convex problem and the KKT conditions to be sufficient for optimality."
   ]
  },
  {
   "cell_type": "markdown",
   "metadata": {},
   "source": [
    "### Question: Can we eliminate the deviation variables, expressing everything in terms of $\\theta$?\n",
    "\n",
    "\\begin{align}\n",
    "&(P)&  \\min \\left( \\text{diag }(Y,Y,\\cdots,Y)\\theta - G + D \\right)^\\top \\left( \\text{diag }(Y,Y,\\cdots,Y)\\theta - G + D \\right) &\\\\\n",
    "&& s.t.&\\\\\n",
    "&&\\theta^\\top Q\\theta &= c\n",
    "\\end{align}"
   ]
  }
 ],
 "metadata": {
  "kernelspec": {
   "display_name": "Julia",
   "language": "julia",
   "name": "julia"
  },
  "language_info": {
   "name": "julia",
   "version": "0.3.6"
  }
 },
 "nbformat": 4,
 "nbformat_minor": 0
}
