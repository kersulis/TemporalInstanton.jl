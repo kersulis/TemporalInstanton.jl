{
 "cells": [
  {
   "cell_type": "markdown",
   "metadata": {},
   "source": [
    "## Removing non-wind rows/cols of $Q_{obj}$\n",
    "\n"
   ]
  },
  {
   "cell_type": "code",
   "execution_count": 45,
   "metadata": {
    "collapsed": false
   },
   "outputs": [
    {
     "data": {
      "text/plain": [
       "tmp_inst_Qobj (generic function with 1 method)"
      ]
     },
     "execution_count": 45,
     "metadata": {},
     "output_type": "execute_result"
    }
   ],
   "source": [
    "function tmp_inst_Qobj(n,nr,T)\n",
    "    \"\"\" Generate the objective function matrix\n",
    "    Qobj from the problem dimensions.\n",
    "    Assume no correlation between wind sites.\n",
    "    \"\"\"\n",
    "    return sparse(diagm(repeat([ones(nr),zeros(n)],outer=[T])))\n",
    "end"
   ]
  },
  {
   "cell_type": "code",
   "execution_count": 46,
   "metadata": {
    "collapsed": false
   },
   "outputs": [
    {
     "data": {
      "text/plain": [
       "10x10 Array{Float64,2}:\n",
       " 1.0  0.0  0.0  0.0  0.0  0.0  0.0  0.0  0.0  0.0\n",
       " 0.0  0.0  0.0  0.0  0.0  0.0  0.0  0.0  0.0  0.0\n",
       " 0.0  0.0  0.0  0.0  0.0  0.0  0.0  0.0  0.0  0.0\n",
       " 0.0  0.0  0.0  0.0  0.0  0.0  0.0  0.0  0.0  0.0\n",
       " 0.0  0.0  0.0  0.0  0.0  0.0  0.0  0.0  0.0  0.0\n",
       " 0.0  0.0  0.0  0.0  0.0  1.0  0.0  0.0  0.0  0.0\n",
       " 0.0  0.0  0.0  0.0  0.0  0.0  0.0  0.0  0.0  0.0\n",
       " 0.0  0.0  0.0  0.0  0.0  0.0  0.0  0.0  0.0  0.0\n",
       " 0.0  0.0  0.0  0.0  0.0  0.0  0.0  0.0  0.0  0.0\n",
       " 0.0  0.0  0.0  0.0  0.0  0.0  0.0  0.0  0.0  0.0"
      ]
     },
     "execution_count": 46,
     "metadata": {},
     "output_type": "execute_result"
    }
   ],
   "source": [
    "n = 4\n",
    "nr = 1\n",
    "T = 2\n",
    "\n",
    "Qobj = tmp_inst_Qobj(n,nr,T)\n",
    "full(Qobj)"
   ]
  },
  {
   "cell_type": "markdown",
   "metadata": {},
   "source": [
    "## Removing non-wind columns of $A$\n",
    "\n",
    "Only a small subset of the nodes in a transmission network will have wind farms. The previous development of $A$ assumed wind farms at all nodes and resulted in a matrix with $2nT$ columns. There are, however, only $(n+n_R T)$ variables, where $n_R$ is the number of wind farms. This may be broken down into $(n-1)$ angle variables, $1$ mismatch variable, and $n_R$ wind deviation variables per time step.\n",
    "\n",
    "The function that generates $A$ must accept an additional argument: a vector indicating which ndoes have wind farms."
   ]
  },
  {
   "cell_type": "code",
   "execution_count": 12,
   "metadata": {
    "collapsed": false
   },
   "outputs": [
    {
     "data": {
      "text/plain": [
       "tmp_inst_A (generic function with 1 method)"
      ]
     },
     "execution_count": 12,
     "metadata": {},
     "output_type": "execute_result"
    }
   ],
   "source": [
    "function tmp_inst_A(n,Ridx,T,Y,k)\n",
    "    \"\"\" Generate the power balance constraint A matrix\n",
    "    from problem dimensions, admittance matrix,\n",
    "    and generator participation factors.\n",
    "    Assumes the admittance matrix is (n-1)-by-(n-1).\n",
    "    \"\"\"\n",
    "    # A = zeros((n+1)*T,2*n*T)\n",
    "    \n",
    "    # A has a block diagonal pattern where each\n",
    "    # block is Atemp:\n",
    "    Atemp = zeros((n+1),2*n)\n",
    "    Atemp[1:n,1:n] = -eye(n)\n",
    "    Atemp[end,1:n] = ones(1,n)\n",
    "    Atemp[1:n-1,n+1:2n-1] = Y\n",
    "    Atemp[:,2*n] = [-k,1]\n",
    "    \n",
    "    # Remove columns corresponding to non-wind nodes:\n",
    "    Atemp = sparse(Atemp[:,[Ridx,n+1:2*n]])\n",
    "    \n",
    "    # Now we can tile the Atemp matrix to generate A:\n",
    "    A = Atemp\n",
    "    for t = 2:T\n",
    "        A = blkdiag(A, Atemp)\n",
    "    end\n",
    "    \n",
    "    return A\n",
    "end"
   ]
  },
  {
   "cell_type": "code",
   "execution_count": 15,
   "metadata": {
    "collapsed": false,
    "scrolled": true
   },
   "outputs": [
    {
     "data": {
      "text/plain": [
       "10x12 Array{Float64,2}:\n",
       " -1.0   0.0  1.0  0.0  0.0  -0.3   0.0   0.0  0.0  0.0  0.0   0.0\n",
       "  0.0   0.0  0.0  1.0  0.0  -0.3   0.0   0.0  0.0  0.0  0.0   0.0\n",
       "  0.0  -1.0  0.0  0.0  1.0  -0.3   0.0   0.0  0.0  0.0  0.0   0.0\n",
       "  0.0   0.0  0.0  0.0  0.0  -0.1   0.0   0.0  0.0  0.0  0.0   0.0\n",
       "  1.0   1.0  0.0  0.0  0.0   1.0   0.0   0.0  0.0  0.0  0.0   0.0\n",
       "  0.0   0.0  0.0  0.0  0.0   0.0  -1.0   0.0  1.0  0.0  0.0  -0.3\n",
       "  0.0   0.0  0.0  0.0  0.0   0.0   0.0   0.0  0.0  1.0  0.0  -0.3\n",
       "  0.0   0.0  0.0  0.0  0.0   0.0   0.0  -1.0  0.0  0.0  1.0  -0.3\n",
       "  0.0   0.0  0.0  0.0  0.0   0.0   0.0   0.0  0.0  0.0  0.0  -0.1\n",
       "  0.0   0.0  0.0  0.0  0.0   0.0   1.0   1.0  0.0  0.0  0.0   1.0"
      ]
     },
     "execution_count": 15,
     "metadata": {},
     "output_type": "execute_result"
    }
   ],
   "source": [
    "n = 4\n",
    "T = 2\n",
    "Ridx = [1,3]\n",
    "length(Ridx)\n",
    "Y = eye(3)\n",
    "k = [0.3,0.3,0.3,0.1]\n",
    "\n",
    "A = tmp_inst_A(n,Ridx,T,Y,k)\n",
    "full(A)"
   ]
  },
  {
   "cell_type": "markdown",
   "metadata": {},
   "source": [
    "## Removing non-wind parts of $Q_\\theta$\n",
    "\n"
   ]
  },
  {
   "cell_type": "code",
   "execution_count": 49,
   "metadata": {
    "collapsed": false
   },
   "outputs": [
    {
     "data": {
      "text/plain": [
       "tmp_inst_Qtheta (generic function with 2 methods)"
      ]
     },
     "execution_count": 49,
     "metadata": {},
     "output_type": "execute_result"
    }
   ],
   "source": [
    "function tmp_inst_Qtheta(n,nr,T,tau,line)\n",
    "    \"\"\" Generate Q_theta in the temperature constraint\n",
    "    of a temporal instanton problem instance.\n",
    "    \"line\" has the form (i,k), where i and k refer to\n",
    "    the endpoints of the chosen line.\n",
    "    \"\"\"\n",
    "    Qtheta = zeros((n+nr)*T,(n+nr)*T)\n",
    "    i,k = line\n",
    "    ei = zeros(n-1,1)\n",
    "    ei[i] = 1\n",
    "    ek = zeros(n-1,1)\n",
    "    ek[k] = 1\n",
    "    \n",
    "    Q0 = (ei - ek)*(ei - ek)'\n",
    "    \n",
    "    for t = 1:T\n",
    "        start = nr + 1 + (nr+n)*(t-1)\n",
    "        stop = start + n - 2\n",
    "        Qtheta[start:stop,start:stop] = tau^(T-t)*Q0\n",
    "    end\n",
    "    return sparse(Qtheta)\n",
    "end"
   ]
  },
  {
   "cell_type": "code",
   "execution_count": 53,
   "metadata": {
    "collapsed": false
   },
   "outputs": [
    {
     "data": {
      "text/plain": [
       "12x12 Array{Float64,2}:\n",
       " 0.0  0.0   0.0  0.0   0.0  0.0  0.0  0.0   0.0  0.0   0.0  0.0\n",
       " 0.0  0.0   0.0  0.0   0.0  0.0  0.0  0.0   0.0  0.0   0.0  0.0\n",
       " 0.0  0.0   2.0  0.0  -2.0  0.0  0.0  0.0   0.0  0.0   0.0  0.0\n",
       " 0.0  0.0   0.0  0.0   0.0  0.0  0.0  0.0   0.0  0.0   0.0  0.0\n",
       " 0.0  0.0  -2.0  0.0   2.0  0.0  0.0  0.0   0.0  0.0   0.0  0.0\n",
       " 0.0  0.0   0.0  0.0   0.0  0.0  0.0  0.0   0.0  0.0   0.0  0.0\n",
       " 0.0  0.0   0.0  0.0   0.0  0.0  0.0  0.0   0.0  0.0   0.0  0.0\n",
       " 0.0  0.0   0.0  0.0   0.0  0.0  0.0  0.0   0.0  0.0   0.0  0.0\n",
       " 0.0  0.0   0.0  0.0   0.0  0.0  0.0  0.0   1.0  0.0  -1.0  0.0\n",
       " 0.0  0.0   0.0  0.0   0.0  0.0  0.0  0.0   0.0  0.0   0.0  0.0\n",
       " 0.0  0.0   0.0  0.0   0.0  0.0  0.0  0.0  -1.0  0.0   1.0  0.0\n",
       " 0.0  0.0   0.0  0.0   0.0  0.0  0.0  0.0   0.0  0.0   0.0  0.0"
      ]
     },
     "execution_count": 53,
     "metadata": {},
     "output_type": "execute_result"
    }
   ],
   "source": [
    "# Test generateA and generateb:\n",
    "n = 4\n",
    "nr = 2\n",
    "T = 2\n",
    "tau = 2\n",
    "line = (1,3)\n",
    "Y = [2 3; 3 4]\n",
    "k = [0.25,0.25,0.5]\n",
    "\n",
    "Qtheta = tmp_inst_Qtheta(n,nr,T,tau,line)\n",
    "full(Qtheta)"
   ]
  },
  {
   "cell_type": "code",
   "execution_count": 48,
   "metadata": {
    "collapsed": false
   },
   "outputs": [
    {
     "data": {
      "text/plain": [
       "12x12 sparse matrix with 8 Float64 entries:\n",
       "\t[4 ,  4]  =  2.0\n",
       "\t[5 ,  4]  =  -2.0\n",
       "\t[4 ,  5]  =  -2.0\n",
       "\t[5 ,  5]  =  2.0\n",
       "\t[10, 10]  =  1.0\n",
       "\t[11, 10]  =  -1.0\n",
       "\t[10, 11]  =  -1.0\n",
       "\t[11, 11]  =  1.0"
      ]
     },
     "execution_count": 48,
     "metadata": {},
     "output_type": "execute_result"
    }
   ],
   "source": [
    "# Test generateA and generateb:\n",
    "n = 3\n",
    "T = 2\n",
    "tau = 2\n",
    "line = (1,2)\n",
    "Y = [2 3; 3 4]\n",
    "k = [0.25,0.25,0.5]\n",
    "\n",
    "Qtheta = tmp_inst_Qtheta(n,T,tau,line)"
   ]
  },
  {
   "cell_type": "markdown",
   "metadata": {},
   "source": [
    "# Connecting to solver machinery\n",
    "\n",
    "Previously I wrote a few methods to solve the temporal instanton problem according to the procedure described by Dan Bienstock (see the \"Trust Region Subproblem\" notebook). Now I will connect my most recent work in modeling the problem to this solution method.\n",
    "\n",
    "I believe the trust region subproblem code should be in its own module. It is, after all, wholly independent of the instanton application.\n",
    "\n",
    "My trust region subproblem code assumed a problem of the form\n",
    "\n",
    "\\begin{align}\n",
    "&& \\min & G(x) \\\\\n",
    "&& s.t.  & \\\\\n",
    "&&  Ax &= b \\\\\n",
    "&& A_{i\\cdot}x &\\geq 0 \\quad i\\in \\mathcal{R} \\\\\n",
    "&&  x^\\top Qx &= c\n",
    "\\end{align}"
   ]
  }
 ],
 "metadata": {
  "kernelspec": {
   "display_name": "Julia",
   "language": "julia",
   "name": "julia"
  },
  "language_info": {
   "name": "julia",
   "version": "0.3.6"
  }
 },
 "nbformat": 4,
 "nbformat_minor": 0
}
