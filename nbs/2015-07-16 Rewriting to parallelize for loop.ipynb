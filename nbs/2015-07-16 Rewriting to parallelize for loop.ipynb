{
 "cells": [
  {
   "cell_type": "markdown",
   "metadata": {},
   "source": [
    "# Parallelizing the `for` loop\n",
    "\n",
    "Manual matrix inversion and sparsity have led to great performance gains, but more can be accomplished. Perhaps the greatest source of potential is the single `for` loop that runs through each line in the network. There is no need for one process to handle every line in series, but the way the code is currently written precludes parallelization.\n",
    "\n",
    "I begin the re-write by deleting old versions of the temporal instanton code. One of the greatest things about version control is that you don't need to be sentimental.\n",
    "\n",
    "The files `TemporalInstanton3` and `PowerFlow` are the only ones I currrently use. Everything else contains duplicate or inferior code."
   ]
  },
  {
   "cell_type": "markdown",
   "metadata": {},
   "source": [
    "Can you parallelize a `for` loop when each loop accesses a common variable?"
   ]
  },
  {
   "cell_type": "code",
   "execution_count": 15,
   "metadata": {
    "collapsed": false
   },
   "outputs": [
    {
     "data": {
      "text/plain": [
       "4-element Array{Any,1}:\n",
       " 2\n",
       " 3\n",
       " 4\n",
       " 5"
      ]
     },
     "execution_count": 15,
     "metadata": {},
     "output_type": "execute_result"
    }
   ],
   "source": [
    "addprocs(4)"
   ]
  },
  {
   "cell_type": "code",
   "execution_count": 16,
   "metadata": {
    "collapsed": false
   },
   "outputs": [
    {
     "data": {
      "text/plain": [
       "4-element Array{Int64,1}:\n",
       " 2\n",
       " 3\n",
       " 4\n",
       " 5"
      ]
     },
     "execution_count": 16,
     "metadata": {},
     "output_type": "execute_result"
    }
   ],
   "source": [
    "workers()"
   ]
  },
  {
   "cell_type": "code",
   "execution_count": 3,
   "metadata": {
    "collapsed": false
   },
   "outputs": [
    {
     "name": "stdout",
     "output_type": "stream",
     "text": [
      " 202"
     ]
    },
    {
     "data": {
      "text/plain": [
       "5-element Array{Union{UTF8String,ASCIIString},1}:\n",
       " \"number 1\"\n",
       " \"number 2\"\n",
       " \"number 3\"\n",
       " \"number 4\"\n",
       " \"number 5\""
      ]
     },
     "execution_count": 3,
     "metadata": {},
     "output_type": "execute_result"
    },
    {
     "name": "stdout",
     "output_type": "stream",
     "text": [
      ".870 milliseconds (34973 allocations: 1461 KB)\n",
      "   1.184 milliseconds (109 allocations: 5520 bytes)\n"
     ]
    }
   ],
   "source": [
    "@everywhere f(x) = \"number $x\"\n",
    "x = [i for i in 1:5]\n",
    "@time pmap(f,x); # parallel\n",
    "@time [f(i) for i in x]; # single-core"
   ]
  },
  {
   "cell_type": "code",
   "execution_count": 8,
   "metadata": {
    "collapsed": true
   },
   "outputs": [],
   "source": [
    "@everywhere type InstantonInput\n",
    "    field1\n",
    "    field2\n",
    "end"
   ]
  },
  {
   "cell_type": "code",
   "execution_count": 42,
   "metadata": {
    "collapsed": false
   },
   "outputs": [
    {
     "name": "stdout",
     "output_type": "stream",
     "text": [
      "1\n"
     ]
    },
    {
     "data": {
      "text/plain": [
       "4-element Array{Any,1}:\n",
       " (4,[1,2]) \n",
       " (6,[2,3]) \n",
       " (8,[3,4]) \n",
       " (10,[4,5])"
      ]
     },
     "execution_count": 42,
     "metadata": {},
     "output_type": "execute_result"
    },
    {
     "name": "stdout",
     "output_type": "stream",
     "text": [
      "2\n",
      "3\n",
      "4\n"
     ]
    }
   ],
   "source": [
    "outside_data = 1\n",
    "@everywhere function analyze(x)\n",
    "    println(x.field2)\n",
    "    return x.field1[1] + x.field1[2] + outside_data,x.field1\n",
    "end\n",
    "x = [InstantonInput([i,i+1],\"$i\") for i in 1:4]\n",
    "results1,results2 = pmap(analyze,x); # parallel"
   ]
  },
  {
   "cell_type": "code",
   "execution_count": 39,
   "metadata": {
    "collapsed": false
   },
   "outputs": [
    {
     "data": {
      "text/plain": [
       "4-element Array{Any,1}:\n",
       "  4\n",
       "  6\n",
       "  8\n",
       " 10"
      ]
     },
     "execution_count": 39,
     "metadata": {},
     "output_type": "execute_result"
    }
   ],
   "source": [
    "results"
   ]
  },
  {
   "cell_type": "code",
   "execution_count": 20,
   "metadata": {
    "collapsed": false
   },
   "outputs": [
    {
     "data": {
      "text/plain": [
       "4-element Array{InstantonInput,1}:\n",
       " InstantonInput([1,2],\"1\")\n",
       " InstantonInput([2,3],\"2\")\n",
       " InstantonInput([3,4],\"3\")\n",
       " InstantonInput([4,5],\"4\")"
      ]
     },
     "execution_count": 20,
     "metadata": {},
     "output_type": "execute_result"
    }
   ],
   "source": [
    "x"
   ]
  },
  {
   "cell_type": "markdown",
   "metadata": {},
   "source": [
    "Parallel version is faster (but takes more space). Great! So this is what I'm supposed to do. I can start with an array of empty vectors and fill each with an instanton solution."
   ]
  },
  {
   "cell_type": "code",
   "execution_count": 17,
   "metadata": {
    "collapsed": false,
    "scrolled": false
   },
   "outputs": [
    {
     "name": "stdout",
     "output_type": "stream",
     "text": [
      "elapsed time: 0.593147493 seconds (9944408 bytes allocated)\n"
     ]
    },
    {
     "data": {
      "text/plain": [
       "4-element SharedArray{Int64,1}:\n",
       " 1\n",
       " 2\n",
       " 3\n",
       " 4"
      ]
     },
     "execution_count": 17,
     "metadata": {},
     "output_type": "execute_result"
    }
   ],
   "source": [
    "# works!\n",
    "solutions = SharedArray(Int64,4)\n",
    "@time @sync @parallel for i = 1:4\n",
    "    solutions[i] = i;\n",
    "end\n",
    "solutions"
   ]
  },
  {
   "cell_type": "code",
   "execution_count": 27,
   "metadata": {
    "collapsed": false,
    "scrolled": false
   },
   "outputs": [
    {
     "name": "stdout",
     "output_type": "stream",
     "text": [
      "elapsed time: 0.711400147 seconds (12618484 bytes allocated, 3.62% gc time)\n"
     ]
    },
    {
     "data": {
      "text/plain": [
       "4-element Array{(Array{Int64,1},Int64),1}:\n",
       " ([1,2],3)\n",
       " ([2,3],4)\n",
       " ([3,4],5)\n",
       " ([4,5],6)"
      ]
     },
     "execution_count": 27,
     "metadata": {},
     "output_type": "execute_result"
    }
   ],
   "source": [
    "# works!\n",
    "# solutions = SharedArray(Int64,4)\n",
    "results = @time @sync @parallel (vcat) for i = 1:4\n",
    "    [i;i+1],i+2\n",
    "end"
   ]
  },
  {
   "cell_type": "code",
   "execution_count": 25,
   "metadata": {
    "collapsed": false
   },
   "outputs": [
    {
     "data": {
      "text/plain": [
       "4-element Array{Int64,1}:\n",
       " 1\n",
       " 2\n",
       " 3\n",
       " 4"
      ]
     },
     "execution_count": 25,
     "metadata": {},
     "output_type": "execute_result"
    }
   ],
   "source": [
    "results"
   ]
  },
  {
   "cell_type": "markdown",
   "metadata": {},
   "source": [
    "Though I love the idea of using a SharedArray to parallelize, I shouldn't rely on an [experimental, Unix-only feature](http://julia.readthedocs.org/en/latest/manual/parallel-computing/#shared-arrays-experimental)."
   ]
  },
  {
   "cell_type": "code",
   "execution_count": 65,
   "metadata": {
    "collapsed": false
   },
   "outputs": [
    {
     "name": "stdout",
     "output_type": "stream",
     "text": [
      "  "
     ]
    },
    {
     "data": {
      "text/plain": [
       "4-element Array{Int64,1}:\n",
       " 1\n",
       " 2\n",
       " 3\n",
       " 4"
      ]
     },
     "execution_count": 65,
     "metadata": {},
     "output_type": "execute_result"
    },
    {
     "name": "stdout",
     "output_type": "stream",
     "text": [
      " 1.322 microseconds (1 allocation: 96 bytes)\n"
     ]
    }
   ],
   "source": [
    "# in this case, single-core is far superior\n",
    "@time solutions = [i for i in 1:4]"
   ]
  },
  {
   "cell_type": "code",
   "execution_count": 66,
   "metadata": {
    "collapsed": false
   },
   "outputs": [
    {
     "data": {
      "text/plain": [
       ":ok"
      ]
     },
     "execution_count": 66,
     "metadata": {},
     "output_type": "execute_result"
    }
   ],
   "source": [
    "rmprocs(workers())"
   ]
  },
  {
   "cell_type": "markdown",
   "metadata": {},
   "source": [
    "## New approach\n",
    "\n",
    "The `for` loop is one way to look at temporal instanton analysis. Another way to look at it is a function that accepts a set of matrices, solves a QCQP, and returns a solution vector. If I want to apply this function to each line, I need only build the matrices for all lines and use `pmap` to apply the instanton function to each line's set in parallel."
   ]
  },
  {
   "cell_type": "code",
   "execution_count": 28,
   "metadata": {
    "collapsed": false
   },
   "outputs": [
    {
     "name": "stdout",
     "output_type": "stream",
     "text": [
      "  Please email questions, comments, and significant results to: Robert.C.Green@gmail.com.  Thanks!\n"
     ]
    }
   ],
   "source": [
    "using MatpowerCases\n",
    "mpc = loadcase(\"case96\")\n",
    "# vector of bus names (e.g. 101, 102, ...)\n",
    "bus_names = round(Int64,mpc[\"bus\"][:,1])\n",
    "\n",
    "# vector of bus voltages (e.g. 138, 138, 230, ...)\n",
    "bus_voltages = mpc[\"bus\"][:,10]\n",
    "\n",
    "# vector of \"from\" nodes\n",
    "from = round(Int64,mpc[\"branch\"][:,1])\n",
    "\n",
    "# vector of \"to\" nodes\n",
    "to = round(Int64,mpc[\"branch\"][:,2])\n",
    "\n",
    "\"\"\" Use voltage information to assign a conductor name to \n",
    "each line of the RTS-96.\n",
    "\"\"\"\n",
    "function return_line_conductors(bus_names,bus_voltages,from,to)\n",
    "    numLines = length(from)\n",
    "    node2voltage(node) = bus_voltages[find(bus_names.==node)][1]\n",
    "    volt2cond(volt) = volt < 300 ? \"waxwing\" : \"dove\"\n",
    "    line_voltages = Array(Float64,0)\n",
    "\n",
    "    for i in 1:numLines\n",
    "        Vfrom = node2voltage(from[i])\n",
    "        Vto = node2voltage(to[i])\n",
    "        Vline = max(Vfrom,Vto)\n",
    "        push!(line_voltages, Vline)\n",
    "    end\n",
    "    line_conductors = [volt2cond(volt) for volt in line_voltages]\n",
    "end\n",
    "\n",
    "line_conductors = return_line_conductors(bus_names,bus_voltages,from,to);"
   ]
  },
  {
   "cell_type": "code",
   "execution_count": 29,
   "metadata": {
    "collapsed": false
   },
   "outputs": [
    {
     "name": "stderr",
     "output_type": "stream",
     "text": [
      "Warning: replacing module TemporalInstanton\n",
      "Warning: using TemporalInstanton.tmp_inst_b in module Main conflicts with an existing identifier.\n",
      "Warning: using TemporalInstanton.tmp_inst_A1 in module Main conflicts with an existing identifier.\n",
      "Warning: using TemporalInstanton.analyze_line in module Main conflicts with an existing identifier.\n",
      "Warning: using TemporalInstanton.tmp_inst_Qtheta in module Main conflicts with an existing identifier.\n",
      "Warning: using TemporalInstanton.tmp_inst_Qobj in module Main conflicts with an existing identifier.\n"
     ]
    }
   ],
   "source": [
    "# Data loading and manipulation:\n",
    "using HDF5, JLD\n",
    "include(\"../src/tmp_inst_rts96.jl\")\n",
    "\n",
    "# Analysis:\n",
    "include(\"../src/TemporalInstanton.jl\")\n",
    "using TemporalInstanton"
   ]
  },
  {
   "cell_type": "code",
   "execution_count": 3,
   "metadata": {
    "collapsed": false
   },
   "outputs": [
    {
     "name": "stdout",
     "output_type": "stream",
     "text": [
      "loaded\n"
     ]
    }
   ],
   "source": [
    "####### LOAD DATA ########\n",
    "psData = psDataLoad()\n",
    "\n",
    "# unpack psDL (boilerplate):\n",
    "(Sb,f,t,r,x,b,Y,bustype,\n",
    "Gp,Gq,Dp,Dq,Rp,Rq,\n",
    "Pmax,Pmin,Qmax,Qmin,Plim,\n",
    "Vg,Vceiling,Vfloor,\n",
    "busIdx,N,Nr,Ng,k) = unpack_psDL(psData)\n",
    "\n",
    "Sb = 100e6 #overwrite \"100.0\"\n",
    "\n",
    "res = r\n",
    "reac = x\n",
    "\n",
    "####### LINK DATA ########\n",
    "# Static\n",
    "Ridx = find(Rp) # Vector of renewable nodes\n",
    "Y = full(Y) # Full admittance matrix (ref not removed)\n",
    "ref = 1 # Index of ref node\n",
    "k = k # Conventional generator participation factors\n",
    "lines = [(f[i],t[i]) for i in 1:length(f)];\n",
    "line_lengths = load(\"../data/RTS-96\\ Data/line_lengths.jld\", \"line_lengths\")\n",
    "\n",
    "# Thermal model parameters:\n",
    "Tamb = 35. # C\n",
    "T0 = 60. #46. # initial line steady-state temp\n",
    "time_intervals = 3 # thirty minutes\n",
    "time_values = 0:60:600 # ten minutes in 1-min steps\n",
    "int_length = 600. # seconds\n",
    "\n",
    "# Generation, demand, and wind gen forecast:\n",
    "G0 = [0.7*Gp;0.7*Gp;0.7*Gp;0.7*Gp;0.7*Gp;0.7*Gp]\n",
    "D0 = [0.9*Dp;0.9*Dp;0.9*Dp;0.9*Dp;0.9*Dp;0.9*Dp]\n",
    "P0 = [Rp;1.1*Rp;1.2*Rp;1.3*Rp;1.4*Rp;1.5*Rp]\n",
    "\n",
    "n = length(k)\n",
    "nr = length(Ridx)\n",
    "T = round(Int64,length(find(P0))/nr)\n",
    "numLines = length(lines)\n",
    "\n",
    "    # Form objective quadratic:\n",
    "    Qobj = tmp_inst_Qobj(n,nr,T; pad=true)\n",
    "    G_of_x = (Qobj,0,0)\n",
    "\n",
    "    # Create A1 (only A2, the bottom part,\n",
    "    # changes during line loop):\n",
    "    A1 = tmp_inst_A1(Ridx,T,Y,ref,k; pad=true)\n",
    "\n",
    "    b = tmp_inst_b(n,T,G0,P0,D0; pad=true)\n",
    "    Qtheta = tmp_inst_Qtheta(n,nr,T)\n",
    "\n",
    "\n",
    "println(\"loaded\")"
   ]
  },
  {
   "cell_type": "code",
   "execution_count": 4,
   "metadata": {
    "collapsed": true
   },
   "outputs": [
    {
     "data": {
      "text/plain": [
       "([2,14,16,17,18,19,20,21,23,26,36,37,43,44,47,49,54,57],\n",
       "73x73 Array{Float64,2}:\n",
       "  87.9326   -71.4286   -4.73934   0.0      …     0.0       0.0        0.0  \n",
       " -71.4286    84.5109    0.0      -7.87402        0.0       0.0        0.0  \n",
       "  -4.73934    0.0      25.0475    0.0            0.0       0.0        0.0  \n",
       "   0.0       -7.87402   0.0      17.4894         0.0       0.0        0.0  \n",
       " -11.7647     0.0       0.0       0.0            0.0       0.0        0.0  \n",
       "   0.0       -5.20833   0.0       0.0      …     0.0       0.0        0.0  \n",
       "   0.0        0.0       0.0       0.0            0.0       0.0        0.0  \n",
       "   0.0        0.0       0.0       0.0            0.0       0.0        0.0  \n",
       "   0.0        0.0      -8.40336  -9.61538        0.0       0.0        0.0  \n",
       "   0.0        0.0       0.0       0.0            0.0       0.0        0.0  \n",
       "   0.0        0.0       0.0       0.0      …     0.0       0.0        0.0  \n",
       "   0.0        0.0       0.0       0.0            0.0       0.0        0.0  \n",
       "   0.0        0.0       0.0       0.0            0.0       0.0        0.0  \n",
       "   ⋮                                       ⋱     ⋮                         \n",
       "   0.0        0.0       0.0       0.0            0.0       0.0        0.0  \n",
       "   0.0        0.0       0.0       0.0            0.0     -19.2308     0.0  \n",
       "   0.0        0.0       0.0       0.0            0.0       0.0        0.0  \n",
       "   0.0        0.0       0.0       0.0            0.0       0.0        0.0  \n",
       "   0.0        0.0       0.0       0.0      …     0.0       0.0        0.0  \n",
       "   0.0        0.0       0.0       0.0            0.0       0.0        0.0  \n",
       "   0.0        0.0       0.0       0.0          -90.9091    0.0        0.0  \n",
       "   0.0        0.0       0.0       0.0            0.0       0.0        0.0  \n",
       "   0.0        0.0       0.0       0.0            0.0       0.0        0.0  \n",
       "   0.0        0.0       0.0       0.0      …   223.824     0.0     -111.111\n",
       "   0.0        0.0       0.0       0.0            0.0      31.1355     0.0  \n",
       "   0.0        0.0       0.0       0.0         -111.111     0.0      121.42 ,\n",
       "\n",
       "[1.204,1.204,0.0,0.0,0.0,0.0,1.12,0.56,0.0,0.0  …  1.085,0.0,2.8,0.0,0.0,2.8,2.1,4.62,0.0,0.0],[0.0,0.0820657,0.0,0.0,0.0,0.0,0.0,0.0,0.0,0.0  …  0.0,0.0,0.0,0.0,0.0,0.0,0.0,0.0,0.0,0.0],[0.636042,0.56909,1.05449,0.435186,0.418448,0.803421,0.736469,1.00428,1.02101,1.13818  …  0.585828,0.0,1.95834,1.07123,0.753207,0.0,0.0,0.0,0.0,0.0],1.0e8,1,(Any,Any)[(1,2),(1,3),(1,5),(2,4),(2,6),(3,9),(3,24),(4,9),(5,10),(6,10)  …  (66,69),(66,69),(67,68),(67,68),(68,71),(68,71),(69,70),(73,21),(66,47),(71,73)],[0.003,0.055,0.022,0.033,0.05,0.031,0.002,0.027,0.023,0.014  …  0.003,0.003,0.005,0.005,0.003,0.003,0.009,0.012,0.013,0.0],[0.014,0.211,0.085,0.127,0.192,0.119,0.084,0.104,0.088,0.061  …  0.026,0.026,0.04,0.04,0.022,0.022,0.068,0.097,0.104,0.009],[0.030303,0.030303,0.0,0.0,0.0,0.0,0.030303,0.030303,0.0,0.0  …  0.030303,0.0,0.030303,0.0,0.0,0.030303,0.030303,0.030303,0.0,0.0],[4828.02,88513.7,35405.5,53108.2,80467.0,49889.5,0.0,43452.2,37014.8,25749.4  …  28968.1,28968.1,44256.8,44256.8,24140.1,24140.1,75639.0,107826.0,115872.0,0.0],{\"waxwing\",\"waxwing\",\"waxwing\",\"waxwing\",\"waxwing\",\"waxwing\",\"waxwing\",\"waxwing\",\"waxwing\",\"waxwing\"  …  \"waxwing\",\"waxwing\",\"waxwing\",\"waxwing\",\"waxwing\",\"waxwing\",\"waxwing\",\"waxwing\",\"waxwing\",\"waxwing\"},35.0,60.0,600.0,\n",
       "558x558 Array{Float64,2}:\n",
       " 1.0  0.0  0.0  0.0  0.0  0.0  0.0  0.0  …  0.0  0.0  0.0  0.0  0.0  0.0  0.0\n",
       " 0.0  1.0  0.0  0.0  0.0  0.0  0.0  0.0     0.0  0.0  0.0  0.0  0.0  0.0  0.0\n",
       " 0.0  0.0  1.0  0.0  0.0  0.0  0.0  0.0     0.0  0.0  0.0  0.0  0.0  0.0  0.0\n",
       " 0.0  0.0  0.0  1.0  0.0  0.0  0.0  0.0     0.0  0.0  0.0  0.0  0.0  0.0  0.0\n",
       " 0.0  0.0  0.0  0.0  1.0  0.0  0.0  0.0     0.0  0.0  0.0  0.0  0.0  0.0  0.0\n",
       " 0.0  0.0  0.0  0.0  0.0  1.0  0.0  0.0  …  0.0  0.0  0.0  0.0  0.0  0.0  0.0\n",
       " 0.0  0.0  0.0  0.0  0.0  0.0  1.0  0.0     0.0  0.0  0.0  0.0  0.0  0.0  0.0\n",
       " 0.0  0.0  0.0  0.0  0.0  0.0  0.0  1.0     0.0  0.0  0.0  0.0  0.0  0.0  0.0\n",
       " 0.0  0.0  0.0  0.0  0.0  0.0  0.0  0.0     0.0  0.0  0.0  0.0  0.0  0.0  0.0\n",
       " 0.0  0.0  0.0  0.0  0.0  0.0  0.0  0.0     0.0  0.0  0.0  0.0  0.0  0.0  0.0\n",
       " 0.0  0.0  0.0  0.0  0.0  0.0  0.0  0.0  …  0.0  0.0  0.0  0.0  0.0  0.0  0.0\n",
       " 0.0  0.0  0.0  0.0  0.0  0.0  0.0  0.0     0.0  0.0  0.0  0.0  0.0  0.0  0.0\n",
       " 0.0  0.0  0.0  0.0  0.0  0.0  0.0  0.0     0.0  0.0  0.0  0.0  0.0  0.0  0.0\n",
       " ⋮                        ⋮              ⋱                      ⋮            \n",
       " 0.0  0.0  0.0  0.0  0.0  0.0  0.0  0.0     0.0  0.0  0.0  0.0  0.0  0.0  0.0\n",
       " 0.0  0.0  0.0  0.0  0.0  0.0  0.0  0.0     0.0  0.0  0.0  0.0  0.0  0.0  0.0\n",
       " 0.0  0.0  0.0  0.0  0.0  0.0  0.0  0.0     0.0  0.0  0.0  0.0  0.0  0.0  0.0\n",
       " 0.0  0.0  0.0  0.0  0.0  0.0  0.0  0.0     0.0  0.0  0.0  0.0  0.0  0.0  0.0\n",
       " 0.0  0.0  0.0  0.0  0.0  0.0  0.0  0.0  …  0.0  0.0  0.0  0.0  0.0  0.0  0.0\n",
       " 0.0  0.0  0.0  0.0  0.0  0.0  0.0  0.0     0.0  0.0  0.0  0.0  0.0  0.0  0.0\n",
       " 0.0  0.0  0.0  0.0  0.0  0.0  0.0  0.0     0.0  0.0  0.0  0.0  0.0  0.0  0.0\n",
       " 0.0  0.0  0.0  0.0  0.0  0.0  0.0  0.0     0.0  0.0  0.0  0.0  0.0  0.0  0.0\n",
       " 0.0  0.0  0.0  0.0  0.0  0.0  0.0  0.0     0.0  0.0  0.0  0.0  0.0  0.0  0.0\n",
       " 0.0  0.0  0.0  0.0  0.0  0.0  0.0  0.0  …  0.0  0.0  0.0  0.0  0.0  0.0  0.0\n",
       " 0.0  0.0  0.0  0.0  0.0  0.0  0.0  0.0     0.0  0.0  0.0  0.0  0.0  0.0  0.0\n",
       " 0.0  0.0  0.0  0.0  0.0  0.0  0.0  0.0     0.0  0.0  0.0  0.0  0.0  0.0  0.0,\n",
       "\n",
       "(\n",
       "558x558 Array{Float64,2}:\n",
       " 1.0  0.0  0.0  0.0  0.0  0.0  0.0  0.0  …  0.0  0.0  0.0  0.0  0.0  0.0  0.0\n",
       " 0.0  1.0  0.0  0.0  0.0  0.0  0.0  0.0     0.0  0.0  0.0  0.0  0.0  0.0  0.0\n",
       " 0.0  0.0  1.0  0.0  0.0  0.0  0.0  0.0     0.0  0.0  0.0  0.0  0.0  0.0  0.0\n",
       " 0.0  0.0  0.0  1.0  0.0  0.0  0.0  0.0     0.0  0.0  0.0  0.0  0.0  0.0  0.0\n",
       " 0.0  0.0  0.0  0.0  1.0  0.0  0.0  0.0     0.0  0.0  0.0  0.0  0.0  0.0  0.0\n",
       " 0.0  0.0  0.0  0.0  0.0  1.0  0.0  0.0  …  0.0  0.0  0.0  0.0  0.0  0.0  0.0\n",
       " 0.0  0.0  0.0  0.0  0.0  0.0  1.0  0.0     0.0  0.0  0.0  0.0  0.0  0.0  0.0\n",
       " 0.0  0.0  0.0  0.0  0.0  0.0  0.0  1.0     0.0  0.0  0.0  0.0  0.0  0.0  0.0\n",
       " 0.0  0.0  0.0  0.0  0.0  0.0  0.0  0.0     0.0  0.0  0.0  0.0  0.0  0.0  0.0\n",
       " 0.0  0.0  0.0  0.0  0.0  0.0  0.0  0.0     0.0  0.0  0.0  0.0  0.0  0.0  0.0\n",
       " 0.0  0.0  0.0  0.0  0.0  0.0  0.0  0.0  …  0.0  0.0  0.0  0.0  0.0  0.0  0.0\n",
       " 0.0  0.0  0.0  0.0  0.0  0.0  0.0  0.0     0.0  0.0  0.0  0.0  0.0  0.0  0.0\n",
       " 0.0  0.0  0.0  0.0  0.0  0.0  0.0  0.0     0.0  0.0  0.0  0.0  0.0  0.0  0.0\n",
       " ⋮                        ⋮              ⋱                      ⋮            \n",
       " 0.0  0.0  0.0  0.0  0.0  0.0  0.0  0.0     0.0  0.0  0.0  0.0  0.0  0.0  0.0\n",
       " 0.0  0.0  0.0  0.0  0.0  0.0  0.0  0.0     0.0  0.0  0.0  0.0  0.0  0.0  0.0\n",
       " 0.0  0.0  0.0  0.0  0.0  0.0  0.0  0.0     0.0  0.0  0.0  0.0  0.0  0.0  0.0\n",
       " 0.0  0.0  0.0  0.0  0.0  0.0  0.0  0.0     0.0  0.0  0.0  0.0  0.0  0.0  0.0\n",
       " 0.0  0.0  0.0  0.0  0.0  0.0  0.0  0.0  …  0.0  0.0  0.0  0.0  0.0  0.0  0.0\n",
       " 0.0  0.0  0.0  0.0  0.0  0.0  0.0  0.0     0.0  0.0  0.0  0.0  0.0  0.0  0.0\n",
       " 0.0  0.0  0.0  0.0  0.0  0.0  0.0  0.0     0.0  0.0  0.0  0.0  0.0  0.0  0.0\n",
       " 0.0  0.0  0.0  0.0  0.0  0.0  0.0  0.0     0.0  0.0  0.0  0.0  0.0  0.0  0.0\n",
       " 0.0  0.0  0.0  0.0  0.0  0.0  0.0  0.0     0.0  0.0  0.0  0.0  0.0  0.0  0.0\n",
       " 0.0  0.0  0.0  0.0  0.0  0.0  0.0  0.0  …  0.0  0.0  0.0  0.0  0.0  0.0  0.0\n",
       " 0.0  0.0  0.0  0.0  0.0  0.0  0.0  0.0     0.0  0.0  0.0  0.0  0.0  0.0  0.0\n",
       " 0.0  0.0  0.0  0.0  0.0  0.0  0.0  0.0     0.0  0.0  0.0  0.0  0.0  0.0  0.0,\n",
       "\n",
       "0,0),\n",
       "444x558 Array{Float64,2}:\n",
       "  0.0  0.0  0.0  0.0  0.0  0.0  0.0  0.0  …  0.0  0.0  0.0  0.0  0.0  0.0\n",
       " -1.0  0.0  0.0  0.0  0.0  0.0  0.0  0.0     0.0  0.0  0.0  0.0  0.0  0.0\n",
       "  0.0  0.0  0.0  0.0  0.0  0.0  0.0  0.0     0.0  0.0  0.0  0.0  0.0  0.0\n",
       "  0.0  0.0  0.0  0.0  0.0  0.0  0.0  0.0     0.0  0.0  0.0  0.0  0.0  0.0\n",
       "  0.0  0.0  0.0  0.0  0.0  0.0  0.0  0.0     0.0  0.0  0.0  0.0  0.0  0.0\n",
       "  0.0  0.0  0.0  0.0  0.0  0.0  0.0  0.0  …  0.0  0.0  0.0  0.0  0.0  0.0\n",
       "  0.0  0.0  0.0  0.0  0.0  0.0  0.0  0.0     0.0  0.0  0.0  0.0  0.0  0.0\n",
       "  0.0  0.0  0.0  0.0  0.0  0.0  0.0  0.0     0.0  0.0  0.0  0.0  0.0  0.0\n",
       "  0.0  0.0  0.0  0.0  0.0  0.0  0.0  0.0     0.0  0.0  0.0  0.0  0.0  0.0\n",
       "  0.0  0.0  0.0  0.0  0.0  0.0  0.0  0.0     0.0  0.0  0.0  0.0  0.0  0.0\n",
       "  0.0  0.0  0.0  0.0  0.0  0.0  0.0  0.0  …  0.0  0.0  0.0  0.0  0.0  0.0\n",
       "  0.0  0.0  0.0  0.0  0.0  0.0  0.0  0.0     0.0  0.0  0.0  0.0  0.0  0.0\n",
       "  0.0  0.0  0.0  0.0  0.0  0.0  0.0  0.0     0.0  0.0  0.0  0.0  0.0  0.0\n",
       "  ⋮                        ⋮              ⋱                 ⋮            \n",
       "  0.0  0.0  0.0  0.0  0.0  0.0  0.0  0.0     0.0  0.0  0.0  0.0  0.0  0.0\n",
       "  0.0  0.0  0.0  0.0  0.0  0.0  0.0  0.0     0.0  0.0  0.0  0.0  0.0  0.0\n",
       "  0.0  0.0  0.0  0.0  0.0  0.0  0.0  0.0     0.0  0.0  0.0  0.0  0.0  0.0\n",
       "  0.0  0.0  0.0  0.0  0.0  0.0  0.0  0.0  …  0.0  0.0  0.0  0.0  0.0  0.0\n",
       "  0.0  0.0  0.0  0.0  0.0  0.0  0.0  0.0     0.0  0.0  0.0  0.0  0.0  0.0\n",
       "  0.0  0.0  0.0  0.0  0.0  0.0  0.0  0.0     0.0  0.0  0.0  0.0  0.0  0.0\n",
       "  0.0  0.0  0.0  0.0  0.0  0.0  0.0  0.0     0.0  0.0  0.0  0.0  0.0  0.0\n",
       "  0.0  0.0  0.0  0.0  0.0  0.0  0.0  0.0     0.0  0.0  0.0  0.0  0.0  0.0\n",
       "  0.0  0.0  0.0  0.0  0.0  0.0  0.0  0.0  …  0.0  0.0  0.0  0.0  0.0  0.0\n",
       "  0.0  0.0  0.0  0.0  0.0  0.0  0.0  0.0     0.0  0.0  0.0  0.0  0.0  0.0\n",
       "  0.0  0.0  0.0  0.0  0.0  0.0  0.0  0.0     0.0  0.0  0.0  0.0  0.0  0.0\n",
       "  0.0  0.0  0.0  0.0  0.0  0.0  0.0  0.0     0.0  0.0  0.0  0.0  0.0  0.0,\n",
       "\n",
       "FloatingPoint[0.567958306372,0.7169757688059704,-1.054490176278,-0.43518642195599994,-0.41844848265,-0.8034210866879999,0.383530670536,-0.4442763583600001,-1.021014297666,-1.1381798728080001  …  4.619999999999999,0.0,0.0,0.0,0.0,0.0,0.0,0.0,0.0,0.0],\n",
       "558x558 Array{Float64,2}:\n",
       " 0.0  0.0  0.0  0.0  0.0  0.0  0.0  0.0  …  0.0  0.0  0.0  0.0  0.0  0.0  0.0\n",
       " 0.0  0.0  0.0  0.0  0.0  0.0  0.0  0.0     0.0  0.0  0.0  0.0  0.0  0.0  0.0\n",
       " 0.0  0.0  0.0  0.0  0.0  0.0  0.0  0.0     0.0  0.0  0.0  0.0  0.0  0.0  0.0\n",
       " 0.0  0.0  0.0  0.0  0.0  0.0  0.0  0.0     0.0  0.0  0.0  0.0  0.0  0.0  0.0\n",
       " 0.0  0.0  0.0  0.0  0.0  0.0  0.0  0.0     0.0  0.0  0.0  0.0  0.0  0.0  0.0\n",
       " 0.0  0.0  0.0  0.0  0.0  0.0  0.0  0.0  …  0.0  0.0  0.0  0.0  0.0  0.0  0.0\n",
       " 0.0  0.0  0.0  0.0  0.0  0.0  0.0  0.0     0.0  0.0  0.0  0.0  0.0  0.0  0.0\n",
       " 0.0  0.0  0.0  0.0  0.0  0.0  0.0  0.0     0.0  0.0  0.0  0.0  0.0  0.0  0.0\n",
       " 0.0  0.0  0.0  0.0  0.0  0.0  0.0  0.0     0.0  0.0  0.0  0.0  0.0  0.0  0.0\n",
       " 0.0  0.0  0.0  0.0  0.0  0.0  0.0  0.0     0.0  0.0  0.0  0.0  0.0  0.0  0.0\n",
       " 0.0  0.0  0.0  0.0  0.0  0.0  0.0  0.0  …  0.0  0.0  0.0  0.0  0.0  0.0  0.0\n",
       " 0.0  0.0  0.0  0.0  0.0  0.0  0.0  0.0     0.0  0.0  0.0  0.0  0.0  0.0  0.0\n",
       " 0.0  0.0  0.0  0.0  0.0  0.0  0.0  0.0     0.0  0.0  0.0  0.0  0.0  0.0  0.0\n",
       " ⋮                        ⋮              ⋱                      ⋮            \n",
       " 0.0  0.0  0.0  0.0  0.0  0.0  0.0  0.0     0.0  0.0  0.0  0.0  0.0  0.0  0.0\n",
       " 0.0  0.0  0.0  0.0  0.0  0.0  0.0  0.0     0.0  0.0  0.0  0.0  0.0  0.0  0.0\n",
       " 0.0  0.0  0.0  0.0  0.0  0.0  0.0  0.0     0.0  0.0  0.0  0.0  0.0  0.0  0.0\n",
       " 0.0  0.0  0.0  0.0  0.0  0.0  0.0  0.0     0.0  0.0  0.0  0.0  0.0  0.0  0.0\n",
       " 0.0  0.0  0.0  0.0  0.0  0.0  0.0  0.0  …  0.0  0.0  0.0  0.0  0.0  0.0  0.0\n",
       " 0.0  0.0  0.0  0.0  0.0  0.0  0.0  0.0     0.0  0.0  0.0  0.0  0.0  0.0  0.0\n",
       " 0.0  0.0  0.0  0.0  0.0  0.0  0.0  0.0     0.0  1.0  0.0  0.0  0.0  0.0  0.0\n",
       " 0.0  0.0  0.0  0.0  0.0  0.0  0.0  0.0     0.0  0.0  1.0  0.0  0.0  0.0  0.0\n",
       " 0.0  0.0  0.0  0.0  0.0  0.0  0.0  0.0     0.0  0.0  0.0  1.0  0.0  0.0  0.0\n",
       " 0.0  0.0  0.0  0.0  0.0  0.0  0.0  0.0  …  0.0  0.0  0.0  0.0  1.0  0.0  0.0\n",
       " 0.0  0.0  0.0  0.0  0.0  0.0  0.0  0.0     0.0  0.0  0.0  0.0  0.0  1.0  0.0\n",
       " 0.0  0.0  0.0  0.0  0.0  0.0  0.0  0.0     0.0  0.0  0.0  0.0  0.0  0.0  1.0)"
      ]
     },
     "execution_count": 4,
     "metadata": {},
     "output_type": "execute_result"
    }
   ],
   "source": [
    "nz_line_idx = find(line_lengths.!=0);\n",
    "\n",
    "globals =     \n",
    "    (Ridx,\n",
    "    Y,\n",
    "    G0,\n",
    "    P0,\n",
    "    D0,\n",
    "    Sb,\n",
    "    ref,\n",
    "    lines,\n",
    "    res,\n",
    "    reac,\n",
    "    k,\n",
    "    line_lengths,\n",
    "    line_conductors,\n",
    "    Tamb,\n",
    "    T0,\n",
    "    int_length,\n",
    "    Qobj,\n",
    "    G_of_x,\n",
    "    A1,\n",
    "    b,\n",
    "    Qtheta);"
   ]
  },
  {
   "cell_type": "code",
   "execution_count": 3,
   "metadata": {
    "collapsed": false
   },
   "outputs": [
    {
     "data": {
      "text/plain": [
       "4-element Array{Any,1}:\n",
       " 2\n",
       " 3\n",
       " 4\n",
       " 5"
      ]
     },
     "execution_count": 3,
     "metadata": {},
     "output_type": "execute_result"
    }
   ],
   "source": [
    "addprocs(4)"
   ]
  },
  {
   "cell_type": "code",
   "execution_count": 6,
   "metadata": {
    "collapsed": false
   },
   "outputs": [
    {
     "data": {
      "text/plain": [
       ":ok"
      ]
     },
     "execution_count": 6,
     "metadata": {},
     "output_type": "execute_result"
    }
   ],
   "source": [
    "rmprocs(workers())"
   ]
  },
  {
   "cell_type": "code",
   "execution_count": 7,
   "metadata": {
    "collapsed": false
   },
   "outputs": [
    {
     "data": {
      "text/plain": [
       "1-element Array{Int64,1}:\n",
       " 1"
      ]
     },
     "execution_count": 7,
     "metadata": {},
     "output_type": "execute_result"
    }
   ],
   "source": [
    "workers()"
   ]
  },
  {
   "cell_type": "code",
   "execution_count": 5,
   "metadata": {
    "collapsed": false,
    "scrolled": true
   },
   "outputs": [
    {
     "data": {
      "text/plain": [
       "([-7.75122e-6,-4.63109e-9,1.87264e-7,2.13588e-7,2.25849e-7,1.0646e-7,3.61966e-8,2.37234e-7,-2.44852e-9,-5.93067e-8  …  0.408612,0.295896,0.417572,-17.4254,7.2732e-6,1.91838e-5,5.06901e-5,0.000135788,0.000404556,0.0147062],4.252047354025929)"
      ]
     },
     "execution_count": 5,
     "metadata": {},
     "output_type": "execute_result"
    }
   ],
   "source": [
    "analyze_line(1,globals)"
   ]
  },
  {
   "cell_type": "markdown",
   "metadata": {},
   "source": [
    "## Winning approach\n",
    "\n",
    "I tried the `pmap` approach and found it rather awkward. It was difficult to distribute \"global\" variables. I kept getting \"x is undefined\" kinds of messages. So I went back to the parallel for loop.\n",
    "\n"
   ]
  }
 ],
 "metadata": {
  "kernelspec": {
   "display_name": "Julia",
   "language": "julia",
   "name": "julia"
  },
  "language_info": {
   "name": "julia",
   "version": "0.3.10"
  }
 },
 "nbformat": 4,
 "nbformat_minor": 0
}
