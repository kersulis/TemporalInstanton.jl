{
 "cells": [
  {
   "cell_type": "markdown",
   "metadata": {},
   "source": [
    "# Validating approximate thermal model\n",
    "\n",
    "To validate the thermal model I finished deriving yesterday, I would like to compare it with the IEEE 738 standard calculation. This is a coding exercise."
   ]
  },
  {
   "cell_type": "markdown",
   "metadata": {},
   "source": [
    "## Summary of line temperature constraint\n",
    "\n",
    "Suppose our time horizon consists of $n$ intervals, each on the order of ten minutes long. Power flow data is updated after each interval, but all other parameters remain constant. We choose a single transmission line in the network, the line between nodes $i$ and $j$. This line has a thermal limit of $T_\\text{lim}$ degrees Celsius.\n",
    "\n",
    "\\begin{align}\n",
    "T(t_n) &= f + \\frac{c}{a}\\left[ \\sum_{i=1}^n \\left( (e^{(t_1-t_0)a})^i - (e^{(t_1-t_0)a})^{i-1} \\right)\\theta_{ij}(t_{n-i+1})^2\\right]\n",
    "\\end{align}\n",
    "\n",
    "where\n",
    "\n",
    "* $\\hat{\\theta}_{ij}(t_{k})=  \\theta_{ij}(t_k)\\sqrt{ (e^{(t_1-t_0)a})^{n-k+1} - (e^{(t_1-t_0)a})^{n-k} } $\n",
    "    * $\\theta_{ij}(t_k)$ is the angle difference across line $ij$ at time interval $t_k$.\n",
    "    * $t_1-t_0$ is the length of each time interval (in seconds)\n",
    "* $a = \\frac{1}{mC_p}\\left[ -\\eta_c - 4\\eta_r(T_\\text{mid} + 273)^3 \\right]$ has units of $s^{-1}$\n",
    "    * $mC_p$ is the heat capacity, with units of J/m-$^\\circ$C\n",
    "    * $\\eta_c$ is the conductive heat loss rate coefficient, with units of W/m-$^\\circ$C\n",
    "    * $\\eta_r$ is the conductive heat loss rate coefficient, with units of W/m-$^\\circ$C$^4$\n",
    "    * $T_\\text{mid}$ is the average of ambient temperature $T_\\text{amb}$ and limit temperature $T_\\text{lim}$, in Celsius\n",
    "* $c = \\frac{r_{ij}S_b}{3 mC_p x_{ij}^2L_{ij}}$ is a constant with units of W/m\n",
    "    * $r_{ij}$ is resistance of line $ij$ in per unit\n",
    "    * $x_{ij}$ is reactance of line $ij$ in per unit\n",
    "    * $S_b$ is the system base (e.g. 100 MVA)\n",
    "    * $L_{ij}$ is the length of one phase of line $ij$, in m\n",
    "* $f = (e^{(t_1 - t_0)a})^n T(t_0) + \\frac{d}{a}\\left[ \\sum_{i=1}^n \\left( (e^{(t_1-t_0)a})^i - (e^{(t_1-t_0)a})^{i-1} \\right)\\right]$ is a constant with units of degrees Celsius\n",
    "    * $T(t_0)$ is the line's initial temperature (steady state temperature under base case power flow condition)\n",
    "    * $d = \\frac{1}{mC_p}\\left[ \\eta_cT_\\text{amb} - \\eta_r\\left((T_\\text{mid} + 273)^4 - (T_\\text{amb} + 273)^4\\right) + 4\\eta_rT_\\text{mid}(T_\\text{mid} + 273)^3 + q_s \\right]$ \n",
    "    \n",
    "    is a constant with units of W/m\n",
    "        * $q_s$ is the solar heat gain rate in W/m"
   ]
  },
  {
   "cell_type": "code",
   "execution_count": 6,
   "metadata": {
    "collapsed": false
   },
   "outputs": [
    {
     "data": {
      "text/plain": [
       "compute_T (generic function with 1 method)"
      ]
     },
     "execution_count": 6,
     "metadata": {},
     "output_type": "execute_result"
    }
   ],
   "source": [
    "function compute_a(mCp,ηc,ηr,Tamb,Tlim)\n",
    "    \"\"\" Returns constant a [1/s]\n",
    "    mCp [J/m-C] is line heat capacity\n",
    "    ηc [W/m-C] is conductive heat loss rate coefficient\n",
    "    ηr [W/m-C^4] is radiative heat loss rate coefficient\n",
    "    Tamb [C] is ambient temperature (of air)\n",
    "    Tlim [C] is highest allowable line temperature\n",
    "    \"\"\"\n",
    "    Tmid = (Tamb + Tlim)/2\n",
    "    return mCp\\(-ηc - 4*ηr*(Tmid + 273)^3)\n",
    "end\n",
    "\n",
    "function compute_c(mCp,r,x,Sb,L)\n",
    "    \"\"\" Return constant c [W/m]\n",
    "    mCp [J/m-C] is line heat capacity\n",
    "    r [pu] is line resistance\n",
    "    x [pu] is line reactance\n",
    "    Sb [W] is system base MVA\n",
    "    L [m] is line length\n",
    "    \"\"\"\n",
    "    return r*Sb/(3*mCp*L*x^2)\n",
    "end\n",
    "\n",
    "function compute_d(mCp,ηc,ηr,Tamb,Tlim,q_solar)\n",
    "    \"\"\" Returns constant d [W/m]\n",
    "    mCp [J/m-C] is line heat capacity\n",
    "    ηc [W/m-C] is conductive heat loss rate coefficient\n",
    "    ηr [W/m-C^4] is radiative heat loss rate coefficient\n",
    "    Tamb [C] is ambient temperature (of air)\n",
    "    Tlim [C] is highest allowable line temperature\n",
    "    q_solar [W/m] is the solar heat gain rate\n",
    "    \"\"\"\n",
    "    Tmid = (Tamb + Tlim)/2\n",
    "    return mCp\\(ηc*Tamb - ηr*((Tmid + 273)^4 - (Tamb + 273)^4) + 4*ηr*Tmid*(Tmid+273)^3 + q_solar)\n",
    "end\n",
    "\n",
    "function compute_f(int_length,a,d,n,T0)\n",
    "    \"\"\" Returns constant f\n",
    "    int_length [s] is length of each interval\n",
    "    a [1/s] is a constant\n",
    "    d [W/m] is a constant\n",
    "    n [-] is the number of time intervals\n",
    "    T0 [C] is the initial steady-state line temp\n",
    "    \"\"\"\n",
    "    sum_coeff = sum([(e^(int_length*a))^i - (e^(int_length*a))^(i-1) for i in 1:n])\n",
    "    return (e^(int_length*a))^n*T0 + (d/a)*sum_coeff\n",
    "end\n",
    "\n",
    "function compute_T(int_length,a,c,f,n,θij)\n",
    "    \"\"\" Return line's final temperature\n",
    "    int_length [s] is length of each interval\n",
    "    a [1/s] is a constant\n",
    "    c [W/m] is a constant\n",
    "    f [C] is a constant\n",
    "    n [-] is the number of time intervals\n",
    "    θij [rad] is the vector of angle differences (sorted by time interval)\n",
    "    \"\"\"\n",
    "    angle_coeffs = [(e^(int_length*a))^i - (e^(int_length*a))^(i-1) for i in 1:n]\n",
    "    return f + (c/a)*dot(angle_coeffs,flipud(θij).^2)\n",
    "end"
   ]
  },
  {
   "cell_type": "markdown",
   "metadata": {},
   "source": [
    "# The functions above reproduce numerical results from yesterday\n",
    "\n",
    "Using the same input data, I will compare the new formulation to the one I derived two days ago. If my derivation is correct, the final temperatures computed by the two sets of equations should match (the two formulations are equivalent).\n",
    "\n",
    "The following code performs this validation. Vary angle differences across three time intervals to repeat the calculations, and note that the two values always match. This means I can switch over from the older formulation (in which angle differences were buried) to the new formulation (where angle differences are exposed). The new formulation is ready to be used in our optimization framework."
   ]
  },
  {
   "cell_type": "code",
   "execution_count": 1,
   "metadata": {
    "collapsed": false
   },
   "outputs": [
    {
     "data": {
      "text/html": [
       "<script charset=\"utf-8\">(function ($, undefined) {\n",
       "\n",
       "    function createElem(tag, attr, content) {\n",
       "\t// TODO: remove jQuery dependency\n",
       "\tvar el = $(\"<\" + tag + \"/>\").attr(attr);\n",
       "\tif (content) {\n",
       "\t    el.append(content);\n",
       "\t}\n",
       "\treturn el[0];\n",
       "    }\n",
       "\n",
       "    // A widget must expose an id field which identifies it to the backend,\n",
       "    // an elem attribute which is will be added to the DOM, and\n",
       "    // a getState() method which returns the value to be sent to the backend\n",
       "    // a sendUpdate() method which sends its current value to the backend\n",
       "    var Widget = {\n",
       "\tid: undefined,\n",
       "\telem: undefined,\n",
       "\tlabel: undefined,\n",
       "\tgetState: function () {\n",
       "\t    return this.elem.value;\n",
       "\t},\n",
       "\tsendUpdate: undefined\n",
       "    };\n",
       "\n",
       "    var Slider = function (typ, id, init) {\n",
       "\tvar attr = { type:  \"range\",\n",
       "\t\t     value: init.value,\n",
       "\t\t     min:   init.min,\n",
       "\t\t     max:   init.max,\n",
       "\t\t     step:  init.step },\n",
       "\t    elem = createElem(\"input\", attr),\n",
       "\t    self = this;\n",
       "\n",
       "\telem.onchange = function () {\n",
       "\t    self.sendUpdate();\n",
       "\t}\n",
       "\n",
       "\tthis.id = id;\n",
       "\tthis.elem = elem;\n",
       "\tthis.label = init.label;\n",
       "\n",
       "\tInputWidgets.commInitializer(this); // Initialize communication\n",
       "    }\n",
       "    Slider.prototype = Widget;\n",
       "\n",
       "    var Checkbox = function (typ, id, init) {\n",
       "\tvar attr = { type: \"checkbox\",\n",
       "\t\t     checked: init.value },\n",
       "\t    elem = createElem(\"input\", attr),\n",
       "\t    self = this;\n",
       "\n",
       "\tthis.getState = function () {\n",
       "\t    return elem.checked;\n",
       "\t}\n",
       "\telem.onchange = function () {\n",
       "\t    self.sendUpdate();\n",
       "\t}\n",
       "\n",
       "\tthis.id = id;\n",
       "\tthis.elem = elem;\n",
       "\tthis.label = init.label;\n",
       "\n",
       "\tInputWidgets.commInitializer(this);\n",
       "    }\n",
       "    Checkbox.prototype = Widget;\n",
       "\n",
       "    var Button = function (typ, id, init) {\n",
       "\tvar attr = { type:    \"button\",\n",
       "\t\t     value:   init.label },\n",
       "\t    elem = createElem(\"input\", attr),\n",
       "\t    self = this;\n",
       "\tthis.getState = function () {\n",
       "\t    return null;\n",
       "\t}\n",
       "\telem.onclick = function () {\n",
       "\t    self.sendUpdate();\n",
       "\t}\n",
       "\n",
       "\tthis.id = id;\n",
       "\tthis.elem = elem;\n",
       "\tthis.label = init.label;\n",
       "\n",
       "\tInputWidgets.commInitializer(this);\n",
       "    }\n",
       "    Button.prototype = Widget;\n",
       "\n",
       "    var Text = function (typ, id, init) {\n",
       "\tvar attr = { type:  \"text\",\n",
       "\t\t     placeholder: init.label,\n",
       "\t\t     value: init.value },\n",
       "\t    elem = createElem(\"input\", attr),\n",
       "\t    self = this;\n",
       "\tthis.getState = function () {\n",
       "\t    return elem.value;\n",
       "\t}\n",
       "\telem.onkeyup = function () {\n",
       "\t    self.sendUpdate();\n",
       "\t}\n",
       "\n",
       "\tthis.id = id;\n",
       "\tthis.elem = elem;\n",
       "\tthis.label = init.label;\n",
       "\n",
       "\tInputWidgets.commInitializer(this);\n",
       "    }\n",
       "    Text.prototype = Widget;\n",
       "\n",
       "    var Textarea = function (typ, id, init) {\n",
       "\tvar attr = { placeholder: init.label },\n",
       "\t    elem = createElem(\"textarea\", attr, init.value),\n",
       "\t    self = this;\n",
       "\tthis.getState = function () {\n",
       "\t    return elem.value;\n",
       "\t}\n",
       "\telem.onchange = function () {\n",
       "\t    self.sendUpdate();\n",
       "\t}\n",
       "\n",
       "\tthis.id = id;\n",
       "\tthis.elem = elem;\n",
       "\tthis.label = init.label;\n",
       "\n",
       "\tInputWidgets.commInitializer(this);\n",
       "    }\n",
       "    Textarea.prototype = Widget;\n",
       "\n",
       "    // RadioButtons\n",
       "    // Dropdown\n",
       "    // HTML\n",
       "    // Latex\n",
       "\n",
       "    var InputWidgets = {\n",
       "\tSlider: Slider,\n",
       "\tCheckbox: Checkbox,\n",
       "\tButton: Button,\n",
       "\tText: Text,\n",
       "\tTextarea: Textarea,\n",
       "\tdebug: false,\n",
       "\tlog: function () {\n",
       "\t    if (InputWidgets.debug) {\n",
       "\t\tconsole.log.apply(console, arguments);\n",
       "\t    }\n",
       "\t},\n",
       "\t// a central way to initalize communication\n",
       "\t// for widgets.\n",
       "\tcommInitializer: function (widget) {\n",
       "\t    widget.sendUpdate = function () {};\n",
       "\t}\n",
       "    };\n",
       "\n",
       "    window.InputWidgets = InputWidgets;\n",
       "\n",
       "})(jQuery, undefined);\n",
       "</script>"
      ]
     },
     "metadata": {},
     "output_type": "display_data"
    },
    {
     "data": {
      "text/html": [
       "<script charset=\"utf-8\">(function (IPython, $, _, MathJax, Widgets) {\n",
       "    $.event.special.destroyed = {\n",
       "\tremove: function(o) {\n",
       "\t    if (o.handler) {\n",
       "\t\to.handler.apply(this, arguments)\n",
       "\t    }\n",
       "\t}\n",
       "    }\n",
       "\n",
       "    var redrawValue = function (container, type, val) {\n",
       "\tvar selector = $(\"<div/>\");\n",
       "\tvar oa = new IPython.OutputArea(_.extend(selector, {\n",
       "\t    selector: selector,\n",
       "\t    prompt_area: true,\n",
       "\t    events: IPython.events,\n",
       "\t    keyboard_manager: IPython.keyboard_manager\n",
       "\t})); // Hack to work with IPython 2.1.0\n",
       "\n",
       "\tswitch (type) {\n",
       "\tcase \"image/png\":\n",
       "            var _src = 'data:' + type + ';base64,' + val;\n",
       "\t    $(container).find(\"img\").attr('src', _src);\n",
       "\t    break;\n",
       "\tdefault:\n",
       "\t    var toinsert = IPython.OutputArea.append_map[type].apply(\n",
       "\t\toa, [val, {}, selector]\n",
       "\t    );\n",
       "\t    $(container).empty().append(toinsert.contents());\n",
       "\t    selector.remove();\n",
       "\t}\n",
       "\tif (type === \"text/latex\" && MathJax) {\n",
       "\t    MathJax.Hub.Queue([\"Typeset\", MathJax.Hub, toinsert.get(0)]);\n",
       "\t}\n",
       "    }\n",
       "\n",
       "\n",
       "    $(document).ready(function() {\n",
       "\tWidgets.debug = false; // log messages etc in console.\n",
       "\tfunction initComm(evt, data) {\n",
       "\t    var comm_manager = data.kernel.comm_manager;\n",
       "        //_.extend(comm_manager.targets, require(\"widgets/js/widget\"))\n",
       "\t    comm_manager.register_target(\"Signal\", function (comm) {\n",
       "            comm.on_msg(function (msg) {\n",
       "                //Widgets.log(\"message received\", msg);\n",
       "                var val = msg.content.data.value;\n",
       "                $(\".signal-\" + comm.comm_id).each(function() {\n",
       "                var type = $(this).data(\"type\");\n",
       "                if (val[type]) {\n",
       "                    redrawValue(this, type, val[type], type);\n",
       "                }\n",
       "                });\n",
       "                delete val;\n",
       "                delete msg.content.data.value;\n",
       "            });\n",
       "\t    });\n",
       "\n",
       "\t    // coordingate with Comm and redraw Signals\n",
       "\t    // XXX: Test using Reactive here to improve performance\n",
       "\t    $([IPython.events]).on(\n",
       "\t\t'output_appended.OutputArea', function (event, type, value, md, toinsert) {\n",
       "\t\t    if (md && md.reactive) {\n",
       "                // console.log(md.comm_id);\n",
       "                toinsert.addClass(\"signal-\" + md.comm_id);\n",
       "                toinsert.data(\"type\", type);\n",
       "                // Signal back indicating the mimetype required\n",
       "                var comm_manager = IPython.notebook.kernel.comm_manager;\n",
       "                var comm = comm_manager.comms[md.comm_id];\n",
       "                comm.then(function (c) {\n",
       "                    c.send({action: \"subscribe_mime\",\n",
       "                       mime: type});\n",
       "                    toinsert.bind(\"destroyed\", function() {\n",
       "                        c.send({action: \"unsubscribe_mime\",\n",
       "                               mime: type});\n",
       "                    });\n",
       "                })\n",
       "\t\t    }\n",
       "\t    });\n",
       "\t}\n",
       "\n",
       "\ttry {\n",
       "\t    // try to initialize right away. otherwise, wait on the status_started event.\n",
       "\t    initComm(undefined, IPython.notebook);\n",
       "\t} catch (e) {\n",
       "\t    $([IPython.events]).on('status_started.Kernel', initComm);\n",
       "\t}\n",
       "    });\n",
       "})(IPython, jQuery, _, MathJax, InputWidgets);\n",
       "</script>"
      ]
     },
     "metadata": {},
     "output_type": "display_data"
    },
    {
     "name": "stderr",
     "output_type": "stream",
     "text": [
      "INFO: Loading help data...\n"
     ]
    }
   ],
   "source": [
    "using Interact\n",
    "using PyPlot"
   ]
  },
  {
   "cell_type": "code",
   "execution_count": 2,
   "metadata": {
    "collapsed": false
   },
   "outputs": [
    {
     "data": {
      "text/plain": [
       "600.0"
      ]
     },
     "execution_count": 2,
     "metadata": {},
     "output_type": "execute_result"
    }
   ],
   "source": [
    "# Input data comes from Waxwing conductors on RTS-96 network:\n",
    "Tamb = 35. # C\n",
    "Tlim = 65. # C\n",
    "Tmid = (Tamb + Tlim)/2 # C\n",
    "T0 = 46. # initial line steady-state temp\n",
    "ηc = 0.955 # W/m-C\n",
    "ηr = 2.207e-9 # W/m-C^4\n",
    "mCp = 383. # J/m-C\n",
    "r_ij = 0.03 # pu (typical value)\n",
    "x_ij = 0.1 # pu (typical value)\n",
    "qs = 14.4 # W/m\n",
    "L_ij = 50e3 # 50 km line\n",
    "Sb = 100e6 # 100 MVA base\n",
    "time_intervals = 3 # thirty minutes\n",
    "time_values = 0:60:600 # ten minutes in 1-min steps\n",
    "int_length = 600. # seconds"
   ]
  },
  {
   "cell_type": "code",
   "execution_count": 7,
   "metadata": {
    "collapsed": false
   },
   "outputs": [
    {
     "data": {
      "text/plain": [
       "46.7467589264431"
      ]
     },
     "execution_count": 7,
     "metadata": {},
     "output_type": "execute_result"
    }
   ],
   "source": [
    "# Compute constants used in new formulation:\n",
    "a = compute_a(mCp,ηc,ηr,Tamb,Tlim)\n",
    "c = compute_c(mCp,r_ij,x_ij,Sb,L_ij)\n",
    "d = compute_d(mCp,ηc,ηr,Tamb,Tlim,qs)\n",
    "f = compute_f(int_length,a,d,time_intervals,T0)"
   ]
  },
  {
   "cell_type": "code",
   "execution_count": 22,
   "metadata": {
    "collapsed": false
   },
   "outputs": [
    {
     "data": {
      "text/html": [],
      "text/plain": [
       "Slider{Float64}([Input{Float64}] 0.07,\"θij1\",0.07,0.0:0.01:0.15)"
      ]
     },
     "metadata": {},
     "output_type": "display_data"
    },
    {
     "data": {
      "text/html": [],
      "text/plain": [
       "Slider{Float64}([Input{Float64}] 0.07,\"θij2\",0.07,0.0:0.01:0.15)"
      ]
     },
     "metadata": {},
     "output_type": "display_data"
    },
    {
     "data": {
      "text/html": [],
      "text/plain": [
       "Slider{Float64}([Input{Float64}] 0.07,\"θij3\",0.07,0.0:0.01:0.15)"
      ]
     },
     "metadata": {},
     "output_type": "display_data"
    },
    {
     "data": {
      "text/plain": [
       "2-element Array{Float64,1}:\n",
       " 54.5383\n",
       " 54.5383"
      ]
     },
     "execution_count": 22,
     "metadata": {
      "comm_id": "68d07735-7df8-487b-a8f8-0de525596b6a",
      "reactive": true
     },
     "output_type": "execute_result"
    }
   ],
   "source": [
    "# Use sliders to vary angle differences corresponding to three time intervals.\n",
    "# The code will compute final line temperature using two different sets of equations.\n",
    "# Regardless of slider positions, the two numbers match.\n",
    "# This verifies that the two formulations are equivalent, as desired.\n",
    "@manipulate for θij1 in 0:0.01:0.15, θij2 in 0:0.01:0.15, θij3 in 0:0.01:0.15\n",
    "    # Compute final temperature with new method:\n",
    "    θij_vals = [θij1,θij2,θij3]\n",
    "    Tfinal1 = compute_T(int_length,a,c,f,time_intervals,θij_vals)\n",
    "    \n",
    "    # Compute final temperature with old method:\n",
    "    angle_diffs = [θij1,θij2,θij3]\n",
    "    f_loss_pu_values = [r_ij*(θij/x_ij)^2 for θij in angle_diffs] # pu\n",
    "    f_loss_si_values = f_loss_pu_values.*Sb/(3*L_ij) # W/m\n",
    "    b_values = [mCp\\( f_loss_si + ηc*Tamb - ηr*((Tmid + 273)^4 - (Tamb+273)^4) + 4*ηr*Tmid*(Tmid + 273)^3 + qs ) for f_loss_si in f_loss_si_values]\n",
    "    Tfinal2 = exp(600*a)^3*(T0 + b_values[1]/a) + exp(600*a)^2*(-b_values[1]/a + b_values[2]/a) + exp(600*a)*(-b_values[2]/a + b_values[3]/a) - b_values[3]/a\n",
    "    \n",
    "    # Compare results of the two calculations:\n",
    "    [Tfinal1,Tfinal2]\n",
    "    end"
   ]
  },
  {
   "cell_type": "markdown",
   "metadata": {},
   "source": [
    "# Comparison with IEEE 738 thermal model\n",
    "\n",
    "There is one last check that must be performed before I can confidently use the approximate thermal model. I need to compare it numerically to the IEEE 738 thermal model. If the two models compute similar temperatures, I will begin using the approximate thermal model in the temporal instanton framework."
   ]
  },
  {
   "cell_type": "markdown",
   "metadata": {},
   "source": [
    "## Summary of IEEE 738 temperature calculation\n",
    "\n",
    "IEEE recommends integrating the following heat balance equation to compute changes in line temperature:\n",
    "\n",
    "\\begin{align}\n",
    "\\frac{dT_\\text{avg}}{dt} &= \\frac{1}{mC_p}\\left(I^2R(T_\\text{avg}) - q_c - q_r + q_s\\right)\n",
    "\\end{align}\n",
    "\n",
    "Substitute the approximate DC loss expression:\n",
    "\n",
    "\\begin{align}\n",
    "\\frac{dT_\\text{avg}}{dt} &= \\frac{1}{mC_p}\\left( r_{ij}\\frac{\\theta_{ij}^2}{x_{ij}^2}\\frac{S_b}{3L_{ij}} - q_c - q_r + q_s\\right)\n",
    "\\end{align}\n",
    "\n",
    "Heat rates $q_c$ and $q_r$ are calculated as follows:\n",
    "\n",
    "\\begin{align}\n",
    "q_c &= \\eta_c\\cdot(T - T_\\text{amb}) \\\\\n",
    "q_r &= \\eta_r\\cdot((T + 273)^4 - (T_\\text{amb} + 273)^4)\n",
    "\\end{align}"
   ]
  },
  {
   "cell_type": "markdown",
   "metadata": {},
   "source": [
    "The angle difference $\\theta_{ij}$ is fixed every ten minutes. Within each ten-minute period, we use Euler integration with a time step of one minute to compute the temperature change. The final temperature of each ten-minute interval becomes the initial temperature of the next."
   ]
  },
  {
   "cell_type": "code",
   "execution_count": null,
   "metadata": {
    "collapsed": true
   },
   "outputs": [],
   "source": [
    "# Input data comes from Waxwing conductors on RTS-96 network:\n",
    "Tamb = 35. # C\n",
    "Tlim = 65. # C\n",
    "Tmid = (Tamb + Tlim)/2 # C\n",
    "T0 = 46. # initial line steady-state temp\n",
    "ηc = 0.955 # W/m-C\n",
    "ηr = 2.207e-9 # W/m-C^4\n",
    "mCp = 383. # J/m-C\n",
    "r_ij = 0.03 # pu (typical value)\n",
    "x_ij = 0.1 # pu (typical value)\n",
    "qs = 14.4 # W/m\n",
    "L_ij = 50e3 # 50 km line\n",
    "Sb = 100e6 # 100 MVA base\n",
    "time_intervals = 3 # thirty minutes\n",
    "time_values = 0:60:600 # ten minutes in 1-min steps\n",
    "int_length = 600. # seconds"
   ]
  },
  {
   "cell_type": "code",
   "execution_count": 10,
   "metadata": {
    "collapsed": false
   },
   "outputs": [
    {
     "data": {
      "text/plain": [
       "rad_rate_approx (generic function with 1 method)"
      ]
     },
     "execution_count": 10,
     "metadata": {},
     "output_type": "execute_result"
    }
   ],
   "source": [
    "function compute_q_c(T,Tamb,ηc)\n",
    "    return ηc*(T - Tamb)\n",
    "end\n",
    "\n",
    "function compute_q_r(T,Tamb,ηr)\n",
    "    return ηr*((T + 273).^4 - (Tamb + 273)^4)\n",
    "end\n",
    "\n",
    "function compute_delta_T(mCp,θij,r,x,Sb,L,q_c,q_r,q_s)\n",
    "    f_loss_si = r*(θij/x)^2*(Sb/(3*L))\n",
    "    return mCp\\(f_loss_si - q_c - q_r + q_s)\n",
    "end\n",
    "\n",
    "function rad_rate_approx(T,Tamb,Tlim,ηr)\n",
    "    Tmid = (Tamb + Tlim)/2\n",
    "    return ηr*((Tmid + 273).^4 - (Tamb + 273).^4) + (4*ηr*(Tmid + 273).^3)*(T - Tmid)\n",
    "end"
   ]
  },
  {
   "cell_type": "code",
   "execution_count": 65,
   "metadata": {
    "collapsed": false,
    "scrolled": false
   },
   "outputs": [
    {
     "data": {
      "text/html": [],
      "text/plain": [
       "Slider{Float64}([Input{Float64}] 0.07,\"θij1\",0.07,0.0:0.01:0.15)"
      ]
     },
     "metadata": {},
     "output_type": "display_data"
    },
    {
     "data": {
      "text/html": [],
      "text/plain": [
       "Slider{Float64}([Input{Float64}] 0.07,\"θij2\",0.07,0.0:0.01:0.15)"
      ]
     },
     "metadata": {},
     "output_type": "display_data"
    },
    {
     "data": {
      "text/html": [],
      "text/plain": [
       "Slider{Float64}([Input{Float64}] 0.07,\"θij3\",0.07,0.0:0.01:0.15)"
      ]
     },
     "metadata": {},
     "output_type": "display_data"
    },
    {
     "data": {
      "image/png": "[encoded data removed]",
      "text/plain": [
       "Figure(PyObject <matplotlib.figure.Figure object at 0x7f2e629aa8d0>)"
      ]
     },
     "execution_count": 65,
     "metadata": {
      "comm_id": "04ac180c-e15b-4038-9bc8-f48f6cb5e09a",
      "reactive": true
     },
     "output_type": "execute_result"
    }
   ],
   "source": [
    "T_approx(t,T0,a,b) = (T0 + b/a).*exp(a*t) - b/a # solution to approx. heat balance IVP\n",
    "\n",
    "# Use sliders to vary angle differences corresponding to three time intervals.\n",
    "# The code will compute final line temperature using two different sets of equations.\n",
    "# Regardless of slider positions, the two numbers match.\n",
    "# This verifies that the two formulations are equivalent, as desired.\n",
    "fig = figure(figsize=(11,5))\n",
    "@manipulate for θij1 in 0:0.01:0.15, θij2 in 0:0.01:0.15, θij3 in 0:0.01:0.15; withfig(fig) do\n",
    "        # Compute final temperature with new method:\n",
    "        θij_vals = [θij1,θij2,θij3]\n",
    "        Tfinal1 = compute_T(int_length,a,c,f,time_intervals,θij_vals)\n",
    "\n",
    "        # Compute temperature with IEEE 738 standard\n",
    "        T738 = [T0]\n",
    "        for int in 1:time_intervals\n",
    "            for t in 1:10\n",
    "                T = T738[end]\n",
    "                q_c = compute_q_c(T,Tamb,ηc)\n",
    "                q_r = compute_q_r(T,Tamb,ηr)\n",
    "\n",
    "                delta_T = compute_delta_T(mCp,θij_vals[int],r_ij,x_ij,Sb,L_ij,q_c,q_r,qs)\n",
    "                T738 = [T738,T738[end] + 60*delta_T] # delta_T constant for 60 seconds\n",
    "            end\n",
    "        end\n",
    "        \n",
    "        Tapprox = [T0]\n",
    "        T_0 = T0\n",
    "        for θij in θij_vals\n",
    "            f_loss_pu = r_ij*(θij/x_ij)^2 # pu\n",
    "            f_loss_si = f_loss_pu*Sb/(3*L_ij) # W/m\n",
    "            b = mCp\\( f_loss_si + ηc*Tamb - ηr*((Tmid + 273)^4 - (Tamb+273)^4) + 4*ηr*Tmid*(Tmid + 273)^3 + qs )\n",
    "            Tapprox = [Tapprox,T_approx(time_values,T_0,a,b)[2:end]]\n",
    "            T_0 = Tapprox[end]\n",
    "        end\n",
    "\n",
    "        # Compare results of the two calculations:\n",
    "        #[Tfinal1,T738[end]]\n",
    "        subplot(121)\n",
    "        plot(T738)\n",
    "        hold=true\n",
    "        plot(Tapprox)\n",
    "        scatter([30],[Tfinal1],c=\"green\")\n",
    "        legend([\"IEEE 738, dt=1min\",\"Linear q_r, dt=1min\",\"Temp. constraint\"],loc=2,fontsize=9)\n",
    "        axis([0,30,Tamb,Tlim*1.25])\n",
    "        xlabel(\"Time (min)\")\n",
    "        ylabel(\"Line temperature (C)\")\n",
    "        \n",
    "        # Difference is due to radiative heat loss rate\n",
    "        q_rad_738 = compute_q_r(T738,Tamb,ηr)\n",
    "        q_rad_approx = rad_rate_approx(Tapprox,Tamb,Tlim,ηr)\n",
    "        # fig2 = figure()\n",
    "        subplot(122)\n",
    "        plot(q_rad_738)\n",
    "        hold=true\n",
    "        plot(-compute_q_c(T738,Tamb,ηc) - q_rad_738,\"b--\")\n",
    "        plot(q_rad_approx)\n",
    "        plot(-compute_q_c(Tapprox,Tamb,ηc) - q_rad_approx,\"g--\")\n",
    "        legend([\"IEEE 738 q_r\",\"Approx. q_r\"],loc=2,fontsize=9)\n",
    "        xlabel(\"Time (min)\")\n",
    "        ylabel(\"Heat rate (W/m)\")\n",
    "    end\n",
    "end"
   ]
  },
  {
   "cell_type": "markdown",
   "metadata": {},
   "source": [
    "My approximate model is slower to heat up and slower to cool off. There are two differences between the models:\n",
    "\n",
    "* my model uses a linear approximation for radiative heat loss rate.\n",
    "* my model uses the analytic solution of an IVP rather than numerical integration\n",
    "\n",
    "Because my model was designed to be conservative, the line temperature should be consistently higher. It is possible, however, to obtain higher temperatures from the IEEE 738 model than with mine. I believe this is due to the time step used with the 738 model. To test this hypothesis, I will use a significantly smaller time step for numerical integration."
   ]
  },
  {
   "cell_type": "code",
   "execution_count": 17,
   "metadata": {
    "collapsed": false,
    "scrolled": false
   },
   "outputs": [
    {
     "data": {
      "text/html": [],
      "text/plain": [
       "Slider{Float64}([Input{Float64}] 0.07,\"θij1\",0.07,0.0:0.01:0.15)"
      ]
     },
     "metadata": {},
     "output_type": "display_data"
    },
    {
     "data": {
      "text/html": [],
      "text/plain": [
       "Slider{Float64}([Input{Float64}] 0.07,\"θij2\",0.07,0.0:0.01:0.15)"
      ]
     },
     "metadata": {},
     "output_type": "display_data"
    },
    {
     "data": {
      "text/html": [],
      "text/plain": [
       "Slider{Float64}([Input{Float64}] 0.07,\"θij3\",0.07,0.0:0.01:0.15)"
      ]
     },
     "metadata": {},
     "output_type": "display_data"
    },
    {
     "data": {
      "image/png": "[encoded data removed]",
      "text/plain": [
       "Figure(PyObject <matplotlib.figure.Figure object at 0x7f4106775810>)"
      ]
     },
     "execution_count": 17,
     "metadata": {
      "comm_id": "5df3b3e3-df36-4bcf-83e3-2dcae27c10ee",
      "reactive": true
     },
     "output_type": "execute_result"
    }
   ],
   "source": [
    "T_approx(t,T0,a,b) = (T0 + b/a).*exp(a*t) - b/a # solution to approx. heat balance IVP\n",
    "T0 = 46.5\n",
    "# Use sliders to vary angle differences corresponding to three time intervals.\n",
    "# The code will compute final line temperature using two different sets of equations.\n",
    "# Regardless of slider positions, the two numbers match.\n",
    "# This verifies that the two formulations are equivalent, as desired.\n",
    "fig = figure(figsize=(11,5))\n",
    "@manipulate for θij1 in 0:0.01:0.15, θij2 in 0:0.01:0.15, θij3 in 0:0.01:0.15; withfig(fig) do\n",
    "        # Compute final temperature with new method:\n",
    "        θij_vals = [θij1,θij2,θij3]\n",
    "        Tfinal1 = compute_T(int_length,a,c,f,time_intervals,θij_vals)\n",
    "\n",
    "        # Compute temperature with IEEE 738 standard\n",
    "        T738 = [T0]\n",
    "        for int in 1:time_intervals\n",
    "            for t in 1:10 # for each minute\n",
    "                inter_temp = T738[end]\n",
    "                for s in 1:60 # integrate with 1 second time step\n",
    "                    q_c = compute_q_c(inter_temp,Tamb,ηc)\n",
    "                    q_r = compute_q_r(inter_temp,Tamb,ηr)\n",
    "                    delta_T = compute_delta_T(mCp,θij_vals[int],r_ij,x_ij,Sb,L_ij,q_c,q_r,qs)\n",
    "                    inter_temp += delta_T\n",
    "                end\n",
    "                T738 = [T738,inter_temp]\n",
    "            end\n",
    "        end\n",
    "        \n",
    "        Tapprox = [T0]\n",
    "        T_0 = T0\n",
    "        for θij in θij_vals\n",
    "            f_loss_pu = r_ij*(θij/x_ij)^2 # pu\n",
    "            f_loss_si = f_loss_pu*Sb/(3*L_ij) # W/m\n",
    "            b = mCp\\( f_loss_si + ηc*Tamb - ηr*((Tmid + 273)^4 - (Tamb+273)^4) + 4*ηr*Tmid*(Tmid + 273)^3 + qs )\n",
    "            Tapprox = [Tapprox,T_approx(time_values,T_0,a,b)[2:end]]\n",
    "            T_0 = Tapprox[end]\n",
    "        end\n",
    "\n",
    "        # Compare results of the two calculations:\n",
    "        # subplot(121)\n",
    "        plot(T738)\n",
    "        hold=true\n",
    "        plot(Tapprox)\n",
    "        scatter([30],[Tfinal1],c=\"green\")\n",
    "        legend([\"IEEE 738, dt=1s\",\"Linear q_r\",\"Temp. constraint\"],loc=2,fontsize=9)\n",
    "        axis([0,31,Tamb,Tlim*1.25])\n",
    "        xlabel(\"Time (min)\")\n",
    "        ylabel(\"Line temperature (C)\")\n",
    "    end\n",
    "end"
   ]
  },
  {
   "cell_type": "markdown",
   "metadata": {},
   "source": [
    "My hypothesis was correct. The most important reason why my model exhibits slower heating and slower cooling is that it uses an analytic differential equation solution. When I increased the sample rate of numerical integration by a factor of 60, the gap between the two models shrank. As the above figure shows, my model is conservative.\n",
    "\n",
    "I am now comfortable using my approximate line heating model in the temporal instanton optimization framework."
   ]
  }
 ],
 "metadata": {
  "kernelspec": {
   "display_name": "Julia",
   "language": "julia",
   "name": "julia"
  },
  "language_info": {
   "name": "julia",
   "version": "0.3.7"
  }
 },
 "nbformat": 4,
 "nbformat_minor": 0
}
